{
  "nbformat": 4,
  "nbformat_minor": 0,
  "metadata": {
    "colab": {
      "provenance": [],
      "collapsed_sections": [
        "LdCVUrUbSYA1"
      ]
    },
    "kernelspec": {
      "name": "python3",
      "display_name": "Python 3"
    },
    "language_info": {
      "name": "python"
    }
  },
  "cells": [
    {
      "cell_type": "markdown",
      "source": [
        "# **Mel Frequency Cepstral Coefficents (MFCCs)**\n",
        "We follow along with this notebook: https://www.kaggle.com/code/ilyamich/mfcc-implementation-and-tutorial\n",
        "\n",
        "Here we compute the MFCCs for a subset of the Xeno Canto bird songs dataset. This gives us the high-dimensional representation of the birds songs. From there, we compute the 3D UMAP embedding to create the 3D point cloud."
      ],
      "metadata": {
        "id": "LdCVUrUbSYA1"
      }
    },
    {
      "cell_type": "code",
      "source": [
        "!pip install pydub\n",
        "!pip install psutil"
      ],
      "metadata": {
        "colab": {
          "base_uri": "https://localhost:8080/"
        },
        "id": "_xJy_lp0T4M_",
        "outputId": "219a75fd-a19d-45ff-e3d9-af8831edd83f"
      },
      "execution_count": null,
      "outputs": [
        {
          "output_type": "stream",
          "name": "stdout",
          "text": [
            "Requirement already satisfied: pydub in /usr/local/lib/python3.10/dist-packages (0.25.1)\n",
            "Requirement already satisfied: psutil in /usr/local/lib/python3.10/dist-packages (5.9.5)\n"
          ]
        }
      ]
    },
    {
      "cell_type": "code",
      "execution_count": null,
      "metadata": {
        "id": "F0S0YXMzSXT7"
      },
      "outputs": [],
      "source": [
        "import os, psutil\n",
        "import numpy as np\n",
        "import pandas as pd\n",
        "import scipy\n",
        "from scipy.io import wavfile\n",
        "import pydub\n",
        "from pydub import AudioSegment\n",
        "import scipy.fftpack as fft\n",
        "from scipy.signal import get_window\n",
        "import IPython.display as ipd\n",
        "import matplotlib.pyplot as plt\n",
        "import time\n",
        "\n",
        "%matplotlib inline"
      ]
    },
    {
      "cell_type": "code",
      "source": [
        "TRAIN_PATH = '/content/drive/MyDrive/Dataset/Audio/XenoCanto/amazonas/birds/songs/'\n",
        "pid = os.getpid()"
      ],
      "metadata": {
        "id": "-X55BGWUT0vU"
      },
      "execution_count": null,
      "outputs": []
    },
    {
      "cell_type": "code",
      "source": [
        "# do not run - just for backing up\n",
        "# %cd ..\n",
        "# %pwd"
      ],
      "metadata": {
        "id": "KY3iCPRGdR2r"
      },
      "execution_count": null,
      "outputs": []
    },
    {
      "cell_type": "code",
      "source": [
        "# save all song names to output.txt\n",
        "%ls /content/drive/MyDrive/Dataset/Audio/XenoCanto/amazonas/birds/songs | grep -vFx output.txt > output.txt"
      ],
      "metadata": {
        "id": "PMDzWeeEURVA"
      },
      "execution_count": null,
      "outputs": []
    },
    {
      "cell_type": "markdown",
      "source": [
        "## Testing with One Song!"
      ],
      "metadata": {
        "id": "Vki6iJJrYOTK"
      }
    },
    {
      "cell_type": "code",
      "source": [
        "# playing with just one song to get a sense of runtimes\n",
        "sound = AudioSegment.from_mp3(TRAIN_PATH + \"XC118422-ZIMGRA12.mp3\")\n",
        "sound.export(\"song_test.wav\", format=\"wav\")"
      ],
      "metadata": {
        "colab": {
          "base_uri": "https://localhost:8080/"
        },
        "id": "nK4JdKy_VdDZ",
        "outputId": "35ab73f3-257b-4c68-dfc5-14df2ded3d30"
      },
      "execution_count": null,
      "outputs": [
        {
          "output_type": "execute_result",
          "data": {
            "text/plain": [
              "<_io.BufferedRandom name='song_test.wav'>"
            ]
          },
          "metadata": {},
          "execution_count": 6
        }
      ]
    },
    {
      "cell_type": "code",
      "source": [
        "sample_rate, audio = wavfile.read(\"song_test.wav\")\n",
        "print(\"Sample rate: {0}Hz\".format(sample_rate))\n",
        "print(\"Audio duration: {0}s\".format(len(audio) / sample_rate))"
      ],
      "metadata": {
        "colab": {
          "base_uri": "https://localhost:8080/"
        },
        "id": "Rrytbg4ZUTVW",
        "outputId": "baad7309-4a58-4f9b-d68a-cfdcafab1b66"
      },
      "execution_count": null,
      "outputs": [
        {
          "output_type": "stream",
          "name": "stdout",
          "text": [
            "Sample rate: 44100Hz\n",
            "Audio duration: 19.90530612244898s\n"
          ]
        }
      ]
    },
    {
      "cell_type": "code",
      "source": [
        "def normalize_audio(audio):\n",
        "    audio = audio / np.max(np.abs(audio))\n",
        "    return audio"
      ],
      "metadata": {
        "id": "ea_7Le4IX01J"
      },
      "execution_count": null,
      "outputs": []
    },
    {
      "cell_type": "code",
      "source": [
        "audio = normalize_audio(audio)\n",
        "# plt.figure(figsize=(15,4))\n",
        "# plt.plot(np.linspace(0, len(audio) / sample_rate, num=len(audio)), audio)\n",
        "# plt.grid(True)"
      ],
      "metadata": {
        "id": "4rqOy0XiYIf2"
      },
      "execution_count": null,
      "outputs": []
    },
    {
      "cell_type": "code",
      "source": [
        "def frame_audio(audio, FFT_size=2048, hop_size=10, sample_rate=44100):\n",
        "    # hop_size in ms\n",
        "    #print(\"inside frame audio!\")\n",
        "\n",
        "    #print(\"audio shape\", audio.shape)\n",
        "    #print(\"FFT_size / 2\", int(FFT_size / 2))\n",
        "    audio = np.pad(audio, int(FFT_size / 2), mode='reflect')\n",
        "    #print(\"1 passed audio\")\n",
        "    frame_len = np.round(sample_rate * hop_size / 1000).astype(int)\n",
        "    #print(\"2 passed frame_len\")\n",
        "    frame_num = int((len(audio) - FFT_size) / frame_len) + 1\n",
        "    #print(\"3 passed frame_num\")\n",
        "    frames = np.zeros((frame_num,FFT_size))\n",
        "    #print(\"4 passed frames\")\n",
        "\n",
        "    #print(\"frame_num\", frame_num)\n",
        "    for n in range(frame_num):\n",
        "        frames[n] = audio[n*frame_len:n*frame_len+FFT_size]\n",
        "\n",
        "    del frame_len\n",
        "    del audio\n",
        "\n",
        "    return frames"
      ],
      "metadata": {
        "id": "Y1kK7DLDYKoi"
      },
      "execution_count": null,
      "outputs": []
    },
    {
      "cell_type": "code",
      "source": [
        "hop_size = 15 #ms\n",
        "FFT_size = 2048\n",
        "\n",
        "audio_framed = frame_audio(audio, FFT_size=FFT_size, hop_size=hop_size, sample_rate=sample_rate)\n",
        "print(\"Framed audio shape: {0}\".format(audio_framed.shape))"
      ],
      "metadata": {
        "colab": {
          "base_uri": "https://localhost:8080/"
        },
        "id": "1acaCqArYVA4",
        "outputId": "cb8e02d8-ffcc-4ec6-c232-5ff043e238b2"
      },
      "execution_count": null,
      "outputs": [
        {
          "output_type": "stream",
          "name": "stdout",
          "text": [
            "Framed audio shape: (1327, 2048)\n"
          ]
        }
      ]
    },
    {
      "cell_type": "code",
      "source": [
        "window = get_window(\"hann\", FFT_size, fftbins=True)\n",
        "# plt.figure(figsize=(15,4))\n",
        "# plt.plot(window)\n",
        "# plt.grid(True)"
      ],
      "metadata": {
        "id": "pNMggf3RYXLA"
      },
      "execution_count": null,
      "outputs": []
    },
    {
      "cell_type": "code",
      "source": [
        "audio_win = audio_framed * window\n",
        "\n",
        "# ind = 69\n",
        "# plt.figure(figsize=(15,6))\n",
        "# plt.subplot(2, 1, 1)\n",
        "# plt.plot(audio_framed[ind])\n",
        "# plt.title('Original Frame')\n",
        "# plt.grid(True)\n",
        "# plt.subplot(2, 1, 2)\n",
        "# plt.plot(audio_win[ind])\n",
        "# plt.title('Frame After Windowing')\n",
        "# plt.grid(True)"
      ],
      "metadata": {
        "id": "Skvgd-p0YZ3p"
      },
      "execution_count": null,
      "outputs": []
    },
    {
      "cell_type": "code",
      "source": [
        "audio_winT = np.transpose(audio_win)\n",
        "\n",
        "audio_fft = np.empty((int(1 + FFT_size // 2), audio_winT.shape[1]), dtype=np.complex64, order='F')\n",
        "\n",
        "for n in range(audio_fft.shape[1]):\n",
        "    audio_fft[:, n] = fft.fft(audio_winT[:, n], axis=0)[:audio_fft.shape[0]]\n",
        "\n",
        "audio_fft = np.transpose(audio_fft)"
      ],
      "metadata": {
        "id": "07cFutosYfOh"
      },
      "execution_count": null,
      "outputs": []
    },
    {
      "cell_type": "code",
      "source": [
        "audio_power = np.square(np.abs(audio_fft))\n",
        "# print(audio_power.shape)"
      ],
      "metadata": {
        "id": "Grw2fSG5YhSF"
      },
      "execution_count": null,
      "outputs": []
    },
    {
      "cell_type": "code",
      "source": [
        "freq_min = 0\n",
        "freq_high = sample_rate / 2\n",
        "mel_filter_num = 10\n",
        "\n",
        "print(\"Minimum frequency: {0}\".format(freq_min))\n",
        "print(\"Maximum frequency: {0}\".format(freq_high))"
      ],
      "metadata": {
        "colab": {
          "base_uri": "https://localhost:8080/"
        },
        "id": "vmkU42OFYi8O",
        "outputId": "18987d6d-ba10-4a3b-daf1-20e3664cd50d"
      },
      "execution_count": null,
      "outputs": [
        {
          "output_type": "stream",
          "name": "stdout",
          "text": [
            "Minimum frequency: 0\n",
            "Maximum frequency: 22050.0\n"
          ]
        }
      ]
    },
    {
      "cell_type": "code",
      "source": [
        "def freq_to_mel(freq):\n",
        "    return 2595.0 * np.log10(1.0 + freq / 700.0)\n",
        "\n",
        "def met_to_freq(mels):\n",
        "    return 700.0 * (10.0**(mels / 2595.0) - 1.0)\n",
        "\n",
        "def get_filter_points(fmin, fmax, mel_filter_num, FFT_size, sample_rate=44100):\n",
        "    fmin_mel = freq_to_mel(fmin)\n",
        "    fmax_mel = freq_to_mel(fmax)\n",
        "\n",
        "    mels = np.linspace(fmin_mel, fmax_mel, num=mel_filter_num+2)\n",
        "    freqs = met_to_freq(mels)\n",
        "\n",
        "    return np.floor((FFT_size + 1) / sample_rate * freqs).astype(int), freqs"
      ],
      "metadata": {
        "id": "SedEZf0xYlWx"
      },
      "execution_count": null,
      "outputs": []
    },
    {
      "cell_type": "code",
      "source": [
        "filter_points, mel_freqs = get_filter_points(freq_min, freq_high, mel_filter_num, FFT_size, sample_rate=44100)\n",
        "filter_points"
      ],
      "metadata": {
        "colab": {
          "base_uri": "https://localhost:8080/"
        },
        "id": "tKw8D9bxYntq",
        "outputId": "2d4ff638-8d45-49da-d147-77e5d0ca90ad"
      },
      "execution_count": null,
      "outputs": [
        {
          "output_type": "execute_result",
          "data": {
            "text/plain": [
              "array([   0,   12,   28,   51,   82,  125,  184,  265,  376,  528,  737,\n",
              "       1024])"
            ]
          },
          "metadata": {},
          "execution_count": 18
        }
      ]
    },
    {
      "cell_type": "code",
      "source": [
        "def get_filters(filter_points, FFT_size):\n",
        "    filters = np.zeros((len(filter_points)-2,int(FFT_size/2+1)))\n",
        "\n",
        "    for n in range(len(filter_points)-2):\n",
        "        filters[n, filter_points[n] : filter_points[n + 1]] = np.linspace(0, 1, filter_points[n + 1] - filter_points[n])\n",
        "        filters[n, filter_points[n + 1] : filter_points[n + 2]] = np.linspace(1, 0, filter_points[n + 2] - filter_points[n + 1])\n",
        "\n",
        "    return filters"
      ],
      "metadata": {
        "id": "32n7TlrRYse5"
      },
      "execution_count": null,
      "outputs": []
    },
    {
      "cell_type": "code",
      "source": [
        "filters = get_filters(filter_points, FFT_size)\n",
        "\n",
        "# plt.figure(figsize=(15,4))\n",
        "# for n in range(filters.shape[0]):\n",
        "#     plt.plot(filters[n])"
      ],
      "metadata": {
        "id": "9qAIA3mwYvOV"
      },
      "execution_count": null,
      "outputs": []
    },
    {
      "cell_type": "code",
      "source": [
        "# taken from the librosa library\n",
        "enorm = 2.0 / (mel_freqs[2:mel_filter_num+2] - mel_freqs[:mel_filter_num])\n",
        "filters *= enorm[:, np.newaxis]"
      ],
      "metadata": {
        "id": "2YmbMDVGYxOY"
      },
      "execution_count": null,
      "outputs": []
    },
    {
      "cell_type": "code",
      "source": [
        "audio_filtered = np.dot(filters, np.transpose(audio_power))\n",
        "audio_log = 10.0 * np.log10(audio_filtered)\n",
        "audio_log.shape"
      ],
      "metadata": {
        "colab": {
          "base_uri": "https://localhost:8080/"
        },
        "id": "sxb3dY5nY3b3",
        "outputId": "33620718-0e8a-4897-9d27-6e1a1c7469f4"
      },
      "execution_count": null,
      "outputs": [
        {
          "output_type": "execute_result",
          "data": {
            "text/plain": [
              "(10, 1327)"
            ]
          },
          "metadata": {},
          "execution_count": 22
        }
      ]
    },
    {
      "cell_type": "code",
      "source": [
        "def dct(dct_filter_num, filter_len):\n",
        "    basis = np.empty((dct_filter_num,filter_len))\n",
        "    basis[0, :] = 1.0 / np.sqrt(filter_len)\n",
        "\n",
        "    samples = np.arange(1, 2 * filter_len, 2) * np.pi / (2.0 * filter_len)\n",
        "\n",
        "    for i in range(1, dct_filter_num):\n",
        "        basis[i, :] = np.cos(i * samples) * np.sqrt(2.0 / filter_len)\n",
        "\n",
        "    return basis"
      ],
      "metadata": {
        "id": "lLuGoswrY5ub"
      },
      "execution_count": null,
      "outputs": []
    },
    {
      "cell_type": "code",
      "source": [
        "dct_filter_num = 40\n",
        "\n",
        "dct_filters = dct(dct_filter_num, mel_filter_num)\n",
        "\n",
        "cepstral_coefficents = np.dot(dct_filters, audio_log)\n",
        "cepstral_coefficents.shape"
      ],
      "metadata": {
        "colab": {
          "base_uri": "https://localhost:8080/"
        },
        "id": "Y5tMmymhY8Cc",
        "outputId": "726cb95c-4b96-4e96-cf67-f2c2996d3c59"
      },
      "execution_count": null,
      "outputs": [
        {
          "output_type": "execute_result",
          "data": {
            "text/plain": [
              "(40, 1327)"
            ]
          },
          "metadata": {},
          "execution_count": 24
        }
      ]
    },
    {
      "cell_type": "code",
      "source": [
        "cepstral_coefficents[:, 0]"
      ],
      "metadata": {
        "colab": {
          "base_uri": "https://localhost:8080/"
        },
        "id": "PVxb_YYbY_yT",
        "outputId": "425d2fcc-5171-415d-ea65-d13cb30d95ff"
      },
      "execution_count": null,
      "outputs": [
        {
          "output_type": "execute_result",
          "data": {
            "text/plain": [
              "array([-2.72289196e+02, -4.63764728e+00, -4.52652370e+00, -3.60416039e+00,\n",
              "       -8.04671288e-01, -4.37650817e+00, -8.47292766e-02,  9.48380847e-01,\n",
              "        1.67173827e+00,  5.09526854e-01,  3.59427729e-13, -5.09526854e-01,\n",
              "       -1.67173827e+00, -9.48380847e-01,  8.47292766e-02,  4.37650817e+00,\n",
              "        8.04671288e-01,  3.60416039e+00,  4.52652370e+00,  4.63764728e+00,\n",
              "        3.85075074e+02,  4.63764728e+00,  4.52652370e+00,  3.60416039e+00,\n",
              "        8.04671288e-01,  4.37650817e+00,  8.47292766e-02, -9.48380847e-01,\n",
              "       -1.67173827e+00, -5.09526854e-01, -5.70167271e-14,  5.09526854e-01,\n",
              "        1.67173827e+00,  9.48380847e-01, -8.47292766e-02, -4.37650817e+00,\n",
              "       -8.04671288e-01, -3.60416039e+00, -4.52652370e+00, -4.63764728e+00])"
            ]
          },
          "metadata": {},
          "execution_count": 25
        }
      ]
    },
    {
      "cell_type": "markdown",
      "source": [
        "## Pipeline Module!\n",
        "Here we generalize the above to run on a larger subset of the data."
      ],
      "metadata": {
        "id": "12B5MtcJZDyu"
      }
    },
    {
      "cell_type": "code",
      "source": [
        "def computeMFCC(songName, filterNum = 40):\n",
        "    start = time.time()\n",
        "    # convert MP3 to WAV\n",
        "    sound = AudioSegment.from_mp3(TRAIN_PATH + songName)\n",
        "    wavFile = songName + \".wav\"\n",
        "    #print(\"wavfile shape\", wavFile)\n",
        "    #sound = sound.set_channels(1)\n",
        "    sound.export(wavFile, format=\"wav\")\n",
        "    #print(\"WAV RAM: \", psutil.Process(pid).memory_info().rss / (1024**2), \"MB\" ) #Mem in MB\n",
        "\n",
        "\n",
        "    # get the audio and sample rate\n",
        "    sample_rate, audio = wavfile.read(wavFile)\n",
        "\n",
        "    #print(\"Sample Rate: \", sample_rate)\n",
        "    #print(\"Audio Length: \", len(audio) / sample_rate)\n",
        "    #print(\"Audio Shape: \", audio.shape)\n",
        "    if audio.ndim != 1:\n",
        "        print(\"not mono\", audio.ndim)\n",
        "        audio = np.mean(audio, axis=1)\n",
        "    # if len(audio) / sample_rate > 105:\n",
        "    #     print(\"too long\")\n",
        "    #     return -1, -1\n",
        "    del sound\n",
        "\n",
        "    # normalize audio\n",
        "    audio = normalize_audio(audio)\n",
        "    #print(\"Audio Shape Normalized: \", audio.shape)\n",
        "    #print(\"Normalize RAM: \", psutil.Process(pid).memory_info().rss / (1024**2), \"MB\" ) #Mem in MB\n",
        "\n",
        "    # frame audio\n",
        "    hop_size = 15 #ms\n",
        "    FFT_size = 2048\n",
        "    audio_framed = frame_audio(audio, FFT_size=FFT_size, hop_size=hop_size, sample_rate=sample_rate)\n",
        "    #print(\"Frame RAM: \", psutil.Process(pid).memory_info().rss / (1024**2), \"MB\" ) #Mem in MB\n",
        "\n",
        "    window = get_window(\"hann\", FFT_size, fftbins=True)\n",
        "    audio_win = audio_framed * window\n",
        "    del audio_framed\n",
        "    del window\n",
        "    audio_winT = np.transpose(audio_win)\n",
        "    #print(\"Transpose RAM: \", psutil.Process(pid).memory_info().rss / (1024**2), \"MB\" ) #Mem in MB\n",
        "\n",
        "\n",
        "\n",
        "    audio_fft = np.empty((int(1 + FFT_size // 2), audio_winT.shape[1]), dtype=np.complex64, order='F')\n",
        "\n",
        "    for n in range(audio_fft.shape[1]):\n",
        "        audio_fft[:, n] = fft.fft(audio_winT[:, n], axis=0)[:audio_fft.shape[0]]\n",
        "    del audio_winT\n",
        "\n",
        "    audio_fft = np.transpose(audio_fft)\n",
        "    audio_power = np.square(np.abs(audio_fft))\n",
        "    del audio_fft\n",
        "    #print(\"Power RAM: \", psutil.Process(pid).memory_info().rss / (1024**2), \"MB\" ) #Mem in MB\n",
        "\n",
        "\n",
        "    freq_min = 0\n",
        "    freq_high = sample_rate / 2\n",
        "    mel_filter_num = 10\n",
        "    filter_points, mel_freqs = get_filter_points(freq_min, freq_high, mel_filter_num, FFT_size, sample_rate=sample_rate)\n",
        "    filters = get_filters(filter_points, FFT_size)\n",
        "    #print(\"Filter RAM: \", psutil.Process(pid).memory_info().rss / (1024**2), \"MB\" ) #Mem in MB\n",
        "\n",
        "\n",
        "    enorm = 2.0 / (mel_freqs[2:mel_filter_num+2] - mel_freqs[:mel_filter_num])\n",
        "    filters *= enorm[:, np.newaxis]\n",
        "    del enorm\n",
        "\n",
        "    audio_filtered = np.dot(filters, np.transpose(audio_power))\n",
        "    del audio_power\n",
        "    audio_log = 10.0 * np.log10(audio_filtered)\n",
        "    del audio_filtered\n",
        "    dct_filter_num = filterNum\n",
        "    #print(\"DCT RAM: \", psutil.Process(pid).memory_info().rss / (1024**2), \"MB\" ) #Mem in MB\n",
        "\n",
        "\n",
        "    dct_filters = dct(dct_filter_num, mel_filter_num)\n",
        "    del dct_filter_num\n",
        "\n",
        "    cepstral_coefficents = np.dot(dct_filters, audio_log)\n",
        "    del dct_filters\n",
        "    #print(\"DCT Filters RAM: \", psutil.Process(pid).memory_info().rss / (1024**2), \"MB\" ) #Mem in MB\n",
        "\n",
        "    end = time.time()\n",
        "    #print(\"Elapsed time: \", end - start)\n",
        "    return cepstral_coefficents[:, 0], 1"
      ],
      "metadata": {
        "id": "mbrF2fzGZNNM"
      },
      "execution_count": null,
      "outputs": []
    },
    {
      "cell_type": "code",
      "source": [
        "temp_dict = {}\n",
        "coefficients = computeMFCC(\"XC118422-ZIMGRA12.mp3\", filterNum = 512) #nice!\n",
        "temp_dict[\"XC118422-ZIMGRA12.mp3\"] = coefficients[0]\n",
        "\n",
        "temp2 = pd.DataFrame(temp_dict).T\n",
        "temp2"
      ],
      "metadata": {
        "colab": {
          "base_uri": "https://localhost:8080/",
          "height": 147
        },
        "id": "r0P9_uTBblBS",
        "outputId": "7eb60739-aa0c-46e8-c373-609b659e2c82"
      },
      "execution_count": null,
      "outputs": [
        {
          "output_type": "execute_result",
          "data": {
            "text/plain": [
              "                              0         1         2        3         4    \\\n",
              "XC118422-ZIMGRA12.mp3 -272.289196 -4.637647 -4.526524 -3.60416 -0.804671   \n",
              "\n",
              "                            5         6         7         8         9    ...  \\\n",
              "XC118422-ZIMGRA12.mp3 -4.376508 -0.084729  0.948381  1.671738  0.509527  ...   \n",
              "\n",
              "                            502      503       504       505       506  \\\n",
              "XC118422-ZIMGRA12.mp3  4.526524  3.60416  0.804671  4.376508  0.084729   \n",
              "\n",
              "                            507       508       509           510       511  \n",
              "XC118422-ZIMGRA12.mp3 -0.948381 -1.671738 -0.509527 -3.389325e-12  0.509527  \n",
              "\n",
              "[1 rows x 512 columns]"
            ],
            "text/html": [
              "\n",
              "  <div id=\"df-bda3005c-4605-4e84-8df1-b6b9e42db051\" class=\"colab-df-container\">\n",
              "    <div>\n",
              "<style scoped>\n",
              "    .dataframe tbody tr th:only-of-type {\n",
              "        vertical-align: middle;\n",
              "    }\n",
              "\n",
              "    .dataframe tbody tr th {\n",
              "        vertical-align: top;\n",
              "    }\n",
              "\n",
              "    .dataframe thead th {\n",
              "        text-align: right;\n",
              "    }\n",
              "</style>\n",
              "<table border=\"1\" class=\"dataframe\">\n",
              "  <thead>\n",
              "    <tr style=\"text-align: right;\">\n",
              "      <th></th>\n",
              "      <th>0</th>\n",
              "      <th>1</th>\n",
              "      <th>2</th>\n",
              "      <th>3</th>\n",
              "      <th>4</th>\n",
              "      <th>5</th>\n",
              "      <th>6</th>\n",
              "      <th>7</th>\n",
              "      <th>8</th>\n",
              "      <th>9</th>\n",
              "      <th>...</th>\n",
              "      <th>502</th>\n",
              "      <th>503</th>\n",
              "      <th>504</th>\n",
              "      <th>505</th>\n",
              "      <th>506</th>\n",
              "      <th>507</th>\n",
              "      <th>508</th>\n",
              "      <th>509</th>\n",
              "      <th>510</th>\n",
              "      <th>511</th>\n",
              "    </tr>\n",
              "  </thead>\n",
              "  <tbody>\n",
              "    <tr>\n",
              "      <th>XC118422-ZIMGRA12.mp3</th>\n",
              "      <td>-272.289196</td>\n",
              "      <td>-4.637647</td>\n",
              "      <td>-4.526524</td>\n",
              "      <td>-3.60416</td>\n",
              "      <td>-0.804671</td>\n",
              "      <td>-4.376508</td>\n",
              "      <td>-0.084729</td>\n",
              "      <td>0.948381</td>\n",
              "      <td>1.671738</td>\n",
              "      <td>0.509527</td>\n",
              "      <td>...</td>\n",
              "      <td>4.526524</td>\n",
              "      <td>3.60416</td>\n",
              "      <td>0.804671</td>\n",
              "      <td>4.376508</td>\n",
              "      <td>0.084729</td>\n",
              "      <td>-0.948381</td>\n",
              "      <td>-1.671738</td>\n",
              "      <td>-0.509527</td>\n",
              "      <td>-3.389325e-12</td>\n",
              "      <td>0.509527</td>\n",
              "    </tr>\n",
              "  </tbody>\n",
              "</table>\n",
              "<p>1 rows × 512 columns</p>\n",
              "</div>\n",
              "    <div class=\"colab-df-buttons\">\n",
              "\n",
              "  <div class=\"colab-df-container\">\n",
              "    <button class=\"colab-df-convert\" onclick=\"convertToInteractive('df-bda3005c-4605-4e84-8df1-b6b9e42db051')\"\n",
              "            title=\"Convert this dataframe to an interactive table.\"\n",
              "            style=\"display:none;\">\n",
              "\n",
              "  <svg xmlns=\"http://www.w3.org/2000/svg\" height=\"24px\" viewBox=\"0 -960 960 960\">\n",
              "    <path d=\"M120-120v-720h720v720H120Zm60-500h600v-160H180v160Zm220 220h160v-160H400v160Zm0 220h160v-160H400v160ZM180-400h160v-160H180v160Zm440 0h160v-160H620v160ZM180-180h160v-160H180v160Zm440 0h160v-160H620v160Z\"/>\n",
              "  </svg>\n",
              "    </button>\n",
              "\n",
              "  <style>\n",
              "    .colab-df-container {\n",
              "      display:flex;\n",
              "      gap: 12px;\n",
              "    }\n",
              "\n",
              "    .colab-df-convert {\n",
              "      background-color: #E8F0FE;\n",
              "      border: none;\n",
              "      border-radius: 50%;\n",
              "      cursor: pointer;\n",
              "      display: none;\n",
              "      fill: #1967D2;\n",
              "      height: 32px;\n",
              "      padding: 0 0 0 0;\n",
              "      width: 32px;\n",
              "    }\n",
              "\n",
              "    .colab-df-convert:hover {\n",
              "      background-color: #E2EBFA;\n",
              "      box-shadow: 0px 1px 2px rgba(60, 64, 67, 0.3), 0px 1px 3px 1px rgba(60, 64, 67, 0.15);\n",
              "      fill: #174EA6;\n",
              "    }\n",
              "\n",
              "    .colab-df-buttons div {\n",
              "      margin-bottom: 4px;\n",
              "    }\n",
              "\n",
              "    [theme=dark] .colab-df-convert {\n",
              "      background-color: #3B4455;\n",
              "      fill: #D2E3FC;\n",
              "    }\n",
              "\n",
              "    [theme=dark] .colab-df-convert:hover {\n",
              "      background-color: #434B5C;\n",
              "      box-shadow: 0px 1px 3px 1px rgba(0, 0, 0, 0.15);\n",
              "      filter: drop-shadow(0px 1px 2px rgba(0, 0, 0, 0.3));\n",
              "      fill: #FFFFFF;\n",
              "    }\n",
              "  </style>\n",
              "\n",
              "    <script>\n",
              "      const buttonEl =\n",
              "        document.querySelector('#df-bda3005c-4605-4e84-8df1-b6b9e42db051 button.colab-df-convert');\n",
              "      buttonEl.style.display =\n",
              "        google.colab.kernel.accessAllowed ? 'block' : 'none';\n",
              "\n",
              "      async function convertToInteractive(key) {\n",
              "        const element = document.querySelector('#df-bda3005c-4605-4e84-8df1-b6b9e42db051');\n",
              "        const dataTable =\n",
              "          await google.colab.kernel.invokeFunction('convertToInteractive',\n",
              "                                                    [key], {});\n",
              "        if (!dataTable) return;\n",
              "\n",
              "        const docLinkHtml = 'Like what you see? Visit the ' +\n",
              "          '<a target=\"_blank\" href=https://colab.research.google.com/notebooks/data_table.ipynb>data table notebook</a>'\n",
              "          + ' to learn more about interactive tables.';\n",
              "        element.innerHTML = '';\n",
              "        dataTable['output_type'] = 'display_data';\n",
              "        await google.colab.output.renderOutput(dataTable, element);\n",
              "        const docLink = document.createElement('div');\n",
              "        docLink.innerHTML = docLinkHtml;\n",
              "        element.appendChild(docLink);\n",
              "      }\n",
              "    </script>\n",
              "  </div>\n",
              "\n",
              "    </div>\n",
              "  </div>\n"
            ],
            "application/vnd.google.colaboratory.intrinsic+json": {
              "type": "dataframe",
              "variable_name": "temp2"
            }
          },
          "metadata": {},
          "execution_count": 27
        }
      ]
    },
    {
      "cell_type": "code",
      "source": [
        "with open(\"output.txt\") as file:\n",
        "    song_names = [line.rstrip() for line in file]"
      ],
      "metadata": {
        "collapsed": true,
        "id": "75i4fX-rduIj"
      },
      "execution_count": null,
      "outputs": []
    },
    {
      "cell_type": "code",
      "source": [
        "# let's move to a new folder to keep the WAV files organized\n",
        "%mkdir wav_files\n",
        "%cd wav_files\n",
        "%pwd"
      ],
      "metadata": {
        "colab": {
          "base_uri": "https://localhost:8080/",
          "height": 53
        },
        "id": "Y9FVgieObqnx",
        "outputId": "47421411-a4f4-4f9d-d544-8fe55ad39e34"
      },
      "execution_count": null,
      "outputs": [
        {
          "output_type": "stream",
          "name": "stdout",
          "text": [
            "/content/wav_files\n"
          ]
        },
        {
          "output_type": "execute_result",
          "data": {
            "text/plain": [
              "'/content/wav_files'"
            ],
            "application/vnd.google.colaboratory.intrinsic+json": {
              "type": "string"
            }
          },
          "metadata": {},
          "execution_count": 29
        }
      ]
    },
    {
      "cell_type": "code",
      "source": [
        "from collections import Counter\n",
        "import linecache\n",
        "import os\n",
        "import tracemalloc\n",
        "\n",
        "def display_top(snapshot, key_type='lineno', limit=3):\n",
        "    snapshot = snapshot.filter_traces((\n",
        "        tracemalloc.Filter(False, \"<frozen importlib._bootstrap>\"),\n",
        "        tracemalloc.Filter(False, \"<unknown>\"),\n",
        "    ))\n",
        "    top_stats = snapshot.statistics(key_type)\n",
        "\n",
        "    print(\"Top %s lines\" % limit)\n",
        "    for index, stat in enumerate(top_stats[:limit], 1):\n",
        "        frame = stat.traceback[0]\n",
        "        # replace \"/path/to/module/file.py\" with \"module/file.py\"\n",
        "        filename = os.sep.join(frame.filename.split(os.sep)[-2:])\n",
        "        print(\"#%s: %s:%s: %.1f KiB\"\n",
        "              % (index, filename, frame.lineno, stat.size / 1024))\n",
        "        line = linecache.getline(frame.filename, frame.lineno).strip()\n",
        "        if line:\n",
        "            print('    %s' % line)\n",
        "\n",
        "    other = top_stats[limit:]\n",
        "    if other:\n",
        "        size = sum(stat.size for stat in other)\n",
        "        print(\"%s other: %.1f KiB\" % (len(other), size / 1024))\n",
        "    total = sum(stat.size for stat in top_stats)\n",
        "    print(\"Total allocated size: %.1f KiB\" % (total / 1024))\n"
      ],
      "metadata": {
        "id": "Cg64yPY55gA8"
      },
      "execution_count": null,
      "outputs": []
    },
    {
      "cell_type": "code",
      "source": [
        "song_names_xeno = []\n",
        "for song in song_names:\n",
        "    if song[0:2] == \"XC\":\n",
        "        song_names_xeno.append(song)"
      ],
      "metadata": {
        "id": "akTqnuDLdUWn"
      },
      "execution_count": null,
      "outputs": []
    },
    {
      "cell_type": "code",
      "source": [
        "results = {}\n",
        "count = 0\n",
        "leng = len(song_names_xeno)\n",
        "\n",
        "for song in song_names_xeno:\n",
        "    #tracemalloc.start()\n",
        "\n",
        "    count = count + 1\n",
        "    #print(song + \" RAM: \", psutil.Process(pid).memory_info().rss / (1024**2), \"MB\" ) #Mem in MB\n",
        "    coeffs = computeMFCC(song, filterNum = 128)\n",
        "    if coeffs[1] != -1:\n",
        "        results[song] = coeffs[0]\n",
        "        print(count, \"/\", leng)\n",
        "        del coeffs\n",
        "        #snapshot = tracemalloc.take_snapshot()\n",
        "        #display_top(snapshot)\n",
        "        #print(\"--- DONE --- \\n\")\n",
        "\n",
        "        #print(\"Error code -1 returned\")\n",
        "        #snapshot = tracemalloc.take_snapshot()\n",
        "        #display_top(snapshot)\n",
        "        #print(\"--- DONE --- \\n\")"
      ],
      "metadata": {
        "colab": {
          "base_uri": "https://localhost:8080/"
        },
        "id": "fxZ2uYxSd_gM",
        "outputId": "a95f3d89-64d2-42c5-d69a-7243b3847a5a",
        "collapsed": true
      },
      "execution_count": null,
      "outputs": [
        {
          "metadata": {
            "tags": null
          },
          "name": "stdout",
          "output_type": "stream",
          "text": [
            "1 / 3882\n",
            "2 / 3882\n",
            "3 / 3882\n",
            "4 / 3882\n",
            "5 / 3882\n",
            "6 / 3882\n"
          ]
        },
        {
          "metadata": {
            "tags": null
          },
          "name": "stderr",
          "output_type": "stream",
          "text": [
            "<ipython-input-26-18a742631681>:72: RuntimeWarning: divide by zero encountered in log10\n",
            "  audio_log = 10.0 * np.log10(audio_filtered)\n"
          ]
        },
        {
          "metadata": {
            "tags": null
          },
          "name": "stdout",
          "output_type": "stream",
          "text": [
            "7 / 3882\n",
            "8 / 3882\n",
            "9 / 3882\n",
            "10 / 3882\n",
            "11 / 3882\n",
            "12 / 3882\n",
            "13 / 3882\n",
            "14 / 3882\n",
            "15 / 3882\n",
            "16 / 3882\n",
            "17 / 3882\n",
            "18 / 3882\n",
            "19 / 3882\n",
            "20 / 3882\n",
            "21 / 3882\n",
            "22 / 3882\n",
            "23 / 3882\n",
            "24 / 3882\n",
            "not mono 2\n",
            "25 / 3882\n",
            "not mono 2\n",
            "26 / 3882\n",
            "not mono 2\n",
            "27 / 3882\n",
            "not mono 2\n",
            "28 / 3882\n",
            "not mono 2\n",
            "29 / 3882\n",
            "not mono 2\n",
            "30 / 3882\n",
            "not mono 2\n",
            "31 / 3882\n",
            "not mono 2\n",
            "32 / 3882\n",
            "not mono 2\n",
            "33 / 3882\n",
            "not mono 2\n",
            "34 / 3882\n",
            "35 / 3882\n",
            "36 / 3882\n",
            "37 / 3882\n",
            "38 / 3882\n",
            "39 / 3882\n",
            "40 / 3882\n",
            "41 / 3882\n",
            "42 / 3882\n",
            "43 / 3882\n",
            "44 / 3882\n",
            "45 / 3882\n",
            "46 / 3882\n",
            "47 / 3882\n",
            "48 / 3882\n",
            "49 / 3882\n",
            "50 / 3882\n",
            "51 / 3882\n",
            "52 / 3882\n",
            "53 / 3882\n",
            "54 / 3882\n",
            "55 / 3882\n",
            "56 / 3882\n",
            "57 / 3882\n",
            "58 / 3882\n",
            "59 / 3882\n",
            "60 / 3882\n",
            "not mono 2\n",
            "61 / 3882\n"
          ]
        },
        {
          "metadata": {
            "tags": null
          },
          "name": "stderr",
          "output_type": "stream",
          "text": [
            "<ipython-input-26-18a742631681>:72: RuntimeWarning: divide by zero encountered in log10\n",
            "  audio_log = 10.0 * np.log10(audio_filtered)\n"
          ]
        },
        {
          "metadata": {
            "tags": null
          },
          "name": "stdout",
          "output_type": "stream",
          "text": [
            "not mono 2\n",
            "62 / 3882\n"
          ]
        },
        {
          "metadata": {
            "tags": null
          },
          "name": "stderr",
          "output_type": "stream",
          "text": [
            "<ipython-input-26-18a742631681>:72: RuntimeWarning: divide by zero encountered in log10\n",
            "  audio_log = 10.0 * np.log10(audio_filtered)\n"
          ]
        },
        {
          "metadata": {
            "tags": null
          },
          "name": "stdout",
          "output_type": "stream",
          "text": [
            "not mono 2\n",
            "63 / 3882\n"
          ]
        },
        {
          "metadata": {
            "tags": null
          },
          "name": "stderr",
          "output_type": "stream",
          "text": [
            "<ipython-input-26-18a742631681>:72: RuntimeWarning: divide by zero encountered in log10\n",
            "  audio_log = 10.0 * np.log10(audio_filtered)\n"
          ]
        },
        {
          "metadata": {
            "tags": null
          },
          "name": "stdout",
          "output_type": "stream",
          "text": [
            "not mono 2\n",
            "64 / 3882\n"
          ]
        },
        {
          "metadata": {
            "tags": null
          },
          "name": "stderr",
          "output_type": "stream",
          "text": [
            "<ipython-input-26-18a742631681>:72: RuntimeWarning: divide by zero encountered in log10\n",
            "  audio_log = 10.0 * np.log10(audio_filtered)\n"
          ]
        },
        {
          "metadata": {
            "tags": null
          },
          "name": "stdout",
          "output_type": "stream",
          "text": [
            "not mono 2\n",
            "65 / 3882\n"
          ]
        },
        {
          "metadata": {
            "tags": null
          },
          "name": "stderr",
          "output_type": "stream",
          "text": [
            "<ipython-input-26-18a742631681>:72: RuntimeWarning: divide by zero encountered in log10\n",
            "  audio_log = 10.0 * np.log10(audio_filtered)\n"
          ]
        },
        {
          "metadata": {
            "tags": null
          },
          "name": "stdout",
          "output_type": "stream",
          "text": [
            "not mono 2\n",
            "66 / 3882\n"
          ]
        },
        {
          "metadata": {
            "tags": null
          },
          "name": "stderr",
          "output_type": "stream",
          "text": [
            "<ipython-input-26-18a742631681>:72: RuntimeWarning: divide by zero encountered in log10\n",
            "  audio_log = 10.0 * np.log10(audio_filtered)\n"
          ]
        },
        {
          "metadata": {
            "tags": null
          },
          "name": "stdout",
          "output_type": "stream",
          "text": [
            "not mono 2\n",
            "67 / 3882\n"
          ]
        },
        {
          "metadata": {
            "tags": null
          },
          "name": "stderr",
          "output_type": "stream",
          "text": [
            "<ipython-input-26-18a742631681>:72: RuntimeWarning: divide by zero encountered in log10\n",
            "  audio_log = 10.0 * np.log10(audio_filtered)\n"
          ]
        },
        {
          "metadata": {
            "tags": null
          },
          "name": "stdout",
          "output_type": "stream",
          "text": [
            "not mono 2\n",
            "68 / 3882\n"
          ]
        },
        {
          "metadata": {
            "tags": null
          },
          "name": "stderr",
          "output_type": "stream",
          "text": [
            "<ipython-input-26-18a742631681>:72: RuntimeWarning: divide by zero encountered in log10\n",
            "  audio_log = 10.0 * np.log10(audio_filtered)\n"
          ]
        },
        {
          "metadata": {
            "tags": null
          },
          "name": "stdout",
          "output_type": "stream",
          "text": [
            "not mono 2\n",
            "69 / 3882\n"
          ]
        },
        {
          "metadata": {
            "tags": null
          },
          "name": "stderr",
          "output_type": "stream",
          "text": [
            "<ipython-input-26-18a742631681>:72: RuntimeWarning: divide by zero encountered in log10\n",
            "  audio_log = 10.0 * np.log10(audio_filtered)\n"
          ]
        },
        {
          "metadata": {
            "tags": null
          },
          "name": "stdout",
          "output_type": "stream",
          "text": [
            "not mono 2\n",
            "70 / 3882\n"
          ]
        },
        {
          "metadata": {
            "tags": null
          },
          "name": "stderr",
          "output_type": "stream",
          "text": [
            "<ipython-input-26-18a742631681>:72: RuntimeWarning: divide by zero encountered in log10\n",
            "  audio_log = 10.0 * np.log10(audio_filtered)\n"
          ]
        },
        {
          "metadata": {
            "tags": null
          },
          "name": "stdout",
          "output_type": "stream",
          "text": [
            "not mono 2\n",
            "71 / 3882\n"
          ]
        },
        {
          "metadata": {
            "tags": null
          },
          "name": "stderr",
          "output_type": "stream",
          "text": [
            "<ipython-input-26-18a742631681>:72: RuntimeWarning: divide by zero encountered in log10\n",
            "  audio_log = 10.0 * np.log10(audio_filtered)\n"
          ]
        },
        {
          "metadata": {
            "tags": null
          },
          "name": "stdout",
          "output_type": "stream",
          "text": [
            "not mono 2\n",
            "72 / 3882\n"
          ]
        },
        {
          "metadata": {
            "tags": null
          },
          "name": "stderr",
          "output_type": "stream",
          "text": [
            "<ipython-input-26-18a742631681>:72: RuntimeWarning: divide by zero encountered in log10\n",
            "  audio_log = 10.0 * np.log10(audio_filtered)\n"
          ]
        },
        {
          "metadata": {
            "tags": null
          },
          "name": "stdout",
          "output_type": "stream",
          "text": [
            "not mono 2\n",
            "73 / 3882\n"
          ]
        },
        {
          "metadata": {
            "tags": null
          },
          "name": "stderr",
          "output_type": "stream",
          "text": [
            "<ipython-input-26-18a742631681>:72: RuntimeWarning: divide by zero encountered in log10\n",
            "  audio_log = 10.0 * np.log10(audio_filtered)\n"
          ]
        },
        {
          "metadata": {
            "tags": null
          },
          "name": "stdout",
          "output_type": "stream",
          "text": [
            "not mono 2\n"
          ]
        },
        {
          "metadata": {
            "tags": null
          },
          "name": "stderr",
          "output_type": "stream",
          "text": [
            "<ipython-input-26-18a742631681>:72: RuntimeWarning: divide by zero encountered in log10\n",
            "  audio_log = 10.0 * np.log10(audio_filtered)\n"
          ]
        },
        {
          "metadata": {
            "tags": null
          },
          "name": "stdout",
          "output_type": "stream",
          "text": [
            "74 / 3882\n",
            "not mono 2\n",
            "75 / 3882\n"
          ]
        },
        {
          "metadata": {
            "tags": null
          },
          "name": "stderr",
          "output_type": "stream",
          "text": [
            "<ipython-input-26-18a742631681>:72: RuntimeWarning: divide by zero encountered in log10\n",
            "  audio_log = 10.0 * np.log10(audio_filtered)\n"
          ]
        },
        {
          "metadata": {
            "tags": null
          },
          "name": "stdout",
          "output_type": "stream",
          "text": [
            "not mono 2\n",
            "76 / 3882\n"
          ]
        },
        {
          "metadata": {
            "tags": null
          },
          "name": "stderr",
          "output_type": "stream",
          "text": [
            "<ipython-input-26-18a742631681>:72: RuntimeWarning: divide by zero encountered in log10\n",
            "  audio_log = 10.0 * np.log10(audio_filtered)\n"
          ]
        },
        {
          "metadata": {
            "tags": null
          },
          "name": "stdout",
          "output_type": "stream",
          "text": [
            "not mono 2\n",
            "77 / 3882\n"
          ]
        },
        {
          "metadata": {
            "tags": null
          },
          "name": "stderr",
          "output_type": "stream",
          "text": [
            "<ipython-input-26-18a742631681>:72: RuntimeWarning: divide by zero encountered in log10\n",
            "  audio_log = 10.0 * np.log10(audio_filtered)\n"
          ]
        },
        {
          "metadata": {
            "tags": null
          },
          "name": "stdout",
          "output_type": "stream",
          "text": [
            "not mono 2\n",
            "78 / 3882\n"
          ]
        },
        {
          "metadata": {
            "tags": null
          },
          "name": "stderr",
          "output_type": "stream",
          "text": [
            "<ipython-input-26-18a742631681>:72: RuntimeWarning: divide by zero encountered in log10\n",
            "  audio_log = 10.0 * np.log10(audio_filtered)\n"
          ]
        },
        {
          "metadata": {
            "tags": null
          },
          "name": "stdout",
          "output_type": "stream",
          "text": [
            "not mono 2\n",
            "79 / 3882\n"
          ]
        },
        {
          "metadata": {
            "tags": null
          },
          "name": "stderr",
          "output_type": "stream",
          "text": [
            "<ipython-input-26-18a742631681>:72: RuntimeWarning: divide by zero encountered in log10\n",
            "  audio_log = 10.0 * np.log10(audio_filtered)\n"
          ]
        },
        {
          "metadata": {
            "tags": null
          },
          "name": "stdout",
          "output_type": "stream",
          "text": [
            "not mono 2\n",
            "80 / 3882\n"
          ]
        },
        {
          "metadata": {
            "tags": null
          },
          "name": "stderr",
          "output_type": "stream",
          "text": [
            "<ipython-input-26-18a742631681>:72: RuntimeWarning: divide by zero encountered in log10\n",
            "  audio_log = 10.0 * np.log10(audio_filtered)\n"
          ]
        },
        {
          "metadata": {
            "tags": null
          },
          "name": "stdout",
          "output_type": "stream",
          "text": [
            "not mono 2\n",
            "81 / 3882\n",
            "not mono 2\n",
            "82 / 3882\n",
            "not mono 2\n",
            "83 / 3882\n",
            "not mono 2\n",
            "84 / 3882\n",
            "not mono 2\n",
            "85 / 3882\n"
          ]
        },
        {
          "metadata": {
            "tags": null
          },
          "name": "stderr",
          "output_type": "stream",
          "text": [
            "<ipython-input-26-18a742631681>:72: RuntimeWarning: divide by zero encountered in log10\n",
            "  audio_log = 10.0 * np.log10(audio_filtered)\n"
          ]
        },
        {
          "metadata": {
            "tags": null
          },
          "name": "stdout",
          "output_type": "stream",
          "text": [
            "not mono 2\n",
            "86 / 3882\n"
          ]
        },
        {
          "metadata": {
            "tags": null
          },
          "name": "stderr",
          "output_type": "stream",
          "text": [
            "<ipython-input-26-18a742631681>:72: RuntimeWarning: divide by zero encountered in log10\n",
            "  audio_log = 10.0 * np.log10(audio_filtered)\n"
          ]
        },
        {
          "metadata": {
            "tags": null
          },
          "name": "stdout",
          "output_type": "stream",
          "text": [
            "not mono 2\n",
            "87 / 3882\n"
          ]
        },
        {
          "metadata": {
            "tags": null
          },
          "name": "stderr",
          "output_type": "stream",
          "text": [
            "<ipython-input-26-18a742631681>:72: RuntimeWarning: divide by zero encountered in log10\n",
            "  audio_log = 10.0 * np.log10(audio_filtered)\n"
          ]
        },
        {
          "metadata": {
            "tags": null
          },
          "name": "stdout",
          "output_type": "stream",
          "text": [
            "not mono 2\n",
            "88 / 3882\n"
          ]
        },
        {
          "metadata": {
            "tags": null
          },
          "name": "stderr",
          "output_type": "stream",
          "text": [
            "<ipython-input-26-18a742631681>:72: RuntimeWarning: divide by zero encountered in log10\n",
            "  audio_log = 10.0 * np.log10(audio_filtered)\n"
          ]
        },
        {
          "metadata": {
            "tags": null
          },
          "name": "stdout",
          "output_type": "stream",
          "text": [
            "not mono 2\n",
            "89 / 3882\n"
          ]
        },
        {
          "metadata": {
            "tags": null
          },
          "name": "stderr",
          "output_type": "stream",
          "text": [
            "<ipython-input-26-18a742631681>:72: RuntimeWarning: divide by zero encountered in log10\n",
            "  audio_log = 10.0 * np.log10(audio_filtered)\n"
          ]
        },
        {
          "metadata": {
            "tags": null
          },
          "name": "stdout",
          "output_type": "stream",
          "text": [
            "not mono 2\n",
            "90 / 3882\n"
          ]
        },
        {
          "metadata": {
            "tags": null
          },
          "name": "stderr",
          "output_type": "stream",
          "text": [
            "<ipython-input-26-18a742631681>:72: RuntimeWarning: divide by zero encountered in log10\n",
            "  audio_log = 10.0 * np.log10(audio_filtered)\n"
          ]
        },
        {
          "metadata": {
            "tags": null
          },
          "name": "stdout",
          "output_type": "stream",
          "text": [
            "not mono 2\n",
            "91 / 3882\n"
          ]
        },
        {
          "metadata": {
            "tags": null
          },
          "name": "stderr",
          "output_type": "stream",
          "text": [
            "<ipython-input-26-18a742631681>:72: RuntimeWarning: divide by zero encountered in log10\n",
            "  audio_log = 10.0 * np.log10(audio_filtered)\n"
          ]
        },
        {
          "metadata": {
            "tags": null
          },
          "name": "stdout",
          "output_type": "stream",
          "text": [
            "not mono 2\n",
            "92 / 3882\n"
          ]
        },
        {
          "metadata": {
            "tags": null
          },
          "name": "stderr",
          "output_type": "stream",
          "text": [
            "<ipython-input-26-18a742631681>:72: RuntimeWarning: divide by zero encountered in log10\n",
            "  audio_log = 10.0 * np.log10(audio_filtered)\n"
          ]
        },
        {
          "metadata": {
            "tags": null
          },
          "name": "stdout",
          "output_type": "stream",
          "text": [
            "not mono 2\n",
            "93 / 3882\n"
          ]
        },
        {
          "metadata": {
            "tags": null
          },
          "name": "stderr",
          "output_type": "stream",
          "text": [
            "<ipython-input-26-18a742631681>:72: RuntimeWarning: divide by zero encountered in log10\n",
            "  audio_log = 10.0 * np.log10(audio_filtered)\n"
          ]
        },
        {
          "metadata": {
            "tags": null
          },
          "name": "stdout",
          "output_type": "stream",
          "text": [
            "not mono 2\n"
          ]
        },
        {
          "metadata": {
            "tags": null
          },
          "name": "stderr",
          "output_type": "stream",
          "text": [
            "<ipython-input-26-18a742631681>:72: RuntimeWarning: divide by zero encountered in log10\n",
            "  audio_log = 10.0 * np.log10(audio_filtered)\n"
          ]
        },
        {
          "metadata": {
            "tags": null
          },
          "name": "stdout",
          "output_type": "stream",
          "text": [
            "94 / 3882\n",
            "not mono 2\n"
          ]
        },
        {
          "metadata": {
            "tags": null
          },
          "name": "stderr",
          "output_type": "stream",
          "text": [
            "<ipython-input-26-18a742631681>:72: RuntimeWarning: divide by zero encountered in log10\n",
            "  audio_log = 10.0 * np.log10(audio_filtered)\n"
          ]
        },
        {
          "metadata": {
            "tags": null
          },
          "name": "stdout",
          "output_type": "stream",
          "text": [
            "95 / 3882\n",
            "not mono 2\n",
            "96 / 3882\n"
          ]
        },
        {
          "metadata": {
            "tags": null
          },
          "name": "stderr",
          "output_type": "stream",
          "text": [
            "<ipython-input-26-18a742631681>:72: RuntimeWarning: divide by zero encountered in log10\n",
            "  audio_log = 10.0 * np.log10(audio_filtered)\n"
          ]
        },
        {
          "metadata": {
            "tags": null
          },
          "name": "stdout",
          "output_type": "stream",
          "text": [
            "not mono 2\n",
            "97 / 3882\n"
          ]
        },
        {
          "metadata": {
            "tags": null
          },
          "name": "stderr",
          "output_type": "stream",
          "text": [
            "<ipython-input-26-18a742631681>:72: RuntimeWarning: divide by zero encountered in log10\n",
            "  audio_log = 10.0 * np.log10(audio_filtered)\n"
          ]
        },
        {
          "metadata": {
            "tags": null
          },
          "name": "stdout",
          "output_type": "stream",
          "text": [
            "not mono 2\n",
            "98 / 3882\n"
          ]
        },
        {
          "metadata": {
            "tags": null
          },
          "name": "stderr",
          "output_type": "stream",
          "text": [
            "<ipython-input-26-18a742631681>:72: RuntimeWarning: divide by zero encountered in log10\n",
            "  audio_log = 10.0 * np.log10(audio_filtered)\n"
          ]
        },
        {
          "metadata": {
            "tags": null
          },
          "name": "stdout",
          "output_type": "stream",
          "text": [
            "not mono 2\n",
            "99 / 3882\n"
          ]
        },
        {
          "metadata": {
            "tags": null
          },
          "name": "stderr",
          "output_type": "stream",
          "text": [
            "<ipython-input-26-18a742631681>:72: RuntimeWarning: divide by zero encountered in log10\n",
            "  audio_log = 10.0 * np.log10(audio_filtered)\n"
          ]
        },
        {
          "metadata": {
            "tags": null
          },
          "name": "stdout",
          "output_type": "stream",
          "text": [
            "not mono 2\n",
            "100 / 3882\n"
          ]
        },
        {
          "metadata": {
            "tags": null
          },
          "name": "stderr",
          "output_type": "stream",
          "text": [
            "<ipython-input-26-18a742631681>:72: RuntimeWarning: divide by zero encountered in log10\n",
            "  audio_log = 10.0 * np.log10(audio_filtered)\n"
          ]
        },
        {
          "metadata": {
            "tags": null
          },
          "name": "stdout",
          "output_type": "stream",
          "text": [
            "not mono 2\n",
            "101 / 3882\n"
          ]
        },
        {
          "metadata": {
            "tags": null
          },
          "name": "stderr",
          "output_type": "stream",
          "text": [
            "<ipython-input-26-18a742631681>:72: RuntimeWarning: divide by zero encountered in log10\n",
            "  audio_log = 10.0 * np.log10(audio_filtered)\n"
          ]
        },
        {
          "metadata": {
            "tags": null
          },
          "name": "stdout",
          "output_type": "stream",
          "text": [
            "not mono 2\n",
            "102 / 3882\n"
          ]
        },
        {
          "metadata": {
            "tags": null
          },
          "name": "stderr",
          "output_type": "stream",
          "text": [
            "<ipython-input-26-18a742631681>:72: RuntimeWarning: divide by zero encountered in log10\n",
            "  audio_log = 10.0 * np.log10(audio_filtered)\n"
          ]
        },
        {
          "metadata": {
            "tags": null
          },
          "name": "stdout",
          "output_type": "stream",
          "text": [
            "not mono 2\n",
            "103 / 3882\n"
          ]
        },
        {
          "metadata": {
            "tags": null
          },
          "name": "stderr",
          "output_type": "stream",
          "text": [
            "<ipython-input-26-18a742631681>:72: RuntimeWarning: divide by zero encountered in log10\n",
            "  audio_log = 10.0 * np.log10(audio_filtered)\n"
          ]
        },
        {
          "metadata": {
            "tags": null
          },
          "name": "stdout",
          "output_type": "stream",
          "text": [
            "not mono 2\n",
            "104 / 3882\n"
          ]
        },
        {
          "metadata": {
            "tags": null
          },
          "name": "stderr",
          "output_type": "stream",
          "text": [
            "<ipython-input-26-18a742631681>:72: RuntimeWarning: divide by zero encountered in log10\n",
            "  audio_log = 10.0 * np.log10(audio_filtered)\n"
          ]
        },
        {
          "metadata": {
            "tags": null
          },
          "name": "stdout",
          "output_type": "stream",
          "text": [
            "not mono 2\n"
          ]
        },
        {
          "metadata": {
            "tags": null
          },
          "name": "stderr",
          "output_type": "stream",
          "text": [
            "<ipython-input-26-18a742631681>:72: RuntimeWarning: divide by zero encountered in log10\n",
            "  audio_log = 10.0 * np.log10(audio_filtered)\n"
          ]
        },
        {
          "metadata": {
            "tags": null
          },
          "name": "stdout",
          "output_type": "stream",
          "text": [
            "105 / 3882\n",
            "not mono 2\n",
            "106 / 3882\n"
          ]
        },
        {
          "metadata": {
            "tags": null
          },
          "name": "stderr",
          "output_type": "stream",
          "text": [
            "<ipython-input-26-18a742631681>:72: RuntimeWarning: divide by zero encountered in log10\n",
            "  audio_log = 10.0 * np.log10(audio_filtered)\n"
          ]
        },
        {
          "metadata": {
            "tags": null
          },
          "name": "stdout",
          "output_type": "stream",
          "text": [
            "not mono 2\n",
            "107 / 3882\n"
          ]
        },
        {
          "metadata": {
            "tags": null
          },
          "name": "stderr",
          "output_type": "stream",
          "text": [
            "<ipython-input-26-18a742631681>:72: RuntimeWarning: divide by zero encountered in log10\n",
            "  audio_log = 10.0 * np.log10(audio_filtered)\n"
          ]
        },
        {
          "metadata": {
            "tags": null
          },
          "name": "stdout",
          "output_type": "stream",
          "text": [
            "not mono 2\n",
            "108 / 3882\n"
          ]
        },
        {
          "metadata": {
            "tags": null
          },
          "name": "stderr",
          "output_type": "stream",
          "text": [
            "<ipython-input-26-18a742631681>:72: RuntimeWarning: divide by zero encountered in log10\n",
            "  audio_log = 10.0 * np.log10(audio_filtered)\n"
          ]
        },
        {
          "metadata": {
            "tags": null
          },
          "name": "stdout",
          "output_type": "stream",
          "text": [
            "not mono 2\n",
            "109 / 3882\n"
          ]
        },
        {
          "metadata": {
            "tags": null
          },
          "name": "stderr",
          "output_type": "stream",
          "text": [
            "<ipython-input-26-18a742631681>:72: RuntimeWarning: divide by zero encountered in log10\n",
            "  audio_log = 10.0 * np.log10(audio_filtered)\n"
          ]
        },
        {
          "metadata": {
            "tags": null
          },
          "name": "stdout",
          "output_type": "stream",
          "text": [
            "not mono 2\n",
            "110 / 3882\n"
          ]
        },
        {
          "metadata": {
            "tags": null
          },
          "name": "stderr",
          "output_type": "stream",
          "text": [
            "<ipython-input-26-18a742631681>:72: RuntimeWarning: divide by zero encountered in log10\n",
            "  audio_log = 10.0 * np.log10(audio_filtered)\n"
          ]
        },
        {
          "metadata": {
            "tags": null
          },
          "name": "stdout",
          "output_type": "stream",
          "text": [
            "not mono 2\n",
            "111 / 3882\n"
          ]
        },
        {
          "metadata": {
            "tags": null
          },
          "name": "stderr",
          "output_type": "stream",
          "text": [
            "<ipython-input-26-18a742631681>:72: RuntimeWarning: divide by zero encountered in log10\n",
            "  audio_log = 10.0 * np.log10(audio_filtered)\n"
          ]
        },
        {
          "metadata": {
            "tags": null
          },
          "name": "stdout",
          "output_type": "stream",
          "text": [
            "not mono 2\n",
            "112 / 3882\n"
          ]
        },
        {
          "metadata": {
            "tags": null
          },
          "name": "stderr",
          "output_type": "stream",
          "text": [
            "<ipython-input-26-18a742631681>:72: RuntimeWarning: divide by zero encountered in log10\n",
            "  audio_log = 10.0 * np.log10(audio_filtered)\n"
          ]
        },
        {
          "metadata": {
            "tags": null
          },
          "name": "stdout",
          "output_type": "stream",
          "text": [
            "not mono 2\n"
          ]
        },
        {
          "metadata": {
            "tags": null
          },
          "name": "stderr",
          "output_type": "stream",
          "text": [
            "<ipython-input-26-18a742631681>:72: RuntimeWarning: divide by zero encountered in log10\n",
            "  audio_log = 10.0 * np.log10(audio_filtered)\n"
          ]
        },
        {
          "metadata": {
            "tags": null
          },
          "name": "stdout",
          "output_type": "stream",
          "text": [
            "113 / 3882\n",
            "not mono 2\n",
            "114 /"
          ]
        },
        {
          "metadata": {
            "tags": null
          },
          "name": "stderr",
          "output_type": "stream",
          "text": [
            "<ipython-input-26-18a742631681>:72: RuntimeWarning: divide by zero encountered in log10\n",
            "  audio_log = 10.0 * np.log10(audio_filtered)\n"
          ]
        },
        {
          "metadata": {
            "tags": null
          },
          "name": "stdout",
          "output_type": "stream",
          "text": [
            " 3882\n",
            "not mono 2\n",
            "115 / 3882\n"
          ]
        },
        {
          "metadata": {
            "tags": null
          },
          "name": "stderr",
          "output_type": "stream",
          "text": [
            "<ipython-input-26-18a742631681>:72: RuntimeWarning: divide by zero encountered in log10\n",
            "  audio_log = 10.0 * np.log10(audio_filtered)\n"
          ]
        },
        {
          "metadata": {
            "tags": null
          },
          "name": "stdout",
          "output_type": "stream",
          "text": [
            "not mono 2\n",
            "116 / 3882\n",
            "not mono 2\n",
            "117 / 3882\n",
            "not mono 2\n",
            "118 / 3882\n",
            "not mono 2\n",
            "119 / 3882\n",
            "not mono 2\n",
            "120 / 3882\n",
            "not mono 2\n",
            "121 / 3882\n",
            "not mono 2\n",
            "122 / 3882\n",
            "not mono 2\n",
            "123 / 3882\n",
            "124 / 3882\n",
            "not mono 2\n",
            "125 / 3882\n",
            "not mono 2\n",
            "126 / 3882\n",
            "127 / 3882\n",
            "128 / 3882\n",
            "129 / 3882\n",
            "130 / 3882\n",
            "not mono 2\n",
            "131 / 3882\n"
          ]
        },
        {
          "metadata": {
            "tags": null
          },
          "name": "stderr",
          "output_type": "stream",
          "text": [
            "<ipython-input-26-18a742631681>:72: RuntimeWarning: divide by zero encountered in log10\n",
            "  audio_log = 10.0 * np.log10(audio_filtered)\n"
          ]
        },
        {
          "metadata": {
            "tags": null
          },
          "name": "stdout",
          "output_type": "stream",
          "text": [
            "not mono 2\n",
            "132 / 3882\n"
          ]
        },
        {
          "metadata": {
            "tags": null
          },
          "name": "stderr",
          "output_type": "stream",
          "text": [
            "<ipython-input-26-18a742631681>:72: RuntimeWarning: divide by zero encountered in log10\n",
            "  audio_log = 10.0 * np.log10(audio_filtered)\n"
          ]
        },
        {
          "metadata": {
            "tags": null
          },
          "name": "stdout",
          "output_type": "stream",
          "text": [
            "not mono 2\n",
            "133 / 3882\n"
          ]
        },
        {
          "metadata": {
            "tags": null
          },
          "name": "stderr",
          "output_type": "stream",
          "text": [
            "<ipython-input-26-18a742631681>:72: RuntimeWarning: divide by zero encountered in log10\n",
            "  audio_log = 10.0 * np.log10(audio_filtered)\n"
          ]
        },
        {
          "metadata": {
            "tags": null
          },
          "name": "stdout",
          "output_type": "stream",
          "text": [
            "not mono 2\n",
            "134 / 3882\n"
          ]
        },
        {
          "metadata": {
            "tags": null
          },
          "name": "stderr",
          "output_type": "stream",
          "text": [
            "<ipython-input-26-18a742631681>:72: RuntimeWarning: divide by zero encountered in log10\n",
            "  audio_log = 10.0 * np.log10(audio_filtered)\n"
          ]
        },
        {
          "metadata": {
            "tags": null
          },
          "name": "stdout",
          "output_type": "stream",
          "text": [
            "not mono 2\n",
            "135 / 3882\n"
          ]
        },
        {
          "metadata": {
            "tags": null
          },
          "name": "stderr",
          "output_type": "stream",
          "text": [
            "<ipython-input-26-18a742631681>:72: RuntimeWarning: divide by zero encountered in log10\n",
            "  audio_log = 10.0 * np.log10(audio_filtered)\n"
          ]
        },
        {
          "metadata": {
            "tags": null
          },
          "name": "stdout",
          "output_type": "stream",
          "text": [
            "not mono 2\n",
            "136 / 3882\n"
          ]
        },
        {
          "metadata": {
            "tags": null
          },
          "name": "stderr",
          "output_type": "stream",
          "text": [
            "<ipython-input-26-18a742631681>:72: RuntimeWarning: divide by zero encountered in log10\n",
            "  audio_log = 10.0 * np.log10(audio_filtered)\n",
            "<ipython-input-26-18a742631681>:72: RuntimeWarning: divide by zero encountered in log10\n",
            "  audio_log = 10.0 * np.log10(audio_filtered)\n"
          ]
        },
        {
          "metadata": {
            "tags": null
          },
          "name": "stdout",
          "output_type": "stream",
          "text": [
            "137 / 3882\n",
            "not mono 2\n",
            "138 / 3882\n"
          ]
        },
        {
          "metadata": {
            "tags": null
          },
          "name": "stderr",
          "output_type": "stream",
          "text": [
            "<ipython-input-26-18a742631681>:72: RuntimeWarning: divide by zero encountered in log10\n",
            "  audio_log = 10.0 * np.log10(audio_filtered)\n"
          ]
        },
        {
          "metadata": {
            "tags": null
          },
          "name": "stdout",
          "output_type": "stream",
          "text": [
            "not mono 2\n",
            "139 / 3882\n"
          ]
        },
        {
          "metadata": {
            "tags": null
          },
          "name": "stderr",
          "output_type": "stream",
          "text": [
            "<ipython-input-26-18a742631681>:72: RuntimeWarning: divide by zero encountered in log10\n",
            "  audio_log = 10.0 * np.log10(audio_filtered)\n"
          ]
        },
        {
          "metadata": {
            "tags": null
          },
          "name": "stdout",
          "output_type": "stream",
          "text": [
            "not mono 2\n",
            "140 / 3882\n"
          ]
        },
        {
          "metadata": {
            "tags": null
          },
          "name": "stderr",
          "output_type": "stream",
          "text": [
            "<ipython-input-26-18a742631681>:72: RuntimeWarning: divide by zero encountered in log10\n",
            "  audio_log = 10.0 * np.log10(audio_filtered)\n"
          ]
        },
        {
          "metadata": {
            "tags": null
          },
          "name": "stdout",
          "output_type": "stream",
          "text": [
            "not mono 2\n",
            "141 / 3882\n"
          ]
        },
        {
          "metadata": {
            "tags": null
          },
          "name": "stderr",
          "output_type": "stream",
          "text": [
            "<ipython-input-26-18a742631681>:72: RuntimeWarning: divide by zero encountered in log10\n",
            "  audio_log = 10.0 * np.log10(audio_filtered)\n"
          ]
        },
        {
          "metadata": {
            "tags": null
          },
          "name": "stdout",
          "output_type": "stream",
          "text": [
            "not mono 2\n",
            "142 / 3882\n",
            "not mono 2\n",
            "143 / 3882\n"
          ]
        },
        {
          "metadata": {
            "tags": null
          },
          "name": "stderr",
          "output_type": "stream",
          "text": [
            "<ipython-input-26-18a742631681>:72: RuntimeWarning: divide by zero encountered in log10\n",
            "  audio_log = 10.0 * np.log10(audio_filtered)\n"
          ]
        },
        {
          "metadata": {
            "tags": null
          },
          "name": "stdout",
          "output_type": "stream",
          "text": [
            "not mono 2\n"
          ]
        },
        {
          "metadata": {
            "tags": null
          },
          "name": "stderr",
          "output_type": "stream",
          "text": [
            "<ipython-input-26-18a742631681>:72: RuntimeWarning: divide by zero encountered in log10\n",
            "  audio_log = 10.0 * np.log10(audio_filtered)\n"
          ]
        },
        {
          "metadata": {
            "tags": null
          },
          "name": "stdout",
          "output_type": "stream",
          "text": [
            "144 / 3882\n",
            "not mono 2\n",
            "145 / 3882\n"
          ]
        },
        {
          "metadata": {
            "tags": null
          },
          "name": "stderr",
          "output_type": "stream",
          "text": [
            "<ipython-input-26-18a742631681>:72: RuntimeWarning: divide by zero encountered in log10\n",
            "  audio_log = 10.0 * np.log10(audio_filtered)\n"
          ]
        },
        {
          "metadata": {
            "tags": null
          },
          "name": "stdout",
          "output_type": "stream",
          "text": [
            "not mono 2\n"
          ]
        },
        {
          "metadata": {
            "tags": null
          },
          "name": "stderr",
          "output_type": "stream",
          "text": [
            "<ipython-input-26-18a742631681>:72: RuntimeWarning: divide by zero encountered in log10\n",
            "  audio_log = 10.0 * np.log10(audio_filtered)\n"
          ]
        },
        {
          "metadata": {
            "tags": null
          },
          "name": "stdout",
          "output_type": "stream",
          "text": [
            "146 / 3882\n",
            "not mono 2\n",
            "147 / 3882\n"
          ]
        },
        {
          "metadata": {
            "tags": null
          },
          "name": "stderr",
          "output_type": "stream",
          "text": [
            "<ipython-input-26-18a742631681>:72: RuntimeWarning: divide by zero encountered in log10\n",
            "  audio_log = 10.0 * np.log10(audio_filtered)\n"
          ]
        },
        {
          "metadata": {
            "tags": null
          },
          "name": "stdout",
          "output_type": "stream",
          "text": [
            "not mono 2\n",
            "148 / 3882\n"
          ]
        },
        {
          "metadata": {
            "tags": null
          },
          "name": "stderr",
          "output_type": "stream",
          "text": [
            "<ipython-input-26-18a742631681>:72: RuntimeWarning: divide by zero encountered in log10\n",
            "  audio_log = 10.0 * np.log10(audio_filtered)\n"
          ]
        },
        {
          "metadata": {
            "tags": null
          },
          "name": "stdout",
          "output_type": "stream",
          "text": [
            "not mono 2\n"
          ]
        },
        {
          "metadata": {
            "tags": null
          },
          "name": "stderr",
          "output_type": "stream",
          "text": [
            "<ipython-input-26-18a742631681>:72: RuntimeWarning: divide by zero encountered in log10\n",
            "  audio_log = 10.0 * np.log10(audio_filtered)\n"
          ]
        },
        {
          "metadata": {
            "tags": null
          },
          "name": "stdout",
          "output_type": "stream",
          "text": [
            "149 / 3882\n"
          ]
        },
        {
          "metadata": {
            "tags": null
          },
          "name": "stderr",
          "output_type": "stream",
          "text": [
            "<ipython-input-26-18a742631681>:72: RuntimeWarning: divide by zero encountered in log10\n",
            "  audio_log = 10.0 * np.log10(audio_filtered)\n"
          ]
        },
        {
          "metadata": {
            "tags": null
          },
          "name": "stdout",
          "output_type": "stream",
          "text": [
            "150 / 3882\n"
          ]
        },
        {
          "metadata": {
            "tags": null
          },
          "name": "stderr",
          "output_type": "stream",
          "text": [
            "<ipython-input-26-18a742631681>:72: RuntimeWarning: divide by zero encountered in log10\n",
            "  audio_log = 10.0 * np.log10(audio_filtered)\n"
          ]
        },
        {
          "metadata": {
            "tags": null
          },
          "name": "stdout",
          "output_type": "stream",
          "text": [
            "151 / 3882\n",
            "not mono 2\n",
            "152 / 3882\n"
          ]
        },
        {
          "metadata": {
            "tags": null
          },
          "name": "stderr",
          "output_type": "stream",
          "text": [
            "<ipython-input-26-18a742631681>:72: RuntimeWarning: divide by zero encountered in log10\n",
            "  audio_log = 10.0 * np.log10(audio_filtered)\n"
          ]
        },
        {
          "metadata": {
            "tags": null
          },
          "name": "stdout",
          "output_type": "stream",
          "text": [
            "not mono 2\n",
            "153 / 3882\n"
          ]
        },
        {
          "metadata": {
            "tags": null
          },
          "name": "stderr",
          "output_type": "stream",
          "text": [
            "<ipython-input-26-18a742631681>:72: RuntimeWarning: divide by zero encountered in log10\n",
            "  audio_log = 10.0 * np.log10(audio_filtered)\n"
          ]
        },
        {
          "metadata": {
            "tags": null
          },
          "name": "stdout",
          "output_type": "stream",
          "text": [
            "not mono 2\n",
            "154 / 3882\n"
          ]
        },
        {
          "metadata": {
            "tags": null
          },
          "name": "stderr",
          "output_type": "stream",
          "text": [
            "<ipython-input-26-18a742631681>:72: RuntimeWarning: divide by zero encountered in log10\n",
            "  audio_log = 10.0 * np.log10(audio_filtered)\n",
            "<ipython-input-26-18a742631681>:72: RuntimeWarning: divide by zero encountered in log10\n",
            "  audio_log = 10.0 * np.log10(audio_filtered)\n"
          ]
        },
        {
          "metadata": {
            "tags": null
          },
          "name": "stdout",
          "output_type": "stream",
          "text": [
            "155 / 3882\n",
            "not mono 2\n",
            "156 / 3882\n"
          ]
        },
        {
          "metadata": {
            "tags": null
          },
          "name": "stderr",
          "output_type": "stream",
          "text": [
            "<ipython-input-26-18a742631681>:72: RuntimeWarning: divide by zero encountered in log10\n",
            "  audio_log = 10.0 * np.log10(audio_filtered)\n"
          ]
        },
        {
          "metadata": {
            "tags": null
          },
          "name": "stdout",
          "output_type": "stream",
          "text": [
            "not mono 2\n",
            "157 / 3882\n"
          ]
        },
        {
          "metadata": {
            "tags": null
          },
          "name": "stderr",
          "output_type": "stream",
          "text": [
            "<ipython-input-26-18a742631681>:72: RuntimeWarning: divide by zero encountered in log10\n",
            "  audio_log = 10.0 * np.log10(audio_filtered)\n"
          ]
        },
        {
          "metadata": {
            "tags": null
          },
          "name": "stdout",
          "output_type": "stream",
          "text": [
            "not mono 2\n"
          ]
        },
        {
          "metadata": {
            "tags": null
          },
          "name": "stderr",
          "output_type": "stream",
          "text": [
            "<ipython-input-26-18a742631681>:72: RuntimeWarning: divide by zero encountered in log10\n",
            "  audio_log = 10.0 * np.log10(audio_filtered)\n"
          ]
        },
        {
          "metadata": {
            "tags": null
          },
          "name": "stdout",
          "output_type": "stream",
          "text": [
            "158 / 3882\n",
            "not mono 2\n",
            "159 / 3882\n"
          ]
        },
        {
          "metadata": {
            "tags": null
          },
          "name": "stderr",
          "output_type": "stream",
          "text": [
            "<ipython-input-26-18a742631681>:72: RuntimeWarning: divide by zero encountered in log10\n",
            "  audio_log = 10.0 * np.log10(audio_filtered)\n"
          ]
        },
        {
          "metadata": {
            "tags": null
          },
          "name": "stdout",
          "output_type": "stream",
          "text": [
            "not mono 2\n",
            "160 / 3882\n"
          ]
        },
        {
          "metadata": {
            "tags": null
          },
          "name": "stderr",
          "output_type": "stream",
          "text": [
            "<ipython-input-26-18a742631681>:72: RuntimeWarning: divide by zero encountered in log10\n",
            "  audio_log = 10.0 * np.log10(audio_filtered)\n"
          ]
        },
        {
          "metadata": {
            "tags": null
          },
          "name": "stdout",
          "output_type": "stream",
          "text": [
            "not mono 2\n",
            "161 / 3882\n"
          ]
        },
        {
          "metadata": {
            "tags": null
          },
          "name": "stderr",
          "output_type": "stream",
          "text": [
            "<ipython-input-26-18a742631681>:72: RuntimeWarning: divide by zero encountered in log10\n",
            "  audio_log = 10.0 * np.log10(audio_filtered)\n"
          ]
        },
        {
          "metadata": {
            "tags": null
          },
          "name": "stdout",
          "output_type": "stream",
          "text": [
            "not mono 2\n",
            "162 / 3882\n"
          ]
        },
        {
          "metadata": {
            "tags": null
          },
          "name": "stderr",
          "output_type": "stream",
          "text": [
            "<ipython-input-26-18a742631681>:72: RuntimeWarning: divide by zero encountered in log10\n",
            "  audio_log = 10.0 * np.log10(audio_filtered)\n"
          ]
        },
        {
          "metadata": {
            "tags": null
          },
          "name": "stdout",
          "output_type": "stream",
          "text": [
            "not mono 2\n",
            "163 / 3882\n"
          ]
        },
        {
          "metadata": {
            "tags": null
          },
          "name": "stderr",
          "output_type": "stream",
          "text": [
            "<ipython-input-26-18a742631681>:72: RuntimeWarning: divide by zero encountered in log10\n",
            "  audio_log = 10.0 * np.log10(audio_filtered)\n"
          ]
        },
        {
          "metadata": {
            "tags": null
          },
          "name": "stdout",
          "output_type": "stream",
          "text": [
            "not mono 2\n",
            "164 / 3882\n"
          ]
        },
        {
          "metadata": {
            "tags": null
          },
          "name": "stderr",
          "output_type": "stream",
          "text": [
            "<ipython-input-26-18a742631681>:72: RuntimeWarning: divide by zero encountered in log10\n",
            "  audio_log = 10.0 * np.log10(audio_filtered)\n"
          ]
        },
        {
          "metadata": {
            "tags": null
          },
          "name": "stdout",
          "output_type": "stream",
          "text": [
            "not mono 2\n"
          ]
        },
        {
          "metadata": {
            "tags": null
          },
          "name": "stderr",
          "output_type": "stream",
          "text": [
            "<ipython-input-26-18a742631681>:72: RuntimeWarning: divide by zero encountered in log10\n",
            "  audio_log = 10.0 * np.log10(audio_filtered)\n"
          ]
        },
        {
          "metadata": {
            "tags": null
          },
          "name": "stdout",
          "output_type": "stream",
          "text": [
            "165 / 3882\n"
          ]
        },
        {
          "metadata": {
            "tags": null
          },
          "name": "stderr",
          "output_type": "stream",
          "text": [
            "<ipython-input-26-18a742631681>:72: RuntimeWarning: divide by zero encountered in log10\n",
            "  audio_log = 10.0 * np.log10(audio_filtered)\n"
          ]
        },
        {
          "metadata": {
            "tags": null
          },
          "name": "stdout",
          "output_type": "stream",
          "text": [
            "166 / 3882\n",
            "not mono 2\n",
            "167 / 3882\n",
            "not mono 2\n",
            "168 / 3882\n"
          ]
        },
        {
          "metadata": {
            "tags": null
          },
          "name": "stderr",
          "output_type": "stream",
          "text": [
            "<ipython-input-26-18a742631681>:72: RuntimeWarning: divide by zero encountered in log10\n",
            "  audio_log = 10.0 * np.log10(audio_filtered)\n"
          ]
        },
        {
          "metadata": {
            "tags": null
          },
          "name": "stdout",
          "output_type": "stream",
          "text": [
            "not mono 2\n",
            "169 / 3882\n"
          ]
        },
        {
          "metadata": {
            "tags": null
          },
          "name": "stderr",
          "output_type": "stream",
          "text": [
            "<ipython-input-26-18a742631681>:72: RuntimeWarning: divide by zero encountered in log10\n",
            "  audio_log = 10.0 * np.log10(audio_filtered)\n",
            "<ipython-input-26-18a742631681>:72: RuntimeWarning: divide by zero encountered in log10\n",
            "  audio_log = 10.0 * np.log10(audio_filtered)\n"
          ]
        },
        {
          "metadata": {
            "tags": null
          },
          "name": "stdout",
          "output_type": "stream",
          "text": [
            "170 / 3882\n"
          ]
        },
        {
          "metadata": {
            "tags": null
          },
          "name": "stderr",
          "output_type": "stream",
          "text": [
            "<ipython-input-26-18a742631681>:72: RuntimeWarning: divide by zero encountered in log10\n",
            "  audio_log = 10.0 * np.log10(audio_filtered)\n"
          ]
        },
        {
          "metadata": {
            "tags": null
          },
          "name": "stdout",
          "output_type": "stream",
          "text": [
            "171 / 3882\n",
            "not mono 2\n",
            "172 / 3882\n"
          ]
        },
        {
          "metadata": {
            "tags": null
          },
          "name": "stderr",
          "output_type": "stream",
          "text": [
            "<ipython-input-26-18a742631681>:72: RuntimeWarning: divide by zero encountered in log10\n",
            "  audio_log = 10.0 * np.log10(audio_filtered)\n"
          ]
        },
        {
          "metadata": {
            "tags": null
          },
          "name": "stdout",
          "output_type": "stream",
          "text": [
            "not mono 2\n",
            "173 / 3882\n"
          ]
        },
        {
          "metadata": {
            "tags": null
          },
          "name": "stderr",
          "output_type": "stream",
          "text": [
            "<ipython-input-26-18a742631681>:72: RuntimeWarning: divide by zero encountered in log10\n",
            "  audio_log = 10.0 * np.log10(audio_filtered)\n"
          ]
        },
        {
          "metadata": {
            "tags": null
          },
          "name": "stdout",
          "output_type": "stream",
          "text": [
            "not mono 2\n"
          ]
        },
        {
          "metadata": {
            "tags": null
          },
          "name": "stderr",
          "output_type": "stream",
          "text": [
            "<ipython-input-26-18a742631681>:72: RuntimeWarning: divide by zero encountered in log10\n",
            "  audio_log = 10.0 * np.log10(audio_filtered)\n"
          ]
        },
        {
          "metadata": {
            "tags": null
          },
          "name": "stdout",
          "output_type": "stream",
          "text": [
            "174 / 3882\n",
            "not mono 2\n",
            "175 / 3882\n",
            "not mono 2\n",
            "176 / 3882\n",
            "not mono 2\n",
            "177 / 3882\n",
            "not mono 2\n",
            "178 / 3882\n"
          ]
        },
        {
          "metadata": {
            "tags": null
          },
          "name": "stderr",
          "output_type": "stream",
          "text": [
            "<ipython-input-26-18a742631681>:72: RuntimeWarning: divide by zero encountered in log10\n",
            "  audio_log = 10.0 * np.log10(audio_filtered)\n"
          ]
        },
        {
          "metadata": {
            "tags": null
          },
          "name": "stdout",
          "output_type": "stream",
          "text": [
            "not mono 2\n",
            "179 / 3882\n",
            "not mono 2\n",
            "180 / 3882\n",
            "not mono 2\n",
            "181 / 3882\n",
            "not mono 2\n",
            "182 / 3882\n",
            "not mono 2\n",
            "183 / 3882\n",
            "not mono 2\n",
            "184 / 3882\n",
            "not mono 2\n",
            "185 / 3882\n",
            "not mono 2\n",
            "186 / 3882\n"
          ]
        },
        {
          "metadata": {
            "tags": null
          },
          "name": "stderr",
          "output_type": "stream",
          "text": [
            "<ipython-input-26-18a742631681>:72: RuntimeWarning: divide by zero encountered in log10\n",
            "  audio_log = 10.0 * np.log10(audio_filtered)\n"
          ]
        },
        {
          "metadata": {
            "tags": null
          },
          "name": "stdout",
          "output_type": "stream",
          "text": [
            "not mono 2\n",
            "187 / 3882\n"
          ]
        },
        {
          "metadata": {
            "tags": null
          },
          "name": "stderr",
          "output_type": "stream",
          "text": [
            "<ipython-input-26-18a742631681>:72: RuntimeWarning: divide by zero encountered in log10\n",
            "  audio_log = 10.0 * np.log10(audio_filtered)\n"
          ]
        },
        {
          "metadata": {
            "tags": null
          },
          "name": "stdout",
          "output_type": "stream",
          "text": [
            "not mono 2\n",
            "188 / 3882\n",
            "not mono 2\n",
            "189 / 3882\n"
          ]
        },
        {
          "metadata": {
            "tags": null
          },
          "name": "stderr",
          "output_type": "stream",
          "text": [
            "<ipython-input-26-18a742631681>:72: RuntimeWarning: divide by zero encountered in log10\n",
            "  audio_log = 10.0 * np.log10(audio_filtered)\n"
          ]
        },
        {
          "metadata": {
            "tags": null
          },
          "name": "stdout",
          "output_type": "stream",
          "text": [
            "not mono 2\n",
            "190 / 3882\n",
            "not mono 2\n",
            "191 / 3882\n"
          ]
        },
        {
          "metadata": {
            "tags": null
          },
          "name": "stderr",
          "output_type": "stream",
          "text": [
            "<ipython-input-26-18a742631681>:72: RuntimeWarning: divide by zero encountered in log10\n",
            "  audio_log = 10.0 * np.log10(audio_filtered)\n"
          ]
        },
        {
          "metadata": {
            "tags": null
          },
          "name": "stdout",
          "output_type": "stream",
          "text": [
            "not mono 2\n",
            "192 / 3882\n",
            "not mono 2\n",
            "193 / 3882\n",
            "not mono 2\n",
            "194 / 3882\n",
            "not mono 2\n",
            "195 / 3882\n",
            "not mono 2\n",
            "196 / 3882\n",
            "not mono 2\n",
            "197 / 3882\n"
          ]
        },
        {
          "metadata": {
            "tags": null
          },
          "name": "stderr",
          "output_type": "stream",
          "text": [
            "<ipython-input-26-18a742631681>:72: RuntimeWarning: divide by zero encountered in log10\n",
            "  audio_log = 10.0 * np.log10(audio_filtered)\n"
          ]
        },
        {
          "metadata": {
            "tags": null
          },
          "name": "stdout",
          "output_type": "stream",
          "text": [
            "not mono 2\n",
            "198 / 3882\n",
            "not mono 2\n",
            "199 / 3882\n",
            "200 / 3882\n",
            "201 / 3882\n",
            "not mono 2\n",
            "202 / 3882\n"
          ]
        },
        {
          "metadata": {
            "tags": null
          },
          "name": "stderr",
          "output_type": "stream",
          "text": [
            "<ipython-input-26-18a742631681>:72: RuntimeWarning: divide by zero encountered in log10\n",
            "  audio_log = 10.0 * np.log10(audio_filtered)\n"
          ]
        },
        {
          "metadata": {
            "tags": null
          },
          "name": "stdout",
          "output_type": "stream",
          "text": [
            "not mono 2\n",
            "203 / 3882\n",
            "not mono 2\n",
            "204 / 3882\n"
          ]
        },
        {
          "metadata": {
            "tags": null
          },
          "name": "stderr",
          "output_type": "stream",
          "text": [
            "<ipython-input-26-18a742631681>:72: RuntimeWarning: divide by zero encountered in log10\n",
            "  audio_log = 10.0 * np.log10(audio_filtered)\n"
          ]
        },
        {
          "metadata": {
            "tags": null
          },
          "name": "stdout",
          "output_type": "stream",
          "text": [
            "not mono 2\n",
            "205 / 3882\n",
            "not mono 2\n",
            "206 / 3882\n"
          ]
        },
        {
          "metadata": {
            "tags": null
          },
          "name": "stderr",
          "output_type": "stream",
          "text": [
            "<ipython-input-26-18a742631681>:72: RuntimeWarning: divide by zero encountered in log10\n",
            "  audio_log = 10.0 * np.log10(audio_filtered)\n"
          ]
        },
        {
          "metadata": {
            "tags": null
          },
          "name": "stdout",
          "output_type": "stream",
          "text": [
            "207 / 3882\n",
            "not mono 2\n",
            "208 / 3882\n"
          ]
        },
        {
          "metadata": {
            "tags": null
          },
          "name": "stderr",
          "output_type": "stream",
          "text": [
            "<ipython-input-26-18a742631681>:72: RuntimeWarning: divide by zero encountered in log10\n",
            "  audio_log = 10.0 * np.log10(audio_filtered)\n"
          ]
        },
        {
          "metadata": {
            "tags": null
          },
          "name": "stdout",
          "output_type": "stream",
          "text": [
            "not mono 2\n",
            "209 / 3882\n"
          ]
        },
        {
          "metadata": {
            "tags": null
          },
          "name": "stderr",
          "output_type": "stream",
          "text": [
            "<ipython-input-26-18a742631681>:72: RuntimeWarning: divide by zero encountered in log10\n",
            "  audio_log = 10.0 * np.log10(audio_filtered)\n"
          ]
        },
        {
          "metadata": {
            "tags": null
          },
          "name": "stdout",
          "output_type": "stream",
          "text": [
            "not mono 2\n",
            "210 / 3882\n",
            "not mono 2\n",
            "211 / 3882\n",
            "not mono 2\n",
            "212 / 3882\n",
            "not mono 2\n",
            "213 / 3882\n",
            "not mono 2\n",
            "214 / 3882\n"
          ]
        },
        {
          "metadata": {
            "tags": null
          },
          "name": "stderr",
          "output_type": "stream",
          "text": [
            "<ipython-input-26-18a742631681>:72: RuntimeWarning: divide by zero encountered in log10\n",
            "  audio_log = 10.0 * np.log10(audio_filtered)\n"
          ]
        },
        {
          "metadata": {
            "tags": null
          },
          "name": "stdout",
          "output_type": "stream",
          "text": [
            "not mono 2\n",
            "215 / 3882\n"
          ]
        },
        {
          "metadata": {
            "tags": null
          },
          "name": "stderr",
          "output_type": "stream",
          "text": [
            "<ipython-input-26-18a742631681>:72: RuntimeWarning: divide by zero encountered in log10\n",
            "  audio_log = 10.0 * np.log10(audio_filtered)\n"
          ]
        },
        {
          "metadata": {
            "tags": null
          },
          "name": "stdout",
          "output_type": "stream",
          "text": [
            "not mono 2\n",
            "216 / 3882\n"
          ]
        },
        {
          "metadata": {
            "tags": null
          },
          "name": "stderr",
          "output_type": "stream",
          "text": [
            "<ipython-input-26-18a742631681>:72: RuntimeWarning: divide by zero encountered in log10\n",
            "  audio_log = 10.0 * np.log10(audio_filtered)\n"
          ]
        },
        {
          "metadata": {
            "tags": null
          },
          "name": "stdout",
          "output_type": "stream",
          "text": [
            "not mono 2\n",
            "217 / 3882\n"
          ]
        },
        {
          "metadata": {
            "tags": null
          },
          "name": "stderr",
          "output_type": "stream",
          "text": [
            "<ipython-input-26-18a742631681>:72: RuntimeWarning: divide by zero encountered in log10\n",
            "  audio_log = 10.0 * np.log10(audio_filtered)\n"
          ]
        },
        {
          "metadata": {
            "tags": null
          },
          "name": "stdout",
          "output_type": "stream",
          "text": [
            "not mono 2\n",
            "218 / 3882\n",
            "not mono 2\n",
            "219 / 3882\n",
            "not mono 2\n",
            "220 / 3882\n",
            "not mono 2\n",
            "221 / 3882\n",
            "not mono 2\n",
            "222 / 3882\n",
            "not mono 2\n",
            "223 / 3882\n",
            "not mono 2\n",
            "224 / 3882\n",
            "not mono 2\n",
            "225 / 3882\n"
          ]
        },
        {
          "metadata": {
            "tags": null
          },
          "name": "stderr",
          "output_type": "stream",
          "text": [
            "<ipython-input-26-18a742631681>:72: RuntimeWarning: divide by zero encountered in log10\n",
            "  audio_log = 10.0 * np.log10(audio_filtered)\n"
          ]
        },
        {
          "metadata": {
            "tags": null
          },
          "name": "stdout",
          "output_type": "stream",
          "text": [
            "not mono 2\n",
            "226 / 3882\n",
            "not mono 2\n",
            "227 / 3882\n",
            "not mono 2\n",
            "228 / 3882\n",
            "not mono 2\n",
            "229 / 3882\n",
            "not mono 2\n",
            "230 / 3882\n",
            "not mono 2\n",
            "231 / 3882\n",
            "not mono 2\n",
            "232 / 3882\n",
            "not mono 2\n",
            "233 / 3882\n",
            "234 / 3882\n",
            "235 / 3882\n",
            "236 / 3882\n",
            "237 / 3882\n",
            "238 / 3882\n",
            "239 / 3882\n",
            "240 / 3882\n",
            "241 / 3882\n",
            "242 / 3882\n",
            "243 / 3882\n",
            "244 / 3882\n",
            "245 / 3882\n",
            "246 / 3882\n",
            "247 / 3882\n",
            "248 / 3882\n",
            "249 / 3882\n",
            "250 / 3882\n",
            "251 / 3882\n",
            "252 / 3882\n",
            "253 / 3882\n",
            "254 / 3882\n",
            "255 / 3882\n",
            "256 / 3882\n",
            "257 / 3882\n",
            "258 / 3882\n",
            "259 / 3882\n",
            "260 / 3882\n",
            "261 / 3882\n",
            "262 / 3882\n",
            "263 / 3882\n",
            "264 / 3882\n",
            "265 / 3882\n",
            "266 / 3882\n",
            "267 / 3882\n",
            "268 / 3882\n",
            "269 / 3882\n",
            "270 / 3882\n",
            "271 / 3882\n",
            "272 / 3882\n",
            "273 / 3882\n",
            "274 / 3882\n",
            "not mono 2\n",
            "275 / 3882\n",
            "not mono 2\n",
            "276 / 3882\n",
            "277 / 3882\n",
            "278 / 3882\n",
            "not mono 2\n",
            "279 / 3882\n",
            "280 / 3882\n",
            "281 / 3882\n",
            "282 / 3882\n",
            "not mono 2\n",
            "283 / 3882\n",
            "not mono 2\n",
            "284 / 3882\n",
            "not mono 2\n",
            "285 / 3882\n",
            "not mono 2\n",
            "286 / 3882\n",
            "287 / 3882\n",
            "not mono 2\n",
            "288 / 3882\n",
            "289 / 3882\n",
            "290 / 3882\n",
            "291 / 3882\n",
            "292 / 3882\n",
            "293 / 3882\n",
            "294 / 3882\n",
            "295 / 3882\n",
            "296 / 3882\n",
            "297 / 3882\n"
          ]
        },
        {
          "metadata": {
            "tags": null
          },
          "name": "stderr",
          "output_type": "stream",
          "text": [
            "<ipython-input-26-18a742631681>:72: RuntimeWarning: divide by zero encountered in log10\n",
            "  audio_log = 10.0 * np.log10(audio_filtered)\n"
          ]
        },
        {
          "metadata": {
            "tags": null
          },
          "name": "stdout",
          "output_type": "stream",
          "text": [
            "298 / 3882\n",
            "299 / 3882\n",
            "300 / 3882\n",
            "301 / 3882\n",
            "302 / 3882\n",
            "303 / 3882\n",
            "304 / 3882\n",
            "305 / 3882\n",
            "306 / 3882\n",
            "307 / 3882\n",
            "308 / 3882\n",
            "309 / 3882\n",
            "310 / 3882\n",
            "311 / 3882\n",
            "312 / 3882\n",
            "313 / 3882\n",
            "314 / 3882\n",
            "not mono 2\n",
            "315 / 3882\n"
          ]
        },
        {
          "metadata": {
            "tags": null
          },
          "name": "stderr",
          "output_type": "stream",
          "text": [
            "<ipython-input-26-18a742631681>:72: RuntimeWarning: divide by zero encountered in log10\n",
            "  audio_log = 10.0 * np.log10(audio_filtered)\n"
          ]
        },
        {
          "metadata": {
            "tags": null
          },
          "name": "stdout",
          "output_type": "stream",
          "text": [
            "316 / 3882\n",
            "317 / 3882\n",
            "318 / 3882\n",
            "319 / 3882\n"
          ]
        },
        {
          "metadata": {
            "tags": null
          },
          "name": "stderr",
          "output_type": "stream",
          "text": [
            "<ipython-input-26-18a742631681>:72: RuntimeWarning: divide by zero encountered in log10\n",
            "  audio_log = 10.0 * np.log10(audio_filtered)\n"
          ]
        },
        {
          "metadata": {
            "tags": null
          },
          "name": "stdout",
          "output_type": "stream",
          "text": [
            "320 / 3882\n",
            "321 / 3882\n",
            "322 / 3882\n",
            "323 / 3882\n",
            "324 / 3882\n",
            "325 / 3882\n",
            "326 / 3882\n",
            "327 / 3882\n",
            "328 / 3882\n",
            "329 / 3882\n",
            "330 / 3882\n",
            "331 / 3882\n",
            "332 / 3882\n",
            "333 / 3882\n",
            "334 / 3882\n",
            "335 / 3882\n",
            "not mono 2\n",
            "336 / 3882\n",
            "not mono 2\n",
            "337 / 3882\n",
            "not mono 2\n",
            "338 / 3882\n",
            "339 / 3882\n",
            "340 / 3882\n",
            "341 / 3882\n",
            "not mono 2\n",
            "342 / 3882\n",
            "not mono 2\n",
            "343 / 3882\n",
            "not mono 2\n",
            "344 / 3882\n",
            "not mono 2\n",
            "345 / 3882\n",
            "not mono 2\n",
            "346 / 3882\n",
            "not mono 2\n",
            "347 / 3882\n",
            "not mono 2\n",
            "348 / 3882\n",
            "not mono 2\n",
            "349 / 3882\n",
            "not mono 2\n",
            "350 / 3882\n",
            "not mono 2\n",
            "351 / 3882\n",
            "not mono 2\n",
            "352 / 3882\n",
            "353 / 3882\n",
            "354 / 3882\n",
            "355 / 3882\n",
            "356 / 3882\n",
            "357 / 3882\n",
            "358 / 3882\n",
            "359 / 3882\n",
            "360 / 3882\n",
            "361 / 3882\n",
            "not mono 2\n",
            "362 / 3882\n",
            "not mono 2\n",
            "363 / 3882\n",
            "364 / 3882\n",
            "365 / 3882\n",
            "not mono 2\n",
            "366 / 3882\n",
            "not mono 2\n",
            "367 / 3882\n",
            "not mono 2\n",
            "368 / 3882\n"
          ]
        },
        {
          "metadata": {
            "tags": null
          },
          "name": "stderr",
          "output_type": "stream",
          "text": [
            "<ipython-input-26-18a742631681>:72: RuntimeWarning: divide by zero encountered in log10\n",
            "  audio_log = 10.0 * np.log10(audio_filtered)\n"
          ]
        },
        {
          "metadata": {
            "tags": null
          },
          "name": "stdout",
          "output_type": "stream",
          "text": [
            "not mono 2\n",
            "369 / 3882\n"
          ]
        },
        {
          "metadata": {
            "tags": null
          },
          "name": "stderr",
          "output_type": "stream",
          "text": [
            "<ipython-input-26-18a742631681>:72: RuntimeWarning: divide by zero encountered in log10\n",
            "  audio_log = 10.0 * np.log10(audio_filtered)\n"
          ]
        },
        {
          "metadata": {
            "tags": null
          },
          "name": "stdout",
          "output_type": "stream",
          "text": [
            "not mono 2\n",
            "370 / 3882\n"
          ]
        },
        {
          "metadata": {
            "tags": null
          },
          "name": "stderr",
          "output_type": "stream",
          "text": [
            "<ipython-input-26-18a742631681>:72: RuntimeWarning: divide by zero encountered in log10\n",
            "  audio_log = 10.0 * np.log10(audio_filtered)\n"
          ]
        },
        {
          "metadata": {
            "tags": null
          },
          "name": "stdout",
          "output_type": "stream",
          "text": [
            "not mono 2\n",
            "371 / 3882\n"
          ]
        },
        {
          "metadata": {
            "tags": null
          },
          "name": "stderr",
          "output_type": "stream",
          "text": [
            "<ipython-input-26-18a742631681>:72: RuntimeWarning: divide by zero encountered in log10\n",
            "  audio_log = 10.0 * np.log10(audio_filtered)\n"
          ]
        },
        {
          "metadata": {
            "tags": null
          },
          "name": "stdout",
          "output_type": "stream",
          "text": [
            "not mono 2\n",
            "372 / 3882\n",
            "not mono 2\n",
            "373 / 3882\n"
          ]
        },
        {
          "metadata": {
            "tags": null
          },
          "name": "stderr",
          "output_type": "stream",
          "text": [
            "<ipython-input-26-18a742631681>:72: RuntimeWarning: divide by zero encountered in log10\n",
            "  audio_log = 10.0 * np.log10(audio_filtered)\n"
          ]
        },
        {
          "metadata": {
            "tags": null
          },
          "name": "stdout",
          "output_type": "stream",
          "text": [
            "not mono 2\n",
            "374 / 3882\n"
          ]
        },
        {
          "metadata": {
            "tags": null
          },
          "name": "stderr",
          "output_type": "stream",
          "text": [
            "<ipython-input-26-18a742631681>:72: RuntimeWarning: divide by zero encountered in log10\n",
            "  audio_log = 10.0 * np.log10(audio_filtered)\n"
          ]
        },
        {
          "metadata": {
            "tags": null
          },
          "name": "stdout",
          "output_type": "stream",
          "text": [
            "not mono 2\n",
            "375 / 3882\n",
            "not mono 2\n",
            "376 / 3882\n",
            "not mono 2\n",
            "377 / 3882\n",
            "not mono 2\n",
            "378 / 3882\n",
            "not mono 2\n",
            "379 / 3882\n",
            "not mono 2\n",
            "380 / 3882\n",
            "381 / 3882\n"
          ]
        },
        {
          "metadata": {
            "tags": null
          },
          "name": "stderr",
          "output_type": "stream",
          "text": [
            "<ipython-input-26-18a742631681>:72: RuntimeWarning: divide by zero encountered in log10\n",
            "  audio_log = 10.0 * np.log10(audio_filtered)\n"
          ]
        },
        {
          "metadata": {
            "tags": null
          },
          "name": "stdout",
          "output_type": "stream",
          "text": [
            "382 / 3882\n",
            "383 / 3882\n",
            "384 / 3882\n",
            "385 / 3882\n",
            "386 / 3882\n",
            "387 / 3882\n",
            "388 / 3882\n",
            "389 / 3882\n",
            "390 / 3882\n",
            "391 / 3882\n",
            "392 / 3882\n",
            "393 / 3882\n",
            "394 / 3882\n",
            "not mono 2\n",
            "395 / 3882\n",
            "not mono 2\n",
            "396 / 3882\n",
            "not mono 2\n",
            "397 / 3882\n",
            "not mono 2\n",
            "398 / 3882\n",
            "not mono 2\n",
            "399 / 3882\n",
            "not mono 2\n",
            "400 / 3882\n",
            "not mono 2\n",
            "401 / 3882\n",
            "402 / 3882\n",
            "403 / 3882\n",
            "404 / 3882\n",
            "405 / 3882\n",
            "406 / 3882\n",
            "407 / 3882\n",
            "408 / 3882\n"
          ]
        },
        {
          "metadata": {
            "tags": null
          },
          "name": "stderr",
          "output_type": "stream",
          "text": [
            "<ipython-input-26-18a742631681>:72: RuntimeWarning: divide by zero encountered in log10\n",
            "  audio_log = 10.0 * np.log10(audio_filtered)\n"
          ]
        },
        {
          "metadata": {
            "tags": null
          },
          "name": "stdout",
          "output_type": "stream",
          "text": [
            "409 / 3882\n",
            "410 / 3882\n",
            "411 / 3882\n",
            "412 / 3882\n"
          ]
        },
        {
          "metadata": {
            "tags": null
          },
          "name": "stderr",
          "output_type": "stream",
          "text": [
            "<ipython-input-26-18a742631681>:72: RuntimeWarning: divide by zero encountered in log10\n",
            "  audio_log = 10.0 * np.log10(audio_filtered)\n"
          ]
        },
        {
          "metadata": {
            "tags": null
          },
          "name": "stdout",
          "output_type": "stream",
          "text": [
            "413 / 3882\n",
            "414 / 3882\n",
            "415 / 3882\n",
            "416 / 3882\n",
            "417 / 3882\n",
            "418 / 3882\n",
            "419 / 3882\n",
            "420 / 3882\n",
            "421 / 3882\n",
            "422 / 3882\n",
            "423 / 3882\n",
            "424 / 3882\n",
            "425 / 3882\n",
            "not mono 2\n",
            "426 / 3882\n"
          ]
        },
        {
          "metadata": {
            "tags": null
          },
          "name": "stderr",
          "output_type": "stream",
          "text": [
            "<ipython-input-26-18a742631681>:72: RuntimeWarning: divide by zero encountered in log10\n",
            "  audio_log = 10.0 * np.log10(audio_filtered)\n"
          ]
        },
        {
          "metadata": {
            "tags": null
          },
          "name": "stdout",
          "output_type": "stream",
          "text": [
            "not mono 2\n",
            "427 / 3882\n",
            "not mono 2\n",
            "428 / 3882\n",
            "not mono 2\n",
            "429 / 3882\n"
          ]
        },
        {
          "metadata": {
            "tags": null
          },
          "name": "stderr",
          "output_type": "stream",
          "text": [
            "<ipython-input-26-18a742631681>:72: RuntimeWarning: divide by zero encountered in log10\n",
            "  audio_log = 10.0 * np.log10(audio_filtered)\n"
          ]
        },
        {
          "metadata": {
            "tags": null
          },
          "name": "stdout",
          "output_type": "stream",
          "text": [
            "not mono 2\n",
            "430 / 3882\n"
          ]
        },
        {
          "metadata": {
            "tags": null
          },
          "name": "stderr",
          "output_type": "stream",
          "text": [
            "<ipython-input-26-18a742631681>:72: RuntimeWarning: divide by zero encountered in log10\n",
            "  audio_log = 10.0 * np.log10(audio_filtered)\n"
          ]
        },
        {
          "metadata": {
            "tags": null
          },
          "name": "stdout",
          "output_type": "stream",
          "text": [
            "not mono 2\n",
            "431 / 3882\n"
          ]
        },
        {
          "metadata": {
            "tags": null
          },
          "name": "stderr",
          "output_type": "stream",
          "text": [
            "<ipython-input-26-18a742631681>:72: RuntimeWarning: divide by zero encountered in log10\n",
            "  audio_log = 10.0 * np.log10(audio_filtered)\n"
          ]
        },
        {
          "metadata": {
            "tags": null
          },
          "name": "stdout",
          "output_type": "stream",
          "text": [
            "not mono 2\n",
            "432 / 3882\n",
            "not mono 2\n",
            "433 / 3882\n",
            "not mono 2\n",
            "434 / 3882\n",
            "not mono 2\n",
            "435 / 3882\n",
            "not mono 2\n",
            "436 / 3882\n",
            "not mono 2\n",
            "437 / 3882\n",
            "not mono 2\n",
            "438 / 3882\n",
            "not mono 2\n",
            "439 / 3882\n",
            "not mono 2\n",
            "440 / 3882\n",
            "not mono 2\n",
            "441 / 3882\n",
            "not mono 2\n",
            "442 / 3882\n",
            "not mono 2\n",
            "443 / 3882\n",
            "not mono 2\n",
            "444 / 3882\n",
            "not mono 2\n",
            "445 / 3882\n",
            "not mono 2\n",
            "446 / 3882\n",
            "not mono 2\n",
            "447 / 3882\n",
            "not mono 2\n",
            "448 / 3882\n",
            "not mono 2\n",
            "449 / 3882\n"
          ]
        },
        {
          "metadata": {
            "tags": null
          },
          "name": "stderr",
          "output_type": "stream",
          "text": [
            "<ipython-input-26-18a742631681>:72: RuntimeWarning: divide by zero encountered in log10\n",
            "  audio_log = 10.0 * np.log10(audio_filtered)\n"
          ]
        },
        {
          "metadata": {
            "tags": null
          },
          "name": "stdout",
          "output_type": "stream",
          "text": [
            "450 / 3882\n"
          ]
        },
        {
          "metadata": {
            "tags": null
          },
          "name": "stderr",
          "output_type": "stream",
          "text": [
            "<ipython-input-26-18a742631681>:72: RuntimeWarning: divide by zero encountered in log10\n",
            "  audio_log = 10.0 * np.log10(audio_filtered)\n"
          ]
        },
        {
          "metadata": {
            "tags": null
          },
          "name": "stdout",
          "output_type": "stream",
          "text": [
            "451 / 3882\n",
            "not mono 2\n",
            "452 / 3882\n",
            "not mono 2\n",
            "453 / 3882\n",
            "454 / 3882\n",
            "not mono 2\n",
            "455 / 3882\n",
            "456 / 3882\n",
            "457 / 3882\n",
            "458 / 3882\n",
            "459 / 3882\n",
            "460 / 3882\n",
            "461 / 3882\n",
            "462 / 3882\n",
            "463 / 3882\n",
            "464 / 3882\n",
            "465 / 3882\n",
            "466 / 3882\n",
            "not mono 2\n",
            "467 / 3882\n",
            "not mono 2\n",
            "468 / 3882\n",
            "not mono 2\n",
            "469 / 3882\n",
            "not mono 2\n",
            "470 / 3882\n",
            "not mono 2\n",
            "471 / 3882\n",
            "not mono 2\n",
            "472 / 3882\n",
            "not mono 2\n",
            "473 / 3882\n",
            "not mono 2\n",
            "474 / 3882\n",
            "not mono 2\n",
            "475 / 3882\n",
            "not mono 2\n",
            "476 / 3882\n",
            "not mono 2\n",
            "477 / 3882\n",
            "not mono 2\n",
            "478 / 3882\n",
            "not mono 2\n",
            "479 / 3882\n",
            "not mono 2\n",
            "480 / 3882\n",
            "not mono 2\n",
            "481 / 3882\n",
            "not mono 2\n",
            "482 / 3882\n",
            "not mono 2\n",
            "483 / 3882\n",
            "not mono 2\n",
            "484 / 3882\n",
            "not mono 2\n",
            "485 / 3882\n",
            "not mono 2\n",
            "486 / 3882\n",
            "not mono 2\n",
            "487 / 3882\n",
            "not mono 2\n",
            "488 / 3882\n",
            "not mono 2\n",
            "489 / 3882\n",
            "not mono 2\n",
            "490 / 3882\n",
            "not mono 2\n",
            "491 / 3882\n",
            "not mono 2\n",
            "492 / 3882\n",
            "493 / 3882\n",
            "not mono 2\n",
            "494 / 3882\n",
            "495 / 3882\n"
          ]
        },
        {
          "metadata": {
            "tags": null
          },
          "name": "stderr",
          "output_type": "stream",
          "text": [
            "<ipython-input-26-18a742631681>:72: RuntimeWarning: divide by zero encountered in log10\n",
            "  audio_log = 10.0 * np.log10(audio_filtered)\n"
          ]
        },
        {
          "metadata": {
            "tags": null
          },
          "name": "stdout",
          "output_type": "stream",
          "text": [
            "496 / 3882\n"
          ]
        },
        {
          "metadata": {
            "tags": null
          },
          "name": "stderr",
          "output_type": "stream",
          "text": [
            "<ipython-input-26-18a742631681>:72: RuntimeWarning: divide by zero encountered in log10\n",
            "  audio_log = 10.0 * np.log10(audio_filtered)\n"
          ]
        },
        {
          "metadata": {
            "tags": null
          },
          "name": "stdout",
          "output_type": "stream",
          "text": [
            "497 / 3882\n"
          ]
        },
        {
          "metadata": {
            "tags": null
          },
          "name": "stderr",
          "output_type": "stream",
          "text": [
            "<ipython-input-26-18a742631681>:72: RuntimeWarning: divide by zero encountered in log10\n",
            "  audio_log = 10.0 * np.log10(audio_filtered)\n"
          ]
        },
        {
          "metadata": {
            "tags": null
          },
          "name": "stdout",
          "output_type": "stream",
          "text": [
            "498 / 3882\n"
          ]
        },
        {
          "metadata": {
            "tags": null
          },
          "name": "stderr",
          "output_type": "stream",
          "text": [
            "<ipython-input-26-18a742631681>:72: RuntimeWarning: divide by zero encountered in log10\n",
            "  audio_log = 10.0 * np.log10(audio_filtered)\n"
          ]
        },
        {
          "metadata": {
            "tags": null
          },
          "name": "stdout",
          "output_type": "stream",
          "text": [
            "499 / 3882\n"
          ]
        },
        {
          "metadata": {
            "tags": null
          },
          "name": "stderr",
          "output_type": "stream",
          "text": [
            "<ipython-input-26-18a742631681>:72: RuntimeWarning: divide by zero encountered in log10\n",
            "  audio_log = 10.0 * np.log10(audio_filtered)\n"
          ]
        },
        {
          "metadata": {
            "tags": null
          },
          "name": "stdout",
          "output_type": "stream",
          "text": [
            "500 / 3882\n"
          ]
        },
        {
          "metadata": {
            "tags": null
          },
          "name": "stderr",
          "output_type": "stream",
          "text": [
            "<ipython-input-26-18a742631681>:72: RuntimeWarning: divide by zero encountered in log10\n",
            "  audio_log = 10.0 * np.log10(audio_filtered)\n"
          ]
        },
        {
          "metadata": {
            "tags": null
          },
          "name": "stdout",
          "output_type": "stream",
          "text": [
            "501 / 3882\n"
          ]
        },
        {
          "metadata": {
            "tags": null
          },
          "name": "stderr",
          "output_type": "stream",
          "text": [
            "<ipython-input-26-18a742631681>:72: RuntimeWarning: divide by zero encountered in log10\n",
            "  audio_log = 10.0 * np.log10(audio_filtered)\n"
          ]
        },
        {
          "metadata": {
            "tags": null
          },
          "name": "stdout",
          "output_type": "stream",
          "text": [
            "502 / 3882\n"
          ]
        },
        {
          "metadata": {
            "tags": null
          },
          "name": "stderr",
          "output_type": "stream",
          "text": [
            "<ipython-input-26-18a742631681>:72: RuntimeWarning: divide by zero encountered in log10\n",
            "  audio_log = 10.0 * np.log10(audio_filtered)\n"
          ]
        },
        {
          "metadata": {
            "tags": null
          },
          "name": "stdout",
          "output_type": "stream",
          "text": [
            "503 / 3882\n"
          ]
        },
        {
          "metadata": {
            "tags": null
          },
          "name": "stderr",
          "output_type": "stream",
          "text": [
            "<ipython-input-26-18a742631681>:72: RuntimeWarning: divide by zero encountered in log10\n",
            "  audio_log = 10.0 * np.log10(audio_filtered)\n"
          ]
        },
        {
          "metadata": {
            "tags": null
          },
          "name": "stdout",
          "output_type": "stream",
          "text": [
            "504 / 3882\n"
          ]
        },
        {
          "metadata": {
            "tags": null
          },
          "name": "stderr",
          "output_type": "stream",
          "text": [
            "<ipython-input-26-18a742631681>:72: RuntimeWarning: divide by zero encountered in log10\n",
            "  audio_log = 10.0 * np.log10(audio_filtered)\n"
          ]
        },
        {
          "metadata": {
            "tags": null
          },
          "name": "stdout",
          "output_type": "stream",
          "text": [
            "505 / 3882\n"
          ]
        },
        {
          "metadata": {
            "tags": null
          },
          "name": "stderr",
          "output_type": "stream",
          "text": [
            "<ipython-input-26-18a742631681>:72: RuntimeWarning: divide by zero encountered in log10\n",
            "  audio_log = 10.0 * np.log10(audio_filtered)\n"
          ]
        },
        {
          "metadata": {
            "tags": null
          },
          "name": "stdout",
          "output_type": "stream",
          "text": [
            "506 / 3882\n"
          ]
        },
        {
          "metadata": {
            "tags": null
          },
          "name": "stderr",
          "output_type": "stream",
          "text": [
            "<ipython-input-26-18a742631681>:72: RuntimeWarning: divide by zero encountered in log10\n",
            "  audio_log = 10.0 * np.log10(audio_filtered)\n"
          ]
        },
        {
          "metadata": {
            "tags": null
          },
          "name": "stdout",
          "output_type": "stream",
          "text": [
            "507 / 3882\n"
          ]
        },
        {
          "metadata": {
            "tags": null
          },
          "name": "stderr",
          "output_type": "stream",
          "text": [
            "<ipython-input-26-18a742631681>:72: RuntimeWarning: divide by zero encountered in log10\n",
            "  audio_log = 10.0 * np.log10(audio_filtered)\n"
          ]
        },
        {
          "metadata": {
            "tags": null
          },
          "name": "stdout",
          "output_type": "stream",
          "text": [
            "508 / 3882\n"
          ]
        },
        {
          "metadata": {
            "tags": null
          },
          "name": "stderr",
          "output_type": "stream",
          "text": [
            "<ipython-input-26-18a742631681>:72: RuntimeWarning: divide by zero encountered in log10\n",
            "  audio_log = 10.0 * np.log10(audio_filtered)\n"
          ]
        },
        {
          "metadata": {
            "tags": null
          },
          "name": "stdout",
          "output_type": "stream",
          "text": [
            "509 / 3882\n"
          ]
        },
        {
          "metadata": {
            "tags": null
          },
          "name": "stderr",
          "output_type": "stream",
          "text": [
            "<ipython-input-26-18a742631681>:72: RuntimeWarning: divide by zero encountered in log10\n",
            "  audio_log = 10.0 * np.log10(audio_filtered)\n"
          ]
        },
        {
          "metadata": {
            "tags": null
          },
          "name": "stdout",
          "output_type": "stream",
          "text": [
            "510 / 3882\n"
          ]
        },
        {
          "metadata": {
            "tags": null
          },
          "name": "stderr",
          "output_type": "stream",
          "text": [
            "<ipython-input-26-18a742631681>:72: RuntimeWarning: divide by zero encountered in log10\n",
            "  audio_log = 10.0 * np.log10(audio_filtered)\n"
          ]
        },
        {
          "metadata": {
            "tags": null
          },
          "name": "stdout",
          "output_type": "stream",
          "text": [
            "511 / 3882\n"
          ]
        },
        {
          "metadata": {
            "tags": null
          },
          "name": "stderr",
          "output_type": "stream",
          "text": [
            "<ipython-input-26-18a742631681>:72: RuntimeWarning: divide by zero encountered in log10\n",
            "  audio_log = 10.0 * np.log10(audio_filtered)\n"
          ]
        },
        {
          "metadata": {
            "tags": null
          },
          "name": "stdout",
          "output_type": "stream",
          "text": [
            "512 / 3882\n"
          ]
        },
        {
          "metadata": {
            "tags": null
          },
          "name": "stderr",
          "output_type": "stream",
          "text": [
            "<ipython-input-26-18a742631681>:72: RuntimeWarning: divide by zero encountered in log10\n",
            "  audio_log = 10.0 * np.log10(audio_filtered)\n"
          ]
        },
        {
          "metadata": {
            "tags": null
          },
          "name": "stdout",
          "output_type": "stream",
          "text": [
            "513 / 3882\n"
          ]
        },
        {
          "metadata": {
            "tags": null
          },
          "name": "stderr",
          "output_type": "stream",
          "text": [
            "<ipython-input-26-18a742631681>:72: RuntimeWarning: divide by zero encountered in log10\n",
            "  audio_log = 10.0 * np.log10(audio_filtered)\n"
          ]
        },
        {
          "metadata": {
            "tags": null
          },
          "name": "stdout",
          "output_type": "stream",
          "text": [
            "514 / 3882\n"
          ]
        },
        {
          "metadata": {
            "tags": null
          },
          "name": "stderr",
          "output_type": "stream",
          "text": [
            "<ipython-input-26-18a742631681>:72: RuntimeWarning: divide by zero encountered in log10\n",
            "  audio_log = 10.0 * np.log10(audio_filtered)\n"
          ]
        },
        {
          "metadata": {
            "tags": null
          },
          "name": "stdout",
          "output_type": "stream",
          "text": [
            "515 / 3882\n"
          ]
        },
        {
          "metadata": {
            "tags": null
          },
          "name": "stderr",
          "output_type": "stream",
          "text": [
            "<ipython-input-26-18a742631681>:72: RuntimeWarning: divide by zero encountered in log10\n",
            "  audio_log = 10.0 * np.log10(audio_filtered)\n"
          ]
        },
        {
          "metadata": {
            "tags": null
          },
          "name": "stdout",
          "output_type": "stream",
          "text": [
            "516 / 3882\n"
          ]
        },
        {
          "metadata": {
            "tags": null
          },
          "name": "stderr",
          "output_type": "stream",
          "text": [
            "<ipython-input-26-18a742631681>:72: RuntimeWarning: divide by zero encountered in log10\n",
            "  audio_log = 10.0 * np.log10(audio_filtered)\n"
          ]
        },
        {
          "metadata": {
            "tags": null
          },
          "name": "stdout",
          "output_type": "stream",
          "text": [
            "517 / 3882\n"
          ]
        },
        {
          "metadata": {
            "tags": null
          },
          "name": "stderr",
          "output_type": "stream",
          "text": [
            "<ipython-input-26-18a742631681>:72: RuntimeWarning: divide by zero encountered in log10\n",
            "  audio_log = 10.0 * np.log10(audio_filtered)\n"
          ]
        },
        {
          "metadata": {
            "tags": null
          },
          "name": "stdout",
          "output_type": "stream",
          "text": [
            "518 / 3882\n"
          ]
        },
        {
          "metadata": {
            "tags": null
          },
          "name": "stderr",
          "output_type": "stream",
          "text": [
            "<ipython-input-26-18a742631681>:72: RuntimeWarning: divide by zero encountered in log10\n",
            "  audio_log = 10.0 * np.log10(audio_filtered)\n"
          ]
        },
        {
          "metadata": {
            "tags": null
          },
          "name": "stdout",
          "output_type": "stream",
          "text": [
            "519 / 3882\n"
          ]
        },
        {
          "metadata": {
            "tags": null
          },
          "name": "stderr",
          "output_type": "stream",
          "text": [
            "<ipython-input-26-18a742631681>:72: RuntimeWarning: divide by zero encountered in log10\n",
            "  audio_log = 10.0 * np.log10(audio_filtered)\n"
          ]
        },
        {
          "metadata": {
            "tags": null
          },
          "name": "stdout",
          "output_type": "stream",
          "text": [
            "520 / 3882\n"
          ]
        },
        {
          "metadata": {
            "tags": null
          },
          "name": "stderr",
          "output_type": "stream",
          "text": [
            "<ipython-input-26-18a742631681>:72: RuntimeWarning: divide by zero encountered in log10\n",
            "  audio_log = 10.0 * np.log10(audio_filtered)\n"
          ]
        },
        {
          "metadata": {
            "tags": null
          },
          "name": "stdout",
          "output_type": "stream",
          "text": [
            "521 / 3882\n"
          ]
        },
        {
          "metadata": {
            "tags": null
          },
          "name": "stderr",
          "output_type": "stream",
          "text": [
            "<ipython-input-26-18a742631681>:72: RuntimeWarning: divide by zero encountered in log10\n",
            "  audio_log = 10.0 * np.log10(audio_filtered)\n"
          ]
        },
        {
          "metadata": {
            "tags": null
          },
          "name": "stdout",
          "output_type": "stream",
          "text": [
            "522 / 3882\n"
          ]
        },
        {
          "metadata": {
            "tags": null
          },
          "name": "stderr",
          "output_type": "stream",
          "text": [
            "<ipython-input-26-18a742631681>:72: RuntimeWarning: divide by zero encountered in log10\n",
            "  audio_log = 10.0 * np.log10(audio_filtered)\n"
          ]
        },
        {
          "metadata": {
            "tags": null
          },
          "name": "stdout",
          "output_type": "stream",
          "text": [
            "523 / 3882\n"
          ]
        },
        {
          "metadata": {
            "tags": null
          },
          "name": "stderr",
          "output_type": "stream",
          "text": [
            "<ipython-input-26-18a742631681>:72: RuntimeWarning: divide by zero encountered in log10\n",
            "  audio_log = 10.0 * np.log10(audio_filtered)\n"
          ]
        },
        {
          "metadata": {
            "tags": null
          },
          "name": "stdout",
          "output_type": "stream",
          "text": [
            "524 / 3882\n"
          ]
        },
        {
          "metadata": {
            "tags": null
          },
          "name": "stderr",
          "output_type": "stream",
          "text": [
            "<ipython-input-26-18a742631681>:72: RuntimeWarning: divide by zero encountered in log10\n",
            "  audio_log = 10.0 * np.log10(audio_filtered)\n"
          ]
        },
        {
          "metadata": {
            "tags": null
          },
          "name": "stdout",
          "output_type": "stream",
          "text": [
            "525 / 3882\n"
          ]
        },
        {
          "metadata": {
            "tags": null
          },
          "name": "stderr",
          "output_type": "stream",
          "text": [
            "<ipython-input-26-18a742631681>:72: RuntimeWarning: divide by zero encountered in log10\n",
            "  audio_log = 10.0 * np.log10(audio_filtered)\n"
          ]
        },
        {
          "metadata": {
            "tags": null
          },
          "name": "stdout",
          "output_type": "stream",
          "text": [
            "526 / 3882\n"
          ]
        },
        {
          "metadata": {
            "tags": null
          },
          "name": "stderr",
          "output_type": "stream",
          "text": [
            "<ipython-input-26-18a742631681>:72: RuntimeWarning: divide by zero encountered in log10\n",
            "  audio_log = 10.0 * np.log10(audio_filtered)\n"
          ]
        },
        {
          "metadata": {
            "tags": null
          },
          "name": "stdout",
          "output_type": "stream",
          "text": [
            "527 / 3882\n"
          ]
        },
        {
          "metadata": {
            "tags": null
          },
          "name": "stderr",
          "output_type": "stream",
          "text": [
            "<ipython-input-26-18a742631681>:72: RuntimeWarning: divide by zero encountered in log10\n",
            "  audio_log = 10.0 * np.log10(audio_filtered)\n"
          ]
        },
        {
          "metadata": {
            "tags": null
          },
          "name": "stdout",
          "output_type": "stream",
          "text": [
            "528 / 3882\n"
          ]
        },
        {
          "metadata": {
            "tags": null
          },
          "name": "stderr",
          "output_type": "stream",
          "text": [
            "<ipython-input-26-18a742631681>:72: RuntimeWarning: divide by zero encountered in log10\n",
            "  audio_log = 10.0 * np.log10(audio_filtered)\n"
          ]
        },
        {
          "metadata": {
            "tags": null
          },
          "name": "stdout",
          "output_type": "stream",
          "text": [
            "529 / 3882\n"
          ]
        },
        {
          "metadata": {
            "tags": null
          },
          "name": "stderr",
          "output_type": "stream",
          "text": [
            "<ipython-input-26-18a742631681>:72: RuntimeWarning: divide by zero encountered in log10\n",
            "  audio_log = 10.0 * np.log10(audio_filtered)\n"
          ]
        },
        {
          "metadata": {
            "tags": null
          },
          "name": "stdout",
          "output_type": "stream",
          "text": [
            "530 / 3882\n"
          ]
        },
        {
          "metadata": {
            "tags": null
          },
          "name": "stderr",
          "output_type": "stream",
          "text": [
            "<ipython-input-26-18a742631681>:72: RuntimeWarning: divide by zero encountered in log10\n",
            "  audio_log = 10.0 * np.log10(audio_filtered)\n"
          ]
        },
        {
          "metadata": {
            "tags": null
          },
          "name": "stdout",
          "output_type": "stream",
          "text": [
            "531 / 3882\n"
          ]
        },
        {
          "metadata": {
            "tags": null
          },
          "name": "stderr",
          "output_type": "stream",
          "text": [
            "<ipython-input-26-18a742631681>:72: RuntimeWarning: divide by zero encountered in log10\n",
            "  audio_log = 10.0 * np.log10(audio_filtered)\n"
          ]
        },
        {
          "metadata": {
            "tags": null
          },
          "name": "stdout",
          "output_type": "stream",
          "text": [
            "532 / 3882\n"
          ]
        },
        {
          "metadata": {
            "tags": null
          },
          "name": "stderr",
          "output_type": "stream",
          "text": [
            "<ipython-input-26-18a742631681>:72: RuntimeWarning: divide by zero encountered in log10\n",
            "  audio_log = 10.0 * np.log10(audio_filtered)\n"
          ]
        },
        {
          "metadata": {
            "tags": null
          },
          "name": "stdout",
          "output_type": "stream",
          "text": [
            "533 / 3882\n"
          ]
        },
        {
          "metadata": {
            "tags": null
          },
          "name": "stderr",
          "output_type": "stream",
          "text": [
            "<ipython-input-26-18a742631681>:72: RuntimeWarning: divide by zero encountered in log10\n",
            "  audio_log = 10.0 * np.log10(audio_filtered)\n"
          ]
        },
        {
          "metadata": {
            "tags": null
          },
          "name": "stdout",
          "output_type": "stream",
          "text": [
            "534 / 3882\n"
          ]
        },
        {
          "metadata": {
            "tags": null
          },
          "name": "stderr",
          "output_type": "stream",
          "text": [
            "<ipython-input-26-18a742631681>:72: RuntimeWarning: divide by zero encountered in log10\n",
            "  audio_log = 10.0 * np.log10(audio_filtered)\n"
          ]
        },
        {
          "metadata": {
            "tags": null
          },
          "name": "stdout",
          "output_type": "stream",
          "text": [
            "535 / 3882\n"
          ]
        },
        {
          "metadata": {
            "tags": null
          },
          "name": "stderr",
          "output_type": "stream",
          "text": [
            "<ipython-input-26-18a742631681>:72: RuntimeWarning: divide by zero encountered in log10\n",
            "  audio_log = 10.0 * np.log10(audio_filtered)\n"
          ]
        },
        {
          "metadata": {
            "tags": null
          },
          "name": "stdout",
          "output_type": "stream",
          "text": [
            "536 / 3882\n"
          ]
        },
        {
          "metadata": {
            "tags": null
          },
          "name": "stderr",
          "output_type": "stream",
          "text": [
            "<ipython-input-26-18a742631681>:72: RuntimeWarning: divide by zero encountered in log10\n",
            "  audio_log = 10.0 * np.log10(audio_filtered)\n"
          ]
        },
        {
          "metadata": {
            "tags": null
          },
          "name": "stdout",
          "output_type": "stream",
          "text": [
            "537 / 3882\n"
          ]
        },
        {
          "metadata": {
            "tags": null
          },
          "name": "stderr",
          "output_type": "stream",
          "text": [
            "<ipython-input-26-18a742631681>:72: RuntimeWarning: divide by zero encountered in log10\n",
            "  audio_log = 10.0 * np.log10(audio_filtered)\n"
          ]
        },
        {
          "metadata": {
            "tags": null
          },
          "name": "stdout",
          "output_type": "stream",
          "text": [
            "538 / 3882\n"
          ]
        },
        {
          "metadata": {
            "tags": null
          },
          "name": "stderr",
          "output_type": "stream",
          "text": [
            "<ipython-input-26-18a742631681>:72: RuntimeWarning: divide by zero encountered in log10\n",
            "  audio_log = 10.0 * np.log10(audio_filtered)\n"
          ]
        },
        {
          "metadata": {
            "tags": null
          },
          "name": "stdout",
          "output_type": "stream",
          "text": [
            "539 / 3882\n"
          ]
        },
        {
          "metadata": {
            "tags": null
          },
          "name": "stderr",
          "output_type": "stream",
          "text": [
            "<ipython-input-26-18a742631681>:72: RuntimeWarning: divide by zero encountered in log10\n",
            "  audio_log = 10.0 * np.log10(audio_filtered)\n"
          ]
        },
        {
          "metadata": {
            "tags": null
          },
          "name": "stdout",
          "output_type": "stream",
          "text": [
            "540 / 3882\n"
          ]
        },
        {
          "metadata": {
            "tags": null
          },
          "name": "stderr",
          "output_type": "stream",
          "text": [
            "<ipython-input-26-18a742631681>:72: RuntimeWarning: divide by zero encountered in log10\n",
            "  audio_log = 10.0 * np.log10(audio_filtered)\n"
          ]
        },
        {
          "metadata": {
            "tags": null
          },
          "name": "stdout",
          "output_type": "stream",
          "text": [
            "541 / 3882\n"
          ]
        },
        {
          "metadata": {
            "tags": null
          },
          "name": "stderr",
          "output_type": "stream",
          "text": [
            "<ipython-input-26-18a742631681>:72: RuntimeWarning: divide by zero encountered in log10\n",
            "  audio_log = 10.0 * np.log10(audio_filtered)\n"
          ]
        },
        {
          "metadata": {
            "tags": null
          },
          "name": "stdout",
          "output_type": "stream",
          "text": [
            "542 / 3882\n"
          ]
        },
        {
          "metadata": {
            "tags": null
          },
          "name": "stderr",
          "output_type": "stream",
          "text": [
            "<ipython-input-26-18a742631681>:72: RuntimeWarning: divide by zero encountered in log10\n",
            "  audio_log = 10.0 * np.log10(audio_filtered)\n"
          ]
        },
        {
          "metadata": {
            "tags": null
          },
          "name": "stdout",
          "output_type": "stream",
          "text": [
            "543 / 3882\n"
          ]
        },
        {
          "metadata": {
            "tags": null
          },
          "name": "stderr",
          "output_type": "stream",
          "text": [
            "<ipython-input-26-18a742631681>:72: RuntimeWarning: divide by zero encountered in log10\n",
            "  audio_log = 10.0 * np.log10(audio_filtered)\n"
          ]
        },
        {
          "metadata": {
            "tags": null
          },
          "name": "stdout",
          "output_type": "stream",
          "text": [
            "544 / 3882\n"
          ]
        },
        {
          "metadata": {
            "tags": null
          },
          "name": "stderr",
          "output_type": "stream",
          "text": [
            "<ipython-input-26-18a742631681>:72: RuntimeWarning: divide by zero encountered in log10\n",
            "  audio_log = 10.0 * np.log10(audio_filtered)\n"
          ]
        },
        {
          "metadata": {
            "tags": null
          },
          "name": "stdout",
          "output_type": "stream",
          "text": [
            "545 / 3882\n",
            "546 / 3882\n",
            "547 / 3882\n",
            "not mono 2\n",
            "548 / 3882\n",
            "not mono 2\n",
            "549 / 3882\n",
            "not mono 2\n",
            "550 / 3882\n"
          ]
        },
        {
          "metadata": {
            "tags": null
          },
          "name": "stderr",
          "output_type": "stream",
          "text": [
            "<ipython-input-26-18a742631681>:72: RuntimeWarning: divide by zero encountered in log10\n",
            "  audio_log = 10.0 * np.log10(audio_filtered)\n"
          ]
        },
        {
          "metadata": {
            "tags": null
          },
          "name": "stdout",
          "output_type": "stream",
          "text": [
            "not mono 2\n",
            "551 / 3882\n",
            "552 / 3882\n",
            "not mono 2\n",
            "553 / 3882\n",
            "554 / 3882\n",
            "not mono 2\n",
            "555 / 3882\n",
            "556 / 3882\n",
            "557 / 3882\n",
            "558 / 3882\n",
            "559 / 3882\n",
            "560 / 3882\n",
            "561 / 3882\n",
            "562 / 3882\n",
            "not mono 2\n",
            "563 / 3882\n",
            "not mono 2\n",
            "564 / 3882\n"
          ]
        },
        {
          "metadata": {
            "tags": null
          },
          "name": "stderr",
          "output_type": "stream",
          "text": [
            "<ipython-input-26-18a742631681>:72: RuntimeWarning: divide by zero encountered in log10\n",
            "  audio_log = 10.0 * np.log10(audio_filtered)\n"
          ]
        },
        {
          "metadata": {
            "tags": null
          },
          "name": "stdout",
          "output_type": "stream",
          "text": [
            "not mono 2\n",
            "565 / 3882\n"
          ]
        },
        {
          "metadata": {
            "tags": null
          },
          "name": "stderr",
          "output_type": "stream",
          "text": [
            "<ipython-input-26-18a742631681>:72: RuntimeWarning: divide by zero encountered in log10\n",
            "  audio_log = 10.0 * np.log10(audio_filtered)\n"
          ]
        },
        {
          "metadata": {
            "tags": null
          },
          "name": "stdout",
          "output_type": "stream",
          "text": [
            "not mono 2\n",
            "566 / 3882\n",
            "not mono 2\n",
            "567 / 3882\n",
            "not mono 2\n",
            "568 / 3882\n"
          ]
        },
        {
          "metadata": {
            "tags": null
          },
          "name": "stderr",
          "output_type": "stream",
          "text": [
            "<ipython-input-26-18a742631681>:72: RuntimeWarning: divide by zero encountered in log10\n",
            "  audio_log = 10.0 * np.log10(audio_filtered)\n"
          ]
        },
        {
          "metadata": {
            "tags": null
          },
          "name": "stdout",
          "output_type": "stream",
          "text": [
            "not mono 2\n"
          ]
        },
        {
          "metadata": {
            "tags": null
          },
          "name": "stderr",
          "output_type": "stream",
          "text": [
            "<ipython-input-26-18a742631681>:72: RuntimeWarning: divide by zero encountered in log10\n",
            "  audio_log = 10.0 * np.log10(audio_filtered)\n"
          ]
        },
        {
          "metadata": {
            "tags": null
          },
          "name": "stdout",
          "output_type": "stream",
          "text": [
            "569 / 3882\n",
            "not mono 2\n",
            "570 / 3882\n"
          ]
        },
        {
          "metadata": {
            "tags": null
          },
          "name": "stderr",
          "output_type": "stream",
          "text": [
            "<ipython-input-26-18a742631681>:72: RuntimeWarning: divide by zero encountered in log10\n",
            "  audio_log = 10.0 * np.log10(audio_filtered)\n"
          ]
        },
        {
          "metadata": {
            "tags": null
          },
          "name": "stdout",
          "output_type": "stream",
          "text": [
            "not mono 2\n",
            "571 / 3882\n",
            "not mono 2\n",
            "572 / 3882\n"
          ]
        },
        {
          "metadata": {
            "tags": null
          },
          "name": "stderr",
          "output_type": "stream",
          "text": [
            "<ipython-input-26-18a742631681>:72: RuntimeWarning: divide by zero encountered in log10\n",
            "  audio_log = 10.0 * np.log10(audio_filtered)\n"
          ]
        },
        {
          "metadata": {
            "tags": null
          },
          "name": "stdout",
          "output_type": "stream",
          "text": [
            "not mono 2\n",
            "573 / 3882\n",
            "not mono 2\n",
            "574 / 3882\n"
          ]
        },
        {
          "metadata": {
            "tags": null
          },
          "name": "stderr",
          "output_type": "stream",
          "text": [
            "<ipython-input-26-18a742631681>:72: RuntimeWarning: divide by zero encountered in log10\n",
            "  audio_log = 10.0 * np.log10(audio_filtered)\n"
          ]
        },
        {
          "metadata": {
            "tags": null
          },
          "name": "stdout",
          "output_type": "stream",
          "text": [
            "not mono 2\n"
          ]
        },
        {
          "metadata": {
            "tags": null
          },
          "name": "stderr",
          "output_type": "stream",
          "text": [
            "<ipython-input-26-18a742631681>:72: RuntimeWarning: divide by zero encountered in log10\n",
            "  audio_log = 10.0 * np.log10(audio_filtered)\n"
          ]
        },
        {
          "metadata": {
            "tags": null
          },
          "name": "stdout",
          "output_type": "stream",
          "text": [
            "575 / 3882\n",
            "not mono 2\n",
            "576 / 3882\n"
          ]
        },
        {
          "metadata": {
            "tags": null
          },
          "name": "stderr",
          "output_type": "stream",
          "text": [
            "<ipython-input-26-18a742631681>:72: RuntimeWarning: divide by zero encountered in log10\n",
            "  audio_log = 10.0 * np.log10(audio_filtered)\n"
          ]
        },
        {
          "metadata": {
            "tags": null
          },
          "name": "stdout",
          "output_type": "stream",
          "text": [
            "not mono 2\n"
          ]
        },
        {
          "metadata": {
            "tags": null
          },
          "name": "stderr",
          "output_type": "stream",
          "text": [
            "<ipython-input-26-18a742631681>:72: RuntimeWarning: divide by zero encountered in log10\n",
            "  audio_log = 10.0 * np.log10(audio_filtered)\n"
          ]
        },
        {
          "metadata": {
            "tags": null
          },
          "name": "stdout",
          "output_type": "stream",
          "text": [
            "577 / 3882\n",
            "not mono 2\n",
            "578 / 3882\n",
            "not mono 2\n",
            "579 / 3882\n",
            "not mono 2\n",
            "580 / 3882\n"
          ]
        },
        {
          "metadata": {
            "tags": null
          },
          "name": "stderr",
          "output_type": "stream",
          "text": [
            "<ipython-input-26-18a742631681>:72: RuntimeWarning: divide by zero encountered in log10\n",
            "  audio_log = 10.0 * np.log10(audio_filtered)\n"
          ]
        },
        {
          "metadata": {
            "tags": null
          },
          "name": "stdout",
          "output_type": "stream",
          "text": [
            "not mono 2\n",
            "581 / 3882\n",
            "not mono 2\n"
          ]
        },
        {
          "metadata": {
            "tags": null
          },
          "name": "stderr",
          "output_type": "stream",
          "text": [
            "<ipython-input-26-18a742631681>:72: RuntimeWarning: divide by zero encountered in log10\n",
            "  audio_log = 10.0 * np.log10(audio_filtered)\n"
          ]
        },
        {
          "metadata": {
            "tags": null
          },
          "name": "stdout",
          "output_type": "stream",
          "text": [
            "582 / 3882\n",
            "not mono 2\n"
          ]
        },
        {
          "metadata": {
            "tags": null
          },
          "name": "stderr",
          "output_type": "stream",
          "text": [
            "<ipython-input-26-18a742631681>:72: RuntimeWarning: divide by zero encountered in log10\n",
            "  audio_log = 10.0 * np.log10(audio_filtered)\n"
          ]
        },
        {
          "metadata": {
            "tags": null
          },
          "name": "stdout",
          "output_type": "stream",
          "text": [
            "583 / 3882\n",
            "not mono 2\n",
            "584 / 3882\n"
          ]
        },
        {
          "metadata": {
            "tags": null
          },
          "name": "stderr",
          "output_type": "stream",
          "text": [
            "<ipython-input-26-18a742631681>:72: RuntimeWarning: divide by zero encountered in log10\n",
            "  audio_log = 10.0 * np.log10(audio_filtered)\n"
          ]
        },
        {
          "metadata": {
            "tags": null
          },
          "name": "stdout",
          "output_type": "stream",
          "text": [
            "not mono 2\n",
            "585 / 3882\n",
            "not mono 2\n",
            "586 / 3882\n"
          ]
        },
        {
          "metadata": {
            "tags": null
          },
          "name": "stderr",
          "output_type": "stream",
          "text": [
            "<ipython-input-26-18a742631681>:72: RuntimeWarning: divide by zero encountered in log10\n",
            "  audio_log = 10.0 * np.log10(audio_filtered)\n"
          ]
        },
        {
          "metadata": {
            "tags": null
          },
          "name": "stdout",
          "output_type": "stream",
          "text": [
            "not mono 2\n",
            "587 / 3882\n"
          ]
        },
        {
          "metadata": {
            "tags": null
          },
          "name": "stderr",
          "output_type": "stream",
          "text": [
            "<ipython-input-26-18a742631681>:72: RuntimeWarning: divide by zero encountered in log10\n",
            "  audio_log = 10.0 * np.log10(audio_filtered)\n"
          ]
        },
        {
          "metadata": {
            "tags": null
          },
          "name": "stdout",
          "output_type": "stream",
          "text": [
            "not mono 2\n",
            "588 / 3882\n",
            "not mono 2\n",
            "589 / 3882\n"
          ]
        },
        {
          "metadata": {
            "tags": null
          },
          "name": "stderr",
          "output_type": "stream",
          "text": [
            "<ipython-input-26-18a742631681>:72: RuntimeWarning: divide by zero encountered in log10\n",
            "  audio_log = 10.0 * np.log10(audio_filtered)\n"
          ]
        },
        {
          "metadata": {
            "tags": null
          },
          "name": "stdout",
          "output_type": "stream",
          "text": [
            "not mono 2\n",
            "590 / 3882\n",
            "not mono 2\n",
            "591 / 3882\n"
          ]
        },
        {
          "metadata": {
            "tags": null
          },
          "name": "stderr",
          "output_type": "stream",
          "text": [
            "<ipython-input-26-18a742631681>:72: RuntimeWarning: divide by zero encountered in log10\n",
            "  audio_log = 10.0 * np.log10(audio_filtered)\n"
          ]
        },
        {
          "metadata": {
            "tags": null
          },
          "name": "stdout",
          "output_type": "stream",
          "text": [
            "not mono 2\n",
            "592 / 3882\n"
          ]
        },
        {
          "metadata": {
            "tags": null
          },
          "name": "stderr",
          "output_type": "stream",
          "text": [
            "<ipython-input-26-18a742631681>:72: RuntimeWarning: divide by zero encountered in log10\n",
            "  audio_log = 10.0 * np.log10(audio_filtered)\n"
          ]
        },
        {
          "metadata": {
            "tags": null
          },
          "name": "stdout",
          "output_type": "stream",
          "text": [
            "not mono 2\n",
            "593 / 3882\n"
          ]
        },
        {
          "metadata": {
            "tags": null
          },
          "name": "stderr",
          "output_type": "stream",
          "text": [
            "<ipython-input-26-18a742631681>:72: RuntimeWarning: divide by zero encountered in log10\n",
            "  audio_log = 10.0 * np.log10(audio_filtered)\n"
          ]
        },
        {
          "metadata": {
            "tags": null
          },
          "name": "stdout",
          "output_type": "stream",
          "text": [
            "not mono 2\n",
            "594 / 3882\n",
            "not mono 2\n",
            "595 / 3882\n",
            "not mono 2\n",
            "596 / 3882\n",
            "not mono 2\n",
            "597 / 3882\n"
          ]
        },
        {
          "metadata": {
            "tags": null
          },
          "name": "stderr",
          "output_type": "stream",
          "text": [
            "<ipython-input-26-18a742631681>:72: RuntimeWarning: divide by zero encountered in log10\n",
            "  audio_log = 10.0 * np.log10(audio_filtered)\n"
          ]
        },
        {
          "metadata": {
            "tags": null
          },
          "name": "stdout",
          "output_type": "stream",
          "text": [
            "not mono 2\n"
          ]
        },
        {
          "metadata": {
            "tags": null
          },
          "name": "stderr",
          "output_type": "stream",
          "text": [
            "<ipython-input-26-18a742631681>:72: RuntimeWarning: divide by zero encountered in log10\n",
            "  audio_log = 10.0 * np.log10(audio_filtered)\n"
          ]
        },
        {
          "metadata": {
            "tags": null
          },
          "name": "stdout",
          "output_type": "stream",
          "text": [
            "598 / 3882\n",
            "not mono 2\n",
            "599 / 3882\n",
            "not mono 2\n",
            "600 / 3882\n",
            "601 / 3882\n",
            "602 / 3882\n",
            "603 / 3882\n",
            "604 / 3882\n",
            "605 / 3882\n",
            "606 / 3882\n",
            "not mono 2\n",
            "607 / 3882\n",
            "not mono 2\n",
            "608 / 3882\n",
            "not mono 2\n",
            "609 / 3882\n",
            "not mono 2\n",
            "610 / 3882\n",
            "611 / 3882\n",
            "612 / 3882\n",
            "613 / 3882\n",
            "614 / 3882\n",
            "615 / 3882\n",
            "616 / 3882\n",
            "617 / 3882\n",
            "618 / 3882\n",
            "619 / 3882\n",
            "620 / 3882\n",
            "621 / 3882\n",
            "622 / 3882\n",
            "623 / 3882\n",
            "624 / 3882\n",
            "625 / 3882\n",
            "626 / 3882\n",
            "627 / 3882\n",
            "628 / 3882\n",
            "629 / 3882\n",
            "630 / 3882\n",
            "631 / 3882\n",
            "632 / 3882\n",
            "633 / 3882\n",
            "634 / 3882\n",
            "635 / 3882\n",
            "636 / 3882\n",
            "637 / 3882\n",
            "638 / 3882\n",
            "639 / 3882\n",
            "640 / 3882\n",
            "641 / 3882\n",
            "642 / 3882\n",
            "643 / 3882\n",
            "644 / 3882\n",
            "645 / 3882\n",
            "646 / 3882\n",
            "647 / 3882\n",
            "648 / 3882\n",
            "649 / 3882\n",
            "650 / 3882\n",
            "651 / 3882\n",
            "652 / 3882\n",
            "653 / 3882\n",
            "654 / 3882\n",
            "655 / 3882\n",
            "656 / 3882\n",
            "657 / 3882\n",
            "658 / 3882\n",
            "659 / 3882\n",
            "660 / 3882\n",
            "661 / 3882\n",
            "662 / 3882\n",
            "663 / 3882\n",
            "664 / 3882\n",
            "665 / 3882\n",
            "666 / 3882\n",
            "667 / 3882\n",
            "668 / 3882\n",
            "669 / 3882\n",
            "670 / 3882\n",
            "671 / 3882\n",
            "672 / 3882\n",
            "673 / 3882\n",
            "674 / 3882\n",
            "675 / 3882\n",
            "676 / 3882\n",
            "677 / 3882\n",
            "678 / 3882\n",
            "679 / 3882\n",
            "680 / 3882\n",
            "681 / 3882\n",
            "682 / 3882\n",
            "683 / 3882\n",
            "684 / 3882\n",
            "685 / 3882\n",
            "686 / 3882\n",
            "687 / 3882\n",
            "688 / 3882\n",
            "689 / 3882\n",
            "690 / 3882\n",
            "691 / 3882\n",
            "692 / 3882\n",
            "693 / 3882\n",
            "694 / 3882\n",
            "695 / 3882\n",
            "696 / 3882\n",
            "not mono 2\n",
            "697 / 3882\n"
          ]
        },
        {
          "metadata": {
            "tags": null
          },
          "name": "stderr",
          "output_type": "stream",
          "text": [
            "<ipython-input-26-18a742631681>:72: RuntimeWarning: divide by zero encountered in log10\n",
            "  audio_log = 10.0 * np.log10(audio_filtered)\n"
          ]
        },
        {
          "metadata": {
            "tags": null
          },
          "name": "stdout",
          "output_type": "stream",
          "text": [
            "not mono 2\n",
            "698 / 3882\n"
          ]
        },
        {
          "metadata": {
            "tags": null
          },
          "name": "stderr",
          "output_type": "stream",
          "text": [
            "<ipython-input-26-18a742631681>:72: RuntimeWarning: divide by zero encountered in log10\n",
            "  audio_log = 10.0 * np.log10(audio_filtered)\n"
          ]
        },
        {
          "metadata": {
            "tags": null
          },
          "name": "stdout",
          "output_type": "stream",
          "text": [
            "not mono 2\n",
            "699 / 3882\n",
            "not mono 2\n",
            "700 / 3882\n"
          ]
        },
        {
          "metadata": {
            "tags": null
          },
          "name": "stderr",
          "output_type": "stream",
          "text": [
            "<ipython-input-26-18a742631681>:72: RuntimeWarning: divide by zero encountered in log10\n",
            "  audio_log = 10.0 * np.log10(audio_filtered)\n"
          ]
        },
        {
          "metadata": {
            "tags": null
          },
          "name": "stdout",
          "output_type": "stream",
          "text": [
            "not mono 2\n",
            "701 / 3882\n",
            "not mono 2\n",
            "702 / 3882\n",
            "not mono 2\n",
            "703 / 3882\n",
            "not mono 2\n",
            "704 / 3882\n",
            "705 / 3882\n",
            "706 / 3882\n",
            "707 / 3882\n",
            "708 / 3882\n",
            "not mono 2\n",
            "709 / 3882\n",
            "not mono 2\n",
            "710 / 3882\n",
            "not mono 2\n",
            "711 / 3882\n",
            "not mono 2\n",
            "712 / 3882\n",
            "not mono 2\n",
            "713 / 3882\n",
            "not mono 2\n",
            "714 / 3882\n",
            "715 / 3882\n",
            "716 / 3882\n",
            "717 / 3882\n",
            "718 / 3882\n",
            "719 / 3882\n",
            "720 / 3882\n",
            "721 / 3882\n",
            "722 / 3882\n",
            "723 / 3882\n",
            "724 / 3882\n",
            "725 / 3882\n",
            "726 / 3882\n",
            "727 / 3882\n",
            "728 / 3882\n",
            "729 / 3882\n"
          ]
        },
        {
          "metadata": {
            "tags": null
          },
          "name": "stderr",
          "output_type": "stream",
          "text": [
            "<ipython-input-26-18a742631681>:72: RuntimeWarning: divide by zero encountered in log10\n",
            "  audio_log = 10.0 * np.log10(audio_filtered)\n"
          ]
        },
        {
          "metadata": {
            "tags": null
          },
          "name": "stdout",
          "output_type": "stream",
          "text": [
            "730 / 3882\n"
          ]
        },
        {
          "metadata": {
            "tags": null
          },
          "name": "stderr",
          "output_type": "stream",
          "text": [
            "<ipython-input-26-18a742631681>:72: RuntimeWarning: divide by zero encountered in log10\n",
            "  audio_log = 10.0 * np.log10(audio_filtered)\n"
          ]
        },
        {
          "metadata": {
            "tags": null
          },
          "name": "stdout",
          "output_type": "stream",
          "text": [
            "731 / 3882\n",
            "732 / 3882\n",
            "733 / 3882\n",
            "734 / 3882\n",
            "735 / 3882\n",
            "736 / 3882\n",
            "737 / 3882\n",
            "738 / 3882\n",
            "739 / 3882\n",
            "740 / 3882\n",
            "not mono 2\n",
            "741 / 3882\n",
            "not mono 2\n",
            "742 / 3882\n",
            "not mono 2\n",
            "743 / 3882\n",
            "744 / 3882\n",
            "745 / 3882\n",
            "746 / 3882\n",
            "not mono 2\n",
            "747 / 3882\n",
            "not mono 2\n",
            "748 / 3882\n",
            "not mono 2\n",
            "749 / 3882\n",
            "750 / 3882\n",
            "751 / 3882\n",
            "752 / 3882\n"
          ]
        },
        {
          "metadata": {
            "tags": null
          },
          "name": "stderr",
          "output_type": "stream",
          "text": [
            "<ipython-input-26-18a742631681>:72: RuntimeWarning: divide by zero encountered in log10\n",
            "  audio_log = 10.0 * np.log10(audio_filtered)\n"
          ]
        },
        {
          "metadata": {
            "tags": null
          },
          "name": "stdout",
          "output_type": "stream",
          "text": [
            "753 / 3882\n",
            "754 / 3882\n",
            "755 / 3882\n"
          ]
        },
        {
          "metadata": {
            "tags": null
          },
          "name": "stderr",
          "output_type": "stream",
          "text": [
            "<ipython-input-26-18a742631681>:72: RuntimeWarning: divide by zero encountered in log10\n",
            "  audio_log = 10.0 * np.log10(audio_filtered)\n"
          ]
        },
        {
          "metadata": {
            "tags": null
          },
          "name": "stdout",
          "output_type": "stream",
          "text": [
            "756 / 3882\n",
            "757 / 3882\n",
            "758 / 3882\n",
            "759 / 3882\n",
            "760 / 3882\n",
            "761 / 3882\n",
            "762 / 3882\n",
            "763 / 3882\n",
            "764 / 3882\n",
            "765 / 3882\n",
            "766 / 3882\n",
            "767 / 3882\n",
            "not mono 2\n",
            "768 / 3882\n",
            "769 / 3882\n",
            "not mono 2\n",
            "770 / 3882\n",
            "not mono 2\n",
            "771 / 3882\n",
            "772 / 3882\n",
            "773 / 3882\n",
            "774 / 3882\n",
            "775 / 3882\n",
            "not mono 2\n",
            "776 / 3882\n",
            "777 / 3882\n",
            "778 / 3882\n",
            "779 / 3882\n",
            "780 / 3882\n",
            "781 / 3882\n",
            "782 / 3882\n",
            "783 / 3882\n",
            "784 / 3882\n",
            "785 / 3882\n",
            "786 / 3882\n",
            "787 / 3882\n",
            "788 / 3882\n",
            "789 / 3882\n",
            "790 / 3882\n",
            "791 / 3882\n",
            "792 / 3882\n"
          ]
        },
        {
          "metadata": {
            "tags": null
          },
          "name": "stderr",
          "output_type": "stream",
          "text": [
            "<ipython-input-26-18a742631681>:72: RuntimeWarning: divide by zero encountered in log10\n",
            "  audio_log = 10.0 * np.log10(audio_filtered)\n"
          ]
        },
        {
          "metadata": {
            "tags": null
          },
          "name": "stdout",
          "output_type": "stream",
          "text": [
            "793 / 3882\n",
            "794 / 3882\n",
            "795 / 3882\n",
            "not mono 2\n",
            "796 / 3882\n",
            "not mono 2\n",
            "797 / 3882\n",
            "798 / 3882\n",
            "799 / 3882\n",
            "not mono 2\n",
            "800 / 3882\n",
            "801 / 3882\n",
            "802 / 3882\n",
            "803 / 3882\n",
            "804 / 3882\n",
            "805 / 3882\n",
            "806 / 3882\n",
            "807 / 3882\n",
            "not mono 2\n",
            "808 / 3882\n",
            "809 / 3882\n",
            "810 / 3882\n",
            "811 / 3882\n",
            "812 / 3882\n",
            "813 / 3882\n"
          ]
        },
        {
          "metadata": {
            "tags": null
          },
          "name": "stderr",
          "output_type": "stream",
          "text": [
            "<ipython-input-26-18a742631681>:72: RuntimeWarning: divide by zero encountered in log10\n",
            "  audio_log = 10.0 * np.log10(audio_filtered)\n"
          ]
        },
        {
          "metadata": {
            "tags": null
          },
          "name": "stdout",
          "output_type": "stream",
          "text": [
            "814 / 3882\n",
            "815 / 3882\n",
            "816 / 3882\n",
            "817 / 3882\n",
            "818 / 3882\n",
            "819 / 3882\n",
            "820 / 3882\n",
            "821 / 3882\n",
            "822 / 3882\n",
            "823 / 3882\n",
            "not mono 2\n",
            "824 / 3882\n",
            "825 / 3882\n",
            "826 / 3882\n",
            "not mono 2\n",
            "827 / 3882\n",
            "828 / 3882\n",
            "829 / 3882\n",
            "830 / 3882\n",
            "831 / 3882\n",
            "not mono 2\n",
            "832 / 3882\n",
            "833 / 3882\n",
            "834 / 3882\n",
            "835 / 3882\n",
            "836 / 3882\n",
            "837 / 3882\n",
            "838 / 3882\n",
            "839 / 3882\n",
            "not mono 2\n",
            "840 / 3882\n",
            "not mono 2\n",
            "841 / 3882\n",
            "842 / 3882\n",
            "843 / 3882\n",
            "not mono 2\n",
            "844 / 3882\n",
            "not mono 2\n",
            "845 / 3882\n",
            "846 / 3882\n",
            "847 / 3882\n",
            "848 / 3882\n",
            "849 / 3882\n"
          ]
        },
        {
          "metadata": {
            "tags": null
          },
          "name": "stderr",
          "output_type": "stream",
          "text": [
            "<ipython-input-26-18a742631681>:72: RuntimeWarning: divide by zero encountered in log10\n",
            "  audio_log = 10.0 * np.log10(audio_filtered)\n"
          ]
        },
        {
          "metadata": {
            "tags": null
          },
          "name": "stdout",
          "output_type": "stream",
          "text": [
            "850 / 3882\n",
            "851 / 3882\n",
            "852 / 3882\n",
            "853 / 3882\n",
            "not mono 2\n",
            "854 / 3882\n",
            "855 / 3882\n",
            "856 / 3882\n",
            "857 / 3882\n",
            "858 / 3882\n",
            "859 / 3882\n",
            "not mono 2\n",
            "860 / 3882\n",
            "not mono 2\n",
            "861 / 3882\n",
            "not mono 2\n",
            "862 / 3882\n",
            "863 / 3882\n",
            "864 / 3882\n",
            "865 / 3882\n",
            "866 / 3882\n",
            "not mono 2\n",
            "867 / 3882\n",
            "not mono 2\n",
            "868 / 3882\n",
            "not mono 2\n",
            "869 / 3882\n",
            "not mono 2\n",
            "870 / 3882\n",
            "not mono 2\n",
            "871 / 3882\n",
            "not mono 2\n",
            "872 / 3882\n",
            "873 / 3882\n",
            "874 / 3882\n",
            "875 / 3882\n",
            "not mono 2\n",
            "876 / 3882\n",
            "877 / 3882\n",
            "878 / 3882\n",
            "879 / 3882\n",
            "880 / 3882\n",
            "881 / 3882\n",
            "882 / 3882\n",
            "883 / 3882\n",
            "884 / 3882\n",
            "885 / 3882\n",
            "886 / 3882\n",
            "887 / 3882\n",
            "888 / 3882\n",
            "889 / 3882\n",
            "890 / 3882\n",
            "891 / 3882\n",
            "892 / 3882\n",
            "893 / 3882\n",
            "894 / 3882\n",
            "895 / 3882\n",
            "896 / 3882\n",
            "897 / 3882\n",
            "898 / 3882\n",
            "899 / 3882\n",
            "900 / 3882\n",
            "901 / 3882\n",
            "902 / 3882\n",
            "903 / 3882\n",
            "904 / 3882\n",
            "905 / 3882\n",
            "906 / 3882\n",
            "907 / 3882\n"
          ]
        },
        {
          "metadata": {
            "tags": null
          },
          "name": "stderr",
          "output_type": "stream",
          "text": [
            "<ipython-input-26-18a742631681>:72: RuntimeWarning: divide by zero encountered in log10\n",
            "  audio_log = 10.0 * np.log10(audio_filtered)\n"
          ]
        },
        {
          "metadata": {
            "tags": null
          },
          "name": "stdout",
          "output_type": "stream",
          "text": [
            "908 / 3882\n",
            "909 / 3882\n",
            "910 / 3882\n",
            "911 / 3882\n",
            "912 / 3882\n",
            "913 / 3882\n",
            "914 / 3882\n",
            "915 / 3882\n",
            "916 / 3882\n",
            "917 / 3882\n",
            "918 / 3882\n",
            "919 / 3882\n",
            "920 / 3882\n",
            "921 / 3882\n",
            "922 / 3882\n",
            "not mono 2\n",
            "923 / 3882\n",
            "not mono 2\n",
            "924 / 3882\n",
            "not mono 2\n",
            "925 / 3882\n",
            "not mono 2\n",
            "926 / 3882\n",
            "not mono 2\n",
            "927 / 3882\n",
            "not mono 2\n",
            "928 / 3882\n",
            "not mono 2\n",
            "929 / 3882\n",
            "not mono 2\n",
            "930 / 3882\n",
            "931 / 3882\n",
            "932 / 3882\n",
            "933 / 3882\n",
            "934 / 3882\n",
            "935 / 3882\n",
            "936 / 3882\n",
            "937 / 3882\n",
            "938 / 3882\n",
            "939 / 3882\n",
            "not mono 2\n",
            "940 / 3882\n",
            "941 / 3882\n",
            "942 / 3882\n",
            "943 / 3882\n",
            "944 / 3882\n",
            "945 / 3882\n",
            "946 / 3882\n",
            "947 / 3882\n",
            "948 / 3882\n",
            "not mono 2\n",
            "949 / 3882\n",
            "950 / 3882\n",
            "951 / 3882\n",
            "952 / 3882\n",
            "953 / 3882\n",
            "954 / 3882\n",
            "955 / 3882\n",
            "956 / 3882\n",
            "957 / 3882\n",
            "958 / 3882\n",
            "959 / 3882\n",
            "960 / 3882\n",
            "961 / 3882\n",
            "962 / 3882\n",
            "963 / 3882\n",
            "964 / 3882\n",
            "not mono 2\n",
            "965 / 3882\n",
            "966 / 3882\n",
            "967 / 3882\n"
          ]
        },
        {
          "metadata": {
            "tags": null
          },
          "name": "stderr",
          "output_type": "stream",
          "text": [
            "<ipython-input-26-18a742631681>:72: RuntimeWarning: divide by zero encountered in log10\n",
            "  audio_log = 10.0 * np.log10(audio_filtered)\n"
          ]
        },
        {
          "metadata": {
            "tags": null
          },
          "name": "stdout",
          "output_type": "stream",
          "text": [
            "968 / 3882\n",
            "969 / 3882\n"
          ]
        },
        {
          "metadata": {
            "tags": null
          },
          "name": "stderr",
          "output_type": "stream",
          "text": [
            "<ipython-input-26-18a742631681>:72: RuntimeWarning: divide by zero encountered in log10\n",
            "  audio_log = 10.0 * np.log10(audio_filtered)\n"
          ]
        },
        {
          "metadata": {
            "tags": null
          },
          "name": "stdout",
          "output_type": "stream",
          "text": [
            "970 / 3882\n",
            "971 / 3882\n",
            "972 / 3882\n",
            "973 / 3882\n",
            "974 / 3882\n",
            "975 / 3882\n",
            "976 / 3882\n",
            "977 / 3882\n",
            "978 / 3882\n",
            "979 / 3882\n",
            "980 / 3882\n",
            "981 / 3882\n",
            "982 / 3882\n",
            "983 / 3882\n",
            "984 / 3882\n",
            "985 / 3882\n",
            "986 / 3882\n",
            "987 / 3882\n",
            "988 / 3882\n",
            "989 / 3882\n",
            "990 / 3882\n"
          ]
        },
        {
          "metadata": {
            "tags": null
          },
          "name": "stderr",
          "output_type": "stream",
          "text": [
            "<ipython-input-26-18a742631681>:72: RuntimeWarning: divide by zero encountered in log10\n",
            "  audio_log = 10.0 * np.log10(audio_filtered)\n"
          ]
        },
        {
          "metadata": {
            "tags": null
          },
          "name": "stdout",
          "output_type": "stream",
          "text": [
            "991 / 3882\n",
            "992 / 3882\n",
            "993 / 3882\n",
            "994 / 3882\n",
            "995 / 3882\n",
            "996 / 3882\n",
            "997 / 3882\n",
            "998 / 3882\n",
            "999 / 3882\n",
            "1000 / 3882\n",
            "1001 / 3882\n",
            "1002 / 3882\n",
            "1003 / 3882\n",
            "1004 / 3882\n",
            "1005 / 3882\n",
            "1006 / 3882\n",
            "1007 / 3882\n",
            "1008 / 3882\n",
            "1009 / 3882\n",
            "1010 / 3882\n",
            "1011 / 3882\n",
            "1012 / 3882\n",
            "1013 / 3882\n",
            "1014 / 3882\n",
            "not mono 2\n",
            "1015 / 3882\n",
            "1016 / 3882\n",
            "1017 / 3882\n",
            "1018 / 3882\n",
            "1019 / 3882\n",
            "1020 / 3882\n",
            "1021 / 3882\n",
            "1022 / 3882\n",
            "1023 / 3882\n",
            "1024 / 3882\n",
            "1025 / 3882\n",
            "1026 / 3882\n",
            "not mono 2\n",
            "1027 / 3882\n",
            "1028 / 3882\n",
            "1029 / 3882\n",
            "1030 / 3882\n",
            "1031 / 3882\n",
            "1032 / 3882\n",
            "not mono 2\n",
            "1033 / 3882\n",
            "1034 / 3882\n",
            "1035 / 3882\n",
            "1036 / 3882\n",
            "1037 / 3882\n",
            "1038 / 3882\n",
            "1039 / 3882\n",
            "1040 / 3882\n",
            "1041 / 3882\n",
            "1042 / 3882\n",
            "1043 / 3882\n",
            "1044 / 3882\n",
            "1045 / 3882\n",
            "not mono 2\n",
            "1046 / 3882\n",
            "not mono 2\n",
            "1047 / 3882\n",
            "1048 / 3882\n",
            "1049 / 3882\n",
            "1050 / 3882\n",
            "1051 / 3882\n",
            "1052 / 3882\n",
            "1053 / 3882\n",
            "not mono 2\n",
            "1054 / 3882\n",
            "not mono 2\n",
            "1055 / 3882\n",
            "not mono 2\n",
            "1056 / 3882\n",
            "not mono 2\n",
            "1057 / 3882\n",
            "not mono 2\n",
            "1058 / 3882\n",
            "not mono 2\n",
            "1059 / 3882\n",
            "1060 / 3882\n",
            "1061 / 3882\n"
          ]
        },
        {
          "metadata": {
            "tags": null
          },
          "name": "stderr",
          "output_type": "stream",
          "text": [
            "<ipython-input-26-18a742631681>:72: RuntimeWarning: divide by zero encountered in log10\n",
            "  audio_log = 10.0 * np.log10(audio_filtered)\n"
          ]
        },
        {
          "metadata": {
            "tags": null
          },
          "name": "stdout",
          "output_type": "stream",
          "text": [
            "1062 / 3882\n",
            "1063 / 3882\n",
            "1064 / 3882\n",
            "1065 / 3882\n",
            "1066 / 3882\n",
            "1067 / 3882\n",
            "1068 / 3882\n",
            "1069 / 3882\n",
            "1070 / 3882\n",
            "1071 / 3882\n",
            "1072 / 3882\n"
          ]
        },
        {
          "metadata": {
            "tags": null
          },
          "name": "stderr",
          "output_type": "stream",
          "text": [
            "<ipython-input-26-18a742631681>:72: RuntimeWarning: divide by zero encountered in log10\n",
            "  audio_log = 10.0 * np.log10(audio_filtered)\n"
          ]
        },
        {
          "metadata": {
            "tags": null
          },
          "name": "stdout",
          "output_type": "stream",
          "text": [
            "1073 / 3882\n",
            "1074 / 3882\n",
            "1075 / 3882\n",
            "1076 / 3882\n",
            "1077 / 3882\n",
            "not mono 2\n",
            "1078 / 3882\n",
            "1079 / 3882\n",
            "1080 / 3882\n",
            "1081 / 3882\n",
            "not mono 2\n",
            "1082 / 3882\n",
            "1083 / 3882\n",
            "1084 / 3882\n",
            "1085 / 3882\n",
            "1086 / 3882\n",
            "1087 / 3882\n",
            "1088 / 3882\n",
            "1089 / 3882\n",
            "1090 / 3882\n",
            "1091 / 3882\n",
            "1092 / 3882\n",
            "1093 / 3882\n",
            "1094 / 3882\n",
            "1095 / 3882\n",
            "1096 / 3882\n",
            "1097 / 3882\n",
            "1098 / 3882\n",
            "1099 / 3882\n",
            "1100 / 3882\n",
            "1101 / 3882\n",
            "1102 / 3882\n",
            "not mono 2\n",
            "1103 / 3882\n",
            "1104 / 3882\n"
          ]
        },
        {
          "metadata": {
            "tags": null
          },
          "name": "stderr",
          "output_type": "stream",
          "text": [
            "<ipython-input-26-18a742631681>:72: RuntimeWarning: divide by zero encountered in log10\n",
            "  audio_log = 10.0 * np.log10(audio_filtered)\n"
          ]
        },
        {
          "metadata": {
            "tags": null
          },
          "name": "stdout",
          "output_type": "stream",
          "text": [
            "1105 / 3882\n",
            "1106 / 3882\n",
            "1107 / 3882\n",
            "1108 / 3882\n",
            "1109 / 3882\n",
            "not mono 2\n",
            "1110 / 3882\n",
            "not mono 2\n",
            "1111 / 3882\n",
            "1112 / 3882\n"
          ]
        },
        {
          "metadata": {
            "tags": null
          },
          "name": "stderr",
          "output_type": "stream",
          "text": [
            "<ipython-input-26-18a742631681>:72: RuntimeWarning: divide by zero encountered in log10\n",
            "  audio_log = 10.0 * np.log10(audio_filtered)\n"
          ]
        },
        {
          "metadata": {
            "tags": null
          },
          "name": "stdout",
          "output_type": "stream",
          "text": [
            "1113 / 3882\n",
            "1114 / 3882\n",
            "not mono 2\n",
            "1115 / 3882\n",
            "1116 / 3882\n",
            "1117 / 3882\n",
            "1118 / 3882\n",
            "1119 / 3882\n",
            "1120 / 3882\n",
            "1121 / 3882\n",
            "1122 / 3882\n",
            "1123 / 3882\n",
            "1124 / 3882\n",
            "1125 / 3882\n",
            "1126 / 3882\n",
            "1127 / 3882\n",
            "1128 / 3882\n",
            "1129 / 3882\n",
            "1130 / 3882\n",
            "1131 / 3882\n",
            "1132 / 3882\n"
          ]
        },
        {
          "metadata": {
            "tags": null
          },
          "name": "stderr",
          "output_type": "stream",
          "text": [
            "<ipython-input-26-18a742631681>:72: RuntimeWarning: divide by zero encountered in log10\n",
            "  audio_log = 10.0 * np.log10(audio_filtered)\n"
          ]
        },
        {
          "metadata": {
            "tags": null
          },
          "name": "stdout",
          "output_type": "stream",
          "text": [
            "1133 / 3882\n",
            "1134 / 3882\n",
            "1135 / 3882\n",
            "1136 / 3882\n",
            "1137 / 3882\n",
            "1138 / 3882\n",
            "1139 / 3882\n",
            "1140 / 3882\n",
            "1141 / 3882\n",
            "1142 / 3882\n",
            "1143 / 3882\n",
            "1144 / 3882\n",
            "1145 / 3882\n",
            "1146 / 3882\n",
            "1147 / 3882\n",
            "1148 / 3882\n",
            "1149 / 3882\n",
            "1150 / 3882\n",
            "1151 / 3882\n",
            "1152 / 3882\n",
            "1153 / 3882\n",
            "1154 / 3882\n",
            "1155 / 3882\n",
            "not mono 2\n",
            "1156 / 3882\n",
            "not mono 2\n",
            "1157 / 3882\n",
            "1158 / 3882\n",
            "1159 / 3882\n",
            "1160 / 3882\n",
            "1161 / 3882\n",
            "1162 / 3882\n",
            "1163 / 3882\n",
            "1164 / 3882\n",
            "not mono 2\n",
            "1165 / 3882\n",
            "not mono 2\n",
            "1166 / 3882\n",
            "1167 / 3882\n",
            "1168 / 3882\n",
            "1169 / 3882\n",
            "1170 / 3882\n",
            "1171 / 3882\n",
            "1172 / 3882\n",
            "1173 / 3882\n",
            "1174 / 3882\n",
            "1175 / 3882\n",
            "1176 / 3882\n",
            "1177 / 3882\n",
            "1178 / 3882\n",
            "1179 / 3882\n",
            "1180 / 3882\n",
            "1181 / 3882\n",
            "1182 / 3882\n",
            "1183 / 3882\n",
            "1184 / 3882\n",
            "1185 / 3882\n",
            "1186 / 3882\n",
            "1187 / 3882\n"
          ]
        },
        {
          "metadata": {
            "tags": null
          },
          "name": "stderr",
          "output_type": "stream",
          "text": [
            "<ipython-input-26-18a742631681>:72: RuntimeWarning: divide by zero encountered in log10\n",
            "  audio_log = 10.0 * np.log10(audio_filtered)\n"
          ]
        },
        {
          "metadata": {
            "tags": null
          },
          "name": "stdout",
          "output_type": "stream",
          "text": [
            "1188 / 3882\n"
          ]
        },
        {
          "metadata": {
            "tags": null
          },
          "name": "stderr",
          "output_type": "stream",
          "text": [
            "<ipython-input-26-18a742631681>:72: RuntimeWarning: divide by zero encountered in log10\n",
            "  audio_log = 10.0 * np.log10(audio_filtered)\n"
          ]
        },
        {
          "metadata": {
            "tags": null
          },
          "name": "stdout",
          "output_type": "stream",
          "text": [
            "1189 / 3882\n",
            "1190 / 3882\n",
            "1191 / 3882\n",
            "1192 / 3882\n",
            "1193 / 3882\n",
            "1194 / 3882\n",
            "1195 / 3882\n",
            "1196 / 3882\n",
            "1197 / 3882\n",
            "1198 / 3882\n",
            "1199 / 3882\n",
            "1200 / 3882\n"
          ]
        },
        {
          "metadata": {
            "tags": null
          },
          "name": "stderr",
          "output_type": "stream",
          "text": [
            "<ipython-input-26-18a742631681>:72: RuntimeWarning: divide by zero encountered in log10\n",
            "  audio_log = 10.0 * np.log10(audio_filtered)\n"
          ]
        },
        {
          "metadata": {
            "tags": null
          },
          "name": "stdout",
          "output_type": "stream",
          "text": [
            "1201 / 3882\n",
            "1202 / 3882\n",
            "1203 / 3882\n",
            "1204 / 3882\n",
            "not mono 2\n",
            "1205 / 3882\n",
            "1206 / 3882\n",
            "1207 / 3882\n",
            "1208 / 3882\n",
            "1209 / 3882\n",
            "1210 / 3882\n",
            "1211 / 3882\n",
            "1212 / 3882\n",
            "1213 / 3882\n",
            "1214 / 3882\n",
            "1215 / 3882\n",
            "1216 / 3882\n",
            "1217 / 3882\n",
            "1218 / 3882\n",
            "1219 / 3882\n",
            "1220 / 3882\n",
            "1221 / 3882\n",
            "1222 / 3882\n",
            "1223 / 3882\n",
            "1224 / 3882\n",
            "1225 / 3882\n",
            "1226 / 3882\n",
            "not mono 2\n",
            "1227 / 3882\n",
            "1228 / 3882\n",
            "1229 / 3882\n",
            "1230 / 3882\n",
            "1231 / 3882\n",
            "1232 / 3882\n",
            "1233 / 3882\n",
            "1234 / 3882\n",
            "1235 / 3882\n",
            "1236 / 3882\n",
            "1237 / 3882\n",
            "1238 / 3882\n",
            "not mono 2\n",
            "1239 / 3882\n",
            "not mono 2\n",
            "1240 / 3882\n",
            "not mono 2\n",
            "1241 / 3882\n",
            "not mono 2\n",
            "1242 / 3882\n",
            "1243 / 3882\n"
          ]
        },
        {
          "metadata": {
            "tags": null
          },
          "name": "stderr",
          "output_type": "stream",
          "text": [
            "<ipython-input-26-18a742631681>:72: RuntimeWarning: divide by zero encountered in log10\n",
            "  audio_log = 10.0 * np.log10(audio_filtered)\n"
          ]
        },
        {
          "metadata": {
            "tags": null
          },
          "name": "stdout",
          "output_type": "stream",
          "text": [
            "1244 / 3882\n"
          ]
        },
        {
          "metadata": {
            "tags": null
          },
          "name": "stderr",
          "output_type": "stream",
          "text": [
            "<ipython-input-26-18a742631681>:72: RuntimeWarning: divide by zero encountered in log10\n",
            "  audio_log = 10.0 * np.log10(audio_filtered)\n"
          ]
        },
        {
          "metadata": {
            "tags": null
          },
          "name": "stdout",
          "output_type": "stream",
          "text": [
            "1245 / 3882\n",
            "1246 / 3882\n",
            "1247 / 3882\n",
            "not mono 2\n",
            "1248 / 3882\n",
            "1249 / 3882\n",
            "1250 / 3882\n",
            "1251 / 3882\n"
          ]
        },
        {
          "metadata": {
            "tags": null
          },
          "name": "stderr",
          "output_type": "stream",
          "text": [
            "<ipython-input-26-18a742631681>:72: RuntimeWarning: divide by zero encountered in log10\n",
            "  audio_log = 10.0 * np.log10(audio_filtered)\n"
          ]
        },
        {
          "metadata": {
            "tags": null
          },
          "name": "stdout",
          "output_type": "stream",
          "text": [
            "1252 / 3882\n"
          ]
        },
        {
          "metadata": {
            "tags": null
          },
          "name": "stderr",
          "output_type": "stream",
          "text": [
            "<ipython-input-26-18a742631681>:72: RuntimeWarning: divide by zero encountered in log10\n",
            "  audio_log = 10.0 * np.log10(audio_filtered)\n"
          ]
        },
        {
          "metadata": {
            "tags": null
          },
          "name": "stdout",
          "output_type": "stream",
          "text": [
            "1253 / 3882\n"
          ]
        },
        {
          "metadata": {
            "tags": null
          },
          "name": "stderr",
          "output_type": "stream",
          "text": [
            "<ipython-input-26-18a742631681>:72: RuntimeWarning: divide by zero encountered in log10\n",
            "  audio_log = 10.0 * np.log10(audio_filtered)\n"
          ]
        },
        {
          "metadata": {
            "tags": null
          },
          "name": "stdout",
          "output_type": "stream",
          "text": [
            "1254 / 3882\n",
            "1255 / 3882\n",
            "1256 / 3882\n",
            "1257 / 3882\n"
          ]
        },
        {
          "metadata": {
            "tags": null
          },
          "name": "stderr",
          "output_type": "stream",
          "text": [
            "<ipython-input-26-18a742631681>:72: RuntimeWarning: divide by zero encountered in log10\n",
            "  audio_log = 10.0 * np.log10(audio_filtered)\n"
          ]
        },
        {
          "metadata": {
            "tags": null
          },
          "name": "stdout",
          "output_type": "stream",
          "text": [
            "1258 / 3882\n"
          ]
        },
        {
          "metadata": {
            "tags": null
          },
          "name": "stderr",
          "output_type": "stream",
          "text": [
            "<ipython-input-26-18a742631681>:72: RuntimeWarning: divide by zero encountered in log10\n",
            "  audio_log = 10.0 * np.log10(audio_filtered)\n"
          ]
        },
        {
          "metadata": {
            "tags": null
          },
          "name": "stdout",
          "output_type": "stream",
          "text": [
            "1259 / 3882\n"
          ]
        },
        {
          "metadata": {
            "tags": null
          },
          "name": "stderr",
          "output_type": "stream",
          "text": [
            "<ipython-input-26-18a742631681>:72: RuntimeWarning: divide by zero encountered in log10\n",
            "  audio_log = 10.0 * np.log10(audio_filtered)\n"
          ]
        },
        {
          "metadata": {
            "tags": null
          },
          "name": "stdout",
          "output_type": "stream",
          "text": [
            "1260 / 3882\n"
          ]
        },
        {
          "metadata": {
            "tags": null
          },
          "name": "stderr",
          "output_type": "stream",
          "text": [
            "<ipython-input-26-18a742631681>:72: RuntimeWarning: divide by zero encountered in log10\n",
            "  audio_log = 10.0 * np.log10(audio_filtered)\n"
          ]
        },
        {
          "metadata": {
            "tags": null
          },
          "name": "stdout",
          "output_type": "stream",
          "text": [
            "1261 / 3882\n"
          ]
        },
        {
          "metadata": {
            "tags": null
          },
          "name": "stderr",
          "output_type": "stream",
          "text": [
            "<ipython-input-26-18a742631681>:72: RuntimeWarning: divide by zero encountered in log10\n",
            "  audio_log = 10.0 * np.log10(audio_filtered)\n"
          ]
        },
        {
          "metadata": {
            "tags": null
          },
          "name": "stdout",
          "output_type": "stream",
          "text": [
            "1262 / 3882\n",
            "1263 / 3882\n",
            "1264 / 3882\n",
            "1265 / 3882\n"
          ]
        },
        {
          "metadata": {
            "tags": null
          },
          "name": "stderr",
          "output_type": "stream",
          "text": [
            "<ipython-input-26-18a742631681>:72: RuntimeWarning: divide by zero encountered in log10\n",
            "  audio_log = 10.0 * np.log10(audio_filtered)\n"
          ]
        },
        {
          "metadata": {
            "tags": null
          },
          "name": "stdout",
          "output_type": "stream",
          "text": [
            "1266 / 3882\n",
            "not mono 2\n",
            "1267 / 3882\n",
            "not mono 2\n",
            "1268 / 3882\n",
            "1269 / 3882\n",
            "1270 / 3882\n",
            "1271 / 3882\n",
            "1272 / 3882\n",
            "1273 / 3882\n",
            "1274 / 3882\n",
            "1275 / 3882\n"
          ]
        },
        {
          "metadata": {
            "tags": null
          },
          "name": "stderr",
          "output_type": "stream",
          "text": [
            "<ipython-input-26-18a742631681>:72: RuntimeWarning: divide by zero encountered in log10\n",
            "  audio_log = 10.0 * np.log10(audio_filtered)\n"
          ]
        },
        {
          "metadata": {
            "tags": null
          },
          "name": "stdout",
          "output_type": "stream",
          "text": [
            "1276 / 3882\n"
          ]
        },
        {
          "metadata": {
            "tags": null
          },
          "name": "stderr",
          "output_type": "stream",
          "text": [
            "<ipython-input-26-18a742631681>:72: RuntimeWarning: divide by zero encountered in log10\n",
            "  audio_log = 10.0 * np.log10(audio_filtered)\n"
          ]
        },
        {
          "metadata": {
            "tags": null
          },
          "name": "stdout",
          "output_type": "stream",
          "text": [
            "1277 / 3882\n"
          ]
        },
        {
          "metadata": {
            "tags": null
          },
          "name": "stderr",
          "output_type": "stream",
          "text": [
            "<ipython-input-26-18a742631681>:72: RuntimeWarning: divide by zero encountered in log10\n",
            "  audio_log = 10.0 * np.log10(audio_filtered)\n"
          ]
        },
        {
          "metadata": {
            "tags": null
          },
          "name": "stdout",
          "output_type": "stream",
          "text": [
            "1278 / 3882\n"
          ]
        },
        {
          "metadata": {
            "tags": null
          },
          "name": "stderr",
          "output_type": "stream",
          "text": [
            "<ipython-input-26-18a742631681>:72: RuntimeWarning: divide by zero encountered in log10\n",
            "  audio_log = 10.0 * np.log10(audio_filtered)\n"
          ]
        },
        {
          "metadata": {
            "tags": null
          },
          "name": "stdout",
          "output_type": "stream",
          "text": [
            "1279 / 3882\n"
          ]
        },
        {
          "metadata": {
            "tags": null
          },
          "name": "stderr",
          "output_type": "stream",
          "text": [
            "<ipython-input-26-18a742631681>:72: RuntimeWarning: divide by zero encountered in log10\n",
            "  audio_log = 10.0 * np.log10(audio_filtered)\n"
          ]
        },
        {
          "metadata": {
            "tags": null
          },
          "name": "stdout",
          "output_type": "stream",
          "text": [
            "1280 / 3882\n"
          ]
        },
        {
          "metadata": {
            "tags": null
          },
          "name": "stderr",
          "output_type": "stream",
          "text": [
            "<ipython-input-26-18a742631681>:72: RuntimeWarning: divide by zero encountered in log10\n",
            "  audio_log = 10.0 * np.log10(audio_filtered)\n"
          ]
        },
        {
          "metadata": {
            "tags": null
          },
          "name": "stdout",
          "output_type": "stream",
          "text": [
            "1281 / 3882\n"
          ]
        },
        {
          "metadata": {
            "tags": null
          },
          "name": "stderr",
          "output_type": "stream",
          "text": [
            "<ipython-input-26-18a742631681>:72: RuntimeWarning: divide by zero encountered in log10\n",
            "  audio_log = 10.0 * np.log10(audio_filtered)\n"
          ]
        },
        {
          "metadata": {
            "tags": null
          },
          "name": "stdout",
          "output_type": "stream",
          "text": [
            "1282 / 3882\n"
          ]
        },
        {
          "metadata": {
            "tags": null
          },
          "name": "stderr",
          "output_type": "stream",
          "text": [
            "<ipython-input-26-18a742631681>:72: RuntimeWarning: divide by zero encountered in log10\n",
            "  audio_log = 10.0 * np.log10(audio_filtered)\n"
          ]
        },
        {
          "metadata": {
            "tags": null
          },
          "name": "stdout",
          "output_type": "stream",
          "text": [
            "1283 / 3882\n"
          ]
        },
        {
          "metadata": {
            "tags": null
          },
          "name": "stderr",
          "output_type": "stream",
          "text": [
            "<ipython-input-26-18a742631681>:72: RuntimeWarning: divide by zero encountered in log10\n",
            "  audio_log = 10.0 * np.log10(audio_filtered)\n"
          ]
        },
        {
          "metadata": {
            "tags": null
          },
          "name": "stdout",
          "output_type": "stream",
          "text": [
            "1284 / 3882\n"
          ]
        },
        {
          "metadata": {
            "tags": null
          },
          "name": "stderr",
          "output_type": "stream",
          "text": [
            "<ipython-input-26-18a742631681>:72: RuntimeWarning: divide by zero encountered in log10\n",
            "  audio_log = 10.0 * np.log10(audio_filtered)\n"
          ]
        },
        {
          "metadata": {
            "tags": null
          },
          "name": "stdout",
          "output_type": "stream",
          "text": [
            "1285 / 3882\n"
          ]
        },
        {
          "metadata": {
            "tags": null
          },
          "name": "stderr",
          "output_type": "stream",
          "text": [
            "<ipython-input-26-18a742631681>:72: RuntimeWarning: divide by zero encountered in log10\n",
            "  audio_log = 10.0 * np.log10(audio_filtered)\n"
          ]
        },
        {
          "metadata": {
            "tags": null
          },
          "name": "stdout",
          "output_type": "stream",
          "text": [
            "1286 / 3882\n"
          ]
        },
        {
          "metadata": {
            "tags": null
          },
          "name": "stderr",
          "output_type": "stream",
          "text": [
            "<ipython-input-26-18a742631681>:72: RuntimeWarning: divide by zero encountered in log10\n",
            "  audio_log = 10.0 * np.log10(audio_filtered)\n"
          ]
        },
        {
          "metadata": {
            "tags": null
          },
          "name": "stdout",
          "output_type": "stream",
          "text": [
            "1287 / 3882\n"
          ]
        },
        {
          "metadata": {
            "tags": null
          },
          "name": "stderr",
          "output_type": "stream",
          "text": [
            "<ipython-input-26-18a742631681>:72: RuntimeWarning: divide by zero encountered in log10\n",
            "  audio_log = 10.0 * np.log10(audio_filtered)\n"
          ]
        },
        {
          "metadata": {
            "tags": null
          },
          "name": "stdout",
          "output_type": "stream",
          "text": [
            "1288 / 3882\n"
          ]
        },
        {
          "metadata": {
            "tags": null
          },
          "name": "stderr",
          "output_type": "stream",
          "text": [
            "<ipython-input-26-18a742631681>:72: RuntimeWarning: divide by zero encountered in log10\n",
            "  audio_log = 10.0 * np.log10(audio_filtered)\n"
          ]
        },
        {
          "metadata": {
            "tags": null
          },
          "name": "stdout",
          "output_type": "stream",
          "text": [
            "1289 / 3882\n"
          ]
        },
        {
          "metadata": {
            "tags": null
          },
          "name": "stderr",
          "output_type": "stream",
          "text": [
            "<ipython-input-26-18a742631681>:72: RuntimeWarning: divide by zero encountered in log10\n",
            "  audio_log = 10.0 * np.log10(audio_filtered)\n"
          ]
        },
        {
          "metadata": {
            "tags": null
          },
          "name": "stdout",
          "output_type": "stream",
          "text": [
            "1290 / 3882\n"
          ]
        },
        {
          "metadata": {
            "tags": null
          },
          "name": "stderr",
          "output_type": "stream",
          "text": [
            "<ipython-input-26-18a742631681>:72: RuntimeWarning: divide by zero encountered in log10\n",
            "  audio_log = 10.0 * np.log10(audio_filtered)\n"
          ]
        },
        {
          "metadata": {
            "tags": null
          },
          "name": "stdout",
          "output_type": "stream",
          "text": [
            "1291 / 3882\n"
          ]
        },
        {
          "metadata": {
            "tags": null
          },
          "name": "stderr",
          "output_type": "stream",
          "text": [
            "<ipython-input-26-18a742631681>:72: RuntimeWarning: divide by zero encountered in log10\n",
            "  audio_log = 10.0 * np.log10(audio_filtered)\n"
          ]
        },
        {
          "metadata": {
            "tags": null
          },
          "name": "stdout",
          "output_type": "stream",
          "text": [
            "1292 / 3882\n"
          ]
        },
        {
          "metadata": {
            "tags": null
          },
          "name": "stderr",
          "output_type": "stream",
          "text": [
            "<ipython-input-26-18a742631681>:72: RuntimeWarning: divide by zero encountered in log10\n",
            "  audio_log = 10.0 * np.log10(audio_filtered)\n"
          ]
        },
        {
          "metadata": {
            "tags": null
          },
          "name": "stdout",
          "output_type": "stream",
          "text": [
            "1293 / 3882\n"
          ]
        },
        {
          "metadata": {
            "tags": null
          },
          "name": "stderr",
          "output_type": "stream",
          "text": [
            "<ipython-input-26-18a742631681>:72: RuntimeWarning: divide by zero encountered in log10\n",
            "  audio_log = 10.0 * np.log10(audio_filtered)\n"
          ]
        },
        {
          "metadata": {
            "tags": null
          },
          "name": "stdout",
          "output_type": "stream",
          "text": [
            "1294 / 3882\n"
          ]
        },
        {
          "metadata": {
            "tags": null
          },
          "name": "stderr",
          "output_type": "stream",
          "text": [
            "<ipython-input-26-18a742631681>:72: RuntimeWarning: divide by zero encountered in log10\n",
            "  audio_log = 10.0 * np.log10(audio_filtered)\n"
          ]
        },
        {
          "metadata": {
            "tags": null
          },
          "name": "stdout",
          "output_type": "stream",
          "text": [
            "1295 / 3882\n"
          ]
        },
        {
          "metadata": {
            "tags": null
          },
          "name": "stderr",
          "output_type": "stream",
          "text": [
            "<ipython-input-26-18a742631681>:72: RuntimeWarning: divide by zero encountered in log10\n",
            "  audio_log = 10.0 * np.log10(audio_filtered)\n"
          ]
        },
        {
          "metadata": {
            "tags": null
          },
          "name": "stdout",
          "output_type": "stream",
          "text": [
            "1296 / 3882\n"
          ]
        },
        {
          "metadata": {
            "tags": null
          },
          "name": "stderr",
          "output_type": "stream",
          "text": [
            "<ipython-input-26-18a742631681>:72: RuntimeWarning: divide by zero encountered in log10\n",
            "  audio_log = 10.0 * np.log10(audio_filtered)\n"
          ]
        },
        {
          "metadata": {
            "tags": null
          },
          "name": "stdout",
          "output_type": "stream",
          "text": [
            "1297 / 3882\n"
          ]
        },
        {
          "metadata": {
            "tags": null
          },
          "name": "stderr",
          "output_type": "stream",
          "text": [
            "<ipython-input-26-18a742631681>:72: RuntimeWarning: divide by zero encountered in log10\n",
            "  audio_log = 10.0 * np.log10(audio_filtered)\n"
          ]
        },
        {
          "metadata": {
            "tags": null
          },
          "name": "stdout",
          "output_type": "stream",
          "text": [
            "1298 / 3882\n"
          ]
        },
        {
          "metadata": {
            "tags": null
          },
          "name": "stderr",
          "output_type": "stream",
          "text": [
            "<ipython-input-26-18a742631681>:72: RuntimeWarning: divide by zero encountered in log10\n",
            "  audio_log = 10.0 * np.log10(audio_filtered)\n"
          ]
        },
        {
          "metadata": {
            "tags": null
          },
          "name": "stdout",
          "output_type": "stream",
          "text": [
            "1299 / 3882\n"
          ]
        },
        {
          "metadata": {
            "tags": null
          },
          "name": "stderr",
          "output_type": "stream",
          "text": [
            "<ipython-input-26-18a742631681>:72: RuntimeWarning: divide by zero encountered in log10\n",
            "  audio_log = 10.0 * np.log10(audio_filtered)\n"
          ]
        },
        {
          "metadata": {
            "tags": null
          },
          "name": "stdout",
          "output_type": "stream",
          "text": [
            "1300 / 3882\n"
          ]
        },
        {
          "metadata": {
            "tags": null
          },
          "name": "stderr",
          "output_type": "stream",
          "text": [
            "<ipython-input-26-18a742631681>:72: RuntimeWarning: divide by zero encountered in log10\n",
            "  audio_log = 10.0 * np.log10(audio_filtered)\n"
          ]
        },
        {
          "metadata": {
            "tags": null
          },
          "name": "stdout",
          "output_type": "stream",
          "text": [
            "1301 / 3882\n"
          ]
        },
        {
          "metadata": {
            "tags": null
          },
          "name": "stderr",
          "output_type": "stream",
          "text": [
            "<ipython-input-26-18a742631681>:72: RuntimeWarning: divide by zero encountered in log10\n",
            "  audio_log = 10.0 * np.log10(audio_filtered)\n"
          ]
        },
        {
          "metadata": {
            "tags": null
          },
          "name": "stdout",
          "output_type": "stream",
          "text": [
            "1302 / 3882\n"
          ]
        },
        {
          "metadata": {
            "tags": null
          },
          "name": "stderr",
          "output_type": "stream",
          "text": [
            "<ipython-input-26-18a742631681>:72: RuntimeWarning: divide by zero encountered in log10\n",
            "  audio_log = 10.0 * np.log10(audio_filtered)\n"
          ]
        },
        {
          "metadata": {
            "tags": null
          },
          "name": "stdout",
          "output_type": "stream",
          "text": [
            "1303 / 3882\n"
          ]
        },
        {
          "metadata": {
            "tags": null
          },
          "name": "stderr",
          "output_type": "stream",
          "text": [
            "<ipython-input-26-18a742631681>:72: RuntimeWarning: divide by zero encountered in log10\n",
            "  audio_log = 10.0 * np.log10(audio_filtered)\n"
          ]
        },
        {
          "metadata": {
            "tags": null
          },
          "name": "stdout",
          "output_type": "stream",
          "text": [
            "1304 / 3882\n"
          ]
        },
        {
          "metadata": {
            "tags": null
          },
          "name": "stderr",
          "output_type": "stream",
          "text": [
            "<ipython-input-26-18a742631681>:72: RuntimeWarning: divide by zero encountered in log10\n",
            "  audio_log = 10.0 * np.log10(audio_filtered)\n"
          ]
        },
        {
          "metadata": {
            "tags": null
          },
          "name": "stdout",
          "output_type": "stream",
          "text": [
            "1305 / 3882\n"
          ]
        },
        {
          "metadata": {
            "tags": null
          },
          "name": "stderr",
          "output_type": "stream",
          "text": [
            "<ipython-input-26-18a742631681>:72: RuntimeWarning: divide by zero encountered in log10\n",
            "  audio_log = 10.0 * np.log10(audio_filtered)\n"
          ]
        },
        {
          "metadata": {
            "tags": null
          },
          "name": "stdout",
          "output_type": "stream",
          "text": [
            "1306 / 3882\n"
          ]
        },
        {
          "metadata": {
            "tags": null
          },
          "name": "stderr",
          "output_type": "stream",
          "text": [
            "<ipython-input-26-18a742631681>:72: RuntimeWarning: divide by zero encountered in log10\n",
            "  audio_log = 10.0 * np.log10(audio_filtered)\n"
          ]
        },
        {
          "metadata": {
            "tags": null
          },
          "name": "stdout",
          "output_type": "stream",
          "text": [
            "1307 / 3882\n"
          ]
        },
        {
          "metadata": {
            "tags": null
          },
          "name": "stderr",
          "output_type": "stream",
          "text": [
            "<ipython-input-26-18a742631681>:72: RuntimeWarning: divide by zero encountered in log10\n",
            "  audio_log = 10.0 * np.log10(audio_filtered)\n"
          ]
        },
        {
          "metadata": {
            "tags": null
          },
          "name": "stdout",
          "output_type": "stream",
          "text": [
            "1308 / 3882\n"
          ]
        },
        {
          "metadata": {
            "tags": null
          },
          "name": "stderr",
          "output_type": "stream",
          "text": [
            "<ipython-input-26-18a742631681>:72: RuntimeWarning: divide by zero encountered in log10\n",
            "  audio_log = 10.0 * np.log10(audio_filtered)\n"
          ]
        },
        {
          "metadata": {
            "tags": null
          },
          "name": "stdout",
          "output_type": "stream",
          "text": [
            "1309 / 3882\n"
          ]
        },
        {
          "metadata": {
            "tags": null
          },
          "name": "stderr",
          "output_type": "stream",
          "text": [
            "<ipython-input-26-18a742631681>:72: RuntimeWarning: divide by zero encountered in log10\n",
            "  audio_log = 10.0 * np.log10(audio_filtered)\n"
          ]
        },
        {
          "metadata": {
            "tags": null
          },
          "name": "stdout",
          "output_type": "stream",
          "text": [
            "1310 / 3882\n"
          ]
        },
        {
          "metadata": {
            "tags": null
          },
          "name": "stderr",
          "output_type": "stream",
          "text": [
            "<ipython-input-26-18a742631681>:72: RuntimeWarning: divide by zero encountered in log10\n",
            "  audio_log = 10.0 * np.log10(audio_filtered)\n"
          ]
        },
        {
          "metadata": {
            "tags": null
          },
          "name": "stdout",
          "output_type": "stream",
          "text": [
            "1311 / 3882\n"
          ]
        },
        {
          "metadata": {
            "tags": null
          },
          "name": "stderr",
          "output_type": "stream",
          "text": [
            "<ipython-input-26-18a742631681>:72: RuntimeWarning: divide by zero encountered in log10\n",
            "  audio_log = 10.0 * np.log10(audio_filtered)\n"
          ]
        },
        {
          "metadata": {
            "tags": null
          },
          "name": "stdout",
          "output_type": "stream",
          "text": [
            "1312 / 3882\n"
          ]
        },
        {
          "metadata": {
            "tags": null
          },
          "name": "stderr",
          "output_type": "stream",
          "text": [
            "<ipython-input-26-18a742631681>:72: RuntimeWarning: divide by zero encountered in log10\n",
            "  audio_log = 10.0 * np.log10(audio_filtered)\n"
          ]
        },
        {
          "metadata": {
            "tags": null
          },
          "name": "stdout",
          "output_type": "stream",
          "text": [
            "1313 / 3882\n"
          ]
        },
        {
          "metadata": {
            "tags": null
          },
          "name": "stderr",
          "output_type": "stream",
          "text": [
            "<ipython-input-26-18a742631681>:72: RuntimeWarning: divide by zero encountered in log10\n",
            "  audio_log = 10.0 * np.log10(audio_filtered)\n"
          ]
        },
        {
          "metadata": {
            "tags": null
          },
          "name": "stdout",
          "output_type": "stream",
          "text": [
            "1314 / 3882\n"
          ]
        },
        {
          "metadata": {
            "tags": null
          },
          "name": "stderr",
          "output_type": "stream",
          "text": [
            "<ipython-input-26-18a742631681>:72: RuntimeWarning: divide by zero encountered in log10\n",
            "  audio_log = 10.0 * np.log10(audio_filtered)\n"
          ]
        },
        {
          "metadata": {
            "tags": null
          },
          "name": "stdout",
          "output_type": "stream",
          "text": [
            "1315 / 3882\n"
          ]
        },
        {
          "metadata": {
            "tags": null
          },
          "name": "stderr",
          "output_type": "stream",
          "text": [
            "<ipython-input-26-18a742631681>:72: RuntimeWarning: divide by zero encountered in log10\n",
            "  audio_log = 10.0 * np.log10(audio_filtered)\n"
          ]
        },
        {
          "metadata": {
            "tags": null
          },
          "name": "stdout",
          "output_type": "stream",
          "text": [
            "1316 / 3882\n"
          ]
        },
        {
          "metadata": {
            "tags": null
          },
          "name": "stderr",
          "output_type": "stream",
          "text": [
            "<ipython-input-26-18a742631681>:72: RuntimeWarning: divide by zero encountered in log10\n",
            "  audio_log = 10.0 * np.log10(audio_filtered)\n"
          ]
        },
        {
          "metadata": {
            "tags": null
          },
          "name": "stdout",
          "output_type": "stream",
          "text": [
            "1317 / 3882\n"
          ]
        },
        {
          "metadata": {
            "tags": null
          },
          "name": "stderr",
          "output_type": "stream",
          "text": [
            "<ipython-input-26-18a742631681>:72: RuntimeWarning: divide by zero encountered in log10\n",
            "  audio_log = 10.0 * np.log10(audio_filtered)\n"
          ]
        },
        {
          "metadata": {
            "tags": null
          },
          "name": "stdout",
          "output_type": "stream",
          "text": [
            "1318 / 3882\n"
          ]
        },
        {
          "metadata": {
            "tags": null
          },
          "name": "stderr",
          "output_type": "stream",
          "text": [
            "<ipython-input-26-18a742631681>:72: RuntimeWarning: divide by zero encountered in log10\n",
            "  audio_log = 10.0 * np.log10(audio_filtered)\n"
          ]
        },
        {
          "metadata": {
            "tags": null
          },
          "name": "stdout",
          "output_type": "stream",
          "text": [
            "1319 / 3882\n"
          ]
        },
        {
          "metadata": {
            "tags": null
          },
          "name": "stderr",
          "output_type": "stream",
          "text": [
            "<ipython-input-26-18a742631681>:72: RuntimeWarning: divide by zero encountered in log10\n",
            "  audio_log = 10.0 * np.log10(audio_filtered)\n"
          ]
        },
        {
          "metadata": {
            "tags": null
          },
          "name": "stdout",
          "output_type": "stream",
          "text": [
            "1320 / 3882\n",
            "1321 / 3882\n",
            "1322 / 3882\n",
            "1323 / 3882\n",
            "1324 / 3882\n",
            "1325 / 3882\n",
            "1326 / 3882\n",
            "1327 / 3882\n",
            "1328 / 3882\n",
            "1329 / 3882\n",
            "1330 / 3882\n",
            "1331 / 3882\n",
            "1332 / 3882\n",
            "1333 / 3882\n",
            "1334 / 3882\n",
            "1335 / 3882\n",
            "1336 / 3882\n",
            "1337 / 3882\n",
            "1338 / 3882\n",
            "1339 / 3882\n",
            "1340 / 3882\n",
            "1341 / 3882\n",
            "1342 / 3882\n"
          ]
        },
        {
          "metadata": {
            "tags": null
          },
          "name": "stderr",
          "output_type": "stream",
          "text": [
            "<ipython-input-26-18a742631681>:72: RuntimeWarning: divide by zero encountered in log10\n",
            "  audio_log = 10.0 * np.log10(audio_filtered)\n"
          ]
        },
        {
          "metadata": {
            "tags": null
          },
          "name": "stdout",
          "output_type": "stream",
          "text": [
            "1343 / 3882\n",
            "not mono 2\n"
          ]
        },
        {
          "metadata": {
            "tags": null
          },
          "name": "stderr",
          "output_type": "stream",
          "text": [
            "<ipython-input-26-18a742631681>:72: RuntimeWarning: divide by zero encountered in log10\n",
            "  audio_log = 10.0 * np.log10(audio_filtered)\n"
          ]
        },
        {
          "metadata": {
            "tags": null
          },
          "name": "stdout",
          "output_type": "stream",
          "text": [
            "1344 / 3882\n",
            "not mono 2\n"
          ]
        },
        {
          "metadata": {
            "tags": null
          },
          "name": "stderr",
          "output_type": "stream",
          "text": [
            "<ipython-input-26-18a742631681>:72: RuntimeWarning: divide by zero encountered in log10\n",
            "  audio_log = 10.0 * np.log10(audio_filtered)\n"
          ]
        },
        {
          "metadata": {
            "tags": null
          },
          "name": "stdout",
          "output_type": "stream",
          "text": [
            "1345 / 3882\n",
            "not mono 2\n"
          ]
        },
        {
          "metadata": {
            "tags": null
          },
          "name": "stderr",
          "output_type": "stream",
          "text": [
            "<ipython-input-26-18a742631681>:72: RuntimeWarning: divide by zero encountered in log10\n",
            "  audio_log = 10.0 * np.log10(audio_filtered)\n"
          ]
        },
        {
          "metadata": {
            "tags": null
          },
          "name": "stdout",
          "output_type": "stream",
          "text": [
            "1346 / 3882\n",
            "not mono 2\n",
            "1347 / 3882\n"
          ]
        },
        {
          "metadata": {
            "tags": null
          },
          "name": "stderr",
          "output_type": "stream",
          "text": [
            "<ipython-input-26-18a742631681>:72: RuntimeWarning: divide by zero encountered in log10\n",
            "  audio_log = 10.0 * np.log10(audio_filtered)\n"
          ]
        },
        {
          "metadata": {
            "tags": null
          },
          "name": "stdout",
          "output_type": "stream",
          "text": [
            "not mono 2\n"
          ]
        },
        {
          "metadata": {
            "tags": null
          },
          "name": "stderr",
          "output_type": "stream",
          "text": [
            "<ipython-input-26-18a742631681>:72: RuntimeWarning: divide by zero encountered in log10\n",
            "  audio_log = 10.0 * np.log10(audio_filtered)\n"
          ]
        },
        {
          "metadata": {
            "tags": null
          },
          "name": "stdout",
          "output_type": "stream",
          "text": [
            "1348 / 3882\n",
            "not mono 2\n"
          ]
        },
        {
          "metadata": {
            "tags": null
          },
          "name": "stderr",
          "output_type": "stream",
          "text": [
            "<ipython-input-26-18a742631681>:72: RuntimeWarning: divide by zero encountered in log10\n",
            "  audio_log = 10.0 * np.log10(audio_filtered)\n"
          ]
        },
        {
          "metadata": {
            "tags": null
          },
          "name": "stdout",
          "output_type": "stream",
          "text": [
            "1349 / 3882\n",
            "not mono 2\n"
          ]
        },
        {
          "metadata": {
            "tags": null
          },
          "name": "stderr",
          "output_type": "stream",
          "text": [
            "<ipython-input-26-18a742631681>:72: RuntimeWarning: divide by zero encountered in log10\n",
            "  audio_log = 10.0 * np.log10(audio_filtered)\n"
          ]
        },
        {
          "metadata": {
            "tags": null
          },
          "name": "stdout",
          "output_type": "stream",
          "text": [
            "1350 / 3882\n",
            "not mono 2\n"
          ]
        },
        {
          "metadata": {
            "tags": null
          },
          "name": "stderr",
          "output_type": "stream",
          "text": [
            "<ipython-input-26-18a742631681>:72: RuntimeWarning: divide by zero encountered in log10\n",
            "  audio_log = 10.0 * np.log10(audio_filtered)\n"
          ]
        },
        {
          "metadata": {
            "tags": null
          },
          "name": "stdout",
          "output_type": "stream",
          "text": [
            "1351 / 3882\n",
            "not mono 2\n"
          ]
        },
        {
          "metadata": {
            "tags": null
          },
          "name": "stderr",
          "output_type": "stream",
          "text": [
            "<ipython-input-26-18a742631681>:72: RuntimeWarning: divide by zero encountered in log10\n",
            "  audio_log = 10.0 * np.log10(audio_filtered)\n"
          ]
        },
        {
          "metadata": {
            "tags": null
          },
          "name": "stdout",
          "output_type": "stream",
          "text": [
            "1352 / 3882\n",
            "not mono 2\n"
          ]
        },
        {
          "metadata": {
            "tags": null
          },
          "name": "stderr",
          "output_type": "stream",
          "text": [
            "<ipython-input-26-18a742631681>:72: RuntimeWarning: divide by zero encountered in log10\n",
            "  audio_log = 10.0 * np.log10(audio_filtered)\n"
          ]
        },
        {
          "metadata": {
            "tags": null
          },
          "name": "stdout",
          "output_type": "stream",
          "text": [
            "1353 / 3882\n",
            "1354 / 3882\n",
            "1355 / 3882\n",
            "1356 / 3882\n",
            "1357 / 3882\n",
            "1358 / 3882\n",
            "1359 / 3882\n",
            "1360 / 3882\n",
            "1361 / 3882\n",
            "1362 / 3882\n",
            "1363 / 3882\n",
            "1364 / 3882\n",
            "1365 / 3882\n",
            "1366 / 3882\n",
            "1367 / 3882\n",
            "1368 / 3882\n",
            "1369 / 3882\n",
            "1370 / 3882\n",
            "1371 / 3882\n",
            "1372 / 3882\n",
            "1373 / 3882\n",
            "1374 / 3882\n",
            "1375 / 3882\n",
            "1376 / 3882\n",
            "1377 / 3882\n",
            "1378 / 3882\n",
            "1379 / 3882\n",
            "1380 / 3882\n",
            "1381 / 3882\n",
            "1382 / 3882\n",
            "1383 / 3882\n",
            "1384 / 3882\n",
            "1385 / 3882\n",
            "1386 / 3882\n",
            "1387 / 3882\n",
            "1388 / 3882\n",
            "1389 / 3882\n",
            "1390 / 3882\n"
          ]
        },
        {
          "metadata": {
            "tags": null
          },
          "name": "stderr",
          "output_type": "stream",
          "text": [
            "<ipython-input-26-18a742631681>:72: RuntimeWarning: divide by zero encountered in log10\n",
            "  audio_log = 10.0 * np.log10(audio_filtered)\n"
          ]
        },
        {
          "metadata": {
            "tags": null
          },
          "name": "stdout",
          "output_type": "stream",
          "text": [
            "1391 / 3882\n",
            "1392 / 3882\n",
            "1393 / 3882\n",
            "1394 / 3882\n",
            "1395 / 3882\n",
            "not mono 2\n"
          ]
        },
        {
          "metadata": {
            "tags": null
          },
          "name": "stderr",
          "output_type": "stream",
          "text": [
            "<ipython-input-26-18a742631681>:72: RuntimeWarning: divide by zero encountered in log10\n",
            "  audio_log = 10.0 * np.log10(audio_filtered)\n"
          ]
        },
        {
          "metadata": {
            "tags": null
          },
          "name": "stdout",
          "output_type": "stream",
          "text": [
            "1396 / 3882\n",
            "1397 / 3882\n",
            "1398 / 3882\n",
            "1399 / 3882\n",
            "1400 / 3882\n"
          ]
        },
        {
          "metadata": {
            "tags": null
          },
          "name": "stderr",
          "output_type": "stream",
          "text": [
            "<ipython-input-26-18a742631681>:72: RuntimeWarning: divide by zero encountered in log10\n",
            "  audio_log = 10.0 * np.log10(audio_filtered)\n"
          ]
        },
        {
          "metadata": {
            "tags": null
          },
          "name": "stdout",
          "output_type": "stream",
          "text": [
            "1401 / 3882\n",
            "1402 / 3882\n",
            "1403 / 3882\n",
            "1404 / 3882\n",
            "1405 / 3882\n",
            "1406 / 3882\n",
            "1407 / 3882\n",
            "1408 / 3882\n",
            "1409 / 3882\n",
            "1410 / 3882\n",
            "1411 / 3882\n",
            "1412 / 3882\n",
            "1413 / 3882\n",
            "1414 / 3882\n",
            "1415 / 3882\n",
            "1416 / 3882\n",
            "1417 / 3882\n",
            "1418 / 3882\n",
            "1419 / 3882\n",
            "1420 / 3882\n",
            "1421 / 3882\n",
            "1422 / 3882\n",
            "1423 / 3882\n",
            "1424 / 3882\n",
            "1425 / 3882\n",
            "1426 / 3882\n"
          ]
        },
        {
          "metadata": {
            "tags": null
          },
          "name": "stderr",
          "output_type": "stream",
          "text": [
            "<ipython-input-26-18a742631681>:72: RuntimeWarning: divide by zero encountered in log10\n",
            "  audio_log = 10.0 * np.log10(audio_filtered)\n"
          ]
        },
        {
          "metadata": {
            "tags": null
          },
          "name": "stdout",
          "output_type": "stream",
          "text": [
            "1427 / 3882\n",
            "1428 / 3882\n",
            "1429 / 3882\n",
            "1430 / 3882\n",
            "1431 / 3882\n",
            "1432 / 3882\n",
            "1433 / 3882\n",
            "1434 / 3882\n",
            "1435 / 3882\n",
            "1436 / 3882\n",
            "1437 / 3882\n",
            "1438 / 3882\n",
            "1439 / 3882\n",
            "1440 / 3882\n",
            "1441 / 3882\n",
            "1442 / 3882\n",
            "1443 / 3882\n",
            "1444 / 3882\n",
            "1445 / 3882\n",
            "1446 / 3882\n",
            "1447 / 3882\n",
            "1448 / 3882\n",
            "1449 / 3882\n",
            "1450 / 3882\n",
            "1451 / 3882\n",
            "1452 / 3882\n",
            "1453 / 3882\n",
            "1454 / 3882\n",
            "1455 / 3882\n",
            "1456 / 3882\n",
            "1457 / 3882\n",
            "1458 / 3882\n",
            "1459 / 3882\n",
            "1460 / 3882\n",
            "1461 / 3882\n",
            "1462 / 3882\n"
          ]
        },
        {
          "metadata": {
            "tags": null
          },
          "name": "stderr",
          "output_type": "stream",
          "text": [
            "<ipython-input-26-18a742631681>:72: RuntimeWarning: divide by zero encountered in log10\n",
            "  audio_log = 10.0 * np.log10(audio_filtered)\n"
          ]
        },
        {
          "metadata": {
            "tags": null
          },
          "name": "stdout",
          "output_type": "stream",
          "text": [
            "1463 / 3882\n"
          ]
        },
        {
          "metadata": {
            "tags": null
          },
          "name": "stderr",
          "output_type": "stream",
          "text": [
            "<ipython-input-26-18a742631681>:72: RuntimeWarning: divide by zero encountered in log10\n",
            "  audio_log = 10.0 * np.log10(audio_filtered)\n"
          ]
        },
        {
          "metadata": {
            "tags": null
          },
          "name": "stdout",
          "output_type": "stream",
          "text": [
            "1464 / 3882\n",
            "1465 / 3882\n",
            "1466 / 3882\n",
            "1467 / 3882\n",
            "1468 / 3882\n",
            "1469 / 3882\n",
            "1470 / 3882\n",
            "1471 / 3882\n",
            "1472 / 3882\n",
            "1473 / 3882\n",
            "1474 / 3882\n",
            "1475 / 3882\n",
            "1476 / 3882\n",
            "1477 / 3882\n",
            "1478 / 3882\n",
            "1479 / 3882\n",
            "1480 / 3882\n",
            "1481 / 3882\n"
          ]
        },
        {
          "metadata": {
            "tags": null
          },
          "name": "stderr",
          "output_type": "stream",
          "text": [
            "<ipython-input-26-18a742631681>:72: RuntimeWarning: divide by zero encountered in log10\n",
            "  audio_log = 10.0 * np.log10(audio_filtered)\n"
          ]
        },
        {
          "metadata": {
            "tags": null
          },
          "name": "stdout",
          "output_type": "stream",
          "text": [
            "1482 / 3882\n"
          ]
        },
        {
          "metadata": {
            "tags": null
          },
          "name": "stderr",
          "output_type": "stream",
          "text": [
            "<ipython-input-26-18a742631681>:72: RuntimeWarning: divide by zero encountered in log10\n",
            "  audio_log = 10.0 * np.log10(audio_filtered)\n"
          ]
        },
        {
          "metadata": {
            "tags": null
          },
          "name": "stdout",
          "output_type": "stream",
          "text": [
            "1483 / 3882\n"
          ]
        },
        {
          "metadata": {
            "tags": null
          },
          "name": "stderr",
          "output_type": "stream",
          "text": [
            "<ipython-input-26-18a742631681>:72: RuntimeWarning: divide by zero encountered in log10\n",
            "  audio_log = 10.0 * np.log10(audio_filtered)\n"
          ]
        },
        {
          "metadata": {
            "tags": null
          },
          "name": "stdout",
          "output_type": "stream",
          "text": [
            "1484 / 3882\n",
            "not mono 2\n",
            "1485 / 3882\n",
            "not mono 2\n",
            "1486 / 3882\n"
          ]
        },
        {
          "metadata": {
            "tags": null
          },
          "name": "stderr",
          "output_type": "stream",
          "text": [
            "<ipython-input-26-18a742631681>:72: RuntimeWarning: divide by zero encountered in log10\n",
            "  audio_log = 10.0 * np.log10(audio_filtered)\n"
          ]
        },
        {
          "metadata": {
            "tags": null
          },
          "name": "stdout",
          "output_type": "stream",
          "text": [
            "1487 / 3882\n",
            "1488 / 3882\n",
            "1489 / 3882\n"
          ]
        },
        {
          "metadata": {
            "tags": null
          },
          "name": "stderr",
          "output_type": "stream",
          "text": [
            "<ipython-input-26-18a742631681>:72: RuntimeWarning: divide by zero encountered in log10\n",
            "  audio_log = 10.0 * np.log10(audio_filtered)\n"
          ]
        },
        {
          "metadata": {
            "tags": null
          },
          "name": "stdout",
          "output_type": "stream",
          "text": [
            "1490 / 3882\n"
          ]
        },
        {
          "metadata": {
            "tags": null
          },
          "name": "stderr",
          "output_type": "stream",
          "text": [
            "<ipython-input-26-18a742631681>:72: RuntimeWarning: divide by zero encountered in log10\n",
            "  audio_log = 10.0 * np.log10(audio_filtered)\n"
          ]
        },
        {
          "metadata": {
            "tags": null
          },
          "name": "stdout",
          "output_type": "stream",
          "text": [
            "1491 / 3882\n",
            "1492 / 3882\n",
            "1493 / 3882\n",
            "1494 / 3882\n",
            "1495 / 3882\n",
            "1496 / 3882\n",
            "1497 / 3882\n",
            "1498 / 3882\n"
          ]
        },
        {
          "metadata": {
            "tags": null
          },
          "name": "stderr",
          "output_type": "stream",
          "text": [
            "<ipython-input-26-18a742631681>:72: RuntimeWarning: divide by zero encountered in log10\n",
            "  audio_log = 10.0 * np.log10(audio_filtered)\n"
          ]
        },
        {
          "metadata": {
            "tags": null
          },
          "name": "stdout",
          "output_type": "stream",
          "text": [
            "1499 / 3882\n",
            "1500 / 3882\n",
            "1501 / 3882\n"
          ]
        },
        {
          "metadata": {
            "tags": null
          },
          "name": "stderr",
          "output_type": "stream",
          "text": [
            "<ipython-input-26-18a742631681>:72: RuntimeWarning: divide by zero encountered in log10\n",
            "  audio_log = 10.0 * np.log10(audio_filtered)\n"
          ]
        },
        {
          "metadata": {
            "tags": null
          },
          "name": "stdout",
          "output_type": "stream",
          "text": [
            "1502 / 3882\n",
            "1503 / 3882\n",
            "1504 / 3882\n",
            "1505 / 3882\n",
            "1506 / 3882\n",
            "1507 / 3882\n",
            "1508 / 3882\n",
            "1509 / 3882\n",
            "1510 / 3882\n",
            "1511 / 3882\n",
            "1512 / 3882\n",
            "1513 / 3882\n"
          ]
        },
        {
          "metadata": {
            "tags": null
          },
          "name": "stderr",
          "output_type": "stream",
          "text": [
            "<ipython-input-26-18a742631681>:72: RuntimeWarning: divide by zero encountered in log10\n",
            "  audio_log = 10.0 * np.log10(audio_filtered)\n"
          ]
        },
        {
          "metadata": {
            "tags": null
          },
          "name": "stdout",
          "output_type": "stream",
          "text": [
            "1514 / 3882\n",
            "1515 / 3882\n",
            "1516 / 3882\n",
            "1517 / 3882\n",
            "1518 / 3882\n",
            "1519 / 3882\n",
            "1520 / 3882\n",
            "1521 / 3882\n",
            "1522 / 3882\n",
            "1523 / 3882\n",
            "1524 / 3882\n",
            "1525 / 3882\n",
            "1526 / 3882\n",
            "1527 / 3882\n",
            "1528 / 3882\n",
            "1529 / 3882\n",
            "1530 / 3882\n",
            "1531 / 3882\n",
            "1532 / 3882\n",
            "1533 / 3882\n",
            "1534 / 3882\n",
            "1535 / 3882\n",
            "1536 / 3882\n",
            "1537 / 3882\n",
            "1538 / 3882\n",
            "1539 / 3882\n",
            "1540 / 3882\n",
            "1541 / 3882\n",
            "not mono 2\n",
            "1542 / 3882\n",
            "1543 / 3882\n",
            "1544 / 3882\n",
            "1545 / 3882\n",
            "1546 / 3882\n",
            "1547 / 3882\n",
            "1548 / 3882\n",
            "1549 / 3882\n",
            "1550 / 3882\n",
            "1551 / 3882\n",
            "1552 / 3882\n",
            "1553 / 3882\n",
            "1554 / 3882\n",
            "1555 / 3882\n",
            "1556 / 3882\n",
            "1557 / 3882\n",
            "1558 / 3882\n",
            "1559 / 3882\n",
            "1560 / 3882\n",
            "1561 / 3882\n",
            "1562 / 3882\n",
            "1563 / 3882\n",
            "1564 / 3882\n",
            "1565 / 3882\n",
            "1566 / 3882\n",
            "1567 / 3882\n",
            "1568 / 3882\n",
            "1569 / 3882\n",
            "1570 / 3882\n",
            "1571 / 3882\n",
            "1572 / 3882\n",
            "1573 / 3882\n",
            "1574 / 3882\n",
            "1575 / 3882\n",
            "1576 / 3882\n",
            "1577 / 3882\n",
            "1578 / 3882\n",
            "1579 / 3882\n",
            "1580 / 3882\n",
            "1581 / 3882\n",
            "1582 / 3882\n",
            "1583 / 3882\n",
            "1584 / 3882\n",
            "1585 / 3882\n",
            "1586 / 3882\n",
            "1587 / 3882\n",
            "1588 / 3882\n",
            "1589 / 3882\n",
            "1590 / 3882\n",
            "1591 / 3882\n",
            "1592 / 3882\n",
            "1593 / 3882\n",
            "1594 / 3882\n",
            "1595 / 3882\n",
            "1596 / 3882\n",
            "1597 / 3882\n",
            "1598 / 3882\n",
            "1599 / 3882\n",
            "1600 / 3882\n",
            "1601 / 3882\n",
            "1602 / 3882\n",
            "1603 / 3882\n",
            "1604 / 3882\n",
            "1605 / 3882\n",
            "1606 / 3882\n",
            "1607 / 3882\n",
            "1608 / 3882\n",
            "1609 / 3882\n",
            "1610 / 3882\n",
            "1611 / 3882\n",
            "1612 / 3882\n",
            "1613 / 3882\n",
            "1614 / 3882\n",
            "1615 / 3882\n",
            "1616 / 3882\n",
            "1617 / 3882\n",
            "1618 / 3882\n",
            "1619 / 3882\n",
            "1620 / 3882\n",
            "1621 / 3882\n",
            "1622 / 3882\n",
            "1623 / 3882\n",
            "1624 / 3882\n",
            "1625 / 3882\n",
            "1626 / 3882\n",
            "1627 / 3882\n",
            "1628 / 3882\n",
            "1629 / 3882\n",
            "1630 / 3882\n",
            "1631 / 3882\n",
            "1632 / 3882\n",
            "1633 / 3882\n",
            "1634 / 3882\n",
            "1635 / 3882\n",
            "1636 / 3882\n",
            "1637 / 3882\n",
            "1638 / 3882\n",
            "1639 / 3882\n",
            "1640 / 3882\n",
            "1641 / 3882\n",
            "1642 / 3882\n",
            "1643 / 3882\n",
            "1644 / 3882\n",
            "1645 / 3882\n",
            "1646 / 3882\n"
          ]
        },
        {
          "metadata": {
            "tags": null
          },
          "name": "stderr",
          "output_type": "stream",
          "text": [
            "<ipython-input-26-18a742631681>:72: RuntimeWarning: divide by zero encountered in log10\n",
            "  audio_log = 10.0 * np.log10(audio_filtered)\n"
          ]
        },
        {
          "metadata": {
            "tags": null
          },
          "name": "stdout",
          "output_type": "stream",
          "text": [
            "1647 / 3882\n",
            "1648 / 3882\n",
            "1649 / 3882\n",
            "1650 / 3882\n",
            "1651 / 3882\n",
            "1652 / 3882\n",
            "1653 / 3882\n",
            "1654 / 3882\n",
            "1655 / 3882\n",
            "1656 / 3882\n",
            "1657 / 3882\n",
            "1658 / 3882\n",
            "1659 / 3882\n",
            "not mono 2\n",
            "1660 / 3882\n",
            "1661 / 3882\n",
            "not mono 2\n",
            "1662 / 3882\n"
          ]
        },
        {
          "metadata": {
            "tags": null
          },
          "name": "stderr",
          "output_type": "stream",
          "text": [
            "<ipython-input-26-18a742631681>:72: RuntimeWarning: divide by zero encountered in log10\n",
            "  audio_log = 10.0 * np.log10(audio_filtered)\n"
          ]
        },
        {
          "metadata": {
            "tags": null
          },
          "name": "stdout",
          "output_type": "stream",
          "text": [
            "not mono 2\n",
            "1663 / 3882\n"
          ]
        },
        {
          "metadata": {
            "tags": null
          },
          "name": "stderr",
          "output_type": "stream",
          "text": [
            "<ipython-input-26-18a742631681>:72: RuntimeWarning: divide by zero encountered in log10\n",
            "  audio_log = 10.0 * np.log10(audio_filtered)\n"
          ]
        },
        {
          "metadata": {
            "tags": null
          },
          "name": "stdout",
          "output_type": "stream",
          "text": [
            "not mono 2\n",
            "1664 / 3882\n"
          ]
        },
        {
          "metadata": {
            "tags": null
          },
          "name": "stderr",
          "output_type": "stream",
          "text": [
            "<ipython-input-26-18a742631681>:72: RuntimeWarning: divide by zero encountered in log10\n",
            "  audio_log = 10.0 * np.log10(audio_filtered)\n",
            "<ipython-input-26-18a742631681>:72: RuntimeWarning: divide by zero encountered in log10\n",
            "  audio_log = 10.0 * np.log10(audio_filtered)\n"
          ]
        },
        {
          "metadata": {
            "tags": null
          },
          "name": "stdout",
          "output_type": "stream",
          "text": [
            "1665 / 3882\n"
          ]
        },
        {
          "metadata": {
            "tags": null
          },
          "name": "stderr",
          "output_type": "stream",
          "text": [
            "<ipython-input-26-18a742631681>:72: RuntimeWarning: divide by zero encountered in log10\n",
            "  audio_log = 10.0 * np.log10(audio_filtered)\n"
          ]
        },
        {
          "metadata": {
            "tags": null
          },
          "name": "stdout",
          "output_type": "stream",
          "text": [
            "1666 / 3882\n"
          ]
        },
        {
          "metadata": {
            "tags": null
          },
          "name": "stderr",
          "output_type": "stream",
          "text": [
            "<ipython-input-26-18a742631681>:72: RuntimeWarning: divide by zero encountered in log10\n",
            "  audio_log = 10.0 * np.log10(audio_filtered)\n"
          ]
        },
        {
          "metadata": {
            "tags": null
          },
          "name": "stdout",
          "output_type": "stream",
          "text": [
            "1667 / 3882\n"
          ]
        },
        {
          "metadata": {
            "tags": null
          },
          "name": "stderr",
          "output_type": "stream",
          "text": [
            "<ipython-input-26-18a742631681>:72: RuntimeWarning: divide by zero encountered in log10\n",
            "  audio_log = 10.0 * np.log10(audio_filtered)\n"
          ]
        },
        {
          "metadata": {
            "tags": null
          },
          "name": "stdout",
          "output_type": "stream",
          "text": [
            "1668 / 3882\n",
            "not mono 2\n",
            "1669 / 3882\n"
          ]
        },
        {
          "metadata": {
            "tags": null
          },
          "name": "stderr",
          "output_type": "stream",
          "text": [
            "<ipython-input-26-18a742631681>:72: RuntimeWarning: divide by zero encountered in log10\n",
            "  audio_log = 10.0 * np.log10(audio_filtered)\n"
          ]
        },
        {
          "metadata": {
            "tags": null
          },
          "name": "stdout",
          "output_type": "stream",
          "text": [
            "not mono 2\n",
            "1670 / 3882\n"
          ]
        },
        {
          "metadata": {
            "tags": null
          },
          "name": "stderr",
          "output_type": "stream",
          "text": [
            "<ipython-input-26-18a742631681>:72: RuntimeWarning: divide by zero encountered in log10\n",
            "  audio_log = 10.0 * np.log10(audio_filtered)\n"
          ]
        },
        {
          "metadata": {
            "tags": null
          },
          "name": "stdout",
          "output_type": "stream",
          "text": [
            "1671 / 3882\n",
            "1672 / 3882\n",
            "1673 / 3882\n",
            "1674 / 3882\n",
            "not mono 2\n",
            "1675 / 3882\n"
          ]
        },
        {
          "metadata": {
            "tags": null
          },
          "name": "stderr",
          "output_type": "stream",
          "text": [
            "<ipython-input-26-18a742631681>:72: RuntimeWarning: divide by zero encountered in log10\n",
            "  audio_log = 10.0 * np.log10(audio_filtered)\n"
          ]
        },
        {
          "metadata": {
            "tags": null
          },
          "name": "stdout",
          "output_type": "stream",
          "text": [
            "1676 / 3882\n",
            "1677 / 3882\n",
            "1678 / 3882\n",
            "1679 / 3882\n",
            "1680 / 3882\n",
            "1681 / 3882\n",
            "1682 / 3882\n",
            "1683 / 3882\n",
            "1684 / 3882\n",
            "1685 / 3882\n",
            "1686 / 3882\n",
            "1687 / 3882\n",
            "1688 / 3882\n",
            "1689 / 3882\n",
            "1690 / 3882\n",
            "1691 / 3882\n",
            "1692 / 3882\n",
            "1693 / 3882\n",
            "1694 / 3882\n",
            "1695 / 3882\n",
            "1696 / 3882\n",
            "1697 / 3882\n",
            "1698 / 3882\n",
            "1699 / 3882\n",
            "1700 / 3882\n",
            "1701 / 3882\n",
            "1702 / 3882\n",
            "1703 / 3882\n",
            "1704 / 3882\n",
            "1705 / 3882\n",
            "1706 / 3882\n",
            "1707 / 3882\n",
            "1708 / 3882\n",
            "1709 / 3882\n",
            "1710 / 3882\n",
            "1711 / 3882\n",
            "1712 / 3882\n",
            "1713 / 3882\n",
            "1714 / 3882\n",
            "1715 / 3882\n",
            "1716 / 3882\n",
            "1717 / 3882\n",
            "1718 / 3882\n",
            "1719 / 3882\n",
            "1720 / 3882\n",
            "1721 / 3882\n",
            "1722 / 3882\n",
            "1723 / 3882\n",
            "1724 / 3882\n",
            "1725 / 3882\n",
            "1726 / 3882\n",
            "1727 / 3882\n",
            "1728 / 3882\n",
            "1729 / 3882\n",
            "1730 / 3882\n",
            "1731 / 3882\n",
            "1732 / 3882\n",
            "1733 / 3882\n",
            "1734 / 3882\n",
            "1735 / 3882\n",
            "1736 / 3882\n",
            "1737 / 3882\n",
            "not mono 2\n",
            "1738 / 3882\n",
            "1739 / 3882\n",
            "not mono 2\n",
            "1740 / 3882\n",
            "not mono 2\n",
            "1741 / 3882\n",
            "not mono 2\n",
            "1742 / 3882\n",
            "not mono 2\n",
            "1743 / 3882\n",
            "not mono 2\n",
            "1744 / 3882\n",
            "not mono 2\n",
            "1745 / 3882\n",
            "not mono 2\n",
            "1746 / 3882\n",
            "not mono 2\n",
            "1747 / 3882\n",
            "not mono 2\n",
            "1748 / 3882\n",
            "not mono 2\n",
            "1749 / 3882\n",
            "not mono 2\n",
            "1750 / 3882\n",
            "not mono 2\n",
            "1751 / 3882\n",
            "not mono 2\n",
            "1752 / 3882\n",
            "not mono 2\n",
            "1753 / 3882\n",
            "not mono 2\n",
            "1754 / 3882\n",
            "not mono 2\n",
            "1755 / 3882\n",
            "not mono 2\n",
            "1756 / 3882\n",
            "not mono 2\n",
            "1757 / 3882\n",
            "1758 / 3882\n",
            "1759 / 3882\n",
            "1760 / 3882\n",
            "1761 / 3882\n",
            "1762 / 3882\n",
            "1763 / 3882\n",
            "1764 / 3882\n",
            "1765 / 3882\n",
            "1766 / 3882\n",
            "1767 / 3882\n",
            "1768 / 3882\n",
            "1769 / 3882\n",
            "1770 / 3882\n",
            "1771 / 3882\n",
            "1772 / 3882\n",
            "1773 / 3882\n",
            "1774 / 3882\n",
            "1775 / 3882\n",
            "1776 / 3882\n",
            "1777 / 3882\n",
            "1778 / 3882\n",
            "1779 / 3882\n",
            "1780 / 3882\n",
            "1781 / 3882\n",
            "1782 / 3882\n",
            "1783 / 3882\n",
            "1784 / 3882\n",
            "1785 / 3882\n",
            "1786 / 3882\n",
            "1787 / 3882\n",
            "1788 / 3882\n",
            "1789 / 3882\n",
            "1790 / 3882\n",
            "1791 / 3882\n",
            "1792 / 3882\n",
            "1793 / 3882\n",
            "1794 / 3882\n",
            "1795 / 3882\n",
            "1796 / 3882\n",
            "1797 / 3882\n",
            "1798 / 3882\n",
            "1799 / 3882\n",
            "1800 / 3882\n",
            "1801 / 3882\n",
            "not mono 2\n",
            "1802 / 3882\n",
            "not mono 2\n",
            "1803 / 3882\n",
            "not mono 2\n",
            "1804 / 3882\n",
            "not mono 2\n",
            "1805 / 3882\n",
            "not mono 2\n",
            "1806 / 3882\n",
            "not mono 2\n",
            "1807 / 3882\n",
            "not mono 2\n",
            "1808 / 3882\n",
            "not mono 2\n",
            "1809 / 3882\n",
            "not mono 2\n",
            "1810 / 3882\n",
            "1811 / 3882\n",
            "1812 / 3882\n",
            "1813 / 3882\n",
            "1814 / 3882\n",
            "1815 / 3882\n",
            "1816 / 3882\n",
            "1817 / 3882\n",
            "1818 / 3882\n"
          ]
        },
        {
          "metadata": {
            "tags": null
          },
          "name": "stderr",
          "output_type": "stream",
          "text": [
            "<ipython-input-26-18a742631681>:72: RuntimeWarning: divide by zero encountered in log10\n",
            "  audio_log = 10.0 * np.log10(audio_filtered)\n"
          ]
        },
        {
          "metadata": {
            "tags": null
          },
          "name": "stdout",
          "output_type": "stream",
          "text": [
            "1819 / 3882\n",
            "1820 / 3882\n",
            "not mono 2\n",
            "1821 / 3882\n"
          ]
        },
        {
          "metadata": {
            "tags": null
          },
          "name": "stderr",
          "output_type": "stream",
          "text": [
            "<ipython-input-26-18a742631681>:72: RuntimeWarning: divide by zero encountered in log10\n",
            "  audio_log = 10.0 * np.log10(audio_filtered)\n"
          ]
        },
        {
          "metadata": {
            "tags": null
          },
          "name": "stdout",
          "output_type": "stream",
          "text": [
            "1822 / 3882\n",
            "1823 / 3882\n",
            "1824 / 3882\n",
            "not mono 2\n",
            "1825 / 3882\n",
            "not mono 2\n",
            "1826 / 3882\n",
            "not mono 2\n",
            "1827 / 3882\n"
          ]
        },
        {
          "metadata": {
            "tags": null
          },
          "name": "stderr",
          "output_type": "stream",
          "text": [
            "<ipython-input-26-18a742631681>:72: RuntimeWarning: divide by zero encountered in log10\n",
            "  audio_log = 10.0 * np.log10(audio_filtered)\n"
          ]
        },
        {
          "metadata": {
            "tags": null
          },
          "name": "stdout",
          "output_type": "stream",
          "text": [
            "not mono 2\n",
            "1828 / 3882\n",
            "not mono 2\n",
            "1829 / 3882\n",
            "not mono 2\n",
            "1830 / 3882\n"
          ]
        },
        {
          "metadata": {
            "tags": null
          },
          "name": "stderr",
          "output_type": "stream",
          "text": [
            "<ipython-input-26-18a742631681>:72: RuntimeWarning: divide by zero encountered in log10\n",
            "  audio_log = 10.0 * np.log10(audio_filtered)\n"
          ]
        },
        {
          "metadata": {
            "tags": null
          },
          "name": "stdout",
          "output_type": "stream",
          "text": [
            "not mono 2\n",
            "1831 / 3882\n",
            "not mono 2\n",
            "1832 / 3882\n",
            "not mono 2\n",
            "1833 / 3882\n",
            "not mono 2\n",
            "1834 / 3882\n",
            "not mono 2\n",
            "1835 / 3882\n",
            "not mono 2\n",
            "1836 / 3882\n"
          ]
        },
        {
          "metadata": {
            "tags": null
          },
          "name": "stderr",
          "output_type": "stream",
          "text": [
            "<ipython-input-26-18a742631681>:72: RuntimeWarning: divide by zero encountered in log10\n",
            "  audio_log = 10.0 * np.log10(audio_filtered)\n"
          ]
        },
        {
          "metadata": {
            "tags": null
          },
          "name": "stdout",
          "output_type": "stream",
          "text": [
            "not mono 2\n",
            "1837 / 3882\n"
          ]
        },
        {
          "metadata": {
            "tags": null
          },
          "name": "stderr",
          "output_type": "stream",
          "text": [
            "<ipython-input-26-18a742631681>:72: RuntimeWarning: divide by zero encountered in log10\n",
            "  audio_log = 10.0 * np.log10(audio_filtered)\n"
          ]
        },
        {
          "metadata": {
            "tags": null
          },
          "name": "stdout",
          "output_type": "stream",
          "text": [
            "not mono 2\n",
            "1838 / 3882\n"
          ]
        },
        {
          "metadata": {
            "tags": null
          },
          "name": "stderr",
          "output_type": "stream",
          "text": [
            "<ipython-input-26-18a742631681>:72: RuntimeWarning: divide by zero encountered in log10\n",
            "  audio_log = 10.0 * np.log10(audio_filtered)\n"
          ]
        },
        {
          "metadata": {
            "tags": null
          },
          "name": "stdout",
          "output_type": "stream",
          "text": [
            "not mono 2\n",
            "1839 / 3882\n"
          ]
        },
        {
          "metadata": {
            "tags": null
          },
          "name": "stderr",
          "output_type": "stream",
          "text": [
            "<ipython-input-26-18a742631681>:72: RuntimeWarning: divide by zero encountered in log10\n",
            "  audio_log = 10.0 * np.log10(audio_filtered)\n"
          ]
        },
        {
          "metadata": {
            "tags": null
          },
          "name": "stdout",
          "output_type": "stream",
          "text": [
            "1840 / 3882\n",
            "not mono 2\n",
            "1841 / 3882\n",
            "not mono 2\n",
            "1842 / 3882\n",
            "not mono 2\n",
            "1843 / 3882\n",
            "not mono 2\n",
            "1844 / 3882\n",
            "not mono 2\n",
            "1845 / 3882\n",
            "not mono 2\n",
            "1846 / 3882\n",
            "not mono 2\n",
            "1847 / 3882\n",
            "not mono 2\n",
            "1848 / 3882\n",
            "not mono 2\n",
            "1849 / 3882\n",
            "not mono 2\n",
            "1850 / 3882\n",
            "not mono 2\n",
            "1851 / 3882\n",
            "not mono 2\n",
            "1852 / 3882\n",
            "not mono 2\n",
            "1853 / 3882\n",
            "not mono 2\n",
            "1854 / 3882\n",
            "not mono 2\n",
            "1855 / 3882\n",
            "not mono 2\n",
            "1856 / 3882\n",
            "not mono 2\n",
            "1857 / 3882\n",
            "1858 / 3882\n",
            "1859 / 3882\n",
            "not mono 2\n",
            "1860 / 3882\n",
            "not mono 2\n",
            "1861 / 3882\n",
            "not mono 2\n",
            "1862 / 3882\n",
            "1863 / 3882\n",
            "1864 / 3882\n",
            "not mono 2\n",
            "1865 / 3882\n",
            "not mono 2\n",
            "1866 / 3882\n",
            "not mono 2\n",
            "1867 / 3882\n",
            "1868 / 3882\n",
            "1869 / 3882\n",
            "1870 / 3882\n",
            "1871 / 3882\n",
            "1872 / 3882\n",
            "1873 / 3882\n",
            "1874 / 3882\n",
            "1875 / 3882\n",
            "1876 / 3882\n",
            "1877 / 3882\n",
            "1878 / 3882\n",
            "not mono 2\n",
            "1879 / 3882\n"
          ]
        },
        {
          "metadata": {
            "tags": null
          },
          "name": "stderr",
          "output_type": "stream",
          "text": [
            "<ipython-input-26-18a742631681>:72: RuntimeWarning: divide by zero encountered in log10\n",
            "  audio_log = 10.0 * np.log10(audio_filtered)\n"
          ]
        },
        {
          "metadata": {
            "tags": null
          },
          "name": "stdout",
          "output_type": "stream",
          "text": [
            "1880 / 3882\n",
            "1881 / 3882\n",
            "1882 / 3882\n",
            "1883 / 3882\n",
            "1884 / 3882\n",
            "1885 / 3882\n",
            "1886 / 3882\n",
            "1887 / 3882\n",
            "1888 / 3882\n",
            "1889 / 3882\n",
            "1890 / 3882\n",
            "1891 / 3882\n",
            "1892 / 3882\n",
            "1893 / 3882\n",
            "1894 / 3882\n",
            "1895 / 3882\n",
            "1896 / 3882\n",
            "1897 / 3882\n",
            "1898 / 3882\n",
            "1899 / 3882\n",
            "1900 / 3882\n",
            "1901 / 3882\n",
            "1902 / 3882\n",
            "1903 / 3882\n",
            "1904 / 3882\n",
            "1905 / 3882\n",
            "1906 / 3882\n",
            "1907 / 3882\n",
            "1908 / 3882\n",
            "not mono 2\n",
            "1909 / 3882\n",
            "1910 / 3882\n",
            "1911 / 3882\n",
            "1912 / 3882\n",
            "1913 / 3882\n",
            "1914 / 3882\n",
            "1915 / 3882\n",
            "1916 / 3882\n",
            "1917 / 3882\n",
            "1918 / 3882\n",
            "1919 / 3882\n",
            "1920 / 3882\n",
            "not mono 2\n",
            "1921 / 3882\n",
            "not mono 2\n",
            "1922 / 3882\n",
            "not mono 2\n",
            "1923 / 3882\n",
            "not mono 2\n",
            "1924 / 3882\n",
            "not mono 2\n",
            "1925 / 3882\n",
            "not mono 2\n",
            "1926 / 3882\n",
            "not mono 2\n",
            "1927 / 3882\n",
            "not mono 2\n",
            "1928 / 3882\n",
            "not mono 2\n",
            "1929 / 3882\n",
            "not mono 2\n",
            "1930 / 3882\n",
            "not mono 2\n",
            "1931 / 3882\n",
            "not mono 2\n",
            "1932 / 3882\n"
          ]
        },
        {
          "metadata": {
            "tags": null
          },
          "name": "stderr",
          "output_type": "stream",
          "text": [
            "<ipython-input-26-18a742631681>:72: RuntimeWarning: divide by zero encountered in log10\n",
            "  audio_log = 10.0 * np.log10(audio_filtered)\n"
          ]
        },
        {
          "metadata": {
            "tags": null
          },
          "name": "stdout",
          "output_type": "stream",
          "text": [
            "not mono 2\n",
            "1933 / 3882\n",
            "not mono 2\n",
            "1934 / 3882\n",
            "not mono 2\n",
            "1935 / 3882\n",
            "not mono 2\n",
            "1936 / 3882\n",
            "not mono 2\n",
            "1937 / 3882\n",
            "not mono 2\n",
            "1938 / 3882\n",
            "not mono 2\n",
            "1939 / 3882\n",
            "not mono 2\n",
            "1940 / 3882\n",
            "not mono 2\n",
            "1941 / 3882\n",
            "not mono 2\n",
            "1942 / 3882\n",
            "not mono 2\n",
            "1943 / 3882\n",
            "not mono 2\n",
            "1944 / 3882\n",
            "not mono 2\n",
            "1945 / 3882\n",
            "not mono 2\n",
            "1946 / 3882\n",
            "not mono 2\n",
            "1947 / 3882\n",
            "not mono 2\n",
            "1948 / 3882\n",
            "not mono 2\n",
            "1949 / 3882\n",
            "not mono 2\n",
            "1950 / 3882\n",
            "not mono 2\n",
            "1951 / 3882\n",
            "not mono 2\n",
            "1952 / 3882\n",
            "not mono 2\n",
            "1953 / 3882\n",
            "not mono 2\n",
            "1954 / 3882\n",
            "not mono 2\n",
            "1955 / 3882\n",
            "not mono 2\n",
            "1956 / 3882\n",
            "not mono 2\n",
            "1957 / 3882\n",
            "not mono 2\n",
            "1958 / 3882\n",
            "not mono 2\n",
            "1959 / 3882\n",
            "not mono 2\n",
            "1960 / 3882\n",
            "not mono 2\n",
            "1961 / 3882\n",
            "not mono 2\n",
            "1962 / 3882\n",
            "not mono 2\n",
            "1963 / 3882\n",
            "not mono 2\n",
            "1964 / 3882\n",
            "not mono 2\n",
            "1965 / 3882\n",
            "not mono 2\n",
            "1966 / 3882\n",
            "not mono 2\n",
            "1967 / 3882\n",
            "not mono 2\n",
            "1968 / 3882\n",
            "not mono 2\n",
            "1969 / 3882\n",
            "not mono 2\n",
            "1970 / 3882\n",
            "not mono 2\n",
            "1971 / 3882\n",
            "not mono 2\n",
            "1972 / 3882\n",
            "not mono 2\n",
            "1973 / 3882\n",
            "not mono 2\n",
            "1974 / 3882\n",
            "not mono 2\n",
            "1975 / 3882\n",
            "not mono 2\n",
            "1976 / 3882\n",
            "not mono 2\n",
            "1977 / 3882\n",
            "not mono 2\n",
            "1978 / 3882\n",
            "not mono 2\n",
            "1979 / 3882\n",
            "not mono 2\n",
            "1980 / 3882\n",
            "not mono 2\n",
            "1981 / 3882\n",
            "not mono 2\n",
            "1982 / 3882\n",
            "not mono 2\n",
            "1983 / 3882\n",
            "not mono 2\n",
            "1984 / 3882\n",
            "not mono 2\n",
            "1985 / 3882\n",
            "not mono 2\n",
            "1986 / 3882\n",
            "not mono 2\n",
            "1987 / 3882\n",
            "not mono 2\n",
            "1988 / 3882\n",
            "not mono 2\n",
            "1989 / 3882\n",
            "not mono 2\n",
            "1990 / 3882\n",
            "not mono 2\n",
            "1991 / 3882\n",
            "not mono 2\n",
            "1992 / 3882\n",
            "not mono 2\n",
            "1993 / 3882\n",
            "not mono 2\n",
            "1994 / 3882\n",
            "not mono 2\n",
            "1995 / 3882\n",
            "not mono 2\n",
            "1996 / 3882\n",
            "not mono 2\n",
            "1997 / 3882\n",
            "not mono 2\n",
            "1998 / 3882\n",
            "not mono 2\n",
            "1999 / 3882\n",
            "not mono 2\n",
            "2000 / 3882\n",
            "not mono 2\n",
            "2001 / 3882\n",
            "not mono 2\n",
            "2002 / 3882\n",
            "not mono 2\n",
            "2003 / 3882\n",
            "not mono 2\n",
            "2004 / 3882\n",
            "not mono 2\n",
            "2005 / 3882\n",
            "not mono 2\n",
            "2006 / 3882\n",
            "not mono 2\n",
            "2007 / 3882\n",
            "not mono 2\n",
            "2008 / 3882\n",
            "not mono 2\n",
            "2009 / 3882\n",
            "not mono 2\n",
            "2010 / 3882\n",
            "not mono 2\n",
            "2011 / 3882\n",
            "not mono 2\n",
            "2012 / 3882\n",
            "not mono 2\n",
            "2013 / 3882\n",
            "not mono 2\n",
            "2014 / 3882\n",
            "not mono 2\n",
            "2015 / 3882\n",
            "not mono 2\n",
            "2016 / 3882\n",
            "not mono 2\n",
            "2017 / 3882\n",
            "not mono 2\n",
            "2018 / 3882\n",
            "not mono 2\n",
            "2019 / 3882\n",
            "not mono 2\n",
            "2020 / 3882\n",
            "not mono 2\n",
            "2021 / 3882\n",
            "not mono 2\n",
            "2022 / 3882\n",
            "not mono 2\n",
            "2023 / 3882\n",
            "not mono 2\n",
            "2024 / 3882\n",
            "not mono 2\n",
            "2025 / 3882\n",
            "not mono 2\n",
            "2026 / 3882\n",
            "not mono 2\n",
            "2027 / 3882\n",
            "not mono 2\n",
            "2028 / 3882\n",
            "not mono 2\n",
            "2029 / 3882\n",
            "not mono 2\n",
            "2030 / 3882\n",
            "not mono 2\n",
            "2031 / 3882\n",
            "not mono 2\n",
            "2032 / 3882\n",
            "not mono 2\n",
            "2033 / 3882\n",
            "not mono 2\n",
            "2034 / 3882\n",
            "not mono 2\n",
            "2035 / 3882\n",
            "not mono 2\n",
            "2036 / 3882\n",
            "not mono 2\n",
            "2037 / 3882\n",
            "not mono 2\n",
            "2038 / 3882\n",
            "not mono 2\n",
            "2039 / 3882\n",
            "not mono 2\n",
            "2040 / 3882\n"
          ]
        },
        {
          "metadata": {
            "tags": null
          },
          "name": "stderr",
          "output_type": "stream",
          "text": [
            "<ipython-input-26-18a742631681>:72: RuntimeWarning: divide by zero encountered in log10\n",
            "  audio_log = 10.0 * np.log10(audio_filtered)\n"
          ]
        },
        {
          "metadata": {
            "tags": null
          },
          "name": "stdout",
          "output_type": "stream",
          "text": [
            "not mono 2\n",
            "2041 / 3882\n",
            "not mono 2\n",
            "2042 / 3882\n",
            "not mono 2\n",
            "2043 / 3882\n",
            "not mono 2\n",
            "2044 / 3882\n",
            "not mono 2\n",
            "2045 / 3882\n",
            "not mono 2\n",
            "2046 / 3882\n"
          ]
        },
        {
          "metadata": {
            "tags": null
          },
          "name": "stderr",
          "output_type": "stream",
          "text": [
            "<ipython-input-26-18a742631681>:72: RuntimeWarning: divide by zero encountered in log10\n",
            "  audio_log = 10.0 * np.log10(audio_filtered)\n"
          ]
        },
        {
          "metadata": {
            "tags": null
          },
          "name": "stdout",
          "output_type": "stream",
          "text": [
            "not mono 2\n",
            "2047 / 3882\n",
            "not mono 2\n",
            "2048 / 3882\n",
            "not mono 2\n",
            "2049 / 3882\n",
            "not mono 2\n",
            "2050 / 3882\n",
            "not mono 2\n",
            "2051 / 3882\n",
            "not mono 2\n",
            "2052 / 3882\n",
            "not mono 2\n",
            "2053 / 3882\n",
            "not mono 2\n",
            "2054 / 3882\n",
            "2055 / 3882\n",
            "2056 / 3882\n",
            "2057 / 3882\n",
            "2058 / 3882\n",
            "2059 / 3882\n",
            "2060 / 3882\n",
            "2061 / 3882\n",
            "2062 / 3882\n",
            "2063 / 3882\n",
            "2064 / 3882\n",
            "2065 / 3882\n"
          ]
        },
        {
          "metadata": {
            "tags": null
          },
          "name": "stderr",
          "output_type": "stream",
          "text": [
            "<ipython-input-26-18a742631681>:72: RuntimeWarning: divide by zero encountered in log10\n",
            "  audio_log = 10.0 * np.log10(audio_filtered)\n"
          ]
        },
        {
          "metadata": {
            "tags": null
          },
          "name": "stdout",
          "output_type": "stream",
          "text": [
            "2066 / 3882\n"
          ]
        },
        {
          "metadata": {
            "tags": null
          },
          "name": "stderr",
          "output_type": "stream",
          "text": [
            "<ipython-input-26-18a742631681>:72: RuntimeWarning: divide by zero encountered in log10\n",
            "  audio_log = 10.0 * np.log10(audio_filtered)\n"
          ]
        },
        {
          "metadata": {
            "tags": null
          },
          "name": "stdout",
          "output_type": "stream",
          "text": [
            "2067 / 3882\n",
            "2068 / 3882\n",
            "not mono 2\n",
            "2069 / 3882\n",
            "2070 / 3882\n",
            "2071 / 3882\n",
            "2072 / 3882\n",
            "2073 / 3882\n",
            "2074 / 3882\n",
            "2075 / 3882\n",
            "2076 / 3882\n",
            "2077 / 3882\n",
            "2078 / 3882\n",
            "2079 / 3882\n",
            "2080 / 3882\n",
            "2081 / 3882\n",
            "2082 / 3882\n",
            "2083 / 3882\n",
            "2084 / 3882\n",
            "2085 / 3882\n",
            "2086 / 3882\n",
            "2087 / 3882\n",
            "2088 / 3882\n",
            "2089 / 3882\n",
            "2090 / 3882\n",
            "2091 / 3882\n",
            "2092 / 3882\n",
            "2093 / 3882\n",
            "2094 / 3882\n",
            "2095 / 3882\n",
            "2096 / 3882\n",
            "2097 / 3882\n",
            "2098 / 3882\n",
            "2099 / 3882\n",
            "2100 / 3882\n",
            "2101 / 3882\n",
            "2102 / 3882\n",
            "2103 / 3882\n",
            "2104 / 3882\n",
            "2105 / 3882\n",
            "2106 / 3882\n",
            "2107 / 3882\n",
            "2108 / 3882\n",
            "not mono 2\n",
            "2109 / 3882\n",
            "2110 / 3882\n"
          ]
        },
        {
          "metadata": {
            "tags": null
          },
          "name": "stderr",
          "output_type": "stream",
          "text": [
            "<ipython-input-26-18a742631681>:72: RuntimeWarning: divide by zero encountered in log10\n",
            "  audio_log = 10.0 * np.log10(audio_filtered)\n"
          ]
        },
        {
          "metadata": {
            "tags": null
          },
          "name": "stdout",
          "output_type": "stream",
          "text": [
            "2111 / 3882\n",
            "not mono 2\n",
            "2112 / 3882\n"
          ]
        },
        {
          "metadata": {
            "tags": null
          },
          "name": "stderr",
          "output_type": "stream",
          "text": [
            "<ipython-input-26-18a742631681>:72: RuntimeWarning: divide by zero encountered in log10\n",
            "  audio_log = 10.0 * np.log10(audio_filtered)\n"
          ]
        },
        {
          "metadata": {
            "tags": null
          },
          "name": "stdout",
          "output_type": "stream",
          "text": [
            "not mono 2\n",
            "2113 / 3882\n",
            "not mono 2\n",
            "2114 / 3882\n",
            "not mono 2\n",
            "2115 / 3882\n",
            "not mono 2\n",
            "2116 / 3882\n",
            "not mono 2\n",
            "2117 / 3882\n",
            "not mono 2\n",
            "2118 / 3882\n",
            "not mono 2\n",
            "2119 / 3882\n",
            "not mono 2\n",
            "2120 / 3882\n",
            "not mono 2\n",
            "2121 / 3882\n",
            "not mono 2\n",
            "2122 / 3882\n",
            "not mono 2\n",
            "2123 / 3882\n",
            "not mono 2\n",
            "2124 / 3882\n",
            "2125 / 3882\n",
            "2126 / 3882\n",
            "2127 / 3882\n",
            "2128 / 3882\n",
            "2129 / 3882\n",
            "2130 / 3882\n",
            "2131 / 3882\n",
            "2132 / 3882\n",
            "2133 / 3882\n",
            "2134 / 3882\n",
            "2135 / 3882\n",
            "2136 / 3882\n",
            "2137 / 3882\n",
            "2138 / 3882\n",
            "2139 / 3882\n",
            "2140 / 3882\n",
            "2141 / 3882\n",
            "not mono 2\n",
            "2142 / 3882\n",
            "not mono 2\n",
            "2143 / 3882\n",
            "not mono 2\n",
            "2144 / 3882\n",
            "not mono 2\n",
            "2145 / 3882\n",
            "not mono 2\n",
            "2146 / 3882\n"
          ]
        },
        {
          "metadata": {
            "tags": null
          },
          "name": "stderr",
          "output_type": "stream",
          "text": [
            "<ipython-input-26-18a742631681>:72: RuntimeWarning: divide by zero encountered in log10\n",
            "  audio_log = 10.0 * np.log10(audio_filtered)\n"
          ]
        },
        {
          "metadata": {
            "tags": null
          },
          "name": "stdout",
          "output_type": "stream",
          "text": [
            "2147 / 3882\n",
            "not mono 2\n",
            "2148 / 3882\n",
            "not mono 2\n",
            "2149 / 3882\n",
            "2150 / 3882\n"
          ]
        },
        {
          "metadata": {
            "tags": null
          },
          "name": "stderr",
          "output_type": "stream",
          "text": [
            "<ipython-input-26-18a742631681>:72: RuntimeWarning: divide by zero encountered in log10\n",
            "  audio_log = 10.0 * np.log10(audio_filtered)\n"
          ]
        },
        {
          "metadata": {
            "tags": null
          },
          "name": "stdout",
          "output_type": "stream",
          "text": [
            "2151 / 3882\n",
            "2152 / 3882\n"
          ]
        },
        {
          "metadata": {
            "tags": null
          },
          "name": "stderr",
          "output_type": "stream",
          "text": [
            "<ipython-input-26-18a742631681>:72: RuntimeWarning: divide by zero encountered in log10\n",
            "  audio_log = 10.0 * np.log10(audio_filtered)\n"
          ]
        },
        {
          "metadata": {
            "tags": null
          },
          "name": "stdout",
          "output_type": "stream",
          "text": [
            "2153 / 3882\n",
            "2154 / 3882\n",
            "2155 / 3882\n",
            "2156 / 3882\n",
            "2157 / 3882\n",
            "2158 / 3882\n",
            "2159 / 3882\n",
            "2160 / 3882\n",
            "2161 / 3882\n",
            "2162 / 3882\n",
            "2163 / 3882\n"
          ]
        },
        {
          "metadata": {
            "tags": null
          },
          "name": "stderr",
          "output_type": "stream",
          "text": [
            "<ipython-input-26-18a742631681>:72: RuntimeWarning: divide by zero encountered in log10\n",
            "  audio_log = 10.0 * np.log10(audio_filtered)\n"
          ]
        },
        {
          "metadata": {
            "tags": null
          },
          "name": "stdout",
          "output_type": "stream",
          "text": [
            "2164 / 3882\n",
            "2165 / 3882\n",
            "2166 / 3882\n",
            "2167 / 3882\n",
            "2168 / 3882\n",
            "2169 / 3882\n"
          ]
        },
        {
          "metadata": {
            "tags": null
          },
          "name": "stderr",
          "output_type": "stream",
          "text": [
            "<ipython-input-26-18a742631681>:72: RuntimeWarning: divide by zero encountered in log10\n",
            "  audio_log = 10.0 * np.log10(audio_filtered)\n"
          ]
        },
        {
          "metadata": {
            "tags": null
          },
          "name": "stdout",
          "output_type": "stream",
          "text": [
            "2170 / 3882\n",
            "2171 / 3882\n",
            "2172 / 3882\n",
            "2173 / 3882\n",
            "2174 / 3882\n"
          ]
        },
        {
          "metadata": {
            "tags": null
          },
          "name": "stderr",
          "output_type": "stream",
          "text": [
            "<ipython-input-26-18a742631681>:72: RuntimeWarning: divide by zero encountered in log10\n",
            "  audio_log = 10.0 * np.log10(audio_filtered)\n"
          ]
        },
        {
          "metadata": {
            "tags": null
          },
          "name": "stdout",
          "output_type": "stream",
          "text": [
            "2175 / 3882\n",
            "2176 / 3882\n",
            "2177 / 3882\n",
            "2178 / 3882\n",
            "2179 / 3882\n",
            "2180 / 3882\n",
            "2181 / 3882\n",
            "2182 / 3882\n"
          ]
        },
        {
          "metadata": {
            "tags": null
          },
          "name": "stderr",
          "output_type": "stream",
          "text": [
            "<ipython-input-26-18a742631681>:72: RuntimeWarning: divide by zero encountered in log10\n",
            "  audio_log = 10.0 * np.log10(audio_filtered)\n"
          ]
        },
        {
          "metadata": {
            "tags": null
          },
          "name": "stdout",
          "output_type": "stream",
          "text": [
            "2183 / 3882\n",
            "2184 / 3882\n",
            "not mono 2\n",
            "2185 / 3882\n",
            "not mono 2\n",
            "2186 / 3882\n",
            "not mono 2\n",
            "2187 / 3882\n",
            "not mono 2\n",
            "2188 / 3882\n",
            "not mono 2\n",
            "2189 / 3882\n",
            "not mono 2\n",
            "2190 / 3882\n",
            "not mono 2\n",
            "2191 / 3882\n",
            "not mono 2\n",
            "2192 / 3882\n"
          ]
        },
        {
          "metadata": {
            "tags": null
          },
          "name": "stderr",
          "output_type": "stream",
          "text": [
            "<ipython-input-26-18a742631681>:72: RuntimeWarning: divide by zero encountered in log10\n",
            "  audio_log = 10.0 * np.log10(audio_filtered)\n"
          ]
        },
        {
          "metadata": {
            "tags": null
          },
          "name": "stdout",
          "output_type": "stream",
          "text": [
            "2193 / 3882\n",
            "2194 / 3882\n",
            "2195 / 3882\n",
            "2196 / 3882\n",
            "2197 / 3882\n"
          ]
        },
        {
          "metadata": {
            "tags": null
          },
          "name": "stderr",
          "output_type": "stream",
          "text": [
            "<ipython-input-26-18a742631681>:72: RuntimeWarning: divide by zero encountered in log10\n",
            "  audio_log = 10.0 * np.log10(audio_filtered)\n"
          ]
        },
        {
          "metadata": {
            "tags": null
          },
          "name": "stdout",
          "output_type": "stream",
          "text": [
            "2198 / 3882\n",
            "2199 / 3882\n",
            "2200 / 3882\n",
            "not mono 2\n",
            "2201 / 3882\n",
            "not mono 2\n",
            "2202 / 3882\n",
            "not mono 2\n",
            "2203 / 3882\n",
            "not mono 2\n",
            "2204 / 3882\n",
            "not mono 2\n",
            "2205 / 3882\n",
            "not mono 2\n",
            "2206 / 3882\n",
            "2207 / 3882\n",
            "2208 / 3882\n",
            "2209 / 3882\n",
            "2210 / 3882\n",
            "2211 / 3882\n",
            "2212 / 3882\n",
            "2213 / 3882\n"
          ]
        },
        {
          "metadata": {
            "tags": null
          },
          "name": "stderr",
          "output_type": "stream",
          "text": [
            "<ipython-input-26-18a742631681>:72: RuntimeWarning: divide by zero encountered in log10\n",
            "  audio_log = 10.0 * np.log10(audio_filtered)\n"
          ]
        },
        {
          "metadata": {
            "tags": null
          },
          "name": "stdout",
          "output_type": "stream",
          "text": [
            "2214 / 3882\n",
            "2215 / 3882\n",
            "2216 / 3882\n",
            "2217 / 3882\n",
            "not mono 2\n",
            "2218 / 3882\n",
            "2219 / 3882\n",
            "2220 / 3882\n",
            "2221 / 3882\n",
            "2222 / 3882\n",
            "2223 / 3882\n",
            "2224 / 3882\n",
            "2225 / 3882\n",
            "2226 / 3882\n",
            "2227 / 3882\n",
            "2228 / 3882\n",
            "not mono 2\n",
            "2229 / 3882\n",
            "2230 / 3882\n",
            "2231 / 3882\n",
            "2232 / 3882\n",
            "2233 / 3882\n",
            "2234 / 3882\n",
            "2235 / 3882\n",
            "2236 / 3882\n",
            "2237 / 3882\n",
            "2238 / 3882\n",
            "2239 / 3882\n",
            "2240 / 3882\n",
            "2241 / 3882\n",
            "2242 / 3882\n",
            "2243 / 3882\n",
            "2244 / 3882\n",
            "2245 / 3882\n",
            "2246 / 3882\n",
            "2247 / 3882\n",
            "2248 / 3882\n",
            "2249 / 3882\n",
            "2250 / 3882\n",
            "2251 / 3882\n",
            "2252 / 3882\n",
            "2253 / 3882\n",
            "2254 / 3882\n",
            "2255 / 3882\n",
            "2256 / 3882\n",
            "2257 / 3882\n",
            "2258 / 3882\n",
            "2259 / 3882\n",
            "2260 / 3882\n",
            "2261 / 3882\n",
            "not mono 2\n",
            "2262 / 3882\n"
          ]
        },
        {
          "metadata": {
            "tags": null
          },
          "name": "stderr",
          "output_type": "stream",
          "text": [
            "<ipython-input-26-18a742631681>:72: RuntimeWarning: divide by zero encountered in log10\n",
            "  audio_log = 10.0 * np.log10(audio_filtered)\n"
          ]
        },
        {
          "metadata": {
            "tags": null
          },
          "name": "stdout",
          "output_type": "stream",
          "text": [
            "2263 / 3882\n",
            "2264 / 3882\n"
          ]
        },
        {
          "metadata": {
            "tags": null
          },
          "name": "stderr",
          "output_type": "stream",
          "text": [
            "<ipython-input-26-18a742631681>:72: RuntimeWarning: divide by zero encountered in log10\n",
            "  audio_log = 10.0 * np.log10(audio_filtered)\n"
          ]
        },
        {
          "metadata": {
            "tags": null
          },
          "name": "stdout",
          "output_type": "stream",
          "text": [
            "2265 / 3882\n",
            "2266 / 3882\n",
            "2267 / 3882\n",
            "2268 / 3882\n",
            "not mono 2\n",
            "2269 / 3882\n",
            "not mono 2\n",
            "2270 / 3882\n",
            "not mono 2\n",
            "2271 / 3882\n",
            "2272 / 3882\n",
            "2273 / 3882\n",
            "2274 / 3882\n",
            "2275 / 3882\n",
            "2276 / 3882\n",
            "2277 / 3882\n"
          ]
        },
        {
          "metadata": {
            "tags": null
          },
          "name": "stderr",
          "output_type": "stream",
          "text": [
            "<ipython-input-26-18a742631681>:72: RuntimeWarning: divide by zero encountered in log10\n",
            "  audio_log = 10.0 * np.log10(audio_filtered)\n"
          ]
        },
        {
          "metadata": {
            "tags": null
          },
          "name": "stdout",
          "output_type": "stream",
          "text": [
            "2278 / 3882\n",
            "2279 / 3882\n",
            "2280 / 3882\n",
            "2281 / 3882\n",
            "2282 / 3882\n",
            "not mono 2\n",
            "2283 / 3882\n",
            "not mono 2\n",
            "2284 / 3882\n",
            "2285 / 3882\n",
            "2286 / 3882\n",
            "2287 / 3882\n",
            "not mono 2\n",
            "2288 / 3882\n",
            "not mono 2\n",
            "2289 / 3882\n",
            "not mono 2\n",
            "2290 / 3882\n",
            "not mono 2\n",
            "2291 / 3882\n",
            "not mono 2\n",
            "2292 / 3882\n",
            "not mono 2\n",
            "2293 / 3882\n",
            "not mono 2\n",
            "2294 / 3882\n",
            "not mono 2\n",
            "2295 / 3882\n",
            "not mono 2\n",
            "2296 / 3882\n",
            "not mono 2\n",
            "2297 / 3882\n",
            "not mono 2\n",
            "2298 / 3882\n",
            "not mono 2\n",
            "2299 / 3882\n"
          ]
        },
        {
          "metadata": {
            "tags": null
          },
          "name": "stderr",
          "output_type": "stream",
          "text": [
            "<ipython-input-26-18a742631681>:72: RuntimeWarning: divide by zero encountered in log10\n",
            "  audio_log = 10.0 * np.log10(audio_filtered)\n"
          ]
        },
        {
          "metadata": {
            "tags": null
          },
          "name": "stdout",
          "output_type": "stream",
          "text": [
            "2300 / 3882\n"
          ]
        },
        {
          "metadata": {
            "tags": null
          },
          "name": "stderr",
          "output_type": "stream",
          "text": [
            "<ipython-input-26-18a742631681>:72: RuntimeWarning: divide by zero encountered in log10\n",
            "  audio_log = 10.0 * np.log10(audio_filtered)\n"
          ]
        },
        {
          "metadata": {
            "tags": null
          },
          "name": "stdout",
          "output_type": "stream",
          "text": [
            "2301 / 3882\n"
          ]
        },
        {
          "metadata": {
            "tags": null
          },
          "name": "stderr",
          "output_type": "stream",
          "text": [
            "<ipython-input-26-18a742631681>:72: RuntimeWarning: divide by zero encountered in log10\n",
            "  audio_log = 10.0 * np.log10(audio_filtered)\n"
          ]
        },
        {
          "metadata": {
            "tags": null
          },
          "name": "stdout",
          "output_type": "stream",
          "text": [
            "2302 / 3882\n"
          ]
        },
        {
          "metadata": {
            "tags": null
          },
          "name": "stderr",
          "output_type": "stream",
          "text": [
            "<ipython-input-26-18a742631681>:72: RuntimeWarning: divide by zero encountered in log10\n",
            "  audio_log = 10.0 * np.log10(audio_filtered)\n"
          ]
        },
        {
          "metadata": {
            "tags": null
          },
          "name": "stdout",
          "output_type": "stream",
          "text": [
            "2303 / 3882\n"
          ]
        },
        {
          "metadata": {
            "tags": null
          },
          "name": "stderr",
          "output_type": "stream",
          "text": [
            "<ipython-input-26-18a742631681>:72: RuntimeWarning: divide by zero encountered in log10\n",
            "  audio_log = 10.0 * np.log10(audio_filtered)\n"
          ]
        },
        {
          "metadata": {
            "tags": null
          },
          "name": "stdout",
          "output_type": "stream",
          "text": [
            "2304 / 3882\n"
          ]
        },
        {
          "metadata": {
            "tags": null
          },
          "name": "stderr",
          "output_type": "stream",
          "text": [
            "<ipython-input-26-18a742631681>:72: RuntimeWarning: divide by zero encountered in log10\n",
            "  audio_log = 10.0 * np.log10(audio_filtered)\n"
          ]
        },
        {
          "metadata": {
            "tags": null
          },
          "name": "stdout",
          "output_type": "stream",
          "text": [
            "2305 / 3882\n"
          ]
        },
        {
          "metadata": {
            "tags": null
          },
          "name": "stderr",
          "output_type": "stream",
          "text": [
            "<ipython-input-26-18a742631681>:72: RuntimeWarning: divide by zero encountered in log10\n",
            "  audio_log = 10.0 * np.log10(audio_filtered)\n"
          ]
        },
        {
          "metadata": {
            "tags": null
          },
          "name": "stdout",
          "output_type": "stream",
          "text": [
            "2306 / 3882\n"
          ]
        },
        {
          "metadata": {
            "tags": null
          },
          "name": "stderr",
          "output_type": "stream",
          "text": [
            "<ipython-input-26-18a742631681>:72: RuntimeWarning: divide by zero encountered in log10\n",
            "  audio_log = 10.0 * np.log10(audio_filtered)\n"
          ]
        },
        {
          "metadata": {
            "tags": null
          },
          "name": "stdout",
          "output_type": "stream",
          "text": [
            "2307 / 3882\n"
          ]
        },
        {
          "metadata": {
            "tags": null
          },
          "name": "stderr",
          "output_type": "stream",
          "text": [
            "<ipython-input-26-18a742631681>:72: RuntimeWarning: divide by zero encountered in log10\n",
            "  audio_log = 10.0 * np.log10(audio_filtered)\n"
          ]
        },
        {
          "metadata": {
            "tags": null
          },
          "name": "stdout",
          "output_type": "stream",
          "text": [
            "2308 / 3882\n"
          ]
        },
        {
          "metadata": {
            "tags": null
          },
          "name": "stderr",
          "output_type": "stream",
          "text": [
            "<ipython-input-26-18a742631681>:72: RuntimeWarning: divide by zero encountered in log10\n",
            "  audio_log = 10.0 * np.log10(audio_filtered)\n"
          ]
        },
        {
          "metadata": {
            "tags": null
          },
          "name": "stdout",
          "output_type": "stream",
          "text": [
            "2309 / 3882\n"
          ]
        },
        {
          "metadata": {
            "tags": null
          },
          "name": "stderr",
          "output_type": "stream",
          "text": [
            "<ipython-input-26-18a742631681>:72: RuntimeWarning: divide by zero encountered in log10\n",
            "  audio_log = 10.0 * np.log10(audio_filtered)\n"
          ]
        },
        {
          "metadata": {
            "tags": null
          },
          "name": "stdout",
          "output_type": "stream",
          "text": [
            "2310 / 3882\n"
          ]
        },
        {
          "metadata": {
            "tags": null
          },
          "name": "stderr",
          "output_type": "stream",
          "text": [
            "<ipython-input-26-18a742631681>:72: RuntimeWarning: divide by zero encountered in log10\n",
            "  audio_log = 10.0 * np.log10(audio_filtered)\n"
          ]
        },
        {
          "metadata": {
            "tags": null
          },
          "name": "stdout",
          "output_type": "stream",
          "text": [
            "2311 / 3882\n"
          ]
        },
        {
          "metadata": {
            "tags": null
          },
          "name": "stderr",
          "output_type": "stream",
          "text": [
            "<ipython-input-26-18a742631681>:72: RuntimeWarning: divide by zero encountered in log10\n",
            "  audio_log = 10.0 * np.log10(audio_filtered)\n"
          ]
        },
        {
          "metadata": {
            "tags": null
          },
          "name": "stdout",
          "output_type": "stream",
          "text": [
            "2312 / 3882\n"
          ]
        },
        {
          "metadata": {
            "tags": null
          },
          "name": "stderr",
          "output_type": "stream",
          "text": [
            "<ipython-input-26-18a742631681>:72: RuntimeWarning: divide by zero encountered in log10\n",
            "  audio_log = 10.0 * np.log10(audio_filtered)\n"
          ]
        },
        {
          "metadata": {
            "tags": null
          },
          "name": "stdout",
          "output_type": "stream",
          "text": [
            "2313 / 3882\n"
          ]
        },
        {
          "metadata": {
            "tags": null
          },
          "name": "stderr",
          "output_type": "stream",
          "text": [
            "<ipython-input-26-18a742631681>:72: RuntimeWarning: divide by zero encountered in log10\n",
            "  audio_log = 10.0 * np.log10(audio_filtered)\n"
          ]
        },
        {
          "metadata": {
            "tags": null
          },
          "name": "stdout",
          "output_type": "stream",
          "text": [
            "2314 / 3882\n"
          ]
        },
        {
          "metadata": {
            "tags": null
          },
          "name": "stderr",
          "output_type": "stream",
          "text": [
            "<ipython-input-26-18a742631681>:72: RuntimeWarning: divide by zero encountered in log10\n",
            "  audio_log = 10.0 * np.log10(audio_filtered)\n"
          ]
        },
        {
          "metadata": {
            "tags": null
          },
          "name": "stdout",
          "output_type": "stream",
          "text": [
            "2315 / 3882\n"
          ]
        },
        {
          "metadata": {
            "tags": null
          },
          "name": "stderr",
          "output_type": "stream",
          "text": [
            "<ipython-input-26-18a742631681>:72: RuntimeWarning: divide by zero encountered in log10\n",
            "  audio_log = 10.0 * np.log10(audio_filtered)\n"
          ]
        },
        {
          "metadata": {
            "tags": null
          },
          "name": "stdout",
          "output_type": "stream",
          "text": [
            "2316 / 3882\n"
          ]
        },
        {
          "metadata": {
            "tags": null
          },
          "name": "stderr",
          "output_type": "stream",
          "text": [
            "<ipython-input-26-18a742631681>:72: RuntimeWarning: divide by zero encountered in log10\n",
            "  audio_log = 10.0 * np.log10(audio_filtered)\n"
          ]
        },
        {
          "metadata": {
            "tags": null
          },
          "name": "stdout",
          "output_type": "stream",
          "text": [
            "2317 / 3882\n"
          ]
        },
        {
          "metadata": {
            "tags": null
          },
          "name": "stderr",
          "output_type": "stream",
          "text": [
            "<ipython-input-26-18a742631681>:72: RuntimeWarning: divide by zero encountered in log10\n",
            "  audio_log = 10.0 * np.log10(audio_filtered)\n"
          ]
        },
        {
          "metadata": {
            "tags": null
          },
          "name": "stdout",
          "output_type": "stream",
          "text": [
            "2318 / 3882\n"
          ]
        },
        {
          "metadata": {
            "tags": null
          },
          "name": "stderr",
          "output_type": "stream",
          "text": [
            "<ipython-input-26-18a742631681>:72: RuntimeWarning: divide by zero encountered in log10\n",
            "  audio_log = 10.0 * np.log10(audio_filtered)\n"
          ]
        },
        {
          "metadata": {
            "tags": null
          },
          "name": "stdout",
          "output_type": "stream",
          "text": [
            "2319 / 3882\n"
          ]
        },
        {
          "metadata": {
            "tags": null
          },
          "name": "stderr",
          "output_type": "stream",
          "text": [
            "<ipython-input-26-18a742631681>:72: RuntimeWarning: divide by zero encountered in log10\n",
            "  audio_log = 10.0 * np.log10(audio_filtered)\n"
          ]
        },
        {
          "metadata": {
            "tags": null
          },
          "name": "stdout",
          "output_type": "stream",
          "text": [
            "2320 / 3882\n"
          ]
        },
        {
          "metadata": {
            "tags": null
          },
          "name": "stderr",
          "output_type": "stream",
          "text": [
            "<ipython-input-26-18a742631681>:72: RuntimeWarning: divide by zero encountered in log10\n",
            "  audio_log = 10.0 * np.log10(audio_filtered)\n"
          ]
        },
        {
          "metadata": {
            "tags": null
          },
          "name": "stdout",
          "output_type": "stream",
          "text": [
            "2321 / 3882\n"
          ]
        },
        {
          "metadata": {
            "tags": null
          },
          "name": "stderr",
          "output_type": "stream",
          "text": [
            "<ipython-input-26-18a742631681>:72: RuntimeWarning: divide by zero encountered in log10\n",
            "  audio_log = 10.0 * np.log10(audio_filtered)\n"
          ]
        },
        {
          "metadata": {
            "tags": null
          },
          "name": "stdout",
          "output_type": "stream",
          "text": [
            "2322 / 3882\n"
          ]
        },
        {
          "metadata": {
            "tags": null
          },
          "name": "stderr",
          "output_type": "stream",
          "text": [
            "<ipython-input-26-18a742631681>:72: RuntimeWarning: divide by zero encountered in log10\n",
            "  audio_log = 10.0 * np.log10(audio_filtered)\n"
          ]
        },
        {
          "metadata": {
            "tags": null
          },
          "name": "stdout",
          "output_type": "stream",
          "text": [
            "2323 / 3882\n"
          ]
        },
        {
          "metadata": {
            "tags": null
          },
          "name": "stderr",
          "output_type": "stream",
          "text": [
            "<ipython-input-26-18a742631681>:72: RuntimeWarning: divide by zero encountered in log10\n",
            "  audio_log = 10.0 * np.log10(audio_filtered)\n"
          ]
        },
        {
          "metadata": {
            "tags": null
          },
          "name": "stdout",
          "output_type": "stream",
          "text": [
            "2324 / 3882\n"
          ]
        },
        {
          "metadata": {
            "tags": null
          },
          "name": "stderr",
          "output_type": "stream",
          "text": [
            "<ipython-input-26-18a742631681>:72: RuntimeWarning: divide by zero encountered in log10\n",
            "  audio_log = 10.0 * np.log10(audio_filtered)\n"
          ]
        },
        {
          "metadata": {
            "tags": null
          },
          "name": "stdout",
          "output_type": "stream",
          "text": [
            "2325 / 3882\n"
          ]
        },
        {
          "metadata": {
            "tags": null
          },
          "name": "stderr",
          "output_type": "stream",
          "text": [
            "<ipython-input-26-18a742631681>:72: RuntimeWarning: divide by zero encountered in log10\n",
            "  audio_log = 10.0 * np.log10(audio_filtered)\n"
          ]
        },
        {
          "metadata": {
            "tags": null
          },
          "name": "stdout",
          "output_type": "stream",
          "text": [
            "2326 / 3882\n"
          ]
        },
        {
          "metadata": {
            "tags": null
          },
          "name": "stderr",
          "output_type": "stream",
          "text": [
            "<ipython-input-26-18a742631681>:72: RuntimeWarning: divide by zero encountered in log10\n",
            "  audio_log = 10.0 * np.log10(audio_filtered)\n"
          ]
        },
        {
          "metadata": {
            "tags": null
          },
          "name": "stdout",
          "output_type": "stream",
          "text": [
            "2327 / 3882\n"
          ]
        },
        {
          "metadata": {
            "tags": null
          },
          "name": "stderr",
          "output_type": "stream",
          "text": [
            "<ipython-input-26-18a742631681>:72: RuntimeWarning: divide by zero encountered in log10\n",
            "  audio_log = 10.0 * np.log10(audio_filtered)\n"
          ]
        },
        {
          "metadata": {
            "tags": null
          },
          "name": "stdout",
          "output_type": "stream",
          "text": [
            "2328 / 3882\n"
          ]
        },
        {
          "metadata": {
            "tags": null
          },
          "name": "stderr",
          "output_type": "stream",
          "text": [
            "<ipython-input-26-18a742631681>:72: RuntimeWarning: divide by zero encountered in log10\n",
            "  audio_log = 10.0 * np.log10(audio_filtered)\n"
          ]
        },
        {
          "metadata": {
            "tags": null
          },
          "name": "stdout",
          "output_type": "stream",
          "text": [
            "2329 / 3882\n"
          ]
        },
        {
          "metadata": {
            "tags": null
          },
          "name": "stderr",
          "output_type": "stream",
          "text": [
            "<ipython-input-26-18a742631681>:72: RuntimeWarning: divide by zero encountered in log10\n",
            "  audio_log = 10.0 * np.log10(audio_filtered)\n"
          ]
        },
        {
          "metadata": {
            "tags": null
          },
          "name": "stdout",
          "output_type": "stream",
          "text": [
            "2330 / 3882\n"
          ]
        },
        {
          "metadata": {
            "tags": null
          },
          "name": "stderr",
          "output_type": "stream",
          "text": [
            "<ipython-input-26-18a742631681>:72: RuntimeWarning: divide by zero encountered in log10\n",
            "  audio_log = 10.0 * np.log10(audio_filtered)\n"
          ]
        },
        {
          "metadata": {
            "tags": null
          },
          "name": "stdout",
          "output_type": "stream",
          "text": [
            "2331 / 3882\n"
          ]
        },
        {
          "metadata": {
            "tags": null
          },
          "name": "stderr",
          "output_type": "stream",
          "text": [
            "<ipython-input-26-18a742631681>:72: RuntimeWarning: divide by zero encountered in log10\n",
            "  audio_log = 10.0 * np.log10(audio_filtered)\n"
          ]
        },
        {
          "metadata": {
            "tags": null
          },
          "name": "stdout",
          "output_type": "stream",
          "text": [
            "2332 / 3882\n"
          ]
        },
        {
          "metadata": {
            "tags": null
          },
          "name": "stderr",
          "output_type": "stream",
          "text": [
            "<ipython-input-26-18a742631681>:72: RuntimeWarning: divide by zero encountered in log10\n",
            "  audio_log = 10.0 * np.log10(audio_filtered)\n"
          ]
        },
        {
          "metadata": {
            "tags": null
          },
          "name": "stdout",
          "output_type": "stream",
          "text": [
            "2333 / 3882\n"
          ]
        },
        {
          "metadata": {
            "tags": null
          },
          "name": "stderr",
          "output_type": "stream",
          "text": [
            "<ipython-input-26-18a742631681>:72: RuntimeWarning: divide by zero encountered in log10\n",
            "  audio_log = 10.0 * np.log10(audio_filtered)\n"
          ]
        },
        {
          "metadata": {
            "tags": null
          },
          "name": "stdout",
          "output_type": "stream",
          "text": [
            "2334 / 3882\n",
            "2335 / 3882\n",
            "2336 / 3882\n",
            "2337 / 3882\n",
            "2338 / 3882\n",
            "2339 / 3882\n",
            "2340 / 3882\n",
            "not mono 2\n",
            "2341 / 3882\n",
            "not mono 2\n",
            "2342 / 3882\n",
            "not mono 2\n",
            "2343 / 3882\n",
            "2344 / 3882\n",
            "2345 / 3882\n",
            "2346 / 3882\n",
            "2347 / 3882\n",
            "2348 / 3882\n"
          ]
        },
        {
          "metadata": {
            "tags": null
          },
          "name": "stderr",
          "output_type": "stream",
          "text": [
            "<ipython-input-26-18a742631681>:72: RuntimeWarning: divide by zero encountered in log10\n",
            "  audio_log = 10.0 * np.log10(audio_filtered)\n"
          ]
        },
        {
          "metadata": {
            "tags": null
          },
          "name": "stdout",
          "output_type": "stream",
          "text": [
            "2349 / 3882\n",
            "2350 / 3882\n",
            "2351 / 3882\n",
            "2352 / 3882\n",
            "2353 / 3882\n",
            "2354 / 3882\n"
          ]
        },
        {
          "metadata": {
            "tags": null
          },
          "name": "stderr",
          "output_type": "stream",
          "text": [
            "<ipython-input-26-18a742631681>:72: RuntimeWarning: divide by zero encountered in log10\n",
            "  audio_log = 10.0 * np.log10(audio_filtered)\n"
          ]
        },
        {
          "metadata": {
            "tags": null
          },
          "name": "stdout",
          "output_type": "stream",
          "text": [
            "2355 / 3882\n",
            "2356 / 3882\n"
          ]
        },
        {
          "metadata": {
            "tags": null
          },
          "name": "stderr",
          "output_type": "stream",
          "text": [
            "<ipython-input-26-18a742631681>:72: RuntimeWarning: divide by zero encountered in log10\n",
            "  audio_log = 10.0 * np.log10(audio_filtered)\n"
          ]
        },
        {
          "metadata": {
            "tags": null
          },
          "name": "stdout",
          "output_type": "stream",
          "text": [
            "2357 / 3882\n"
          ]
        },
        {
          "metadata": {
            "tags": null
          },
          "name": "stderr",
          "output_type": "stream",
          "text": [
            "<ipython-input-26-18a742631681>:72: RuntimeWarning: divide by zero encountered in log10\n",
            "  audio_log = 10.0 * np.log10(audio_filtered)\n"
          ]
        },
        {
          "metadata": {
            "tags": null
          },
          "name": "stdout",
          "output_type": "stream",
          "text": [
            "2358 / 3882\n"
          ]
        },
        {
          "metadata": {
            "tags": null
          },
          "name": "stderr",
          "output_type": "stream",
          "text": [
            "<ipython-input-26-18a742631681>:72: RuntimeWarning: divide by zero encountered in log10\n",
            "  audio_log = 10.0 * np.log10(audio_filtered)\n"
          ]
        },
        {
          "metadata": {
            "tags": null
          },
          "name": "stdout",
          "output_type": "stream",
          "text": [
            "2359 / 3882\n",
            "2360 / 3882\n",
            "2361 / 3882\n",
            "2362 / 3882\n",
            "2363 / 3882\n"
          ]
        },
        {
          "metadata": {
            "tags": null
          },
          "name": "stderr",
          "output_type": "stream",
          "text": [
            "<ipython-input-26-18a742631681>:72: RuntimeWarning: divide by zero encountered in log10\n",
            "  audio_log = 10.0 * np.log10(audio_filtered)\n"
          ]
        },
        {
          "metadata": {
            "tags": null
          },
          "name": "stdout",
          "output_type": "stream",
          "text": [
            "2364 / 3882\n",
            "2365 / 3882\n",
            "2366 / 3882\n",
            "2367 / 3882\n",
            "2368 / 3882\n",
            "2369 / 3882\n",
            "2370 / 3882\n",
            "2371 / 3882\n",
            "2372 / 3882\n",
            "2373 / 3882\n",
            "2374 / 3882\n",
            "2375 / 3882\n",
            "2376 / 3882\n",
            "2377 / 3882\n",
            "2378 / 3882\n",
            "2379 / 3882\n",
            "2380 / 3882\n",
            "2381 / 3882\n",
            "2382 / 3882\n",
            "2383 / 3882\n",
            "2384 / 3882\n",
            "2385 / 3882\n",
            "2386 / 3882\n",
            "2387 / 3882\n",
            "2388 / 3882\n",
            "2389 / 3882\n",
            "2390 / 3882\n",
            "2391 / 3882\n",
            "2392 / 3882\n",
            "2393 / 3882\n",
            "2394 / 3882\n",
            "2395 / 3882\n",
            "2396 / 3882\n",
            "2397 / 3882\n",
            "2398 / 3882\n",
            "2399 / 3882\n",
            "2400 / 3882\n",
            "2401 / 3882\n",
            "2402 / 3882\n",
            "2403 / 3882\n",
            "2404 / 3882\n",
            "2405 / 3882\n",
            "2406 / 3882\n",
            "2407 / 3882\n",
            "2408 / 3882\n"
          ]
        },
        {
          "metadata": {
            "tags": null
          },
          "name": "stderr",
          "output_type": "stream",
          "text": [
            "<ipython-input-26-18a742631681>:72: RuntimeWarning: divide by zero encountered in log10\n",
            "  audio_log = 10.0 * np.log10(audio_filtered)\n"
          ]
        },
        {
          "metadata": {
            "tags": null
          },
          "name": "stdout",
          "output_type": "stream",
          "text": [
            "2409 / 3882\n",
            "2410 / 3882\n",
            "2411 / 3882\n",
            "2412 / 3882\n",
            "2413 / 3882\n",
            "2414 / 3882\n",
            "2415 / 3882\n",
            "2416 / 3882\n",
            "2417 / 3882\n"
          ]
        },
        {
          "metadata": {
            "tags": null
          },
          "name": "stderr",
          "output_type": "stream",
          "text": [
            "<ipython-input-26-18a742631681>:72: RuntimeWarning: divide by zero encountered in log10\n",
            "  audio_log = 10.0 * np.log10(audio_filtered)\n"
          ]
        },
        {
          "metadata": {
            "tags": null
          },
          "name": "stdout",
          "output_type": "stream",
          "text": [
            "2418 / 3882\n",
            "2419 / 3882\n",
            "2420 / 3882\n"
          ]
        },
        {
          "metadata": {
            "tags": null
          },
          "name": "stderr",
          "output_type": "stream",
          "text": [
            "<ipython-input-26-18a742631681>:72: RuntimeWarning: divide by zero encountered in log10\n",
            "  audio_log = 10.0 * np.log10(audio_filtered)\n"
          ]
        },
        {
          "metadata": {
            "tags": null
          },
          "name": "stdout",
          "output_type": "stream",
          "text": [
            "2421 / 3882\n",
            "2422 / 3882\n",
            "2423 / 3882\n",
            "2424 / 3882\n",
            "2425 / 3882\n",
            "2426 / 3882\n",
            "2427 / 3882\n",
            "2428 / 3882\n",
            "2429 / 3882\n",
            "2430 / 3882\n",
            "2431 / 3882\n",
            "2432 / 3882\n",
            "2433 / 3882\n",
            "2434 / 3882\n",
            "2435 / 3882\n",
            "2436 / 3882\n",
            "2437 / 3882\n",
            "2438 / 3882\n",
            "2439 / 3882\n",
            "2440 / 3882\n",
            "2441 / 3882\n",
            "2442 / 3882\n",
            "2443 / 3882\n",
            "2444 / 3882\n",
            "2445 / 3882\n",
            "2446 / 3882\n",
            "2447 / 3882\n",
            "2448 / 3882\n",
            "2449 / 3882\n",
            "2450 / 3882\n",
            "2451 / 3882\n",
            "2452 / 3882\n",
            "2453 / 3882\n",
            "2454 / 3882\n",
            "2455 / 3882\n",
            "2456 / 3882\n",
            "2457 / 3882\n",
            "2458 / 3882\n",
            "2459 / 3882\n",
            "2460 / 3882\n",
            "2461 / 3882\n",
            "2462 / 3882\n",
            "2463 / 3882\n",
            "2464 / 3882\n",
            "2465 / 3882\n",
            "2466 / 3882\n",
            "2467 / 3882\n",
            "2468 / 3882\n",
            "2469 / 3882\n",
            "2470 / 3882\n",
            "2471 / 3882\n",
            "2472 / 3882\n",
            "2473 / 3882\n",
            "2474 / 3882\n",
            "2475 / 3882\n",
            "2476 / 3882\n",
            "2477 / 3882\n",
            "2478 / 3882\n",
            "2479 / 3882\n",
            "2480 / 3882\n",
            "2481 / 3882\n",
            "2482 / 3882\n",
            "2483 / 3882\n",
            "2484 / 3882\n",
            "2485 / 3882\n",
            "2486 / 3882\n",
            "2487 / 3882\n",
            "2488 / 3882\n",
            "2489 / 3882\n",
            "2490 / 3882\n",
            "2491 / 3882\n",
            "2492 / 3882\n",
            "2493 / 3882\n",
            "2494 / 3882\n",
            "2495 / 3882\n",
            "2496 / 3882\n",
            "not mono 2\n",
            "2497 / 3882\n",
            "not mono 2\n",
            "2498 / 3882\n",
            "not mono 2\n",
            "2499 / 3882\n",
            "not mono 2\n",
            "2500 / 3882\n",
            "not mono 2\n",
            "2501 / 3882\n",
            "2502 / 3882\n",
            "2503 / 3882\n",
            "2504 / 3882\n",
            "2505 / 3882\n",
            "2506 / 3882\n",
            "2507 / 3882\n",
            "2508 / 3882\n",
            "2509 / 3882\n",
            "2510 / 3882\n",
            "2511 / 3882\n",
            "2512 / 3882\n",
            "2513 / 3882\n",
            "2514 / 3882\n",
            "2515 / 3882\n",
            "2516 / 3882\n",
            "2517 / 3882\n",
            "2518 / 3882\n",
            "2519 / 3882\n",
            "2520 / 3882\n",
            "2521 / 3882\n",
            "2522 / 3882\n",
            "2523 / 3882\n",
            "2524 / 3882\n",
            "2525 / 3882\n",
            "2526 / 3882\n",
            "2527 / 3882\n",
            "2528 / 3882\n",
            "2529 / 3882\n",
            "2530 / 3882\n",
            "2531 / 3882\n",
            "2532 / 3882\n",
            "2533 / 3882\n",
            "2534 / 3882\n",
            "2535 / 3882\n",
            "2536 / 3882\n",
            "2537 / 3882\n",
            "2538 / 3882\n",
            "2539 / 3882\n",
            "2540 / 3882\n",
            "2541 / 3882\n",
            "2542 / 3882\n",
            "2543 / 3882\n",
            "2544 / 3882\n",
            "2545 / 3882\n",
            "2546 / 3882\n",
            "2547 / 3882\n",
            "2548 / 3882\n",
            "2549 / 3882\n",
            "2550 / 3882\n",
            "2551 / 3882\n",
            "2552 / 3882\n",
            "2553 / 3882\n",
            "2554 / 3882\n",
            "2555 / 3882\n",
            "2556 / 3882\n",
            "2557 / 3882\n",
            "2558 / 3882\n",
            "2559 / 3882\n",
            "2560 / 3882\n",
            "2561 / 3882\n",
            "2562 / 3882\n",
            "2563 / 3882\n",
            "2564 / 3882\n",
            "2565 / 3882\n",
            "2566 / 3882\n",
            "2567 / 3882\n",
            "2568 / 3882\n",
            "2569 / 3882\n",
            "2570 / 3882\n",
            "2571 / 3882\n",
            "2572 / 3882\n",
            "2573 / 3882\n",
            "2574 / 3882\n",
            "2575 / 3882\n",
            "2576 / 3882\n",
            "2577 / 3882\n",
            "2578 / 3882\n",
            "2579 / 3882\n",
            "2580 / 3882\n",
            "2581 / 3882\n",
            "2582 / 3882\n",
            "2583 / 3882\n",
            "2584 / 3882\n",
            "2585 / 3882\n",
            "2586 / 3882\n",
            "2587 / 3882\n",
            "2588 / 3882\n",
            "not mono 2\n",
            "2589 / 3882\n",
            "2590 / 3882\n",
            "2591 / 3882\n",
            "2592 / 3882\n",
            "2593 / 3882\n",
            "2594 / 3882\n",
            "not mono 2\n",
            "2595 / 3882\n",
            "not mono 2\n",
            "2596 / 3882\n",
            "2597 / 3882\n",
            "not mono 2\n",
            "2598 / 3882\n",
            "2599 / 3882\n",
            "2600 / 3882\n",
            "2601 / 3882\n",
            "2602 / 3882\n",
            "2603 / 3882\n",
            "2604 / 3882\n",
            "2605 / 3882\n",
            "2606 / 3882\n",
            "2607 / 3882\n",
            "2608 / 3882\n",
            "2609 / 3882\n",
            "not mono 2\n",
            "2610 / 3882\n",
            "not mono 2\n",
            "2611 / 3882\n",
            "not mono 2\n",
            "2612 / 3882\n",
            "not mono 2\n",
            "2613 / 3882\n",
            "not mono 2\n",
            "2614 / 3882\n",
            "not mono 2\n",
            "2615 / 3882\n",
            "not mono 2\n",
            "2616 / 3882\n",
            "not mono 2\n",
            "2617 / 3882\n",
            "not mono 2\n",
            "2618 / 3882\n",
            "not mono 2\n",
            "2619 / 3882\n",
            "not mono 2\n",
            "2620 / 3882\n",
            "not mono 2\n",
            "2621 / 3882\n",
            "not mono 2\n",
            "2622 / 3882\n",
            "not mono 2\n",
            "2623 / 3882\n",
            "not mono 2\n",
            "2624 / 3882\n",
            "not mono 2\n",
            "2625 / 3882\n",
            "not mono 2\n",
            "2626 / 3882\n",
            "not mono 2\n",
            "2627 / 3882\n",
            "not mono 2\n",
            "2628 / 3882\n",
            "not mono 2\n",
            "2629 / 3882\n",
            "not mono 2\n",
            "2630 / 3882\n",
            "not mono 2\n",
            "2631 / 3882\n",
            "not mono 2\n",
            "2632 / 3882\n",
            "not mono 2\n",
            "2633 / 3882\n",
            "not mono 2\n",
            "2634 / 3882\n",
            "not mono 2\n",
            "2635 / 3882\n",
            "not mono 2\n",
            "2636 / 3882\n",
            "not mono 2\n",
            "2637 / 3882\n",
            "not mono 2\n",
            "2638 / 3882\n",
            "not mono 2\n",
            "2639 / 3882\n",
            "not mono 2\n",
            "2640 / 3882\n",
            "not mono 2\n",
            "2641 / 3882\n",
            "not mono 2\n",
            "2642 / 3882\n",
            "not mono 2\n",
            "2643 / 3882\n",
            "not mono 2\n",
            "2644 / 3882\n",
            "not mono 2\n",
            "2645 / 3882\n",
            "not mono 2\n",
            "2646 / 3882\n",
            "not mono 2\n",
            "2647 / 3882\n",
            "not mono 2\n",
            "2648 / 3882\n",
            "not mono 2\n",
            "2649 / 3882\n",
            "not mono 2\n",
            "2650 / 3882\n",
            "not mono 2\n",
            "2651 / 3882\n",
            "not mono 2\n",
            "2652 / 3882\n",
            "not mono 2\n",
            "2653 / 3882\n",
            "not mono 2\n",
            "2654 / 3882\n",
            "not mono 2\n",
            "2655 / 3882\n",
            "not mono 2\n",
            "2656 / 3882\n",
            "not mono 2\n",
            "2657 / 3882\n",
            "not mono 2\n",
            "2658 / 3882\n",
            "not mono 2\n",
            "2659 / 3882\n",
            "not mono 2\n",
            "2660 / 3882\n",
            "not mono 2\n",
            "2661 / 3882\n",
            "not mono 2\n",
            "2662 / 3882\n",
            "not mono 2\n",
            "2663 / 3882\n",
            "2664 / 3882\n",
            "2665 / 3882\n",
            "2666 / 3882\n",
            "2667 / 3882\n",
            "2668 / 3882\n",
            "2669 / 3882\n",
            "2670 / 3882\n",
            "2671 / 3882\n",
            "2672 / 3882\n",
            "2673 / 3882\n",
            "2674 / 3882\n",
            "2675 / 3882\n",
            "2676 / 3882\n",
            "2677 / 3882\n",
            "2678 / 3882\n",
            "2679 / 3882\n",
            "2680 / 3882\n",
            "2681 / 3882\n",
            "2682 / 3882\n",
            "2683 / 3882\n",
            "2684 / 3882\n",
            "not mono 2\n",
            "2685 / 3882\n",
            "not mono 2\n",
            "2686 / 3882\n",
            "not mono 2\n",
            "2687 / 3882\n",
            "not mono 2\n",
            "2688 / 3882\n",
            "not mono 2\n",
            "2689 / 3882\n",
            "not mono 2\n",
            "2690 / 3882\n",
            "not mono 2\n",
            "2691 / 3882\n",
            "not mono 2\n",
            "2692 / 3882\n",
            "not mono 2\n",
            "2693 / 3882\n",
            "not mono 2\n",
            "2694 / 3882\n",
            "not mono 2\n",
            "2695 / 3882\n",
            "not mono 2\n",
            "2696 / 3882\n",
            "not mono 2\n",
            "2697 / 3882\n",
            "not mono 2\n",
            "2698 / 3882\n",
            "not mono 2\n",
            "2699 / 3882\n",
            "not mono 2\n",
            "2700 / 3882\n",
            "not mono 2\n",
            "2701 / 3882\n",
            "not mono 2\n",
            "2702 / 3882\n",
            "not mono 2\n",
            "2703 / 3882\n",
            "not mono 2\n",
            "2704 / 3882\n",
            "2705 / 3882\n",
            "2706 / 3882\n",
            "2707 / 3882\n",
            "2708 / 3882\n",
            "2709 / 3882\n",
            "2710 / 3882\n",
            "2711 / 3882\n",
            "2712 / 3882\n",
            "2713 / 3882\n",
            "2714 / 3882\n",
            "2715 / 3882\n",
            "2716 / 3882\n",
            "2717 / 3882\n",
            "2718 / 3882\n",
            "2719 / 3882\n",
            "2720 / 3882\n",
            "2721 / 3882\n",
            "2722 / 3882\n",
            "2723 / 3882\n",
            "2724 / 3882\n",
            "2725 / 3882\n",
            "not mono 2\n",
            "2726 / 3882\n",
            "not mono 2\n",
            "2727 / 3882\n",
            "not mono 2\n",
            "2728 / 3882\n",
            "not mono 2\n",
            "2729 / 3882\n",
            "not mono 2\n",
            "2730 / 3882\n",
            "not mono 2\n",
            "2731 / 3882\n",
            "not mono 2\n",
            "2732 / 3882\n",
            "not mono 2\n",
            "2733 / 3882\n",
            "not mono 2\n",
            "2734 / 3882\n",
            "not mono 2\n",
            "2735 / 3882\n",
            "2736 / 3882\n",
            "2737 / 3882\n",
            "2738 / 3882\n"
          ]
        },
        {
          "metadata": {
            "tags": null
          },
          "name": "stderr",
          "output_type": "stream",
          "text": [
            "<ipython-input-26-18a742631681>:72: RuntimeWarning: divide by zero encountered in log10\n",
            "  audio_log = 10.0 * np.log10(audio_filtered)\n"
          ]
        },
        {
          "metadata": {
            "tags": null
          },
          "name": "stdout",
          "output_type": "stream",
          "text": [
            "2739 / 3882\n",
            "2740 / 3882\n"
          ]
        },
        {
          "metadata": {
            "tags": null
          },
          "name": "stderr",
          "output_type": "stream",
          "text": [
            "<ipython-input-26-18a742631681>:72: RuntimeWarning: divide by zero encountered in log10\n",
            "  audio_log = 10.0 * np.log10(audio_filtered)\n"
          ]
        },
        {
          "metadata": {
            "tags": null
          },
          "name": "stdout",
          "output_type": "stream",
          "text": [
            "2741 / 3882\n",
            "2742 / 3882\n",
            "2743 / 3882\n",
            "2744 / 3882\n",
            "2745 / 3882\n",
            "2746 / 3882\n",
            "not mono 2\n",
            "2747 / 3882\n",
            "2748 / 3882\n",
            "2749 / 3882\n",
            "2750 / 3882\n",
            "2751 / 3882\n",
            "not mono 2\n",
            "2752 / 3882\n",
            "not mono 2\n",
            "2753 / 3882\n",
            "2754 / 3882\n",
            "2755 / 3882\n",
            "2756 / 3882\n",
            "2757 / 3882\n",
            "2758 / 3882\n",
            "2759 / 3882\n",
            "2760 / 3882\n",
            "2761 / 3882\n",
            "2762 / 3882\n",
            "2763 / 3882\n",
            "2764 / 3882\n",
            "2765 / 3882\n",
            "2766 / 3882\n",
            "2767 / 3882\n",
            "2768 / 3882\n",
            "2769 / 3882\n"
          ]
        },
        {
          "metadata": {
            "tags": null
          },
          "name": "stderr",
          "output_type": "stream",
          "text": [
            "<ipython-input-26-18a742631681>:72: RuntimeWarning: divide by zero encountered in log10\n",
            "  audio_log = 10.0 * np.log10(audio_filtered)\n"
          ]
        },
        {
          "metadata": {
            "tags": null
          },
          "name": "stdout",
          "output_type": "stream",
          "text": [
            "2770 / 3882\n"
          ]
        },
        {
          "metadata": {
            "tags": null
          },
          "name": "stderr",
          "output_type": "stream",
          "text": [
            "<ipython-input-26-18a742631681>:72: RuntimeWarning: divide by zero encountered in log10\n",
            "  audio_log = 10.0 * np.log10(audio_filtered)\n"
          ]
        },
        {
          "metadata": {
            "tags": null
          },
          "name": "stdout",
          "output_type": "stream",
          "text": [
            "2771 / 3882\n",
            "not mono 2\n",
            "2772 / 3882\n"
          ]
        },
        {
          "metadata": {
            "tags": null
          },
          "name": "stderr",
          "output_type": "stream",
          "text": [
            "<ipython-input-26-18a742631681>:72: RuntimeWarning: divide by zero encountered in log10\n",
            "  audio_log = 10.0 * np.log10(audio_filtered)\n"
          ]
        },
        {
          "metadata": {
            "tags": null
          },
          "name": "stdout",
          "output_type": "stream",
          "text": [
            "not mono 2\n",
            "2773 / 3882\n",
            "not mono 2\n",
            "2774 / 3882\n",
            "not mono 2\n",
            "2775 / 3882\n",
            "not mono 2\n",
            "2776 / 3882\n",
            "not mono 2\n",
            "2777 / 3882\n",
            "not mono 2\n",
            "2778 / 3882\n",
            "not mono 2\n"
          ]
        },
        {
          "metadata": {
            "tags": null
          },
          "name": "stderr",
          "output_type": "stream",
          "text": [
            "<ipython-input-26-18a742631681>:72: RuntimeWarning: divide by zero encountered in log10\n",
            "  audio_log = 10.0 * np.log10(audio_filtered)\n"
          ]
        },
        {
          "metadata": {
            "tags": null
          },
          "name": "stdout",
          "output_type": "stream",
          "text": [
            "2779 / 3882\n",
            "not mono 2\n",
            "2780 / 3882\n",
            "not mono 2\n",
            "2781 / 3882\n",
            "not mono 2\n"
          ]
        },
        {
          "metadata": {
            "tags": null
          },
          "name": "stderr",
          "output_type": "stream",
          "text": [
            "<ipython-input-26-18a742631681>:72: RuntimeWarning: divide by zero encountered in log10\n",
            "  audio_log = 10.0 * np.log10(audio_filtered)\n"
          ]
        },
        {
          "metadata": {
            "tags": null
          },
          "name": "stdout",
          "output_type": "stream",
          "text": [
            "2782 / 3882\n",
            "not mono 2\n",
            "2783 / 3882\n",
            "not mono 2\n",
            "2784 / 3882\n",
            "not mono 2\n",
            "2785 / 3882\n",
            "not mono 2\n"
          ]
        },
        {
          "metadata": {
            "tags": null
          },
          "name": "stderr",
          "output_type": "stream",
          "text": [
            "<ipython-input-26-18a742631681>:72: RuntimeWarning: divide by zero encountered in log10\n",
            "  audio_log = 10.0 * np.log10(audio_filtered)\n"
          ]
        },
        {
          "metadata": {
            "tags": null
          },
          "name": "stdout",
          "output_type": "stream",
          "text": [
            "2786 / 3882\n",
            "not mono 2\n",
            "2787 / 3882\n",
            "not mono 2\n",
            "2788 / 3882\n",
            "not mono 2\n",
            "2789 / 3882\n",
            "not mono 2\n",
            "2790 / 3882\n",
            "not mono 2\n",
            "2791 / 3882\n",
            "not mono 2\n",
            "2792 / 3882\n",
            "not mono 2\n",
            "2793 / 3882\n",
            "not mono 2\n",
            "2794 / 3882\n",
            "not mono 2\n",
            "2795 / 3882\n",
            "not mono 2\n",
            "2796 / 3882\n",
            "not mono 2\n",
            "2797 / 3882\n",
            "not mono 2\n",
            "2798 / 3882\n",
            "not mono 2\n",
            "2799 / 3882\n",
            "not mono 2\n",
            "2800 / 3882\n",
            "not mono 2\n",
            "2801 / 3882\n",
            "not mono 2\n",
            "2802 / 3882\n",
            "not mono 2\n",
            "2803 / 3882\n",
            "not mono 2\n",
            "2804 / 3882\n",
            "not mono 2\n",
            "2805 / 3882\n",
            "not mono 2\n",
            "2806 / 3882\n",
            "not mono 2\n",
            "2807 / 3882\n",
            "not mono 2\n",
            "2808 / 3882\n",
            "not mono 2\n",
            "2809 / 3882\n",
            "not mono 2\n",
            "2810 / 3882\n",
            "not mono 2\n",
            "2811 / 3882\n",
            "not mono 2\n",
            "2812 / 3882\n",
            "not mono 2\n",
            "2813 / 3882\n",
            "not mono 2\n",
            "2814 / 3882\n",
            "not mono 2\n",
            "2815 / 3882\n",
            "not mono 2\n",
            "2816 / 3882\n",
            "not mono 2\n",
            "2817 / 3882\n",
            "not mono 2\n",
            "2818 / 3882\n",
            "not mono 2\n",
            "2819 / 3882\n",
            "not mono 2\n",
            "2820 / 3882\n",
            "not mono 2\n",
            "2821 / 3882\n",
            "not mono 2\n",
            "2822 / 3882\n",
            "not mono 2\n",
            "2823 / 3882\n",
            "not mono 2\n",
            "2824 / 3882\n",
            "not mono 2\n",
            "2825 / 3882\n",
            "not mono 2\n",
            "2826 / 3882\n",
            "not mono 2\n",
            "2827 / 3882\n",
            "not mono 2\n",
            "2828 / 3882\n",
            "not mono 2\n",
            "2829 / 3882\n",
            "not mono 2\n",
            "2830 / 3882\n",
            "not mono 2\n",
            "2831 / 3882\n",
            "not mono 2\n",
            "2832 / 3882\n",
            "not mono 2\n",
            "2833 / 3882\n",
            "not mono 2\n",
            "2834 / 3882\n",
            "not mono 2\n",
            "2835 / 3882\n",
            "not mono 2\n",
            "2836 / 3882\n",
            "not mono 2\n",
            "2837 / 3882\n",
            "not mono 2\n",
            "2838 / 3882\n",
            "not mono 2\n",
            "2839 / 3882\n",
            "not mono 2\n",
            "2840 / 3882\n",
            "not mono 2\n",
            "2841 / 3882\n",
            "not mono 2\n",
            "2842 / 3882\n",
            "not mono 2\n",
            "2843 / 3882\n",
            "not mono 2\n",
            "2844 / 3882\n",
            "not mono 2\n",
            "2845 / 3882\n",
            "not mono 2\n",
            "2846 / 3882\n",
            "not mono 2\n",
            "2847 / 3882\n",
            "not mono 2\n",
            "2848 / 3882\n",
            "not mono 2\n",
            "2849 / 3882\n",
            "not mono 2\n",
            "2850 / 3882\n",
            "not mono 2\n",
            "2851 / 3882\n",
            "not mono 2\n",
            "2852 / 3882\n",
            "not mono 2\n",
            "2853 / 3882\n",
            "not mono 2\n",
            "2854 / 3882\n",
            "not mono 2\n",
            "2855 / 3882\n",
            "not mono 2\n",
            "2856 / 3882\n",
            "not mono 2\n",
            "2857 / 3882\n",
            "not mono 2\n",
            "2858 / 3882\n",
            "not mono 2\n",
            "2859 / 3882\n",
            "not mono 2\n",
            "2860 / 3882\n",
            "not mono 2\n",
            "2861 / 3882\n",
            "not mono 2\n",
            "2862 / 3882\n",
            "not mono 2\n",
            "2863 / 3882\n",
            "not mono 2\n",
            "2864 / 3882\n",
            "not mono 2\n",
            "2865 / 3882\n",
            "not mono 2\n",
            "2866 / 3882\n",
            "not mono 2\n",
            "2867 / 3882\n",
            "not mono 2\n",
            "2868 / 3882\n",
            "not mono 2\n",
            "2869 / 3882\n",
            "not mono 2\n",
            "2870 / 3882\n",
            "not mono 2\n",
            "2871 / 3882\n",
            "not mono 2\n",
            "2872 / 3882\n",
            "not mono 2\n",
            "2873 / 3882\n",
            "not mono 2\n",
            "2874 / 3882\n",
            "not mono 2\n",
            "2875 / 3882\n",
            "not mono 2\n",
            "2876 / 3882\n",
            "not mono 2\n",
            "2877 / 3882\n",
            "not mono 2\n",
            "2878 / 3882\n",
            "not mono 2\n",
            "2879 / 3882\n",
            "not mono 2\n",
            "2880 / 3882\n",
            "not mono 2\n",
            "2881 / 3882\n",
            "not mono 2\n",
            "2882 / 3882\n",
            "not mono 2\n",
            "2883 / 3882\n",
            "not mono 2\n",
            "2884 / 3882\n",
            "not mono 2\n",
            "2885 / 3882\n",
            "not mono 2\n",
            "2886 / 3882\n",
            "not mono 2\n",
            "2887 / 3882\n",
            "not mono 2\n",
            "2888 / 3882\n",
            "not mono 2\n",
            "2889 / 3882\n",
            "not mono 2\n",
            "2890 / 3882\n",
            "not mono 2\n",
            "2891 / 3882\n",
            "not mono 2\n",
            "2892 / 3882\n",
            "not mono 2\n",
            "2893 / 3882\n",
            "not mono 2\n",
            "2894 / 3882\n",
            "not mono 2\n",
            "2895 / 3882\n",
            "not mono 2\n",
            "2896 / 3882\n",
            "2897 / 3882\n",
            "2898 / 3882\n",
            "2899 / 3882\n",
            "2900 / 3882\n",
            "2901 / 3882\n",
            "2902 / 3882\n",
            "not mono 2\n",
            "2903 / 3882\n",
            "not mono 2\n",
            "2904 / 3882\n",
            "not mono 2\n",
            "2905 / 3882\n",
            "not mono 2\n",
            "2906 / 3882\n",
            "not mono 2\n",
            "2907 / 3882\n",
            "not mono 2\n",
            "2908 / 3882\n",
            "not mono 2\n",
            "2909 / 3882\n",
            "not mono 2\n",
            "2910 / 3882\n",
            "not mono 2\n",
            "2911 / 3882\n",
            "not mono 2\n",
            "2912 / 3882\n",
            "not mono 2\n",
            "2913 / 3882\n",
            "not mono 2\n",
            "2914 / 3882\n",
            "not mono 2\n",
            "2915 / 3882\n",
            "not mono 2\n",
            "2916 / 3882\n",
            "not mono 2\n",
            "2917 / 3882\n",
            "not mono 2\n",
            "2918 / 3882\n",
            "not mono 2\n",
            "2919 / 3882\n",
            "not mono 2\n",
            "2920 / 3882\n",
            "not mono 2\n",
            "2921 / 3882\n",
            "not mono 2\n",
            "2922 / 3882\n",
            "not mono 2\n",
            "2923 / 3882\n",
            "not mono 2\n",
            "2924 / 3882\n",
            "not mono 2\n",
            "2925 / 3882\n",
            "not mono 2\n",
            "2926 / 3882\n",
            "not mono 2\n",
            "2927 / 3882\n",
            "not mono 2\n",
            "2928 / 3882\n",
            "not mono 2\n",
            "2929 / 3882\n",
            "not mono 2\n",
            "2930 / 3882\n",
            "not mono 2\n",
            "2931 / 3882\n",
            "not mono 2\n",
            "2932 / 3882\n",
            "not mono 2\n",
            "2933 / 3882\n",
            "not mono 2\n",
            "2934 / 3882\n",
            "not mono 2\n",
            "2935 / 3882\n",
            "not mono 2\n",
            "2936 / 3882\n",
            "not mono 2\n",
            "2937 / 3882\n",
            "not mono 2\n",
            "2938 / 3882\n",
            "not mono 2\n",
            "2939 / 3882\n",
            "not mono 2\n",
            "2940 / 3882\n",
            "not mono 2\n",
            "2941 / 3882\n",
            "not mono 2\n",
            "2942 / 3882\n",
            "not mono 2\n",
            "2943 / 3882\n",
            "not mono 2\n",
            "2944 / 3882\n",
            "not mono 2\n",
            "2945 / 3882\n",
            "not mono 2\n",
            "2946 / 3882\n",
            "not mono 2\n",
            "2947 / 3882\n",
            "not mono 2\n",
            "2948 / 3882\n",
            "not mono 2\n",
            "2949 / 3882\n",
            "not mono 2\n",
            "2950 / 3882\n",
            "not mono 2\n",
            "2951 / 3882\n",
            "not mono 2\n",
            "2952 / 3882\n",
            "not mono 2\n",
            "2953 / 3882\n",
            "not mono 2\n",
            "2954 / 3882\n",
            "not mono 2\n",
            "2955 / 3882\n",
            "not mono 2\n",
            "2956 / 3882\n",
            "not mono 2\n",
            "2957 / 3882\n",
            "not mono 2\n",
            "2958 / 3882\n",
            "not mono 2\n",
            "2959 / 3882\n",
            "not mono 2\n",
            "2960 / 3882\n",
            "not mono 2\n",
            "2961 / 3882\n",
            "not mono 2\n",
            "2962 / 3882\n",
            "not mono 2\n",
            "2963 / 3882\n",
            "not mono 2\n",
            "2964 / 3882\n",
            "not mono 2\n",
            "2965 / 3882\n",
            "not mono 2\n",
            "2966 / 3882\n",
            "not mono 2\n",
            "2967 / 3882\n",
            "not mono 2\n",
            "2968 / 3882\n",
            "not mono 2\n",
            "2969 / 3882\n",
            "not mono 2\n",
            "2970 / 3882\n",
            "not mono 2\n",
            "2971 / 3882\n",
            "not mono 2\n",
            "2972 / 3882\n",
            "not mono 2\n",
            "2973 / 3882\n",
            "not mono 2\n",
            "2974 / 3882\n",
            "not mono 2\n",
            "2975 / 3882\n",
            "not mono 2\n",
            "2976 / 3882\n",
            "not mono 2\n",
            "2977 / 3882\n",
            "not mono 2\n",
            "2978 / 3882\n",
            "not mono 2\n",
            "2979 / 3882\n",
            "not mono 2\n",
            "2980 / 3882\n",
            "not mono 2\n",
            "2981 / 3882\n",
            "not mono 2\n",
            "2982 / 3882\n",
            "not mono 2\n",
            "2983 / 3882\n",
            "not mono 2\n",
            "2984 / 3882\n",
            "not mono 2\n",
            "2985 / 3882\n",
            "not mono 2\n",
            "2986 / 3882\n",
            "not mono 2\n",
            "2987 / 3882\n",
            "not mono 2\n",
            "2988 / 3882\n",
            "not mono 2\n",
            "2989 / 3882\n",
            "not mono 2\n",
            "2990 / 3882\n",
            "not mono 2\n",
            "2991 / 3882\n",
            "not mono 2\n",
            "2992 / 3882\n",
            "not mono 2\n",
            "2993 / 3882\n",
            "not mono 2\n",
            "2994 / 3882\n",
            "not mono 2\n",
            "2995 / 3882\n",
            "not mono 2\n",
            "2996 / 3882\n",
            "not mono 2\n",
            "2997 / 3882\n",
            "not mono 2\n",
            "2998 / 3882\n",
            "not mono 2\n",
            "2999 / 3882\n",
            "not mono 2\n",
            "3000 / 3882\n",
            "not mono 2\n",
            "3001 / 3882\n",
            "not mono 2\n",
            "3002 / 3882\n",
            "not mono 2\n",
            "3003 / 3882\n",
            "not mono 2\n",
            "3004 / 3882\n",
            "not mono 2\n",
            "3005 / 3882\n",
            "not mono 2\n",
            "3006 / 3882\n",
            "not mono 2\n",
            "3007 / 3882\n",
            "not mono 2\n",
            "3008 / 3882\n",
            "not mono 2\n",
            "3009 / 3882\n",
            "not mono 2\n",
            "3010 / 3882\n",
            "not mono 2\n",
            "3011 / 3882\n",
            "not mono 2\n",
            "3012 / 3882\n",
            "not mono 2\n",
            "3013 / 3882\n",
            "not mono 2\n",
            "3014 / 3882\n",
            "not mono 2\n",
            "3015 / 3882\n",
            "not mono 2\n",
            "3016 / 3882\n",
            "not mono 2\n",
            "3017 / 3882\n",
            "not mono 2\n",
            "3018 / 3882\n",
            "not mono 2\n",
            "3019 / 3882\n",
            "not mono 2\n",
            "3020 / 3882\n",
            "not mono 2\n",
            "3021 / 3882\n",
            "not mono 2\n",
            "3022 / 3882\n",
            "not mono 2\n",
            "3023 / 3882\n",
            "not mono 2\n",
            "3024 / 3882\n",
            "not mono 2\n",
            "3025 / 3882\n",
            "not mono 2\n",
            "3026 / 3882\n",
            "not mono 2\n",
            "3027 / 3882\n",
            "not mono 2\n",
            "3028 / 3882\n",
            "not mono 2\n",
            "3029 / 3882\n",
            "not mono 2\n",
            "3030 / 3882\n",
            "not mono 2\n",
            "3031 / 3882\n",
            "not mono 2\n",
            "3032 / 3882\n",
            "not mono 2\n",
            "3033 / 3882\n",
            "not mono 2\n",
            "3034 / 3882\n",
            "not mono 2\n",
            "3035 / 3882\n",
            "not mono 2\n",
            "3036 / 3882\n",
            "not mono 2\n",
            "3037 / 3882\n",
            "not mono 2\n",
            "3038 / 3882\n",
            "not mono 2\n",
            "3039 / 3882\n",
            "not mono 2\n",
            "3040 / 3882\n",
            "not mono 2\n",
            "3041 / 3882\n",
            "not mono 2\n",
            "3042 / 3882\n",
            "not mono 2\n",
            "3043 / 3882\n",
            "not mono 2\n",
            "3044 / 3882\n",
            "not mono 2\n",
            "3045 / 3882\n",
            "not mono 2\n",
            "3046 / 3882\n",
            "not mono 2\n",
            "3047 / 3882\n",
            "not mono 2\n",
            "3048 / 3882\n",
            "not mono 2\n",
            "3049 / 3882\n",
            "not mono 2\n",
            "3050 / 3882\n",
            "not mono 2\n",
            "3051 / 3882\n",
            "not mono 2\n",
            "3052 / 3882\n",
            "not mono 2\n",
            "3053 / 3882\n",
            "not mono 2\n",
            "3054 / 3882\n",
            "not mono 2\n",
            "3055 / 3882\n",
            "not mono 2\n",
            "3056 / 3882\n",
            "not mono 2\n",
            "3057 / 3882\n",
            "not mono 2\n",
            "3058 / 3882\n",
            "not mono 2\n",
            "3059 / 3882\n",
            "not mono 2\n",
            "3060 / 3882\n",
            "not mono 2\n",
            "3061 / 3882\n",
            "not mono 2\n",
            "3062 / 3882\n",
            "not mono 2\n",
            "3063 / 3882\n",
            "not mono 2\n",
            "3064 / 3882\n",
            "not mono 2\n",
            "3065 / 3882\n"
          ]
        },
        {
          "metadata": {
            "tags": null
          },
          "name": "stderr",
          "output_type": "stream",
          "text": [
            "<ipython-input-26-18a742631681>:72: RuntimeWarning: divide by zero encountered in log10\n",
            "  audio_log = 10.0 * np.log10(audio_filtered)\n"
          ]
        },
        {
          "metadata": {
            "tags": null
          },
          "name": "stdout",
          "output_type": "stream",
          "text": [
            "3066 / 3882\n",
            "3067 / 3882\n",
            "3068 / 3882\n",
            "not mono 2\n",
            "3069 / 3882\n"
          ]
        },
        {
          "metadata": {
            "tags": null
          },
          "name": "stderr",
          "output_type": "stream",
          "text": [
            "<ipython-input-26-18a742631681>:72: RuntimeWarning: divide by zero encountered in log10\n",
            "  audio_log = 10.0 * np.log10(audio_filtered)\n"
          ]
        },
        {
          "metadata": {
            "tags": null
          },
          "name": "stdout",
          "output_type": "stream",
          "text": [
            "not mono 2\n",
            "3070 / 3882\n"
          ]
        },
        {
          "metadata": {
            "tags": null
          },
          "name": "stderr",
          "output_type": "stream",
          "text": [
            "<ipython-input-26-18a742631681>:72: RuntimeWarning: divide by zero encountered in log10\n",
            "  audio_log = 10.0 * np.log10(audio_filtered)\n",
            "<ipython-input-26-18a742631681>:72: RuntimeWarning: divide by zero encountered in log10\n",
            "  audio_log = 10.0 * np.log10(audio_filtered)\n"
          ]
        },
        {
          "metadata": {
            "tags": null
          },
          "name": "stdout",
          "output_type": "stream",
          "text": [
            "3071 / 3882\n",
            "3072 / 3882\n",
            "3073 / 3882\n",
            "3074 / 3882\n",
            "3075 / 3882\n",
            "3076 / 3882\n",
            "3077 / 3882\n"
          ]
        },
        {
          "metadata": {
            "tags": null
          },
          "name": "stderr",
          "output_type": "stream",
          "text": [
            "<ipython-input-26-18a742631681>:72: RuntimeWarning: divide by zero encountered in log10\n",
            "  audio_log = 10.0 * np.log10(audio_filtered)\n"
          ]
        },
        {
          "metadata": {
            "tags": null
          },
          "name": "stdout",
          "output_type": "stream",
          "text": [
            "3078 / 3882\n",
            "3079 / 3882\n",
            "3080 / 3882\n",
            "3081 / 3882\n",
            "3082 / 3882\n",
            "not mono 2\n",
            "3083 / 3882\n",
            "not mono 2\n",
            "3084 / 3882\n",
            "3085 / 3882\n",
            "not mono 2\n"
          ]
        },
        {
          "metadata": {
            "tags": null
          },
          "name": "stderr",
          "output_type": "stream",
          "text": [
            "<ipython-input-26-18a742631681>:72: RuntimeWarning: divide by zero encountered in log10\n",
            "  audio_log = 10.0 * np.log10(audio_filtered)\n"
          ]
        },
        {
          "metadata": {
            "tags": null
          },
          "name": "stdout",
          "output_type": "stream",
          "text": [
            "3086 / 3882\n",
            "not mono 2\n"
          ]
        },
        {
          "metadata": {
            "tags": null
          },
          "name": "stderr",
          "output_type": "stream",
          "text": [
            "<ipython-input-26-18a742631681>:72: RuntimeWarning: divide by zero encountered in log10\n",
            "  audio_log = 10.0 * np.log10(audio_filtered)\n"
          ]
        },
        {
          "metadata": {
            "tags": null
          },
          "name": "stdout",
          "output_type": "stream",
          "text": [
            "3087 / 3882\n",
            "3088 / 3882\n",
            "3089 / 3882\n",
            "3090 / 3882\n",
            "3091 / 3882\n",
            "3092 / 3882\n",
            "3093 / 3882\n"
          ]
        },
        {
          "metadata": {
            "tags": null
          },
          "name": "stderr",
          "output_type": "stream",
          "text": [
            "<ipython-input-26-18a742631681>:72: RuntimeWarning: divide by zero encountered in log10\n",
            "  audio_log = 10.0 * np.log10(audio_filtered)\n"
          ]
        },
        {
          "metadata": {
            "tags": null
          },
          "name": "stdout",
          "output_type": "stream",
          "text": [
            "3094 / 3882\n",
            "3095 / 3882\n",
            "3096 / 3882\n"
          ]
        },
        {
          "metadata": {
            "tags": null
          },
          "name": "stderr",
          "output_type": "stream",
          "text": [
            "<ipython-input-26-18a742631681>:72: RuntimeWarning: divide by zero encountered in log10\n",
            "  audio_log = 10.0 * np.log10(audio_filtered)\n"
          ]
        },
        {
          "metadata": {
            "tags": null
          },
          "name": "stdout",
          "output_type": "stream",
          "text": [
            "3097 / 3882\n",
            "3098 / 3882\n",
            "3099 / 3882\n",
            "3100 / 3882\n",
            "3101 / 3882\n",
            "3102 / 3882\n",
            "3103 / 3882\n",
            "3104 / 3882\n",
            "3105 / 3882\n",
            "3106 / 3882\n",
            "3107 / 3882\n",
            "3108 / 3882\n",
            "3109 / 3882\n",
            "3110 / 3882\n",
            "3111 / 3882\n",
            "3112 / 3882\n",
            "3113 / 3882\n",
            "3114 / 3882\n",
            "3115 / 3882\n",
            "3116 / 3882\n"
          ]
        },
        {
          "metadata": {
            "tags": null
          },
          "name": "stderr",
          "output_type": "stream",
          "text": [
            "<ipython-input-26-18a742631681>:72: RuntimeWarning: divide by zero encountered in log10\n",
            "  audio_log = 10.0 * np.log10(audio_filtered)\n"
          ]
        },
        {
          "metadata": {
            "tags": null
          },
          "name": "stdout",
          "output_type": "stream",
          "text": [
            "3117 / 3882\n",
            "3118 / 3882\n",
            "3119 / 3882\n"
          ]
        },
        {
          "metadata": {
            "tags": null
          },
          "name": "stderr",
          "output_type": "stream",
          "text": [
            "<ipython-input-26-18a742631681>:72: RuntimeWarning: divide by zero encountered in log10\n",
            "  audio_log = 10.0 * np.log10(audio_filtered)\n"
          ]
        },
        {
          "metadata": {
            "tags": null
          },
          "name": "stdout",
          "output_type": "stream",
          "text": [
            "3120 / 3882\n",
            "3121 / 3882\n",
            "3122 / 3882\n",
            "3123 / 3882\n",
            "3124 / 3882\n",
            "3125 / 3882\n",
            "not mono 2\n",
            "3126 / 3882\n"
          ]
        },
        {
          "metadata": {
            "tags": null
          },
          "name": "stderr",
          "output_type": "stream",
          "text": [
            "<ipython-input-26-18a742631681>:72: RuntimeWarning: divide by zero encountered in log10\n",
            "  audio_log = 10.0 * np.log10(audio_filtered)\n"
          ]
        },
        {
          "metadata": {
            "tags": null
          },
          "name": "stdout",
          "output_type": "stream",
          "text": [
            "not mono 2\n",
            "3127 / 3882\n"
          ]
        },
        {
          "metadata": {
            "tags": null
          },
          "name": "stderr",
          "output_type": "stream",
          "text": [
            "<ipython-input-26-18a742631681>:72: RuntimeWarning: divide by zero encountered in log10\n",
            "  audio_log = 10.0 * np.log10(audio_filtered)\n"
          ]
        },
        {
          "metadata": {
            "tags": null
          },
          "name": "stdout",
          "output_type": "stream",
          "text": [
            "3128 / 3882\n",
            "3129 / 3882\n",
            "3130 / 3882\n",
            "3131 / 3882\n"
          ]
        },
        {
          "metadata": {
            "tags": null
          },
          "name": "stderr",
          "output_type": "stream",
          "text": [
            "<ipython-input-26-18a742631681>:72: RuntimeWarning: divide by zero encountered in log10\n",
            "  audio_log = 10.0 * np.log10(audio_filtered)\n"
          ]
        },
        {
          "metadata": {
            "tags": null
          },
          "name": "stdout",
          "output_type": "stream",
          "text": [
            "3132 / 3882\n",
            "3133 / 3882\n",
            "3134 / 3882\n",
            "3135 / 3882\n",
            "3136 / 3882\n",
            "3137 / 3882\n",
            "3138 / 3882\n",
            "3139 / 3882\n",
            "3140 / 3882\n",
            "3141 / 3882\n",
            "3142 / 3882\n",
            "3143 / 3882\n",
            "3144 / 3882\n",
            "3145 / 3882\n"
          ]
        },
        {
          "metadata": {
            "tags": null
          },
          "name": "stderr",
          "output_type": "stream",
          "text": [
            "<ipython-input-26-18a742631681>:72: RuntimeWarning: divide by zero encountered in log10\n",
            "  audio_log = 10.0 * np.log10(audio_filtered)\n"
          ]
        },
        {
          "metadata": {
            "tags": null
          },
          "name": "stdout",
          "output_type": "stream",
          "text": [
            "3146 / 3882\n",
            "3147 / 3882\n",
            "3148 / 3882\n",
            "3149 / 3882\n",
            "3150 / 3882\n",
            "3151 / 3882\n",
            "3152 / 3882\n",
            "3153 / 3882\n",
            "not mono 2\n",
            "3154 / 3882\n",
            "not mono 2\n",
            "3155 / 3882\n",
            "not mono 2\n",
            "3156 / 3882\n",
            "not mono 2\n",
            "3157 / 3882\n",
            "not mono 2\n",
            "3158 / 3882\n",
            "not mono 2\n",
            "3159 / 3882\n",
            "3160 / 3882\n",
            "not mono 2\n",
            "3161 / 3882\n",
            "not mono 2\n",
            "3162 / 3882\n",
            "not mono 2\n",
            "3163 / 3882\n",
            "3164 / 3882\n",
            "3165 / 3882\n",
            "3166 / 3882\n"
          ]
        },
        {
          "metadata": {
            "tags": null
          },
          "name": "stderr",
          "output_type": "stream",
          "text": [
            "<ipython-input-26-18a742631681>:72: RuntimeWarning: divide by zero encountered in log10\n",
            "  audio_log = 10.0 * np.log10(audio_filtered)\n"
          ]
        },
        {
          "metadata": {
            "tags": null
          },
          "name": "stdout",
          "output_type": "stream",
          "text": [
            "3167 / 3882\n",
            "3168 / 3882\n",
            "3169 / 3882\n",
            "3170 / 3882\n",
            "3171 / 3882\n",
            "3172 / 3882\n",
            "3173 / 3882\n",
            "3174 / 3882\n",
            "3175 / 3882\n"
          ]
        },
        {
          "metadata": {
            "tags": null
          },
          "name": "stderr",
          "output_type": "stream",
          "text": [
            "<ipython-input-26-18a742631681>:72: RuntimeWarning: divide by zero encountered in log10\n",
            "  audio_log = 10.0 * np.log10(audio_filtered)\n"
          ]
        },
        {
          "metadata": {
            "tags": null
          },
          "name": "stdout",
          "output_type": "stream",
          "text": [
            "3176 / 3882\n",
            "3177 / 3882\n",
            "3178 / 3882\n",
            "3179 / 3882\n",
            "3180 / 3882\n",
            "3181 / 3882\n",
            "3182 / 3882\n",
            "not mono 2\n",
            "3183 / 3882\n",
            "not mono 2\n",
            "3184 / 3882\n",
            "not mono 2\n",
            "3185 / 3882\n",
            "not mono 2\n",
            "3186 / 3882\n",
            "not mono 2\n",
            "3187 / 3882\n",
            "not mono 2\n",
            "3188 / 3882\n",
            "not mono 2\n",
            "3189 / 3882\n",
            "not mono 2\n",
            "3190 / 3882\n",
            "not mono 2\n",
            "3191 / 3882\n",
            "not mono 2\n",
            "3192 / 3882\n",
            "not mono 2\n",
            "3193 / 3882\n",
            "not mono 2\n",
            "3194 / 3882\n",
            "not mono 2\n",
            "3195 / 3882\n",
            "not mono 2\n",
            "3196 / 3882\n",
            "not mono 2\n",
            "3197 / 3882\n",
            "not mono 2\n",
            "3198 / 3882\n",
            "not mono 2\n",
            "3199 / 3882\n",
            "not mono 2\n",
            "3200 / 3882\n",
            "not mono 2\n",
            "3201 / 3882\n",
            "not mono 2\n",
            "3202 / 3882\n",
            "not mono 2\n",
            "3203 / 3882\n",
            "not mono 2\n",
            "3204 / 3882\n",
            "not mono 2\n",
            "3205 / 3882\n",
            "not mono 2\n",
            "3206 / 3882\n"
          ]
        },
        {
          "metadata": {
            "tags": null
          },
          "name": "stderr",
          "output_type": "stream",
          "text": [
            "<ipython-input-26-18a742631681>:72: RuntimeWarning: divide by zero encountered in log10\n",
            "  audio_log = 10.0 * np.log10(audio_filtered)\n"
          ]
        },
        {
          "metadata": {
            "tags": null
          },
          "name": "stdout",
          "output_type": "stream",
          "text": [
            "3207 / 3882\n",
            "not mono 2\n",
            "3208 / 3882\n",
            "not mono 2\n",
            "3209 / 3882\n",
            "not mono 2\n",
            "3210 / 3882\n",
            "not mono 2\n",
            "3211 / 3882\n",
            "not mono 2\n",
            "3212 / 3882\n",
            "not mono 2\n",
            "3213 / 3882\n",
            "not mono 2\n",
            "3214 / 3882\n",
            "not mono 2\n",
            "3215 / 3882\n",
            "not mono 2\n",
            "3216 / 3882\n"
          ]
        },
        {
          "metadata": {
            "tags": null
          },
          "name": "stderr",
          "output_type": "stream",
          "text": [
            "<ipython-input-26-18a742631681>:72: RuntimeWarning: divide by zero encountered in log10\n",
            "  audio_log = 10.0 * np.log10(audio_filtered)\n"
          ]
        },
        {
          "metadata": {
            "tags": null
          },
          "name": "stdout",
          "output_type": "stream",
          "text": [
            "3217 / 3882\n"
          ]
        },
        {
          "metadata": {
            "tags": null
          },
          "name": "stderr",
          "output_type": "stream",
          "text": [
            "<ipython-input-26-18a742631681>:72: RuntimeWarning: divide by zero encountered in log10\n",
            "  audio_log = 10.0 * np.log10(audio_filtered)\n"
          ]
        },
        {
          "metadata": {
            "tags": null
          },
          "name": "stdout",
          "output_type": "stream",
          "text": [
            "3218 / 3882\n",
            "3219 / 3882\n",
            "3220 / 3882\n",
            "3221 / 3882\n"
          ]
        },
        {
          "metadata": {
            "tags": null
          },
          "name": "stderr",
          "output_type": "stream",
          "text": [
            "<ipython-input-26-18a742631681>:72: RuntimeWarning: divide by zero encountered in log10\n",
            "  audio_log = 10.0 * np.log10(audio_filtered)\n"
          ]
        },
        {
          "metadata": {
            "tags": null
          },
          "name": "stdout",
          "output_type": "stream",
          "text": [
            "3222 / 3882\n"
          ]
        },
        {
          "metadata": {
            "tags": null
          },
          "name": "stderr",
          "output_type": "stream",
          "text": [
            "<ipython-input-26-18a742631681>:72: RuntimeWarning: divide by zero encountered in log10\n",
            "  audio_log = 10.0 * np.log10(audio_filtered)\n"
          ]
        },
        {
          "metadata": {
            "tags": null
          },
          "name": "stdout",
          "output_type": "stream",
          "text": [
            "3223 / 3882\n"
          ]
        },
        {
          "metadata": {
            "tags": null
          },
          "name": "stderr",
          "output_type": "stream",
          "text": [
            "<ipython-input-26-18a742631681>:72: RuntimeWarning: divide by zero encountered in log10\n",
            "  audio_log = 10.0 * np.log10(audio_filtered)\n"
          ]
        },
        {
          "metadata": {
            "tags": null
          },
          "name": "stdout",
          "output_type": "stream",
          "text": [
            "3224 / 3882\n",
            "3225 / 3882\n"
          ]
        },
        {
          "metadata": {
            "tags": null
          },
          "name": "stderr",
          "output_type": "stream",
          "text": [
            "<ipython-input-26-18a742631681>:72: RuntimeWarning: divide by zero encountered in log10\n",
            "  audio_log = 10.0 * np.log10(audio_filtered)\n"
          ]
        },
        {
          "metadata": {
            "tags": null
          },
          "name": "stdout",
          "output_type": "stream",
          "text": [
            "3226 / 3882\n",
            "3227 / 3882\n"
          ]
        },
        {
          "metadata": {
            "tags": null
          },
          "name": "stderr",
          "output_type": "stream",
          "text": [
            "<ipython-input-26-18a742631681>:72: RuntimeWarning: divide by zero encountered in log10\n",
            "  audio_log = 10.0 * np.log10(audio_filtered)\n"
          ]
        },
        {
          "metadata": {
            "tags": null
          },
          "name": "stdout",
          "output_type": "stream",
          "text": [
            "3228 / 3882\n",
            "3229 / 3882\n",
            "3230 / 3882\n",
            "not mono 2\n",
            "3231 / 3882\n",
            "not mono 2\n",
            "3232 / 3882\n",
            "not mono 2\n",
            "3233 / 3882\n",
            "not mono 2\n",
            "3234 / 3882\n",
            "not mono 2\n",
            "3235 / 3882\n",
            "not mono 2\n",
            "3236 / 3882\n",
            "not mono 2\n",
            "3237 / 3882\n",
            "not mono 2\n",
            "3238 / 3882\n",
            "not mono 2\n",
            "3239 / 3882\n",
            "not mono 2\n",
            "3240 / 3882\n",
            "not mono 2\n",
            "3241 / 3882\n",
            "not mono 2\n",
            "3242 / 3882\n",
            "not mono 2\n",
            "3243 / 3882\n",
            "not mono 2\n",
            "3244 / 3882\n",
            "not mono 2\n",
            "3245 / 3882\n",
            "not mono 2\n",
            "3246 / 3882\n",
            "not mono 2\n",
            "3247 / 3882\n",
            "not mono 2\n",
            "3248 / 3882\n",
            "not mono 2\n",
            "3249 / 3882\n",
            "not mono 2\n",
            "3250 / 3882\n",
            "not mono 2\n",
            "3251 / 3882\n",
            "not mono 2\n",
            "3252 / 3882\n",
            "not mono 2\n",
            "3253 / 3882\n",
            "not mono 2\n",
            "3254 / 3882\n",
            "not mono 2\n",
            "3255 / 3882\n",
            "not mono 2\n",
            "3256 / 3882\n",
            "not mono 2\n",
            "3257 / 3882\n",
            "not mono 2\n",
            "3258 / 3882\n",
            "not mono 2\n",
            "3259 / 3882\n",
            "not mono 2\n",
            "3260 / 3882\n",
            "not mono 2\n",
            "3261 / 3882\n",
            "not mono 2\n",
            "3262 / 3882\n",
            "not mono 2\n",
            "3263 / 3882\n",
            "not mono 2\n",
            "3264 / 3882\n",
            "not mono 2\n",
            "3265 / 3882\n",
            "not mono 2\n",
            "3266 / 3882\n",
            "not mono 2\n",
            "3267 / 3882\n",
            "not mono 2\n",
            "3268 / 3882\n"
          ]
        },
        {
          "metadata": {
            "tags": null
          },
          "name": "stderr",
          "output_type": "stream",
          "text": [
            "<ipython-input-26-18a742631681>:72: RuntimeWarning: divide by zero encountered in log10\n",
            "  audio_log = 10.0 * np.log10(audio_filtered)\n"
          ]
        },
        {
          "metadata": {
            "tags": null
          },
          "name": "stdout",
          "output_type": "stream",
          "text": [
            "not mono 2\n",
            "3269 / 3882\n"
          ]
        },
        {
          "metadata": {
            "tags": null
          },
          "name": "stderr",
          "output_type": "stream",
          "text": [
            "<ipython-input-26-18a742631681>:72: RuntimeWarning: divide by zero encountered in log10\n",
            "  audio_log = 10.0 * np.log10(audio_filtered)\n"
          ]
        },
        {
          "metadata": {
            "tags": null
          },
          "name": "stdout",
          "output_type": "stream",
          "text": [
            "not mono 2\n",
            "3270 / 3882\n",
            "3271 / 3882\n"
          ]
        },
        {
          "metadata": {
            "tags": null
          },
          "name": "stderr",
          "output_type": "stream",
          "text": [
            "<ipython-input-26-18a742631681>:72: RuntimeWarning: divide by zero encountered in log10\n",
            "  audio_log = 10.0 * np.log10(audio_filtered)\n"
          ]
        },
        {
          "metadata": {
            "tags": null
          },
          "name": "stdout",
          "output_type": "stream",
          "text": [
            "3272 / 3882\n"
          ]
        },
        {
          "metadata": {
            "tags": null
          },
          "name": "stderr",
          "output_type": "stream",
          "text": [
            "<ipython-input-26-18a742631681>:72: RuntimeWarning: divide by zero encountered in log10\n",
            "  audio_log = 10.0 * np.log10(audio_filtered)\n"
          ]
        },
        {
          "metadata": {
            "tags": null
          },
          "name": "stdout",
          "output_type": "stream",
          "text": [
            "3273 / 3882\n",
            "3274 / 3882\n",
            "not mono 2\n",
            "3275 / 3882\n",
            "3276 / 3882\n",
            "not mono 2\n",
            "3277 / 3882\n"
          ]
        },
        {
          "metadata": {
            "tags": null
          },
          "name": "stderr",
          "output_type": "stream",
          "text": [
            "<ipython-input-26-18a742631681>:72: RuntimeWarning: divide by zero encountered in log10\n",
            "  audio_log = 10.0 * np.log10(audio_filtered)\n"
          ]
        },
        {
          "metadata": {
            "tags": null
          },
          "name": "stdout",
          "output_type": "stream",
          "text": [
            "not mono 2\n",
            "3278 / 3882\n",
            "not mono 2\n",
            "3279 / 3882\n",
            "3280 / 3882\n",
            "3281 / 3882\n",
            "3282 / 3882\n",
            "3283 / 3882\n",
            "3284 / 3882\n"
          ]
        },
        {
          "metadata": {
            "tags": null
          },
          "name": "stderr",
          "output_type": "stream",
          "text": [
            "<ipython-input-26-18a742631681>:72: RuntimeWarning: divide by zero encountered in log10\n",
            "  audio_log = 10.0 * np.log10(audio_filtered)\n"
          ]
        },
        {
          "metadata": {
            "tags": null
          },
          "name": "stdout",
          "output_type": "stream",
          "text": [
            "3285 / 3882\n"
          ]
        },
        {
          "metadata": {
            "tags": null
          },
          "name": "stderr",
          "output_type": "stream",
          "text": [
            "<ipython-input-26-18a742631681>:72: RuntimeWarning: divide by zero encountered in log10\n",
            "  audio_log = 10.0 * np.log10(audio_filtered)\n"
          ]
        },
        {
          "metadata": {
            "tags": null
          },
          "name": "stdout",
          "output_type": "stream",
          "text": [
            "3286 / 3882\n"
          ]
        },
        {
          "metadata": {
            "tags": null
          },
          "name": "stderr",
          "output_type": "stream",
          "text": [
            "<ipython-input-26-18a742631681>:72: RuntimeWarning: divide by zero encountered in log10\n",
            "  audio_log = 10.0 * np.log10(audio_filtered)\n"
          ]
        },
        {
          "metadata": {
            "tags": null
          },
          "name": "stdout",
          "output_type": "stream",
          "text": [
            "3287 / 3882\n"
          ]
        },
        {
          "metadata": {
            "tags": null
          },
          "name": "stderr",
          "output_type": "stream",
          "text": [
            "<ipython-input-26-18a742631681>:72: RuntimeWarning: divide by zero encountered in log10\n",
            "  audio_log = 10.0 * np.log10(audio_filtered)\n"
          ]
        },
        {
          "metadata": {
            "tags": null
          },
          "name": "stdout",
          "output_type": "stream",
          "text": [
            "3288 / 3882\n"
          ]
        },
        {
          "metadata": {
            "tags": null
          },
          "name": "stderr",
          "output_type": "stream",
          "text": [
            "<ipython-input-26-18a742631681>:72: RuntimeWarning: divide by zero encountered in log10\n",
            "  audio_log = 10.0 * np.log10(audio_filtered)\n"
          ]
        },
        {
          "metadata": {
            "tags": null
          },
          "name": "stdout",
          "output_type": "stream",
          "text": [
            "3289 / 3882\n"
          ]
        },
        {
          "metadata": {
            "tags": null
          },
          "name": "stderr",
          "output_type": "stream",
          "text": [
            "<ipython-input-26-18a742631681>:72: RuntimeWarning: divide by zero encountered in log10\n",
            "  audio_log = 10.0 * np.log10(audio_filtered)\n"
          ]
        },
        {
          "metadata": {
            "tags": null
          },
          "name": "stdout",
          "output_type": "stream",
          "text": [
            "3290 / 3882\n",
            "3291 / 3882\n",
            "3292 / 3882\n"
          ]
        },
        {
          "metadata": {
            "tags": null
          },
          "name": "stderr",
          "output_type": "stream",
          "text": [
            "<ipython-input-26-18a742631681>:72: RuntimeWarning: divide by zero encountered in log10\n",
            "  audio_log = 10.0 * np.log10(audio_filtered)\n"
          ]
        },
        {
          "metadata": {
            "tags": null
          },
          "name": "stdout",
          "output_type": "stream",
          "text": [
            "3293 / 3882\n",
            "3294 / 3882\n"
          ]
        },
        {
          "metadata": {
            "tags": null
          },
          "name": "stderr",
          "output_type": "stream",
          "text": [
            "<ipython-input-26-18a742631681>:72: RuntimeWarning: divide by zero encountered in log10\n",
            "  audio_log = 10.0 * np.log10(audio_filtered)\n"
          ]
        },
        {
          "metadata": {
            "tags": null
          },
          "name": "stdout",
          "output_type": "stream",
          "text": [
            "3295 / 3882\n",
            "3296 / 3882\n"
          ]
        },
        {
          "metadata": {
            "tags": null
          },
          "name": "stderr",
          "output_type": "stream",
          "text": [
            "<ipython-input-26-18a742631681>:72: RuntimeWarning: divide by zero encountered in log10\n",
            "  audio_log = 10.0 * np.log10(audio_filtered)\n"
          ]
        },
        {
          "metadata": {
            "tags": null
          },
          "name": "stdout",
          "output_type": "stream",
          "text": [
            "3297 / 3882\n",
            "3298 / 3882\n"
          ]
        },
        {
          "metadata": {
            "tags": null
          },
          "name": "stderr",
          "output_type": "stream",
          "text": [
            "<ipython-input-26-18a742631681>:72: RuntimeWarning: divide by zero encountered in log10\n",
            "  audio_log = 10.0 * np.log10(audio_filtered)\n"
          ]
        },
        {
          "metadata": {
            "tags": null
          },
          "name": "stdout",
          "output_type": "stream",
          "text": [
            "3299 / 3882\n"
          ]
        },
        {
          "metadata": {
            "tags": null
          },
          "name": "stderr",
          "output_type": "stream",
          "text": [
            "<ipython-input-26-18a742631681>:72: RuntimeWarning: divide by zero encountered in log10\n",
            "  audio_log = 10.0 * np.log10(audio_filtered)\n"
          ]
        },
        {
          "metadata": {
            "tags": null
          },
          "name": "stdout",
          "output_type": "stream",
          "text": [
            "3300 / 3882\n",
            "not mono 2\n",
            "3301 / 3882\n"
          ]
        },
        {
          "metadata": {
            "tags": null
          },
          "name": "stderr",
          "output_type": "stream",
          "text": [
            "<ipython-input-26-18a742631681>:72: RuntimeWarning: divide by zero encountered in log10\n",
            "  audio_log = 10.0 * np.log10(audio_filtered)\n"
          ]
        },
        {
          "metadata": {
            "tags": null
          },
          "name": "stdout",
          "output_type": "stream",
          "text": [
            "3302 / 3882\n",
            "3303 / 3882\n",
            "3304 / 3882\n",
            "not mono 2\n",
            "3305 / 3882\n",
            "3306 / 3882\n"
          ]
        },
        {
          "metadata": {
            "tags": null
          },
          "name": "stderr",
          "output_type": "stream",
          "text": [
            "<ipython-input-26-18a742631681>:72: RuntimeWarning: divide by zero encountered in log10\n",
            "  audio_log = 10.0 * np.log10(audio_filtered)\n"
          ]
        },
        {
          "metadata": {
            "tags": null
          },
          "name": "stdout",
          "output_type": "stream",
          "text": [
            "3307 / 3882\n"
          ]
        },
        {
          "metadata": {
            "tags": null
          },
          "name": "stderr",
          "output_type": "stream",
          "text": [
            "<ipython-input-26-18a742631681>:72: RuntimeWarning: divide by zero encountered in log10\n",
            "  audio_log = 10.0 * np.log10(audio_filtered)\n"
          ]
        },
        {
          "metadata": {
            "tags": null
          },
          "name": "stdout",
          "output_type": "stream",
          "text": [
            "3308 / 3882\n"
          ]
        },
        {
          "metadata": {
            "tags": null
          },
          "name": "stderr",
          "output_type": "stream",
          "text": [
            "<ipython-input-26-18a742631681>:72: RuntimeWarning: divide by zero encountered in log10\n",
            "  audio_log = 10.0 * np.log10(audio_filtered)\n"
          ]
        },
        {
          "metadata": {
            "tags": null
          },
          "name": "stdout",
          "output_type": "stream",
          "text": [
            "3309 / 3882\n"
          ]
        },
        {
          "metadata": {
            "tags": null
          },
          "name": "stderr",
          "output_type": "stream",
          "text": [
            "<ipython-input-26-18a742631681>:72: RuntimeWarning: divide by zero encountered in log10\n",
            "  audio_log = 10.0 * np.log10(audio_filtered)\n"
          ]
        },
        {
          "metadata": {
            "tags": null
          },
          "name": "stdout",
          "output_type": "stream",
          "text": [
            "3310 / 3882\n"
          ]
        },
        {
          "metadata": {
            "tags": null
          },
          "name": "stderr",
          "output_type": "stream",
          "text": [
            "<ipython-input-26-18a742631681>:72: RuntimeWarning: divide by zero encountered in log10\n",
            "  audio_log = 10.0 * np.log10(audio_filtered)\n"
          ]
        },
        {
          "metadata": {
            "tags": null
          },
          "name": "stdout",
          "output_type": "stream",
          "text": [
            "3311 / 3882\n"
          ]
        },
        {
          "metadata": {
            "tags": null
          },
          "name": "stderr",
          "output_type": "stream",
          "text": [
            "<ipython-input-26-18a742631681>:72: RuntimeWarning: divide by zero encountered in log10\n",
            "  audio_log = 10.0 * np.log10(audio_filtered)\n"
          ]
        },
        {
          "metadata": {
            "tags": null
          },
          "name": "stdout",
          "output_type": "stream",
          "text": [
            "3312 / 3882\n"
          ]
        },
        {
          "metadata": {
            "tags": null
          },
          "name": "stderr",
          "output_type": "stream",
          "text": [
            "<ipython-input-26-18a742631681>:72: RuntimeWarning: divide by zero encountered in log10\n",
            "  audio_log = 10.0 * np.log10(audio_filtered)\n"
          ]
        },
        {
          "metadata": {
            "tags": null
          },
          "name": "stdout",
          "output_type": "stream",
          "text": [
            "3313 / 3882\n"
          ]
        },
        {
          "metadata": {
            "tags": null
          },
          "name": "stderr",
          "output_type": "stream",
          "text": [
            "<ipython-input-26-18a742631681>:72: RuntimeWarning: divide by zero encountered in log10\n",
            "  audio_log = 10.0 * np.log10(audio_filtered)\n"
          ]
        },
        {
          "metadata": {
            "tags": null
          },
          "name": "stdout",
          "output_type": "stream",
          "text": [
            "3314 / 3882\n"
          ]
        },
        {
          "metadata": {
            "tags": null
          },
          "name": "stderr",
          "output_type": "stream",
          "text": [
            "<ipython-input-26-18a742631681>:72: RuntimeWarning: divide by zero encountered in log10\n",
            "  audio_log = 10.0 * np.log10(audio_filtered)\n"
          ]
        },
        {
          "metadata": {
            "tags": null
          },
          "name": "stdout",
          "output_type": "stream",
          "text": [
            "3315 / 3882\n",
            "3316 / 3882\n",
            "3317 / 3882\n",
            "3318 / 3882\n",
            "3319 / 3882\n",
            "3320 / 3882\n",
            "3321 / 3882\n",
            "3322 / 3882\n",
            "3323 / 3882\n",
            "3324 / 3882\n",
            "3325 / 3882\n",
            "3326 / 3882\n",
            "3327 / 3882\n",
            "3328 / 3882\n",
            "3329 / 3882\n"
          ]
        },
        {
          "metadata": {
            "tags": null
          },
          "name": "stderr",
          "output_type": "stream",
          "text": [
            "<ipython-input-26-18a742631681>:72: RuntimeWarning: divide by zero encountered in log10\n",
            "  audio_log = 10.0 * np.log10(audio_filtered)\n"
          ]
        },
        {
          "metadata": {
            "tags": null
          },
          "name": "stdout",
          "output_type": "stream",
          "text": [
            "3330 / 3882\n",
            "not mono 2\n",
            "3331 / 3882\n",
            "not mono 2\n",
            "3332 / 3882\n",
            "not mono 2\n"
          ]
        },
        {
          "metadata": {
            "tags": null
          },
          "name": "stderr",
          "output_type": "stream",
          "text": [
            "<ipython-input-26-18a742631681>:72: RuntimeWarning: divide by zero encountered in log10\n",
            "  audio_log = 10.0 * np.log10(audio_filtered)\n"
          ]
        },
        {
          "metadata": {
            "tags": null
          },
          "name": "stdout",
          "output_type": "stream",
          "text": [
            "3333 / 3882\n",
            "not mono 2\n",
            "3334 / 3882\n",
            "not mono 2\n",
            "3335 / 3882\n",
            "not mono 2\n",
            "3336 / 3882\n",
            "not mono 2\n",
            "3337 / 3882\n",
            "not mono 2\n",
            "3338 / 3882\n",
            "not mono 2\n",
            "3339 / 3882\n",
            "not mono 2\n",
            "3340 / 3882\n"
          ]
        },
        {
          "metadata": {
            "tags": null
          },
          "name": "stderr",
          "output_type": "stream",
          "text": [
            "<ipython-input-26-18a742631681>:72: RuntimeWarning: divide by zero encountered in log10\n",
            "  audio_log = 10.0 * np.log10(audio_filtered)\n",
            "<ipython-input-26-18a742631681>:72: RuntimeWarning: divide by zero encountered in log10\n",
            "  audio_log = 10.0 * np.log10(audio_filtered)\n"
          ]
        },
        {
          "metadata": {
            "tags": null
          },
          "name": "stdout",
          "output_type": "stream",
          "text": [
            "3341 / 3882\n",
            "3342 / 3882\n"
          ]
        },
        {
          "metadata": {
            "tags": null
          },
          "name": "stderr",
          "output_type": "stream",
          "text": [
            "<ipython-input-26-18a742631681>:72: RuntimeWarning: divide by zero encountered in log10\n",
            "  audio_log = 10.0 * np.log10(audio_filtered)\n"
          ]
        },
        {
          "metadata": {
            "tags": null
          },
          "name": "stdout",
          "output_type": "stream",
          "text": [
            "3343 / 3882\n",
            "not mono 2\n",
            "3344 / 3882\n"
          ]
        },
        {
          "metadata": {
            "tags": null
          },
          "name": "stderr",
          "output_type": "stream",
          "text": [
            "<ipython-input-26-18a742631681>:72: RuntimeWarning: divide by zero encountered in log10\n",
            "  audio_log = 10.0 * np.log10(audio_filtered)\n"
          ]
        },
        {
          "metadata": {
            "tags": null
          },
          "name": "stdout",
          "output_type": "stream",
          "text": [
            "not mono 2\n",
            "3345 / 3882\n"
          ]
        },
        {
          "metadata": {
            "tags": null
          },
          "name": "stderr",
          "output_type": "stream",
          "text": [
            "<ipython-input-26-18a742631681>:72: RuntimeWarning: divide by zero encountered in log10\n",
            "  audio_log = 10.0 * np.log10(audio_filtered)\n"
          ]
        },
        {
          "metadata": {
            "tags": null
          },
          "name": "stdout",
          "output_type": "stream",
          "text": [
            "not mono 2\n",
            "3346 / 3882\n"
          ]
        },
        {
          "metadata": {
            "tags": null
          },
          "name": "stderr",
          "output_type": "stream",
          "text": [
            "<ipython-input-26-18a742631681>:72: RuntimeWarning: divide by zero encountered in log10\n",
            "  audio_log = 10.0 * np.log10(audio_filtered)\n"
          ]
        },
        {
          "metadata": {
            "tags": null
          },
          "name": "stdout",
          "output_type": "stream",
          "text": [
            "not mono 2\n",
            "3347 / 3882\n",
            "not mono 2\n",
            "3348 / 3882\n",
            "not mono 2\n"
          ]
        },
        {
          "metadata": {
            "tags": null
          },
          "name": "stderr",
          "output_type": "stream",
          "text": [
            "<ipython-input-26-18a742631681>:72: RuntimeWarning: divide by zero encountered in log10\n",
            "  audio_log = 10.0 * np.log10(audio_filtered)\n"
          ]
        },
        {
          "metadata": {
            "tags": null
          },
          "name": "stdout",
          "output_type": "stream",
          "text": [
            "3349 / 3882\n",
            "not mono 2\n",
            "3350 / 3882\n",
            "not mono 2\n",
            "3351 / 3882\n"
          ]
        },
        {
          "metadata": {
            "tags": null
          },
          "name": "stderr",
          "output_type": "stream",
          "text": [
            "<ipython-input-26-18a742631681>:72: RuntimeWarning: divide by zero encountered in log10\n",
            "  audio_log = 10.0 * np.log10(audio_filtered)\n"
          ]
        },
        {
          "metadata": {
            "tags": null
          },
          "name": "stdout",
          "output_type": "stream",
          "text": [
            "not mono 2\n",
            "3352 / 3882\n",
            "not mono 2\n",
            "3353 / 3882\n",
            "3354 / 3882\n",
            "not mono 2\n",
            "3355 / 3882\n",
            "not mono 2\n",
            "3356 / 3882\n",
            "not mono 2\n",
            "3357 / 3882\n",
            "not mono 2\n",
            "3358 / 3882\n"
          ]
        },
        {
          "metadata": {
            "tags": null
          },
          "name": "stderr",
          "output_type": "stream",
          "text": [
            "<ipython-input-26-18a742631681>:72: RuntimeWarning: divide by zero encountered in log10\n",
            "  audio_log = 10.0 * np.log10(audio_filtered)\n"
          ]
        },
        {
          "metadata": {
            "tags": null
          },
          "name": "stdout",
          "output_type": "stream",
          "text": [
            "not mono 2\n",
            "3359 / 3882\n",
            "not mono 2\n",
            "3360 / 3882\n",
            "not mono 2\n",
            "3361 / 3882\n",
            "not mono 2\n",
            "3362 / 3882\n"
          ]
        },
        {
          "metadata": {
            "tags": null
          },
          "name": "stderr",
          "output_type": "stream",
          "text": [
            "<ipython-input-26-18a742631681>:72: RuntimeWarning: divide by zero encountered in log10\n",
            "  audio_log = 10.0 * np.log10(audio_filtered)\n"
          ]
        },
        {
          "metadata": {
            "tags": null
          },
          "name": "stdout",
          "output_type": "stream",
          "text": [
            "not mono 2\n",
            "3363 / 3882\n",
            "not mono 2\n",
            "3364 / 3882\n"
          ]
        },
        {
          "metadata": {
            "tags": null
          },
          "name": "stderr",
          "output_type": "stream",
          "text": [
            "<ipython-input-26-18a742631681>:72: RuntimeWarning: divide by zero encountered in log10\n",
            "  audio_log = 10.0 * np.log10(audio_filtered)\n"
          ]
        },
        {
          "metadata": {
            "tags": null
          },
          "name": "stdout",
          "output_type": "stream",
          "text": [
            "not mono 2\n"
          ]
        },
        {
          "metadata": {
            "tags": null
          },
          "name": "stderr",
          "output_type": "stream",
          "text": [
            "<ipython-input-26-18a742631681>:72: RuntimeWarning: divide by zero encountered in log10\n",
            "  audio_log = 10.0 * np.log10(audio_filtered)\n"
          ]
        },
        {
          "metadata": {
            "tags": null
          },
          "name": "stdout",
          "output_type": "stream",
          "text": [
            "3365 / 3882\n",
            "not mono 2\n",
            "3366 / 3882\n"
          ]
        },
        {
          "metadata": {
            "tags": null
          },
          "name": "stderr",
          "output_type": "stream",
          "text": [
            "<ipython-input-26-18a742631681>:72: RuntimeWarning: divide by zero encountered in log10\n",
            "  audio_log = 10.0 * np.log10(audio_filtered)\n"
          ]
        },
        {
          "metadata": {
            "tags": null
          },
          "name": "stdout",
          "output_type": "stream",
          "text": [
            "not mono 2\n",
            "3367 / 3882\n",
            "not mono 2\n",
            "3368 / 3882\n",
            "not mono 2\n",
            "3369 / 3882\n"
          ]
        },
        {
          "metadata": {
            "tags": null
          },
          "name": "stderr",
          "output_type": "stream",
          "text": [
            "<ipython-input-26-18a742631681>:72: RuntimeWarning: divide by zero encountered in log10\n",
            "  audio_log = 10.0 * np.log10(audio_filtered)\n"
          ]
        },
        {
          "metadata": {
            "tags": null
          },
          "name": "stdout",
          "output_type": "stream",
          "text": [
            "not mono 2\n",
            "3370 / 3882\n",
            "not mono 2\n",
            "3371 / 3882\n",
            "not mono 2\n",
            "3372 / 3882\n",
            "not mono 2\n",
            "3373 / 3882\n",
            "not mono 2\n",
            "3374 / 3882\n"
          ]
        },
        {
          "metadata": {
            "tags": null
          },
          "name": "stderr",
          "output_type": "stream",
          "text": [
            "<ipython-input-26-18a742631681>:72: RuntimeWarning: divide by zero encountered in log10\n",
            "  audio_log = 10.0 * np.log10(audio_filtered)\n"
          ]
        },
        {
          "metadata": {
            "tags": null
          },
          "name": "stdout",
          "output_type": "stream",
          "text": [
            "not mono 2\n",
            "3375 / 3882\n",
            "3376 / 3882\n",
            "not mono 2\n",
            "3377 / 3882\n",
            "not mono 2\n",
            "3378 / 3882\n",
            "not mono 2\n",
            "3379 / 3882\n",
            "not mono 2\n",
            "3380 / 3882\n",
            "not mono 2\n",
            "3381 / 3882\n",
            "not mono 2\n",
            "3382 / 3882\n",
            "not mono 2\n",
            "3383 / 3882\n",
            "not mono 2\n",
            "3384 / 3882\n",
            "not mono 2\n",
            "3385 / 3882\n",
            "not mono 2\n",
            "3386 / 3882\n",
            "not mono 2\n",
            "3387 / 3882\n",
            "not mono 2\n",
            "3388 / 3882\n"
          ]
        },
        {
          "metadata": {
            "tags": null
          },
          "name": "stderr",
          "output_type": "stream",
          "text": [
            "<ipython-input-26-18a742631681>:72: RuntimeWarning: divide by zero encountered in log10\n",
            "  audio_log = 10.0 * np.log10(audio_filtered)\n"
          ]
        },
        {
          "metadata": {
            "tags": null
          },
          "name": "stdout",
          "output_type": "stream",
          "text": [
            "3389 / 3882\n",
            "3390 / 3882\n",
            "not mono 2\n"
          ]
        },
        {
          "metadata": {
            "tags": null
          },
          "name": "stderr",
          "output_type": "stream",
          "text": [
            "<ipython-input-26-18a742631681>:72: RuntimeWarning: divide by zero encountered in log10\n",
            "  audio_log = 10.0 * np.log10(audio_filtered)\n"
          ]
        },
        {
          "metadata": {
            "tags": null
          },
          "name": "stdout",
          "output_type": "stream",
          "text": [
            "3391 / 3882\n",
            "not mono 2\n",
            "3392 / 3882\n"
          ]
        },
        {
          "metadata": {
            "tags": null
          },
          "name": "stderr",
          "output_type": "stream",
          "text": [
            "<ipython-input-26-18a742631681>:72: RuntimeWarning: divide by zero encountered in log10\n",
            "  audio_log = 10.0 * np.log10(audio_filtered)\n"
          ]
        },
        {
          "metadata": {
            "tags": null
          },
          "name": "stdout",
          "output_type": "stream",
          "text": [
            "not mono 2\n",
            "3393 / 3882\n"
          ]
        },
        {
          "metadata": {
            "tags": null
          },
          "name": "stderr",
          "output_type": "stream",
          "text": [
            "<ipython-input-26-18a742631681>:72: RuntimeWarning: divide by zero encountered in log10\n",
            "  audio_log = 10.0 * np.log10(audio_filtered)\n"
          ]
        },
        {
          "metadata": {
            "tags": null
          },
          "name": "stdout",
          "output_type": "stream",
          "text": [
            "not mono 2\n",
            "3394 / 3882\n"
          ]
        },
        {
          "metadata": {
            "tags": null
          },
          "name": "stderr",
          "output_type": "stream",
          "text": [
            "<ipython-input-26-18a742631681>:72: RuntimeWarning: divide by zero encountered in log10\n",
            "  audio_log = 10.0 * np.log10(audio_filtered)\n"
          ]
        },
        {
          "metadata": {
            "tags": null
          },
          "name": "stdout",
          "output_type": "stream",
          "text": [
            "not mono 2\n",
            "3395 / 3882\n",
            "not mono 2\n",
            "3396 / 3882\n"
          ]
        },
        {
          "metadata": {
            "tags": null
          },
          "name": "stderr",
          "output_type": "stream",
          "text": [
            "<ipython-input-26-18a742631681>:72: RuntimeWarning: divide by zero encountered in log10\n",
            "  audio_log = 10.0 * np.log10(audio_filtered)\n"
          ]
        },
        {
          "metadata": {
            "tags": null
          },
          "name": "stdout",
          "output_type": "stream",
          "text": [
            "not mono 2\n",
            "3397 / 3882\n",
            "3398 / 3882\n",
            "not mono 2\n",
            "3399 / 3882\n",
            "not mono 2\n",
            "3400 / 3882\n",
            "not mono 2\n",
            "3401 / 3882\n",
            "not mono 2\n",
            "3402 / 3882\n",
            "not mono 2\n"
          ]
        },
        {
          "metadata": {
            "tags": null
          },
          "name": "stderr",
          "output_type": "stream",
          "text": [
            "<ipython-input-26-18a742631681>:72: RuntimeWarning: divide by zero encountered in log10\n",
            "  audio_log = 10.0 * np.log10(audio_filtered)\n"
          ]
        },
        {
          "metadata": {
            "tags": null
          },
          "name": "stdout",
          "output_type": "stream",
          "text": [
            "3403 / 3882\n",
            "not mono 2\n",
            "3404 / 3882\n",
            "not mono 2\n"
          ]
        },
        {
          "metadata": {
            "tags": null
          },
          "name": "stderr",
          "output_type": "stream",
          "text": [
            "<ipython-input-26-18a742631681>:72: RuntimeWarning: divide by zero encountered in log10\n",
            "  audio_log = 10.0 * np.log10(audio_filtered)\n"
          ]
        },
        {
          "metadata": {
            "tags": null
          },
          "name": "stdout",
          "output_type": "stream",
          "text": [
            "3405 / 3882\n",
            "not mono 2\n"
          ]
        },
        {
          "metadata": {
            "tags": null
          },
          "name": "stderr",
          "output_type": "stream",
          "text": [
            "<ipython-input-26-18a742631681>:72: RuntimeWarning: divide by zero encountered in log10\n",
            "  audio_log = 10.0 * np.log10(audio_filtered)\n"
          ]
        },
        {
          "metadata": {
            "tags": null
          },
          "name": "stdout",
          "output_type": "stream",
          "text": [
            "3406 / 3882\n",
            "not mono 2\n",
            "3407 / 3882\n",
            "not mono 2\n",
            "3408 / 3882\n",
            "not mono 2\n"
          ]
        },
        {
          "metadata": {
            "tags": null
          },
          "name": "stderr",
          "output_type": "stream",
          "text": [
            "<ipython-input-26-18a742631681>:72: RuntimeWarning: divide by zero encountered in log10\n",
            "  audio_log = 10.0 * np.log10(audio_filtered)\n"
          ]
        },
        {
          "metadata": {
            "tags": null
          },
          "name": "stdout",
          "output_type": "stream",
          "text": [
            "3409 / 3882\n",
            "not mono 2\n",
            "3410 / 3882\n"
          ]
        },
        {
          "metadata": {
            "tags": null
          },
          "name": "stderr",
          "output_type": "stream",
          "text": [
            "<ipython-input-26-18a742631681>:72: RuntimeWarning: divide by zero encountered in log10\n",
            "  audio_log = 10.0 * np.log10(audio_filtered)\n"
          ]
        },
        {
          "metadata": {
            "tags": null
          },
          "name": "stdout",
          "output_type": "stream",
          "text": [
            "not mono 2\n",
            "3411 / 3882\n",
            "not mono 2\n"
          ]
        },
        {
          "metadata": {
            "tags": null
          },
          "name": "stderr",
          "output_type": "stream",
          "text": [
            "<ipython-input-26-18a742631681>:72: RuntimeWarning: divide by zero encountered in log10\n",
            "  audio_log = 10.0 * np.log10(audio_filtered)\n"
          ]
        },
        {
          "metadata": {
            "tags": null
          },
          "name": "stdout",
          "output_type": "stream",
          "text": [
            "3412 / 3882\n",
            "not mono 2\n"
          ]
        },
        {
          "metadata": {
            "tags": null
          },
          "name": "stderr",
          "output_type": "stream",
          "text": [
            "<ipython-input-26-18a742631681>:72: RuntimeWarning: divide by zero encountered in log10\n",
            "  audio_log = 10.0 * np.log10(audio_filtered)\n"
          ]
        },
        {
          "metadata": {
            "tags": null
          },
          "name": "stdout",
          "output_type": "stream",
          "text": [
            "3413 / 3882\n",
            "not mono 2\n",
            "3414 / 3882\n",
            "not mono 2\n",
            "3415 / 3882\n",
            "not mono 2\n",
            "3416 / 3882\n",
            "not mono 2\n",
            "3417 / 3882\n",
            "not mono 2\n",
            "3418 / 3882\n",
            "not mono 2\n",
            "3419 / 3882\n",
            "not mono 2\n",
            "3420 / 3882\n",
            "not mono 2\n",
            "3421 / 3882\n",
            "not mono 2\n",
            "3422 / 3882\n",
            "not mono 2\n",
            "3423 / 3882\n",
            "not mono 2\n",
            "3424 / 3882\n",
            "not mono 2\n",
            "3425 / 3882\n",
            "not mono 2\n",
            "3426 / 3882\n",
            "not mono 2\n",
            "3427 / 3882\n",
            "not mono 2\n",
            "3428 / 3882\n",
            "not mono 2\n",
            "3429 / 3882\n",
            "not mono 2\n"
          ]
        },
        {
          "metadata": {
            "tags": null
          },
          "name": "stderr",
          "output_type": "stream",
          "text": [
            "<ipython-input-26-18a742631681>:72: RuntimeWarning: divide by zero encountered in log10\n",
            "  audio_log = 10.0 * np.log10(audio_filtered)\n"
          ]
        },
        {
          "metadata": {
            "tags": null
          },
          "name": "stdout",
          "output_type": "stream",
          "text": [
            "3430 / 3882\n",
            "not mono 2\n",
            "3431 / 3882\n",
            "not mono 2\n",
            "3432 / 3882\n",
            "not mono 2\n"
          ]
        },
        {
          "metadata": {
            "tags": null
          },
          "name": "stderr",
          "output_type": "stream",
          "text": [
            "<ipython-input-26-18a742631681>:72: RuntimeWarning: divide by zero encountered in log10\n",
            "  audio_log = 10.0 * np.log10(audio_filtered)\n"
          ]
        },
        {
          "metadata": {
            "tags": null
          },
          "name": "stdout",
          "output_type": "stream",
          "text": [
            "3433 / 3882\n",
            "not mono 2\n",
            "3434 / 3882\n",
            "not mono 2\n"
          ]
        },
        {
          "metadata": {
            "tags": null
          },
          "name": "stderr",
          "output_type": "stream",
          "text": [
            "<ipython-input-26-18a742631681>:72: RuntimeWarning: divide by zero encountered in log10\n",
            "  audio_log = 10.0 * np.log10(audio_filtered)\n"
          ]
        },
        {
          "metadata": {
            "tags": null
          },
          "name": "stdout",
          "output_type": "stream",
          "text": [
            "3435 / 3882\n",
            "not mono 2\n"
          ]
        },
        {
          "metadata": {
            "tags": null
          },
          "name": "stderr",
          "output_type": "stream",
          "text": [
            "<ipython-input-26-18a742631681>:72: RuntimeWarning: divide by zero encountered in log10\n",
            "  audio_log = 10.0 * np.log10(audio_filtered)\n"
          ]
        },
        {
          "metadata": {
            "tags": null
          },
          "name": "stdout",
          "output_type": "stream",
          "text": [
            "3436 / 3882\n",
            "not mono 2\n",
            "3437 / 3882\n",
            "not mono 2\n"
          ]
        },
        {
          "metadata": {
            "tags": null
          },
          "name": "stderr",
          "output_type": "stream",
          "text": [
            "<ipython-input-26-18a742631681>:72: RuntimeWarning: divide by zero encountered in log10\n",
            "  audio_log = 10.0 * np.log10(audio_filtered)\n"
          ]
        },
        {
          "metadata": {
            "tags": null
          },
          "name": "stdout",
          "output_type": "stream",
          "text": [
            "3438 / 3882\n",
            "not mono 2\n"
          ]
        },
        {
          "metadata": {
            "tags": null
          },
          "name": "stderr",
          "output_type": "stream",
          "text": [
            "<ipython-input-26-18a742631681>:72: RuntimeWarning: divide by zero encountered in log10\n",
            "  audio_log = 10.0 * np.log10(audio_filtered)\n"
          ]
        },
        {
          "metadata": {
            "tags": null
          },
          "name": "stdout",
          "output_type": "stream",
          "text": [
            "3439 / 3882\n",
            "not mono 2\n",
            "3440 / 3882\n"
          ]
        },
        {
          "metadata": {
            "tags": null
          },
          "name": "stderr",
          "output_type": "stream",
          "text": [
            "<ipython-input-26-18a742631681>:72: RuntimeWarning: divide by zero encountered in log10\n",
            "  audio_log = 10.0 * np.log10(audio_filtered)\n"
          ]
        },
        {
          "metadata": {
            "tags": null
          },
          "name": "stdout",
          "output_type": "stream",
          "text": [
            "3441 / 3882\n",
            "3442 / 3882\n",
            "3443 / 3882\n",
            "not mono 2\n",
            "3444 / 3882\n",
            "not mono 2\n"
          ]
        },
        {
          "metadata": {
            "tags": null
          },
          "name": "stderr",
          "output_type": "stream",
          "text": [
            "<ipython-input-26-18a742631681>:72: RuntimeWarning: divide by zero encountered in log10\n",
            "  audio_log = 10.0 * np.log10(audio_filtered)\n"
          ]
        },
        {
          "metadata": {
            "tags": null
          },
          "name": "stdout",
          "output_type": "stream",
          "text": [
            "3445 / 3882\n",
            "not mono 2\n"
          ]
        },
        {
          "metadata": {
            "tags": null
          },
          "name": "stderr",
          "output_type": "stream",
          "text": [
            "<ipython-input-26-18a742631681>:72: RuntimeWarning: divide by zero encountered in log10\n",
            "  audio_log = 10.0 * np.log10(audio_filtered)\n"
          ]
        },
        {
          "metadata": {
            "tags": null
          },
          "name": "stdout",
          "output_type": "stream",
          "text": [
            "3446 / 3882\n",
            "not mono 2\n"
          ]
        },
        {
          "metadata": {
            "tags": null
          },
          "name": "stderr",
          "output_type": "stream",
          "text": [
            "<ipython-input-26-18a742631681>:72: RuntimeWarning: divide by zero encountered in log10\n",
            "  audio_log = 10.0 * np.log10(audio_filtered)\n"
          ]
        },
        {
          "metadata": {
            "tags": null
          },
          "name": "stdout",
          "output_type": "stream",
          "text": [
            "3447 / 3882\n",
            "not mono 2\n",
            "3448 / 3882\n",
            "not mono 2\n"
          ]
        },
        {
          "metadata": {
            "tags": null
          },
          "name": "stderr",
          "output_type": "stream",
          "text": [
            "<ipython-input-26-18a742631681>:72: RuntimeWarning: divide by zero encountered in log10\n",
            "  audio_log = 10.0 * np.log10(audio_filtered)\n"
          ]
        },
        {
          "metadata": {
            "tags": null
          },
          "name": "stdout",
          "output_type": "stream",
          "text": [
            "3449 / 3882\n",
            "not mono 2\n",
            "3450 / 3882\n",
            "not mono 2\n",
            "3451 / 3882\n",
            "3452 / 3882\n",
            "3453 / 3882\n",
            "3454 / 3882\n",
            "3455 / 3882\n",
            "3456 / 3882\n",
            "3457 / 3882\n",
            "3458 / 3882\n",
            "3459 / 3882\n",
            "3460 / 3882\n",
            "3461 / 3882\n",
            "3462 / 3882\n",
            "3463 / 3882\n",
            "3464 / 3882\n",
            "3465 / 3882\n",
            "3466 / 3882\n",
            "3467 / 3882\n",
            "3468 / 3882\n",
            "3469 / 3882\n",
            "3470 / 3882\n",
            "3471 / 3882\n",
            "3472 / 3882\n",
            "3473 / 3882\n"
          ]
        },
        {
          "metadata": {
            "tags": null
          },
          "name": "stderr",
          "output_type": "stream",
          "text": [
            "<ipython-input-26-18a742631681>:72: RuntimeWarning: divide by zero encountered in log10\n",
            "  audio_log = 10.0 * np.log10(audio_filtered)\n"
          ]
        },
        {
          "metadata": {
            "tags": null
          },
          "name": "stdout",
          "output_type": "stream",
          "text": [
            "3474 / 3882\n"
          ]
        },
        {
          "metadata": {
            "tags": null
          },
          "name": "stderr",
          "output_type": "stream",
          "text": [
            "<ipython-input-26-18a742631681>:72: RuntimeWarning: divide by zero encountered in log10\n",
            "  audio_log = 10.0 * np.log10(audio_filtered)\n"
          ]
        },
        {
          "metadata": {
            "tags": null
          },
          "name": "stdout",
          "output_type": "stream",
          "text": [
            "3475 / 3882\n"
          ]
        },
        {
          "metadata": {
            "tags": null
          },
          "name": "stderr",
          "output_type": "stream",
          "text": [
            "<ipython-input-26-18a742631681>:72: RuntimeWarning: divide by zero encountered in log10\n",
            "  audio_log = 10.0 * np.log10(audio_filtered)\n"
          ]
        },
        {
          "metadata": {
            "tags": null
          },
          "name": "stdout",
          "output_type": "stream",
          "text": [
            "3476 / 3882\n",
            "3477 / 3882\n",
            "3478 / 3882\n",
            "3479 / 3882\n",
            "3480 / 3882\n",
            "3481 / 3882\n",
            "3482 / 3882\n",
            "3483 / 3882\n",
            "3484 / 3882\n",
            "3485 / 3882\n",
            "3486 / 3882\n",
            "3487 / 3882\n",
            "3488 / 3882\n",
            "3489 / 3882\n",
            "3490 / 3882\n",
            "3491 / 3882\n",
            "3492 / 3882\n",
            "3493 / 3882\n",
            "3494 / 3882\n",
            "3495 / 3882\n",
            "3496 / 3882\n",
            "3497 / 3882\n",
            "3498 / 3882\n",
            "3499 / 3882\n",
            "3500 / 3882\n",
            "3501 / 3882\n",
            "3502 / 3882\n",
            "3503 / 3882\n",
            "3504 / 3882\n",
            "3505 / 3882\n",
            "3506 / 3882\n",
            "3507 / 3882\n",
            "3508 / 3882\n",
            "3509 / 3882\n",
            "3510 / 3882\n",
            "3511 / 3882\n",
            "3512 / 3882\n",
            "3513 / 3882\n",
            "3514 / 3882\n",
            "3515 / 3882\n",
            "3516 / 3882\n",
            "3517 / 3882\n",
            "3518 / 3882\n",
            "3519 / 3882\n",
            "3520 / 3882\n",
            "3521 / 3882\n",
            "3522 / 3882\n",
            "3523 / 3882\n",
            "3524 / 3882\n",
            "3525 / 3882\n",
            "3526 / 3882\n",
            "3527 / 3882\n",
            "3528 / 3882\n",
            "3529 / 3882\n",
            "3530 / 3882\n",
            "3531 / 3882\n",
            "3532 / 3882\n",
            "3533 / 3882\n",
            "3534 / 3882\n",
            "3535 / 3882\n",
            "3536 / 3882\n",
            "3537 / 3882\n",
            "3538 / 3882\n",
            "3539 / 3882\n",
            "3540 / 3882\n",
            "3541 / 3882\n",
            "3542 / 3882\n",
            "3543 / 3882\n",
            "3544 / 3882\n",
            "3545 / 3882\n",
            "3546 / 3882\n",
            "3547 / 3882\n",
            "3548 / 3882\n",
            "3549 / 3882\n",
            "3550 / 3882\n",
            "3551 / 3882\n",
            "3552 / 3882\n",
            "3553 / 3882\n",
            "3554 / 3882\n",
            "3555 / 3882\n",
            "3556 / 3882\n",
            "3557 / 3882\n",
            "3558 / 3882\n",
            "3559 / 3882\n",
            "3560 / 3882\n",
            "3561 / 3882\n",
            "3562 / 3882\n",
            "3563 / 3882\n",
            "3564 / 3882\n",
            "3565 / 3882\n",
            "3566 / 3882\n",
            "3567 / 3882\n",
            "not mono 2\n",
            "3568 / 3882\n",
            "not mono 2\n",
            "3569 / 3882\n",
            "not mono 2\n",
            "3570 / 3882\n",
            "not mono 2\n",
            "3571 / 3882\n",
            "not mono 2\n",
            "3572 / 3882\n",
            "not mono 2\n",
            "3573 / 3882\n",
            "3574 / 3882\n",
            "not mono 2\n",
            "3575 / 3882\n",
            "not mono 2\n",
            "3576 / 3882\n",
            "not mono 2\n",
            "3577 / 3882\n",
            "not mono 2\n",
            "3578 / 3882\n",
            "not mono 2\n",
            "3579 / 3882\n",
            "not mono 2\n",
            "3580 / 3882\n",
            "not mono 2\n",
            "3581 / 3882\n",
            "not mono 2\n",
            "3582 / 3882\n"
          ]
        },
        {
          "metadata": {
            "tags": null
          },
          "name": "stderr",
          "output_type": "stream",
          "text": [
            "<ipython-input-26-18a742631681>:72: RuntimeWarning: divide by zero encountered in log10\n",
            "  audio_log = 10.0 * np.log10(audio_filtered)\n"
          ]
        },
        {
          "metadata": {
            "tags": null
          },
          "name": "stdout",
          "output_type": "stream",
          "text": [
            "not mono 2\n",
            "3583 / 3882\n",
            "not mono 2\n",
            "3584 / 3882\n",
            "not mono 2\n",
            "3585 / 3882\n",
            "not mono 2\n",
            "3586 / 3882\n",
            "not mono 2\n",
            "3587 / 3882\n",
            "not mono 2\n",
            "3588 / 3882\n",
            "not mono 2\n",
            "3589 / 3882\n",
            "not mono 2\n",
            "3590 / 3882\n",
            "not mono 2\n",
            "3591 / 3882\n",
            "not mono 2\n",
            "3592 / 3882\n",
            "not mono 2\n",
            "3593 / 3882\n",
            "not mono 2\n",
            "3594 / 3882\n",
            "not mono 2\n",
            "3595 / 3882\n",
            "not mono 2\n",
            "3596 / 3882\n",
            "not mono 2\n",
            "3597 / 3882\n",
            "not mono 2\n",
            "3598 / 3882\n",
            "not mono 2\n",
            "3599 / 3882\n",
            "not mono 2\n",
            "3600 / 3882\n",
            "not mono 2\n",
            "3601 / 3882\n",
            "not mono 2\n",
            "3602 / 3882\n",
            "not mono 2\n",
            "3603 / 3882\n",
            "not mono 2\n",
            "3604 / 3882\n",
            "not mono 2\n",
            "3605 / 3882\n",
            "not mono 2\n",
            "3606 / 3882\n",
            "not mono 2\n",
            "3607 / 3882\n",
            "not mono 2\n",
            "3608 / 3882\n",
            "not mono 2\n",
            "3609 / 3882\n",
            "not mono 2\n",
            "3610 / 3882\n",
            "not mono 2\n",
            "3611 / 3882\n",
            "not mono 2\n",
            "3612 / 3882\n",
            "not mono 2\n",
            "3613 / 3882\n",
            "not mono 2\n",
            "3614 / 3882\n"
          ]
        },
        {
          "metadata": {
            "tags": null
          },
          "name": "stderr",
          "output_type": "stream",
          "text": [
            "<ipython-input-26-18a742631681>:72: RuntimeWarning: divide by zero encountered in log10\n",
            "  audio_log = 10.0 * np.log10(audio_filtered)\n"
          ]
        },
        {
          "metadata": {
            "tags": null
          },
          "name": "stdout",
          "output_type": "stream",
          "text": [
            "not mono 2\n",
            "3615 / 3882\n",
            "not mono 2\n",
            "3616 / 3882\n",
            "not mono 2\n"
          ]
        },
        {
          "metadata": {
            "tags": null
          },
          "name": "stderr",
          "output_type": "stream",
          "text": [
            "<ipython-input-26-18a742631681>:72: RuntimeWarning: divide by zero encountered in log10\n",
            "  audio_log = 10.0 * np.log10(audio_filtered)\n"
          ]
        },
        {
          "metadata": {
            "tags": null
          },
          "name": "stdout",
          "output_type": "stream",
          "text": [
            "3617 / 3882\n",
            "not mono 2\n"
          ]
        },
        {
          "metadata": {
            "tags": null
          },
          "name": "stderr",
          "output_type": "stream",
          "text": [
            "<ipython-input-26-18a742631681>:72: RuntimeWarning: divide by zero encountered in log10\n",
            "  audio_log = 10.0 * np.log10(audio_filtered)\n"
          ]
        },
        {
          "metadata": {
            "tags": null
          },
          "name": "stdout",
          "output_type": "stream",
          "text": [
            "3618 / 3882\n",
            "not mono 2\n",
            "3619 / 3882\n",
            "not mono 2\n",
            "3620 / 3882\n",
            "not mono 2\n",
            "3621 / 3882\n",
            "not mono 2\n",
            "3622 / 3882\n",
            "not mono 2\n",
            "3623 / 3882\n",
            "not mono 2\n"
          ]
        },
        {
          "metadata": {
            "tags": null
          },
          "name": "stderr",
          "output_type": "stream",
          "text": [
            "<ipython-input-26-18a742631681>:72: RuntimeWarning: divide by zero encountered in log10\n",
            "  audio_log = 10.0 * np.log10(audio_filtered)\n"
          ]
        },
        {
          "metadata": {
            "tags": null
          },
          "name": "stdout",
          "output_type": "stream",
          "text": [
            "3624 / 3882\n",
            "not mono 2\n",
            "3625 / 3882\n",
            "not mono 2\n",
            "3626 / 3882\n",
            "not mono 2\n",
            "3627 / 3882\n",
            "not mono 2\n",
            "3628 / 3882\n",
            "not mono 2\n"
          ]
        },
        {
          "metadata": {
            "tags": null
          },
          "name": "stderr",
          "output_type": "stream",
          "text": [
            "<ipython-input-26-18a742631681>:72: RuntimeWarning: divide by zero encountered in log10\n",
            "  audio_log = 10.0 * np.log10(audio_filtered)\n"
          ]
        },
        {
          "metadata": {
            "tags": null
          },
          "name": "stdout",
          "output_type": "stream",
          "text": [
            "3629 / 3882\n",
            "not mono 2\n",
            "3630 / 3882\n",
            "not mono 2\n",
            "3631 / 3882\n",
            "not mono 2\n",
            "3632 / 3882\n",
            "not mono 2\n",
            "3633 / 3882\n",
            "not mono 2\n",
            "3634 / 3882\n",
            "not mono 2\n",
            "3635 / 3882\n",
            "not mono 2\n",
            "3636 / 3882\n",
            "not mono 2\n",
            "3637 / 3882\n",
            "3638 / 3882\n",
            "not mono 2\n",
            "3639 / 3882\n",
            "not mono 2\n",
            "3640 / 3882\n",
            "not mono 2\n",
            "3641 / 3882\n",
            "not mono 2\n",
            "3642 / 3882\n",
            "not mono 2\n",
            "3643 / 3882\n",
            "not mono 2\n",
            "3644 / 3882\n",
            "not mono 2\n",
            "3645 / 3882\n",
            "not mono 2\n",
            "3646 / 3882\n",
            "3647 / 3882\n",
            "3648 / 3882\n",
            "3649 / 3882\n",
            "3650 / 3882\n",
            "3651 / 3882\n"
          ]
        },
        {
          "metadata": {
            "tags": null
          },
          "name": "stderr",
          "output_type": "stream",
          "text": [
            "<ipython-input-26-18a742631681>:72: RuntimeWarning: divide by zero encountered in log10\n",
            "  audio_log = 10.0 * np.log10(audio_filtered)\n"
          ]
        },
        {
          "metadata": {
            "tags": null
          },
          "name": "stdout",
          "output_type": "stream",
          "text": [
            "3652 / 3882\n",
            "3653 / 3882\n",
            "3654 / 3882\n",
            "3655 / 3882\n",
            "3656 / 3882\n",
            "3657 / 3882\n",
            "3658 / 3882\n",
            "3659 / 3882\n",
            "3660 / 3882\n",
            "3661 / 3882\n",
            "3662 / 3882\n"
          ]
        },
        {
          "metadata": {
            "tags": null
          },
          "name": "stderr",
          "output_type": "stream",
          "text": [
            "<ipython-input-26-18a742631681>:72: RuntimeWarning: divide by zero encountered in log10\n",
            "  audio_log = 10.0 * np.log10(audio_filtered)\n"
          ]
        },
        {
          "metadata": {
            "tags": null
          },
          "name": "stdout",
          "output_type": "stream",
          "text": [
            "3663 / 3882\n"
          ]
        },
        {
          "metadata": {
            "tags": null
          },
          "name": "stderr",
          "output_type": "stream",
          "text": [
            "<ipython-input-26-18a742631681>:72: RuntimeWarning: divide by zero encountered in log10\n",
            "  audio_log = 10.0 * np.log10(audio_filtered)\n"
          ]
        },
        {
          "metadata": {
            "tags": null
          },
          "name": "stdout",
          "output_type": "stream",
          "text": [
            "3664 / 3882\n",
            "3665 / 3882\n"
          ]
        },
        {
          "metadata": {
            "tags": null
          },
          "name": "stderr",
          "output_type": "stream",
          "text": [
            "<ipython-input-26-18a742631681>:72: RuntimeWarning: divide by zero encountered in log10\n",
            "  audio_log = 10.0 * np.log10(audio_filtered)\n"
          ]
        },
        {
          "metadata": {
            "tags": null
          },
          "name": "stdout",
          "output_type": "stream",
          "text": [
            "3666 / 3882\n",
            "3667 / 3882\n"
          ]
        },
        {
          "metadata": {
            "tags": null
          },
          "name": "stderr",
          "output_type": "stream",
          "text": [
            "<ipython-input-26-18a742631681>:72: RuntimeWarning: divide by zero encountered in log10\n",
            "  audio_log = 10.0 * np.log10(audio_filtered)\n"
          ]
        },
        {
          "metadata": {
            "tags": null
          },
          "name": "stdout",
          "output_type": "stream",
          "text": [
            "3668 / 3882\n",
            "3669 / 3882\n",
            "3670 / 3882\n",
            "3671 / 3882\n",
            "3672 / 3882\n",
            "3673 / 3882\n"
          ]
        },
        {
          "metadata": {
            "tags": null
          },
          "name": "stderr",
          "output_type": "stream",
          "text": [
            "<ipython-input-26-18a742631681>:72: RuntimeWarning: divide by zero encountered in log10\n",
            "  audio_log = 10.0 * np.log10(audio_filtered)\n"
          ]
        },
        {
          "metadata": {
            "tags": null
          },
          "name": "stdout",
          "output_type": "stream",
          "text": [
            "3674 / 3882\n"
          ]
        },
        {
          "metadata": {
            "tags": null
          },
          "name": "stderr",
          "output_type": "stream",
          "text": [
            "<ipython-input-26-18a742631681>:72: RuntimeWarning: divide by zero encountered in log10\n",
            "  audio_log = 10.0 * np.log10(audio_filtered)\n"
          ]
        },
        {
          "metadata": {
            "tags": null
          },
          "name": "stdout",
          "output_type": "stream",
          "text": [
            "3675 / 3882\n",
            "3676 / 3882\n",
            "3677 / 3882\n"
          ]
        },
        {
          "metadata": {
            "tags": null
          },
          "name": "stderr",
          "output_type": "stream",
          "text": [
            "<ipython-input-26-18a742631681>:72: RuntimeWarning: divide by zero encountered in log10\n",
            "  audio_log = 10.0 * np.log10(audio_filtered)\n"
          ]
        },
        {
          "metadata": {
            "tags": null
          },
          "name": "stdout",
          "output_type": "stream",
          "text": [
            "3678 / 3882\n",
            "3679 / 3882\n",
            "3680 / 3882\n",
            "3681 / 3882\n",
            "3682 / 3882\n",
            "3683 / 3882\n",
            "3684 / 3882\n",
            "not mono 2\n",
            "3685 / 3882\n",
            "not mono 2\n",
            "3686 / 3882\n",
            "not mono 2\n",
            "3687 / 3882\n",
            "not mono 2\n",
            "3688 / 3882\n",
            "not mono 2\n",
            "3689 / 3882\n",
            "not mono 2\n",
            "3690 / 3882\n",
            "not mono 2\n",
            "3691 / 3882\n",
            "not mono 2\n"
          ]
        },
        {
          "metadata": {
            "tags": null
          },
          "name": "stderr",
          "output_type": "stream",
          "text": [
            "<ipython-input-26-18a742631681>:72: RuntimeWarning: divide by zero encountered in log10\n",
            "  audio_log = 10.0 * np.log10(audio_filtered)\n"
          ]
        },
        {
          "metadata": {
            "tags": null
          },
          "name": "stdout",
          "output_type": "stream",
          "text": [
            "3692 / 3882\n",
            "not mono 2\n",
            "3693 / 3882\n",
            "not mono 2\n",
            "3694 / 3882\n",
            "not mono 2\n",
            "3695 / 3882\n",
            "not mono 2\n",
            "3696 / 3882\n",
            "not mono 2\n",
            "3697 / 3882\n",
            "not mono 2\n",
            "3698 / 3882\n",
            "not mono 2\n",
            "3699 / 3882\n",
            "not mono 2\n",
            "3700 / 3882\n",
            "not mono 2\n",
            "3701 / 3882\n",
            "not mono 2\n",
            "3702 / 3882\n",
            "not mono 2\n",
            "3703 / 3882\n",
            "not mono 2\n",
            "3704 / 3882\n",
            "not mono 2\n",
            "3705 / 3882\n",
            "not mono 2\n",
            "3706 / 3882\n",
            "not mono 2\n"
          ]
        },
        {
          "metadata": {
            "tags": null
          },
          "name": "stderr",
          "output_type": "stream",
          "text": [
            "<ipython-input-26-18a742631681>:72: RuntimeWarning: divide by zero encountered in log10\n",
            "  audio_log = 10.0 * np.log10(audio_filtered)\n"
          ]
        },
        {
          "metadata": {
            "tags": null
          },
          "name": "stdout",
          "output_type": "stream",
          "text": [
            "3707 / 3882\n",
            "not mono 2\n",
            "3708 / 3882\n",
            "not mono 2\n",
            "3709 / 3882\n",
            "not mono 2\n",
            "3710 / 3882\n",
            "not mono 2\n",
            "3711 / 3882\n",
            "not mono 2\n",
            "3712 / 3882\n",
            "not mono 2\n",
            "3713 / 3882\n"
          ]
        },
        {
          "metadata": {
            "tags": null
          },
          "name": "stderr",
          "output_type": "stream",
          "text": [
            "<ipython-input-26-18a742631681>:72: RuntimeWarning: divide by zero encountered in log10\n",
            "  audio_log = 10.0 * np.log10(audio_filtered)\n"
          ]
        },
        {
          "output_type": "stream",
          "name": "stdout",
          "text": [
            "not mono 2\n",
            "3714 / 3882\n",
            "not mono 2\n",
            "3715 / 3882\n",
            "not mono 2\n",
            "3716 / 3882\n",
            "not mono 2\n",
            "3717 / 3882\n",
            "not mono 2\n",
            "3718 / 3882\n",
            "not mono 2\n",
            "3719 / 3882\n",
            "not mono 2\n",
            "3720 / 3882\n",
            "not mono 2\n",
            "3721 / 3882\n",
            "not mono 2\n",
            "3722 / 3882\n",
            "not mono 2\n",
            "3723 / 3882\n",
            "not mono 2\n",
            "3724 / 3882\n",
            "not mono 2\n",
            "3725 / 3882\n",
            "not mono 2\n",
            "3726 / 3882\n",
            "not mono 2\n",
            "3727 / 3882\n",
            "not mono 2\n",
            "3728 / 3882\n",
            "not mono 2\n",
            "3729 / 3882\n",
            "not mono 2\n",
            "3730 / 3882\n",
            "not mono 2\n",
            "3731 / 3882\n",
            "not mono 2\n",
            "3732 / 3882\n",
            "not mono 2\n",
            "3733 / 3882\n",
            "not mono 2\n",
            "3734 / 3882\n",
            "not mono 2\n",
            "3735 / 3882\n",
            "not mono 2\n",
            "3736 / 3882\n",
            "not mono 2\n",
            "3737 / 3882\n",
            "3738 / 3882\n",
            "3739 / 3882\n",
            "3740 / 3882\n",
            "not mono 2\n",
            "3741 / 3882\n",
            "not mono 2\n",
            "3742 / 3882\n",
            "not mono 2\n",
            "3743 / 3882\n",
            "not mono 2\n"
          ]
        },
        {
          "output_type": "stream",
          "name": "stderr",
          "text": [
            "<ipython-input-26-18a742631681>:72: RuntimeWarning: divide by zero encountered in log10\n",
            "  audio_log = 10.0 * np.log10(audio_filtered)\n"
          ]
        },
        {
          "output_type": "stream",
          "name": "stdout",
          "text": [
            "3744 / 3882\n",
            "3745 / 3882\n",
            "not mono 2\n",
            "3746 / 3882\n",
            "not mono 2\n",
            "3747 / 3882\n",
            "not mono 2\n",
            "3748 / 3882\n",
            "not mono 2\n",
            "3749 / 3882\n",
            "not mono 2\n",
            "3750 / 3882\n",
            "not mono 2\n",
            "3751 / 3882\n",
            "not mono 2\n",
            "3752 / 3882\n",
            "not mono 2\n",
            "3753 / 3882\n",
            "not mono 2\n",
            "3754 / 3882\n",
            "not mono 2\n",
            "3755 / 3882\n",
            "not mono 2\n",
            "3756 / 3882\n",
            "not mono 2\n",
            "3757 / 3882\n",
            "not mono 2\n",
            "3758 / 3882\n",
            "not mono 2\n",
            "3759 / 3882\n",
            "not mono 2\n",
            "3760 / 3882\n",
            "not mono 2\n",
            "3761 / 3882\n",
            "not mono 2\n",
            "3762 / 3882\n"
          ]
        },
        {
          "output_type": "stream",
          "name": "stderr",
          "text": [
            "<ipython-input-26-18a742631681>:72: RuntimeWarning: divide by zero encountered in log10\n",
            "  audio_log = 10.0 * np.log10(audio_filtered)\n"
          ]
        },
        {
          "output_type": "stream",
          "name": "stdout",
          "text": [
            "3763 / 3882\n"
          ]
        },
        {
          "output_type": "stream",
          "name": "stderr",
          "text": [
            "<ipython-input-26-18a742631681>:72: RuntimeWarning: divide by zero encountered in log10\n",
            "  audio_log = 10.0 * np.log10(audio_filtered)\n"
          ]
        },
        {
          "output_type": "stream",
          "name": "stdout",
          "text": [
            "3764 / 3882\n",
            "3765 / 3882\n",
            "3766 / 3882\n"
          ]
        },
        {
          "output_type": "stream",
          "name": "stderr",
          "text": [
            "<ipython-input-26-18a742631681>:72: RuntimeWarning: divide by zero encountered in log10\n",
            "  audio_log = 10.0 * np.log10(audio_filtered)\n"
          ]
        },
        {
          "output_type": "stream",
          "name": "stdout",
          "text": [
            "3767 / 3882\n",
            "3768 / 3882\n"
          ]
        },
        {
          "output_type": "stream",
          "name": "stderr",
          "text": [
            "<ipython-input-26-18a742631681>:72: RuntimeWarning: divide by zero encountered in log10\n",
            "  audio_log = 10.0 * np.log10(audio_filtered)\n"
          ]
        },
        {
          "output_type": "stream",
          "name": "stdout",
          "text": [
            "3769 / 3882\n"
          ]
        },
        {
          "output_type": "stream",
          "name": "stderr",
          "text": [
            "<ipython-input-26-18a742631681>:72: RuntimeWarning: divide by zero encountered in log10\n",
            "  audio_log = 10.0 * np.log10(audio_filtered)\n"
          ]
        },
        {
          "output_type": "stream",
          "name": "stdout",
          "text": [
            "3770 / 3882\n",
            "3771 / 3882\n"
          ]
        },
        {
          "output_type": "stream",
          "name": "stderr",
          "text": [
            "<ipython-input-26-18a742631681>:72: RuntimeWarning: divide by zero encountered in log10\n",
            "  audio_log = 10.0 * np.log10(audio_filtered)\n"
          ]
        },
        {
          "output_type": "stream",
          "name": "stdout",
          "text": [
            "3772 / 3882\n",
            "3773 / 3882\n",
            "not mono 2\n",
            "3774 / 3882\n",
            "3775 / 3882\n",
            "not mono 2\n",
            "3776 / 3882\n"
          ]
        },
        {
          "output_type": "stream",
          "name": "stderr",
          "text": [
            "<ipython-input-26-18a742631681>:72: RuntimeWarning: divide by zero encountered in log10\n",
            "  audio_log = 10.0 * np.log10(audio_filtered)\n"
          ]
        },
        {
          "output_type": "stream",
          "name": "stdout",
          "text": [
            "3777 / 3882\n",
            "3778 / 3882\n",
            "not mono 2\n",
            "3779 / 3882\n",
            "3780 / 3882\n",
            "not mono 2\n",
            "3781 / 3882\n",
            "not mono 2\n",
            "3782 / 3882\n",
            "3783 / 3882\n",
            "3784 / 3882\n",
            "3785 / 3882\n",
            "3786 / 3882\n"
          ]
        },
        {
          "output_type": "stream",
          "name": "stderr",
          "text": [
            "<ipython-input-26-18a742631681>:72: RuntimeWarning: divide by zero encountered in log10\n",
            "  audio_log = 10.0 * np.log10(audio_filtered)\n"
          ]
        },
        {
          "output_type": "stream",
          "name": "stdout",
          "text": [
            "3787 / 3882\n"
          ]
        },
        {
          "output_type": "stream",
          "name": "stderr",
          "text": [
            "<ipython-input-26-18a742631681>:72: RuntimeWarning: divide by zero encountered in log10\n",
            "  audio_log = 10.0 * np.log10(audio_filtered)\n"
          ]
        },
        {
          "output_type": "stream",
          "name": "stdout",
          "text": [
            "3788 / 3882\n",
            "3789 / 3882\n",
            "3790 / 3882\n",
            "3791 / 3882\n",
            "3792 / 3882\n"
          ]
        },
        {
          "output_type": "stream",
          "name": "stderr",
          "text": [
            "<ipython-input-26-18a742631681>:72: RuntimeWarning: divide by zero encountered in log10\n",
            "  audio_log = 10.0 * np.log10(audio_filtered)\n"
          ]
        },
        {
          "output_type": "stream",
          "name": "stdout",
          "text": [
            "3793 / 3882\n",
            "not mono 2\n",
            "3794 / 3882\n",
            "not mono 2\n",
            "3795 / 3882\n",
            "not mono 2\n",
            "3796 / 3882\n",
            "not mono 2\n",
            "3797 / 3882\n",
            "not mono 2\n",
            "3798 / 3882\n",
            "not mono 2\n",
            "3799 / 3882\n",
            "not mono 2\n",
            "3800 / 3882\n",
            "not mono 2\n",
            "3801 / 3882\n",
            "not mono 2\n",
            "3802 / 3882\n",
            "not mono 2\n",
            "3803 / 3882\n"
          ]
        },
        {
          "output_type": "stream",
          "name": "stderr",
          "text": [
            "<ipython-input-26-18a742631681>:72: RuntimeWarning: divide by zero encountered in log10\n",
            "  audio_log = 10.0 * np.log10(audio_filtered)\n"
          ]
        },
        {
          "output_type": "stream",
          "name": "stdout",
          "text": [
            "not mono 2\n",
            "3804 / 3882\n",
            "not mono 2\n",
            "3805 / 3882\n",
            "not mono 2\n",
            "3806 / 3882\n",
            "not mono 2\n",
            "3807 / 3882\n",
            "not mono 2\n",
            "3808 / 3882\n",
            "not mono 2\n",
            "3809 / 3882\n",
            "not mono 2\n",
            "3810 / 3882\n",
            "not mono 2\n",
            "3811 / 3882\n",
            "not mono 2\n",
            "3812 / 3882\n",
            "not mono 2\n",
            "3813 / 3882\n",
            "not mono 2\n",
            "3814 / 3882\n",
            "not mono 2\n",
            "3815 / 3882\n",
            "not mono 2\n",
            "3816 / 3882\n",
            "not mono 2\n",
            "3817 / 3882\n",
            "not mono 2\n",
            "3818 / 3882\n",
            "not mono 2\n",
            "3819 / 3882\n",
            "not mono 2\n",
            "3820 / 3882\n",
            "not mono 2\n",
            "3821 / 3882\n",
            "not mono 2\n",
            "3822 / 3882\n",
            "not mono 2\n",
            "3823 / 3882\n",
            "not mono 2\n",
            "3824 / 3882\n",
            "not mono 2\n",
            "3825 / 3882\n",
            "not mono 2\n",
            "3826 / 3882\n",
            "not mono 2\n",
            "3827 / 3882\n",
            "not mono 2\n",
            "3828 / 3882\n",
            "not mono 2\n",
            "3829 / 3882\n",
            "not mono 2\n",
            "3830 / 3882\n",
            "not mono 2\n",
            "3831 / 3882\n",
            "not mono 2\n",
            "3832 / 3882\n",
            "not mono 2\n",
            "3833 / 3882\n",
            "not mono 2\n",
            "3834 / 3882\n",
            "not mono 2\n",
            "3835 / 3882\n",
            "not mono 2\n",
            "3836 / 3882\n",
            "not mono 2\n",
            "3837 / 3882\n",
            "not mono 2\n",
            "3838 / 3882\n",
            "not mono 2\n",
            "3839 / 3882\n",
            "not mono 2\n",
            "3840 / 3882\n",
            "not mono 2\n",
            "3841 / 3882\n",
            "not mono 2\n",
            "3842 / 3882\n",
            "not mono 2\n",
            "3843 / 3882\n",
            "not mono 2\n",
            "3844 / 3882\n",
            "not mono 2\n",
            "3845 / 3882\n",
            "not mono 2\n",
            "3846 / 3882\n",
            "not mono 2\n",
            "3847 / 3882\n",
            "not mono 2\n",
            "3848 / 3882\n",
            "not mono 2\n",
            "3849 / 3882\n",
            "not mono 2\n",
            "3850 / 3882\n",
            "not mono 2\n",
            "3851 / 3882\n",
            "not mono 2\n",
            "3852 / 3882\n",
            "not mono 2\n",
            "3853 / 3882\n",
            "not mono 2\n",
            "3854 / 3882\n",
            "not mono 2\n",
            "3855 / 3882\n",
            "not mono 2\n",
            "3856 / 3882\n",
            "not mono 2\n",
            "3857 / 3882\n",
            "not mono 2\n",
            "3858 / 3882\n",
            "not mono 2\n",
            "3859 / 3882\n",
            "not mono 2\n",
            "3860 / 3882\n",
            "3861 / 3882\n",
            "3862 / 3882\n",
            "3863 / 3882\n",
            "3864 / 3882\n",
            "3865 / 3882\n",
            "3866 / 3882\n",
            "3867 / 3882\n",
            "not mono 2\n",
            "3868 / 3882\n",
            "3869 / 3882\n",
            "not mono 2\n",
            "3870 / 3882\n",
            "3871 / 3882\n",
            "3872 / 3882\n",
            "3873 / 3882\n",
            "3874 / 3882\n",
            "3875 / 3882\n",
            "3876 / 3882\n",
            "not mono 2\n",
            "3877 / 3882\n",
            "not mono 2\n",
            "3878 / 3882\n",
            "not mono 2\n",
            "3879 / 3882\n"
          ]
        },
        {
          "output_type": "stream",
          "name": "stderr",
          "text": [
            "<ipython-input-26-18a742631681>:72: RuntimeWarning: divide by zero encountered in log10\n",
            "  audio_log = 10.0 * np.log10(audio_filtered)\n"
          ]
        },
        {
          "output_type": "stream",
          "name": "stdout",
          "text": [
            "3880 / 3882\n"
          ]
        },
        {
          "output_type": "stream",
          "name": "stderr",
          "text": [
            "<ipython-input-26-18a742631681>:72: RuntimeWarning: divide by zero encountered in log10\n",
            "  audio_log = 10.0 * np.log10(audio_filtered)\n"
          ]
        },
        {
          "output_type": "stream",
          "name": "stdout",
          "text": [
            "3881 / 3882\n",
            "3882 / 3882\n"
          ]
        }
      ]
    },
    {
      "cell_type": "code",
      "source": [
        "df = pd.DataFrame(results).T\n",
        "df"
      ],
      "metadata": {
        "colab": {
          "base_uri": "https://localhost:8080/",
          "height": 548
        },
        "id": "eVJDIrnVY3Ny",
        "outputId": "0bf804ba-22e5-4c06-9fa9-b141a586ac3b",
        "collapsed": true
      },
      "execution_count": null,
      "outputs": [
        {
          "output_type": "execute_result",
          "data": {
            "text/plain": [
              "                                                           0          1    \\\n",
              "XC113545-C304_D01.mp3                              -112.424644   3.669452   \n",
              "XC113546-C5836_D02.mp3                             -128.394095  -8.109159   \n",
              "XC113547-C357_D01.mp3                              -177.510285   6.310285   \n",
              "XC113595-C320_D01.mp3                              -112.160947  -5.193795   \n",
              "XC113596-C3391_D01.mp3                             -127.369801   0.443200   \n",
              "...                                                        ...        ...   \n",
              "XC893239-240331_026---Uropelia-campestris.mp3       -29.724795  10.480167   \n",
              "XC893240-240331_028---Nannochordeiles-pusillus.mp3  -42.505570   4.456111   \n",
              "XC899406-Habia-rubica_240428_1209.mp3                     -inf        NaN   \n",
              "XC899409-Lepidothrix-coronata_240428_1212.mp3             -inf        NaN   \n",
              "XC899410-Lepidothrix-coronata_240428_1213.mp3       -37.251699  29.057045   \n",
              "\n",
              "                                                          2          3    \\\n",
              "XC113545-C304_D01.mp3                               -9.344393   0.368146   \n",
              "XC113546-C5836_D02.mp3                               1.643606  -1.721614   \n",
              "XC113547-C357_D01.mp3                               -5.041636   4.860886   \n",
              "XC113595-C320_D01.mp3                               -2.644363   3.891338   \n",
              "XC113596-C3391_D01.mp3                               2.291995  12.806234   \n",
              "...                                                       ...        ...   \n",
              "XC893239-240331_026---Uropelia-campestris.mp3        1.655632   2.572706   \n",
              "XC893240-240331_028---Nannochordeiles-pusillus.mp3   0.089331  21.211386   \n",
              "XC899406-Habia-rubica_240428_1209.mp3                     NaN        NaN   \n",
              "XC899409-Lepidothrix-coronata_240428_1212.mp3             NaN        NaN   \n",
              "XC899410-Lepidothrix-coronata_240428_1213.mp3      -47.619733  10.653485   \n",
              "\n",
              "                                                          4         5    \\\n",
              "XC113545-C304_D01.mp3                               -3.065483  1.477477   \n",
              "XC113546-C5836_D02.mp3                               6.578285  3.668080   \n",
              "XC113547-C357_D01.mp3                                4.528932  5.786759   \n",
              "XC113595-C320_D01.mp3                               -0.314010  5.532670   \n",
              "XC113596-C3391_D01.mp3                               3.774709  5.318489   \n",
              "...                                                       ...       ...   \n",
              "XC893239-240331_026---Uropelia-campestris.mp3      -20.258279  2.198067   \n",
              "XC893240-240331_028---Nannochordeiles-pusillus.mp3  -5.221518 -0.914210   \n",
              "XC899406-Habia-rubica_240428_1209.mp3                     NaN       NaN   \n",
              "XC899409-Lepidothrix-coronata_240428_1212.mp3             NaN       NaN   \n",
              "XC899410-Lepidothrix-coronata_240428_1213.mp3       -8.686108 -1.146296   \n",
              "\n",
              "                                                          6         7    \\\n",
              "XC113545-C304_D01.mp3                               -1.491879  0.964105   \n",
              "XC113546-C5836_D02.mp3                               0.485831  3.190450   \n",
              "XC113547-C357_D01.mp3                                1.638032  1.464928   \n",
              "XC113595-C320_D01.mp3                                2.907106  1.701984   \n",
              "XC113596-C3391_D01.mp3                              -0.867477  1.694896   \n",
              "...                                                       ...       ...   \n",
              "XC893239-240331_026---Uropelia-campestris.mp3       -1.546303 -2.294621   \n",
              "XC893240-240331_028---Nannochordeiles-pusillus.mp3  12.711053 -3.144217   \n",
              "XC899406-Habia-rubica_240428_1209.mp3                     NaN       NaN   \n",
              "XC899409-Lepidothrix-coronata_240428_1212.mp3             NaN       NaN   \n",
              "XC899410-Lepidothrix-coronata_240428_1213.mp3       -1.508246 -5.189717   \n",
              "\n",
              "                                                         8         9    ...  \\\n",
              "XC113545-C304_D01.mp3                              -0.266210  0.842624  ...   \n",
              "XC113546-C5836_D02.mp3                             -0.613307  3.819558  ...   \n",
              "XC113547-C357_D01.mp3                              -0.909118 -0.938925  ...   \n",
              "XC113595-C320_D01.mp3                              -1.736801  0.766902  ...   \n",
              "XC113596-C3391_D01.mp3                             -2.465154 -2.729120  ...   \n",
              "...                                                      ...       ...  ...   \n",
              "XC893239-240331_026---Uropelia-campestris.mp3       6.821933  1.589022  ...   \n",
              "XC893240-240331_028---Nannochordeiles-pusillus.mp3  1.786280  3.958931  ...   \n",
              "XC899406-Habia-rubica_240428_1209.mp3                    NaN       NaN  ...   \n",
              "XC899409-Lepidothrix-coronata_240428_1212.mp3            NaN       NaN  ...   \n",
              "XC899410-Lepidothrix-coronata_240428_1213.mp3       3.808773 -1.537890  ...   \n",
              "\n",
              "                                                          118        119  \\\n",
              "XC113545-C304_D01.mp3                               -9.344393   3.669452   \n",
              "XC113546-C5836_D02.mp3                               1.643606  -8.109159   \n",
              "XC113547-C357_D01.mp3                               -5.041636   6.310285   \n",
              "XC113595-C320_D01.mp3                               -2.644363  -5.193795   \n",
              "XC113596-C3391_D01.mp3                               2.291995   0.443200   \n",
              "...                                                       ...        ...   \n",
              "XC893239-240331_026---Uropelia-campestris.mp3        1.655632  10.480167   \n",
              "XC893240-240331_028---Nannochordeiles-pusillus.mp3   0.089331   4.456111   \n",
              "XC899406-Habia-rubica_240428_1209.mp3                     NaN        NaN   \n",
              "XC899409-Lepidothrix-coronata_240428_1212.mp3             NaN        NaN   \n",
              "XC899410-Lepidothrix-coronata_240428_1213.mp3      -47.619733  29.057045   \n",
              "\n",
              "                                                           120        121  \\\n",
              "XC113545-C304_D01.mp3                              -158.992456   3.669452   \n",
              "XC113546-C5836_D02.mp3                             -181.576671  -8.109159   \n",
              "XC113547-C357_D01.mp3                              -251.037452   6.310285   \n",
              "XC113595-C320_D01.mp3                              -158.619533  -5.193795   \n",
              "XC113596-C3391_D01.mp3                             -180.128100   0.443200   \n",
              "...                                                        ...        ...   \n",
              "XC893239-240331_026---Uropelia-campestris.mp3       -42.037208  10.480167   \n",
              "XC893240-240331_028---Nannochordeiles-pusillus.mp3  -60.111953   4.456111   \n",
              "XC899406-Habia-rubica_240428_1209.mp3                     -inf        NaN   \n",
              "XC899409-Lepidothrix-coronata_240428_1212.mp3             -inf        NaN   \n",
              "XC899410-Lepidothrix-coronata_240428_1213.mp3       -52.681857  29.057045   \n",
              "\n",
              "                                                          122        123  \\\n",
              "XC113545-C304_D01.mp3                               -9.344393   0.368146   \n",
              "XC113546-C5836_D02.mp3                               1.643606  -1.721614   \n",
              "XC113547-C357_D01.mp3                               -5.041636   4.860886   \n",
              "XC113595-C320_D01.mp3                               -2.644363   3.891338   \n",
              "XC113596-C3391_D01.mp3                               2.291995  12.806234   \n",
              "...                                                       ...        ...   \n",
              "XC893239-240331_026---Uropelia-campestris.mp3        1.655632   2.572706   \n",
              "XC893240-240331_028---Nannochordeiles-pusillus.mp3   0.089331  21.211386   \n",
              "XC899406-Habia-rubica_240428_1209.mp3                     NaN        NaN   \n",
              "XC899409-Lepidothrix-coronata_240428_1212.mp3             NaN        NaN   \n",
              "XC899410-Lepidothrix-coronata_240428_1213.mp3      -47.619733  10.653485   \n",
              "\n",
              "                                                          124       125  \\\n",
              "XC113545-C304_D01.mp3                               -3.065483  1.477477   \n",
              "XC113546-C5836_D02.mp3                               6.578285  3.668080   \n",
              "XC113547-C357_D01.mp3                                4.528932  5.786759   \n",
              "XC113595-C320_D01.mp3                               -0.314010  5.532670   \n",
              "XC113596-C3391_D01.mp3                               3.774709  5.318489   \n",
              "...                                                       ...       ...   \n",
              "XC893239-240331_026---Uropelia-campestris.mp3      -20.258279  2.198067   \n",
              "XC893240-240331_028---Nannochordeiles-pusillus.mp3  -5.221518 -0.914210   \n",
              "XC899406-Habia-rubica_240428_1209.mp3                     NaN       NaN   \n",
              "XC899409-Lepidothrix-coronata_240428_1212.mp3             NaN       NaN   \n",
              "XC899410-Lepidothrix-coronata_240428_1213.mp3       -8.686108 -1.146296   \n",
              "\n",
              "                                                          126       127  \n",
              "XC113545-C304_D01.mp3                               -1.491879  0.964105  \n",
              "XC113546-C5836_D02.mp3                               0.485831  3.190450  \n",
              "XC113547-C357_D01.mp3                                1.638032  1.464928  \n",
              "XC113595-C320_D01.mp3                                2.907106  1.701984  \n",
              "XC113596-C3391_D01.mp3                              -0.867477  1.694896  \n",
              "...                                                       ...       ...  \n",
              "XC893239-240331_026---Uropelia-campestris.mp3       -1.546303 -2.294621  \n",
              "XC893240-240331_028---Nannochordeiles-pusillus.mp3  12.711053 -3.144217  \n",
              "XC899406-Habia-rubica_240428_1209.mp3                     NaN       NaN  \n",
              "XC899409-Lepidothrix-coronata_240428_1212.mp3             NaN       NaN  \n",
              "XC899410-Lepidothrix-coronata_240428_1213.mp3       -1.508246 -5.189717  \n",
              "\n",
              "[3882 rows x 128 columns]"
            ],
            "text/html": [
              "\n",
              "  <div id=\"df-5a1416b7-f8f3-4066-b7bc-bef9a8b8e1da\" class=\"colab-df-container\">\n",
              "    <div>\n",
              "<style scoped>\n",
              "    .dataframe tbody tr th:only-of-type {\n",
              "        vertical-align: middle;\n",
              "    }\n",
              "\n",
              "    .dataframe tbody tr th {\n",
              "        vertical-align: top;\n",
              "    }\n",
              "\n",
              "    .dataframe thead th {\n",
              "        text-align: right;\n",
              "    }\n",
              "</style>\n",
              "<table border=\"1\" class=\"dataframe\">\n",
              "  <thead>\n",
              "    <tr style=\"text-align: right;\">\n",
              "      <th></th>\n",
              "      <th>0</th>\n",
              "      <th>1</th>\n",
              "      <th>2</th>\n",
              "      <th>3</th>\n",
              "      <th>4</th>\n",
              "      <th>5</th>\n",
              "      <th>6</th>\n",
              "      <th>7</th>\n",
              "      <th>8</th>\n",
              "      <th>9</th>\n",
              "      <th>...</th>\n",
              "      <th>118</th>\n",
              "      <th>119</th>\n",
              "      <th>120</th>\n",
              "      <th>121</th>\n",
              "      <th>122</th>\n",
              "      <th>123</th>\n",
              "      <th>124</th>\n",
              "      <th>125</th>\n",
              "      <th>126</th>\n",
              "      <th>127</th>\n",
              "    </tr>\n",
              "  </thead>\n",
              "  <tbody>\n",
              "    <tr>\n",
              "      <th>XC113545-C304_D01.mp3</th>\n",
              "      <td>-112.424644</td>\n",
              "      <td>3.669452</td>\n",
              "      <td>-9.344393</td>\n",
              "      <td>0.368146</td>\n",
              "      <td>-3.065483</td>\n",
              "      <td>1.477477</td>\n",
              "      <td>-1.491879</td>\n",
              "      <td>0.964105</td>\n",
              "      <td>-0.266210</td>\n",
              "      <td>0.842624</td>\n",
              "      <td>...</td>\n",
              "      <td>-9.344393</td>\n",
              "      <td>3.669452</td>\n",
              "      <td>-158.992456</td>\n",
              "      <td>3.669452</td>\n",
              "      <td>-9.344393</td>\n",
              "      <td>0.368146</td>\n",
              "      <td>-3.065483</td>\n",
              "      <td>1.477477</td>\n",
              "      <td>-1.491879</td>\n",
              "      <td>0.964105</td>\n",
              "    </tr>\n",
              "    <tr>\n",
              "      <th>XC113546-C5836_D02.mp3</th>\n",
              "      <td>-128.394095</td>\n",
              "      <td>-8.109159</td>\n",
              "      <td>1.643606</td>\n",
              "      <td>-1.721614</td>\n",
              "      <td>6.578285</td>\n",
              "      <td>3.668080</td>\n",
              "      <td>0.485831</td>\n",
              "      <td>3.190450</td>\n",
              "      <td>-0.613307</td>\n",
              "      <td>3.819558</td>\n",
              "      <td>...</td>\n",
              "      <td>1.643606</td>\n",
              "      <td>-8.109159</td>\n",
              "      <td>-181.576671</td>\n",
              "      <td>-8.109159</td>\n",
              "      <td>1.643606</td>\n",
              "      <td>-1.721614</td>\n",
              "      <td>6.578285</td>\n",
              "      <td>3.668080</td>\n",
              "      <td>0.485831</td>\n",
              "      <td>3.190450</td>\n",
              "    </tr>\n",
              "    <tr>\n",
              "      <th>XC113547-C357_D01.mp3</th>\n",
              "      <td>-177.510285</td>\n",
              "      <td>6.310285</td>\n",
              "      <td>-5.041636</td>\n",
              "      <td>4.860886</td>\n",
              "      <td>4.528932</td>\n",
              "      <td>5.786759</td>\n",
              "      <td>1.638032</td>\n",
              "      <td>1.464928</td>\n",
              "      <td>-0.909118</td>\n",
              "      <td>-0.938925</td>\n",
              "      <td>...</td>\n",
              "      <td>-5.041636</td>\n",
              "      <td>6.310285</td>\n",
              "      <td>-251.037452</td>\n",
              "      <td>6.310285</td>\n",
              "      <td>-5.041636</td>\n",
              "      <td>4.860886</td>\n",
              "      <td>4.528932</td>\n",
              "      <td>5.786759</td>\n",
              "      <td>1.638032</td>\n",
              "      <td>1.464928</td>\n",
              "    </tr>\n",
              "    <tr>\n",
              "      <th>XC113595-C320_D01.mp3</th>\n",
              "      <td>-112.160947</td>\n",
              "      <td>-5.193795</td>\n",
              "      <td>-2.644363</td>\n",
              "      <td>3.891338</td>\n",
              "      <td>-0.314010</td>\n",
              "      <td>5.532670</td>\n",
              "      <td>2.907106</td>\n",
              "      <td>1.701984</td>\n",
              "      <td>-1.736801</td>\n",
              "      <td>0.766902</td>\n",
              "      <td>...</td>\n",
              "      <td>-2.644363</td>\n",
              "      <td>-5.193795</td>\n",
              "      <td>-158.619533</td>\n",
              "      <td>-5.193795</td>\n",
              "      <td>-2.644363</td>\n",
              "      <td>3.891338</td>\n",
              "      <td>-0.314010</td>\n",
              "      <td>5.532670</td>\n",
              "      <td>2.907106</td>\n",
              "      <td>1.701984</td>\n",
              "    </tr>\n",
              "    <tr>\n",
              "      <th>XC113596-C3391_D01.mp3</th>\n",
              "      <td>-127.369801</td>\n",
              "      <td>0.443200</td>\n",
              "      <td>2.291995</td>\n",
              "      <td>12.806234</td>\n",
              "      <td>3.774709</td>\n",
              "      <td>5.318489</td>\n",
              "      <td>-0.867477</td>\n",
              "      <td>1.694896</td>\n",
              "      <td>-2.465154</td>\n",
              "      <td>-2.729120</td>\n",
              "      <td>...</td>\n",
              "      <td>2.291995</td>\n",
              "      <td>0.443200</td>\n",
              "      <td>-180.128100</td>\n",
              "      <td>0.443200</td>\n",
              "      <td>2.291995</td>\n",
              "      <td>12.806234</td>\n",
              "      <td>3.774709</td>\n",
              "      <td>5.318489</td>\n",
              "      <td>-0.867477</td>\n",
              "      <td>1.694896</td>\n",
              "    </tr>\n",
              "    <tr>\n",
              "      <th>...</th>\n",
              "      <td>...</td>\n",
              "      <td>...</td>\n",
              "      <td>...</td>\n",
              "      <td>...</td>\n",
              "      <td>...</td>\n",
              "      <td>...</td>\n",
              "      <td>...</td>\n",
              "      <td>...</td>\n",
              "      <td>...</td>\n",
              "      <td>...</td>\n",
              "      <td>...</td>\n",
              "      <td>...</td>\n",
              "      <td>...</td>\n",
              "      <td>...</td>\n",
              "      <td>...</td>\n",
              "      <td>...</td>\n",
              "      <td>...</td>\n",
              "      <td>...</td>\n",
              "      <td>...</td>\n",
              "      <td>...</td>\n",
              "      <td>...</td>\n",
              "    </tr>\n",
              "    <tr>\n",
              "      <th>XC893239-240331_026---Uropelia-campestris.mp3</th>\n",
              "      <td>-29.724795</td>\n",
              "      <td>10.480167</td>\n",
              "      <td>1.655632</td>\n",
              "      <td>2.572706</td>\n",
              "      <td>-20.258279</td>\n",
              "      <td>2.198067</td>\n",
              "      <td>-1.546303</td>\n",
              "      <td>-2.294621</td>\n",
              "      <td>6.821933</td>\n",
              "      <td>1.589022</td>\n",
              "      <td>...</td>\n",
              "      <td>1.655632</td>\n",
              "      <td>10.480167</td>\n",
              "      <td>-42.037208</td>\n",
              "      <td>10.480167</td>\n",
              "      <td>1.655632</td>\n",
              "      <td>2.572706</td>\n",
              "      <td>-20.258279</td>\n",
              "      <td>2.198067</td>\n",
              "      <td>-1.546303</td>\n",
              "      <td>-2.294621</td>\n",
              "    </tr>\n",
              "    <tr>\n",
              "      <th>XC893240-240331_028---Nannochordeiles-pusillus.mp3</th>\n",
              "      <td>-42.505570</td>\n",
              "      <td>4.456111</td>\n",
              "      <td>0.089331</td>\n",
              "      <td>21.211386</td>\n",
              "      <td>-5.221518</td>\n",
              "      <td>-0.914210</td>\n",
              "      <td>12.711053</td>\n",
              "      <td>-3.144217</td>\n",
              "      <td>1.786280</td>\n",
              "      <td>3.958931</td>\n",
              "      <td>...</td>\n",
              "      <td>0.089331</td>\n",
              "      <td>4.456111</td>\n",
              "      <td>-60.111953</td>\n",
              "      <td>4.456111</td>\n",
              "      <td>0.089331</td>\n",
              "      <td>21.211386</td>\n",
              "      <td>-5.221518</td>\n",
              "      <td>-0.914210</td>\n",
              "      <td>12.711053</td>\n",
              "      <td>-3.144217</td>\n",
              "    </tr>\n",
              "    <tr>\n",
              "      <th>XC899406-Habia-rubica_240428_1209.mp3</th>\n",
              "      <td>-inf</td>\n",
              "      <td>NaN</td>\n",
              "      <td>NaN</td>\n",
              "      <td>NaN</td>\n",
              "      <td>NaN</td>\n",
              "      <td>NaN</td>\n",
              "      <td>NaN</td>\n",
              "      <td>NaN</td>\n",
              "      <td>NaN</td>\n",
              "      <td>NaN</td>\n",
              "      <td>...</td>\n",
              "      <td>NaN</td>\n",
              "      <td>NaN</td>\n",
              "      <td>-inf</td>\n",
              "      <td>NaN</td>\n",
              "      <td>NaN</td>\n",
              "      <td>NaN</td>\n",
              "      <td>NaN</td>\n",
              "      <td>NaN</td>\n",
              "      <td>NaN</td>\n",
              "      <td>NaN</td>\n",
              "    </tr>\n",
              "    <tr>\n",
              "      <th>XC899409-Lepidothrix-coronata_240428_1212.mp3</th>\n",
              "      <td>-inf</td>\n",
              "      <td>NaN</td>\n",
              "      <td>NaN</td>\n",
              "      <td>NaN</td>\n",
              "      <td>NaN</td>\n",
              "      <td>NaN</td>\n",
              "      <td>NaN</td>\n",
              "      <td>NaN</td>\n",
              "      <td>NaN</td>\n",
              "      <td>NaN</td>\n",
              "      <td>...</td>\n",
              "      <td>NaN</td>\n",
              "      <td>NaN</td>\n",
              "      <td>-inf</td>\n",
              "      <td>NaN</td>\n",
              "      <td>NaN</td>\n",
              "      <td>NaN</td>\n",
              "      <td>NaN</td>\n",
              "      <td>NaN</td>\n",
              "      <td>NaN</td>\n",
              "      <td>NaN</td>\n",
              "    </tr>\n",
              "    <tr>\n",
              "      <th>XC899410-Lepidothrix-coronata_240428_1213.mp3</th>\n",
              "      <td>-37.251699</td>\n",
              "      <td>29.057045</td>\n",
              "      <td>-47.619733</td>\n",
              "      <td>10.653485</td>\n",
              "      <td>-8.686108</td>\n",
              "      <td>-1.146296</td>\n",
              "      <td>-1.508246</td>\n",
              "      <td>-5.189717</td>\n",
              "      <td>3.808773</td>\n",
              "      <td>-1.537890</td>\n",
              "      <td>...</td>\n",
              "      <td>-47.619733</td>\n",
              "      <td>29.057045</td>\n",
              "      <td>-52.681857</td>\n",
              "      <td>29.057045</td>\n",
              "      <td>-47.619733</td>\n",
              "      <td>10.653485</td>\n",
              "      <td>-8.686108</td>\n",
              "      <td>-1.146296</td>\n",
              "      <td>-1.508246</td>\n",
              "      <td>-5.189717</td>\n",
              "    </tr>\n",
              "  </tbody>\n",
              "</table>\n",
              "<p>3882 rows × 128 columns</p>\n",
              "</div>\n",
              "    <div class=\"colab-df-buttons\">\n",
              "\n",
              "  <div class=\"colab-df-container\">\n",
              "    <button class=\"colab-df-convert\" onclick=\"convertToInteractive('df-5a1416b7-f8f3-4066-b7bc-bef9a8b8e1da')\"\n",
              "            title=\"Convert this dataframe to an interactive table.\"\n",
              "            style=\"display:none;\">\n",
              "\n",
              "  <svg xmlns=\"http://www.w3.org/2000/svg\" height=\"24px\" viewBox=\"0 -960 960 960\">\n",
              "    <path d=\"M120-120v-720h720v720H120Zm60-500h600v-160H180v160Zm220 220h160v-160H400v160Zm0 220h160v-160H400v160ZM180-400h160v-160H180v160Zm440 0h160v-160H620v160ZM180-180h160v-160H180v160Zm440 0h160v-160H620v160Z\"/>\n",
              "  </svg>\n",
              "    </button>\n",
              "\n",
              "  <style>\n",
              "    .colab-df-container {\n",
              "      display:flex;\n",
              "      gap: 12px;\n",
              "    }\n",
              "\n",
              "    .colab-df-convert {\n",
              "      background-color: #E8F0FE;\n",
              "      border: none;\n",
              "      border-radius: 50%;\n",
              "      cursor: pointer;\n",
              "      display: none;\n",
              "      fill: #1967D2;\n",
              "      height: 32px;\n",
              "      padding: 0 0 0 0;\n",
              "      width: 32px;\n",
              "    }\n",
              "\n",
              "    .colab-df-convert:hover {\n",
              "      background-color: #E2EBFA;\n",
              "      box-shadow: 0px 1px 2px rgba(60, 64, 67, 0.3), 0px 1px 3px 1px rgba(60, 64, 67, 0.15);\n",
              "      fill: #174EA6;\n",
              "    }\n",
              "\n",
              "    .colab-df-buttons div {\n",
              "      margin-bottom: 4px;\n",
              "    }\n",
              "\n",
              "    [theme=dark] .colab-df-convert {\n",
              "      background-color: #3B4455;\n",
              "      fill: #D2E3FC;\n",
              "    }\n",
              "\n",
              "    [theme=dark] .colab-df-convert:hover {\n",
              "      background-color: #434B5C;\n",
              "      box-shadow: 0px 1px 3px 1px rgba(0, 0, 0, 0.15);\n",
              "      filter: drop-shadow(0px 1px 2px rgba(0, 0, 0, 0.3));\n",
              "      fill: #FFFFFF;\n",
              "    }\n",
              "  </style>\n",
              "\n",
              "    <script>\n",
              "      const buttonEl =\n",
              "        document.querySelector('#df-5a1416b7-f8f3-4066-b7bc-bef9a8b8e1da button.colab-df-convert');\n",
              "      buttonEl.style.display =\n",
              "        google.colab.kernel.accessAllowed ? 'block' : 'none';\n",
              "\n",
              "      async function convertToInteractive(key) {\n",
              "        const element = document.querySelector('#df-5a1416b7-f8f3-4066-b7bc-bef9a8b8e1da');\n",
              "        const dataTable =\n",
              "          await google.colab.kernel.invokeFunction('convertToInteractive',\n",
              "                                                    [key], {});\n",
              "        if (!dataTable) return;\n",
              "\n",
              "        const docLinkHtml = 'Like what you see? Visit the ' +\n",
              "          '<a target=\"_blank\" href=https://colab.research.google.com/notebooks/data_table.ipynb>data table notebook</a>'\n",
              "          + ' to learn more about interactive tables.';\n",
              "        element.innerHTML = '';\n",
              "        dataTable['output_type'] = 'display_data';\n",
              "        await google.colab.output.renderOutput(dataTable, element);\n",
              "        const docLink = document.createElement('div');\n",
              "        docLink.innerHTML = docLinkHtml;\n",
              "        element.appendChild(docLink);\n",
              "      }\n",
              "    </script>\n",
              "  </div>\n",
              "\n",
              "\n",
              "<div id=\"df-5e3f4b06-bcbc-4e8c-8e8b-7b2836abbfa1\">\n",
              "  <button class=\"colab-df-quickchart\" onclick=\"quickchart('df-5e3f4b06-bcbc-4e8c-8e8b-7b2836abbfa1')\"\n",
              "            title=\"Suggest charts\"\n",
              "            style=\"display:none;\">\n",
              "\n",
              "<svg xmlns=\"http://www.w3.org/2000/svg\" height=\"24px\"viewBox=\"0 0 24 24\"\n",
              "     width=\"24px\">\n",
              "    <g>\n",
              "        <path d=\"M19 3H5c-1.1 0-2 .9-2 2v14c0 1.1.9 2 2 2h14c1.1 0 2-.9 2-2V5c0-1.1-.9-2-2-2zM9 17H7v-7h2v7zm4 0h-2V7h2v10zm4 0h-2v-4h2v4z\"/>\n",
              "    </g>\n",
              "</svg>\n",
              "  </button>\n",
              "\n",
              "<style>\n",
              "  .colab-df-quickchart {\n",
              "      --bg-color: #E8F0FE;\n",
              "      --fill-color: #1967D2;\n",
              "      --hover-bg-color: #E2EBFA;\n",
              "      --hover-fill-color: #174EA6;\n",
              "      --disabled-fill-color: #AAA;\n",
              "      --disabled-bg-color: #DDD;\n",
              "  }\n",
              "\n",
              "  [theme=dark] .colab-df-quickchart {\n",
              "      --bg-color: #3B4455;\n",
              "      --fill-color: #D2E3FC;\n",
              "      --hover-bg-color: #434B5C;\n",
              "      --hover-fill-color: #FFFFFF;\n",
              "      --disabled-bg-color: #3B4455;\n",
              "      --disabled-fill-color: #666;\n",
              "  }\n",
              "\n",
              "  .colab-df-quickchart {\n",
              "    background-color: var(--bg-color);\n",
              "    border: none;\n",
              "    border-radius: 50%;\n",
              "    cursor: pointer;\n",
              "    display: none;\n",
              "    fill: var(--fill-color);\n",
              "    height: 32px;\n",
              "    padding: 0;\n",
              "    width: 32px;\n",
              "  }\n",
              "\n",
              "  .colab-df-quickchart:hover {\n",
              "    background-color: var(--hover-bg-color);\n",
              "    box-shadow: 0 1px 2px rgba(60, 64, 67, 0.3), 0 1px 3px 1px rgba(60, 64, 67, 0.15);\n",
              "    fill: var(--button-hover-fill-color);\n",
              "  }\n",
              "\n",
              "  .colab-df-quickchart-complete:disabled,\n",
              "  .colab-df-quickchart-complete:disabled:hover {\n",
              "    background-color: var(--disabled-bg-color);\n",
              "    fill: var(--disabled-fill-color);\n",
              "    box-shadow: none;\n",
              "  }\n",
              "\n",
              "  .colab-df-spinner {\n",
              "    border: 2px solid var(--fill-color);\n",
              "    border-color: transparent;\n",
              "    border-bottom-color: var(--fill-color);\n",
              "    animation:\n",
              "      spin 1s steps(1) infinite;\n",
              "  }\n",
              "\n",
              "  @keyframes spin {\n",
              "    0% {\n",
              "      border-color: transparent;\n",
              "      border-bottom-color: var(--fill-color);\n",
              "      border-left-color: var(--fill-color);\n",
              "    }\n",
              "    20% {\n",
              "      border-color: transparent;\n",
              "      border-left-color: var(--fill-color);\n",
              "      border-top-color: var(--fill-color);\n",
              "    }\n",
              "    30% {\n",
              "      border-color: transparent;\n",
              "      border-left-color: var(--fill-color);\n",
              "      border-top-color: var(--fill-color);\n",
              "      border-right-color: var(--fill-color);\n",
              "    }\n",
              "    40% {\n",
              "      border-color: transparent;\n",
              "      border-right-color: var(--fill-color);\n",
              "      border-top-color: var(--fill-color);\n",
              "    }\n",
              "    60% {\n",
              "      border-color: transparent;\n",
              "      border-right-color: var(--fill-color);\n",
              "    }\n",
              "    80% {\n",
              "      border-color: transparent;\n",
              "      border-right-color: var(--fill-color);\n",
              "      border-bottom-color: var(--fill-color);\n",
              "    }\n",
              "    90% {\n",
              "      border-color: transparent;\n",
              "      border-bottom-color: var(--fill-color);\n",
              "    }\n",
              "  }\n",
              "</style>\n",
              "\n",
              "  <script>\n",
              "    async function quickchart(key) {\n",
              "      const quickchartButtonEl =\n",
              "        document.querySelector('#' + key + ' button');\n",
              "      quickchartButtonEl.disabled = true;  // To prevent multiple clicks.\n",
              "      quickchartButtonEl.classList.add('colab-df-spinner');\n",
              "      try {\n",
              "        const charts = await google.colab.kernel.invokeFunction(\n",
              "            'suggestCharts', [key], {});\n",
              "      } catch (error) {\n",
              "        console.error('Error during call to suggestCharts:', error);\n",
              "      }\n",
              "      quickchartButtonEl.classList.remove('colab-df-spinner');\n",
              "      quickchartButtonEl.classList.add('colab-df-quickchart-complete');\n",
              "    }\n",
              "    (() => {\n",
              "      let quickchartButtonEl =\n",
              "        document.querySelector('#df-5e3f4b06-bcbc-4e8c-8e8b-7b2836abbfa1 button');\n",
              "      quickchartButtonEl.style.display =\n",
              "        google.colab.kernel.accessAllowed ? 'block' : 'none';\n",
              "    })();\n",
              "  </script>\n",
              "</div>\n",
              "    </div>\n",
              "  </div>\n"
            ],
            "application/vnd.google.colaboratory.intrinsic+json": {
              "type": "dataframe",
              "variable_name": "df"
            }
          },
          "metadata": {},
          "execution_count": 34
        }
      ]
    },
    {
      "cell_type": "code",
      "source": [
        "df = df.dropna()"
      ],
      "metadata": {
        "id": "UCI04e-cY_AB"
      },
      "execution_count": null,
      "outputs": []
    },
    {
      "cell_type": "code",
      "source": [
        "%cd .."
      ],
      "metadata": {
        "colab": {
          "base_uri": "https://localhost:8080/"
        },
        "id": "qZ4hAjF8a2WW",
        "outputId": "a69dab17-adc0-42d9-cbff-a209c19f8ea5"
      },
      "execution_count": null,
      "outputs": [
        {
          "output_type": "stream",
          "name": "stdout",
          "text": [
            "/content\n"
          ]
        }
      ]
    },
    {
      "cell_type": "code",
      "source": [
        "df.to_csv('bird_songs_128_dim.csv')"
      ],
      "metadata": {
        "id": "kiI8NQ-SZUCF"
      },
      "execution_count": null,
      "outputs": []
    },
    {
      "cell_type": "code",
      "source": [],
      "metadata": {
        "id": "tnkTiryapg4F"
      },
      "execution_count": null,
      "outputs": []
    },
    {
      "cell_type": "markdown",
      "source": [
        "# **Computing the 3D Embedding of Each Song**\n",
        "From the 128-dimensional MFCC representations, we use UMAP to first reduce the space to 64 dimensions, and then UMAP again to reduce the space to 3 dimensions."
      ],
      "metadata": {
        "id": "sALgb2WnHIEh"
      }
    },
    {
      "cell_type": "code",
      "source": [
        "!pip install umap-learn"
      ],
      "metadata": {
        "colab": {
          "base_uri": "https://localhost:8080/"
        },
        "id": "TWnI2FVbIhdQ",
        "outputId": "b2e5c4c4-f643-40e4-ef70-d23c37bff688"
      },
      "execution_count": null,
      "outputs": [
        {
          "output_type": "stream",
          "name": "stdout",
          "text": [
            "Requirement already satisfied: umap-learn in /usr/local/lib/python3.10/dist-packages (0.5.6)\n",
            "Requirement already satisfied: numpy>=1.17 in /usr/local/lib/python3.10/dist-packages (from umap-learn) (1.25.2)\n",
            "Requirement already satisfied: scipy>=1.3.1 in /usr/local/lib/python3.10/dist-packages (from umap-learn) (1.11.4)\n",
            "Requirement already satisfied: scikit-learn>=0.22 in /usr/local/lib/python3.10/dist-packages (from umap-learn) (1.2.2)\n",
            "Requirement already satisfied: numba>=0.51.2 in /usr/local/lib/python3.10/dist-packages (from umap-learn) (0.58.1)\n",
            "Requirement already satisfied: pynndescent>=0.5 in /usr/local/lib/python3.10/dist-packages (from umap-learn) (0.5.12)\n",
            "Requirement already satisfied: tqdm in /usr/local/lib/python3.10/dist-packages (from umap-learn) (4.66.4)\n",
            "Requirement already satisfied: llvmlite<0.42,>=0.41.0dev0 in /usr/local/lib/python3.10/dist-packages (from numba>=0.51.2->umap-learn) (0.41.1)\n",
            "Requirement already satisfied: joblib>=0.11 in /usr/local/lib/python3.10/dist-packages (from pynndescent>=0.5->umap-learn) (1.4.2)\n",
            "Requirement already satisfied: threadpoolctl>=2.0.0 in /usr/local/lib/python3.10/dist-packages (from scikit-learn>=0.22->umap-learn) (3.5.0)\n"
          ]
        }
      ]
    },
    {
      "cell_type": "code",
      "source": [
        "import numpy as np\n",
        "import pandas as pd\n",
        "import umap\n",
        "from sklearn.preprocessing import StandardScaler"
      ],
      "metadata": {
        "id": "hXNFnD1PHwNc"
      },
      "execution_count": null,
      "outputs": []
    },
    {
      "cell_type": "code",
      "source": [
        "df = pd.read_csv('/content/bird_songs_128_dim.csv')\n",
        "df.set_index('Unnamed: 0', inplace = True)\n",
        "df.index.names = ['Song']\n",
        "df"
      ],
      "metadata": {
        "colab": {
          "base_uri": "https://localhost:8080/",
          "height": 631
        },
        "id": "-UVuxLcoIcjT",
        "outputId": "bd1f0500-22b2-485d-8e18-0116549e1ce2"
      },
      "execution_count": null,
      "outputs": [
        {
          "output_type": "execute_result",
          "data": {
            "text/plain": [
              "                                                             0          1  \\\n",
              "Song                                                                        \n",
              "XC113545-C304_D01.mp3                              -112.424644   3.669452   \n",
              "XC113546-C5836_D02.mp3                             -128.394095  -8.109159   \n",
              "XC113547-C357_D01.mp3                              -177.510285   6.310285   \n",
              "XC113595-C320_D01.mp3                              -112.160947  -5.193795   \n",
              "XC113596-C3391_D01.mp3                             -127.369801   0.443200   \n",
              "...                                                        ...        ...   \n",
              "XC881589-Heterocercus-aurantiivertex-Rp-Matamat... -212.563753   3.730505   \n",
              "XC893238-240331_020---Cypsnagra-hirundinacea.mp3    -57.340640  27.955354   \n",
              "XC893239-240331_026---Uropelia-campestris.mp3       -29.724795  10.480167   \n",
              "XC893240-240331_028---Nannochordeiles-pusillus.mp3  -42.505570   4.456111   \n",
              "XC899410-Lepidothrix-coronata_240428_1213.mp3       -37.251699  29.057045   \n",
              "\n",
              "                                                            2          3  \\\n",
              "Song                                                                       \n",
              "XC113545-C304_D01.mp3                               -9.344393   0.368146   \n",
              "XC113546-C5836_D02.mp3                               1.643606  -1.721614   \n",
              "XC113547-C357_D01.mp3                               -5.041636   4.860886   \n",
              "XC113595-C320_D01.mp3                               -2.644363   3.891338   \n",
              "XC113596-C3391_D01.mp3                               2.291995  12.806234   \n",
              "...                                                       ...        ...   \n",
              "XC881589-Heterocercus-aurantiivertex-Rp-Matamat...  -3.693060   5.048624   \n",
              "XC893238-240331_020---Cypsnagra-hirundinacea.mp3   -12.910790  -6.234510   \n",
              "XC893239-240331_026---Uropelia-campestris.mp3        1.655632   2.572706   \n",
              "XC893240-240331_028---Nannochordeiles-pusillus.mp3   0.089331  21.211386   \n",
              "XC899410-Lepidothrix-coronata_240428_1213.mp3      -47.619733  10.653485   \n",
              "\n",
              "                                                            4         5  \\\n",
              "Song                                                                      \n",
              "XC113545-C304_D01.mp3                               -3.065483  1.477477   \n",
              "XC113546-C5836_D02.mp3                               6.578285  3.668080   \n",
              "XC113547-C357_D01.mp3                                4.528932  5.786759   \n",
              "XC113595-C320_D01.mp3                               -0.314010  5.532670   \n",
              "XC113596-C3391_D01.mp3                               3.774709  5.318489   \n",
              "...                                                       ...       ...   \n",
              "XC881589-Heterocercus-aurantiivertex-Rp-Matamat...  -3.399513  2.554230   \n",
              "XC893238-240331_020---Cypsnagra-hirundinacea.mp3     6.264205  6.438175   \n",
              "XC893239-240331_026---Uropelia-campestris.mp3      -20.258279  2.198067   \n",
              "XC893240-240331_028---Nannochordeiles-pusillus.mp3  -5.221518 -0.914210   \n",
              "XC899410-Lepidothrix-coronata_240428_1213.mp3       -8.686108 -1.146296   \n",
              "\n",
              "                                                            6         7  \\\n",
              "Song                                                                      \n",
              "XC113545-C304_D01.mp3                               -1.491879  0.964105   \n",
              "XC113546-C5836_D02.mp3                               0.485831  3.190450   \n",
              "XC113547-C357_D01.mp3                                1.638032  1.464928   \n",
              "XC113595-C320_D01.mp3                                2.907106  1.701984   \n",
              "XC113596-C3391_D01.mp3                              -0.867477  1.694896   \n",
              "...                                                       ...       ...   \n",
              "XC881589-Heterocercus-aurantiivertex-Rp-Matamat...   0.825179 -1.761160   \n",
              "XC893238-240331_020---Cypsnagra-hirundinacea.mp3    -5.527638 -9.225220   \n",
              "XC893239-240331_026---Uropelia-campestris.mp3       -1.546303 -2.294621   \n",
              "XC893240-240331_028---Nannochordeiles-pusillus.mp3  12.711053 -3.144217   \n",
              "XC899410-Lepidothrix-coronata_240428_1213.mp3       -1.508246 -5.189717   \n",
              "\n",
              "                                                           8         9  ...  \\\n",
              "Song                                                                    ...   \n",
              "XC113545-C304_D01.mp3                              -0.266210  0.842624  ...   \n",
              "XC113546-C5836_D02.mp3                             -0.613307  3.819558  ...   \n",
              "XC113547-C357_D01.mp3                              -0.909118 -0.938925  ...   \n",
              "XC113595-C320_D01.mp3                              -1.736801  0.766902  ...   \n",
              "XC113596-C3391_D01.mp3                             -2.465154 -2.729120  ...   \n",
              "...                                                      ...       ...  ...   \n",
              "XC881589-Heterocercus-aurantiivertex-Rp-Matamat... -0.799665 -1.368757  ...   \n",
              "XC893238-240331_020---Cypsnagra-hirundinacea.mp3   -1.322847 -3.246689  ...   \n",
              "XC893239-240331_026---Uropelia-campestris.mp3       6.821933  1.589022  ...   \n",
              "XC893240-240331_028---Nannochordeiles-pusillus.mp3  1.786280  3.958931  ...   \n",
              "XC899410-Lepidothrix-coronata_240428_1213.mp3       3.808773 -1.537890  ...   \n",
              "\n",
              "                                                          118        119  \\\n",
              "Song                                                                       \n",
              "XC113545-C304_D01.mp3                               -9.344393   3.669452   \n",
              "XC113546-C5836_D02.mp3                               1.643606  -8.109159   \n",
              "XC113547-C357_D01.mp3                               -5.041636   6.310285   \n",
              "XC113595-C320_D01.mp3                               -2.644363  -5.193795   \n",
              "XC113596-C3391_D01.mp3                               2.291995   0.443200   \n",
              "...                                                       ...        ...   \n",
              "XC881589-Heterocercus-aurantiivertex-Rp-Matamat...  -3.693060   3.730505   \n",
              "XC893238-240331_020---Cypsnagra-hirundinacea.mp3   -12.910790  27.955354   \n",
              "XC893239-240331_026---Uropelia-campestris.mp3        1.655632  10.480167   \n",
              "XC893240-240331_028---Nannochordeiles-pusillus.mp3   0.089331   4.456111   \n",
              "XC899410-Lepidothrix-coronata_240428_1213.mp3      -47.619733  29.057045   \n",
              "\n",
              "                                                           120        121  \\\n",
              "Song                                                                        \n",
              "XC113545-C304_D01.mp3                              -158.992456   3.669452   \n",
              "XC113546-C5836_D02.mp3                             -181.576671  -8.109159   \n",
              "XC113547-C357_D01.mp3                              -251.037452   6.310285   \n",
              "XC113595-C320_D01.mp3                              -158.619533  -5.193795   \n",
              "XC113596-C3391_D01.mp3                             -180.128100   0.443200   \n",
              "...                                                        ...        ...   \n",
              "XC881589-Heterocercus-aurantiivertex-Rp-Matamat... -300.610542   3.730505   \n",
              "XC893238-240331_020---Cypsnagra-hirundinacea.mp3    -81.091910  27.955354   \n",
              "XC893239-240331_026---Uropelia-campestris.mp3       -42.037208  10.480167   \n",
              "XC893240-240331_028---Nannochordeiles-pusillus.mp3  -60.111953   4.456111   \n",
              "XC899410-Lepidothrix-coronata_240428_1213.mp3       -52.681857  29.057045   \n",
              "\n",
              "                                                          122        123  \\\n",
              "Song                                                                       \n",
              "XC113545-C304_D01.mp3                               -9.344393   0.368146   \n",
              "XC113546-C5836_D02.mp3                               1.643606  -1.721614   \n",
              "XC113547-C357_D01.mp3                               -5.041636   4.860886   \n",
              "XC113595-C320_D01.mp3                               -2.644363   3.891338   \n",
              "XC113596-C3391_D01.mp3                               2.291995  12.806234   \n",
              "...                                                       ...        ...   \n",
              "XC881589-Heterocercus-aurantiivertex-Rp-Matamat...  -3.693060   5.048624   \n",
              "XC893238-240331_020---Cypsnagra-hirundinacea.mp3   -12.910790  -6.234510   \n",
              "XC893239-240331_026---Uropelia-campestris.mp3        1.655632   2.572706   \n",
              "XC893240-240331_028---Nannochordeiles-pusillus.mp3   0.089331  21.211386   \n",
              "XC899410-Lepidothrix-coronata_240428_1213.mp3      -47.619733  10.653485   \n",
              "\n",
              "                                                          124       125  \\\n",
              "Song                                                                      \n",
              "XC113545-C304_D01.mp3                               -3.065483  1.477477   \n",
              "XC113546-C5836_D02.mp3                               6.578285  3.668080   \n",
              "XC113547-C357_D01.mp3                                4.528932  5.786759   \n",
              "XC113595-C320_D01.mp3                               -0.314010  5.532670   \n",
              "XC113596-C3391_D01.mp3                               3.774709  5.318489   \n",
              "...                                                       ...       ...   \n",
              "XC881589-Heterocercus-aurantiivertex-Rp-Matamat...  -3.399513  2.554230   \n",
              "XC893238-240331_020---Cypsnagra-hirundinacea.mp3     6.264205  6.438175   \n",
              "XC893239-240331_026---Uropelia-campestris.mp3      -20.258279  2.198067   \n",
              "XC893240-240331_028---Nannochordeiles-pusillus.mp3  -5.221518 -0.914210   \n",
              "XC899410-Lepidothrix-coronata_240428_1213.mp3       -8.686108 -1.146296   \n",
              "\n",
              "                                                          126       127  \n",
              "Song                                                                     \n",
              "XC113545-C304_D01.mp3                               -1.491879  0.964105  \n",
              "XC113546-C5836_D02.mp3                               0.485831  3.190450  \n",
              "XC113547-C357_D01.mp3                                1.638032  1.464928  \n",
              "XC113595-C320_D01.mp3                                2.907106  1.701984  \n",
              "XC113596-C3391_D01.mp3                              -0.867477  1.694896  \n",
              "...                                                       ...       ...  \n",
              "XC881589-Heterocercus-aurantiivertex-Rp-Matamat...   0.825179 -1.761160  \n",
              "XC893238-240331_020---Cypsnagra-hirundinacea.mp3    -5.527638 -9.225220  \n",
              "XC893239-240331_026---Uropelia-campestris.mp3       -1.546303 -2.294621  \n",
              "XC893240-240331_028---Nannochordeiles-pusillus.mp3  12.711053 -3.144217  \n",
              "XC899410-Lepidothrix-coronata_240428_1213.mp3       -1.508246 -5.189717  \n",
              "\n",
              "[3452 rows x 128 columns]"
            ],
            "text/html": [
              "\n",
              "  <div id=\"df-f339f383-6242-4996-9881-9e9c90322e78\" class=\"colab-df-container\">\n",
              "    <div>\n",
              "<style scoped>\n",
              "    .dataframe tbody tr th:only-of-type {\n",
              "        vertical-align: middle;\n",
              "    }\n",
              "\n",
              "    .dataframe tbody tr th {\n",
              "        vertical-align: top;\n",
              "    }\n",
              "\n",
              "    .dataframe thead th {\n",
              "        text-align: right;\n",
              "    }\n",
              "</style>\n",
              "<table border=\"1\" class=\"dataframe\">\n",
              "  <thead>\n",
              "    <tr style=\"text-align: right;\">\n",
              "      <th></th>\n",
              "      <th>0</th>\n",
              "      <th>1</th>\n",
              "      <th>2</th>\n",
              "      <th>3</th>\n",
              "      <th>4</th>\n",
              "      <th>5</th>\n",
              "      <th>6</th>\n",
              "      <th>7</th>\n",
              "      <th>8</th>\n",
              "      <th>9</th>\n",
              "      <th>...</th>\n",
              "      <th>118</th>\n",
              "      <th>119</th>\n",
              "      <th>120</th>\n",
              "      <th>121</th>\n",
              "      <th>122</th>\n",
              "      <th>123</th>\n",
              "      <th>124</th>\n",
              "      <th>125</th>\n",
              "      <th>126</th>\n",
              "      <th>127</th>\n",
              "    </tr>\n",
              "    <tr>\n",
              "      <th>Song</th>\n",
              "      <th></th>\n",
              "      <th></th>\n",
              "      <th></th>\n",
              "      <th></th>\n",
              "      <th></th>\n",
              "      <th></th>\n",
              "      <th></th>\n",
              "      <th></th>\n",
              "      <th></th>\n",
              "      <th></th>\n",
              "      <th></th>\n",
              "      <th></th>\n",
              "      <th></th>\n",
              "      <th></th>\n",
              "      <th></th>\n",
              "      <th></th>\n",
              "      <th></th>\n",
              "      <th></th>\n",
              "      <th></th>\n",
              "      <th></th>\n",
              "      <th></th>\n",
              "    </tr>\n",
              "  </thead>\n",
              "  <tbody>\n",
              "    <tr>\n",
              "      <th>XC113545-C304_D01.mp3</th>\n",
              "      <td>-112.424644</td>\n",
              "      <td>3.669452</td>\n",
              "      <td>-9.344393</td>\n",
              "      <td>0.368146</td>\n",
              "      <td>-3.065483</td>\n",
              "      <td>1.477477</td>\n",
              "      <td>-1.491879</td>\n",
              "      <td>0.964105</td>\n",
              "      <td>-0.266210</td>\n",
              "      <td>0.842624</td>\n",
              "      <td>...</td>\n",
              "      <td>-9.344393</td>\n",
              "      <td>3.669452</td>\n",
              "      <td>-158.992456</td>\n",
              "      <td>3.669452</td>\n",
              "      <td>-9.344393</td>\n",
              "      <td>0.368146</td>\n",
              "      <td>-3.065483</td>\n",
              "      <td>1.477477</td>\n",
              "      <td>-1.491879</td>\n",
              "      <td>0.964105</td>\n",
              "    </tr>\n",
              "    <tr>\n",
              "      <th>XC113546-C5836_D02.mp3</th>\n",
              "      <td>-128.394095</td>\n",
              "      <td>-8.109159</td>\n",
              "      <td>1.643606</td>\n",
              "      <td>-1.721614</td>\n",
              "      <td>6.578285</td>\n",
              "      <td>3.668080</td>\n",
              "      <td>0.485831</td>\n",
              "      <td>3.190450</td>\n",
              "      <td>-0.613307</td>\n",
              "      <td>3.819558</td>\n",
              "      <td>...</td>\n",
              "      <td>1.643606</td>\n",
              "      <td>-8.109159</td>\n",
              "      <td>-181.576671</td>\n",
              "      <td>-8.109159</td>\n",
              "      <td>1.643606</td>\n",
              "      <td>-1.721614</td>\n",
              "      <td>6.578285</td>\n",
              "      <td>3.668080</td>\n",
              "      <td>0.485831</td>\n",
              "      <td>3.190450</td>\n",
              "    </tr>\n",
              "    <tr>\n",
              "      <th>XC113547-C357_D01.mp3</th>\n",
              "      <td>-177.510285</td>\n",
              "      <td>6.310285</td>\n",
              "      <td>-5.041636</td>\n",
              "      <td>4.860886</td>\n",
              "      <td>4.528932</td>\n",
              "      <td>5.786759</td>\n",
              "      <td>1.638032</td>\n",
              "      <td>1.464928</td>\n",
              "      <td>-0.909118</td>\n",
              "      <td>-0.938925</td>\n",
              "      <td>...</td>\n",
              "      <td>-5.041636</td>\n",
              "      <td>6.310285</td>\n",
              "      <td>-251.037452</td>\n",
              "      <td>6.310285</td>\n",
              "      <td>-5.041636</td>\n",
              "      <td>4.860886</td>\n",
              "      <td>4.528932</td>\n",
              "      <td>5.786759</td>\n",
              "      <td>1.638032</td>\n",
              "      <td>1.464928</td>\n",
              "    </tr>\n",
              "    <tr>\n",
              "      <th>XC113595-C320_D01.mp3</th>\n",
              "      <td>-112.160947</td>\n",
              "      <td>-5.193795</td>\n",
              "      <td>-2.644363</td>\n",
              "      <td>3.891338</td>\n",
              "      <td>-0.314010</td>\n",
              "      <td>5.532670</td>\n",
              "      <td>2.907106</td>\n",
              "      <td>1.701984</td>\n",
              "      <td>-1.736801</td>\n",
              "      <td>0.766902</td>\n",
              "      <td>...</td>\n",
              "      <td>-2.644363</td>\n",
              "      <td>-5.193795</td>\n",
              "      <td>-158.619533</td>\n",
              "      <td>-5.193795</td>\n",
              "      <td>-2.644363</td>\n",
              "      <td>3.891338</td>\n",
              "      <td>-0.314010</td>\n",
              "      <td>5.532670</td>\n",
              "      <td>2.907106</td>\n",
              "      <td>1.701984</td>\n",
              "    </tr>\n",
              "    <tr>\n",
              "      <th>XC113596-C3391_D01.mp3</th>\n",
              "      <td>-127.369801</td>\n",
              "      <td>0.443200</td>\n",
              "      <td>2.291995</td>\n",
              "      <td>12.806234</td>\n",
              "      <td>3.774709</td>\n",
              "      <td>5.318489</td>\n",
              "      <td>-0.867477</td>\n",
              "      <td>1.694896</td>\n",
              "      <td>-2.465154</td>\n",
              "      <td>-2.729120</td>\n",
              "      <td>...</td>\n",
              "      <td>2.291995</td>\n",
              "      <td>0.443200</td>\n",
              "      <td>-180.128100</td>\n",
              "      <td>0.443200</td>\n",
              "      <td>2.291995</td>\n",
              "      <td>12.806234</td>\n",
              "      <td>3.774709</td>\n",
              "      <td>5.318489</td>\n",
              "      <td>-0.867477</td>\n",
              "      <td>1.694896</td>\n",
              "    </tr>\n",
              "    <tr>\n",
              "      <th>...</th>\n",
              "      <td>...</td>\n",
              "      <td>...</td>\n",
              "      <td>...</td>\n",
              "      <td>...</td>\n",
              "      <td>...</td>\n",
              "      <td>...</td>\n",
              "      <td>...</td>\n",
              "      <td>...</td>\n",
              "      <td>...</td>\n",
              "      <td>...</td>\n",
              "      <td>...</td>\n",
              "      <td>...</td>\n",
              "      <td>...</td>\n",
              "      <td>...</td>\n",
              "      <td>...</td>\n",
              "      <td>...</td>\n",
              "      <td>...</td>\n",
              "      <td>...</td>\n",
              "      <td>...</td>\n",
              "      <td>...</td>\n",
              "      <td>...</td>\n",
              "    </tr>\n",
              "    <tr>\n",
              "      <th>XC881589-Heterocercus-aurantiivertex-Rp-Matamata-29022024-HDA.mp3</th>\n",
              "      <td>-212.563753</td>\n",
              "      <td>3.730505</td>\n",
              "      <td>-3.693060</td>\n",
              "      <td>5.048624</td>\n",
              "      <td>-3.399513</td>\n",
              "      <td>2.554230</td>\n",
              "      <td>0.825179</td>\n",
              "      <td>-1.761160</td>\n",
              "      <td>-0.799665</td>\n",
              "      <td>-1.368757</td>\n",
              "      <td>...</td>\n",
              "      <td>-3.693060</td>\n",
              "      <td>3.730505</td>\n",
              "      <td>-300.610542</td>\n",
              "      <td>3.730505</td>\n",
              "      <td>-3.693060</td>\n",
              "      <td>5.048624</td>\n",
              "      <td>-3.399513</td>\n",
              "      <td>2.554230</td>\n",
              "      <td>0.825179</td>\n",
              "      <td>-1.761160</td>\n",
              "    </tr>\n",
              "    <tr>\n",
              "      <th>XC893238-240331_020---Cypsnagra-hirundinacea.mp3</th>\n",
              "      <td>-57.340640</td>\n",
              "      <td>27.955354</td>\n",
              "      <td>-12.910790</td>\n",
              "      <td>-6.234510</td>\n",
              "      <td>6.264205</td>\n",
              "      <td>6.438175</td>\n",
              "      <td>-5.527638</td>\n",
              "      <td>-9.225220</td>\n",
              "      <td>-1.322847</td>\n",
              "      <td>-3.246689</td>\n",
              "      <td>...</td>\n",
              "      <td>-12.910790</td>\n",
              "      <td>27.955354</td>\n",
              "      <td>-81.091910</td>\n",
              "      <td>27.955354</td>\n",
              "      <td>-12.910790</td>\n",
              "      <td>-6.234510</td>\n",
              "      <td>6.264205</td>\n",
              "      <td>6.438175</td>\n",
              "      <td>-5.527638</td>\n",
              "      <td>-9.225220</td>\n",
              "    </tr>\n",
              "    <tr>\n",
              "      <th>XC893239-240331_026---Uropelia-campestris.mp3</th>\n",
              "      <td>-29.724795</td>\n",
              "      <td>10.480167</td>\n",
              "      <td>1.655632</td>\n",
              "      <td>2.572706</td>\n",
              "      <td>-20.258279</td>\n",
              "      <td>2.198067</td>\n",
              "      <td>-1.546303</td>\n",
              "      <td>-2.294621</td>\n",
              "      <td>6.821933</td>\n",
              "      <td>1.589022</td>\n",
              "      <td>...</td>\n",
              "      <td>1.655632</td>\n",
              "      <td>10.480167</td>\n",
              "      <td>-42.037208</td>\n",
              "      <td>10.480167</td>\n",
              "      <td>1.655632</td>\n",
              "      <td>2.572706</td>\n",
              "      <td>-20.258279</td>\n",
              "      <td>2.198067</td>\n",
              "      <td>-1.546303</td>\n",
              "      <td>-2.294621</td>\n",
              "    </tr>\n",
              "    <tr>\n",
              "      <th>XC893240-240331_028---Nannochordeiles-pusillus.mp3</th>\n",
              "      <td>-42.505570</td>\n",
              "      <td>4.456111</td>\n",
              "      <td>0.089331</td>\n",
              "      <td>21.211386</td>\n",
              "      <td>-5.221518</td>\n",
              "      <td>-0.914210</td>\n",
              "      <td>12.711053</td>\n",
              "      <td>-3.144217</td>\n",
              "      <td>1.786280</td>\n",
              "      <td>3.958931</td>\n",
              "      <td>...</td>\n",
              "      <td>0.089331</td>\n",
              "      <td>4.456111</td>\n",
              "      <td>-60.111953</td>\n",
              "      <td>4.456111</td>\n",
              "      <td>0.089331</td>\n",
              "      <td>21.211386</td>\n",
              "      <td>-5.221518</td>\n",
              "      <td>-0.914210</td>\n",
              "      <td>12.711053</td>\n",
              "      <td>-3.144217</td>\n",
              "    </tr>\n",
              "    <tr>\n",
              "      <th>XC899410-Lepidothrix-coronata_240428_1213.mp3</th>\n",
              "      <td>-37.251699</td>\n",
              "      <td>29.057045</td>\n",
              "      <td>-47.619733</td>\n",
              "      <td>10.653485</td>\n",
              "      <td>-8.686108</td>\n",
              "      <td>-1.146296</td>\n",
              "      <td>-1.508246</td>\n",
              "      <td>-5.189717</td>\n",
              "      <td>3.808773</td>\n",
              "      <td>-1.537890</td>\n",
              "      <td>...</td>\n",
              "      <td>-47.619733</td>\n",
              "      <td>29.057045</td>\n",
              "      <td>-52.681857</td>\n",
              "      <td>29.057045</td>\n",
              "      <td>-47.619733</td>\n",
              "      <td>10.653485</td>\n",
              "      <td>-8.686108</td>\n",
              "      <td>-1.146296</td>\n",
              "      <td>-1.508246</td>\n",
              "      <td>-5.189717</td>\n",
              "    </tr>\n",
              "  </tbody>\n",
              "</table>\n",
              "<p>3452 rows × 128 columns</p>\n",
              "</div>\n",
              "    <div class=\"colab-df-buttons\">\n",
              "\n",
              "  <div class=\"colab-df-container\">\n",
              "    <button class=\"colab-df-convert\" onclick=\"convertToInteractive('df-f339f383-6242-4996-9881-9e9c90322e78')\"\n",
              "            title=\"Convert this dataframe to an interactive table.\"\n",
              "            style=\"display:none;\">\n",
              "\n",
              "  <svg xmlns=\"http://www.w3.org/2000/svg\" height=\"24px\" viewBox=\"0 -960 960 960\">\n",
              "    <path d=\"M120-120v-720h720v720H120Zm60-500h600v-160H180v160Zm220 220h160v-160H400v160Zm0 220h160v-160H400v160ZM180-400h160v-160H180v160Zm440 0h160v-160H620v160ZM180-180h160v-160H180v160Zm440 0h160v-160H620v160Z\"/>\n",
              "  </svg>\n",
              "    </button>\n",
              "\n",
              "  <style>\n",
              "    .colab-df-container {\n",
              "      display:flex;\n",
              "      gap: 12px;\n",
              "    }\n",
              "\n",
              "    .colab-df-convert {\n",
              "      background-color: #E8F0FE;\n",
              "      border: none;\n",
              "      border-radius: 50%;\n",
              "      cursor: pointer;\n",
              "      display: none;\n",
              "      fill: #1967D2;\n",
              "      height: 32px;\n",
              "      padding: 0 0 0 0;\n",
              "      width: 32px;\n",
              "    }\n",
              "\n",
              "    .colab-df-convert:hover {\n",
              "      background-color: #E2EBFA;\n",
              "      box-shadow: 0px 1px 2px rgba(60, 64, 67, 0.3), 0px 1px 3px 1px rgba(60, 64, 67, 0.15);\n",
              "      fill: #174EA6;\n",
              "    }\n",
              "\n",
              "    .colab-df-buttons div {\n",
              "      margin-bottom: 4px;\n",
              "    }\n",
              "\n",
              "    [theme=dark] .colab-df-convert {\n",
              "      background-color: #3B4455;\n",
              "      fill: #D2E3FC;\n",
              "    }\n",
              "\n",
              "    [theme=dark] .colab-df-convert:hover {\n",
              "      background-color: #434B5C;\n",
              "      box-shadow: 0px 1px 3px 1px rgba(0, 0, 0, 0.15);\n",
              "      filter: drop-shadow(0px 1px 2px rgba(0, 0, 0, 0.3));\n",
              "      fill: #FFFFFF;\n",
              "    }\n",
              "  </style>\n",
              "\n",
              "    <script>\n",
              "      const buttonEl =\n",
              "        document.querySelector('#df-f339f383-6242-4996-9881-9e9c90322e78 button.colab-df-convert');\n",
              "      buttonEl.style.display =\n",
              "        google.colab.kernel.accessAllowed ? 'block' : 'none';\n",
              "\n",
              "      async function convertToInteractive(key) {\n",
              "        const element = document.querySelector('#df-f339f383-6242-4996-9881-9e9c90322e78');\n",
              "        const dataTable =\n",
              "          await google.colab.kernel.invokeFunction('convertToInteractive',\n",
              "                                                    [key], {});\n",
              "        if (!dataTable) return;\n",
              "\n",
              "        const docLinkHtml = 'Like what you see? Visit the ' +\n",
              "          '<a target=\"_blank\" href=https://colab.research.google.com/notebooks/data_table.ipynb>data table notebook</a>'\n",
              "          + ' to learn more about interactive tables.';\n",
              "        element.innerHTML = '';\n",
              "        dataTable['output_type'] = 'display_data';\n",
              "        await google.colab.output.renderOutput(dataTable, element);\n",
              "        const docLink = document.createElement('div');\n",
              "        docLink.innerHTML = docLinkHtml;\n",
              "        element.appendChild(docLink);\n",
              "      }\n",
              "    </script>\n",
              "  </div>\n",
              "\n",
              "\n",
              "<div id=\"df-b152f91b-d89d-4ff9-b736-0e94a8ea99a5\">\n",
              "  <button class=\"colab-df-quickchart\" onclick=\"quickchart('df-b152f91b-d89d-4ff9-b736-0e94a8ea99a5')\"\n",
              "            title=\"Suggest charts\"\n",
              "            style=\"display:none;\">\n",
              "\n",
              "<svg xmlns=\"http://www.w3.org/2000/svg\" height=\"24px\"viewBox=\"0 0 24 24\"\n",
              "     width=\"24px\">\n",
              "    <g>\n",
              "        <path d=\"M19 3H5c-1.1 0-2 .9-2 2v14c0 1.1.9 2 2 2h14c1.1 0 2-.9 2-2V5c0-1.1-.9-2-2-2zM9 17H7v-7h2v7zm4 0h-2V7h2v10zm4 0h-2v-4h2v4z\"/>\n",
              "    </g>\n",
              "</svg>\n",
              "  </button>\n",
              "\n",
              "<style>\n",
              "  .colab-df-quickchart {\n",
              "      --bg-color: #E8F0FE;\n",
              "      --fill-color: #1967D2;\n",
              "      --hover-bg-color: #E2EBFA;\n",
              "      --hover-fill-color: #174EA6;\n",
              "      --disabled-fill-color: #AAA;\n",
              "      --disabled-bg-color: #DDD;\n",
              "  }\n",
              "\n",
              "  [theme=dark] .colab-df-quickchart {\n",
              "      --bg-color: #3B4455;\n",
              "      --fill-color: #D2E3FC;\n",
              "      --hover-bg-color: #434B5C;\n",
              "      --hover-fill-color: #FFFFFF;\n",
              "      --disabled-bg-color: #3B4455;\n",
              "      --disabled-fill-color: #666;\n",
              "  }\n",
              "\n",
              "  .colab-df-quickchart {\n",
              "    background-color: var(--bg-color);\n",
              "    border: none;\n",
              "    border-radius: 50%;\n",
              "    cursor: pointer;\n",
              "    display: none;\n",
              "    fill: var(--fill-color);\n",
              "    height: 32px;\n",
              "    padding: 0;\n",
              "    width: 32px;\n",
              "  }\n",
              "\n",
              "  .colab-df-quickchart:hover {\n",
              "    background-color: var(--hover-bg-color);\n",
              "    box-shadow: 0 1px 2px rgba(60, 64, 67, 0.3), 0 1px 3px 1px rgba(60, 64, 67, 0.15);\n",
              "    fill: var(--button-hover-fill-color);\n",
              "  }\n",
              "\n",
              "  .colab-df-quickchart-complete:disabled,\n",
              "  .colab-df-quickchart-complete:disabled:hover {\n",
              "    background-color: var(--disabled-bg-color);\n",
              "    fill: var(--disabled-fill-color);\n",
              "    box-shadow: none;\n",
              "  }\n",
              "\n",
              "  .colab-df-spinner {\n",
              "    border: 2px solid var(--fill-color);\n",
              "    border-color: transparent;\n",
              "    border-bottom-color: var(--fill-color);\n",
              "    animation:\n",
              "      spin 1s steps(1) infinite;\n",
              "  }\n",
              "\n",
              "  @keyframes spin {\n",
              "    0% {\n",
              "      border-color: transparent;\n",
              "      border-bottom-color: var(--fill-color);\n",
              "      border-left-color: var(--fill-color);\n",
              "    }\n",
              "    20% {\n",
              "      border-color: transparent;\n",
              "      border-left-color: var(--fill-color);\n",
              "      border-top-color: var(--fill-color);\n",
              "    }\n",
              "    30% {\n",
              "      border-color: transparent;\n",
              "      border-left-color: var(--fill-color);\n",
              "      border-top-color: var(--fill-color);\n",
              "      border-right-color: var(--fill-color);\n",
              "    }\n",
              "    40% {\n",
              "      border-color: transparent;\n",
              "      border-right-color: var(--fill-color);\n",
              "      border-top-color: var(--fill-color);\n",
              "    }\n",
              "    60% {\n",
              "      border-color: transparent;\n",
              "      border-right-color: var(--fill-color);\n",
              "    }\n",
              "    80% {\n",
              "      border-color: transparent;\n",
              "      border-right-color: var(--fill-color);\n",
              "      border-bottom-color: var(--fill-color);\n",
              "    }\n",
              "    90% {\n",
              "      border-color: transparent;\n",
              "      border-bottom-color: var(--fill-color);\n",
              "    }\n",
              "  }\n",
              "</style>\n",
              "\n",
              "  <script>\n",
              "    async function quickchart(key) {\n",
              "      const quickchartButtonEl =\n",
              "        document.querySelector('#' + key + ' button');\n",
              "      quickchartButtonEl.disabled = true;  // To prevent multiple clicks.\n",
              "      quickchartButtonEl.classList.add('colab-df-spinner');\n",
              "      try {\n",
              "        const charts = await google.colab.kernel.invokeFunction(\n",
              "            'suggestCharts', [key], {});\n",
              "      } catch (error) {\n",
              "        console.error('Error during call to suggestCharts:', error);\n",
              "      }\n",
              "      quickchartButtonEl.classList.remove('colab-df-spinner');\n",
              "      quickchartButtonEl.classList.add('colab-df-quickchart-complete');\n",
              "    }\n",
              "    (() => {\n",
              "      let quickchartButtonEl =\n",
              "        document.querySelector('#df-b152f91b-d89d-4ff9-b736-0e94a8ea99a5 button');\n",
              "      quickchartButtonEl.style.display =\n",
              "        google.colab.kernel.accessAllowed ? 'block' : 'none';\n",
              "    })();\n",
              "  </script>\n",
              "</div>\n",
              "    </div>\n",
              "  </div>\n"
            ],
            "application/vnd.google.colaboratory.intrinsic+json": {
              "type": "dataframe",
              "variable_name": "df"
            }
          },
          "metadata": {},
          "execution_count": 5
        }
      ]
    },
    {
      "cell_type": "code",
      "source": [
        "# reduce to 64 dimensions first\n",
        "reducer = umap.UMAP(n_components = 64)\n",
        "scaled_df = StandardScaler().fit_transform(df)\n",
        "embedding = reducer.fit_transform(scaled_df)"
      ],
      "metadata": {
        "id": "bZr79JEdI07K"
      },
      "execution_count": null,
      "outputs": []
    },
    {
      "cell_type": "code",
      "source": [
        "df_64 = pd.DataFrame(embedding)\n",
        "df_64.index = df.index\n",
        "df_64"
      ],
      "metadata": {
        "colab": {
          "base_uri": "https://localhost:8080/",
          "height": 631
        },
        "id": "k0Iv_jPCKOJC",
        "outputId": "584c65cd-2bea-4190-f860-1df92d52239f"
      },
      "execution_count": null,
      "outputs": [
        {
          "output_type": "execute_result",
          "data": {
            "text/plain": [
              "                                                          0          1   \\\n",
              "Song                                                                      \n",
              "XC113545-C304_D01.mp3                               7.387507  10.443632   \n",
              "XC113546-C5836_D02.mp3                              7.311598  10.698281   \n",
              "XC113547-C357_D01.mp3                               6.401307  10.458473   \n",
              "XC113595-C320_D01.mp3                               6.509605  10.492922   \n",
              "XC113596-C3391_D01.mp3                              6.328786  10.407271   \n",
              "...                                                      ...        ...   \n",
              "XC881589-Heterocercus-aurantiivertex-Rp-Matamat...  6.984185  10.256597   \n",
              "XC893238-240331_020---Cypsnagra-hirundinacea.mp3    4.843460  10.209941   \n",
              "XC893239-240331_026---Uropelia-campestris.mp3       3.455731  10.459031   \n",
              "XC893240-240331_028---Nannochordeiles-pusillus.mp3  3.360322  10.355065   \n",
              "XC899410-Lepidothrix-coronata_240428_1213.mp3       3.517885   9.844667   \n",
              "\n",
              "                                                          2         3   \\\n",
              "Song                                                                     \n",
              "XC113545-C304_D01.mp3                               8.107135  7.973750   \n",
              "XC113546-C5836_D02.mp3                              8.615342  6.809822   \n",
              "XC113547-C357_D01.mp3                               7.250256  7.101501   \n",
              "XC113595-C320_D01.mp3                               7.609274  6.951453   \n",
              "XC113596-C3391_D01.mp3                              7.027965  7.193534   \n",
              "...                                                      ...       ...   \n",
              "XC881589-Heterocercus-aurantiivertex-Rp-Matamat...  7.733573  7.081754   \n",
              "XC893238-240331_020---Cypsnagra-hirundinacea.mp3    5.964948  6.535088   \n",
              "XC893239-240331_026---Uropelia-campestris.mp3       6.108458  6.991999   \n",
              "XC893240-240331_028---Nannochordeiles-pusillus.mp3  6.294612  6.605861   \n",
              "XC899410-Lepidothrix-coronata_240428_1213.mp3       5.454113  6.979064   \n",
              "\n",
              "                                                           4         5   \\\n",
              "Song                                                                      \n",
              "XC113545-C304_D01.mp3                                9.619689  7.379451   \n",
              "XC113546-C5836_D02.mp3                              10.551223  7.954082   \n",
              "XC113547-C357_D01.mp3                               10.186173  7.966839   \n",
              "XC113595-C320_D01.mp3                               10.039287  7.888436   \n",
              "XC113596-C3391_D01.mp3                              10.137197  8.002363   \n",
              "...                                                       ...       ...   \n",
              "XC881589-Heterocercus-aurantiivertex-Rp-Matamat...   9.680814  8.254450   \n",
              "XC893238-240331_020---Cypsnagra-hirundinacea.mp3     9.246273  7.208565   \n",
              "XC893239-240331_026---Uropelia-campestris.mp3        7.801466  6.944584   \n",
              "XC893240-240331_028---Nannochordeiles-pusillus.mp3   7.686431  6.567810   \n",
              "XC899410-Lepidothrix-coronata_240428_1213.mp3        7.731498  6.118030   \n",
              "\n",
              "                                                          6         7   \\\n",
              "Song                                                                     \n",
              "XC113545-C304_D01.mp3                               7.452693  8.263961   \n",
              "XC113546-C5836_D02.mp3                              8.388847  8.267949   \n",
              "XC113547-C357_D01.mp3                               7.612811  8.300052   \n",
              "XC113595-C320_D01.mp3                               7.882657  8.181139   \n",
              "XC113596-C3391_D01.mp3                              7.416300  8.358620   \n",
              "...                                                      ...       ...   \n",
              "XC881589-Heterocercus-aurantiivertex-Rp-Matamat...  7.662102  8.165276   \n",
              "XC893238-240331_020---Cypsnagra-hirundinacea.mp3    7.326756  8.220279   \n",
              "XC893239-240331_026---Uropelia-campestris.mp3       7.173428  7.797314   \n",
              "XC893240-240331_028---Nannochordeiles-pusillus.mp3  7.595463  7.619896   \n",
              "XC899410-Lepidothrix-coronata_240428_1213.mp3       6.841067  7.903942   \n",
              "\n",
              "                                                          8         9   ...  \\\n",
              "Song                                                                    ...   \n",
              "XC113545-C304_D01.mp3                               8.290392  5.833641  ...   \n",
              "XC113546-C5836_D02.mp3                              7.961405  5.569641  ...   \n",
              "XC113547-C357_D01.mp3                               8.079047  5.933516  ...   \n",
              "XC113595-C320_D01.mp3                               7.854994  5.831726  ...   \n",
              "XC113596-C3391_D01.mp3                              8.214001  6.001605  ...   \n",
              "...                                                      ...       ...  ...   \n",
              "XC881589-Heterocercus-aurantiivertex-Rp-Matamat...  7.958005  5.916017  ...   \n",
              "XC893238-240331_020---Cypsnagra-hirundinacea.mp3    7.834525  6.183785  ...   \n",
              "XC893239-240331_026---Uropelia-campestris.mp3       7.456179  6.027986  ...   \n",
              "XC893240-240331_028---Nannochordeiles-pusillus.mp3  7.016462  6.032816  ...   \n",
              "XC899410-Lepidothrix-coronata_240428_1213.mp3       7.246958  6.460012  ...   \n",
              "\n",
              "                                                          54        55  \\\n",
              "Song                                                                     \n",
              "XC113545-C304_D01.mp3                               2.324675  5.773214   \n",
              "XC113546-C5836_D02.mp3                              2.469321  5.646324   \n",
              "XC113547-C357_D01.mp3                               2.343506  5.742640   \n",
              "XC113595-C320_D01.mp3                               2.387456  5.724500   \n",
              "XC113596-C3391_D01.mp3                              2.323156  5.762112   \n",
              "...                                                      ...       ...   \n",
              "XC881589-Heterocercus-aurantiivertex-Rp-Matamat...  2.447950  5.737929   \n",
              "XC893238-240331_020---Cypsnagra-hirundinacea.mp3    2.283373  5.786619   \n",
              "XC893239-240331_026---Uropelia-campestris.mp3       2.239087  5.964871   \n",
              "XC893240-240331_028---Nannochordeiles-pusillus.mp3  2.264591  5.900253   \n",
              "XC899410-Lepidothrix-coronata_240428_1213.mp3       2.217674  5.879668   \n",
              "\n",
              "                                                          56        57  \\\n",
              "Song                                                                     \n",
              "XC113545-C304_D01.mp3                               4.791446  5.741376   \n",
              "XC113546-C5836_D02.mp3                              4.756268  5.683822   \n",
              "XC113547-C357_D01.mp3                               4.766032  5.827486   \n",
              "XC113595-C320_D01.mp3                               4.757515  5.787179   \n",
              "XC113596-C3391_D01.mp3                              4.768226  5.855407   \n",
              "...                                                      ...       ...   \n",
              "XC881589-Heterocercus-aurantiivertex-Rp-Matamat...  4.759726  5.808734   \n",
              "XC893238-240331_020---Cypsnagra-hirundinacea.mp3    4.720909  5.934682   \n",
              "XC893239-240331_026---Uropelia-campestris.mp3       4.725192  5.906485   \n",
              "XC893240-240331_028---Nannochordeiles-pusillus.mp3  4.728555  5.846448   \n",
              "XC899410-Lepidothrix-coronata_240428_1213.mp3       4.732681  5.885487   \n",
              "\n",
              "                                                          58        59  \\\n",
              "Song                                                                     \n",
              "XC113545-C304_D01.mp3                               4.744902  4.866849   \n",
              "XC113546-C5836_D02.mp3                              4.563942  4.945839   \n",
              "XC113547-C357_D01.mp3                               4.717047  4.937655   \n",
              "XC113595-C320_D01.mp3                               4.673636  4.927996   \n",
              "XC113596-C3391_D01.mp3                              4.753506  4.935108   \n",
              "...                                                      ...       ...   \n",
              "XC881589-Heterocercus-aurantiivertex-Rp-Matamat...  4.663314  4.958362   \n",
              "XC893238-240331_020---Cypsnagra-hirundinacea.mp3    4.922608  4.835649   \n",
              "XC893239-240331_026---Uropelia-campestris.mp3       4.962009  4.708613   \n",
              "XC893240-240331_028---Nannochordeiles-pusillus.mp3  4.927510  4.714252   \n",
              "XC899410-Lepidothrix-coronata_240428_1213.mp3       5.019776  4.750776   \n",
              "\n",
              "                                                          60        61  \\\n",
              "Song                                                                     \n",
              "XC113545-C304_D01.mp3                               5.209242  5.779908   \n",
              "XC113546-C5836_D02.mp3                              5.157930  5.662603   \n",
              "XC113547-C357_D01.mp3                               5.118827  5.521596   \n",
              "XC113595-C320_D01.mp3                               5.122452  5.549627   \n",
              "XC113596-C3391_D01.mp3                              5.119243  5.529820   \n",
              "...                                                      ...       ...   \n",
              "XC881589-Heterocercus-aurantiivertex-Rp-Matamat...  5.118176  5.530586   \n",
              "XC893238-240331_020---Cypsnagra-hirundinacea.mp3    5.082427  5.666655   \n",
              "XC893239-240331_026---Uropelia-campestris.mp3       5.123698  5.702489   \n",
              "XC893240-240331_028---Nannochordeiles-pusillus.mp3  5.081255  5.568007   \n",
              "XC899410-Lepidothrix-coronata_240428_1213.mp3       5.085470  5.586019   \n",
              "\n",
              "                                                          62        63  \n",
              "Song                                                                    \n",
              "XC113545-C304_D01.mp3                               5.718445  4.913217  \n",
              "XC113546-C5836_D02.mp3                              5.822822  4.882309  \n",
              "XC113547-C357_D01.mp3                               5.738448  4.892690  \n",
              "XC113595-C320_D01.mp3                               5.792052  4.887069  \n",
              "XC113596-C3391_D01.mp3                              5.701143  4.906709  \n",
              "...                                                      ...       ...  \n",
              "XC881589-Heterocercus-aurantiivertex-Rp-Matamat...  5.764314  4.936157  \n",
              "XC893238-240331_020---Cypsnagra-hirundinacea.mp3    5.733884  4.951898  \n",
              "XC893239-240331_026---Uropelia-campestris.mp3       5.775581  4.892241  \n",
              "XC893240-240331_028---Nannochordeiles-pusillus.mp3  5.931123  4.848273  \n",
              "XC899410-Lepidothrix-coronata_240428_1213.mp3       5.853856  4.911399  \n",
              "\n",
              "[3452 rows x 64 columns]"
            ],
            "text/html": [
              "\n",
              "  <div id=\"df-8ebcb218-2e65-4990-b4b8-b8d75fb3f5c0\" class=\"colab-df-container\">\n",
              "    <div>\n",
              "<style scoped>\n",
              "    .dataframe tbody tr th:only-of-type {\n",
              "        vertical-align: middle;\n",
              "    }\n",
              "\n",
              "    .dataframe tbody tr th {\n",
              "        vertical-align: top;\n",
              "    }\n",
              "\n",
              "    .dataframe thead th {\n",
              "        text-align: right;\n",
              "    }\n",
              "</style>\n",
              "<table border=\"1\" class=\"dataframe\">\n",
              "  <thead>\n",
              "    <tr style=\"text-align: right;\">\n",
              "      <th></th>\n",
              "      <th>0</th>\n",
              "      <th>1</th>\n",
              "      <th>2</th>\n",
              "      <th>3</th>\n",
              "      <th>4</th>\n",
              "      <th>5</th>\n",
              "      <th>6</th>\n",
              "      <th>7</th>\n",
              "      <th>8</th>\n",
              "      <th>9</th>\n",
              "      <th>...</th>\n",
              "      <th>54</th>\n",
              "      <th>55</th>\n",
              "      <th>56</th>\n",
              "      <th>57</th>\n",
              "      <th>58</th>\n",
              "      <th>59</th>\n",
              "      <th>60</th>\n",
              "      <th>61</th>\n",
              "      <th>62</th>\n",
              "      <th>63</th>\n",
              "    </tr>\n",
              "    <tr>\n",
              "      <th>Song</th>\n",
              "      <th></th>\n",
              "      <th></th>\n",
              "      <th></th>\n",
              "      <th></th>\n",
              "      <th></th>\n",
              "      <th></th>\n",
              "      <th></th>\n",
              "      <th></th>\n",
              "      <th></th>\n",
              "      <th></th>\n",
              "      <th></th>\n",
              "      <th></th>\n",
              "      <th></th>\n",
              "      <th></th>\n",
              "      <th></th>\n",
              "      <th></th>\n",
              "      <th></th>\n",
              "      <th></th>\n",
              "      <th></th>\n",
              "      <th></th>\n",
              "      <th></th>\n",
              "    </tr>\n",
              "  </thead>\n",
              "  <tbody>\n",
              "    <tr>\n",
              "      <th>XC113545-C304_D01.mp3</th>\n",
              "      <td>7.387507</td>\n",
              "      <td>10.443632</td>\n",
              "      <td>8.107135</td>\n",
              "      <td>7.973750</td>\n",
              "      <td>9.619689</td>\n",
              "      <td>7.379451</td>\n",
              "      <td>7.452693</td>\n",
              "      <td>8.263961</td>\n",
              "      <td>8.290392</td>\n",
              "      <td>5.833641</td>\n",
              "      <td>...</td>\n",
              "      <td>2.324675</td>\n",
              "      <td>5.773214</td>\n",
              "      <td>4.791446</td>\n",
              "      <td>5.741376</td>\n",
              "      <td>4.744902</td>\n",
              "      <td>4.866849</td>\n",
              "      <td>5.209242</td>\n",
              "      <td>5.779908</td>\n",
              "      <td>5.718445</td>\n",
              "      <td>4.913217</td>\n",
              "    </tr>\n",
              "    <tr>\n",
              "      <th>XC113546-C5836_D02.mp3</th>\n",
              "      <td>7.311598</td>\n",
              "      <td>10.698281</td>\n",
              "      <td>8.615342</td>\n",
              "      <td>6.809822</td>\n",
              "      <td>10.551223</td>\n",
              "      <td>7.954082</td>\n",
              "      <td>8.388847</td>\n",
              "      <td>8.267949</td>\n",
              "      <td>7.961405</td>\n",
              "      <td>5.569641</td>\n",
              "      <td>...</td>\n",
              "      <td>2.469321</td>\n",
              "      <td>5.646324</td>\n",
              "      <td>4.756268</td>\n",
              "      <td>5.683822</td>\n",
              "      <td>4.563942</td>\n",
              "      <td>4.945839</td>\n",
              "      <td>5.157930</td>\n",
              "      <td>5.662603</td>\n",
              "      <td>5.822822</td>\n",
              "      <td>4.882309</td>\n",
              "    </tr>\n",
              "    <tr>\n",
              "      <th>XC113547-C357_D01.mp3</th>\n",
              "      <td>6.401307</td>\n",
              "      <td>10.458473</td>\n",
              "      <td>7.250256</td>\n",
              "      <td>7.101501</td>\n",
              "      <td>10.186173</td>\n",
              "      <td>7.966839</td>\n",
              "      <td>7.612811</td>\n",
              "      <td>8.300052</td>\n",
              "      <td>8.079047</td>\n",
              "      <td>5.933516</td>\n",
              "      <td>...</td>\n",
              "      <td>2.343506</td>\n",
              "      <td>5.742640</td>\n",
              "      <td>4.766032</td>\n",
              "      <td>5.827486</td>\n",
              "      <td>4.717047</td>\n",
              "      <td>4.937655</td>\n",
              "      <td>5.118827</td>\n",
              "      <td>5.521596</td>\n",
              "      <td>5.738448</td>\n",
              "      <td>4.892690</td>\n",
              "    </tr>\n",
              "    <tr>\n",
              "      <th>XC113595-C320_D01.mp3</th>\n",
              "      <td>6.509605</td>\n",
              "      <td>10.492922</td>\n",
              "      <td>7.609274</td>\n",
              "      <td>6.951453</td>\n",
              "      <td>10.039287</td>\n",
              "      <td>7.888436</td>\n",
              "      <td>7.882657</td>\n",
              "      <td>8.181139</td>\n",
              "      <td>7.854994</td>\n",
              "      <td>5.831726</td>\n",
              "      <td>...</td>\n",
              "      <td>2.387456</td>\n",
              "      <td>5.724500</td>\n",
              "      <td>4.757515</td>\n",
              "      <td>5.787179</td>\n",
              "      <td>4.673636</td>\n",
              "      <td>4.927996</td>\n",
              "      <td>5.122452</td>\n",
              "      <td>5.549627</td>\n",
              "      <td>5.792052</td>\n",
              "      <td>4.887069</td>\n",
              "    </tr>\n",
              "    <tr>\n",
              "      <th>XC113596-C3391_D01.mp3</th>\n",
              "      <td>6.328786</td>\n",
              "      <td>10.407271</td>\n",
              "      <td>7.027965</td>\n",
              "      <td>7.193534</td>\n",
              "      <td>10.137197</td>\n",
              "      <td>8.002363</td>\n",
              "      <td>7.416300</td>\n",
              "      <td>8.358620</td>\n",
              "      <td>8.214001</td>\n",
              "      <td>6.001605</td>\n",
              "      <td>...</td>\n",
              "      <td>2.323156</td>\n",
              "      <td>5.762112</td>\n",
              "      <td>4.768226</td>\n",
              "      <td>5.855407</td>\n",
              "      <td>4.753506</td>\n",
              "      <td>4.935108</td>\n",
              "      <td>5.119243</td>\n",
              "      <td>5.529820</td>\n",
              "      <td>5.701143</td>\n",
              "      <td>4.906709</td>\n",
              "    </tr>\n",
              "    <tr>\n",
              "      <th>...</th>\n",
              "      <td>...</td>\n",
              "      <td>...</td>\n",
              "      <td>...</td>\n",
              "      <td>...</td>\n",
              "      <td>...</td>\n",
              "      <td>...</td>\n",
              "      <td>...</td>\n",
              "      <td>...</td>\n",
              "      <td>...</td>\n",
              "      <td>...</td>\n",
              "      <td>...</td>\n",
              "      <td>...</td>\n",
              "      <td>...</td>\n",
              "      <td>...</td>\n",
              "      <td>...</td>\n",
              "      <td>...</td>\n",
              "      <td>...</td>\n",
              "      <td>...</td>\n",
              "      <td>...</td>\n",
              "      <td>...</td>\n",
              "      <td>...</td>\n",
              "    </tr>\n",
              "    <tr>\n",
              "      <th>XC881589-Heterocercus-aurantiivertex-Rp-Matamata-29022024-HDA.mp3</th>\n",
              "      <td>6.984185</td>\n",
              "      <td>10.256597</td>\n",
              "      <td>7.733573</td>\n",
              "      <td>7.081754</td>\n",
              "      <td>9.680814</td>\n",
              "      <td>8.254450</td>\n",
              "      <td>7.662102</td>\n",
              "      <td>8.165276</td>\n",
              "      <td>7.958005</td>\n",
              "      <td>5.916017</td>\n",
              "      <td>...</td>\n",
              "      <td>2.447950</td>\n",
              "      <td>5.737929</td>\n",
              "      <td>4.759726</td>\n",
              "      <td>5.808734</td>\n",
              "      <td>4.663314</td>\n",
              "      <td>4.958362</td>\n",
              "      <td>5.118176</td>\n",
              "      <td>5.530586</td>\n",
              "      <td>5.764314</td>\n",
              "      <td>4.936157</td>\n",
              "    </tr>\n",
              "    <tr>\n",
              "      <th>XC893238-240331_020---Cypsnagra-hirundinacea.mp3</th>\n",
              "      <td>4.843460</td>\n",
              "      <td>10.209941</td>\n",
              "      <td>5.964948</td>\n",
              "      <td>6.535088</td>\n",
              "      <td>9.246273</td>\n",
              "      <td>7.208565</td>\n",
              "      <td>7.326756</td>\n",
              "      <td>8.220279</td>\n",
              "      <td>7.834525</td>\n",
              "      <td>6.183785</td>\n",
              "      <td>...</td>\n",
              "      <td>2.283373</td>\n",
              "      <td>5.786619</td>\n",
              "      <td>4.720909</td>\n",
              "      <td>5.934682</td>\n",
              "      <td>4.922608</td>\n",
              "      <td>4.835649</td>\n",
              "      <td>5.082427</td>\n",
              "      <td>5.666655</td>\n",
              "      <td>5.733884</td>\n",
              "      <td>4.951898</td>\n",
              "    </tr>\n",
              "    <tr>\n",
              "      <th>XC893239-240331_026---Uropelia-campestris.mp3</th>\n",
              "      <td>3.455731</td>\n",
              "      <td>10.459031</td>\n",
              "      <td>6.108458</td>\n",
              "      <td>6.991999</td>\n",
              "      <td>7.801466</td>\n",
              "      <td>6.944584</td>\n",
              "      <td>7.173428</td>\n",
              "      <td>7.797314</td>\n",
              "      <td>7.456179</td>\n",
              "      <td>6.027986</td>\n",
              "      <td>...</td>\n",
              "      <td>2.239087</td>\n",
              "      <td>5.964871</td>\n",
              "      <td>4.725192</td>\n",
              "      <td>5.906485</td>\n",
              "      <td>4.962009</td>\n",
              "      <td>4.708613</td>\n",
              "      <td>5.123698</td>\n",
              "      <td>5.702489</td>\n",
              "      <td>5.775581</td>\n",
              "      <td>4.892241</td>\n",
              "    </tr>\n",
              "    <tr>\n",
              "      <th>XC893240-240331_028---Nannochordeiles-pusillus.mp3</th>\n",
              "      <td>3.360322</td>\n",
              "      <td>10.355065</td>\n",
              "      <td>6.294612</td>\n",
              "      <td>6.605861</td>\n",
              "      <td>7.686431</td>\n",
              "      <td>6.567810</td>\n",
              "      <td>7.595463</td>\n",
              "      <td>7.619896</td>\n",
              "      <td>7.016462</td>\n",
              "      <td>6.032816</td>\n",
              "      <td>...</td>\n",
              "      <td>2.264591</td>\n",
              "      <td>5.900253</td>\n",
              "      <td>4.728555</td>\n",
              "      <td>5.846448</td>\n",
              "      <td>4.927510</td>\n",
              "      <td>4.714252</td>\n",
              "      <td>5.081255</td>\n",
              "      <td>5.568007</td>\n",
              "      <td>5.931123</td>\n",
              "      <td>4.848273</td>\n",
              "    </tr>\n",
              "    <tr>\n",
              "      <th>XC899410-Lepidothrix-coronata_240428_1213.mp3</th>\n",
              "      <td>3.517885</td>\n",
              "      <td>9.844667</td>\n",
              "      <td>5.454113</td>\n",
              "      <td>6.979064</td>\n",
              "      <td>7.731498</td>\n",
              "      <td>6.118030</td>\n",
              "      <td>6.841067</td>\n",
              "      <td>7.903942</td>\n",
              "      <td>7.246958</td>\n",
              "      <td>6.460012</td>\n",
              "      <td>...</td>\n",
              "      <td>2.217674</td>\n",
              "      <td>5.879668</td>\n",
              "      <td>4.732681</td>\n",
              "      <td>5.885487</td>\n",
              "      <td>5.019776</td>\n",
              "      <td>4.750776</td>\n",
              "      <td>5.085470</td>\n",
              "      <td>5.586019</td>\n",
              "      <td>5.853856</td>\n",
              "      <td>4.911399</td>\n",
              "    </tr>\n",
              "  </tbody>\n",
              "</table>\n",
              "<p>3452 rows × 64 columns</p>\n",
              "</div>\n",
              "    <div class=\"colab-df-buttons\">\n",
              "\n",
              "  <div class=\"colab-df-container\">\n",
              "    <button class=\"colab-df-convert\" onclick=\"convertToInteractive('df-8ebcb218-2e65-4990-b4b8-b8d75fb3f5c0')\"\n",
              "            title=\"Convert this dataframe to an interactive table.\"\n",
              "            style=\"display:none;\">\n",
              "\n",
              "  <svg xmlns=\"http://www.w3.org/2000/svg\" height=\"24px\" viewBox=\"0 -960 960 960\">\n",
              "    <path d=\"M120-120v-720h720v720H120Zm60-500h600v-160H180v160Zm220 220h160v-160H400v160Zm0 220h160v-160H400v160ZM180-400h160v-160H180v160Zm440 0h160v-160H620v160ZM180-180h160v-160H180v160Zm440 0h160v-160H620v160Z\"/>\n",
              "  </svg>\n",
              "    </button>\n",
              "\n",
              "  <style>\n",
              "    .colab-df-container {\n",
              "      display:flex;\n",
              "      gap: 12px;\n",
              "    }\n",
              "\n",
              "    .colab-df-convert {\n",
              "      background-color: #E8F0FE;\n",
              "      border: none;\n",
              "      border-radius: 50%;\n",
              "      cursor: pointer;\n",
              "      display: none;\n",
              "      fill: #1967D2;\n",
              "      height: 32px;\n",
              "      padding: 0 0 0 0;\n",
              "      width: 32px;\n",
              "    }\n",
              "\n",
              "    .colab-df-convert:hover {\n",
              "      background-color: #E2EBFA;\n",
              "      box-shadow: 0px 1px 2px rgba(60, 64, 67, 0.3), 0px 1px 3px 1px rgba(60, 64, 67, 0.15);\n",
              "      fill: #174EA6;\n",
              "    }\n",
              "\n",
              "    .colab-df-buttons div {\n",
              "      margin-bottom: 4px;\n",
              "    }\n",
              "\n",
              "    [theme=dark] .colab-df-convert {\n",
              "      background-color: #3B4455;\n",
              "      fill: #D2E3FC;\n",
              "    }\n",
              "\n",
              "    [theme=dark] .colab-df-convert:hover {\n",
              "      background-color: #434B5C;\n",
              "      box-shadow: 0px 1px 3px 1px rgba(0, 0, 0, 0.15);\n",
              "      filter: drop-shadow(0px 1px 2px rgba(0, 0, 0, 0.3));\n",
              "      fill: #FFFFFF;\n",
              "    }\n",
              "  </style>\n",
              "\n",
              "    <script>\n",
              "      const buttonEl =\n",
              "        document.querySelector('#df-8ebcb218-2e65-4990-b4b8-b8d75fb3f5c0 button.colab-df-convert');\n",
              "      buttonEl.style.display =\n",
              "        google.colab.kernel.accessAllowed ? 'block' : 'none';\n",
              "\n",
              "      async function convertToInteractive(key) {\n",
              "        const element = document.querySelector('#df-8ebcb218-2e65-4990-b4b8-b8d75fb3f5c0');\n",
              "        const dataTable =\n",
              "          await google.colab.kernel.invokeFunction('convertToInteractive',\n",
              "                                                    [key], {});\n",
              "        if (!dataTable) return;\n",
              "\n",
              "        const docLinkHtml = 'Like what you see? Visit the ' +\n",
              "          '<a target=\"_blank\" href=https://colab.research.google.com/notebooks/data_table.ipynb>data table notebook</a>'\n",
              "          + ' to learn more about interactive tables.';\n",
              "        element.innerHTML = '';\n",
              "        dataTable['output_type'] = 'display_data';\n",
              "        await google.colab.output.renderOutput(dataTable, element);\n",
              "        const docLink = document.createElement('div');\n",
              "        docLink.innerHTML = docLinkHtml;\n",
              "        element.appendChild(docLink);\n",
              "      }\n",
              "    </script>\n",
              "  </div>\n",
              "\n",
              "\n",
              "<div id=\"df-73da859a-f097-4498-bf4d-5e6bc718eb3a\">\n",
              "  <button class=\"colab-df-quickchart\" onclick=\"quickchart('df-73da859a-f097-4498-bf4d-5e6bc718eb3a')\"\n",
              "            title=\"Suggest charts\"\n",
              "            style=\"display:none;\">\n",
              "\n",
              "<svg xmlns=\"http://www.w3.org/2000/svg\" height=\"24px\"viewBox=\"0 0 24 24\"\n",
              "     width=\"24px\">\n",
              "    <g>\n",
              "        <path d=\"M19 3H5c-1.1 0-2 .9-2 2v14c0 1.1.9 2 2 2h14c1.1 0 2-.9 2-2V5c0-1.1-.9-2-2-2zM9 17H7v-7h2v7zm4 0h-2V7h2v10zm4 0h-2v-4h2v4z\"/>\n",
              "    </g>\n",
              "</svg>\n",
              "  </button>\n",
              "\n",
              "<style>\n",
              "  .colab-df-quickchart {\n",
              "      --bg-color: #E8F0FE;\n",
              "      --fill-color: #1967D2;\n",
              "      --hover-bg-color: #E2EBFA;\n",
              "      --hover-fill-color: #174EA6;\n",
              "      --disabled-fill-color: #AAA;\n",
              "      --disabled-bg-color: #DDD;\n",
              "  }\n",
              "\n",
              "  [theme=dark] .colab-df-quickchart {\n",
              "      --bg-color: #3B4455;\n",
              "      --fill-color: #D2E3FC;\n",
              "      --hover-bg-color: #434B5C;\n",
              "      --hover-fill-color: #FFFFFF;\n",
              "      --disabled-bg-color: #3B4455;\n",
              "      --disabled-fill-color: #666;\n",
              "  }\n",
              "\n",
              "  .colab-df-quickchart {\n",
              "    background-color: var(--bg-color);\n",
              "    border: none;\n",
              "    border-radius: 50%;\n",
              "    cursor: pointer;\n",
              "    display: none;\n",
              "    fill: var(--fill-color);\n",
              "    height: 32px;\n",
              "    padding: 0;\n",
              "    width: 32px;\n",
              "  }\n",
              "\n",
              "  .colab-df-quickchart:hover {\n",
              "    background-color: var(--hover-bg-color);\n",
              "    box-shadow: 0 1px 2px rgba(60, 64, 67, 0.3), 0 1px 3px 1px rgba(60, 64, 67, 0.15);\n",
              "    fill: var(--button-hover-fill-color);\n",
              "  }\n",
              "\n",
              "  .colab-df-quickchart-complete:disabled,\n",
              "  .colab-df-quickchart-complete:disabled:hover {\n",
              "    background-color: var(--disabled-bg-color);\n",
              "    fill: var(--disabled-fill-color);\n",
              "    box-shadow: none;\n",
              "  }\n",
              "\n",
              "  .colab-df-spinner {\n",
              "    border: 2px solid var(--fill-color);\n",
              "    border-color: transparent;\n",
              "    border-bottom-color: var(--fill-color);\n",
              "    animation:\n",
              "      spin 1s steps(1) infinite;\n",
              "  }\n",
              "\n",
              "  @keyframes spin {\n",
              "    0% {\n",
              "      border-color: transparent;\n",
              "      border-bottom-color: var(--fill-color);\n",
              "      border-left-color: var(--fill-color);\n",
              "    }\n",
              "    20% {\n",
              "      border-color: transparent;\n",
              "      border-left-color: var(--fill-color);\n",
              "      border-top-color: var(--fill-color);\n",
              "    }\n",
              "    30% {\n",
              "      border-color: transparent;\n",
              "      border-left-color: var(--fill-color);\n",
              "      border-top-color: var(--fill-color);\n",
              "      border-right-color: var(--fill-color);\n",
              "    }\n",
              "    40% {\n",
              "      border-color: transparent;\n",
              "      border-right-color: var(--fill-color);\n",
              "      border-top-color: var(--fill-color);\n",
              "    }\n",
              "    60% {\n",
              "      border-color: transparent;\n",
              "      border-right-color: var(--fill-color);\n",
              "    }\n",
              "    80% {\n",
              "      border-color: transparent;\n",
              "      border-right-color: var(--fill-color);\n",
              "      border-bottom-color: var(--fill-color);\n",
              "    }\n",
              "    90% {\n",
              "      border-color: transparent;\n",
              "      border-bottom-color: var(--fill-color);\n",
              "    }\n",
              "  }\n",
              "</style>\n",
              "\n",
              "  <script>\n",
              "    async function quickchart(key) {\n",
              "      const quickchartButtonEl =\n",
              "        document.querySelector('#' + key + ' button');\n",
              "      quickchartButtonEl.disabled = true;  // To prevent multiple clicks.\n",
              "      quickchartButtonEl.classList.add('colab-df-spinner');\n",
              "      try {\n",
              "        const charts = await google.colab.kernel.invokeFunction(\n",
              "            'suggestCharts', [key], {});\n",
              "      } catch (error) {\n",
              "        console.error('Error during call to suggestCharts:', error);\n",
              "      }\n",
              "      quickchartButtonEl.classList.remove('colab-df-spinner');\n",
              "      quickchartButtonEl.classList.add('colab-df-quickchart-complete');\n",
              "    }\n",
              "    (() => {\n",
              "      let quickchartButtonEl =\n",
              "        document.querySelector('#df-73da859a-f097-4498-bf4d-5e6bc718eb3a button');\n",
              "      quickchartButtonEl.style.display =\n",
              "        google.colab.kernel.accessAllowed ? 'block' : 'none';\n",
              "    })();\n",
              "  </script>\n",
              "</div>\n",
              "    </div>\n",
              "  </div>\n"
            ],
            "application/vnd.google.colaboratory.intrinsic+json": {
              "type": "dataframe",
              "variable_name": "df_64"
            }
          },
          "metadata": {},
          "execution_count": 11
        }
      ]
    },
    {
      "cell_type": "code",
      "source": [
        "# reduce to 3 dimensions\n",
        "reducer = umap.UMAP(n_components = 3)\n",
        "scaled_df = StandardScaler().fit_transform(df_64)\n",
        "embedding_3 = reducer.fit_transform(scaled_df)"
      ],
      "metadata": {
        "id": "0KihlSBhLpIk"
      },
      "execution_count": null,
      "outputs": []
    },
    {
      "cell_type": "code",
      "source": [
        "df_3 = pd.DataFrame(embedding_3)\n",
        "df_3.index = df.index\n",
        "df_3"
      ],
      "metadata": {
        "colab": {
          "base_uri": "https://localhost:8080/",
          "height": 455
        },
        "id": "STA2p1v_MM8p",
        "outputId": "a97c3efe-b41e-4026-e157-f246e89f27bd"
      },
      "execution_count": null,
      "outputs": [
        {
          "output_type": "execute_result",
          "data": {
            "text/plain": [
              "                                                            0          1  \\\n",
              "Song                                                                       \n",
              "XC113545-C304_D01.mp3                               14.251409   3.192739   \n",
              "XC113546-C5836_D02.mp3                              11.759435   2.425643   \n",
              "XC113547-C357_D01.mp3                               16.528502   3.166834   \n",
              "XC113595-C320_D01.mp3                               13.704331   3.233704   \n",
              "XC113596-C3391_D01.mp3                              16.563465   3.147826   \n",
              "...                                                       ...        ...   \n",
              "XC881589-Heterocercus-aurantiivertex-Rp-Matamat...  13.406098   2.970738   \n",
              "XC893238-240331_020---Cypsnagra-hirundinacea.mp3     0.834472  15.738647   \n",
              "XC893239-240331_026---Uropelia-campestris.mp3        0.999772   9.918804   \n",
              "XC893240-240331_028---Nannochordeiles-pusillus.mp3   1.711816   9.478930   \n",
              "XC899410-Lepidothrix-coronata_240428_1213.mp3        2.567312   9.837578   \n",
              "\n",
              "                                                           2  \n",
              "Song                                                          \n",
              "XC113545-C304_D01.mp3                               7.275132  \n",
              "XC113546-C5836_D02.mp3                              4.716627  \n",
              "XC113547-C357_D01.mp3                               4.588127  \n",
              "XC113595-C320_D01.mp3                               2.939681  \n",
              "XC113596-C3391_D01.mp3                              4.620661  \n",
              "...                                                      ...  \n",
              "XC881589-Heterocercus-aurantiivertex-Rp-Matamat...  2.784286  \n",
              "XC893238-240331_020---Cypsnagra-hirundinacea.mp3    4.825076  \n",
              "XC893239-240331_026---Uropelia-campestris.mp3       3.655380  \n",
              "XC893240-240331_028---Nannochordeiles-pusillus.mp3  4.569084  \n",
              "XC899410-Lepidothrix-coronata_240428_1213.mp3       6.561574  \n",
              "\n",
              "[3452 rows x 3 columns]"
            ],
            "text/html": [
              "\n",
              "  <div id=\"df-296185ab-3062-4ffb-9c23-3a3828289323\" class=\"colab-df-container\">\n",
              "    <div>\n",
              "<style scoped>\n",
              "    .dataframe tbody tr th:only-of-type {\n",
              "        vertical-align: middle;\n",
              "    }\n",
              "\n",
              "    .dataframe tbody tr th {\n",
              "        vertical-align: top;\n",
              "    }\n",
              "\n",
              "    .dataframe thead th {\n",
              "        text-align: right;\n",
              "    }\n",
              "</style>\n",
              "<table border=\"1\" class=\"dataframe\">\n",
              "  <thead>\n",
              "    <tr style=\"text-align: right;\">\n",
              "      <th></th>\n",
              "      <th>0</th>\n",
              "      <th>1</th>\n",
              "      <th>2</th>\n",
              "    </tr>\n",
              "    <tr>\n",
              "      <th>Song</th>\n",
              "      <th></th>\n",
              "      <th></th>\n",
              "      <th></th>\n",
              "    </tr>\n",
              "  </thead>\n",
              "  <tbody>\n",
              "    <tr>\n",
              "      <th>XC113545-C304_D01.mp3</th>\n",
              "      <td>14.251409</td>\n",
              "      <td>3.192739</td>\n",
              "      <td>7.275132</td>\n",
              "    </tr>\n",
              "    <tr>\n",
              "      <th>XC113546-C5836_D02.mp3</th>\n",
              "      <td>11.759435</td>\n",
              "      <td>2.425643</td>\n",
              "      <td>4.716627</td>\n",
              "    </tr>\n",
              "    <tr>\n",
              "      <th>XC113547-C357_D01.mp3</th>\n",
              "      <td>16.528502</td>\n",
              "      <td>3.166834</td>\n",
              "      <td>4.588127</td>\n",
              "    </tr>\n",
              "    <tr>\n",
              "      <th>XC113595-C320_D01.mp3</th>\n",
              "      <td>13.704331</td>\n",
              "      <td>3.233704</td>\n",
              "      <td>2.939681</td>\n",
              "    </tr>\n",
              "    <tr>\n",
              "      <th>XC113596-C3391_D01.mp3</th>\n",
              "      <td>16.563465</td>\n",
              "      <td>3.147826</td>\n",
              "      <td>4.620661</td>\n",
              "    </tr>\n",
              "    <tr>\n",
              "      <th>...</th>\n",
              "      <td>...</td>\n",
              "      <td>...</td>\n",
              "      <td>...</td>\n",
              "    </tr>\n",
              "    <tr>\n",
              "      <th>XC881589-Heterocercus-aurantiivertex-Rp-Matamata-29022024-HDA.mp3</th>\n",
              "      <td>13.406098</td>\n",
              "      <td>2.970738</td>\n",
              "      <td>2.784286</td>\n",
              "    </tr>\n",
              "    <tr>\n",
              "      <th>XC893238-240331_020---Cypsnagra-hirundinacea.mp3</th>\n",
              "      <td>0.834472</td>\n",
              "      <td>15.738647</td>\n",
              "      <td>4.825076</td>\n",
              "    </tr>\n",
              "    <tr>\n",
              "      <th>XC893239-240331_026---Uropelia-campestris.mp3</th>\n",
              "      <td>0.999772</td>\n",
              "      <td>9.918804</td>\n",
              "      <td>3.655380</td>\n",
              "    </tr>\n",
              "    <tr>\n",
              "      <th>XC893240-240331_028---Nannochordeiles-pusillus.mp3</th>\n",
              "      <td>1.711816</td>\n",
              "      <td>9.478930</td>\n",
              "      <td>4.569084</td>\n",
              "    </tr>\n",
              "    <tr>\n",
              "      <th>XC899410-Lepidothrix-coronata_240428_1213.mp3</th>\n",
              "      <td>2.567312</td>\n",
              "      <td>9.837578</td>\n",
              "      <td>6.561574</td>\n",
              "    </tr>\n",
              "  </tbody>\n",
              "</table>\n",
              "<p>3452 rows × 3 columns</p>\n",
              "</div>\n",
              "    <div class=\"colab-df-buttons\">\n",
              "\n",
              "  <div class=\"colab-df-container\">\n",
              "    <button class=\"colab-df-convert\" onclick=\"convertToInteractive('df-296185ab-3062-4ffb-9c23-3a3828289323')\"\n",
              "            title=\"Convert this dataframe to an interactive table.\"\n",
              "            style=\"display:none;\">\n",
              "\n",
              "  <svg xmlns=\"http://www.w3.org/2000/svg\" height=\"24px\" viewBox=\"0 -960 960 960\">\n",
              "    <path d=\"M120-120v-720h720v720H120Zm60-500h600v-160H180v160Zm220 220h160v-160H400v160Zm0 220h160v-160H400v160ZM180-400h160v-160H180v160Zm440 0h160v-160H620v160ZM180-180h160v-160H180v160Zm440 0h160v-160H620v160Z\"/>\n",
              "  </svg>\n",
              "    </button>\n",
              "\n",
              "  <style>\n",
              "    .colab-df-container {\n",
              "      display:flex;\n",
              "      gap: 12px;\n",
              "    }\n",
              "\n",
              "    .colab-df-convert {\n",
              "      background-color: #E8F0FE;\n",
              "      border: none;\n",
              "      border-radius: 50%;\n",
              "      cursor: pointer;\n",
              "      display: none;\n",
              "      fill: #1967D2;\n",
              "      height: 32px;\n",
              "      padding: 0 0 0 0;\n",
              "      width: 32px;\n",
              "    }\n",
              "\n",
              "    .colab-df-convert:hover {\n",
              "      background-color: #E2EBFA;\n",
              "      box-shadow: 0px 1px 2px rgba(60, 64, 67, 0.3), 0px 1px 3px 1px rgba(60, 64, 67, 0.15);\n",
              "      fill: #174EA6;\n",
              "    }\n",
              "\n",
              "    .colab-df-buttons div {\n",
              "      margin-bottom: 4px;\n",
              "    }\n",
              "\n",
              "    [theme=dark] .colab-df-convert {\n",
              "      background-color: #3B4455;\n",
              "      fill: #D2E3FC;\n",
              "    }\n",
              "\n",
              "    [theme=dark] .colab-df-convert:hover {\n",
              "      background-color: #434B5C;\n",
              "      box-shadow: 0px 1px 3px 1px rgba(0, 0, 0, 0.15);\n",
              "      filter: drop-shadow(0px 1px 2px rgba(0, 0, 0, 0.3));\n",
              "      fill: #FFFFFF;\n",
              "    }\n",
              "  </style>\n",
              "\n",
              "    <script>\n",
              "      const buttonEl =\n",
              "        document.querySelector('#df-296185ab-3062-4ffb-9c23-3a3828289323 button.colab-df-convert');\n",
              "      buttonEl.style.display =\n",
              "        google.colab.kernel.accessAllowed ? 'block' : 'none';\n",
              "\n",
              "      async function convertToInteractive(key) {\n",
              "        const element = document.querySelector('#df-296185ab-3062-4ffb-9c23-3a3828289323');\n",
              "        const dataTable =\n",
              "          await google.colab.kernel.invokeFunction('convertToInteractive',\n",
              "                                                    [key], {});\n",
              "        if (!dataTable) return;\n",
              "\n",
              "        const docLinkHtml = 'Like what you see? Visit the ' +\n",
              "          '<a target=\"_blank\" href=https://colab.research.google.com/notebooks/data_table.ipynb>data table notebook</a>'\n",
              "          + ' to learn more about interactive tables.';\n",
              "        element.innerHTML = '';\n",
              "        dataTable['output_type'] = 'display_data';\n",
              "        await google.colab.output.renderOutput(dataTable, element);\n",
              "        const docLink = document.createElement('div');\n",
              "        docLink.innerHTML = docLinkHtml;\n",
              "        element.appendChild(docLink);\n",
              "      }\n",
              "    </script>\n",
              "  </div>\n",
              "\n",
              "\n",
              "<div id=\"df-00f64231-ce1b-46a5-94c1-6a13304026e7\">\n",
              "  <button class=\"colab-df-quickchart\" onclick=\"quickchart('df-00f64231-ce1b-46a5-94c1-6a13304026e7')\"\n",
              "            title=\"Suggest charts\"\n",
              "            style=\"display:none;\">\n",
              "\n",
              "<svg xmlns=\"http://www.w3.org/2000/svg\" height=\"24px\"viewBox=\"0 0 24 24\"\n",
              "     width=\"24px\">\n",
              "    <g>\n",
              "        <path d=\"M19 3H5c-1.1 0-2 .9-2 2v14c0 1.1.9 2 2 2h14c1.1 0 2-.9 2-2V5c0-1.1-.9-2-2-2zM9 17H7v-7h2v7zm4 0h-2V7h2v10zm4 0h-2v-4h2v4z\"/>\n",
              "    </g>\n",
              "</svg>\n",
              "  </button>\n",
              "\n",
              "<style>\n",
              "  .colab-df-quickchart {\n",
              "      --bg-color: #E8F0FE;\n",
              "      --fill-color: #1967D2;\n",
              "      --hover-bg-color: #E2EBFA;\n",
              "      --hover-fill-color: #174EA6;\n",
              "      --disabled-fill-color: #AAA;\n",
              "      --disabled-bg-color: #DDD;\n",
              "  }\n",
              "\n",
              "  [theme=dark] .colab-df-quickchart {\n",
              "      --bg-color: #3B4455;\n",
              "      --fill-color: #D2E3FC;\n",
              "      --hover-bg-color: #434B5C;\n",
              "      --hover-fill-color: #FFFFFF;\n",
              "      --disabled-bg-color: #3B4455;\n",
              "      --disabled-fill-color: #666;\n",
              "  }\n",
              "\n",
              "  .colab-df-quickchart {\n",
              "    background-color: var(--bg-color);\n",
              "    border: none;\n",
              "    border-radius: 50%;\n",
              "    cursor: pointer;\n",
              "    display: none;\n",
              "    fill: var(--fill-color);\n",
              "    height: 32px;\n",
              "    padding: 0;\n",
              "    width: 32px;\n",
              "  }\n",
              "\n",
              "  .colab-df-quickchart:hover {\n",
              "    background-color: var(--hover-bg-color);\n",
              "    box-shadow: 0 1px 2px rgba(60, 64, 67, 0.3), 0 1px 3px 1px rgba(60, 64, 67, 0.15);\n",
              "    fill: var(--button-hover-fill-color);\n",
              "  }\n",
              "\n",
              "  .colab-df-quickchart-complete:disabled,\n",
              "  .colab-df-quickchart-complete:disabled:hover {\n",
              "    background-color: var(--disabled-bg-color);\n",
              "    fill: var(--disabled-fill-color);\n",
              "    box-shadow: none;\n",
              "  }\n",
              "\n",
              "  .colab-df-spinner {\n",
              "    border: 2px solid var(--fill-color);\n",
              "    border-color: transparent;\n",
              "    border-bottom-color: var(--fill-color);\n",
              "    animation:\n",
              "      spin 1s steps(1) infinite;\n",
              "  }\n",
              "\n",
              "  @keyframes spin {\n",
              "    0% {\n",
              "      border-color: transparent;\n",
              "      border-bottom-color: var(--fill-color);\n",
              "      border-left-color: var(--fill-color);\n",
              "    }\n",
              "    20% {\n",
              "      border-color: transparent;\n",
              "      border-left-color: var(--fill-color);\n",
              "      border-top-color: var(--fill-color);\n",
              "    }\n",
              "    30% {\n",
              "      border-color: transparent;\n",
              "      border-left-color: var(--fill-color);\n",
              "      border-top-color: var(--fill-color);\n",
              "      border-right-color: var(--fill-color);\n",
              "    }\n",
              "    40% {\n",
              "      border-color: transparent;\n",
              "      border-right-color: var(--fill-color);\n",
              "      border-top-color: var(--fill-color);\n",
              "    }\n",
              "    60% {\n",
              "      border-color: transparent;\n",
              "      border-right-color: var(--fill-color);\n",
              "    }\n",
              "    80% {\n",
              "      border-color: transparent;\n",
              "      border-right-color: var(--fill-color);\n",
              "      border-bottom-color: var(--fill-color);\n",
              "    }\n",
              "    90% {\n",
              "      border-color: transparent;\n",
              "      border-bottom-color: var(--fill-color);\n",
              "    }\n",
              "  }\n",
              "</style>\n",
              "\n",
              "  <script>\n",
              "    async function quickchart(key) {\n",
              "      const quickchartButtonEl =\n",
              "        document.querySelector('#' + key + ' button');\n",
              "      quickchartButtonEl.disabled = true;  // To prevent multiple clicks.\n",
              "      quickchartButtonEl.classList.add('colab-df-spinner');\n",
              "      try {\n",
              "        const charts = await google.colab.kernel.invokeFunction(\n",
              "            'suggestCharts', [key], {});\n",
              "      } catch (error) {\n",
              "        console.error('Error during call to suggestCharts:', error);\n",
              "      }\n",
              "      quickchartButtonEl.classList.remove('colab-df-spinner');\n",
              "      quickchartButtonEl.classList.add('colab-df-quickchart-complete');\n",
              "    }\n",
              "    (() => {\n",
              "      let quickchartButtonEl =\n",
              "        document.querySelector('#df-00f64231-ce1b-46a5-94c1-6a13304026e7 button');\n",
              "      quickchartButtonEl.style.display =\n",
              "        google.colab.kernel.accessAllowed ? 'block' : 'none';\n",
              "    })();\n",
              "  </script>\n",
              "</div>\n",
              "    </div>\n",
              "  </div>\n"
            ],
            "application/vnd.google.colaboratory.intrinsic+json": {
              "type": "dataframe",
              "variable_name": "df_3",
              "summary": "{\n  \"name\": \"df_3\",\n  \"rows\": 3452,\n  \"fields\": [\n    {\n      \"column\": \"Song\",\n      \"properties\": {\n        \"dtype\": \"string\",\n        \"num_unique_values\": 3452,\n        \"samples\": [\n          \"XC345469-LS110534%20Micrastur%20gilvicollis.mp3\",\n          \"XC118911-Odontophorus%20stellatus_Tapaua_1239.mp3\",\n          \"XC219430-Olive-backed%20Foliage-gleaner%20B%205962.mp3\"\n        ],\n        \"semantic_type\": \"\",\n        \"description\": \"\"\n      }\n    },\n    {\n      \"column\": 0,\n      \"properties\": {\n        \"dtype\": \"float32\",\n        \"num_unique_values\": 3452,\n        \"samples\": [\n          2.471431255340576,\n          12.686013221740723,\n          1.3947217464447021\n        ],\n        \"semantic_type\": \"\",\n        \"description\": \"\"\n      }\n    },\n    {\n      \"column\": 1,\n      \"properties\": {\n        \"dtype\": \"float32\",\n        \"num_unique_values\": 3452,\n        \"samples\": [\n          12.010457992553711,\n          0.9087477922439575,\n          13.255309104919434\n        ],\n        \"semantic_type\": \"\",\n        \"description\": \"\"\n      }\n    },\n    {\n      \"column\": 2,\n      \"properties\": {\n        \"dtype\": \"float32\",\n        \"num_unique_values\": 3452,\n        \"samples\": [\n          6.0399956703186035,\n          7.647799015045166,\n          5.447761535644531\n        ],\n        \"semantic_type\": \"\",\n        \"description\": \"\"\n      }\n    }\n  ]\n}"
            }
          },
          "metadata": {},
          "execution_count": 13
        }
      ]
    },
    {
      "cell_type": "code",
      "source": [
        "songs = df_3.index.to_list()"
      ],
      "metadata": {
        "id": "xBFAUcV2M5MJ"
      },
      "execution_count": null,
      "outputs": []
    },
    {
      "cell_type": "code",
      "source": [
        "df_polyglot = df_3.reset_index()"
      ],
      "metadata": {
        "id": "sEIEAUn8N6FK"
      },
      "execution_count": null,
      "outputs": []
    },
    {
      "cell_type": "code",
      "source": [
        "'''\n",
        "RANDOMLY PICKING ANCHOR POINTS (10% OF DATASET)\n",
        "'''\n",
        "num_anchors = 345 # 10% of dataset\n",
        "import random\n",
        "anchors = random.sample(range(3452), num_anchors)\n",
        "anchors"
      ],
      "metadata": {
        "colab": {
          "base_uri": "https://localhost:8080/"
        },
        "collapsed": true,
        "id": "SQWY9MdNNZwB",
        "outputId": "c4b47bf1-a396-4bb2-a37e-8e07850bd5fa"
      },
      "execution_count": null,
      "outputs": [
        {
          "output_type": "execute_result",
          "data": {
            "text/plain": [
              "[184,\n",
              " 805,\n",
              " 2199,\n",
              " 247,\n",
              " 1236,\n",
              " 2801,\n",
              " 3432,\n",
              " 2252,\n",
              " 617,\n",
              " 3051,\n",
              " 885,\n",
              " 3065,\n",
              " 821,\n",
              " 1713,\n",
              " 2926,\n",
              " 923,\n",
              " 900,\n",
              " 959,\n",
              " 140,\n",
              " 1661,\n",
              " 592,\n",
              " 1761,\n",
              " 2623,\n",
              " 2288,\n",
              " 17,\n",
              " 3225,\n",
              " 1569,\n",
              " 2276,\n",
              " 245,\n",
              " 2285,\n",
              " 745,\n",
              " 2090,\n",
              " 3428,\n",
              " 236,\n",
              " 1916,\n",
              " 869,\n",
              " 1333,\n",
              " 3160,\n",
              " 843,\n",
              " 2200,\n",
              " 1697,\n",
              " 2332,\n",
              " 566,\n",
              " 3409,\n",
              " 285,\n",
              " 397,\n",
              " 3235,\n",
              " 978,\n",
              " 677,\n",
              " 2832,\n",
              " 698,\n",
              " 969,\n",
              " 2874,\n",
              " 3364,\n",
              " 3027,\n",
              " 70,\n",
              " 643,\n",
              " 464,\n",
              " 2209,\n",
              " 1193,\n",
              " 847,\n",
              " 675,\n",
              " 196,\n",
              " 987,\n",
              " 181,\n",
              " 1511,\n",
              " 1251,\n",
              " 457,\n",
              " 533,\n",
              " 758,\n",
              " 922,\n",
              " 1794,\n",
              " 24,\n",
              " 89,\n",
              " 2222,\n",
              " 2038,\n",
              " 1844,\n",
              " 1419,\n",
              " 819,\n",
              " 3085,\n",
              " 2370,\n",
              " 329,\n",
              " 2183,\n",
              " 3071,\n",
              " 1812,\n",
              " 644,\n",
              " 3328,\n",
              " 1568,\n",
              " 861,\n",
              " 3398,\n",
              " 882,\n",
              " 2542,\n",
              " 1634,\n",
              " 2617,\n",
              " 3289,\n",
              " 1318,\n",
              " 2923,\n",
              " 1650,\n",
              " 1747,\n",
              " 547,\n",
              " 2017,\n",
              " 1166,\n",
              " 815,\n",
              " 3229,\n",
              " 3341,\n",
              " 2729,\n",
              " 1937,\n",
              " 1199,\n",
              " 2462,\n",
              " 1321,\n",
              " 1783,\n",
              " 743,\n",
              " 2591,\n",
              " 2157,\n",
              " 3420,\n",
              " 1253,\n",
              " 2232,\n",
              " 48,\n",
              " 1702,\n",
              " 2468,\n",
              " 1653,\n",
              " 2024,\n",
              " 1663,\n",
              " 991,\n",
              " 3140,\n",
              " 40,\n",
              " 1001,\n",
              " 1,\n",
              " 1610,\n",
              " 319,\n",
              " 1133,\n",
              " 998,\n",
              " 1059,\n",
              " 2233,\n",
              " 434,\n",
              " 3357,\n",
              " 1506,\n",
              " 1534,\n",
              " 3176,\n",
              " 538,\n",
              " 2135,\n",
              " 281,\n",
              " 1409,\n",
              " 1475,\n",
              " 1388,\n",
              " 1280,\n",
              " 1972,\n",
              " 2718,\n",
              " 3070,\n",
              " 2667,\n",
              " 440,\n",
              " 1996,\n",
              " 1492,\n",
              " 1036,\n",
              " 1079,\n",
              " 326,\n",
              " 138,\n",
              " 1975,\n",
              " 2908,\n",
              " 2299,\n",
              " 2259,\n",
              " 2042,\n",
              " 2606,\n",
              " 1542,\n",
              " 335,\n",
              " 632,\n",
              " 1993,\n",
              " 3400,\n",
              " 2699,\n",
              " 482,\n",
              " 2182,\n",
              " 1891,\n",
              " 453,\n",
              " 1765,\n",
              " 1694,\n",
              " 3269,\n",
              " 2817,\n",
              " 2081,\n",
              " 1026,\n",
              " 1030,\n",
              " 1490,\n",
              " 2533,\n",
              " 1745,\n",
              " 1111,\n",
              " 2895,\n",
              " 751,\n",
              " 1342,\n",
              " 1925,\n",
              " 2128,\n",
              " 2234,\n",
              " 252,\n",
              " 1952,\n",
              " 19,\n",
              " 2005,\n",
              " 31,\n",
              " 575,\n",
              " 908,\n",
              " 570,\n",
              " 2454,\n",
              " 3047,\n",
              " 2855,\n",
              " 2774,\n",
              " 1057,\n",
              " 3367,\n",
              " 275,\n",
              " 2630,\n",
              " 615,\n",
              " 218,\n",
              " 712,\n",
              " 2022,\n",
              " 1081,\n",
              " 1207,\n",
              " 975,\n",
              " 2675,\n",
              " 116,\n",
              " 3344,\n",
              " 1326,\n",
              " 2160,\n",
              " 473,\n",
              " 539,\n",
              " 376,\n",
              " 1332,\n",
              " 338,\n",
              " 489,\n",
              " 2255,\n",
              " 5,\n",
              " 3195,\n",
              " 1272,\n",
              " 392,\n",
              " 451,\n",
              " 1660,\n",
              " 2843,\n",
              " 2163,\n",
              " 3086,\n",
              " 2867,\n",
              " 178,\n",
              " 499,\n",
              " 347,\n",
              " 661,\n",
              " 2432,\n",
              " 2383,\n",
              " 498,\n",
              " 3292,\n",
              " 1849,\n",
              " 561,\n",
              " 2453,\n",
              " 1008,\n",
              " 659,\n",
              " 1115,\n",
              " 3041,\n",
              " 2970,\n",
              " 3040,\n",
              " 822,\n",
              " 1320,\n",
              " 2366,\n",
              " 1590,\n",
              " 749,\n",
              " 2692,\n",
              " 2627,\n",
              " 158,\n",
              " 2770,\n",
              " 984,\n",
              " 1850,\n",
              " 1559,\n",
              " 2052,\n",
              " 1066,\n",
              " 2887,\n",
              " 384,\n",
              " 3406,\n",
              " 1736,\n",
              " 1489,\n",
              " 246,\n",
              " 2906,\n",
              " 1985,\n",
              " 1827,\n",
              " 1992,\n",
              " 2146,\n",
              " 216,\n",
              " 2604,\n",
              " 1124,\n",
              " 2221,\n",
              " 2626,\n",
              " 1638,\n",
              " 2605,\n",
              " 2810,\n",
              " 2556,\n",
              " 2949,\n",
              " 1259,\n",
              " 2151,\n",
              " 341,\n",
              " 3358,\n",
              " 2942,\n",
              " 2743,\n",
              " 1387,\n",
              " 3010,\n",
              " 3157,\n",
              " 3264,\n",
              " 1727,\n",
              " 217,\n",
              " 2049,\n",
              " 3214,\n",
              " 1369,\n",
              " 1562,\n",
              " 506,\n",
              " 1867,\n",
              " 2203,\n",
              " 3167,\n",
              " 1007,\n",
              " 57,\n",
              " 131,\n",
              " 1871,\n",
              " 3387,\n",
              " 429,\n",
              " 38,\n",
              " 3302,\n",
              " 2663,\n",
              " 21,\n",
              " 556,\n",
              " 1524,\n",
              " 1530,\n",
              " 2446,\n",
              " 1308,\n",
              " 3133,\n",
              " 3447,\n",
              " 145,\n",
              " 1936,\n",
              " 2687,\n",
              " 2795,\n",
              " 1798,\n",
              " 3425,\n",
              " 2510,\n",
              " 1143,\n",
              " 274,\n",
              " 1345,\n",
              " 3244,\n",
              " 2884,\n",
              " 1892,\n",
              " 1440,\n",
              " 1180,\n",
              " 2975,\n",
              " 3078,\n",
              " 2962,\n",
              " 3020,\n",
              " 2347,\n",
              " 1463]"
            ]
          },
          "metadata": {},
          "execution_count": 25
        }
      ]
    },
    {
      "cell_type": "code",
      "source": [
        "'''\n",
        "GENERATING META-MAIN.TXT FILE FOR POLYGLOT\n",
        "'''\n",
        "with open('meta-main.txt', 'w') as the_file:\n",
        "    the_file.write('0\\n')\n",
        "    for i in range(0, len(anchors)):\n",
        "        the_file.write(str(anchors[i]) + ' ' + str(songs[anchors[i]]) + '\\n')"
      ],
      "metadata": {
        "id": "VgoiemxjOpvM"
      },
      "execution_count": null,
      "outputs": []
    },
    {
      "cell_type": "code",
      "source": [
        "'''\n",
        "GENERATING FULL_DATA FILE FOR POLYGLOT\n",
        "'''\n",
        "with open('full_data', 'w') as the_file:\n",
        "    for i in range(0, len(songs)):\n",
        "        song = songs[i]\n",
        "        if i in anchors:\n",
        "            is_anchor = 1\n",
        "        else:\n",
        "            is_anchor = 0\n",
        "        the_file.write(str(song) + '\\n')\n",
        "        the_file.write(str(embedding_3[i][0]) + ' ' + str(embedding_3[i][1]) + ' ' + str(embedding_3[i][2]) + ' ' + str(is_anchor) + ' \\n')"
      ],
      "metadata": {
        "id": "rmJHzvQwMRfz"
      },
      "execution_count": null,
      "outputs": []
    },
    {
      "cell_type": "code",
      "source": [
        "# convert high dim data to np.array for speed up\n",
        "df_np = df.to_numpy()\n",
        "df_np"
      ],
      "metadata": {
        "colab": {
          "base_uri": "https://localhost:8080/"
        },
        "id": "oaUvTsVKQ-a8",
        "outputId": "ecaa22ba-bb40-4b40-958b-4886fd916c12"
      },
      "execution_count": null,
      "outputs": [
        {
          "output_type": "execute_result",
          "data": {
            "text/plain": [
              "array([[-1.12424644e+02,  3.66945175e+00, -9.34439301e+00, ...,\n",
              "         1.47747653e+00, -1.49187904e+00,  9.64105498e-01],\n",
              "       [-1.28394095e+02, -8.10915907e+00,  1.64360553e+00, ...,\n",
              "         3.66807995e+00,  4.85831201e-01,  3.19045042e+00],\n",
              "       [-1.77510285e+02,  6.31028522e+00, -5.04163619e+00, ...,\n",
              "         5.78675869e+00,  1.63803239e+00,  1.46492808e+00],\n",
              "       ...,\n",
              "       [-2.97247950e+01,  1.04801670e+01,  1.65563190e+00, ...,\n",
              "         2.19806675e+00, -1.54630350e+00, -2.29462068e+00],\n",
              "       [-4.25055696e+01,  4.45611148e+00,  8.93312597e-02, ...,\n",
              "        -9.14209811e-01,  1.27110533e+01, -3.14421688e+00],\n",
              "       [-3.72516986e+01,  2.90570449e+01, -4.76197330e+01, ...,\n",
              "        -1.14629605e+00, -1.50824568e+00, -5.18971722e+00]])"
            ]
          },
          "metadata": {},
          "execution_count": 30
        }
      ]
    },
    {
      "cell_type": "code",
      "source": [
        "'''\n",
        "COMPUTING EUCLIDEAN SCORES FOR HIGH DIM DATA\n",
        "'''\n",
        "from numpy import dot\n",
        "from numpy.linalg import norm\n",
        "\n",
        "# np.linalg.norm(a-b)\n",
        "anchor_euc_scores = {}\n",
        "for i in range(0, len(anchors)):\n",
        "    print(str(i) + \" done!\")\n",
        "    current_index = anchors[i]\n",
        "    current_point = df_np[current_index]\n",
        "    euc_sim_scores = []\n",
        "    for j in range(0, len(songs)):\n",
        "        other_point = df_np[j]\n",
        "        euc_sim = 1 / (1 + np.linalg.norm(current_point - other_point))\n",
        "        euc_sim_scores.append([j, euc_sim * 100000])\n",
        "    euc_sim_scores = sorted(euc_sim_scores , key=lambda k: [k[1], k[0]], reverse=True)\n",
        "    anchor_euc_scores[current_index] = euc_sim_scores[1:]"
      ],
      "metadata": {
        "colab": {
          "base_uri": "https://localhost:8080/"
        },
        "collapsed": true,
        "id": "32Yvw13UPCX7",
        "outputId": "cd1117c9-38b1-4175-d6f6-fc71d2df41bd"
      },
      "execution_count": null,
      "outputs": [
        {
          "output_type": "stream",
          "name": "stdout",
          "text": [
            "0 done!\n",
            "1 done!\n",
            "2 done!\n",
            "3 done!\n",
            "4 done!\n",
            "5 done!\n",
            "6 done!\n",
            "7 done!\n",
            "8 done!\n",
            "9 done!\n",
            "10 done!\n",
            "11 done!\n",
            "12 done!\n",
            "13 done!\n",
            "14 done!\n",
            "15 done!\n",
            "16 done!\n",
            "17 done!\n",
            "18 done!\n",
            "19 done!\n",
            "20 done!\n",
            "21 done!\n",
            "22 done!\n",
            "23 done!\n",
            "24 done!\n",
            "25 done!\n",
            "26 done!\n",
            "27 done!\n",
            "28 done!\n",
            "29 done!\n",
            "30 done!\n",
            "31 done!\n",
            "32 done!\n",
            "33 done!\n",
            "34 done!\n",
            "35 done!\n",
            "36 done!\n",
            "37 done!\n",
            "38 done!\n",
            "39 done!\n",
            "40 done!\n",
            "41 done!\n",
            "42 done!\n",
            "43 done!\n",
            "44 done!\n",
            "45 done!\n",
            "46 done!\n",
            "47 done!\n",
            "48 done!\n",
            "49 done!\n",
            "50 done!\n",
            "51 done!\n",
            "52 done!\n",
            "53 done!\n",
            "54 done!\n",
            "55 done!\n",
            "56 done!\n",
            "57 done!\n",
            "58 done!\n",
            "59 done!\n",
            "60 done!\n",
            "61 done!\n",
            "62 done!\n",
            "63 done!\n",
            "64 done!\n",
            "65 done!\n",
            "66 done!\n",
            "67 done!\n",
            "68 done!\n",
            "69 done!\n",
            "70 done!\n",
            "71 done!\n",
            "72 done!\n",
            "73 done!\n",
            "74 done!\n",
            "75 done!\n",
            "76 done!\n",
            "77 done!\n",
            "78 done!\n",
            "79 done!\n",
            "80 done!\n",
            "81 done!\n",
            "82 done!\n",
            "83 done!\n",
            "84 done!\n",
            "85 done!\n",
            "86 done!\n",
            "87 done!\n",
            "88 done!\n",
            "89 done!\n",
            "90 done!\n",
            "91 done!\n",
            "92 done!\n",
            "93 done!\n",
            "94 done!\n",
            "95 done!\n",
            "96 done!\n",
            "97 done!\n",
            "98 done!\n",
            "99 done!\n",
            "100 done!\n",
            "101 done!\n",
            "102 done!\n",
            "103 done!\n",
            "104 done!\n",
            "105 done!\n",
            "106 done!\n",
            "107 done!\n",
            "108 done!\n",
            "109 done!\n",
            "110 done!\n",
            "111 done!\n",
            "112 done!\n",
            "113 done!\n",
            "114 done!\n",
            "115 done!\n",
            "116 done!\n",
            "117 done!\n",
            "118 done!\n",
            "119 done!\n",
            "120 done!\n",
            "121 done!\n",
            "122 done!\n",
            "123 done!\n",
            "124 done!\n",
            "125 done!\n",
            "126 done!\n",
            "127 done!\n",
            "128 done!\n",
            "129 done!\n",
            "130 done!\n",
            "131 done!\n",
            "132 done!\n",
            "133 done!\n",
            "134 done!\n",
            "135 done!\n",
            "136 done!\n",
            "137 done!\n",
            "138 done!\n",
            "139 done!\n",
            "140 done!\n",
            "141 done!\n",
            "142 done!\n",
            "143 done!\n",
            "144 done!\n",
            "145 done!\n",
            "146 done!\n",
            "147 done!\n",
            "148 done!\n",
            "149 done!\n",
            "150 done!\n",
            "151 done!\n",
            "152 done!\n",
            "153 done!\n",
            "154 done!\n",
            "155 done!\n",
            "156 done!\n",
            "157 done!\n",
            "158 done!\n",
            "159 done!\n",
            "160 done!\n",
            "161 done!\n",
            "162 done!\n",
            "163 done!\n",
            "164 done!\n",
            "165 done!\n",
            "166 done!\n",
            "167 done!\n",
            "168 done!\n",
            "169 done!\n",
            "170 done!\n",
            "171 done!\n",
            "172 done!\n",
            "173 done!\n",
            "174 done!\n",
            "175 done!\n",
            "176 done!\n",
            "177 done!\n",
            "178 done!\n",
            "179 done!\n",
            "180 done!\n",
            "181 done!\n",
            "182 done!\n",
            "183 done!\n",
            "184 done!\n",
            "185 done!\n",
            "186 done!\n",
            "187 done!\n",
            "188 done!\n",
            "189 done!\n",
            "190 done!\n",
            "191 done!\n",
            "192 done!\n",
            "193 done!\n",
            "194 done!\n",
            "195 done!\n",
            "196 done!\n",
            "197 done!\n",
            "198 done!\n",
            "199 done!\n",
            "200 done!\n",
            "201 done!\n",
            "202 done!\n",
            "203 done!\n",
            "204 done!\n",
            "205 done!\n",
            "206 done!\n",
            "207 done!\n",
            "208 done!\n",
            "209 done!\n",
            "210 done!\n",
            "211 done!\n",
            "212 done!\n",
            "213 done!\n",
            "214 done!\n",
            "215 done!\n",
            "216 done!\n",
            "217 done!\n",
            "218 done!\n",
            "219 done!\n",
            "220 done!\n",
            "221 done!\n",
            "222 done!\n",
            "223 done!\n",
            "224 done!\n",
            "225 done!\n",
            "226 done!\n",
            "227 done!\n",
            "228 done!\n",
            "229 done!\n",
            "230 done!\n",
            "231 done!\n",
            "232 done!\n",
            "233 done!\n",
            "234 done!\n",
            "235 done!\n",
            "236 done!\n",
            "237 done!\n",
            "238 done!\n",
            "239 done!\n",
            "240 done!\n",
            "241 done!\n",
            "242 done!\n",
            "243 done!\n",
            "244 done!\n",
            "245 done!\n",
            "246 done!\n",
            "247 done!\n",
            "248 done!\n",
            "249 done!\n",
            "250 done!\n",
            "251 done!\n",
            "252 done!\n",
            "253 done!\n",
            "254 done!\n",
            "255 done!\n",
            "256 done!\n",
            "257 done!\n",
            "258 done!\n",
            "259 done!\n",
            "260 done!\n",
            "261 done!\n",
            "262 done!\n",
            "263 done!\n",
            "264 done!\n",
            "265 done!\n",
            "266 done!\n",
            "267 done!\n",
            "268 done!\n",
            "269 done!\n",
            "270 done!\n",
            "271 done!\n",
            "272 done!\n",
            "273 done!\n",
            "274 done!\n",
            "275 done!\n",
            "276 done!\n",
            "277 done!\n",
            "278 done!\n",
            "279 done!\n",
            "280 done!\n",
            "281 done!\n",
            "282 done!\n",
            "283 done!\n",
            "284 done!\n",
            "285 done!\n",
            "286 done!\n",
            "287 done!\n",
            "288 done!\n",
            "289 done!\n",
            "290 done!\n",
            "291 done!\n",
            "292 done!\n",
            "293 done!\n",
            "294 done!\n",
            "295 done!\n",
            "296 done!\n",
            "297 done!\n",
            "298 done!\n",
            "299 done!\n",
            "300 done!\n",
            "301 done!\n",
            "302 done!\n",
            "303 done!\n",
            "304 done!\n",
            "305 done!\n",
            "306 done!\n",
            "307 done!\n",
            "308 done!\n",
            "309 done!\n",
            "310 done!\n",
            "311 done!\n",
            "312 done!\n",
            "313 done!\n",
            "314 done!\n",
            "315 done!\n",
            "316 done!\n",
            "317 done!\n",
            "318 done!\n",
            "319 done!\n",
            "320 done!\n",
            "321 done!\n",
            "322 done!\n",
            "323 done!\n",
            "324 done!\n",
            "325 done!\n",
            "326 done!\n",
            "327 done!\n",
            "328 done!\n",
            "329 done!\n",
            "330 done!\n",
            "331 done!\n",
            "332 done!\n",
            "333 done!\n",
            "334 done!\n",
            "335 done!\n",
            "336 done!\n",
            "337 done!\n",
            "338 done!\n",
            "339 done!\n",
            "340 done!\n",
            "341 done!\n",
            "342 done!\n",
            "343 done!\n",
            "344 done!\n"
          ]
        }
      ]
    },
    {
      "cell_type": "code",
      "source": [
        "'''\n",
        "SAVING EUCLIDEAN SCORES\n",
        "'''\n",
        "from google.colab import drive\n",
        "drive.mount('/content/drive')\n",
        "import os\n",
        "!mkdir bird_songs_euclidean\n",
        "os.chdir('bird_songs_euclidean')\n",
        "!pwd"
      ],
      "metadata": {
        "colab": {
          "base_uri": "https://localhost:8080/"
        },
        "id": "aBaVoWcORqpJ",
        "outputId": "ce101154-7b38-4efe-a2c8-ece99f6c0f2e"
      },
      "execution_count": null,
      "outputs": [
        {
          "output_type": "stream",
          "name": "stdout",
          "text": [
            "Drive already mounted at /content/drive; to attempt to forcibly remount, call drive.mount(\"/content/drive\", force_remount=True).\n",
            "/content/bird_songs_euclidean\n"
          ]
        }
      ]
    },
    {
      "cell_type": "code",
      "source": [
        "from google.colab import files\n",
        "\n",
        "for anchor in anchors:\n",
        "    filename = str(anchor)+'.txt'\n",
        "    with open(filename, 'w') as the_file:\n",
        "        for score in anchor_euc_scores[anchor]:\n",
        "            # note that score is of the form: [index, euclidean]\n",
        "            the_file.write(str(score[0]) + ', ' + str(score[1]) + '\\n')"
      ],
      "metadata": {
        "collapsed": true,
        "id": "JZry3b-zSFhL"
      },
      "execution_count": null,
      "outputs": []
    },
    {
      "cell_type": "code",
      "source": [
        "os.chdir('..')\n",
        "!pwd\n",
        "!cp -r \"bird_songs_euclidean\" \"drive/MyDrive/\""
      ],
      "metadata": {
        "colab": {
          "base_uri": "https://localhost:8080/"
        },
        "id": "CcMu2k9wSYUO",
        "outputId": "5c7f575c-0e0c-4c1f-fde9-2342c53be293"
      },
      "execution_count": null,
      "outputs": [
        {
          "output_type": "stream",
          "name": "stdout",
          "text": [
            "/content\n"
          ]
        }
      ]
    },
    {
      "cell_type": "markdown",
      "source": [
        "# **Computing Parallel Coordinates Features**\n",
        "\n",
        "\n",
        "1.   Latitude\n",
        "2.   Longitude\n",
        "3.   Spectral Centroid\n",
        "4.   Zero Crossing Rate\n",
        "\n",
        "This is just an initial list. Future work would focus on creating a larger list + choosing better features.\n",
        "\n"
      ],
      "metadata": {
        "id": "PrvGRT6L6u_O"
      }
    },
    {
      "cell_type": "code",
      "source": [
        "df = pd.read_csv(\"/content/drive/MyDrive/argentina_mexico_ecuador_colombia_brazil_and_peru.csv\")"
      ],
      "metadata": {
        "colab": {
          "base_uri": "https://localhost:8080/"
        },
        "id": "mmW3GOk0_KnG",
        "outputId": "0e1299d4-d27d-419a-8ff0-486bb4b7e0e6"
      },
      "execution_count": null,
      "outputs": [
        {
          "output_type": "stream",
          "name": "stderr",
          "text": [
            "<ipython-input-21-8bf6990abf0f>:1: DtypeWarning: Columns (33) have mixed types. Specify dtype option on import or set low_memory=False.\n",
            "  df = pd.read_csv(\"/content/drive/MyDrive/argentina_mexico_ecuador_colombia_brazil_and_peru.csv\")\n"
          ]
        }
      ]
    },
    {
      "cell_type": "code",
      "source": [
        "df = pd.read_csv(\"/content/birds.csv\")\n",
        "df"
      ],
      "metadata": {
        "colab": {
          "base_uri": "https://localhost:8080/",
          "height": 1000
        },
        "id": "KSfIAFWuERKi",
        "outputId": "a6c46554-5848-4e34-b2d1-9a51f630b82e"
      },
      "execution_count": null,
      "outputs": [
        {
          "output_type": "execute_result",
          "data": {
            "text/plain": [
              "      Cat. Nr.                 Common Name Length  Recordist        Date  \\\n",
              "0     XC228210        Blue-crowned Manakin   0:20        NaN  2006-07-22   \n",
              "1     XC120096        Blue-crowned Manakin   0:49        NaN  2012-10-30   \n",
              "2     XC200163        Blue-crowned Manakin   0:42        NaN  1998-12-20   \n",
              "3     XC119434        Blue-crowned Manakin   0:34        NaN  2010-06-06   \n",
              "4       XC8330        Blue-crowned Manakin   0:16        NaN  2006-09-19   \n",
              "...        ...                         ...    ...        ...         ...   \n",
              "4715   XC38735         Black-tailed Tityra   0:13        NaN  2009-07-23   \n",
              "4716  XC202742     Ruddy-tailed Flycatcher   0:22        NaN  2009-03-10   \n",
              "4717  XC200253     Ruddy-tailed Flycatcher   0:14        NaN  1998-12-19   \n",
              "4718  XC486893  Amazonian Royal Flycatcher   0:48        NaN  2008-03-12   \n",
              "4719  XC119430  Amazonian Royal Flycatcher   0:18        NaN  2010-06-06   \n",
              "\n",
              "       Time    Country                                 Location Elevation  \\\n",
              "0     15:00     Brazil  Sao Gabriel da Cachoeira area, Amazonas       NaN   \n",
              "1     08:30     Brazil                       Manicoré, Amazonas        60   \n",
              "2     09:00     Brazil       São Gabriel da Cachoeira, Amazonas        70   \n",
              "3     10:00     Brazil                        Careiro, Amazonas        20   \n",
              "4     15:30       Peru                                      NaN       300   \n",
              "...     ...        ...                                      ...       ...   \n",
              "4715    ?:?     Brazil                     Novo Airao, Amazonas         ?   \n",
              "4716      ?  Venezuela                Junglaven Lodge, Amazonas       120   \n",
              "4717  10:36     Brazil       São Gabriel da Cachoeira, Amazonas        70   \n",
              "4718  14:02     Brazil                Rio Tapajós,Apuí,Amazonas       112   \n",
              "4719  10:00     Brazil                        Careiro, Amazonas        20   \n",
              "\n",
              "            Type                                            Remarks Quality  \\\n",
              "0           call  ID certainty 80%. (Archiv. tape 393 side A tra...       B   \n",
              "1     call, song                                             [sono]       B   \n",
              "2     call, song  left bank of rio Negro - terra firme forest, w...       C   \n",
              "3           song         Recording (not its ID) has been discussed.       C   \n",
              "4          call?           A single bird, at least no others heard.       C   \n",
              "...          ...                                                ...     ...   \n",
              "4715           ?                                  natural recording       C   \n",
              "4716        call                                             [sono]       A   \n",
              "4717        song  trail on right bank of rio Negro, just below r...       A   \n",
              "4718        call                                         DCB 617-6g       B   \n",
              "4719        song                                             [sono]       C   \n",
              "\n",
              "                                               MP3 Link  \n",
              "0     //xeno-canto.org/sounds/uploaded/OOECIWCSWV/XC...  \n",
              "1     //xeno-canto.org/sounds/uploaded/TGBFXDVERJ/XC...  \n",
              "2     //xeno-canto.org/sounds/uploaded/DGVLLRYDXS/XC...  \n",
              "3     //xeno-canto.org/sounds/uploaded/TGBFXDVERJ/XC...  \n",
              "4     //xeno-canto.org/sounds/uploaded/SNUDCZVUQK/Le...  \n",
              "...                                                 ...  \n",
              "4715  //xeno-canto.org/sounds/uploaded/GKADEITXTH/TI...  \n",
              "4716  //xeno-canto.org/sounds/uploaded/VROUALCTKG/XC...  \n",
              "4717  //xeno-canto.org/sounds/uploaded/DGVLLRYDXS/XC...  \n",
              "4718  //xeno-canto.org/sounds/uploaded/YOXWKYFZAP/XC...  \n",
              "4719  //xeno-canto.org/sounds/uploaded/TGBFXDVERJ/XC...  \n",
              "\n",
              "[4720 rows x 13 columns]"
            ],
            "text/html": [
              "\n",
              "  <div id=\"df-167efc7d-cd11-4a48-b803-c4da76593657\" class=\"colab-df-container\">\n",
              "    <div>\n",
              "<style scoped>\n",
              "    .dataframe tbody tr th:only-of-type {\n",
              "        vertical-align: middle;\n",
              "    }\n",
              "\n",
              "    .dataframe tbody tr th {\n",
              "        vertical-align: top;\n",
              "    }\n",
              "\n",
              "    .dataframe thead th {\n",
              "        text-align: right;\n",
              "    }\n",
              "</style>\n",
              "<table border=\"1\" class=\"dataframe\">\n",
              "  <thead>\n",
              "    <tr style=\"text-align: right;\">\n",
              "      <th></th>\n",
              "      <th>Cat. Nr.</th>\n",
              "      <th>Common Name</th>\n",
              "      <th>Length</th>\n",
              "      <th>Recordist</th>\n",
              "      <th>Date</th>\n",
              "      <th>Time</th>\n",
              "      <th>Country</th>\n",
              "      <th>Location</th>\n",
              "      <th>Elevation</th>\n",
              "      <th>Type</th>\n",
              "      <th>Remarks</th>\n",
              "      <th>Quality</th>\n",
              "      <th>MP3 Link</th>\n",
              "    </tr>\n",
              "  </thead>\n",
              "  <tbody>\n",
              "    <tr>\n",
              "      <th>0</th>\n",
              "      <td>XC228210</td>\n",
              "      <td>Blue-crowned Manakin</td>\n",
              "      <td>0:20</td>\n",
              "      <td>NaN</td>\n",
              "      <td>2006-07-22</td>\n",
              "      <td>15:00</td>\n",
              "      <td>Brazil</td>\n",
              "      <td>Sao Gabriel da Cachoeira area, Amazonas</td>\n",
              "      <td>NaN</td>\n",
              "      <td>call</td>\n",
              "      <td>ID certainty 80%. (Archiv. tape 393 side A tra...</td>\n",
              "      <td>B</td>\n",
              "      <td>//xeno-canto.org/sounds/uploaded/OOECIWCSWV/XC...</td>\n",
              "    </tr>\n",
              "    <tr>\n",
              "      <th>1</th>\n",
              "      <td>XC120096</td>\n",
              "      <td>Blue-crowned Manakin</td>\n",
              "      <td>0:49</td>\n",
              "      <td>NaN</td>\n",
              "      <td>2012-10-30</td>\n",
              "      <td>08:30</td>\n",
              "      <td>Brazil</td>\n",
              "      <td>Manicoré, Amazonas</td>\n",
              "      <td>60</td>\n",
              "      <td>call, song</td>\n",
              "      <td>[sono]</td>\n",
              "      <td>B</td>\n",
              "      <td>//xeno-canto.org/sounds/uploaded/TGBFXDVERJ/XC...</td>\n",
              "    </tr>\n",
              "    <tr>\n",
              "      <th>2</th>\n",
              "      <td>XC200163</td>\n",
              "      <td>Blue-crowned Manakin</td>\n",
              "      <td>0:42</td>\n",
              "      <td>NaN</td>\n",
              "      <td>1998-12-20</td>\n",
              "      <td>09:00</td>\n",
              "      <td>Brazil</td>\n",
              "      <td>São Gabriel da Cachoeira, Amazonas</td>\n",
              "      <td>70</td>\n",
              "      <td>call, song</td>\n",
              "      <td>left bank of rio Negro - terra firme forest, w...</td>\n",
              "      <td>C</td>\n",
              "      <td>//xeno-canto.org/sounds/uploaded/DGVLLRYDXS/XC...</td>\n",
              "    </tr>\n",
              "    <tr>\n",
              "      <th>3</th>\n",
              "      <td>XC119434</td>\n",
              "      <td>Blue-crowned Manakin</td>\n",
              "      <td>0:34</td>\n",
              "      <td>NaN</td>\n",
              "      <td>2010-06-06</td>\n",
              "      <td>10:00</td>\n",
              "      <td>Brazil</td>\n",
              "      <td>Careiro, Amazonas</td>\n",
              "      <td>20</td>\n",
              "      <td>song</td>\n",
              "      <td>Recording (not its ID) has been discussed.</td>\n",
              "      <td>C</td>\n",
              "      <td>//xeno-canto.org/sounds/uploaded/TGBFXDVERJ/XC...</td>\n",
              "    </tr>\n",
              "    <tr>\n",
              "      <th>4</th>\n",
              "      <td>XC8330</td>\n",
              "      <td>Blue-crowned Manakin</td>\n",
              "      <td>0:16</td>\n",
              "      <td>NaN</td>\n",
              "      <td>2006-09-19</td>\n",
              "      <td>15:30</td>\n",
              "      <td>Peru</td>\n",
              "      <td>NaN</td>\n",
              "      <td>300</td>\n",
              "      <td>call?</td>\n",
              "      <td>A single bird, at least no others heard.</td>\n",
              "      <td>C</td>\n",
              "      <td>//xeno-canto.org/sounds/uploaded/SNUDCZVUQK/Le...</td>\n",
              "    </tr>\n",
              "    <tr>\n",
              "      <th>...</th>\n",
              "      <td>...</td>\n",
              "      <td>...</td>\n",
              "      <td>...</td>\n",
              "      <td>...</td>\n",
              "      <td>...</td>\n",
              "      <td>...</td>\n",
              "      <td>...</td>\n",
              "      <td>...</td>\n",
              "      <td>...</td>\n",
              "      <td>...</td>\n",
              "      <td>...</td>\n",
              "      <td>...</td>\n",
              "      <td>...</td>\n",
              "    </tr>\n",
              "    <tr>\n",
              "      <th>4715</th>\n",
              "      <td>XC38735</td>\n",
              "      <td>Black-tailed Tityra</td>\n",
              "      <td>0:13</td>\n",
              "      <td>NaN</td>\n",
              "      <td>2009-07-23</td>\n",
              "      <td>?:?</td>\n",
              "      <td>Brazil</td>\n",
              "      <td>Novo Airao, Amazonas</td>\n",
              "      <td>?</td>\n",
              "      <td>?</td>\n",
              "      <td>natural recording</td>\n",
              "      <td>C</td>\n",
              "      <td>//xeno-canto.org/sounds/uploaded/GKADEITXTH/TI...</td>\n",
              "    </tr>\n",
              "    <tr>\n",
              "      <th>4716</th>\n",
              "      <td>XC202742</td>\n",
              "      <td>Ruddy-tailed Flycatcher</td>\n",
              "      <td>0:22</td>\n",
              "      <td>NaN</td>\n",
              "      <td>2009-03-10</td>\n",
              "      <td>?</td>\n",
              "      <td>Venezuela</td>\n",
              "      <td>Junglaven Lodge, Amazonas</td>\n",
              "      <td>120</td>\n",
              "      <td>call</td>\n",
              "      <td>[sono]</td>\n",
              "      <td>A</td>\n",
              "      <td>//xeno-canto.org/sounds/uploaded/VROUALCTKG/XC...</td>\n",
              "    </tr>\n",
              "    <tr>\n",
              "      <th>4717</th>\n",
              "      <td>XC200253</td>\n",
              "      <td>Ruddy-tailed Flycatcher</td>\n",
              "      <td>0:14</td>\n",
              "      <td>NaN</td>\n",
              "      <td>1998-12-19</td>\n",
              "      <td>10:36</td>\n",
              "      <td>Brazil</td>\n",
              "      <td>São Gabriel da Cachoeira, Amazonas</td>\n",
              "      <td>70</td>\n",
              "      <td>song</td>\n",
              "      <td>trail on right bank of rio Negro, just below r...</td>\n",
              "      <td>A</td>\n",
              "      <td>//xeno-canto.org/sounds/uploaded/DGVLLRYDXS/XC...</td>\n",
              "    </tr>\n",
              "    <tr>\n",
              "      <th>4718</th>\n",
              "      <td>XC486893</td>\n",
              "      <td>Amazonian Royal Flycatcher</td>\n",
              "      <td>0:48</td>\n",
              "      <td>NaN</td>\n",
              "      <td>2008-03-12</td>\n",
              "      <td>14:02</td>\n",
              "      <td>Brazil</td>\n",
              "      <td>Rio Tapajós,Apuí,Amazonas</td>\n",
              "      <td>112</td>\n",
              "      <td>call</td>\n",
              "      <td>DCB 617-6g</td>\n",
              "      <td>B</td>\n",
              "      <td>//xeno-canto.org/sounds/uploaded/YOXWKYFZAP/XC...</td>\n",
              "    </tr>\n",
              "    <tr>\n",
              "      <th>4719</th>\n",
              "      <td>XC119430</td>\n",
              "      <td>Amazonian Royal Flycatcher</td>\n",
              "      <td>0:18</td>\n",
              "      <td>NaN</td>\n",
              "      <td>2010-06-06</td>\n",
              "      <td>10:00</td>\n",
              "      <td>Brazil</td>\n",
              "      <td>Careiro, Amazonas</td>\n",
              "      <td>20</td>\n",
              "      <td>song</td>\n",
              "      <td>[sono]</td>\n",
              "      <td>C</td>\n",
              "      <td>//xeno-canto.org/sounds/uploaded/TGBFXDVERJ/XC...</td>\n",
              "    </tr>\n",
              "  </tbody>\n",
              "</table>\n",
              "<p>4720 rows × 13 columns</p>\n",
              "</div>\n",
              "    <div class=\"colab-df-buttons\">\n",
              "\n",
              "  <div class=\"colab-df-container\">\n",
              "    <button class=\"colab-df-convert\" onclick=\"convertToInteractive('df-167efc7d-cd11-4a48-b803-c4da76593657')\"\n",
              "            title=\"Convert this dataframe to an interactive table.\"\n",
              "            style=\"display:none;\">\n",
              "\n",
              "  <svg xmlns=\"http://www.w3.org/2000/svg\" height=\"24px\" viewBox=\"0 -960 960 960\">\n",
              "    <path d=\"M120-120v-720h720v720H120Zm60-500h600v-160H180v160Zm220 220h160v-160H400v160Zm0 220h160v-160H400v160ZM180-400h160v-160H180v160Zm440 0h160v-160H620v160ZM180-180h160v-160H180v160Zm440 0h160v-160H620v160Z\"/>\n",
              "  </svg>\n",
              "    </button>\n",
              "\n",
              "  <style>\n",
              "    .colab-df-container {\n",
              "      display:flex;\n",
              "      gap: 12px;\n",
              "    }\n",
              "\n",
              "    .colab-df-convert {\n",
              "      background-color: #E8F0FE;\n",
              "      border: none;\n",
              "      border-radius: 50%;\n",
              "      cursor: pointer;\n",
              "      display: none;\n",
              "      fill: #1967D2;\n",
              "      height: 32px;\n",
              "      padding: 0 0 0 0;\n",
              "      width: 32px;\n",
              "    }\n",
              "\n",
              "    .colab-df-convert:hover {\n",
              "      background-color: #E2EBFA;\n",
              "      box-shadow: 0px 1px 2px rgba(60, 64, 67, 0.3), 0px 1px 3px 1px rgba(60, 64, 67, 0.15);\n",
              "      fill: #174EA6;\n",
              "    }\n",
              "\n",
              "    .colab-df-buttons div {\n",
              "      margin-bottom: 4px;\n",
              "    }\n",
              "\n",
              "    [theme=dark] .colab-df-convert {\n",
              "      background-color: #3B4455;\n",
              "      fill: #D2E3FC;\n",
              "    }\n",
              "\n",
              "    [theme=dark] .colab-df-convert:hover {\n",
              "      background-color: #434B5C;\n",
              "      box-shadow: 0px 1px 3px 1px rgba(0, 0, 0, 0.15);\n",
              "      filter: drop-shadow(0px 1px 2px rgba(0, 0, 0, 0.3));\n",
              "      fill: #FFFFFF;\n",
              "    }\n",
              "  </style>\n",
              "\n",
              "    <script>\n",
              "      const buttonEl =\n",
              "        document.querySelector('#df-167efc7d-cd11-4a48-b803-c4da76593657 button.colab-df-convert');\n",
              "      buttonEl.style.display =\n",
              "        google.colab.kernel.accessAllowed ? 'block' : 'none';\n",
              "\n",
              "      async function convertToInteractive(key) {\n",
              "        const element = document.querySelector('#df-167efc7d-cd11-4a48-b803-c4da76593657');\n",
              "        const dataTable =\n",
              "          await google.colab.kernel.invokeFunction('convertToInteractive',\n",
              "                                                    [key], {});\n",
              "        if (!dataTable) return;\n",
              "\n",
              "        const docLinkHtml = 'Like what you see? Visit the ' +\n",
              "          '<a target=\"_blank\" href=https://colab.research.google.com/notebooks/data_table.ipynb>data table notebook</a>'\n",
              "          + ' to learn more about interactive tables.';\n",
              "        element.innerHTML = '';\n",
              "        dataTable['output_type'] = 'display_data';\n",
              "        await google.colab.output.renderOutput(dataTable, element);\n",
              "        const docLink = document.createElement('div');\n",
              "        docLink.innerHTML = docLinkHtml;\n",
              "        element.appendChild(docLink);\n",
              "      }\n",
              "    </script>\n",
              "  </div>\n",
              "\n",
              "\n",
              "<div id=\"df-5716701b-a377-45f2-8e00-2b6065329804\">\n",
              "  <button class=\"colab-df-quickchart\" onclick=\"quickchart('df-5716701b-a377-45f2-8e00-2b6065329804')\"\n",
              "            title=\"Suggest charts\"\n",
              "            style=\"display:none;\">\n",
              "\n",
              "<svg xmlns=\"http://www.w3.org/2000/svg\" height=\"24px\"viewBox=\"0 0 24 24\"\n",
              "     width=\"24px\">\n",
              "    <g>\n",
              "        <path d=\"M19 3H5c-1.1 0-2 .9-2 2v14c0 1.1.9 2 2 2h14c1.1 0 2-.9 2-2V5c0-1.1-.9-2-2-2zM9 17H7v-7h2v7zm4 0h-2V7h2v10zm4 0h-2v-4h2v4z\"/>\n",
              "    </g>\n",
              "</svg>\n",
              "  </button>\n",
              "\n",
              "<style>\n",
              "  .colab-df-quickchart {\n",
              "      --bg-color: #E8F0FE;\n",
              "      --fill-color: #1967D2;\n",
              "      --hover-bg-color: #E2EBFA;\n",
              "      --hover-fill-color: #174EA6;\n",
              "      --disabled-fill-color: #AAA;\n",
              "      --disabled-bg-color: #DDD;\n",
              "  }\n",
              "\n",
              "  [theme=dark] .colab-df-quickchart {\n",
              "      --bg-color: #3B4455;\n",
              "      --fill-color: #D2E3FC;\n",
              "      --hover-bg-color: #434B5C;\n",
              "      --hover-fill-color: #FFFFFF;\n",
              "      --disabled-bg-color: #3B4455;\n",
              "      --disabled-fill-color: #666;\n",
              "  }\n",
              "\n",
              "  .colab-df-quickchart {\n",
              "    background-color: var(--bg-color);\n",
              "    border: none;\n",
              "    border-radius: 50%;\n",
              "    cursor: pointer;\n",
              "    display: none;\n",
              "    fill: var(--fill-color);\n",
              "    height: 32px;\n",
              "    padding: 0;\n",
              "    width: 32px;\n",
              "  }\n",
              "\n",
              "  .colab-df-quickchart:hover {\n",
              "    background-color: var(--hover-bg-color);\n",
              "    box-shadow: 0 1px 2px rgba(60, 64, 67, 0.3), 0 1px 3px 1px rgba(60, 64, 67, 0.15);\n",
              "    fill: var(--button-hover-fill-color);\n",
              "  }\n",
              "\n",
              "  .colab-df-quickchart-complete:disabled,\n",
              "  .colab-df-quickchart-complete:disabled:hover {\n",
              "    background-color: var(--disabled-bg-color);\n",
              "    fill: var(--disabled-fill-color);\n",
              "    box-shadow: none;\n",
              "  }\n",
              "\n",
              "  .colab-df-spinner {\n",
              "    border: 2px solid var(--fill-color);\n",
              "    border-color: transparent;\n",
              "    border-bottom-color: var(--fill-color);\n",
              "    animation:\n",
              "      spin 1s steps(1) infinite;\n",
              "  }\n",
              "\n",
              "  @keyframes spin {\n",
              "    0% {\n",
              "      border-color: transparent;\n",
              "      border-bottom-color: var(--fill-color);\n",
              "      border-left-color: var(--fill-color);\n",
              "    }\n",
              "    20% {\n",
              "      border-color: transparent;\n",
              "      border-left-color: var(--fill-color);\n",
              "      border-top-color: var(--fill-color);\n",
              "    }\n",
              "    30% {\n",
              "      border-color: transparent;\n",
              "      border-left-color: var(--fill-color);\n",
              "      border-top-color: var(--fill-color);\n",
              "      border-right-color: var(--fill-color);\n",
              "    }\n",
              "    40% {\n",
              "      border-color: transparent;\n",
              "      border-right-color: var(--fill-color);\n",
              "      border-top-color: var(--fill-color);\n",
              "    }\n",
              "    60% {\n",
              "      border-color: transparent;\n",
              "      border-right-color: var(--fill-color);\n",
              "    }\n",
              "    80% {\n",
              "      border-color: transparent;\n",
              "      border-right-color: var(--fill-color);\n",
              "      border-bottom-color: var(--fill-color);\n",
              "    }\n",
              "    90% {\n",
              "      border-color: transparent;\n",
              "      border-bottom-color: var(--fill-color);\n",
              "    }\n",
              "  }\n",
              "</style>\n",
              "\n",
              "  <script>\n",
              "    async function quickchart(key) {\n",
              "      const quickchartButtonEl =\n",
              "        document.querySelector('#' + key + ' button');\n",
              "      quickchartButtonEl.disabled = true;  // To prevent multiple clicks.\n",
              "      quickchartButtonEl.classList.add('colab-df-spinner');\n",
              "      try {\n",
              "        const charts = await google.colab.kernel.invokeFunction(\n",
              "            'suggestCharts', [key], {});\n",
              "      } catch (error) {\n",
              "        console.error('Error during call to suggestCharts:', error);\n",
              "      }\n",
              "      quickchartButtonEl.classList.remove('colab-df-spinner');\n",
              "      quickchartButtonEl.classList.add('colab-df-quickchart-complete');\n",
              "    }\n",
              "    (() => {\n",
              "      let quickchartButtonEl =\n",
              "        document.querySelector('#df-5716701b-a377-45f2-8e00-2b6065329804 button');\n",
              "      quickchartButtonEl.style.display =\n",
              "        google.colab.kernel.accessAllowed ? 'block' : 'none';\n",
              "    })();\n",
              "  </script>\n",
              "</div>\n",
              "    </div>\n",
              "  </div>\n"
            ],
            "application/vnd.google.colaboratory.intrinsic+json": {
              "type": "dataframe",
              "variable_name": "df",
              "summary": "{\n  \"name\": \"df\",\n  \"rows\": 4720,\n  \"fields\": [\n    {\n      \"column\": \"Cat. Nr.\",\n      \"properties\": {\n        \"dtype\": \"string\",\n        \"num_unique_values\": 4720,\n        \"samples\": [\n          \"XC505026\",\n          \"XC234833\",\n          \"XC188540\"\n        ],\n        \"semantic_type\": \"\",\n        \"description\": \"\"\n      }\n    },\n    {\n      \"column\": \"Common Name\",\n      \"properties\": {\n        \"dtype\": \"category\",\n        \"num_unique_values\": 952,\n        \"samples\": [\n          \"Grass Wren\",\n          \"Burnished-buff Tanager\",\n          \"Rusty-tinged Antpitta\"\n        ],\n        \"semantic_type\": \"\",\n        \"description\": \"\"\n      }\n    },\n    {\n      \"column\": \"Length\",\n      \"properties\": {\n        \"dtype\": \"object\",\n        \"num_unique_values\": 176,\n        \"samples\": [\n          \"0:37\",\n          \"0:18\",\n          \"4:08\"\n        ],\n        \"semantic_type\": \"\",\n        \"description\": \"\"\n      }\n    },\n    {\n      \"column\": \"Recordist\",\n      \"properties\": {\n        \"dtype\": \"number\",\n        \"std\": null,\n        \"min\": null,\n        \"max\": null,\n        \"num_unique_values\": 0,\n        \"samples\": [],\n        \"semantic_type\": \"\",\n        \"description\": \"\"\n      }\n    },\n    {\n      \"column\": \"Date\",\n      \"properties\": {\n        \"dtype\": \"category\",\n        \"num_unique_values\": 949,\n        \"samples\": [],\n        \"semantic_type\": \"\",\n        \"description\": \"\"\n      }\n    },\n    {\n      \"column\": \"Time\",\n      \"properties\": {\n        \"dtype\": \"category\",\n        \"num_unique_values\": 551,\n        \"samples\": [],\n        \"semantic_type\": \"\",\n        \"description\": \"\"\n      }\n    },\n    {\n      \"column\": \"Country\",\n      \"properties\": {\n        \"dtype\": \"category\",\n        \"num_unique_values\": 4,\n        \"samples\": [],\n        \"semantic_type\": \"\",\n        \"description\": \"\"\n      }\n    },\n    {\n      \"column\": \"Location\",\n      \"properties\": {\n        \"dtype\": \"category\",\n        \"num_unique_values\": 314,\n        \"samples\": [],\n        \"semantic_type\": \"\",\n        \"description\": \"\"\n      }\n    },\n    {\n      \"column\": \"Elevation\",\n      \"properties\": {\n        \"dtype\": \"category\",\n        \"num_unique_values\": 182,\n        \"samples\": [],\n        \"semantic_type\": \"\",\n        \"description\": \"\"\n      }\n    },\n    {\n      \"column\": \"Type\",\n      \"properties\": {\n        \"dtype\": \"category\",\n        \"num_unique_values\": 167,\n        \"samples\": [],\n        \"semantic_type\": \"\",\n        \"description\": \"\"\n      }\n    },\n    {\n      \"column\": \"Remarks\",\n      \"properties\": {\n        \"dtype\": \"category\",\n        \"num_unique_values\": 1974,\n        \"samples\": [],\n        \"semantic_type\": \"\",\n        \"description\": \"\"\n      }\n    },\n    {\n      \"column\": \"Quality\",\n      \"properties\": {\n        \"dtype\": \"category\",\n        \"num_unique_values\": 5,\n        \"samples\": [],\n        \"semantic_type\": \"\",\n        \"description\": \"\"\n      }\n    },\n    {\n      \"column\": \"MP3 Link\",\n      \"properties\": {\n        \"dtype\": \"string\",\n        \"num_unique_values\": 4719,\n        \"samples\": [],\n        \"semantic_type\": \"\",\n        \"description\": \"\"\n      }\n    }\n  ]\n}"
            }
          },
          "metadata": {},
          "execution_count": 25
        }
      ]
    },
    {
      "cell_type": "code",
      "source": [
        "temp[\"MP3 Link\"] = temp[\"MP3 Link\"].apply(lambda x: \"https:\" + str(x))"
      ],
      "metadata": {
        "id": "eczEKhbPHkVD"
      },
      "execution_count": null,
      "outputs": []
    },
    {
      "cell_type": "code",
      "source": [
        "temp = df[df['Cat. Nr.'].isin(song_ids)][['Cat. Nr.', 'Common Name', 'Length','Location', 'MP3 Link']]"
      ],
      "metadata": {
        "id": "hQv2rxiCFfxE"
      },
      "execution_count": null,
      "outputs": []
    },
    {
      "cell_type": "code",
      "source": [
        "temp.to_csv(\"metadata-secondary.csv\", index=False)"
      ],
      "metadata": {
        "id": "wFs08tD5HXJk"
      },
      "execution_count": null,
      "outputs": []
    },
    {
      "cell_type": "code",
      "source": [
        "file_names_df = df[\"file-name\"].apply(lambda x: str(x).replace(\" \", \"%20\"))\n",
        "file_names_df = file_names_df.to_list()\n",
        "file_names_df"
      ],
      "metadata": {
        "colab": {
          "base_uri": "https://localhost:8080/"
        },
        "collapsed": true,
        "id": "tZdcZJ58ARX4",
        "outputId": "df11f8e6-cc38-46ea-a0a1-a64b09bf2d29"
      },
      "execution_count": null,
      "outputs": [
        {
          "output_type": "execute_result",
          "data": {
            "text/plain": [
              "['XC754598-18-09-2022-8e21-Papa-taoca-do-tapajos.mp3',\n",
              " 'XC695999-STE-037%20Pyriglena%20similis.mp3',\n",
              " 'XC529078-papa.mp3',\n",
              " 'XC246018-PYRLNT13.mp3',\n",
              " 'XC214239-SALCOE12.mp3',\n",
              " 'XC178515-Thamnophilidae_Pyriglena_leuconota_05_08_2013_H08_14_Rosário_Oeste.mp3',\n",
              " 'XC174050-PAPA%20TAOCA%20-%20ROSARIO%20OESTE%20-%2005-08-13%20(1).mp3',\n",
              " 'XC171181-Pyriglena%20leuconota_Jauru_1425.mp3',\n",
              " 'White-backed%20Fire-eye%20song%208-19-11.mp3',\n",
              " 'PYRLNT12.mp3',\n",
              " 'PYRLNT04.mp3',\n",
              " 'White-backed%20Fire-eye2009-8-23-1part1.mp3',\n",
              " 'XC754583-18-09-2022-8e13-Papa-taoca-do-tapajos.mp3',\n",
              " 'XC754581-18-09-2022-8e10-Papa-taoca-do-tapajos-e-formigueiro-de-cauda-baia-(Pyriglena-similis).mp3',\n",
              " 'XC754579-18-09-2022-8e6-Papa-taoca-do-tapajos.mp3',\n",
              " 'XC708374-MixPre-130%20possivel%20C%20diamantinensis.mp3',\n",
              " 'XC580956-2006-06-08-White-backed%20Fire-eye%20song-SOlmstead.mp3',\n",
              " 'XC385745-Pyriglena_leuconota_Basileuterus_hypoleucus_Dromococcyx_phasianellus_M6_Trans_2-3_Jangada_MT.mp3',\n",
              " 'XC333327-UNID0478.mp3',\n",
              " 'XC246020-PYRLNT05.mp3',\n",
              " 'XC171180-Piryglena%20leuconota_Jauru_1424.mp3',\n",
              " 'XC169430-9991290.MP3',\n",
              " 'XC147427-Pyriglena%20leuconota_Itaituba_1103.mp3',\n",
              " 'XC130291-20110928-0745-1195-BR-MT-Cristalino%20Reserve-White-backed%20Fire-eye.mp3',\n",
              " 'XC129851-20110920-0630-1088-BR-MT-Cristalino%20Reserve-White-backed%20Fire-eye.mp3',\n",
              " 'XC119198-Pyriglena%20leuconota_Itaituba.MP3',\n",
              " 'UNID0484.mp3',\n",
              " 'Pyriglena_leuconota_2004a-FRL_BR_13_1556-1612_1_C.mp3',\n",
              " 'XC754618-18-09-2022-9e10-Papa-taoca-do-tapajos.mp3',\n",
              " 'XC754608-18-09-2022-8e52-Papa-taoca-do-tapajos.mp3',\n",
              " 'XC754572-18-09-2022-7e32-Papa-taoca-do-tapajos.mp3',\n",
              " 'XC708373-MixPre-127%20Campylopterus%20diamantinensis.mp3',\n",
              " 'XC671404-Pyriglena%20leuconota%20DCB%20639-7f.mp3',\n",
              " 'XC354901-Saltator%20coerulescens_Boa%20Vista_1056.mp3',\n",
              " 'XC174553-PAPA%20TAOCA%20-%20SANTO%20ANTONIO%20DO%20LEVERGER%20-%2013-12-13.mp3',\n",
              " 'XC163598-Pyriglena_leuconota_maura-FL%20Chapada%20de%20G%20Brazil93.mp3',\n",
              " 'XC754627-18-09-2022-9e38-Papa-taoca-do-tapajos-chamado.mp3',\n",
              " 'XC131496-Pyriglena%20leuconota%20Flona%20Tapajós%2011.06.2001.mp3',\n",
              " 'XC404570-A0450802%20Pyriglena%20leuconota%2010s.mp3',\n",
              " 'XC191451-LS114319%20Greater%20Rhea%20Hoyer.mp3',\n",
              " 'XC229054-Greater%20Rhea%20C%201.mp3',\n",
              " 'XC191450-LS114317%20Greater%20Rhea%20Hoyer.mp3',\n",
              " 'EMA%20XENOC%20ANTO%20MTZ.mp3',\n",
              " 'XC686584-03-11-2021%2016e47%20Ema%20BARRA.mp3',\n",
              " 'XC314181-Rhea%20americana_0630.mp3',\n",
              " 'XC229055-Greater%20Rhea%20C%202.mp3',\n",
              " 'XC229053-Greater%20Rhea%20B%203.mp3',\n",
              " 'Rhea_americana_EMS120709_1438.mp3',\n",
              " 'EMA%20FILHOTE%20XENO%20MTZ.mp3',\n",
              " 'EMA%20%20EMA%20%20MTZ%20XENO.mp3',\n",
              " 'XC510934-Rhea%20americana_espinilho_1241.mp3',\n",
              " 'XC482438-Ema1%20(Rhea%20americana-OK)%2014-6-2019%206e59.mp3',\n",
              " 'XC830684-09-09-2023-18e17-Azulona-AGUAS-CLARAS-PARAUAPEBAS.mp3',\n",
              " 'XC755226-22-09-2022-10e43-Azulona.mp3',\n",
              " 'XC597722-Tinamos%20tao_Carajas_1030.WAV_E.mp3',\n",
              " 'XC217695-CRYSOU29.mp3',\n",
              " 'XC816988-08-07-2023-16e39-Azulona-ESTREITO.mp3',\n",
              " 'XC755231-22-09-2022-11e9-Azulona-BOA-TASCAN.mp3',\n",
              " 'XC564679-Tinamus%20tao%20DCB%20626-3e.mp3',\n",
              " 'XC557622-Tinamus%20tao%20DCB%20625-18a.mp3',\n",
              " 'XC557618-Tinamus%20tao%20DCB%20625-16d.mp3',\n",
              " 'XC537901-2261%20Tinamus%20tao%20(song)UPA2_SMacapa_MUrbano_AC_260717FIG.mp3',\n",
              " 'XC537897-2260%20Tinamus%20tao%20(song)_UPA2_SMacapa_MUrbano_AC_260717FIG.mp3',\n",
              " 'XC497975-Tinamus%20tao%20DCB%20622-3Ac.mp3',\n",
              " 'XC157425-1210_181722_Tinamus_tao_Santo_Antonio_do_Leverger.mp3',\n",
              " 'B363-2-150_26-01-2011_Tinamus_taoBD.mp3',\n",
              " 'XC483178-Tinamus%20tao_Rio%20Azul_1032.mp3',\n",
              " 'XC427686-Tinamus%20tao%20-Caio%20Brito-(Porto%20Velho-RO)-BRITO424.mp3',\n",
              " 'XC395760-Tinamus%20tao_Gurupi_1092.mp3',\n",
              " 'XC345458-Ttao.WAV%20(online-audio-converter.com).mp3',\n",
              " 'XC330075-Tinamus%20tao.mp3',\n",
              " 'XC174540-AZULONA%202%20-%20SANTO%20ANTONIO%20DO%20LEVERGER%20-%2010-12-13.mp3',\n",
              " 'XC125694-Tinamus%20tao.mp3',\n",
              " 'Tinamus%20tao%20canto%20tremulado%20t%208%20pt%204%2024.11.2006.mp3',\n",
              " 'XC755016-20-09-2022-17e12-AzulonaB-TASCAN.mp3',\n",
              " 'XC345319-TINTAO05.mp3',\n",
              " 'XC125695-Tinamus%20tao_2.mp3',\n",
              " 'XC666443-Tinamus_11_01.mp3',\n",
              " 'XC591392-Tin%20solitarius%20PEC%20cabuçu%2017_09_2020_MMelo.mp3',\n",
              " 'XC422786-2286%20Tinamus%20solitarius%20(song)EstVeracel_BA_130817_FIG.mp3',\n",
              " 'XC353537-Tinamus%20solitarius%20(Vieillot,%201819)6.mp3',\n",
              " 'XC353525-Tinamus%20solitarius%20(Vieillot,%201819).mp3',\n",
              " 'XC144378-Tinamus-solitarius-PECantareira-SP-BR-16-10-99-ASilveira.mp3',\n",
              " \"XC113213-12090616'.mp3\",\n",
              " 'TINSOL06.mp3',\n",
              " 'XC810505-TASCAM_5481S12.mp3',\n",
              " 'XC795926-20230425-0711-TinamusSolitarius.mp3',\n",
              " 'XC727960-Solitary_Tinamou_Sooretama_2004_09_10.mp3',\n",
              " 'XC715527-TINAMOUS%20%20SOLITARIUS%20%20Altamiro.mp3',\n",
              " 'XC660666-01-07-2021%2011e4%20ICOGNITA%20MACUCO.mp3',\n",
              " 'XC619043-210122-064256%20Tinamus%20solitarius.mp3',\n",
              " 'XC613866-Tinamus%20solitarius%20DCB%20748-7.mp3',\n",
              " 'XC595109-Tinamus%20solitarius%20DCB%20741-6.mp3',\n",
              " 'XC556640-Tinamus%20solitarius%20-%20Caio%20Brito%20(São%20Luiz%20do%20Paraitinga-SP)_BRITO,3974.mp3',\n",
              " 'XC552958-Tinamus%20solitarius.mp3',\n",
              " 'XC521946-Tinamus%20solitarius%20DCB%20469-6.mp3',\n",
              " 'XC505069-STE-017%20macuco%20xc.mp3',\n",
              " 'XC422785-2285%20Tinamus%20solitarius%20(song)_EstVeracel_BA_130817_FIG.mp3',\n",
              " 'XC326013-667.%20Tinamus%20solitarius%20(song)Veracel_PortoSeguroBA181012.mp3',\n",
              " 'XC287483-Solitary%20Tinamou,%2026.10.,%20song.mp3',\n",
              " 'XC278337-Tinamus%20noctivagus.mp3',\n",
              " 'XC278336-T%20solitarius.mp3',\n",
              " 'XC277175-Tinamus_solitarius_30.08.2015_Trilha_dos_Tropeiros.mp3',\n",
              " 'XC246805-20140914-0718-BR0281-BR-RJ-REGUA-Solitary%20Tinamou%20song%20amp%20biggap.mp3',\n",
              " 'XC162272-Tinamus%20solitarius%204.mp3',\n",
              " 'XC115877-Z0000040_Tinamus_solitarius.MP3',\n",
              " 'DENPLA04.mp3',\n",
              " 'Tinamus%20solitarius_Agriao_PNSI_Presidente%20Nereu_SC_12-10-2009.mp3',\n",
              " 'Solitary_Tinamu_Zizo-1-63.mp3',\n",
              " 'XC896032-Tinamus-solitarius-DCB-166-4.wav',\n",
              " 'XC771791-MixPre-1482_Tinamus_solitarius.wav',\n",
              " 'XC615158-Tinamus%20solitarius%20DCB%20754-1Bb.mp3',\n",
              " 'XC615156-Tinamus%20solitarius%20DCB%20754-1Ab.mp3',\n",
              " 'XC614772-Tinamus%20solitarius%20DCB%20753-7f.mp3',\n",
              " 'XC527911-Tinamus%20solitarius%20DCB%20575-15d.mp3',\n",
              " 'XC472076-Tinamus_solitarius-545378.mp3',\n",
              " 'XC397296-171112_1109%20SOTI%20150ft%20REd%20trail%201200%20mp3%20amp.mp3',\n",
              " 'XC349414-TINSOL12.mp3',\n",
              " 'XC340067-HJCP033.mp3',\n",
              " 'XC338589-HJCP148.mp3',\n",
              " 'XC231250-Solitary%20Tinamou%20D%2016.mp3',\n",
              " 'XC217863-TINSOL13.mp3',\n",
              " 'XC203414-Tinamus%20solitarius.mp3',\n",
              " 'XC198702-Tinamus.mp3',\n",
              " 'XC188288-Tinamus%20solitarius.mp3',\n",
              " 'XC187295-Tinamus%20solitarius%20APA.mp3',\n",
              " 'XC173433-Tinamidae_Tinamus_solitarius_25_09_2013_H18_22_Botuverá.mp3',\n",
              " 'XC148702-Tinamus-solitarius-NSantana-PETAR-BR30-10-08-ASilveira.mp3',\n",
              " '59%20-%20Tinamus%20solitarius.mp3',\n",
              " 'macuco.mp3',\n",
              " 'MYIMAC19_2.mp3',\n",
              " 'Tinamus%20solitarius_Faz_Cupido_ES_16_VI_2010_CA.mp3',\n",
              " 'T_solitariusMarcosMelo.mp3',\n",
              " 'XC570356-Tinamus%20solitarius_FazendaBananeirasESECMuriciMuriciAL_21II2010_GSTL0258.mp3',\n",
              " 'XC435537-Macuco%20(Tinamus%20solitarius-OK)%20BOA%2013-9%209e20.mp3',\n",
              " 'XC340041-TINSOL09.mp3',\n",
              " 'XC231251-Solitary%20Tinamou%20C%2017.mp3',\n",
              " 'TsolitariusPETAR.mp3',\n",
              " 'XC285539-Tinamus%20solitarius_Paraibuna_1953.mp3',\n",
              " 'XC231252-Solitary%20Tinamou%20D%2015.mp3',\n",
              " 'XC392986-Tinamus%20major.mp3',\n",
              " 'XC129750-20110916-1733-1045-BR-MT-Cristalino%20Reserve-Great%20Tinamou.mp3',\n",
              " 'CRYVAR09.mp3',\n",
              " 'CRYVAR08.mp3',\n",
              " 'XC639885-Tinamus%20major%20DCB%20547-9a.mp3',\n",
              " 'XC557617-Tinamus%20major%20DCB%20625-16c.mp3',\n",
              " \"XC556639-Tinamus%20major%20-%20Caio%20Brito%20(Machadinho%20d'Oeste-RO)_BRITO,3140.mp3\",\n",
              " 'XC231239-Great%20Tinamou%20B%2029.mp3',\n",
              " 'XC129845-20110919-1738-1085-BR-MT-Cristalino%20Reserve-Great%20Tinamou.mp3',\n",
              " 'XC490752-Tinamus%20major%20DCB%20606-4b.mp3',\n",
              " 'XC303458-Tinamus%20major_Mocidade_1268.mp3',\n",
              " 'XC284945-Tinamos%20major_Carauari_1863.mp3',\n",
              " 'XC256978-150629_06_Tmajor.mp3',\n",
              " 'XC125693-Tinamus%20major.mp3',\n",
              " 'XC537928-2299%20Tinamus%20major%20(song)_UPA7_SMacapa_MUrbano_AC_210717FIG.mp3',\n",
              " 'XC537922-2290%20Tinamus%20major%20(song)UPA7_SMacapa_MUrbano_AC_210717FIG.mp3',\n",
              " 'XC395953-Tinamus%20guttatus.mp3',\n",
              " 'XC643008-Tinamus%20guttatus%20DCB%20548-14.mp3',\n",
              " 'XC428089-Tinamus%20guttatus%20-Caio%20Brito-(Porto%20Velho-RO)-BRITO1095.mp3',\n",
              " 'XC400646-Tinamus%20guttatus_Novo%20Repartimento_1136.mp3',\n",
              " 'XC395757-Tinamus%20guttatus_Gurupi_1086.mp3',\n",
              " 'XC270977-White-throated%20Tinamou.mp3',\n",
              " 'XC212996-Tinamus%20guttatus_Pacajas_1478.mp3',\n",
              " 'TINGUT02.mp3',\n",
              " 'CERCNR10.mp3',\n",
              " 'Tinamus%20guttatus20090713.mp3',\n",
              " 'XC482184-converted.mp3',\n",
              " 'XC482164-1262%20Tinamus%20guttatusManoa_CujubimRO_101114_FIG.mp3',\n",
              " 'XC482162-1261%20Tinamus%20guttatus%20(song)Manoa_CujubimRO_041114_FIG.mp3',\n",
              " 'XC482161-1260%20Tinamus%20guttatus%20(short%20song)Manoa_CujubimRO_101114_FIG.mp3',\n",
              " 'XC231230-White-throated%20Tinamou%20C%2042.mp3',\n",
              " 'XC231229-White-throated%20Tinamou%20C%2040.mp3',\n",
              " 'XC212849-R09_0033_tin.mp3',\n",
              " 'XC119566-Tinamus%20guttatus_Itaituba_1138.MP3',\n",
              " 'XC118484-Tinamus%20guttatus_Porto%20de%20Moz_1331.mp3',\n",
              " 'B157T6P0T_%20gutattus01022011NM.mp3',\n",
              " 'R09_0044White-throated%20Tinamou_AlexLees.mp3',\n",
              " 'XC536652-1765%20Tinamus%20guttatus%20(song)_Boca_do_Acre_Pauini_AM_240516_FIG.mp3',\n",
              " 'XC231232-White-throated%20Tinamou%20D%2043.mp3',\n",
              " 'XC231231-White-throated%20Tinamou%20C%2039.mp3',\n",
              " 'Tinamus%20guttatus%20Itapuama%20pt%204%2027.jan.2008.mp3',\n",
              " 'Tinamus%20guttatus%20i%20bicuda%20pt%203%2025.11.2006.mp3',\n",
              " 'XC231234-White-throated%20Tinamou%20E%2038.mp3',\n",
              " 'XC231233-White-throated%20Tinamou%20D%2041.mp3',\n",
              " 'XC821609-05-08-2023-8e47-Inhambu-pixuna--PORTO-VELHO.mp3',\n",
              " 'XC781297-19-02-2023-10e42-Inhambu-pixuna-ESTRADA-CLOTILDE2.mp3',\n",
              " 'XC769668-07-12-2022-8e10-Inhambu-pixuna-PORTO-FRANCO.mp3',\n",
              " 'XC769477-02-12-2022-6e49-Inhambu-pixuna-PORTO-FRANCO.mp3',\n",
              " 'XC755297-23-09-2022-10e2-Inhabu-pixuna.mp3',\n",
              " 'XC755087-21-09-2022-9e29-Inhambu-pixuna-e-SAIRA-ICOGNITA.mp3',\n",
              " 'XC748492-Cinereous%20Tinamou%20202207220737.mp3',\n",
              " 'XC698654-Crypturellus_cinereus-3089862.mp3',\n",
              " 'XC694205-STE-009%20Crypturellus%20cinereus%202.mp3',\n",
              " 'XC642569-Crypturellus%20cinereus_Tembe_ML015.mp3',\n",
              " 'XC639880-Crypturellus%20cinereus%20DCB%20547-4A.mp3',\n",
              " 'XC574867-Crypturellus%20cinereus_Careiro_1012.mp3',\n",
              " 'XC456284-Crypturellus%20cinereus_Maraca_1157.mp3',\n",
              " 'XC452850-Cinereous%20Tinamou,%20song,%20190117-023.mp3',\n",
              " 'XC446610-Crypturellus%20cinereus%20-%20DaRec_20180527091521.mp3',\n",
              " 'XC424163-Crypturellus%20cinereus.%20RO.%20ME-%20Felipe%20Arantes.mp3',\n",
              " 'XC333322-CRYCIN13.mp3',\n",
              " 'XC329091-Crypturellus%20cinereus(song)XapuriAC230613.mp3',\n",
              " 'XC329090-Crypturellus%20cinereus(song)XapuriAC220613.mp3',\n",
              " 'XC310825-CRYCIN28.mp3',\n",
              " 'XC310821-CRYCIN27.mp3',\n",
              " 'XC306288-CRYCIN26.mp3',\n",
              " 'XC217694-CRYCIN09.mp3',\n",
              " 'XC171227-9991267.MP3',\n",
              " 'XC167252-Crypturellus%20cinereus_Machadinho_1026.mp3',\n",
              " 'XC143922-1189.mp3',\n",
              " 'CRYCIN21.mp3',\n",
              " 'CRYCIN18.mp3',\n",
              " 'CRYCIN15.mp3',\n",
              " 'CRYCIN10.mp3',\n",
              " 'CRYCIN08.mp3',\n",
              " 'Crypturellus_cinereus_2004b-FRL_BR_8_620-692_1_S.mp3',\n",
              " 'Cinereous%20Tinamou2009-9-15-1.mp3',\n",
              " 'BD_2004-04-05_Crypturellus_cinereus2.mp3',\n",
              " 'XC881545-Crypturellus-cinereus-VN-Palmari-23022024.wav',\n",
              " 'XC789276-220324_0203_Cinereous_Tinamou.mp3',\n",
              " 'XC754086-17-09-2022-7e11-Inhambu-pixuna.mp3',\n",
              " 'XC557624-Crypturellus%20cinereus%20DCB%20625-18d.mp3',\n",
              " 'XC535969-1665%20Crypturellus%20cinereus%20(calls%20-%20VOZ%20IGUAL%20XC29550)Boca_do_Acre_AM_200516_FIG.mp3',\n",
              " 'XC535967-1664%20Crypturellus%20cinereus%20(calls%20-%20VOZ%20IGUAL%20XC29550)%20Boca_do_Acre_AM_200516_FIG.mp3',\n",
              " 'XC493786-Inhambu%20preta%20(Crypturellus%20cinereus-XENO)%20PORTO%20FRANCO%20%2014-07-\\u200e2019%20%20\\u200f\\u200e7e43.mp3',\n",
              " 'XC493784-Inhambu%20preta%20talvez%20PORTO%20FRANCO%20%2014-07-\\u200e2019%20%20\\u200f\\u200e7e40.mp3',\n",
              " 'XC482180-Crypturellus%20cinereus%20DCB%20614-3.mp3',\n",
              " 'XC481243-1144%20Crypturellus%20cinereus%20(song)Manoa_CujubimRO_131114_FIG.mp3',\n",
              " 'XC481242-1143%20Crypturellus%20cinereus%20(song)Manoa_CujubimRO_121114_FIG.mp3',\n",
              " 'XC481241-1142%20Crypturellus%20cinereus%20(song)_Manoa_CujubimRO_051114_FIG.mp3',\n",
              " 'XC481239-1140%20Crypturellus%20cinereus%20(call)Manoa_CujubimRO_131114_FIG.mp3',\n",
              " 'XC477771-Crypturellus%20cinereus%20DCB%20601-4.mp3',\n",
              " 'XC474813-Crypturellus%20cinereus_Chandless_1151.mp3',\n",
              " 'XC445976-STE-080%20Uniform%20Crake.mp3',\n",
              " 'XC444542-181028_4054%20CITInamou%20100ft%20Fran%200800%20mp3%20amp.mp3',\n",
              " 'XC440015-Cinereous%20Tinamou,%20181023-006.mp3',\n",
              " 'XC435858-180726_12_Cinereous%20Tinamou_Tabajara,%20RO,%20Brazil_25%20July%202018.mp3',\n",
              " 'XC435857-180726_11_Cinereous%20Tinamou_Tabajara,%20RO,%20Brazil_25%20July%202018.mp3',\n",
              " 'XC429417-180804_2825%20VATI%2040ft%20Cris%201730%20mp3%20amp.mp3',\n",
              " 'XC407245-Crypturellus%20cinereus_Virua_1005.mp3',\n",
              " 'XC403446-Inhambu%20pixuna%20finalizado.mp3',\n",
              " 'XC372434-crypturellus[1].mp3',\n",
              " 'XC358883-Crypturellus_cinereus-1819222.mp3',\n",
              " 'XC340660-CRYCIN17.mp3',\n",
              " 'XC330933-Crypturellus%20sp%203.mp3',\n",
              " 'XC329089-Crypturellus%20cinereus(song)2XapuriAC220613.mp3',\n",
              " 'XC313980-CRYCIN29.mp3',\n",
              " 'XC221828-Cinereous%20Tinamou%20B%2062.mp3',\n",
              " 'XC221827-Cinereous%20Tinamou%20B%2061.mp3',\n",
              " 'XC221826-Cinereous%20Tinamou%20B%2065.mp3',\n",
              " 'XC221825-Cinereous%20Tinamou%20B%2064.mp3',\n",
              " 'XC221824-Cinereous%20Tinamou%20B%2060.mp3',\n",
              " 'XC221823-Cinereous%20Tinamou%20A%2066.mp3',\n",
              " 'XC221822-Cinereous%20Tinamou%20A%2063.mp3',\n",
              " 'XC213013-Crypturellus%20cinereus_Novo%20Repartimento_1374.mp3',\n",
              " \"XC156972-13030507'%20Crypturellus%20cinereus.mp3\",\n",
              " 'XC141610-Crypturellus%20cinereus%2022%20jun%202013%20.mp3',\n",
              " 'XC119918-Crypturellus%20cinereus_1603.MP3',\n",
              " 'Crypturellus%20cinereus%20pt%208%2028%20ago%202008.mp3',\n",
              " 'Crypturellus%20cinereus.mp3',\n",
              " 'XC881546-Xiphorhynchus-elegans-RP-Palmari-24022024.wav',\n",
              " 'XC835840-220108_14h57_Viruá_Crypturellus-cinereus.mp3',\n",
              " 'XC830857-11-09-2023-9e29-Inhambu-pixuna-TRILHA-DO-LAGO-PARAUAPEBAS.mp3',\n",
              " 'XC821559-04-08-2023-16e45-Inhambu-pixuna-PORTO-VELHO.mp3',\n",
              " 'XC817213-11-07-2023-09e25-Inhambu-pixuna-ARAGUAINA.mp3',\n",
              " 'XC817028-08-07-2023-18e13-Inhambu-pixuna-ESTREITO.mp3',\n",
              " 'XC673176-2516%20Crypturellus%20cinereus%20(song)Santa%20Maria_DomEliseu_PA_240119_FIG.mp3',\n",
              " 'XC524937-Crypturellus%20cinereus%20DCB%20468-5.mp3',\n",
              " 'XC521554-CITI_2018_timeunknown.mp3',\n",
              " 'XC481240-1141%20Crypturellus%20cinereus%20(calls)Manoa_CujubimRO_051114_FIG.mp3',\n",
              " 'XC221836-Cinereous%20Tinamou%20C%2068.mp3',\n",
              " 'XC178777-140519_080.mp3',\n",
              " 'XC123657-Crypturellus%20cinereus1_04-03-13_0525_PZ-Rio%20Branco-AC.mp3',\n",
              " 'XC121218-Crypturellus%20cinereus_167.MP3',\n",
              " 'XC119909-Crypturellus%20cinereus_Carajas_1310.MP3',\n",
              " '157%208%20150-2%20Cin%20tin_ACL.mp3',\n",
              " 'R09_0014Cinereous%20Tnamou_AlexLees.mp3',\n",
              " 'BD_2007-07-30_Crypturellus_cinereusXC.mp3',\n",
              " 'Crypturellus_cinereus_BR-FRG_19931111_S1_ATC.mp3',\n",
              " 'XC817025-08-07-2023-18e04-Inhambu-pixuna-ESTREITO.mp3',\n",
              " 'XC770944-AUDIO-2022-11-30-06-55-37(1).mp3',\n",
              " 'XC816990-08-07-2023-16e39-Inhambu-pixuna-ESTREITO.mp3',\n",
              " 'XC901180-01-05-2024-18e14-Tururim-MUNDO-NOVO.mp3',\n",
              " 'XC835846-220108_18h21_Viruá_Crypturellus-soui.mp3',\n",
              " 'XC821655-06-08-2023-17e58-Tururim-PORTO-VELHO.mp3',\n",
              " 'XC783222-27-02-2023-18e37-Tururim-(Crypturellus-soui-OK-OK)-TAQUARAL.mp3',\n",
              " 'XC783221-27-02-2023-18e41-Tururim-WIKI-TAQUARAL.mp3',\n",
              " 'XC783213-28-02-2023-7e29-Tururim-WIKI-BOA-TAQUARAL.mp3',\n",
              " 'XC754576-18-09-2022-8e4-Tururim.mp3',\n",
              " 'XC741070-27-07-2022%206e34%20Tururim%20GOIANAPOLIS.mp3',\n",
              " 'XC705473-02693%20Crypturellus%20soui(song)UPP_SMacapa_MUrbano_AC_240717FIG.mp3',\n",
              " 'XC698618-Crypturellus_soui-4272570.mp3',\n",
              " 'XC692855-Crypturellus%20soui%20DCB%20125-12.mp3',\n",
              " 'XC657320-Crypturellus%20soui%20150719-071438.mp3',\n",
              " 'XC657183-15-06-2021%2013e14%20Tururim%20boa.mp3',\n",
              " 'XC656067-11-06-2021%208e5%20Tururim7%20dueto%20-%20boa.mp3',\n",
              " 'XC656065-11-06-2021%207e50%20Tururim5%20-%20boa.mp3',\n",
              " 'XC606624-Crypturellus%20soui_Linhares_.mp3',\n",
              " 'XC557620-Crypturellus%20soui%20DCB%20625-17.mp3',\n",
              " 'XC506369-05-10-2019%2017e46%20Tururim2%20(Crypturellus%20soui-OK-OK).mp3',\n",
              " 'XC493436-14-07-\\u200e2019%20%20\\u200f\\u200e5e53%20TURURIM%20e%20bacurau.mp3',\n",
              " 'XC469140-Crypturellus%20soui_Carajas_1008.mp3',\n",
              " 'XC413837-Tururim3%20(Crypturellus%20soui-OK).mp3',\n",
              " 'XC412497-Tururim2%2002-03-2018%207hs%20(Crypturellus%20soui).mp3',\n",
              " 'XC412494-Tururim%20(Crypturellus%20soui-OK-OK).mp3',\n",
              " 'XC377292-Crypturellus_soui_cf_Desconhecido_3_M5_P4_Faz_Araçatuba_Lambaridoeste_MT%20(2).mp3',\n",
              " 'XC377192-Crypturellus_soui_17_Jun_2017_Ferreira_Gomes_AP_RSS.mp3',\n",
              " 'XC370827-170421_003%20-%20TURURIN.MP3',\n",
              " 'XC354095-Chripiturellus%20soiu.mp3',\n",
              " 'XC333320-CRYSOU36.mp3',\n",
              " 'XC325619-413%20Crypturellus%20soui(song)AVCTaquaraBA100512.mp3',\n",
              " 'XC266350-Crypturellus_soui_(Little_Tinamou)e.p.05.07.11.mp3',\n",
              " 'XC221887-Little%20Tinamou%20A%20115.mp3',\n",
              " 'XC217698-CRYSOU12.mp3',\n",
              " 'XC217697-CRYSOU15.mp3',\n",
              " 'XC217696-CRYSOU14.mp3',\n",
              " 'XC171120-Crypturellus%20soui,%20ZF2,%20Manaus-AM,%202013.mp3',\n",
              " 'XC171048-Crypturellus%20soui,%20ZF2,%20Manaus-AM,%202013.mp3',\n",
              " 'XC127107-tururim%20ARACRUZ-ES.mp3',\n",
              " 'Crypturellus%20soui_MataSaoJoao.mp3',\n",
              " 'CRYSOU26.mp3',\n",
              " 'CRYSOU21.mp3',\n",
              " 'CRYSOU18.mp3',\n",
              " 'CRYSOU13.mp3',\n",
              " 'C.%20soui1063.mp3',\n",
              " 'Little_Tinamou_Hoyer.mp3',\n",
              " 'litinamou.mp3',\n",
              " 'XC837123-crypturellus.wav',\n",
              " 'XC798139-230404-004.mp3-Crypturellus-soui.mp3',\n",
              " 'XC782813-C.-soui_Gargaú_21_12.mp3',\n",
              " 'XC755078-20-09-2022-18e50-Tururim.mp3',\n",
              " 'XC648682-Crypturellus%20soui%20DCB%20309-4.mp3',\n",
              " 'XC609913-Crypturellus_soui-4125557.mp3',\n",
              " 'XC585162-C%20soui%202018_11_06_MMelo.mp3',\n",
              " 'XC552350-Crypturellus%20soui%20DCB%20598-13g.mp3',\n",
              " 'XC536695-2144%20Crypturellus%20soui%20(duet)_UPP_SeringalMacapa_Pauini_AM_250617_FIG.mp3',\n",
              " 'XC534122-Crypturellus%20soui%20DCB%20578-6b.mp3',\n",
              " 'XC518707-Crypturellus%20soui%20DCB%20455-16h.mp3',\n",
              " 'XC494772-Crypturellus%20soui%20DCB%20620-15.mp3',\n",
              " 'XC494771-Crypturellus%20soui%20DCB%20620-14.mp3',\n",
              " 'XC490102-Crypturellus%20soui%20DCB%20608-11.mp3',\n",
              " 'XC483917-Crypturellus%20soui%20DCB%20615-5.mp3',\n",
              " 'XC477102-Crypturellus%20soui%20DCB%20602-17d.mp3',\n",
              " 'XC472328-Crypturellus_soui-1400018.mp3',\n",
              " 'XC472327-Crypturellus_soui-1400017.mp3',\n",
              " 'XC472326-Crypturellus_soui-1397133.mp3',\n",
              " 'XC441760-180718_08%20Crypturellus%20soui.mp3',\n",
              " 'XC427268-Crypturellus%20soui%20-Caio%20Brito-(Porto%20Seguro-BA)-BRITO1824.mp3',\n",
              " 'XC400315-B0070804%20cry%20sou.mp3',\n",
              " 'XC393336-Crypturellus%20soui.mp3',\n",
              " 'XC372761-Crypturellus%20soui%20PZ_170528_3.mp3',\n",
              " 'XC358884-Crypturellus_soui-1819240.mp3',\n",
              " 'XC326688-Crypturellus%20soui_Rio%20Preto_1271.mp3',\n",
              " 'XC325681-457%20Crypturellus%20soui%20(calls)Veracel_PortoSeguroBA211012.mp3',\n",
              " 'XC325618-412%20Crypturellus%20soui(long%20song)Veracel_PortoSeguroBA130512.mp3',\n",
              " 'XC323921-361%20Crypturellus%20soui%20(song)Sucupira_PortoSeguroBA281011.mp3',\n",
              " 'XC314824-CRYSOU11.mp3',\n",
              " 'XC306395-CRYSOU34.mp3',\n",
              " 'XC288641-CRYSOU05.mp3',\n",
              " 'XC221903-Little%20Tinamou%20B%20113.mp3',\n",
              " 'XC221895-Little%20Tinamou%20B%20117.mp3',\n",
              " 'XC133409-130328_024.MP3',\n",
              " 'XC129064-tururim%20Linhares-ES.mp3',\n",
              " 'XC125697-Crypturellus%20soui.mp3',\n",
              " 'B274%20T4%20P150%20Crypturellus%20soui%20Nuargila%20Moura%20(salt%20max_%20pheu%20geni_%20amazon%20amaz_%20cercomacra%20cine.mp3',\n",
              " 'BD_2007-10-07_Crypturellus_souiXC.mp3',\n",
              " 'Crypturellus%20soui_EngenhoJussara_Gravata_23.04.05_Glauco.mp3',\n",
              " 'XC782812-C.-soui_Gargaú.mp3',\n",
              " 'XC774553-cryptu.wav',\n",
              " 'XC774422-tururim.wav',\n",
              " 'XC710680-SMM03729_20220305_080302.mp3',\n",
              " 'XC673177-2517%20Crypturellus%20soui%20albigularis%20(song)Bonfim_DomEliseuPA_260118_FIG.mp3',\n",
              " 'XC568542-Crypturellus%20soui_MatadoMatãoFazendaPindobaCampoAlegreAL_2008_GSTL0009.mp3',\n",
              " 'XC524786-Crypturellus%20soui%20-%20Carajas%20-%20Canaã-%2023-09-2019%20(10-11).mp3',\n",
              " 'XC439207-181017_3808%20Little%20Tinamou%20100ft%20Serra%20Nova%200800%20mp3%20amp.mp3',\n",
              " 'XC427269-Crypturellus%20soui%20-Caio%20Brito-(Porto%20Velho-RO)-BRITO335.mp3',\n",
              " 'XC403196-701_0102%20finalizado.mp3',\n",
              " 'XC384007-Crypturellus%20soui%20%20003_170812_1707A0.mp3',\n",
              " 'XC323920-360%20Crypturellus%20soui%20(couple%20song)FazIpeVeracel_%20BelmonteBahia261011.mp3',\n",
              " 'XC322436-audLittle%20Tinamou_Xixa_20160326_092239%20(online-audio-converter.com).mp3',\n",
              " 'XC306413-CRYSOU10.mp3',\n",
              " 'XC304339-CRYSOU09.mp3',\n",
              " 'XC303309-Crypturrellus%20souil.mp3',\n",
              " 'XC221912-Little%20Tinamou%20C%20116.mp3',\n",
              " 'XC221911-Little%20Tinamou%20C%20114.mp3',\n",
              " 'XC213249-Crypturellus%20soui_Parauapebas_1645.mp3',\n",
              " 'XC143366-1033.mp3',\n",
              " 'XC120036-Crypturellus%20soui_1055b.MP3',\n",
              " 'XC119245-Crypturellus%20soui_JaciD.MP3',\n",
              " 'XC118851-Crypturellus%20sowie_Pium.MP3',\n",
              " 'B69%208%20150%20little%20tinamou_ACL.mp3',\n",
              " 'C.%20soui,%20RPPN%20Serra%20do%20Contente,%20Gravatuy%2014-09-2009.mp3',\n",
              " 'C.%20soui%20Dois%20Irmaos.mp3',\n",
              " 'XC135515-CRYPsou_Xixa_20120330_105217.mp3',\n",
              " 'XC329092-Crypturellus%20obsoletus(song)AssisBrasilAC260613.mp3',\n",
              " 'XC843468-22-11-2023-5e33-Inhambuguacu-FOZ-DO-IGUACU.mp3',\n",
              " 'XC830675-09-09-2023-13e38-Inhambuguacu-AGUAS-CLARAS-PARAUAPEBAS.mp3',\n",
              " 'XC739149-20220726-0730-BrownTinamou-Song.mp3',\n",
              " 'XC699403-Crypturellus%20obsoletus150622%20(online-audio-converter.com).mp3',\n",
              " 'XC698117-Crypturellus_obsoletus-4172523.mp3',\n",
              " 'XC657841-Crypturellus%20obsoletus%20DCB%20477-26.mp3',\n",
              " 'XC606683-Crypturellus%20obsoletus_Vargem%20Alta.mp3',\n",
              " 'XC494959-C.%20obsoletus_mp3.mp3',\n",
              " 'XC427265-Crypturellus%20obsoletus%20-Caio%20Brito-(Tapirai)-BRITO1676.mp3',\n",
              " 'XC414933-Inhambu%20chinta%20XENO%20(Crypturellus%20tataupa)22-09-17%206e22.mp3',\n",
              " 'XC414872-Inhambuguacu%20XENO%20(CUR.mp3',\n",
              " 'XC348637-Crypturellus%20obsoletus.mp3',\n",
              " 'XC344287-Crypturellus%20obsoletus.mp3',\n",
              " 'XC337077-1191_02.mp3',\n",
              " 'XC337076-1191_01.mp3',\n",
              " 'XC335296-Crypturellus%20obsoletus%20Praia%20Grande%2011%2009%202016%20RSS.mp3',\n",
              " 'XC332201-CRYOBS32.mp3',\n",
              " 'XC288347-CLest4_5_Cobso.mp3',\n",
              " 'XC221859-Brown%20Tinamou%20A%20138.mp3',\n",
              " 'XC221858-Brown%20Tinamou%20A%20135.mp3',\n",
              " 'XC217866-CRYOBS15.mp3',\n",
              " 'XC217865-CRYOBS29.mp3',\n",
              " 'XC192674-Crypturellus%20obsoletus%20(Bal.%20Camboriú,%2019.08.14).mp3',\n",
              " 'XC189613-Crypturellus%20obsoletus%201.mp3',\n",
              " 'XC189513-LGM-043.mp3',\n",
              " 'XC178593-C-obsoletus-JF-PD-04-05-2014-07h15min+5dB.mp3',\n",
              " 'XC176295-INHAMBUGUAÇU%20-%20URUSSANGA%20-%2008-10-11.mp3',\n",
              " 'XC171118-Crypturellus_obsoletus_BrunoLima_Guaraú_2013.mp3',\n",
              " 'XC164486-C%20obsoletus%20canto.mp3',\n",
              " 'XC145686-Crypturellus%20obsoletus-Picinguaba-SP-Brazil-10-91-ASilveira.mp3',\n",
              " 'XC115085-Crypturellus_obsoletus-JF.mp3',\n",
              " 'XC115082-inhambuguaçu2.mp3',\n",
              " \"XC113190-12112003'.mp3\",\n",
              " 'Crypturellus-obsoletus-Picinguaba-SP-Brazil-10-91-ASilveira.mp3',\n",
              " '0617_083601_c_obsoletus.mp3',\n",
              " 'CRYOBS24.mp3',\n",
              " 'CRYOBS21.mp3',\n",
              " 'CRYOBS13.mp3',\n",
              " 'TINTataupa-FL%20Regua%2025Aug06%20700m.mp3',\n",
              " 'Crypturellus%20obsoletus%20(PEMG).mp3',\n",
              " 'Crypturellus%20obsoletus_Trilha%20Tres%20Picos_PN%20Itatiaia_Rio%20de%20Janeiro_Brasil_22FEB04_Bernabe%20Lopez-Lanus.mp3',\n",
              " 'Crypturelus%20obsoletus_Poco%20Verde_PARNA%20das%20Araucarias_Passos%20Maia_SC_22-05-2009%20(2).mp3',\n",
              " 'Crypturellus%20obsoletus_Faz.%20Santa%20Rita_PNSI_Indaial_SC_22-10-2009.mp3',\n",
              " 'Crypturellus_obsoletus_areaF_ME_Teles_Pires.mp3',\n",
              " 'Crypturellus%20obsoletus_REBIO%20SASSAFRAS_Doutor%20Pedrinho_SC_05-VI-2008.mp3',\n",
              " 'Crypturellus%20obsoletus%20-%20PNIBr080215_0702%20+%20B.%20ruficapillus.mp3',\n",
              " 'Crypturellus%20obsoletus.mp3',\n",
              " 'brtina.mp3',\n",
              " 'XC835229-C-obsoletus-2-7.wav',\n",
              " 'XC835228-C-obsoletus-2-7-e.wav',\n",
              " 'XC835227-C-obsoletus-2-7-b.wav',\n",
              " 'XC835226-C-obsoletus-2--1-7.wav',\n",
              " 'XC835225-C-obslotetus-9-7.wav',\n",
              " 'XC740588-inhambu%20terreno%20(online-audio-converter.com).mp3',\n",
              " 'XC709074-Crypturellus_obsoletus-3456842.mp3',\n",
              " 'XC677687-22-09-2021%2018e1%20Inhambuguacu%20TREMEMBE%20G1.mp3',\n",
              " 'XC536693-2143%20Crypturellus%20obsoletus(song)UPA02_SeringalMacapa_Pauini_AM_260617_FIG.mp3',\n",
              " 'XC522085-BRtinamou_100318_7am.mp3',\n",
              " 'XC426076-180707_0317%20C.obsoletus.mp3',\n",
              " 'XC424637-Crypturellus%20obsoletus.mp3',\n",
              " 'XC411806-Inhambuguacu%2012-4-18%2017e56.mp3',\n",
              " 'XC402330-Crypturellus_obsoletus-1822372.mp3',\n",
              " 'XC391817-171016%20BRTI%20PB%2025ft%20GREEN%200800%20mp3%20amp.mp3',\n",
              " 'XC344613-Crypturellus%20obsoletus.MP3',\n",
              " 'XC329382-Brown%20TinamouAU_SB_20150727_071743%20(online-audio-converter.com).mp3',\n",
              " 'XC299612-219%20Crypturellus%20obsoletus%20(single%20call)FazCerradinhoKlabin220711Telemaco_BorbaPR.mp3',\n",
              " 'XC286405-inhambuguaçu.mp3',\n",
              " 'XC221867-Brown%20Tinamou%20B%20139.mp3',\n",
              " 'XC221866-Brown%20Tinamou%20B%20134.mp3',\n",
              " 'XC221865-Brown%20Tinamou%20B%20136.mp3',\n",
              " 'XC190565-Crypturellus_obsoletus_Siderópolis_Panasonic_09_08_2014.mp3',\n",
              " 'XC189548-LGM-228.mp3',\n",
              " 'XC186200-F131%20Crypturellus_obsoletus(short%20song)Messianica220910.mp3',\n",
              " 'XC178151-Crypturellus_obsoletus-1081077.mp3',\n",
              " 'XC177198-Crypturellus%20obsoletus.mp3',\n",
              " 'XC176455-Tinamidae_Crypturellus_obsoletus_29_11_2011_H07_14_Parque_Nacional_Serra_Geral_Cambará_do_Sul_RS.mp3',\n",
              " 'XC174626-INHAMBUGUAÇU%20-%20SMS%20-%2030-10-12.mp3',\n",
              " 'XC164611-Crypturellus%20obsoletus-PNItatiaia-BR-11-1-14-ASilveira.mp3',\n",
              " 'XC164485-C%20obsoletus%20canto%201.mp3',\n",
              " 'XC157392-Crypturellus_obsoletus_inhambuguacu_1.mp3',\n",
              " 'XC144852-Crypturellus%20obsoletus-FazMontdoJapi-Jundiai-SP-Brazil27-9-07-ASilveira.mp3',\n",
              " 'XC142019-Crypturellus%20obsoletus%201.mp3',\n",
              " 'XC115825-Z0000042_Crypturellus_obsoletus.MP3',\n",
              " 'XC113744-inhambuguaçu4.mp3',\n",
              " 'Inhambuguacu%20(SOM).mp3',\n",
              " 'Crypturellus_obsoletus-746417.mp3',\n",
              " 'chamados%20inhambuguauu.mp3',\n",
              " 'Tinamidae._Crypturellus_obsoletus_Salseiro_Vidal_Ramos_18.12.2010_ELW.mp3',\n",
              " 'CRYOBS26.mp3',\n",
              " 'CRYOBS22.mp3',\n",
              " 'CRYOBS07.mp3',\n",
              " 'CRYOBS25.mp3',\n",
              " 'Crypturellus%20obsoletus110213_T508.mp3',\n",
              " 'Crypturellus%20obsoletus%20OC_Trilha%20Tres%20Picos_PN%20Itatiaia_Rio%20de%20Janeiro_Brasil_23FEB2004%20am%20c_Bernabe%20Lopez-Lanus.mp3',\n",
              " 'Crypturellus%20obsoletus%20calls%20miracatu%20MMELO%2029%2011%202009.mp3',\n",
              " 'Crypturellus%20obsoletus-PKD224:04.mp3',\n",
              " 'Brown_Tinamou_Zizo-3-61.mp3',\n",
              " 'XC481897-Crypturellus%20obsoletus.mp3',\n",
              " 'XC389227-140914_16_Cryp_obsoletus_Set14_16e50.mp3',\n",
              " 'XC283086-inhambuguaçu.mp3',\n",
              " 'XC242616-20140908-0823-BR0211-BR-RJ-REGUA-Brown%20Tinamou%20song%20filt%20amp.mp3',\n",
              " 'XC221870-Brown%20Tinamou%20C%20137.mp3',\n",
              " 'XC187442-Crypturellus%20obsoletu%2016%2011%2008.mp3',\n",
              " 'XC186796-Crypturellus_obsoletus_07_11_2013_Campus_Embrapa.mp3',\n",
              " 'XC174640-Crypturellus_obsoletus_17_06_2011_H08_29_Florestal_Gateados_Campo_Belo_do_Sul_SC.mp3',\n",
              " 'XC172799-inhambuguaçu%202013-12-01%20sítio.mp3',\n",
              " 'XC151873-Crypturellus%20obsoletus_Rio%20Branco_1214.mp3',\n",
              " 'XC144627-Crypturellus%20obsoletus-NcCunha-PESM-Brazil-1-10-04-ASilveira.mp3',\n",
              " 'XC119062-Crypturellus%20obsoletus_Sao%20Jose.mp3',\n",
              " 'B165T6P0_Crypt_absoletus_NM.mp3',\n",
              " '026No%20Title15082009.mp3',\n",
              " 'Crypturellus_obsoletus_PP_281020072.mp3',\n",
              " 'Cobsoletus%20bizarre.mp3',\n",
              " 'XC278382-IN%20(1).mp3',\n",
              " 'XC175074-INHAMBUGUAÇU%20-%20SIDEROPOLIS%20-%2001-10-11.mp3',\n",
              " 'XC165001-111115_0310.mp3inhambuguaçu2.mp3',\n",
              " 'XC165000-111115_0309.mp3inhambuguacú.mp3',\n",
              " 'XC124720-80%20C.%20obsoletus%2010022003%20Cerradão.mp3',\n",
              " 'XC384006-Crypturellus%20cf%20obsoletus%20003_170812_1707A0.mp3',\n",
              " 'XC901176-01-05-2024-18e14-Jao-MUNDO-NOVO.mp3',\n",
              " 'XC727430-26-05-2022%2017e50%20Jao%20(Crypturellus%20undulatus)%20TAQUARAL.mp3',\n",
              " 'XC727429-26-05-2022%2017e40%20Jao%20TAQUARAL.mp3',\n",
              " 'XC715896-14-04-2022%207e42%20Jao%20TAQUARAL.mp3',\n",
              " 'XC680557-Crypturellus%20undulatus%20-%20QN%20(mp3cut.net)%20(1).mp3',\n",
              " 'XC662179-08-07-2021%206e55%20Jao%20LAGEADO.mp3',\n",
              " 'XC617469-Jao%20(Crypturellus%20undulatus)%2025-02-2021%207e21.mp3',\n",
              " 'XC617211-22-01-2021%206e43%20Jao%20(Crypturellus%20undulatus).mp3',\n",
              " 'XC607986-Jao%20(Crypturellus%20undulatus-OK)%2004-12-2020%206e15.mp3',\n",
              " \"XC556252-Crypturellus%20undulatus%20-%20Caio%20Brito%20(Machadinho%20d'Oeste-RO)_BRITO,3461.mp3\",\n",
              " \"XC556251-Crypturellus%20undulatus%20-%20Caio%20Brito%20(Machadinho%20d'Oeste-RO)_BRITO,3459.mp3\",\n",
              " 'XC518786-Jao%20(Crypturellus%20undulatus-OK)%2017-12-2019%207e4.mp3',\n",
              " 'XC506366-05-10-2019%2011e15%20Jao%20(Crypturellus%20undulatus-OK).mp3',\n",
              " 'XC474817-Crypturellus%20undulatus_Chandless_1092.mp3',\n",
              " 'XC461820-Crypturellus%20undulatus_Maraca_1314.mp3',\n",
              " 'XC440942-Jao%20(Crypturellus%20undulatus-OK-OK)%2027-10-18%2017e45.mp3',\n",
              " 'XC437663-Jao2%20(Crypturellus%20undulatus-OK)%20%203-10-18%2017e51.mp3',\n",
              " 'XC437655-Jao1%20(Crypturellus%20undulatus-OK)%203-10-2018%206e20.mp3',\n",
              " 'XC427277-Crypturellus%20undulatus%20-Caio%20Brito-(Lagoa%20da%20Confusao-TO)-BRITO1547.mp3',\n",
              " 'XC427276-Crypturellus%20undulatus%20-Caio%20Brito-(Lagoa%20da%20Confusao-TO)-BRITO1541.mp3',\n",
              " 'XC416474-Jao3%20(Crypturellus%20undulatus-OK-OK)%2020%206e41.mp3',\n",
              " 'XC415430-Jao3%20(Crypturellus%20undulatus-OK-OK).mp3',\n",
              " 'XC415429-Jao%20(Crypturellus%20undulatus-OK-OK).mp3',\n",
              " \"XC384421-170820%20UNTI%2025'%20PJofre%200830%20mp3%20amp.mp3\",\n",
              " 'XC358831-recording-20160802-062507%20Jaó.mp3',\n",
              " 'XC342846-CRYUND24.mp3',\n",
              " 'XC342845-CRYUND20.mp3',\n",
              " 'XC314321-Crypturellus%20undulatus-Vazante-KKS-27-07-2015_06h00.MP3',\n",
              " 'XC299039-117%20Crypturellus%20undulatus%20(song)VerdeMar_RibasPardoMS140912.mp3',\n",
              " 'XC298315-Cripturellus%20undulatus.mp3',\n",
              " 'XC221929-Undulated%20Tinamou%20A%20152.mp3',\n",
              " 'XC217872-CRYUND23.mp3',\n",
              " 'XC217870-CRYUND08.mp3',\n",
              " 'XC217867-CRYUND01.mp3',\n",
              " 'XC150263-portojofre_23.09.2013_Crypturellus%20undulatus.mp3',\n",
              " 'XC124623-20110902-1704-1091-BR-MG-Pantanal%20Wildlife%20Center-Undulated%20Tinamou_song.mp3',\n",
              " 'XC113465-C%20undulatus.mp3',\n",
              " 'CRYUND19.mp3',\n",
              " 'CRYUND18.mp3',\n",
              " 'CRYUND12.mp3',\n",
              " 'CRYUND10.mp3',\n",
              " 'CRYUND01.mp3',\n",
              " 'XC879282-Crypturellus-undulatus-DCB-256-4.wav',\n",
              " 'XC857483-23-12-2023-7e1-Jao-MOSSAMEDES.mp3',\n",
              " 'XC844025-Crypturellus-undulatus_Bonito_MixPre-3621.wav',\n",
              " 'XC837447-12-10-2023-18e15-Jao-NOVA-CRIXAS.mp3',\n",
              " 'XC800311-09-05-2023-6e26-Jao-CATURAI.mp3',\n",
              " 'XC799765-Crypturellus-undulatus-DCB-280-14a.wav',\n",
              " 'XC748087-Crypturellus%20undulatus(song)2022_08_02_07RioVerdeGO_FIG.mp3',\n",
              " 'XC691966-17-12-2021%205e37%20Jao%20TAQUARAL.mp3',\n",
              " 'XC598971-191128-071103%20Crypturellus%20undulatus.mp3',\n",
              " 'XC573741-Crypturellus%20undulatus%20DCB%20762-8a.mp3',\n",
              " 'XC551581-Crypturellus_undulatus_STVITMG2_25.01.10_07.25_01.mp3',\n",
              " 'XC521573-UNTI_081617_5pm.mp3',\n",
              " 'XC520581-Crypturellus%20undulatus%202018_11_06_17_04_06_1.mp3',\n",
              " 'XC497686-20190830_undulated%20ti_17pm_pouso%20feliz.mp3',\n",
              " 'XC483059-Crypturellus%20undulatus%20DCB%20605-14d.mp3',\n",
              " 'XC387954-A0570906%20Cry%20und.mp3',\n",
              " 'XC385775-Crypturellus%20undulatus%20culengo.mp3',\n",
              " 'XC382015-STE-072%20jaó.mp3',\n",
              " 'XC330931-Crypturellus%20undulatus%203.mp3',\n",
              " 'XC329100-Crypturellus%20undulatus(song)AssisBrasilAC250613.mp3',\n",
              " 'XC304387-324%20Crypturellus%20undulatus%20(natural%20song)Córrego_Moeda_TrêsLagoasMS150811.mp3',\n",
              " 'XC304386-323%20Crypturellus%20undulatus%20(natural%20song)bCórrego_Moeda_TrêsLagoasMS150811.mp3',\n",
              " 'XC221938-Undulated%20Tinamou%20C%20150.mp3',\n",
              " 'XC221937-Undulated%20Tinamou%20B%20151.mp3',\n",
              " 'XC221935-Undulated%20Tinamou%20C%20154.mp3',\n",
              " 'XC221934-Undulated%20Tinamou%20B%20156.mp3',\n",
              " 'XC221933-Undulated%20Tinamou%20B%20155.mp3',\n",
              " 'XC221932-Undulated%20Tinamou%20B%20153.mp3',\n",
              " 'XC221930-Undulated%20Tinamou%20B%20149.mp3',\n",
              " 'XC206784-Crypturellus%20undulatus_Monte%20Carmelo_1091.mp3',\n",
              " 'XC206234-Crypturellus%20undulatus_Serra%20do%20Caiapó_Caiapônia_GO_09.11.2014_Glauco%20Pereira_Playback.mp3',\n",
              " \"XC199721-JAPURA_0116'%20Crypturellus%20undulatus.mp3\",\n",
              " 'XC158847-1180.mp3',\n",
              " 'XC143363-1026.mp3',\n",
              " 'XC128573-20110903-0619-1104-BR-MG-Pantanal%20Wildlife%20Center-Undulated%20Tinamou_evasion.mp3',\n",
              " 'XC123678-20110901-1645-1045-BR-MG-Pantanal%20Wildlife%20Center-Undulated%20Tinamou_calls.mp3',\n",
              " 'XC123460-20110831-0807-1006-BR-MG-Pantanal%20Wildlife%20Center-Undulated%20Tinamou_song.mp3',\n",
              " 'XC118852-Crypturellus%20undulatus_Pium.MP3',\n",
              " 'Crypturellus-undulatus-RClaro-Pocone-MT-Brazil-12-5-09-ASilveira.mp3',\n",
              " '04%204Undulated%20Tinamou_ACL.mp3',\n",
              " 'CRYUND09.mp3',\n",
              " 'TINAMOU%20Undulated_01_Ruta%20Transpantaneira_Puerto%20Jofre_Mato%20Grosso_BR_16NOV90_M%20Castelino.mp3',\n",
              " 'TINAMOU%20Undulated_08_Fazenda%20das%20Araras_Transpantaneira_BR_21FEB92_Bernabe%20Lopez-Lanus.mp3',\n",
              " 'Crypturellus%20undulatus%20undulatus_Undulated%20Tinamou_Fazenda%20das%20Araras_Transpantaneira_Mato%20Grosso_Brasil_16FEB92_Bernabe%20Lopez-Lanus_Bernabe%20Lopez-Lanus.mp3',\n",
              " 'JAOZINHO.mp3',\n",
              " 'FLF_Crypturellus_undulatus_ESEC_Serra_das_Araras.mp3',\n",
              " 'BD_2007-10-08_Crypturellus_undulatusXC.mp3',\n",
              " 'XC863893-20-01-2024-7e9-Jao-ITAJA.mp3',\n",
              " 'XC827013-03-09-2023-6e3-Jao-GOIANAPOLIS.mp3',\n",
              " 'XC755187-22-09-2022-6e59-Jao.mp3',\n",
              " 'XC754408-17-09-2022-18e21-Jao.mp3',\n",
              " 'XC737017-07-07-2022%209e21%20Jao%20ITAUCU.mp3',\n",
              " 'XC428918-C.%20undulatus%20pirenópolis%2013-07-18.MP3',\n",
              " 'XC221939-Undulated%20Tinamou%20C%20148.mp3',\n",
              " 'XC174047-JAÓ%20-%20ROSÁRIO%20OESTE%20-%2029-07-13%20(1).mp3',\n",
              " 'XC158108-Jao.mp3',\n",
              " 'CRYUND03.mp3',\n",
              " 'UndulatedTinamou_160511_1800_Uberlandia_Panga.mp3',\n",
              " 'Crypturellus_undulatus_MG_091229-0725.mp3',\n",
              " 'Undulated%20Tinamou.mp3',\n",
              " 'Crypturellus_undulatus_BR-Pixaim_19931118_S1_ATC.mp3',\n",
              " 'XC898299-19-04-2024-9e0-Jao-GUARANI-DE-GOIAS.mp3',\n",
              " 'XC864073-240118_1749-Jao-1.mp3',\n",
              " 'XC811920-24-06-2023-10e5-Jao-HIDROLANDIA.mp3',\n",
              " 'XC493220-16-7-2019%206e13%20falcao%20cabure%20JAO2.mp3',\n",
              " 'XC427275-Crypturellus%20undulatus%20-Caio%20Brito-(Guadalupe-PI)-BRITO858.mp3',\n",
              " 'XC380991-C.%20undulatus%20pppp%2022-07-17.MP3',\n",
              " 'XC121758-120907_002.MP3',\n",
              " 'XC524787-Crypturellus%20strigulosus%20-%20Carajas%20-%20Canaã%20-%2023-09-2019%20(09-14).mp3',\n",
              " 'XC521357-BRTIN2_090617_5pm.mp3',\n",
              " 'XC830624-08-09-2023-15e38-Inhambu-relogio-(Crypturellus-strigulosus)-TRILHA-CASTANHEIRAS-PARAUAPEBAS.mp3',\n",
              " 'XC830623-08-09-2023-15e32-Inhambu-relogio-TRILHA-CASTANHEIRAS-PARAUAPEBAS.mp3',\n",
              " 'XC781209-17-02-2023-17e27-Inhambu-relogio-ESTRADA-COLTILDE.mp3',\n",
              " 'XC643154-Crypturellus%20strigulosus%20DCB%20549-6.mp3',\n",
              " 'XC534654-Crypturellus%20strigulosus_Carajas_1041.WAV_E.mp3',\n",
              " 'XC493147-18-7-2019%206e36%20Inhambu%20relogio%20e%20tangara%20princepe%20e%20outro.mp3',\n",
              " 'XC493146-18-7-2019%206e31%20Estalador%20e%20inhambu%20relogio.mp3',\n",
              " 'XC427270-Crypturellus%20strigulosus%20-Caio%20Brito-(Parauapebas-PA)-BRITO2423.mp3',\n",
              " 'XC395768-Crypturellus%20strigulosus_Gurupi_1052.mp3',\n",
              " 'XC377295-Crypturellus_strigulosus_M5_Trasc-2_3km_Faz_Araçatuba_Lambaridoeste_MT.mp3',\n",
              " 'XC377294-Crypturellus_strigulosus_M5_P1_Faz_Araçatuba_Lambaridoeste_MT.mp3',\n",
              " 'XC323748-CRYSTR05.mp3',\n",
              " 'XC312936-CRYSTR03.mp3',\n",
              " 'XC312931-CRYSTR15.mp3',\n",
              " 'XC303310-Crypturellus%20strigulosus%204.mp3',\n",
              " 'XC221915-Brazilian%20Tinamou%20B%20162.mp3',\n",
              " 'XC221914-Brazilian%20Tinamou%20A%20161.mp3',\n",
              " 'XC217873-CRYSTR04.mp3',\n",
              " 'XC212971-Crypturellus%20strigulosus_Pacajas_1493.mp3',\n",
              " 'XC171248-9991229.MP3',\n",
              " 'XC155449-9991362.MP3',\n",
              " 'XC122585-Brazilian%20Tinamou.mp3',\n",
              " 'Brazilian%20Tinamou%20song%209-6-11.mp3',\n",
              " 'CRYSTR14.mp3',\n",
              " 'CRYSTR11.mp3',\n",
              " '015-122-Brazilian-Tinamou.mp3',\n",
              " 'Crypturellus%20strigulosus%20(song)_Dois%20Irmaos,%20Recife,%20PE_28.10.06_Glauco.mp3',\n",
              " 'XC898382-Crypturellus-strigulosus-DCB-520-3b.wav',\n",
              " 'XC728759-260522-175537_Crypturellus%20strigulosus%20Tyranneutes%20stolzmanni.mp3',\n",
              " 'XC487441-Crypturellus%20strigulosus%20DCB%20612-16.mp3',\n",
              " 'XC482187-Crypturellus%20strigulosus%20DCB%20614-9d.mp3',\n",
              " 'XC427272-Crypturellus%20strigulosus%20-Caio%20Brito-(Parecis-RO)-BRITO237.mp3',\n",
              " 'XC386578-Crypturellus_strigulosus-1828275.mp3',\n",
              " 'XC329094-Crypturellus%20strigulosus(song)Xapuri250613.mp3',\n",
              " 'XC326210-Crypturellus%20strigulosus(song)_Xapuri_AC250613.mp3',\n",
              " 'XC323752-CRYSTR18.mp3',\n",
              " 'XC313731-CRYSTR16.mp3',\n",
              " 'XC295979-BR000077%20-%20Crypturellus%20strigulosus.mp3',\n",
              " 'XC278458-Crypturellus_Garimpinho_Araguaina.mp3',\n",
              " 'XC221920-Brazilian%20Tinamou%20B%20166.mp3',\n",
              " 'XC221919-Brazilian%20Tinamou%20B%20165.mp3',\n",
              " 'XC221918-Brazilian%20Tinamou%20B%20164.mp3',\n",
              " 'XC221917-Brazilian%20Tinamou%20B%20163.mp3',\n",
              " 'XC221916-Brazilian%20Tinamou%20B%20160.mp3',\n",
              " 'XC151909-Crypturellus%20strigulosus_Catuaba_1134.mp3',\n",
              " 'XC130491-20110929-0545-1200-BR-MT-Floresta%20Amazonica%20Hotel-Brazilian%20Tinamou.mp3',\n",
              " 'XC130380-20111016-0903-1277-BR-MT-Cristalino%20Reserve-Brazilian%20Tinamou.mp3',\n",
              " 'Crypturellus_strigulosus_2004a-FRL_BR_17_1164-1236_1_S.mp3',\n",
              " 'BD_2007-08-04_Crypturellus_strigulosisXC.mp3',\n",
              " 'Crypturellus%20strigulosus%20Tucurui.mp3',\n",
              " 'XC755066-20-09-2022-18e3b-Inhambu-relogio.mp3',\n",
              " 'XC755017-20-09-2022-17e13-Inhambu-relogio.mp3',\n",
              " 'XC531199-Crypturellus%20strigulosus_Carajas_1037.mp3',\n",
              " 'XC435433-180920_3451%20BRTI%20100ft%20Torre%202%201000%20mp3%20amp.mp3',\n",
              " 'XC427271-Crypturellus%20strigulosus%20-Caio%20Brito-(Parecis-RO)-BRITO236.mp3',\n",
              " 'XC313940-CRYSTR17.mp3',\n",
              " 'XC167300-Crypturellus%20strigulosus_Machadinho_1096.mp3',\n",
              " 'XC124710-CRYPTstrig_Aldeia,%20PE.mp3',\n",
              " 'XC118961-Crypturellus%20strigilosus_Carajas_1217.mp3',\n",
              " 'B157-3-300_02-02-2011_T.GuttaBD.mp3',\n",
              " 'R09_0038Brazillian%20Tinamou_AlexLees.mp3',\n",
              " 'Crypturellus_strigulosus_BR-FRG_19931111_S2_ATC.mp3',\n",
              " 'XC568540-Crypturellus%20strigulosus_MatadoMatãoFazendaPindobaCampoAlegreAL_29III2008_GSTL0025.mp3',\n",
              " 'Crypturellus_strigulosus_BR-FRG_19931111_S1_ATC.mp3',\n",
              " 'XC407249-Crypturellus%20duidae_Virua_1071.mp3',\n",
              " 'XC407247-Crypturellus%20duidae_Virua_1061.mp3',\n",
              " 'XC402848-Crypturellus%20duidae_Caracarai1218.mp3',\n",
              " 'XC264297-Gray-legged%20Tinamou.mp3',\n",
              " 'XC636946-Crypturellus%20erythropus%20STE-051.mp3',\n",
              " 'XC456480-Crypturellus%20erythropus_Maraca_1244.mp3',\n",
              " 'XC307364-Crypturellus%20erythropus_Porto%20Grande_1151.mp3',\n",
              " 'XC307362-Crypturellus%20erythropus_Porto%20Grande_1150.mp3',\n",
              " 'XC456451-Crypturellus%20erythropus_Maraca_1216.mp3',\n",
              " 'XC521766-Crypturellus%20noctivagus%20-%20Vila%20da%20Glória%20-%20São%20Francisco%20do%20Sul%20-%202020-01-17%20(07-13)%20ed.mp3',\n",
              " 'XC898456-20-04-2024-17e37-Zabele-(Crypturellus-zabele)-SAO-DESIDERIO.mp3',\n",
              " 'XC898455-20-04-2024-17e36-Zabele-(Crypturellus-zabele)-SAO-DESIDERIO.mp3',\n",
              " 'XC898454-20-04-2024-17e28-Zabele-SAO-DESIDERIO.mp3',\n",
              " 'XC707194-Crypturellus%20zabele_Montes%20Claros_MIXPRE-267.WAV_E.mp3',\n",
              " 'XC707193-Crypturellus%20zabele_Montes%20Claros_MIXPRE-265.WAV_E.mp3',\n",
              " 'XC614784-Crypturellus%20noctivagus_Itapoa_ML065.mp3',\n",
              " 'XC614783-Crypturellus%20noctivagus_Itapoa_ML053.mp3',\n",
              " 'XC521263-191031_003%20-%20Zabelê%20Bonfim.mp3',\n",
              " 'XC502078-C.%20noctivagus_mp3.mp3',\n",
              " 'XC440192-Crypturellus%20noctivagus%20-%20Piraí%20-%20Joinville%20-%20SC%20-%2017-10-2017%20(08-33)%20ed.mp3',\n",
              " 'XC347780-Crypturellus_noctivagus_Itanhaem_SP_20_Dec_2016_RSS.mp3',\n",
              " 'XC896199-Crypturellus-noctivagus-(song)2024_02_17_12_50PERD.wav',\n",
              " 'XC896198-Crypturellus-noctivagus-(song)-PERD2024_02_17_11_54.wav',\n",
              " 'XC895850-Crypturellus-noctivagus-DCB-215-17.wav',\n",
              " 'XC714010-F895%20Crypturellus%20noctivagus(song)2021_11_07_ETE_SL_BertiogaSPwav.mp3',\n",
              " 'XC714009-F894%20Crypturellus%20noctivagus%20(song)2021_11_07ETE_SL_BertiogaSP.mp3',\n",
              " 'XC621943-Yellow-legged%20Tinamou_Botumirim_Br_28nov2018_FSchmitt.mp3',\n",
              " 'XC521264-191123_003%20-%20zabelê%20-%20Editado.mp3',\n",
              " 'XC482212-738%20Crypturellus%20noctivagus%20zabele(song)Jaboticaba_CondeBA_030214.mp3',\n",
              " 'XC482211-737%20Crypturellus%20noctivagus%20zabele%202(song)Jaboticaba_CondeBA_030214.mp3',\n",
              " 'XC344564-Crypturellus%20noctivagus%20%20-%20Piraí%20-%20Joinville%20-%20SC%20-%2025-11-2016%20(16-33)%20editada.mp3',\n",
              " 'XC343222-Crypturellus%20noctivagus%20-%20%20Piraí%20-%20Joinville%20-%20SC%20-%2027-09-2016%20(17-12)%20editada.mp3',\n",
              " 'XC343210-Crypturellus_noctivagus-1945844.mp3',\n",
              " 'XC240971-Crypturellus%20noctivagus.mp3',\n",
              " 'XC172520-JAÓ%20DO%20SUL%20-%20GUARAQUEÇABA%20-%2013-01-14.mp3',\n",
              " 'XC165562-crypturellus_noctivagus_voltavelha_13ene2014_trilha-sambaqui.MP3',\n",
              " 'Crypturellus-noctivagus-RGuarau-Peruibe-SP-Brazil26-11-09-ASilveira.mp3',\n",
              " 'CRYNOC07.mp3',\n",
              " 'CRYNOC04.mp3',\n",
              " 'Crypturellus%20noct_Lagoa%20Real_CA.mp3',\n",
              " 'Crypturellus_noctivagus_(Yellow-legged_Tinamou)e.p.26.12.08.mp3',\n",
              " 'Yellow-leggedTinamou.mp3',\n",
              " 'yeletina.mp3',\n",
              " 'XC611363-Crypturellus%20noctivagus%20Fita%20K7%2001-6.mp3',\n",
              " 'XC362232-Crato%20zabele.mp3',\n",
              " 'XC335281-Crypturellus%20noctivagus%20Itanhaem%2009%2009%202016%20RSS.mp3',\n",
              " 'XC314322-Crypturellus%20notivagus_KKS_PERD_19-04-2016_08h46.MP3',\n",
              " 'XC278253-Crypturellus%20noctivagus.mp3',\n",
              " 'XC266339-Crypturellus_noctivagus_(Yellow-legged_Tinamou)e.p.01.02.10.mp3',\n",
              " 'XC217908-CRYNOC06.mp3',\n",
              " 'XC215661-Yellow-legged%20Tinamou%20(song,%20Brazil,%20Chapada%20Diamantina,%20aug2011,%201).MP3',\n",
              " 'mybi1007kort.mp3',\n",
              " 'Crypturellus%20noctivagus_Mucuge_SSS.mp3',\n",
              " 'Cryp_noctivagus_MarcosMelo30122008.mp3',\n",
              " '13_Crypturellus%20noctivagus_Parambu_18_III_2007_Ciro%20Albano.mp3',\n",
              " 'Yellowlegged_Tinamu_CB.mp3',\n",
              " 'XC278334-Cr%20noct.mp3',\n",
              " 'XC221854-Yellow-legged%20Tinamou%20C%20170.mp3',\n",
              " 'XC221853-Yellow-legged%20Tinamou%20C%20169.mp3',\n",
              " 'XC217904-CRYNOC03.mp3',\n",
              " 'XC158039-Crypturellus%20noctivagus%20(Wied,%201820).mp3',\n",
              " 'XC135185-jaó%20do%20sul.mp3',\n",
              " 'yellowleggedtianmousep8.mp3',\n",
              " 'R09_1006-Yellow-legged-Tinamou.mp3',\n",
              " 'XC306204-teste.mp3',\n",
              " 'XC475704-Crypturellus%20atrocapillus-083.mp3',\n",
              " 'XC474806-Crypturellus%20atrocapillus_Chandless_1184.mp3',\n",
              " 'XC437373-180802_08_Black-capped%20Tinamou_Ramal%20do%20Noca,%20AC,%20Brazil_1%20August%202018.mp3',\n",
              " 'XC151848-Crypturellus%20atrocapillus_Rio%20Branco_1118.mp3',\n",
              " 'CRYATR03.mp3',\n",
              " 'CRYATR02.mp3',\n",
              " 'XC535963-1662%20Crypturellus%20atrocapillus%20(calls)Boca_do_Acre_AM_200516_FIG.mp3',\n",
              " 'XC490304-Crypturellus%20atrocapillus%20DCB%20609-24.mp3',\n",
              " 'XC474409-Crypturellus%20atrocapillus%20DCB%20600-9.mp3',\n",
              " 'XC474407-Crypturellus%20atrocapillus%20DCB%20600-7.mp3',\n",
              " 'XC431915-Crypturellus%20atrocapillus_Rio%20Branco_1209.mp3',\n",
              " 'XC556250-Crypturellus%20atrocapillus%20-%20Caio%20Brito%20(Rio%20Branco-AC)_BRITO,3329.mp3',\n",
              " 'XC198531-141001_009.mp3',\n",
              " 'XC384438-Crypturellus%20atrocapillus%20009_170819_0620A0.mp3',\n",
              " 'XC456452-Crypturellus%20variegatus_Maraca_1216.mp3',\n",
              " 'XC427278-Crypturellus%20variegatus%20-Caio%20Brito-(Parauapebas-PA)-BRITO2261.mp3',\n",
              " 'XC171119-Crypturellus%20variegatus%20Manaus-AM.mp3',\n",
              " 'XC171047-Crypturellus%20variegatus%20Manaus-AM.mp3',\n",
              " 'XC129846-20110919-1741-1086-BR-MT-Cristalino%20Reserve-Variegated%20Tinamou.mp3',\n",
              " 'XC129844-20110919-1738-1084-BR-MT-Cristalino%20Reserve-Variegated%20Tinamou.mp3',\n",
              " 'XC830625-08-09-2023-15e40-Inhambu-anhangaTRILHA-CASTANHEIRAS-PARAUAPEBAS.mp3',\n",
              " 'XC524959-Crypturellus%20variegatus%20DCB%20468-21a.mp3',\n",
              " 'XC483925-Crypturellus%20variegatus%20DCB%20615-12.mp3',\n",
              " 'XC472394-Crypturellus_variegatus-1683076.mp3',\n",
              " 'XC430577-180811_3002%20VATI%2050ft%20Cris%201630%20mp3%20amp.mp3',\n",
              " 'XC427279-Crypturellus%20variegatus%20-Caio%20Brito-(Porto%20Seguro-BA)-BRITO2642.mp3',\n",
              " 'XC422546-2050%20Crypturellus%20variegatus%20(song)EstVeracel_PortoSeguro_BA_040417_FIG.mp3',\n",
              " 'XC422213-2044%20Crypturellus%20variegatus%20(song)EstVeracel_PortoSeguro_BA_310317_FIG.mp3',\n",
              " 'XC421916-2044%20Crypturellus%20variegatus%20(song)EstVeracel_PortoSeguro_BA_310317_FIG.mp3',\n",
              " 'XC284911-Crypturellus%20variegatus_Carauari_1771%20-%20Cópia.mp3',\n",
              " 'XC221943-Variegated%20Tinamou%20B%20196.mp3',\n",
              " 'XC188529-Crypturellus%20variegatus.mp3',\n",
              " 'XC171226-9991272.MP3',\n",
              " 'XC167065-Crypturellus%20variegatus_Coatá_04dez2013.mp3',\n",
              " 'XC157130-R09_0006_Cryp_vairg_ACL.mp3',\n",
              " 'XC129842-20110919-1735-1081-BR-MT-Cristalino%20Reserve-Variegated%20Tinamou_frag.mp3',\n",
              " 'XC129063-inhambu-anhanga.mp3',\n",
              " 'CRYVAR11.mp3',\n",
              " 'Crypturellus_variegatus_2004a-FRL_BR_10_930-990_1_S.mp3',\n",
              " 'Crypturellus%20variegatus_Veracel_PS_12_II_2010_CA.mp3',\n",
              " 'XC557611-Crypturellus%20variegatus%20DCB%20625-11.mp3',\n",
              " 'XC472329-Crypturellus_variegatus-1397132.mp3',\n",
              " 'XC430587-180811_3012%20VATI2%20Cris%201530%20mp3%20amp.mp3',\n",
              " 'XC422895-2306%20Crypturellus%20variegatus%20(variacao_Tremulo)Sucupira_SCCabraliaBA_200917_FIG.mp3',\n",
              " 'XC340934-CRYVAR15.mp3',\n",
              " 'XC338472-CRYVAR06.mp3',\n",
              " 'XC323922-362%20Crypturellus%20variegatus(song)Sucupira_PortoSeguroBA281011.mp3',\n",
              " 'XC221944-Variegated%20Tinamou%20C%20197.mp3',\n",
              " 'XC125698-Crypturellus%20variegatus.mp3',\n",
              " '363%207%200%20Varig%20tinamou_ACL.mp3',\n",
              " '2%20B549%20T10%20P150%20Crypturelus%20variegatus_Nuargila%20Moura%20(trogon%20viridis_%20Myrmo%20longip).mp3',\n",
              " 'mz81Cvariegatus.mp3',\n",
              " 'Crypturellus_variegatus.mp3',\n",
              " 'XC844645-301565931.wav',\n",
              " 'XC494092-3-8-2019%206e54%20Inhambu%20anhanga%20Arapacu.mp3',\n",
              " 'XC494091-3-8-2019%206e50%20INHAMBU%20ANHANGA1%20Arapacu%20e%20icognitas.mp3',\n",
              " 'XC221947-Variegated%20Tinamou%20D%20195.mp3',\n",
              " 'XC119382-Crypturellus%20variegatus_Ducke.MP3',\n",
              " 'XC484096-Crypturellus%20bartletti%20DCB%20606-1.mp3',\n",
              " 'XC474810-Crypturellus%20bartletti_Chandless_1185.mp3',\n",
              " 'XC535972-1666%20Cryputellus%20barttleti%20(song)_Boca_do_Acre_AM_200516_FIG.mp3',\n",
              " 'XC535964-1663%20Crypturellus%20barttleti%20(song)Boca_do_Acre_AM_200516_FIG.mp3',\n",
              " 'XC475738-Crypturellus%20bartletti-084.mp3',\n",
              " 'XC212362-CRYBAR04_full.mp3',\n",
              " 'XC211177-150123_001.mp3',\n",
              " 'XC142174-130508_32_Crypturellus_bartletti_duvida_teuini_am_esp_tol.mp3',\n",
              " 'CRYBAR04_2.mp3',\n",
              " 'CRYBAR04_1.mp3',\n",
              " 'XC470891-Crypturellus_tataupa_Olímpia_SP_21.01.18_09.45.mp3',\n",
              " 'XC863826-18-01-2024-18e35-Inhambu-chororo-ITAJA.mp3',\n",
              " 'XC737386-09-07-2022%206e30%20Inhambu%20chororo%20CRISTINOPOLIS.mp3',\n",
              " 'XC717552-20-04-2022%2018e28%20Inhambu%20chororo%20SERRA.mp3',\n",
              " 'XC706977-03-03-2022%2011e12%20Inhambu%20chororo%20(Crypturellus%20parvirostris)%20TAQUARAL.mp3',\n",
              " 'XC706091-FCF02932%20Crypturellus%20parvirostris%20(song)Eldorado_Montanha_ES_191120FIG.mp3',\n",
              " 'XC704661-Inhambu%20chororo%20CARAIBAS%2020-02-2022%208e41.mp3',\n",
              " 'XC704575-26-02-2022%208e46%20Inhambu%20chororo%20AP%20GYN%20.mp3',\n",
              " 'XC704331-20-02-2022%206e56%20Inhambu%20chororo%20CARAIBAS.mp3',\n",
              " 'XC704330-20-02-2022%206e54%20Inhambu%20chororo%20CARAIBAS.mp3',\n",
              " 'XC704328-20-02-2022%206e45%20Inhambu%20chororo%20CARAIBAS.mp3',\n",
              " 'XC698670-Crypturellus_parvirostris-4272613.mp3',\n",
              " 'XC682516-Inhambu%20chororó%20Tulipas.mp3',\n",
              " 'XC655058-inhambu-chororó.mp3',\n",
              " 'XC448635-Crypturellus%20parvirostris2.mp3',\n",
              " 'XC442163-Inhambu%20chororo%2012-11-18%2017e57.mp3',\n",
              " 'XC427712-Crypturellus%20parvirostris%20-Caio%20Brito-(Guadalupe-PI)-BRITO919.mp3',\n",
              " 'XC427266-Crypturellus%20parvirostris%20-Caio%20Brito-(Guadalupe-PI)-BRITO919.mp3',\n",
              " 'XC415355-Inhambu%20chororo4%20(Crypturellus%20parvirostris-OK).mp3',\n",
              " 'XC415353-Inhambu%20chororo2%20(Crypturellus%20parvirostris-OK).mp3',\n",
              " 'XC415352-Inhambu%20chororo1%20(Crypturellus%20parvirostris-OK).mp3',\n",
              " 'XC221871-Small-billed%20Tinamou%20A%20212.mp3',\n",
              " 'Crypturellus_parvirostris_JMS110711_0951.mp3',\n",
              " 'Crypturellus%20parvirostris-PKD227:22.mp3',\n",
              " 'XC804023-25-05-2023-6e38-Inhambu-chororo-CATURAI.mp3',\n",
              " 'XC755392-08-10-2022-6e0-Inhambu-chororo.mp3',\n",
              " 'XC679420-Crypturellus%20parvirostris%20DCB%20214-8.mp3',\n",
              " 'XC647610-Crypturellus%20parvirostris%20Codoi%20Coqueiro%20Seco%20AL%2004%20May%202021%20RSS.mp3',\n",
              " 'XC600406-C%20parvirostris.mp3',\n",
              " 'XC593194-Crypturellus%20parvirostris%20Patrocinio%20MG%2024%20Aug%202020%20RSS.mp3',\n",
              " 'XC580464-26-07-2020%2018e23%20Inambu%20chororo%20%20(Crypturellus%20parvirostris-OK).mp3',\n",
              " 'XC521423-13-01-2020%2017e25%20Inhambu%20chororo%20Azulao%2013-01-2020%2017e25.mp3',\n",
              " 'XC472070-Crypturellus_parvirostris-383279.mp3',\n",
              " 'XC430030-Crypturellus%20parvirostris%20e%20O.%20araucuan.mp3',\n",
              " 'XC427267-Crypturellus%20parvirostris%20-Caio%20Brito-(Potengi-CE)-BRITO846.mp3',\n",
              " 'XC422999-2383%20Crypturellus%20parvirostris%20(short%20song)EldoradoII_Suzano_MontanhaES_060318_FIG.mp3',\n",
              " 'XC422569-2063%20Crypturellus%20parvirostris%20(song)Mucununga(B5)Caravelas_BA210417_FIG.mp3',\n",
              " 'XC419581-1304%20Crypturellus%20parvirostris%20(song)Sapucaieira_Eunapolis_BA210914_FIG.mp3',\n",
              " 'XC417325-Crypturelus_parvirostris__estradacerradoretiro_DAPLAN_Rio%20Sono.mp3',\n",
              " 'XC326056-684.%20Crypturellus_parvirostris(chamadosimples)_VerdeMarI_NIOBE_04022013_FIG.mp3',\n",
              " 'XC301352-297%20Crypturellus%20parvirostris%20(single%20song))MoedaTrÊsLagoasMS130212.mp3',\n",
              " 'XC266354-Crypturellus_parvirostris_(Small-billed_Tinamou)e.p.25.01.15.mp3',\n",
              " 'XC234769-Crypturellus%20parvirostris-Canastra%2019-02-2010_09h35min.mp3',\n",
              " 'XC234768-Crypturellus%20parvirostris-Canastra%2019-02-2010_09h30min.mp3',\n",
              " 'XC221875-Small-billed%20Tinamou%20B%20215.mp3',\n",
              " 'XC221873-Small-billed%20Tinamou%20A%20211.mp3',\n",
              " 'XC221872-Small-billed%20Tinamou%20B%20217.mp3',\n",
              " 'XC215753-C.%20parvirostris%20c%20iffe150303_008.MP3',\n",
              " 'XC173055-INHAMBU%20CHORORÓ%20-%20ARCOS%20-%2001-05-13.mp3',\n",
              " 'XC164044-inhambu-chororo-JF.mp3',\n",
              " \"XC157489-A0881118'%20C%20parvirostris.mp3\",\n",
              " 'XC114959-inhambu4.mp3',\n",
              " 'XC114958-inhambu.mp3',\n",
              " 'XC114957-inhambu%20chororo%201.mp3',\n",
              " 'Crypturellus-parvirostris-AracdaSerraSP-Brazil-10-93-ASilveira.mp3',\n",
              " 'CRYPAR02.mp3',\n",
              " 'Crypturellus%20parvirostris%20(short%20song)_Serra%20da%20Passira,%20Passira,%20PE_06.08.06_Glauco.mp3',\n",
              " 'Crypturellus%20parvirostris%20(full%20song)_Serra%20da%20Passira,%20Passira,%20PE_06.08.06_Glauco.mp3',\n",
              " 'XC493246-16-7-2019%2018%20e%2035%20Inhambu%20chororo.mp3',\n",
              " 'XC400253-A0140828%20cry%20par.mp3',\n",
              " 'XC221882-Small-billed%20Tinamou%20C%20214.mp3',\n",
              " 'XC221881-Small-billed%20Tinamou%20C%20206.mp3',\n",
              " 'XC221880-Small-billed%20Tinamou%20B%20207.mp3',\n",
              " 'XC221878-Small-billed%20Tinamou%20B%20210.mp3',\n",
              " 'XC221877-Small-billed%20Tinamou%20C%20208.mp3',\n",
              " 'XC212586-Small-billed%20Tinamou_PI_20140626_0719xx.mp3',\n",
              " 'XC211720-19082014_FLF058Crypturellus_parvirostris.mp3',\n",
              " 'XC210369-C.%20parvirostris2%20iffe141230_003.MP3',\n",
              " 'XC210368-C.%20parvirostris%20iffe141230_005.MP3',\n",
              " 'XC179294-Crypturellus_parvirostris-1257775.mp3',\n",
              " 'B69T4P150_Cryp_parvi_NM.mp3',\n",
              " 'MZ43Crypturellus_parvirostris_chap_guim_mmelo.mp3',\n",
              " 'B274T10P0_2805_crypturellus_parvirostris_NM2.mp3',\n",
              " 'Crypturellus%20parvirostris_Bessa_2011.mp3',\n",
              " 'C.%20parvirostris_BESSA1.mp3',\n",
              " 'Crypturellus%20parvirostris%20MMelo%20jaceguava.mp3',\n",
              " 'Crypturellus-parvirostris-ADP.mp3',\n",
              " 'C.%20parvirostris,%20Usina%20Trapiche,%20Mata%20de%20Santo%20Antonio%2027-01-2007.mp3',\n",
              " 'XC844646-301920721.wav',\n",
              " 'XC221925-Tataupa%20Tinamou%20C%20226.mp3',\n",
              " 'XC118664-Crypturellus%20parvirostris_1032.mp3',\n",
              " 'Crypturellus%20parvirostris110221_T580.mp3',\n",
              " 'inhambu%20850_NEW.mp3',\n",
              " 'XC472074-Crypturellus_tataupa-275565.mp3',\n",
              " 'XC419161-891%20Crypturellus%20tataupa(calls%20and%20song%20in%20resp%20pl)Varanal_TelemacoBorbaPR120713.mp3',\n",
              " 'XC404460-B0321216%20C.%20tataupa%208s.mp3',\n",
              " 'XC386919-Crypturellus%20tataupa.mp3',\n",
              " 'XC175073-INHAMBU%20CHINTÃ%20-%20SIDEROPOLIS%20-%2001-10-11.mp3',\n",
              " 'XC173952-Tinamidae_Crypturellus_tataupa_16_12_2011_H09_31_Salseiro_Vidal_Ramos.mp3',\n",
              " 'XC170334-tataupa.mp3',\n",
              " 'XC170332-tataupa..mp3',\n",
              " 'XC145885-Crypturellus%20tataupa-NcIporangaPETAR-SP-BR-30-10-08-ASilveira.mp3',\n",
              " 'XC786065-inhambu-chintá-noturno.wav',\n",
              " 'XC781249-18-02-2023-11e22-Inhambu-chinta-CASCALHEIRAS.mp3',\n",
              " 'XC780734-16-02-2023-17e47-Inhambu-chinta2-CASCALHEIRA.mp3',\n",
              " 'XC780731-16-02-2023-17e34-Inhambu-chinta-CASCALHEIRA.mp3',\n",
              " 'XC696968-09-01-2022%209e39%20Inhambu%20chinta%20EUCLIDES%20DA%20CUNHA.mp3',\n",
              " 'XC696966-09-01-2022%209e34%20Inhambu%20chinta%20EUCLIDES%20DA%20CUNHA.mp3',\n",
              " 'XC598941-Ctataupa1205_01.mp3',\n",
              " 'XC582981-Crypturellus%20tataupa_Poções_20200806-062556.mp3',\n",
              " 'XC515385-TASCAM_0218%20-%20Crypturellus%20tataupa.mp3',\n",
              " 'XC450294-Crypturellus%20tataupa.mp3',\n",
              " 'XC433827-mp3_C.%20tataupa.mp3',\n",
              " 'XC427274-Crypturellus%20tataupa%20-Caio%20Brito-(Quixada-CE)-BRITO1574.mp3',\n",
              " 'XC427273-Crypturellus%20tataupa%20-Caio%20Brito-(Cuite-PB)-BRITO528.mp3',\n",
              " 'XC388096-170906%20TATI2%2030ft%20Wetlands%200600%20mp3%20amp.mp3',\n",
              " 'XC348898-Crypturellus%20tataupa.mp3',\n",
              " 'XC221922-Tataupa%20Tinamou%20A%20228.mp3',\n",
              " 'XC203260-Crypturellus%20tataupa.mp3',\n",
              " 'XC143925-Crypturellus%20tataupa%201.mp3',\n",
              " 'XC124385-inhambu-cjinta%20ARCRUZ.mp3',\n",
              " 'i%20chinta.mp3',\n",
              " 'Crypturellus%20tataupa%20(Reginao).mp3',\n",
              " 'Crypturellus%20tataupa_Vale%20do%20Selke%20Pequeno_Pomerode_SC_06-09-2009.mp3',\n",
              " 'Crypturellus%20tataupa.mp3',\n",
              " 'XC898457-20-04-2024-17e37-Inhambu-chinta-(Crypturellus-tataupa)-SAO-DESIDERIO.mp3',\n",
              " 'XC884434-Crypturellus-tataupa-DCB-057-8.wav',\n",
              " 'XC880503-Inhambu-chintã-(Crypturellus-tataupa).mp3',\n",
              " 'XC744791-220627_001inhambuchintã.mp3',\n",
              " 'XC516448-Crypturellus%20tataupa.mp3',\n",
              " 'XC451614-Inhambu%20chinta%206\\u200e-1-\\u200e2019%20\\u200f\\u200e%209e2.mp3',\n",
              " 'XC433997-DR0000_0187_cut.mp3',\n",
              " 'XC303747-CRYTAT20.mp3',\n",
              " 'XC296894-Tataupa%20Tinamou,%2030.11.,%20song%20female.mp3',\n",
              " 'XC292899-Tataupa%20Tinamou,%2030.11.,%20song.mp3',\n",
              " 'XC247453-20140924-0535-BR0321-BR-RJ-REGUA-Tataupa%20Tinamou%20song%20filt%20amp.mp3',\n",
              " 'XC243466-20140910-0553-BR0240-BR-RJ-REGUA-Tataupa%20Tinamou%20song.mp3',\n",
              " 'XC221876-Small-billed%20Tinamou%20B%20213.mp3',\n",
              " 'XC221874-Small-billed%20Tinamou%20B%20209.mp3',\n",
              " 'XC212403-Crypturellus_tataupa_03-01-2015_BRSB.mp3',\n",
              " 'XC186199-F130%20Crypturellus%20tataupa%20(single%20call)(300311)IjuíRS.mp3',\n",
              " 'XC186198-F129%20Crypturellus%20tataupa%20(short%20song)Itapevi_SP030611.mp3',\n",
              " 'XC145685-Crypturellus-tataupa-Picinguaba-UbatubaSP-Brazil15-11-91-ASilveira.mp3',\n",
              " 'XC144754-Crypturellus-tataupa-CantareiraSPark-Brazil30-10-04-ASilveira.mp3',\n",
              " 'XC121465-130209_001%20sem%20funk.mp3',\n",
              " 'XC121187-Inhambu-chintã%20%20ARACRUZ-ES.mp3',\n",
              " 'XC118921-Crypturellus%20tataupa_Carajas_1018.mp3',\n",
              " 'Crypturellus-tataupa-Picinguaba-UbatubaSP-Brazil15-11-91-ASilveira.mp3',\n",
              " 'MZ26Crypturellus_tataupa_chapad_guim_MMelo.mp3',\n",
              " 'SYNRUF13.mp3',\n",
              " 'CRYTAT16.mp3',\n",
              " 'CRYTAT14.mp3',\n",
              " 'CRYTAT09.mp3',\n",
              " 'CRYTAT05.mp3',\n",
              " 'Crypturellus%20tataupa_SentoSe_SSS.mp3',\n",
              " 'mz31CrypturellustataupaaguasprataMMelo050220100630.mp3',\n",
              " 'Tinamidae._Crypturellus_tataupa_RPPN_Prima_Luna_11.02.2010_ELXC.mp3',\n",
              " 'Crypturellus%20tataupa%20(short%20song)_Porteiras,%20Altinho,%20Pe_26.12.05_Glauco.mp3',\n",
              " 'XC786899-MixPre-001_C_tataupa.wav',\n",
              " 'XC786605-MixPre-003_C_tataupa.wav',\n",
              " 'XC653867-ewx210508%20Tataupa%20Tinamou07h26.MP3',\n",
              " 'XC427280-Crypturellus%20tataupa%20-Caio%20Brito-(Araripe-CE)-BRITO1423.mp3',\n",
              " 'XC356994-INHAMBU%20CHINTÃ%2029122016-1010~1.mp3',\n",
              " 'XC179295-Crypturellus_tataupa-1081079.mp3',\n",
              " 'XC172641-INHAMBU%20CHINTA%20-%20COTIPORÃ-%2022-02-2013.mp3',\n",
              " 'XC144853-Crypturellus-tataupa-FazMontJapi-Jundiai-SP-BR-1-9-07-ASilveira.mp3',\n",
              " 'XC127676-inhambu-cjinta%20VIÇOSA.mp3',\n",
              " 'Crypturellus%20tataupa%20(long%20song)_Porteiras,%20Altinho,%20PE_20.04.03_Glauco.mp3',\n",
              " 'XC266342-Crypturellus_tataupa_(Tataupa_Tinamou)e.p.01.08.12.mp3',\n",
              " 'XC221926-Tataupa%20Tinamou%20C%20223.mp3',\n",
              " 'XC176159-Crypturellus%20tataupa.mp3',\n",
              " 'XC755242-22-09-2022-15e38-Perdiz.mp3',\n",
              " 'XC696983-09-01-2022%2010e8%20Perdiz%20EUCLIDES%20DA%20CUNHA.mp3',\n",
              " 'XC691762-Perdiz.mp3',\n",
              " 'XC674356-08-09-2021%207e9%20Perdiz.mp3',\n",
              " 'XC599427-Perdiz%20voo%20(Rhynchotus%20rufescens-OK)%2024-09-2020%2015e57.mp3',\n",
              " 'XC599426-Perdiz%20voo%20(Rhynchotus%20rufescens-OK)%2012-10-2020%2016e11.mp3',\n",
              " 'XC511769-ZOOM0022%20mp3%20Red-winged%20Tinamou.mp3',\n",
              " 'XC506429-Perdiz.mp3',\n",
              " 'XC454255-Perdiz5%20(Rhynchotus%20rufescens-OK-OK)%2024-01-2019%208e8.mp3',\n",
              " 'XC418509-Perdiz2%20(Rhynchotus%20rufescens-OK).mp3',\n",
              " 'XC288532-PESC1_43_Rrufe.mp3',\n",
              " 'XC266341-Rhynchotus_rufescens_(Red-winged_Tinamou)e.p.09.08.09.mp3',\n",
              " 'XC173419-PERDIZ%20-%20SAO%20ROQUE%20DE%20MINAS%20-%2008-05-13.mp3',\n",
              " 'Rhynchotus_rufescens_Tapira_MG_07_Fev_2006_RSS.mp3',\n",
              " 'XC881112-Perdiz-(Rhynchotus-rufescens).mp3',\n",
              " 'XC818418-Rhynchotus-rufescens-DCB-376-1a.wav',\n",
              " ...]"
            ]
          },
          "metadata": {},
          "execution_count": 25
        }
      ]
    },
    {
      "cell_type": "code",
      "source": [
        "with open(\"output.txt\") as file:\n",
        "    song_names = [line.rstrip() for line in file]\n",
        "\n",
        "song_names_xeno = []\n",
        "for song in song_names:\n",
        "    if song[0:2] == \"XC\":\n",
        "        song_names_xeno.append(song)"
      ],
      "metadata": {
        "id": "OQ5z1z8rAUaN"
      },
      "execution_count": null,
      "outputs": []
    },
    {
      "cell_type": "code",
      "source": [
        "song_names_xeno"
      ],
      "metadata": {
        "colab": {
          "base_uri": "https://localhost:8080/"
        },
        "collapsed": true,
        "id": "oFFR5_aaArqZ",
        "outputId": "b32eab82-6d1e-4dde-f858-59851fd2e7ef"
      },
      "execution_count": null,
      "outputs": [
        {
          "output_type": "execute_result",
          "data": {
            "text/plain": [
              "['XC113545-C304_D01.mp3',\n",
              " 'XC113546-C5836_D02.mp3',\n",
              " 'XC113547-C357_D01.mp3',\n",
              " 'XC113595-C320_D01.mp3',\n",
              " 'XC113596-C3391_D01.mp3',\n",
              " 'XC113598-C5807_D01.mp3',\n",
              " 'XC113599-C328_D01%20.mp3',\n",
              " 'XC113603-C336_D01.mp3',\n",
              " 'XC113604-C384_D01%20.mp3',\n",
              " 'XC113606-C1947%20_D01.mp3',\n",
              " 'XC113607-C384_D03.mp3',\n",
              " 'XC113629-C2939_D01.mp3',\n",
              " 'XC113630-C2933_D01.mp3',\n",
              " 'XC113634-C2905_D01.mp3',\n",
              " 'XC113797-C3386%20_D01.mp3',\n",
              " 'XC115770-Plain-tailed%20Wren_schulenbergi2012-10-28-1.mp3',\n",
              " 'XC115771-Russet-mantled%20Softtail2012-10-29-1.mp3',\n",
              " 'XC115772-Neblina%20Tapaculo2012-10-29-2.mp3',\n",
              " 'XC115773-Neblina%20Tapaculo2012-10-29-4.mp3',\n",
              " 'XC115774-Neblina%20Tapaculo2012-10-29-5.mp3',\n",
              " 'XC115775-Blackish%20Tapaculo2012-10-29-1.mp3',\n",
              " 'XC115935-Pale-billed%20Antpitta2012-10-28-1-1.mp3',\n",
              " 'XC115936-Smoky%20Bush-Tyrant2012-10-29-1.mp3',\n",
              " 'XC116693-Rusty-tinged%20Antpitta2012-10-29-2.mp3',\n",
              " 'XC117313-Track%2016.mp3',\n",
              " 'XC117474-35%20Audio%20Track.mp3',\n",
              " 'XC117969-1%20Audio%20Track.mp3',\n",
              " 'XC117970-2%20Audio%20Track.mp3',\n",
              " 'XC117971-3%20Audio%20Track.mp3',\n",
              " 'XC117972-4%20Audio%20Track.mp3',\n",
              " 'XC117973-6%20Audio%20Track.mp3',\n",
              " 'XC117974-14%20Audio%20Track.mp3',\n",
              " 'XC117975-15%20Audio%20Track.mp3',\n",
              " 'XC117976-13%20Audio%20Track.mp3',\n",
              " 'XC117994-Hyloctistes%20subulatus_Tapaua_1281.mp3',\n",
              " 'XC117995-Pyrilla%20barrabandi_Tapaua_1316.mp3',\n",
              " 'XC117997-Pharomachus%20pavoninus_Tapaua_1278.mp3',\n",
              " 'XC117998-Hylexetastes%20stresemanni_Tapaua_1308.mp3',\n",
              " 'XC117999-Megastictus%20margaritatus_Tapaua_1272.mp3',\n",
              " 'XC118422-ZIMGRA12.mp3',\n",
              " 'XC118467-Myrmotherula%20klagesi_Novo%20Air%C3%A3o_1001.mp3',\n",
              " 'XC118468-Sakesphorus%20canadensis_Novo%20Air%C3%A3o_1006.mp3',\n",
              " 'XC118469-Pipra%20filicauda_Novo%20Air%C3%A3o_1012.mp3',\n",
              " 'XC118470-Amazona%20festiva_Novo%20Air%C3%A3o_1004.mp3',\n",
              " 'XC118475-Leucopternis%20melanops_Manacapuru_1345.mp3',\n",
              " 'XC118476-Pyrrhura%20melanura_Iranduba_1341.mp3',\n",
              " 'XC118478-Hypocnemis%20hypoxantha_Iranduba_1340.mp3',\n",
              " 'XC118905-Capito%20auratus_Tapaua_1220.mp3',\n",
              " 'XC118906-Cercomacra%20serva_Tapaua_1251.mp3',\n",
              " 'XC118907-Cnipodectes%20subbrunneus_Tapaua_1263.mp3',\n",
              " 'XC118908-Gymnopiths%20salvini_Tapaua_1215.mp3',\n",
              " 'XC118909-Myrmeciza%20fortis_Tapaua_1196.mp3',\n",
              " 'XC118911-Odontophorus%20stellatus_Tapaua_1239.mp3',\n",
              " 'XC118912-Phlegopsis%20erythropera_Tapau%C3%A1_1254.mp3',\n",
              " 'XC118913-Rhegmatorhina%20melanosticta_Tapaua_1203.mp3',\n",
              " 'XC118967-White-chinned%20Thistletail2012-10-29-1.mp3',\n",
              " 'XC118969-White-chinned%20Thistletail2012-10-29-2.mp3',\n",
              " 'XC118972-White-chinned%20Thistletail2012-10-29-3.mp3',\n",
              " 'XC118975-White-chinned%20Thistletail2012-10-29-5.mp3',\n",
              " 'XC118978-White-chinned%20Thistletail2012-10-29-6.mp3',\n",
              " 'XC119110-Amazona%20autummalis_Presidente%20Figueiredo.MP3',\n",
              " 'XC119111-Automolus%20infuscatus_Presidente%20figueiredo.MP3',\n",
              " 'XC119112-Automolus%20ochrolmus_Presidente%20Figueiredo.MP3',\n",
              " 'XC119113-Chlorophanes%20spiza_Presidente%20Figueiredo.MP3',\n",
              " 'XC119114-Conopias%20parvus_Presidente%20Figueiredo.MP3',\n",
              " 'XC119115-Dendrocolaptes%20picummus_Presidente%20Figueiredo.MP3',\n",
              " 'XC119116-Euphonia%20cayanensis_Presidente%20Figueiredo.MP3',\n",
              " 'XC119117-Glaucidium%20hardy_Presidente%20Figueiredo.MP3',\n",
              " 'XC119118-Glyphorynchus%20spirurus_Presidente%20Figueiredo.MP3',\n",
              " 'XC119119-Herpsilochimus%20dorsimaculatus_Presidente%20Figueiredo.MP3',\n",
              " 'XC119120-Laniocera%20hypopyrra2__Presidente%20Figueiredo.MP3',\n",
              " 'XC119121-Myiornis%20ecaudatus_Presidente%20Figueiredo.MP3',\n",
              " 'XC119122-Myrmotherula%20longipenis_Presidente%20Figueiredo.MP3',\n",
              " 'XC119123-Ramphastus%20tucannus_Presidente%20Figueiredo.MP3',\n",
              " 'XC119124-Selenidera%20pipepivora_Presidente%20Figueiredo.MP3',\n",
              " 'XC119125-Sirystes%20sibilator_Presidente%20Figueiredo.MP3',\n",
              " 'XC119126-Tachyphonus%20surinamus_Presidente%20Figueiredo.MP3',\n",
              " 'XC119127-Thryotorus%20coraya_Presidente%20Figueiredo.MP3',\n",
              " 'XC119128-Tyranullus%20elatus_Presidente%20Figueiredo.MP3',\n",
              " 'XC119129-Xipholena%20punicea_Presidente%20Figueiredo.MP3',\n",
              " 'XC119130-Cercomacra%20tyraninna_Pau%20rosa.mp3',\n",
              " 'XC119131-Euphonia%20rufiventris_Pau%20rosa.mp3',\n",
              " 'XC119132-Galbula%20leucogastra_Pau%20rosa.mp3',\n",
              " 'XC119133-Percnostola%20rufifrons_Pau%20rosa.mp3',\n",
              " 'XC119134-Thamnophilus%20punctatus_Pau%20rosa.mp3',\n",
              " 'XC119135-Topaza%20pela_Pau%20rosa.mp3',\n",
              " 'XC119136-Amazona%20autummalis_Presidente%20Figueiredo.MP3',\n",
              " 'XC119137-Cercomacra%20tyraninna_Presidente%20Figueiredo.MP3',\n",
              " 'XC119138-Dendrocolaptes%20certhia_Presidente%20Figueiredo.MP3',\n",
              " 'XC119139-Dixiphia%20pipra2_Presidente%20Figueiredo.MP3',\n",
              " 'XC119140-Dryocopus%20lineatus_Presidente%20Figueiredo.MP3',\n",
              " 'XC119141-Hylexetastes%20perroti_Presidente%20Figueiredo.MP3',\n",
              " 'XC119142-Lophotriccus%20galeatus_Presidente%20Figueiredo.MP3',\n",
              " 'XC119143-Megascopus%20watsoni_Presidente%20Figueiredo.MP3',\n",
              " 'XC119144-Micrastur%20gilvicollis_Presidente%20Figueiredo.MP3',\n",
              " 'XC119145-Mionectes%20maconelli_Presidente%20Figueiredo.MP3',\n",
              " 'XC119149-Pionus%20fuscus_Presidente%20Figueiredo.MP3',\n",
              " 'XC119150-Pipra%20erythrocephala_Presidente%20Figueiredo.MP3',\n",
              " 'XC119151-Tangara%20chilensis_Presidente%20Figueiredo.MP3',\n",
              " 'XC119152-Thalurania%20furcata_Presidente%20Figueiredo.MP3',\n",
              " 'XC119153-Tityra%20cayana_Presidente%20Figueiredo.MP3',\n",
              " 'XC119154-Trogon%20melanurus_Presidente%20Figueiredo.MP3',\n",
              " 'XC119155-Wilisornis%20poecilonotus_Presidente%20Figueiredo.MP3',\n",
              " 'XC119156-Chlorophanes%20spiza_Presidente%20Figueiredo.MP3',\n",
              " 'XC119158-Corapipo%20guturallis_Presidente%20Figueiredo.MP3',\n",
              " 'XC119159-Glyphorinchus%20spirurus2_Presidente%20Figueiredo.MP3',\n",
              " 'XC119161-Lepidotrhrix%20serena1_Presidente%20figueiredo.MP3',\n",
              " 'XC119162-Microcerculus%20bambla_Presidente%20Figueiredo.MP3',\n",
              " 'XC119163-Platyrinchus%20saturatus_Presidente%20Figueiredo.MP3',\n",
              " 'XC119164-Thamnomanes%20ardesiacus2_Presidente%20figueiredo.MP3',\n",
              " 'XC119212-Attila%20spadiceus_Manaquiri.MP3',\n",
              " 'XC119213-Lophotrix%20cristata_Manaquiri.MP3',\n",
              " 'XC119214-Myrmotherula%20hasweli_Manaquiri.MP3',\n",
              " 'XC119215-Nictibius%20grandis_Manaquiri.MP3',\n",
              " 'XC119216-Piaya%20melanogaster_Manaquiri.MP3',\n",
              " 'XC119217-Brotogeris%20versicolorus_1719.edi%20wav.mp3',\n",
              " 'XC119218-Monasa_atra_Manaus.MP3',\n",
              " 'XC119219-Ortalis_motmot_Manaus.MP3',\n",
              " 'XC119220-Saltator_coerulescens_Manaus.MP3',\n",
              " 'XC119221-Tangara_puctata_Manaus.MP3',\n",
              " 'XC119223-Thraup%C3%ADs_epcicopus_Manaus.MP3',\n",
              " 'XC119224-Todirostrum_maculatum_Manaus.MP3',\n",
              " 'XC119225-Todirostrum_maculatum_Manaus.MP3',\n",
              " 'XC119226-Turdus%20ignobilis_Manaus_1347.mp3',\n",
              " 'XC119227-Turdus_leucomelas_Manaus.MP3',\n",
              " 'XC119228-Busarellus%20nigricollis_Manaus.mp3',\n",
              " 'XC119267-Phaethornis%20phillipi_Careiro_1252.mp3',\n",
              " 'XC119268-Psophia%20leucoptera_Manicor%C3%A9_M8_1208.mp3',\n",
              " 'XC119269-Pteroglossus%20beauharnaesii_Manicor%C3%A9_M8_1210.mp3',\n",
              " 'XC119270-Tangara%20mexicana_Manaquiri_M2_1264.mp3',\n",
              " 'XC119271-Ara%20macao_Balbina.MP3',\n",
              " 'XC119272-Aratinga%20leucophytalma_Balbina.MP3',\n",
              " 'XC119275-Automolus%20infuscatus_Balbina.MP3',\n",
              " 'XC119276-Automolus%20ocholaemus_Balbina.MP3',\n",
              " 'XC119277-Caryothrautes%20canadensis_Balbina.MP3',\n",
              " 'XC119278-Celeus%20undatus_Balbina.MP3',\n",
              " 'XC119279-Cercomacra%20tiranina_Balbina.MP3',\n",
              " 'XC119280-Crax%20alector_Balbina.MP3',\n",
              " 'XC119281-Cyphorinus%20arada2_Balbina.MP3',\n",
              " 'XC119282-Falco%20rufigularis_Balbina.MP3',\n",
              " 'XC119283-Formicarius%20analis_Balbina.MP3',\n",
              " 'XC119284-Galbula%20albirostris_Presidente%20Figueiredo.edi.mp3',\n",
              " 'XC119285-Glaucis%20hisurtus_Balbina.MP3',\n",
              " 'XC119286-Gymminopithys%20rufigula_Balbina.MP3',\n",
              " 'XC119287-Hemitriccus%20zosterops_Balbina.MP3',\n",
              " 'XC119288-Hypocnemis%20cantator_Balbina.MP3',\n",
              " 'XC119289-Laterralus%20exilis_Balbina.mp3',\n",
              " 'XC119290-Lophotriccus%20vitiosus_Balbina.MP3',\n",
              " 'XC119291-Myrmothera%20campanisoma_Balbina.MP3',\n",
              " 'XC119292-Pachyramphus%20rufus1_Balbina.MP3',\n",
              " 'XC119293-Paroaria%20gularis_Balbina.MP3',\n",
              " 'XC119294-Perissocephalus%20tricolor_Balbina.MP3',\n",
              " 'XC119295-Phaethips%20rufivularis_Balbina.mp3',\n",
              " 'XC119296-Phaethornis%20bourcieri_Babina.MP3',\n",
              " 'XC119297-Phaetornis%20superciliosus_Balbina.MP3',\n",
              " 'XC119298-Piaya%20cayana_Balbina.MP3',\n",
              " 'XC119299-Pionus%20fuscus_Balbina.MP3',\n",
              " 'XC119300-Psarocolius%20viridis_Balbina.MP3',\n",
              " 'XC119301-Psophia%20crepitans2_Balbina.MP3',\n",
              " 'XC119303-Pyrrhura%20picta_Balbina.MP3',\n",
              " 'XC119304-Ramphastus%20vitelinnus_Balbina.MP3',\n",
              " 'XC119305-Rhytipterna%20simplex_Balbina.MP3',\n",
              " 'XC119306-Selenidera%20pipepivora_Balbina.MP3',\n",
              " 'XC119307-Sporophila%20casteineventris_Balbina.MP3',\n",
              " 'XC119308-Tachycineta%20albiventer_Balbina.MP3',\n",
              " 'XC119309-Thamnophilus%20punctatus_Balbina.MP3',\n",
              " 'XC119310-Tolmomyias%20assimilis_Presidente%20Figueiredo.edi.mp3',\n",
              " 'XC119311-Troglodites%20musculus_Balbina.MP3',\n",
              " 'XC119312-Trogon%20rufus_Balbina.MP3',\n",
              " 'XC119313-Trogon%20violaceus_Balbina.MP3',\n",
              " 'XC119314-Trogon%20viridis_Balbina.MP3',\n",
              " 'XC119315-Turdus%20albicollis_Balbina.MP3',\n",
              " 'XC119316-Tyranneutes%20virescens_Balbina2.MP3',\n",
              " 'XC119317-Urubitinga%20urubitinga_Balbina.MP3',\n",
              " 'XC119318-Capito%20niger_Balbina_1106.mp3',\n",
              " 'XC119319-Celeus%20elegans_Balbina_1007.mp3',\n",
              " 'XC119320-Myrmotherula%20guttata_Balbina_1046.mp3',\n",
              " 'XC119321-Pteroglossus%20viridis_Balbina.MP3',\n",
              " 'XC119322-Pulsatrix%20perspecilata_Balbina_1012.mp3',\n",
              " 'XC119323-Rynchocyclos%20olivaceus_Balbina_1111.mp3',\n",
              " 'XC119324-Schistocichla%20leucostigma_Balbina_1107.mp3',\n",
              " 'XC119325-Sclerurus%20rufigularis_Balbina_1069.mp3',\n",
              " 'XC119326-Spizaetus%20ornatus_Balbina_1110.mp3',\n",
              " 'XC119328-Venniliornis%20cassini_Balbina_1093.mp3',\n",
              " 'XC119382-Crypturellus%20variegatus_Ducke.MP3',\n",
              " 'XC119383-Cymbalaimus%20lineatus_Ducke.mp3',\n",
              " 'XC119385-Dendrocincla%20fuliginosa_Ducke.mp3',\n",
              " 'XC119386-Galbula%20dea_Ducke.MP3',\n",
              " 'XC119387-Hemitriccus%20zosterops_Ducke.edi2.mp3',\n",
              " 'XC119388-Jacamerops%20aurions_Ducke.MP3',\n",
              " 'XC119389-Lanio%20fulvus_Ducke.mp3',\n",
              " 'XC119390-Lipaugus%20vociferans_Ducke.MP3',\n",
              " 'XC119391-Micrastur%20gilvicollis_Ducke.MP3',\n",
              " 'XC119392-Myrmeciza%20ferruginea_Ducke.MP3',\n",
              " 'XC119393-Myrmotherula%20guturralis_Ducke.MP3',\n",
              " 'XC119394-Pipra%20erythrocephala_Ducke.MP3',\n",
              " 'XC119395-Piprites%20chloris_Ducke.mp3',\n",
              " 'XC119396-Platyrinchus%20saturatus_Ducke2.MP3',\n",
              " 'XC119397-Xyphorynchus%20pardalotus_Ducke.mp3',\n",
              " 'XC119404-PLACOR02.mp3',\n",
              " 'XC119405-PLACOR07.mp3',\n",
              " 'XC119407-Ancistrops%20strigilatus_Purupuru.mp3',\n",
              " 'XC119408-Cercomacra%20cinerascens_Purupuru.MP3',\n",
              " 'XC119409-Choloceryle%20inda_Purupuru.mp3',\n",
              " 'XC119410-Conopias%20trivigartus_Purupuru.mp3',\n",
              " 'XC119411-Dapterus%20ater_Purupuru.mp3',\n",
              " 'XC119412-PLAPLA02.mp3',\n",
              " 'XC119413-Dendrexetastes%20rufigula_Purupuru.mp3',\n",
              " 'XC119414-Dendrocincla%20merula_Purupuru.mp3',\n",
              " 'XC119415-Eucometis%20penicilata_Purupuru.mp3',\n",
              " 'XC119417-Hemithraupis%20flavicollis_Purupuru.mp3',\n",
              " 'XC119420-Hemitriccus%20griseipectus_Purupuru.MP3',\n",
              " 'XC119421-Hemitriccus%20minor_Purupuru.MP3',\n",
              " 'XC119422-Hylophilus%20toraxicus_Purupuru.mp3',\n",
              " 'XC119423-Hypocnemis%20peruviana2_Purupuru.mp3',\n",
              " 'XC119424-Ictinia%20plumbea_Purupuru.MP3',\n",
              " 'XC119425-Myrmoborus%20leucophurus_Purupuru.mp3',\n",
              " 'XC119427-Myrmotherula%20brachyura2_Purupuru.MP3',\n",
              " 'XC119428-Myrmotherula%20haxweli2_Purupuru.MP3',\n",
              " 'XC119429-Myrmotherula%20longipenis2_Purupuru.MP3',\n",
              " 'XC119430-Onycorhinchus%20coronatus_Purupuru.mp3',\n",
              " 'XC119431-Phaetornis%20ruber_Purupuru.MP3',\n",
              " 'XC119433-Phylidor%20erythroercum_Purupuru.MP3',\n",
              " 'XC119434-Pipra%20coronata1_Purupuru.mp3',\n",
              " 'XC119436-Platyrinchus%20coronatus_Purupuru.mp3',\n",
              " 'XC119437-Pygiptila%20stellaris_Purupuru.mp3',\n",
              " 'XC119438-Ramphotrigon%20ruficauda1_Purupuru.mp3',\n",
              " 'XC119439-Sclateria%20naevia2_Purupuru.MP3',\n",
              " 'XC119440-Sturnella%20militaris_Purupuru.MP3',\n",
              " 'XC119441-Thamnophilus%20aethiops_Purupuru.mp3',\n",
              " 'XC119442-Thamnophilus%20murinus_Purupuru.MP3',\n",
              " 'XC119443-Turdus%20lawrenci_Purupuru.MP3',\n",
              " 'XC119445-Xyphorinchus%20guttatus_Purupuru.MP3',\n",
              " 'XC119588-Cyanerpes%20caeruleus_Tapaua_1334.mp3',\n",
              " 'XC119589-Dendroplex%20kienirii_Tapaua_1322.mp3',\n",
              " 'XC119590-Patagioenas%20cayanensis_Tapaua_1319.mp3',\n",
              " 'XC119595-Dendrexestates%20rufigula_Tapaua_1288.mp3',\n",
              " 'XC119606-Conopophaga%20aurita_Tapaua_1311.MP3',\n",
              " 'XC119607-Dichrozona%20cincta_Tapaua_1314.MP3',\n",
              " 'XC119608-Euphonia%20chrysopasta_Tapaua_1320.MP3',\n",
              " 'XC119609-Galbula%20leucogastra_Tapaua_1279.MP3',\n",
              " 'XC119610-Hemitriccus%20minimus_Tapaua_1285.MP3',\n",
              " 'XC119611-Hemitriccus%20striaticollis_Tapaua_1332.MP3',\n",
              " 'XC119612-Myiarchus%20tuberculifer_Tapaua_1326.MP3',\n",
              " 'XC119613-Myrmeciza%20fortis_Tapaua_1293.MP3',\n",
              " 'XC119614-Myrmeciza%20hemilaema_Tapaua_1310.MP3',\n",
              " 'XC119615-Sitassomus%20griseicapillus_Tapaua_1317.MP3',\n",
              " 'XC119616-Thamnophilus%20doliatus_Tapaua_1325.MP3',\n",
              " 'XC119617-Xiphorhynchus%20gutattus_Tapaua_1299.MP3',\n",
              " 'XC119618-Attila%20citriniventris_Tapaua_1258.MP3',\n",
              " 'XC119619-Cyphorinus%20arada_Tapaua_1221.MP3',\n",
              " 'XC119620-Dendrocolaptes%20picumnus_Tapaua_1257.MP3',\n",
              " 'XC119621-Lepidothrix%20coronata_Tapaua_1198.MP3',\n",
              " 'XC119622-Myrmoborus%20myiotherinus_Tapaua_1211.MP3',\n",
              " 'XC119623-Myrmotherula%20axillaris_Tapaua_1218.MP3',\n",
              " 'XC119624-Penelope%20jacquacu_Tapaua_1248.MP3',\n",
              " 'XC119625-Sclerurus%20rufigularis_Tapaua_1229.MP3',\n",
              " 'XC119626-Thamnophilus%20aethiops_Tapaua_1231.MP3',\n",
              " 'XC120093-Automolus%20infuscatus_Manicor%C3%A9_M8_1213.MP3',\n",
              " 'XC120094-Cnipodectes%20subbrunneus_Manicor%C3%A9_M7_1231.MP3',\n",
              " 'XC120095-Hylophilax%20naevius_Manicor%C3%A9_M7_1217.MP3',\n",
              " 'XC120096-Lepidothrix%20coronata_Careiro_1251.MP3',\n",
              " 'XC120097-Pharomachus%20pavoninus_Manicor%C3%A9_M7_1224.MP3',\n",
              " 'XC120098-Piprites%20chloris_Manicor%C3%A9_M7_1227.MP3',\n",
              " 'XC120099-Attila%20citriniventris_Careiro_M5_1240.MP3',\n",
              " 'XC120100-Epinecrophyla%20haematonota_M4_1245.MP3',\n",
              " 'XC120101-Lepidothrix%20coronata_Manaquiri_M2_1259.MP3',\n",
              " 'XC120102-Megastictus%20margaritatus_Careiro_M5_1239.MP3',\n",
              " 'XC120103-Patagioenas%20cayanensis_Careiro_1248.MP3',\n",
              " 'XC120105-Phlegopsis%20erythroptera_Careiro_M4_1242.MP3',\n",
              " 'XC120106-Pyrilla%20barrabandi_Manaquiri_M2_1262.MP3',\n",
              " 'XC120107-Spizaetus%20ornatus_Careiro_M4_1256.MP3',\n",
              " 'XC120318-20110514-0742-1080-PE-AM-Upper%20Utcubamba%20Valley-amazing%20wren%20song%20-%20filt%2Bamp.mp3',\n",
              " 'XC120609-LEGLEU04.mp3',\n",
              " 'XC123530-Grallaria%20%20przewalskii.mp3',\n",
              " 'XC123543-S%20femoralis.mp3',\n",
              " 'XC123549-andygena%20hypoglauca.mp3',\n",
              " 'XC123574-Au.%20prassinus.mp3',\n",
              " 'XC123575-S%20albocristata.mp3',\n",
              " 'XC123576-cuantas%20van.mp3',\n",
              " 'XC123578-uno%20dos.%20tres%20y%20cuatro.mp3',\n",
              " 'XC123579-ya%20se%20fue.mp3',\n",
              " 'XC123792-Sp%20x4.mp3',\n",
              " 'XC123905-Sp%20x2.mp3',\n",
              " 'XC123916-S%20azarae.mp3',\n",
              " 'XC123917-L%20rufiventris.mp3',\n",
              " 'XC123918-C.%20gujanensis%20A%2C%20B%2C%20C.mp3',\n",
              " 'XC123919-Pos%20M%20schisticolor.mp3',\n",
              " 'XC124751-Am.%20mercenaria%20A.mp3',\n",
              " 'XC131747-Ochthoeca%20diadema080713_T828.mp3',\n",
              " 'XC131755-Ochthoeca%20diadema080718_T889.mp3',\n",
              " 'XC131756-Ochthoeca%20diadema080718_T891.mp3',\n",
              " 'XC131757-Ochthoeca%20frontalis080719_T909.mp3',\n",
              " 'XC132119-Grallaria%20squamigera0418-007.mp3',\n",
              " 'XC132120-Grallaria%20squamigera0418-008.mp3',\n",
              " 'XC132121-Grallaria%20squamigera0418-010.mp3',\n",
              " 'XC132162-Ochthoeca%20pulchella020826_0219-1.mp3',\n",
              " 'XC132702-Thripadectes%20scrutator0219-1.mp3',\n",
              " 'XC139420-Aratinga%20mitrata130615_T152.mp3',\n",
              " 'XC139426-Aratinga%20mitrata130615_T153.mp3',\n",
              " 'XC139506-Aratinga%20mitrataMaybe080726_T970.mp3',\n",
              " 'XC139701-Scytalopus%20spAbra%20Barro%20Negro130614_T144.mp3',\n",
              " 'XC139984-130507_00_Pachyramphus_marginatus_rioteuini_flonaPurus_am_tol_esp.mp3',\n",
              " 'XC139986-130507_01_Hypocnemis_peruviana_rioteuini_flonapurus_am_tol_esp.mp3',\n",
              " 'XC139988-130507_02_Canthorchilus_leucotis_rioteuini_flonapurus_am_tol_esp.mp3',\n",
              " 'XC139989-130507_04_Myrmotherula_assimilis_rioteuini_am_pb_tol.mp3',\n",
              " 'XC139991-130507_06_Daptrius_ater_rioteuini_am_esp_tol.mp3',\n",
              " 'XC139993-130507_07_Trogon_collaris_rioteuini_am_esp_tol.mp3',\n",
              " 'XC139994-130507_09_Hypocnemoides_maculicauda_rioteuini_am_pb_tol.mp3',\n",
              " 'XC139995-130507_10_Schistocichla_humaythae_rioteuini_am_chamados_tol_esp.mp3',\n",
              " 'XC139996-130507_13_Hylophilus_hypoxanthus_rioteuini_am_esp_tol.mp3',\n",
              " 'XC139997-130507_14_Patagioenas_plumbea_rioteuini_am_tol_esp.mp3',\n",
              " 'XC141595-130511_05_Xiphocolaptes_promeropirhynchus_teuini_pb_am_canto_apelos_tol.mp3',\n",
              " 'XC141597-130511_07_Xiphocolaptes_promeropirhycnhus_teuini_am_tol_pb_canto.mp3',\n",
              " 'XC141771-Penelope%20marail_Presidente%20Figueiredo.MP3',\n",
              " 'XC141776-Buthraupis%20montana130615_T145.mp3',\n",
              " 'XC141777-Colaptes%20rupicola130615_T147.mp3',\n",
              " 'XC141778-Thripophaga%20berlepschi130615_T147.mp3',\n",
              " 'XC141779-Andigena%20hypoglauca130615_T148.mp3',\n",
              " 'XC141780-Thripophaga%20berlepschi130615_T149.mp3',\n",
              " 'XC141781-Metallura%20tyrianthina130615_T149.mp3',\n",
              " 'XC141782-Leucippus%20taczanowskii130615_T155.mp3',\n",
              " 'XC141783-Colaptes%20atricollis130615_T156.mp3',\n",
              " 'XC141784-Amazilia%20chionogaster130615_T157.mp3',\n",
              " 'XC142165-130508_00_Cercomacra_cinersacens_rioteuini_esp_tol_am.mp3',\n",
              " 'XC142167-130508_04_Hylophylax_punctulatus_tol_teuni_pb_am.mp3',\n",
              " 'XC142168-130508_09_Piprites_chloris_teuini_am_pb_tol.mp3',\n",
              " 'XC142170-130508_23_Microrhopias_quixensis_teuini_pb_am_tol.mp3',\n",
              " 'XC142171-130508_28_Rhegmathorina_melanostica_pb_apelos_teuini_am_tol.mp3',\n",
              " 'XC142172-130508_29_Rhegmathorhina_melanostica_teuini_am_pb_tol.mp3',\n",
              " 'XC142174-130508_32_Crypturellus_bartletti_duvida_teuini_am_esp_tol.mp3',\n",
              " 'XC142175-130510_42_Micrastur_buckleyi_teuni_tf_esp_canto_tol.mp3',\n",
              " 'XC142177-130511_00_Dendrexetastes_rufigula_teuini_am_esp_tol.mp3',\n",
              " 'XC142178-130511_04_Sittasomus_griseicapillus_teuini_pb_canto_am_tol.mp3',\n",
              " 'XC142180-130511_06_Amazona_festiva_teuini_am_esp_voo_tol.mp3',\n",
              " 'XC142278-Andigena%20hypoglauca.mp3',\n",
              " 'XC142279-Troglodytes%20solstitialis.mp3',\n",
              " 'XC142281-Tripophaga%20berlepschi.mp3',\n",
              " 'XC142903-Colaptes%20atricollis0417-017.mp3',\n",
              " 'XC144122-130508_03_sp_n%C3%A3o_notharchus_ordii_rioteuini_am_esp_tol.mp3',\n",
              " 'XC144156-Asio%20stygius%20%282%29.mp3',\n",
              " 'XC144160-TBKS%20%20_0072_Hemitricus%20zoosterops%20%282%29.mp3',\n",
              " 'XC144161-TBKS%20%20_0074_Ciclarhis%20gujanensis%20%283%29.mp3',\n",
              " 'XC144162-TBKS%20%20_0075_Myiarchus%20ferox%20%282%29.mp3',\n",
              " 'XC144163-TBKS%20%20_0076_Micrastur%20semitorquatus%20%282%29.mp3',\n",
              " 'XC144164-TBKS%20%20_0079_Camptostoma%20obsoletum%20%282%29.mp3',\n",
              " 'XC144165-TBKS%20%20_0080_Myiodynastes%20maculatus%20%20%282%29.mp3',\n",
              " 'XC144166-TBKS%20%20_0081_Orthopsittaca%20manilata%20%282%29.mp3',\n",
              " 'XC144167-TBKS%20%20_0082_Pheugopedius%20coraya%28Apelo.1%29.mp3',\n",
              " 'XC144168-TBKS%20%20_0083_Pheugopedius%20coraya%28Canto.1%29.mp3',\n",
              " 'XC144169-TBKS%20%20_0086_Herpsilochmus%20dorsimaculatus%20%282%29.mp3',\n",
              " 'XC144170-TBKS%20%20_0078_Attila%20cinnamomeus%20%282%29.mp3',\n",
              " 'XC144171-TBKS%20%20_0025_Dendrexetastes%20rufigula_wiki.mp3',\n",
              " 'XC144172-TBKS%20%20_0030_Ibycter%20americanus_Wiki.mp3',\n",
              " 'XC144173-TBKS%20%20_0031_Touti%20purpuratus_Wiki.mp3',\n",
              " 'XC144174-TBKS%20%20_0044_Myrmothera%20campanisona_Wiki.mp3',\n",
              " 'XC144175-TBKS%20%20_0032_Selenidera%20piperivora_Wiki.mp3',\n",
              " 'XC144177-TBKS%20%20_0035_Myiopagis%20gaimardi_Wiki.mp3',\n",
              " 'XC144180-TBKS%20%20_0041_Glyphorynchus%20spirurus_Wiki.mp3',\n",
              " 'XC144181-TBKS%20%20_0043_Formicarius%20colma_chamado_Wiki.mp3',\n",
              " 'XC144182-TBKS%20%20_0047_Formicarius%20colma_Wiki.mp3',\n",
              " 'XC144460-Melanerpes%20cruentatus-Altazes-AM-Brazil9-00-ASilveira.mp3',\n",
              " 'XC144465-Patagioenas-p-pallescens-RTarumanzinho-AM-26-4-04-ASilveira.mp3',\n",
              " 'XC144692-Pipreola%20arcuata130703_T240.mp3',\n",
              " 'XC144694-Scytalopus%20parvirostris130703_T241.mp3',\n",
              " 'XC145548-Brotogeris-sanctithomae-Manaus-Brazil-8-04-ASilveira.mp3',\n",
              " 'XC145549-Lipaugus-vociferans-LSalvador-Manaus-Brazil8-97-ASilveira.mp3',\n",
              " 'XC147698-Schiffornis_major-%2027%2010%202012%20Ilha%20das%20Oncas%20Novo%20Airao.mp3',\n",
              " 'XC147700-Hylophylax_naevius%20Base%20Tiaraca%2C%20PARNA%20Jau%20-%20Novo%20Airao%20AM%2021%2010%202012.mp3',\n",
              " 'XC147701-Cyphorhinus_arada%20Manacapuru%2002%2011%202013.mp3',\n",
              " 'XC147702-Pharomachrus_pavoninus%20Manacapuru%2002%2011%202012.mp3',\n",
              " 'XC147703-Glaucidium_hardyi%20Ducke%2013%2011%202012.mp3',\n",
              " 'XC147704-Megascops_watsonii-%20Ducke%2014%2011%202012.mp3',\n",
              " 'XC147706-Megascops_watsonii-%20Ducke%2014%2011%202012%202.mp3',\n",
              " 'XC148412-31288.mp3',\n",
              " 'XC148413-31289.mp3',\n",
              " 'XC148414-31291.mp3',\n",
              " 'XC148415-31297.mp3',\n",
              " 'XC148547-Hypocnemis%20hypoxantha%20Manacapuru%2021%2009%202013.mp3',\n",
              " 'XC148550-Hypocnemis%20peruviana%20Manacapuru%2021%2009%202013.mp3',\n",
              " 'XC148606-Campephilus%20melanoleucos.mp3',\n",
              " 'XC148608-Lipaugus%20vociferans.mp3',\n",
              " 'XC148609-Nyctidromus%20albicolis%20.mp3',\n",
              " 'XC148613-Percnostola%20rufifrons.mp3',\n",
              " 'XC152860-Gymnopiths%20leucaspis_Iranduba_1234.mp3',\n",
              " 'XC152977-9991248.MP3',\n",
              " 'XC153097-002_B_049_Tangara.mp3',\n",
              " 'XC153650-Megascops%20albogularis080716_T852.mp3',\n",
              " 'XC155207-Thamnophilus%20nigrocinereus_cf.mp3',\n",
              " 'XC155214-N%C3%A3o%20identificada_a.mp3',\n",
              " 'XC155225-N%C3%A3o%20identificada_b.mp3',\n",
              " 'XC155381-Capito%20aurovirens_Anori_1237.mp3',\n",
              " 'XC155382-Crax%20globulosa_Anori_1235.mp3',\n",
              " 'XC162806-Willisornis%20poecilinotus_Coat%C3%A1_04dez2013%202.mp3',\n",
              " 'XC163201-Amazonian%20Antshrike%20%28call%2C%20Junglaven%2C%20Venezuela%2C%20mar2009%2C%201%29.mp3',\n",
              " 'XC163202-Amazonian%20Antshrike%20%28song%2C%20Junglaven%2C%20Venezuela%2C%20mar2009%2C%201%29.mp3',\n",
              " 'XC163371-Azure-naped%20Jay%20%28call%2C%20Junglaven%2C%20Venezuela%2C%20mar2009%2C%203%29.mp3',\n",
              " 'XC163373-Azure-naped%20Jay%20%28call%2C%20Junglaven%2C%20Venezuela%2C%20mar2009%2C%201%29.mp3',\n",
              " 'XC163402-Black%20Currasow.mp3',\n",
              " 'XC163406-Black-chinned%20Antbird%20%28song%2C%20Junglaven%2C%20Venezuela%2C%20mar2009%2C%201%29.mp3',\n",
              " 'XC163407-Black-chinned%20Antbird%20%28call%2C%20Junglaven%2C%20Venezuela%2C%20mar2009%2C%201%29.mp3',\n",
              " 'XC163563-Myiodynastes%20maculatusIsland131230_T671a.mp3',\n",
              " 'XC163564-Myiodynastes%20maculatusIsland131230_T671.mp3',\n",
              " 'XC163569-Chamaeza_nobilis_rubida-FL%20call%20Amacayacu%201987-1.mp3',\n",
              " 'XC163570-Formicarius_colma_nom-FL%20alarm%20call%20Amacayacu%201987-1.mp3',\n",
              " 'XC163571-Formicarius_colma_nom-FL%20song%20Amacayacu%201987-1.mp3',\n",
              " 'XC163572-Lanio_fulvus_peruvianus-FL%20Amacayacu%201987-1.mp3',\n",
              " 'XC163573-Liosceles_thoracicus_dugandi-FL%20song%20Amacayacu%201987-1.mp3',\n",
              " 'XC163574-Myrmoborus_myotherinus_elegans-FL%20song%20Amacayacu%201987-1.mp3',\n",
              " 'XC163576-Myrmothera_campanisona_modesta-FL%20Amacayacu%201987-1.mp3',\n",
              " 'XC163577-Trogon_viridis_nom-FL%20Amacayacu%201987-1.mp3',\n",
              " 'XC163578-Willisornis_poecilinotus_lepidonota-FL%20song%20Amacayacu%201987-1.mp3',\n",
              " 'XC163579-Amazona-farinosa_nom-FL%20X%20Amacayacu%201987-2.mp3',\n",
              " 'XC163580-Myrmeciza-melanoceps-FL%20Amacayacu%201987-2.mp3',\n",
              " 'XC163581-Crypturellus_undulatus_yapura-FL%20Amacayacu%201987-2.mp3',\n",
              " 'XC163582-Hypocnemis_hypoxantha_nom-FL%20Amacayacu%201987-2.mp3',\n",
              " 'XC163583-Cantorchilus_leucotis_bogotensis-FL%20Amacayacu%201987-2.mp3',\n",
              " 'XC163584-Ortalis_guttata_nom-FL%20Amacayacu%201987-2.mp3',\n",
              " 'XC163585-Turdus_albicollis_phaeopygus-FL%20song%20Amacayacu%201987-2.mp3',\n",
              " 'XC163586-Turdus_albicollis_phaeopygus-FL%20alarm%20call%20Amacayacu%201987-2.mp3',\n",
              " 'XC163591-Thamnophilus_doliatus_fraterculus-FL%20song%20Amacayacu%201987-2.mp3',\n",
              " 'XC163592-Microrhopias_quixensis_nom-FL%20calls%20Amacayacu%201987-2.mp3',\n",
              " 'XC163593-Synallaxis_gujanensis_columbiana-FL%20Amacayacu%201987-2.mp3',\n",
              " 'XC163594-Pheugopedius_coraya-FL%20calls%20Amacayacu%201987-2.mp3',\n",
              " 'XC163596-Tyranneutes_stolzmanni-FL%20Amacayacu%201987-2.mp3',\n",
              " 'XC164092-Black-headed%20Parrot%20%28call%2C%20Junglaven%2C%20Venezuela%2C%20mar2009%2C%201%29.mp3',\n",
              " 'XC170049-Amazona%20autuminalis_Ducke.MP3',\n",
              " 'XC170050-Campyloranphus%20procuvoides2_Ducke.MP3',\n",
              " 'XC170051-Caryothrautes%20canadensis_Ducke.mp3',\n",
              " 'XC170053-Xipholena%20punicea_Ducke.mp3',\n",
              " 'XC170054-Pyrilla%20caica_Ducke.mp3',\n",
              " 'XC171043-Graydidiscalus%20brachyurus%2C%20Rio%20Aria%C3%BA%2C%20Manacapuru-AM.mp3',\n",
              " 'XC171044-Atila%20bolivianus-Rio%20Aria%C3%BA-AM.mp3',\n",
              " 'XC171045-Lophotriccus%20vitigiosus%20Pau-rosa%20Manaus-AM.mp3',\n",
              " 'XC171046-Hylophilus%20semicinereus-INPA%2002--Manaus-AMBrunoLima.mp3',\n",
              " 'XC171047-Crypturellus%20variegatus%20Manaus-AM.mp3',\n",
              " 'XC171048-Crypturellus%20soui%2C%20ZF2%2C%20Manaus-AM%2C%202013.mp3',\n",
              " 'XC171054-Monasa%20area%2C%20pau-rosa%2C%20Manaus-AM.mp3',\n",
              " 'XC171059-Formicarius%20colma%20nitidifrons%20Manaus-AM.mp3',\n",
              " 'XC171060-Cercomacra%20tyraninna%20Manacapuru-MA.mp3',\n",
              " 'XC171091-Graydidiscalus%20brachyurus%2C%20Rio%20Aria%C3%BA%2C%20Manacapuru-AM.mp3',\n",
              " 'XC171096-Neopelma%20crysocephalum%20Manaus-AM.mp3',\n",
              " 'XC171106-Hylophilus%20semicinereus-INPA%2002--Manaus-AMBrunoLima.mp3',\n",
              " 'XC171110-Micrastur%20mirandolei%20pau-rosa%20Manaus-AM.mp3',\n",
              " 'XC171111-Hypocnemis%20peruviana%20Manacapuru-MA.mp3',\n",
              " 'XC171114-Myrmotherula%20brachyura%20Manaus-AM.mp3',\n",
              " 'XC171117-Herpsilochmus%20dorsimaculatus%20Manaus-AM.mp3',\n",
              " 'XC171119-Crypturellus%20variegatus%20Manaus-AM.mp3',\n",
              " 'XC171120-Crypturellus%20soui%2C%20ZF2%2C%20Manaus-AM%2C%202013.mp3',\n",
              " 'XC171775-Cacicus%20chrysonotus0418-002.mp3',\n",
              " 'XC171776-Cacicus%20chrysonotus080715_T843.mp3',\n",
              " 'XC174158-DR-100_0015%27%20R%20tucanus.mp3',\n",
              " 'XC174671-DR-100_0025%27_Lophostrix_cristata.mp3',\n",
              " 'XC175873-Slaty-backed%20NIghtingale-Thrush.mp3',\n",
              " 'XC176862-Ruddy%20spine%20Ituxi.mp3',\n",
              " 'XC177154-Cranioleuca%20vulpecula_Iranduba_1017.mp3',\n",
              " 'XC179533-Agelaius%20icterocephalus_Aranapu_1045.mp3',\n",
              " 'XC179534-Brotogeris%20versicolorus_Aranapu_1037.mp3',\n",
              " 'XC179535-Colaptes%20puncticula_Aranapu_1042.mp3',\n",
              " 'XC179536-Donacobius%20atricapilla_Aranapu_1040.mp3',\n",
              " 'XC179538-Psarocolius%20angustifrons_Aranapu_1036.mp3',\n",
              " 'XC179539-Synallaxis%20albigularis_Aranapu_1032.mp3',\n",
              " 'XC179540-Tyrannus%20melancholicus_Aranapu_1042.mp3',\n",
              " 'XC179541-Galbalcyrhynchus%20leucotis_Aiuca_1046.mp3',\n",
              " 'XC179542-Attila%20bolivianus_Mamiraua_1049.mp3',\n",
              " 'XC179543-Notharcus%20tectus_Mamiraua_1050.mp3',\n",
              " 'XC179839-Slender-billed%20Kite%201.mp3',\n",
              " 'XC179840-Slender-billed%20Kite%202.mp3',\n",
              " 'XC180521-Mountain%20WrenCL12014.mp3',\n",
              " 'XC180525-Swallow-tailed%20NightjarCL12014.mp3',\n",
              " 'XC180526-Scaly-naped%20ParrotCL12014.mp3',\n",
              " 'XC180527-Spectacled%20WhitestartCL12014.mp3',\n",
              " 'XC180528-Spectacled%20WhitestartCL22014.mp3',\n",
              " 'XC180529-Spectacled%20WhitestartCL32014.mp3',\n",
              " 'XC180531-Superciliaried%20HemispingusCL12014.mp3',\n",
              " 'XC180532-Superciliaried%20HemispingusCL22014.mp3',\n",
              " 'XC180533-Tufted%20Tit-TyrantCL12014.mp3',\n",
              " 'XC180535-Tyrian%20MetaltailCL12014.mp3',\n",
              " 'XC180536-Tyrian%20MetaltailCL22014.mp3',\n",
              " 'XC180537-White-chinned%20ThistletailCL12014.mp3',\n",
              " 'XC180538-Yellow-scarfed%20TanagerCL12014.mp3',\n",
              " 'XC180903-Dusky-capped%20FlycatcherMV12014.mp3',\n",
              " 'XC180904-Dusky-capped%20FlycatcherMV22014.mp3',\n",
              " 'XC180905-Maranon%20GnatcatcherMV12014.mp3',\n",
              " 'XC180908-mysteryMV12014.mp3',\n",
              " 'XC181547-080102-010.mp3',\n",
              " 'XC181829-Cranioleuca%20muelleri.mp3',\n",
              " 'XC181831-Bucco%20macrodactylus_22.05.2014.mp3',\n",
              " 'XC181834-Phaethornis%20rupurumii.WAV.mp3',\n",
              " 'XC182127-Tolmomyias%20sulphurescens.mp3',\n",
              " 'XC182630-Turdus%20ignobilis.mp3',\n",
              " 'XC182753-Elaenia%20pelzelni.mp3',\n",
              " 'XC183060-Phoenicircus%20carnifex_Manaus_1056.mp3',\n",
              " 'XC183083-lembra%20euscarthmus.mp3',\n",
              " 'XC186184-14071002%27.mp3',\n",
              " 'XC188518-Amazona%20farinosa%2020-07-2014%207%20horas%20e%2030%20min..MP3',\n",
              " 'XC188520-Aramides%20cajanea%2021-07-2014%2019%20horas.mp3',\n",
              " 'XC188523-Caryothraustes%20canadensis%2017-07-2014%2012%20horas.mp3',\n",
              " 'XC188528-Corythops%20torquata%2020-07-2014%207%20horas%20e%2030%20min..MP3',\n",
              " 'XC188529-Crypturellus%20variegatus.mp3',\n",
              " 'XC188530-Cyclarhis%20gujanensis.mp3',\n",
              " 'XC188533-Dendrexetastes%20rufigula%201%2018-07-2014%2018%20horas%20e%2030%20min..MP3',\n",
              " 'XC188534-Dendrocincla%20fuliginos%2020-07-2014%206%20horas%20e%2030%20min..MP3',\n",
              " 'XC188535-Dixiphia%20pipra%2018-07-2014%208%20horas.mp3',\n",
              " 'XC188540-Galbula%20leucogaster%201%2021-07-2014%2012%20horas.mp3',\n",
              " 'XC188541-Glaucidium%20hardii%2018-07-2014%2016%20horas.mp3',\n",
              " 'XC188547-Hemitriccus%20inornatus%201%2019-07-2014%2015%20horas.mp3',\n",
              " 'XC188548-Hemitriccus%20minor%2018-07-2014%207%20horas%20e%2040%20min..MP3',\n",
              " 'XC188549-Hemitriccus%20zosterops%2021-07-2014%2016%20horas.mp3',\n",
              " 'XC188551-Hydropsalis%20albicollis%2018-07-2014%2019%20horas.mp3',\n",
              " 'XC188552-Hypocnemis%20cantator%201%2017-07-2014%208%20horas.mp3',\n",
              " 'XC188554-Galbula%20albirostris%2019-07-2014%2010%20horas%20e%2020%20min..MP3',\n",
              " 'XC188612-Ceratopipra%20erythrocephala%2018-07-2014%2017%20horas.mp3',\n",
              " 'XC188614-Lamprospiza%20melanoleuca%201%2017-07-2014%209%20horas%20e%2030%20min..MP3',\n",
              " 'XC188615-Lepidothriz%20serena%2018-07-2014%2017%20horas.mp3',\n",
              " 'XC188622-Leucopternis%20melanops%2021-07-2014%208%20horas%20e%2015%20min..mp3',\n",
              " 'XC188624-Lophostrix%20cristata%201%2018-07-2014%2019%20horas.mp3',\n",
              " 'XC188625-Malacoptila%20fusca%2017-07-2014%2011%20horas%20e%2030%20min..mp3',\n",
              " 'XC188626-Megascops%20watsonii%2018-07-2014%2019%20horas%20e%2050%20min..mp3',\n",
              " 'XC188628-Micrastur%20mirandollei%2020-07-2014%206%20horas%20e%2020%20min..mp3',\n",
              " 'XC188629-Microbates%20collaris%201%2018-07-2014%208%20horas.mp3',\n",
              " 'XC188632-Monasa%20atra%2021-07-2014%2019%20horas.mp3',\n",
              " 'XC188633-Myrmeciza%20athrotorax%2018-07-2014%209%20horas%20e%2045%20min..MP3',\n",
              " 'XC188634-Myrmeciza%20ferruginea%2017-07-2014%2010%20horas%20e%2030%20min..MP3',\n",
              " 'XC188635-Myrmoborus%20hypoxantha%2018-07-2014%207%20horas%20e%2020%20min..MP3',\n",
              " 'XC188638-Myrmotherula%20brachyura.mp3',\n",
              " 'XC188639-Neopelma%20chrysocephalum%201%2021-07-2014%2012%20horas.mp3',\n",
              " 'XC188641-Odontophorus%20gujanensis%2018-07-2014%2019%20horas.mp3',\n",
              " 'XC188643-Orthopsittaca%20manilatus%201%2019-07-2014%207%20horas%20e%2030%20min..MP3',\n",
              " 'XC188645-Phelgopedius%20coraia%201%2018-07-2014%207%20horas.mp3',\n",
              " 'XC188646-Piaya%20melanogaster%2017-072014%2010%20horas.mp3',\n",
              " 'XC188647-Pionus%20mentrus.mp3',\n",
              " 'XC188648-Pipra%20erythrocephala%20f%C3%AAmea%2017-07-2014%2011%20horas%20e%2045%20min..MP3',\n",
              " 'XC188649-Ramphastus%20tucanus%201%2017-07-2014%208%20horas.mp3',\n",
              " 'XC188650-Rupicola%20rupicola%201%2019-07-2014%2015%20horas.mp3',\n",
              " 'XC188652-Tachyphonus%20surinamus%2017-07-2014%2012%20horas.mp3',\n",
              " 'XC188654-Tangara%20chilensis%2020-07-2014%2011%20horas.mp3',\n",
              " 'XC188655-Tangara%20punctata%2020-07-2014%2010%20horas.mp3',\n",
              " 'XC188657-Thamnophilus%20punctatus%2021-07-2014%2012%20horas.mp3',\n",
              " 'XC188659-Trogon%20melanurus%2021-07-2014%2010%20horas.mp3',\n",
              " 'XC188661-Tyranneutes%20virescens%2018-07-2014%2016%20horas%20e%2030%20min..MP3',\n",
              " 'XC188662-Tyrannopsis%20sulphurea%2019-07-2014%207%20horas%20e%2040%20min..MP3',\n",
              " 'XC188663-Vireolanius%20leucotis%2017-07-2014%2012%20horas.mp3',\n",
              " 'XC188665-Xiphorhynchus%20pardalotus%2021-07-2014%2017%20horas.mp3',\n",
              " 'XC188666-Xiphorhynchus%20pardalotus%201%2017-07-2014%208%20horas%20e%2030%20min..MP3',\n",
              " 'XC190599-Turdus%20maranonicus080630_T665.mp3',\n",
              " 'XC190600-Turdus%20maranonicus080630_T668.mp3',\n",
              " 'XC190752-Softtail%2C%20Orinoco%20T1868%20Capuana%20%28cut%201%29.mp3',\n",
              " 'XC190753-Softtail%2C%20Orinoco%20T1868%20Capuana%20%28cut%202%29.mp3',\n",
              " 'XC193820-Colibri%20thalassinus%20%28Owlet%20Lodge%2C%20Abra%20Patricia%2C%20San%20Mart%C3%ADn%2C%20Per%C3%BA%20-%2024-8-2012%20-%20D.%20Caiafa%29.mp3',\n",
              " 'XC194605-Pionus%20seniloides%20%28Owlet%20Lodge%2C%20Abra%20Patricia%2C%20San%20Mart%C3%ADn%2C%20Per%C3%BA%20-%2027-8-2012%20-%20D.%20Caiafa%29.mp3',\n",
              " 'XC194935-Leucopternis_kuhli1.mp3',\n",
              " 'XC195848-1119%20Lepidothrix%20nattereri.WAV.mp3',\n",
              " 'XC197443-1350-Gray-necked-Woodrail.mp3',\n",
              " 'XC197478-4325-Great-Antshrike-Amazon-song-1.mp3',\n",
              " 'XC200163-PIPCOR03.mp3',\n",
              " 'XC200179-PIPPIP02.mp3',\n",
              " 'XC200188-CHIPAR33.mp3',\n",
              " 'XC200253-TERERY01.mp3',\n",
              " 'XC200346-PHONIG01.mp3',\n",
              " 'XC200374-ATTCIN10.mp3',\n",
              " 'XC201196-ATTSPA27.mp3',\n",
              " 'XC201846-Blackish-gray%20Antshrike%20%28song%2C%20Junglaven%2C%20Venezuela%2C%20mar2009%2C%203%29.mp3',\n",
              " 'XC201863-Blue-black%20Grosbeak%20%28call%2C%20Junglaven%2C%20Venezuela%2C%20mar2009%2C%202%29.mp3',\n",
              " 'XC201864-Amazonian%20Motmot%20%28song%2C%20Junglaven%2C%20Venezuela%2C%20mar2009%2C%201%29.mp3',\n",
              " 'XC201985-Brown-headed%20Greenlet%20%28song%2C%20Junglaven%2C%20Venezuela%2C%20mar2009%2C%202%29.mp3',\n",
              " 'XC201987-Buff-throated%20Foliage-gleaner%20%28LQ%2C%20song%2C%20Junglaven%2C%20Venezuela%2C%20mar2009%2C%201%29.mp3',\n",
              " 'XC201988-Buff-throated%20Woodcreeper%20%28song%2C%20Orinoquia%20Lodge%2C%20Venezuela%2C%20mar2009%2C%201%29.mp3',\n",
              " 'XC201995-Cherrie%27s%20Antwren%20%28song%2C%20Junglaven%2C%20Venezuela%2C%20mar2009%2C%202%29.mp3',\n",
              " 'XC201996-Cherrie%27s%20Antwren%20%28song%2C%20Junglaven%2C%20Venezuela%2C%20mar2009%2C%201%29.mp3',\n",
              " 'XC201997-Cherrie%27s%20Antwren%20%28call%2C%20Junglaven%2C%20Venezuela%2C%20mar2009%2C%201%29.mp3',\n",
              " 'XC202004-Cinereous%20Antshrike%20%28song%2C%20Junglaven%2C%20Venezuela%2C%20mar2009%2C%201%29.mp3',\n",
              " 'XC202197-Cinnamon-crested%20Spadebill%20%28call%2C%20Junglaven%2C%20Venezuela%2C%20mar2009%2C%202%29.mp3',\n",
              " 'XC202198-Cocoa%20Thrush%20%28LQ%2C%20song%2C%20Junglaven%2C%20Venezuela%2C%20mar2009%2C%201%29.mp3',\n",
              " 'XC202322-Gray%20Antbird%20%28song%2C%20Junglaven%2C%20Venezuela%2C%20mar2009%2C%201%29.mp3',\n",
              " 'XC202323-Gray%20Antwren%20%28call%2C%20Junglaven%2C%20Venezuela%2C%20mar2009%2C%201%29.mp3',\n",
              " 'XC202324-Gray%20Antwren%20%28song%2C%20Junglaven%2C%20Venezuela%2C%20mar2009%2C%201%29.mp3',\n",
              " 'XC202329-Grayish%20Mourner%20%28song%2C%20Junglaven%2C%20Venezuela%2C%20mar2009%2C%201%29.mp3',\n",
              " 'XC202336-Gray-winged%20Trumpeter%20%28call%2C%20Junglaven%2C%20Venezuela%2C%20mar2009%2C%202%29.mp3',\n",
              " 'XC202361-Helmeted%20Pygmy-Tyrant%20%28call%2C%20Junglaven%2C%20Venezuela%2C%20mar2009%2C%201%29.mp3',\n",
              " 'XC202362-Helmeted%20Pygmy-Tyrant%20%28call%2C%20Orinoquia%20Lodge%2C%20Venezuela%2C%20mar2009%2C%201%29.mp3',\n",
              " 'XC202412-Imeri%20Warbling-Antbird%20%28song%2C%20Junglaven%2C%20Venezuela%2C%20mar2009%2C%202%29.mp3',\n",
              " 'XC202418-Long-billed%20Gnatwren%20%28call%2C%20Orinoquia%20Lodge%2C%20Venezuela%2C%20mar2009%2C%201%29.mp3',\n",
              " 'XC202419-Long-billed%20Gnatwren%20%28song%2C%20Junglaven%2C%20Venezuela%2C%20mar2009%2C%201%29.mp3',\n",
              " 'XC202472-Pale-bellied%20Mourner%20%28call%2C%20Junglaven%2C%20Venezuela%2C%20mar2009%2C%201%29.mp3',\n",
              " 'XC202720-Pygmy%20Antwren%20%28song%2C%20Junglaven%2C%20Venezuela%2C%20mar2009%2C%201%29.mp3',\n",
              " 'XC202727-Reddish%20Hermit%20%28call%2C%20Junglaven%2C%20Venezuela%2C%20mar2009%2C%201%29.mp3',\n",
              " 'XC202731-Red-throated%20Caracara%20%28call%2C%20Junglaven%2C%20Venezuela%2C%20mar2009%2C%201%29.mp3',\n",
              " 'XC202742-Ruddy-tailed%20Flycatcher%20%28call%2C%20Junglaven%2C%20Venezuela%2C%20mar2009%2C%201%29.mp3',\n",
              " 'XC202743-Rufous%20Nightjar%20%28song%2C%20Junglaven%2C%20Venezuela%2C%20mar2009%2C%201%29.mp3',\n",
              " 'XC202910-Ruddy%20Spinetail%20%28cal%2C%20Junglaven%2C%20Venezuela%2C%20mar2009%2C%201%29.mp3',\n",
              " 'XC202912-Rufous-bellied%20Antwren%20%28song%2C%20Junglaven%2C%20Venezuela%2C%20mar2009%2C%201%29.mp3',\n",
              " 'XC202923-Rufous-throated%20Antbird%20%28call%2C%20Junglaven%2C%20Venezuela%2C%20mar2009%2C%201%29.mp3',\n",
              " 'XC202925-Rufous-throated%20Antbird%20%28song%2C%20Junglaven%2C%20Venezuela%2C%20mar2009%2C%201%29.mp3',\n",
              " 'XC202930-Rufous-winged%20Ground-Cuckoo%20%28bill%20snapping%2C%20Junglaven%2C%20Venezuela%2C%20mar2009%2C%201%29.mp3',\n",
              " 'XC202954-Scaly-breasted%20Woodpecker%20%28call%2C%20Junglaven%2C%20Venezuela%2C%20mar2009%2C%201%29.mp3',\n",
              " 'XC203218-Spot-winged%20Antbird%20%28call%2C%20Junglaven%2C%20Venezuela%2C%20mar2009%2C%201%29.mp3',\n",
              " 'XC203228-Tawny-bellied%20Screech-Owl%20%28song%2C%20Junglaven%2C%20Venezuela%2C%20mar2009%2C%201%29.mp3',\n",
              " 'XC203229-Tawny-crowned%20Greenlet%20%28call%2C%20Junglaven%2C%20Venezuela%2C%20mar2009%2C%201%29.mp3',\n",
              " 'XC203239-Brown-winged%20Schiffornis%20%28song%2C%20Junglaven%2C%20Venezuela%2C%20mar2009%2C%201%29.mp3',\n",
              " 'XC204088-Crypturellus%20cinereus%20026_Venezuela%2C%20Amazonas%2C%2024.03.2011%2C%206-45%2C1%20%D0%A2%D1%8E%D1%8E.mp3',\n",
              " 'XC204089-Crypturellus%20soui%20014_Venezuela%2C%20Amazonas%2C%2024.03.2011%2C%205-40%2C%D0%92%D0%B2.mp3',\n",
              " 'XC204091-Crypturellus%20soui%20016_Venezuela%2C%20Amazonas%2C%2024.03.2011%2C%205-50%2C%D0%92.mp3',\n",
              " 'XC204092-Crypturellus%20soui%20027_Venezuela%2C%20Amazonas%2C%2022.03.2011%2C%207-40%2C1.mp3',\n",
              " 'XC204093-Crypturellus%20soui%20053_Venezuela%2C%20Amazonas%2C%2024.03.2011%2C%208-20%2C%D0%92.mp3',\n",
              " 'XC204094-Crypturellus%20soui%20081_Venezuela%2C%20Barinas%2C%20mont%2C%201.03.2011%2C11-50%2C%D0%94.mp3',\n",
              " 'XC204946-140523_08_Todirostrum%20chrysocrotaphum.WAV.mp3',\n",
              " 'XC204959-Pale-billed%20Antpitta.mp3',\n",
              " 'XC204960-Gray-browed%20Brush-Finch.mp3',\n",
              " 'XC204961-Rufous%20Spinetail.mp3',\n",
              " 'XC205223-TYRELA05.mp3',\n",
              " 'XC205635-Green-tailed%20Jacamar_NPDreyer.mp3',\n",
              " 'XC205637-Red-faned%20Parrot.mp3',\n",
              " 'XC205639-Golden-winged%20Parakeet.mp3',\n",
              " 'XC205644-Klage%27s%20Antwren_negro.mp3',\n",
              " 'XC205645-Leaden%20Antwren_Negro.mp3',\n",
              " 'XC205649-Blackish-grey%20Antshrike_negro.mp3',\n",
              " 'XC205656-Black-headed%20Antbird_duckeRes_Manaus.mp3',\n",
              " 'XC205658-Amazonian%20Pygmy%20Owl_ducke_dreyer.mp3',\n",
              " 'XC205660-Straight-billed%20Woodcreeper_rioChrist.mp3',\n",
              " 'XC206717-Aburria%20cumanensis_Monte%20Carmelo_1243.mp3',\n",
              " 'XC206719-Aramides%20cajanea_Monte%20Carmelo_1274.mp3',\n",
              " 'XC206722-Atilla%20bolivianus_Monte%20Carmelo_1058.mp3',\n",
              " 'XC206724-Brotogeris%20sanctitomae_Monte%20Carmelo_1183.mp3',\n",
              " 'XC206725-Bucco%20macrodactylus_Monte%20%20Carmelo_1270.mp3',\n",
              " 'XC206726-Bucco%20macrodactylus_Monte%20Carmelo_1178.mp3',\n",
              " 'XC206727-Caccicus%20cela_Monte%20Carmelo_1062.mp3',\n",
              " 'XC206729-Calidris%20fuscicollis_Monte%20Carmelo_1122.mp3',\n",
              " 'XC206730-Calidris%20melanotos_Monte%20Carmelo_1123.mp3',\n",
              " 'XC206731-Canthorchilus%20leucotis_Monte%20Carmelo_1090.mp3',\n",
              " 'XC206732-Cantorchilus%20leucotis_Monte%20Carmelo_1172.mp3',\n",
              " 'XC206733-Capito%20aurovirens_Monte%20Carmelo_1059.mp3',\n",
              " 'XC206734-Celeus%20flavus_Monte%20Carmelo_1186.mp3',\n",
              " 'XC206736-Celeus%20torquatus_Monte%20Carmelo_1071.mp3',\n",
              " 'XC206737-Cercomacra%20cinerascens_Monte%20Carmelo_1060.mp3',\n",
              " 'XC206738-Cercomacra%20nigrescens_Monte%20Carmelo_1159.mp3',\n",
              " 'XC206739-Certhiaxis%20mustelinus_Monte%20Carmelo_1240.mp3',\n",
              " 'XC206740-Charadrius%20collaris_Monte%20Carmelo_1127.mp3',\n",
              " 'XC206741-Cranioleuca%20gutturata_Monte%20Carmelo_1097.mp3',\n",
              " 'XC206742-Cranioleuca%20vulpina_Monte%20Carmelo_1231.mp3',\n",
              " 'XC206743-Crax%20globulosa_Monte%20Carmelo_1093.mp3',\n",
              " 'XC206745-Crax%20globulosa_Monte%20Carmelo_1094.mp3',\n",
              " 'XC206784-Crypturellus%20undulatus_Monte%20Carmelo_1091.mp3',\n",
              " 'XC206786-Cyanocorax%20violaceus_Monte%20Carmelo_1105.mp3',\n",
              " 'XC206787-Cyanocorax%20violaceus_Monte%20Carmelo1051.mp3',\n",
              " 'XC206788-Donacobius%20atricapilla_Monte%20Carmelo_1162.mp3',\n",
              " 'XC206789-Euphonia%20chrysopasta_Monte%20Carmelo_1101.mp3',\n",
              " 'XC206790-Euphonia%20chrysopasta_Monte%20Carmelo_1102.mp3',\n",
              " 'XC206791-Galbalcyrhinchus%20purusianus_Monte%20Carmelo_1208.mp3',\n",
              " 'XC206792-Galbula%20cyanescens_Monte%20Carmelo_1100.mp3',\n",
              " 'XC206793-Glaucidium%20brasilianum_Monte%20Carmelo_1077.mp3',\n",
              " 'XC206794-Helicolestes%20hamatus_Monte%20Carmelo_1252.mp3',\n",
              " 'XC206795-Hemitriccus%20iohannis_Monte%20Carmelo_1090.mp3',\n",
              " 'XC206796-Hylophilus%20thoracicus_Monte%20Carmelo_1242.mp3',\n",
              " 'XC206797-Hypocnemoides%20maculicauda_Monte%20Carmelo_1187.mp3',\n",
              " 'XC206799-Lampropsar%20tanagrinus_Monte%20Carmelo_1065.mp3',\n",
              " 'XC206800-Lathrotriccus%20euleri_Monte%20Carmelo_1061.mp3',\n",
              " 'XC206801-Mesembrinibis%20cayennensis_Monte%20Carmelo_1170.mp3',\n",
              " 'XC206802-Myiopagis%20flavivertex_Monte%20Carmelo_1204.mp3',\n",
              " 'XC206803-Myiopagis%20flavivertex_Monte%20Carmelo_1251.mp3',\n",
              " 'XC206823-Black-crested%20Antshrike_RioNegro.mp3',\n",
              " 'XC206935-Myrmeciza%20hyperipetra_Monte%20Carmelo_1069.mp3',\n",
              " 'XC206936-Myrmeciza%20hyperipetra_Monte%20Carmelo_1088.mp3',\n",
              " 'XC206937-Myrmoborus%20leucophrys_Monte%20Carmelo_1190.mp3',\n",
              " 'XC206938-Myrmotherula%20assimilis_Monte%20Carmelo_1237.mp3',\n",
              " 'XC206939-Neochen%20jubata_Monte%20Carmelo_1111.mp3',\n",
              " 'XC206940-Neoctantes%20niger_Monte%20Carmelo_1263.mp3',\n",
              " 'XC206941-Neoctantes%20niger_Monte%20Carmelo_1264.mp3',\n",
              " 'XC206943-Opistocomus%20hoazin_Monte%20Carmelo_1234.mp3',\n",
              " 'XC206944-Ortalis%20guttata_Monte%20Carmelo_1082.mp3',\n",
              " 'XC206945-Phaetusa%20simplex_Monte%20Carmelo_1053.mp3',\n",
              " 'XC206946-Polioptila%20plumbea_Monte%20Carmelo_1222.mp3',\n",
              " 'XC206947-Polioptila%20plumbea_Monte%20Carmelo_1239.mp3',\n",
              " 'XC206948-Psarocolius%20angustifrons_Monte%20Carmelo_1074.mp3',\n",
              " 'XC206949-Psarocolius%20angustifrons_Monte%20Carmelo_1075.mp3',\n",
              " 'XC206950-Psarocolius%20angustifrons_Monte%20Carmelo_1106.mp3',\n",
              " 'XC206951-Pteroglossus%20castanotis_Monte%20Carmelo_1104.mp3',\n",
              " 'XC206953-Rynchops%20niger_Monte%20Carmelo_1052.mp3',\n",
              " 'XC206958-Schiffornis%20major_Monte%20Carmelo_1084.mp3',\n",
              " 'XC206959-Sakesphorus%20canadensis_Monte%20Carmelo_1219.mp3',\n",
              " 'XC206960-Sakesphorus%20canadensis_Monte%20Carmelo_1235.mp3',\n",
              " 'XC206961-Sclateria%20naevia_Monte%20Carmelo_1188.mp3',\n",
              " 'XC206963-Spizaetus%20tyrannus_Monte%20Carmelo_1246.mp3',\n",
              " 'XC206964-Sporophila%20bouvronides_Monte%20Carmelo_1255.mp3',\n",
              " 'XC206965-Sternulla%20superciliaris_Monte%20Carmelo_1119.mp3',\n",
              " 'XC206966-Sturnella%20militaris_Monte%20Carmelo_1126.mp3',\n",
              " 'XC206967-Tangara%20episcopus_Monte%20Carmelo_1167.mp3',\n",
              " 'XC206968-Trogon%20collaris_Monte%20Carmelo_1076.mp3',\n",
              " 'XC206969-Trogon%20melanurus_Monte%20Carmelo_1193.mp3',\n",
              " 'XC206970-Turdus%20ignobilis_Monte%20Carmelo_1196.mp3',\n",
              " 'XC206971-Turdus%20sanchezorum_Monte%20Carmelo_1158.mp3',\n",
              " 'XC206972-Turdus%20sanchezorum_Monte%20Carmelo_1275.mp3',\n",
              " 'XC206973-Vireo%20olivaceus_Monte%20Carmelo_1160.mp3',\n",
              " 'XC207049-RHYSIM29.mp3',\n",
              " 'XC207146-White-browed%20Antbird_Docke_Dreyer.mp3',\n",
              " 'XC207160-Yellow-browed%20TodyTyrant_Duke_Manaus_Dreyer.mp3',\n",
              " 'XC209986-Violaceous%20Jay%20%28call%2C%20Junglaven%2C%20Venezuela%2C%20mar2009%2C%201%29.mp3',\n",
              " 'XC210029-White-bearded%20Manakin%20%28call%2C%20Orinoquia%20Lodge%2C%20Venezuela%2C%20mar2009%2C%201%29.mp3',\n",
              " 'XC210034-White-bellied%20Antbird%20%28song%2C%20Jun%20glaven%2C%20Venezuela%2C%20mar2009%2C%201%29.mp3',\n",
              " 'XC210045-White-flanked%20Antwren%20%28call%2C%20Junglaven%2C%20Venezuela%2C%20mar2009%2C%201%29.mp3',\n",
              " 'XC210047-White-flanked%20Antwren%20%28call%2C%20Orinoquia%20Lodge%2C%20Venezuela%2C%20mar2009%2C%201%29.mp3',\n",
              " 'XC210057-White-tailed%20Nightjar%20%28call%2C%20Junglaven%2C%20Venezuela%2C%20mar2009%2C%201%29.mp3',\n",
              " 'XC210058-White-tailed%20Nightjar%20%28wing%20clapping%2C%20Junglaven%2C%20Venezuela%2C%20mar2009%2C%201%29.mp3',\n",
              " 'XC210072-Yellow-crowned%20Manakin%20%28song%2C%20Junglaven%2C%20Venezuela%2C%20mar2009%2C%201%29.mp3',\n",
              " 'XC210951-MYILUT17.mp3',\n",
              " 'XC210980-EMPVAR05.mp3',\n",
              " 'XC211168-HYLTHO05.mp3',\n",
              " 'XC211182-HYLBRU02.mp3',\n",
              " 'XC211283-20150102_Tambopata_Chestnut-tailedAntbird_song.mp3',\n",
              " 'XC211285-20150102_Tambopata_Tawny-belliedScreech-owl_song.mp3',\n",
              " 'XC211286-20150103_Tambopata_Black-facedAntbird.mp3',\n",
              " 'XC211287-20150103_Tambopata_Black-facedAnt-thrush_song.mp3',\n",
              " 'XC211289-20150103_Tambopata_Blue-crownedTrogon_song.mp3',\n",
              " 'XC211290-20150103_Tambopata_Red-crownedAnt-Tanager_song.mp3',\n",
              " 'XC211389-HYLOCH25.mp3',\n",
              " 'XC211444-TACALB02.mp3',\n",
              " 'XC211445-TACALB06.mp3',\n",
              " 'XC211451-MICBAM03.mp3',\n",
              " 'XC211509-THRGEN51.mp3',\n",
              " 'XC211519-THRCOR04.mp3',\n",
              " 'XC211523-THRLEU13.mp3',\n",
              " 'XC211524-THRLEU14.mp3',\n",
              " 'XC211903-MICCOL01.mp3',\n",
              " 'XC212151-TURIGN04.mp3',\n",
              " 'XC212152-TURIGN05.mp3',\n",
              " 'XC212339-AMMAUR03.mp3',\n",
              " 'XC212831-PSAVIR01.mp3',\n",
              " 'XC212832-PSAVIR02.mp3',\n",
              " 'XC212845-Corvidae_Cyanocorax_%20hafferi_15_08_2014_H16_29_Borba_AM.mp3',\n",
              " 'XC212908-CACCEL11.mp3',\n",
              " 'XC213997-COEFLA14.mp3',\n",
              " 'XC214635-SALGRO05.mp3',\n",
              " 'XC214937-RAMCAR04.mp3',\n",
              " 'XC215277-EUCPEN02.mp3',\n",
              " 'XC215508-NYCLEU03.mp3',\n",
              " 'XC215625-SICCOL01.mp3',\n",
              " 'XC216336-ORYANG19.mp3',\n",
              " 'XC216722-CARCAN32.mp3',\n",
              " 'XC216807-PASCYA03.mp3',\n",
              " 'XC216810-PASCYA04.mp3',\n",
              " 'XC218306-White-bellied%20Hummingbird%20B%203443.mp3',\n",
              " 'XC218574-Gray-breasted%20Mountain-Toucan%20A%204342.mp3',\n",
              " 'XC218576-Gray-breasted%20Mountain-Toucan%20B%204341.mp3',\n",
              " 'XC218889-Blue-and-yellow%20Macaw%20B%202000.mp3',\n",
              " 'XC218890-Blue-and-yellow%20Macaw%20B%202001.mp3',\n",
              " 'XC218891-Blue-and-yellow%20Macaw%20B%202002.mp3',\n",
              " 'XC219011-Mitred%20Parakeet%20A%202081.mp3',\n",
              " 'XC219012-Mitred%20Parakeet%20B%202080.mp3',\n",
              " 'XC219013-Mitred%20Parakeet%20B%202082.mp3',\n",
              " 'XC219074-Pectoral%20Sparrow%20B%2016037.mp3',\n",
              " 'XC219276-Black-collared%20Swallow%20%2011850.mp3',\n",
              " 'XC219302-Citron-bellied%20Attila%20D%2011120.mp3',\n",
              " 'XC219303-Citron-bellied%20Attila%20D%2011121.mp3',\n",
              " 'XC219430-Olive-backed%20Foliage-gleaner%20B%205962.mp3',\n",
              " 'XC219454-Buff-throated%20Foliage-gleaner%20B%205952.mp3',\n",
              " 'XC219455-Buff-throated%20Foliage-gleaner%20B%205953.mp3',\n",
              " 'XC219456-Buff-throated%20Foliage-gleaner%20%205927.mp3',\n",
              " 'XC219464-Buff-throated%20Foliage-gleaner%20C%205951.mp3',\n",
              " 'XC219764-Point-tailed%20Palmcreeper%20C%205810.mp3',\n",
              " 'XC219810-Golden-winged%20Parakeet%20C%202238.mp3',\n",
              " 'XC219811-Golden-winged%20Parakeet%20C%202239.mp3',\n",
              " 'XC219815-Cobalt-winged%20Parakeet%20B%202224.mp3',\n",
              " 'XC219964-Great%20Black-Hawk%20B%20588.mp3',\n",
              " 'XC219979-Yellow-rumped%20Cacique%20B%2016851.mp3',\n",
              " 'XC220126-Crimson-crested%20Woodpecker%20%204881.mp3',\n",
              " 'XC220129-Crimson-crested%20Woodpecker%20B%204888.mp3',\n",
              " 'XC220130-Crimson-crested%20Woodpecker%20%204880.mp3',\n",
              " 'XC220153-Southern%20Beardless-Tyrannulet%20A%209575.mp3',\n",
              " 'XC220159-Southern%20Beardless-Tyrannulet%20B%209547.mp3',\n",
              " 'XC220160-Southern%20Beardless-Tyrannulet%20B%209573.mp3',\n",
              " 'XC220162-Southern%20Beardless-Tyrannulet%20B%209574.mp3',\n",
              " 'XC220194-Curve-billed%20Scythebill%20A%206592.mp3',\n",
              " 'XC220195-Curve-billed%20Scythebill%20A%206594.mp3',\n",
              " 'XC220198-Curve-billed%20Scythebill%20B%206593.mp3',\n",
              " 'XC220205-Curve-billed%20Scythebill%20C%206591.mp3',\n",
              " 'XC220253-Fasciated%20Wren%20B%2012061.mp3',\n",
              " 'XC220321-Gilded%20Barbet%20B%204244.mp3',\n",
              " 'XC220334-Black-spotted%20Barbet%20B%204236.mp3',\n",
              " 'XC220335-Black-spotted%20Barbet%20C%204237.mp3',\n",
              " 'XC220374-Rufous%20Nightjar%20C%203064.mp3',\n",
              " 'XC220384-Yellow%20Tyrannulet%20%209613.mp3',\n",
              " 'XC220533-Yellow-green%20Grosbeak%20B%2016503.mp3',\n",
              " 'XC220658-Cream-colored%20Woodpecker%20B%204824.mp3',\n",
              " 'XC220674-Scaly-breasted%20Woodpecker%20C%204786.mp3',\n",
              " 'XC220685-Ringed%20Woodpecker%20C%204830.mp3',\n",
              " 'XC220700-Gray%20Antbird%20%207773.mp3',\n",
              " 'XC220762-Dusky%20Antbird%20A%207813.mp3',\n",
              " 'XC220763-Dusky%20Antbird%20A%207814.mp3',\n",
              " 'XC220764-Dusky%20Antbird%20A%207815.mp3',\n",
              " 'XC220787-Dusky%20Antbird%20C%207816.mp3',\n",
              " 'XC220821-Short-tailed%20Swift%20C%203187.mp3',\n",
              " 'XC221059-Lesser%20Nighthawk%20%203015.mp3',\n",
              " 'XC221066-Least%20Nighthawk%20%203000.mp3',\n",
              " 'XC221191-Dark-billed%20Cuckoo%20D%202518.mp3',\n",
              " 'XC221203-Bananaquit%20A%2014689.mp3',\n",
              " 'XC221244-Black-necked%20Woodpecker%20A%204733.mp3',\n",
              " 'XC221245-Black-necked%20Woodpecker%20A%204734.mp3',\n",
              " 'XC221320-Crested%20Bobwhite%20B%201070.mp3',\n",
              " 'XC221391-Scaled%20Pigeon%20%201657.mp3',\n",
              " 'XC221404-Croaking%20Ground-Dove%20B%201832.mp3',\n",
              " 'XC221473-Yellow-throated%20Flycatcher%20B%2011454.mp3',\n",
              " 'XC221474-Yellow-throated%20Flycatcher%20B%2011455.mp3',\n",
              " 'XC221752-Rusty-backed%20Spinetail%20%205439.mp3',\n",
              " 'XC221753-Rusty-backed%20Spinetail%20B%205441.mp3',\n",
              " 'XC221760-Rusty-backed%20Spinetail%20C%205440.mp3',\n",
              " 'XC221763-Black%20Curassow%20B%201001.mp3',\n",
              " 'XC221779-Smooth-billed%20Ani%20B%202591.mp3',\n",
              " 'XC221796-Groove-billed%20Ani%20B%202601.mp3',\n",
              " 'XC221821-Cinereous%20Tinamou%20%2054.mp3',\n",
              " 'XC221894-Little%20Tinamou%20B%2096.mp3',\n",
              " 'XC221944-Variegated%20Tinamou%20C%20197.mp3',\n",
              " 'XC221983-Blue-black%20Grosbeak%20A%2016605.mp3',\n",
              " 'XC222084-Violaceous%20Jay%20B%2013493.mp3',\n",
              " 'XC222124-Rufous-browed%20Peppershrike%20%2013942.mp3',\n",
              " 'XC222157-Fasciated%20Antshrike%20%206625.mp3',\n",
              " 'XC222201-Red-throated%20Caracara%20%20685.mp3',\n",
              " 'XC222294-Amazonian%20Barred-Woodcreeper%20C%206285.mp3',\n",
              " 'XC222298-Amazonian%20Barred-Woodcreeper%20D%206283.mp3',\n",
              " 'XC222299-Amazonian%20Barred-Woodcreeper%20D%206284.mp3',\n",
              " 'XC222304-Black-banded%20Woodcreeper%20%206291.mp3',\n",
              " 'XC222305-Black-banded%20Woodcreeper%20%206292.mp3',\n",
              " 'XC222383-Red-fan%20Parrot%20C%202465.mp3',\n",
              " 'XC222385-Red-fan%20Parrot%20B%202466.mp3',\n",
              " 'XC222417-Rusty%20Flower-piercer%20A%2015769.mp3',\n",
              " 'XC222575-Lineated%20Woodpecker%20A%204853.mp3',\n",
              " 'XC222576-Lineated%20Woodpecker%20A%204854.mp3',\n",
              " 'XC222715-Sierran%20Elaenia%20C%209732.mp3',\n",
              " 'XC222859-Golden-sided%20Euphonia%20A%2015362.mp3',\n",
              " 'XC222860-Golden-sided%20Euphonia%20B%2015360.mp3',\n",
              " 'XC222861-Golden-sided%20Euphonia%20B%2015361.mp3',\n",
              " 'XC222863-Purple-throated%20Euphonia%20%2015232.mp3',\n",
              " 'XC222866-Purple-throated%20Euphonia%20B%2015241.mp3',\n",
              " 'XC222874-White-lored%20Euphonia%20%2015316.mp3',\n",
              " 'XC222879-White-lored%20Euphonia%20C%2015324.mp3',\n",
              " 'XC222883-White-lored%20Euphonia%20%2015315.mp3',\n",
              " 'XC222930-Plumbeous%20Euphonia%20%2015220.mp3',\n",
              " 'XC222931-White-lored%20Euphonia%20%2015312.mp3',\n",
              " 'XC222933-White-lored%20Euphonia%20%2015313.mp3',\n",
              " 'XC222934-Rufous-bellied%20Euphonia%20%2015352.mp3',\n",
              " 'XC222985-Tawny-crowned%20Pygmy-Tyrant%20B%2010141.mp3',\n",
              " 'XC223018-Aplomado%20Falcon%20A%20818.mp3',\n",
              " 'XC223030-White-necked%20Jacobin%20C%203319.mp3',\n",
              " 'XC223123-Southern%20White-fringed%20Antwren%20C%207568.mp3',\n",
              " 'XC223203-Yellow-faced%20Parrotlet%20C%202207.mp3',\n",
              " 'XC223204-Yellow-faced%20Parrotlet%20C%202208.mp3',\n",
              " 'XC223213-Undulated%20Antshrike%20B%206691.mp3',\n",
              " 'XC223214-Undulated%20Antshrike%20B%206692.mp3',\n",
              " 'XC223215-Undulated%20Antshrike%20B%206693.mp3',\n",
              " 'XC223271-Yellow-billed%20Jacamar%20%204063.mp3',\n",
              " 'XC223277-Yellow-billed%20Jacamar%20C%204067.mp3',\n",
              " 'XC223293-Paradise%20Jacamar%20B%204128.mp3',\n",
              " 'XC223294-Paradise%20Jacamar%20B%204127.mp3',\n",
              " 'XC223303-Paradise%20Jacamar%20D%204126.mp3',\n",
              " 'XC223389-Masked%20Yellowthroat%20lumped%20B%2014266.mp3',\n",
              " 'XC223514-Amazonian%20Pygmy-Owl%20A%202891.mp3',\n",
              " 'XC223515-Amazonian%20Pygmy-Owl%20A%202893.mp3',\n",
              " 'XC223516-Amazonian%20Pygmy-Owl%20B%202889.mp3',\n",
              " 'XC223517-Amazonian%20Pygmy-Owl%20B%202890.mp3',\n",
              " 'XC223518-Amazonian%20Pygmy-Owl%20B%202892.mp3',\n",
              " 'XC223522-Andean%20Pygmy-Owl%20B%202861.mp3',\n",
              " 'XC223523-Andean%20Pygmy-Owl%20B%202862.mp3',\n",
              " 'XC223538-Peruvian%20Pygmy-Owl%20B%202934.mp3',\n",
              " 'XC223554-Wedge-billed%20Woodcreeper%20B%206206.mp3',\n",
              " 'XC223555-Wedge-billed%20Woodcreeper%20B%206207.mp3',\n",
              " 'XC223556-Wedge-billed%20Woodcreeper%20%206184.mp3',\n",
              " 'XC223568-Wedge-billed%20Woodcreeper%20C%206208.mp3',\n",
              " 'XC223669-Chestnut-crowned%20Antpitta%20A%208545.mp3',\n",
              " 'XC223687-Chestnut-crowned%20Antpitta%20B%208543.mp3',\n",
              " 'XC223689-Chestnut-crowned%20Antpitta%20B%208544.mp3',\n",
              " 'XC223690-Rufous%20Antpitta%20A%208594.mp3',\n",
              " 'XC223691-Rufous%20Antpitta%20A%208595.mp3',\n",
              " 'XC223692-Rufous%20Antpitta%20A%208596.mp3',\n",
              " 'XC223808-Rufous-throated%20Antbird%20A%208213.mp3',\n",
              " 'XC223812-Rufous-throated%20Antbird%20B%208212.mp3',\n",
              " 'XC223819-Amazonian%20Oropendola%20lumped%20%2016966.mp3',\n",
              " 'XC223932-Superciliaried%20Hemispingus%20B%2014844.mp3',\n",
              " 'XC224035-unsplit%20White-eyed%20Tody-Tyrant%20A%2010328.mp3',\n",
              " 'XC224036-unsplit%20White-eyed%20Tody-Tyrant%20B%2010327.mp3',\n",
              " 'XC224037-unsplit%20White-eyed%20Tody-Tyrant%20B%2010325.mp3',\n",
              " 'XC224038-unsplit%20White-eyed%20Tody-Tyrant%20B%2010326.mp3',\n",
              " 'XC224131-Spot-backed%20Antwren%20A%207444.mp3',\n",
              " 'XC224132-Spot-backed%20Antwren%20A%207445.mp3',\n",
              " 'XC224133-Spot-backed%20Antwren%20A%207443.mp3',\n",
              " 'XC224134-Spot-backed%20Antwren%20B%207446.mp3',\n",
              " 'XC224135-Spot-backed%20Antwren%20B%207447.mp3',\n",
              " 'XC224136-Spot-backed%20Antwren%20B%207441.mp3',\n",
              " 'XC224137-Spot-backed%20Antwren%20B%207442.mp3',\n",
              " 'XC224222-Yellow-crested%20Manakin%20B%209442.mp3',\n",
              " 'XC224223-Yellow-crested%20Manakin%20%209440.mp3',\n",
              " 'XC224277-Rufous-throated%20Sapphire%20%203404.mp3',\n",
              " 'XC224336-Brown-headed%20Greenlet%20A%2013816.mp3',\n",
              " 'XC224337-Brown-headed%20Greenlet%20A%2013820.mp3',\n",
              " 'XC224338-Brown-headed%20Greenlet%20B%2013814.mp3',\n",
              " 'XC224339-Brown-headed%20Greenlet%20B%2013815.mp3',\n",
              " 'XC224340-Brown-headed%20Greenlet%20B%2013817.mp3',\n",
              " 'XC224341-Brown-headed%20Greenlet%20B%2013818.mp3',\n",
              " 'XC224342-Brown-headed%20Greenlet%20B%2013819.mp3',\n",
              " 'XC224361-Dusky-capped%20Greenlet%20B%2013832.mp3',\n",
              " 'XC224372-Buff-cheeked%20Greenlet%20A%2013810.mp3',\n",
              " 'XC224375-Buff-cheeked%20Greenlet%20B%2013811.mp3',\n",
              " 'XC224380-Buff-cheeked%20Greenlet%20C%2013812.mp3',\n",
              " 'XC224384-Tawny-crowned%20Greenlet%20%2013847.mp3',\n",
              " 'XC224386-Tawny-crowned%20Greenlet%20B%2013870.mp3',\n",
              " 'XC224387-Tawny-crowned%20Greenlet%20B%2013871.mp3',\n",
              " 'XC224388-Tawny-crowned%20Greenlet%20B%2013872.mp3',\n",
              " 'XC224391-Tawny-crowned%20Greenlet%20%2013848.mp3',\n",
              " 'XC224459-Spot-backed%20Antbird%20A%208273.mp3',\n",
              " 'XC224492-Russet-throated%20Puffbird%20%204183.mp3',\n",
              " 'XC224497-Warbling%20Antbird%20A%208001.mp3',\n",
              " 'XC224500-Warbling%20Antbird%20B%208000.mp3',\n",
              " 'XC224503-Warbling%20Antbird%20C%207999.mp3',\n",
              " 'XC224506-Warbling%20Antbird%20B%208002.mp3',\n",
              " 'XC224507-Warbling%20Antbird%20%207975.mp3',\n",
              " 'XC224508-Warbling%20Antbird%20%207973.mp3',\n",
              " 'XC224509-Warbling%20Antbird%20B%207974.mp3',\n",
              " 'XC224513-Yellow-browed%20Antbird%20B%208012.mp3',\n",
              " 'XC224514-Yellow-browed%20Antbird%20B%208014.mp3',\n",
              " 'XC224515-Yellow-browed%20Antbird%20B%208015.mp3',\n",
              " 'XC224543-Black-chinned%20Antbird%20%208017.mp3',\n",
              " 'XC224547-Black-chinned%20Antbird%20%208021.mp3',\n",
              " 'XC224549-Black-chinned%20Antbird%20C%208022.mp3',\n",
              " 'XC224585-Moriche%20Oriole%20C%2016723.mp3',\n",
              " 'XC224658-Buff-bridled%20Inca-Finch%20A%2015559.mp3',\n",
              " 'XC224659-Buff-bridled%20Inca-Finch%20A%2015561.mp3',\n",
              " 'XC224660-Buff-bridled%20Inca-Finch%20A%2015562.mp3',\n",
              " 'XC224661-Buff-bridled%20Inca-Finch%20A%2015563.mp3',\n",
              " 'XC224662-Buff-bridled%20Inca-Finch%20B%2015560.mp3',\n",
              " 'XC224672-Little%20Inca-Finch%20B%2015564.mp3',\n",
              " 'XC224673-Little%20Inca-Finch%20B%2015566.mp3',\n",
              " 'XC224675-Little%20Inca-Finch%20C%2015565.mp3',\n",
              " 'XC224692-White-browed%20Purpletuft%20%209161.mp3',\n",
              " 'XC224736-Great%20Jacamar%20C%204143.mp3',\n",
              " 'XC224780-Red-billed%20Pied%20Tanager%20B%2014797.mp3',\n",
              " 'XC224797-Cinereous%20Mourner%20%209078.mp3',\n",
              " 'XC224844-Gray-breasted%20Crake%20A%201246.mp3',\n",
              " 'XC224845-Gray-breasted%20Crake%20A%201247.mp3',\n",
              " 'XC224849-Gray-breasted%20Crake%20B%201244.mp3',\n",
              " 'XC225021-Gray-headed%20Kite%20D%20532.mp3',\n",
              " 'XC225079-Gray-fronted%20Dove%20B%201905.mp3',\n",
              " 'XC225117-Spot-throated%20Hummingbird%20B%203442.mp3',\n",
              " 'XC225161-Screaming%20Piha%20B%209181.mp3',\n",
              " 'XC225190-Crested%20Owl%20B%202830.mp3',\n",
              " 'XC225203-Helmeted%20Pygmy-Tyrant%20B%2010219.mp3',\n",
              " 'XC225204-Helmeted%20Pygmy-Tyrant%20B%2010216.mp3',\n",
              " 'XC225205-Helmeted%20Pygmy-Tyrant%20B%2010218.mp3',\n",
              " 'XC225228-Double-banded%20Pygmy-Tyrant%20B%2010198.mp3',\n",
              " 'XC225232-Short-tailed%20Nighthawk%20B%202993.mp3',\n",
              " 'XC225233-Short-tailed%20Nighthawk%20B%202994.mp3',\n",
              " 'XC225382-010-Undulated-Tinamou.mp3',\n",
              " 'XC225711-Barred%20Forest-Falcon%20C%20764.mp3',\n",
              " 'XC225718-Collared%20Forest-Falcon%20%20788.mp3',\n",
              " 'XC225733-Collared%20Forest-Falcon%20%20789.mp3',\n",
              " 'XC225735-Collared%20Gnatwren%20A%2013207.mp3',\n",
              " 'XC225736-Collared%20Gnatwren%20A%2013208.mp3',\n",
              " 'XC225737-Collared%20Gnatwren%20A%2013211.mp3',\n",
              " 'XC225738-Collared%20Gnatwren%20A%2013212.mp3',\n",
              " 'XC225739-Collared%20Gnatwren%20B%2013206.mp3',\n",
              " 'XC225740-Collared%20Gnatwren%20B%2013209.mp3',\n",
              " 'XC225823-Black%20Nunbird%20%204205.mp3',\n",
              " 'XC225824-Black%20Nunbird%20%204206.mp3',\n",
              " 'XC225825-Black%20Nunbird%20%204207.mp3',\n",
              " 'XC225830-White-fronted%20Nunbird%20B%204222.mp3',\n",
              " 'XC225831-White-fronted%20Nunbird%20B%204223.mp3',\n",
              " 'XC225914-Short-crested%20Flycatcher%20C%2011264.mp3',\n",
              " 'XC225957-Brown-crested%20Flycatcher%20B%2011321.mp3',\n",
              " 'XC226093-Gray%20Elaenia%20C%209657.mp3',\n",
              " 'XC226191-Short-tailed%20Pygmy-Tyrant%20C%2010173.mp3',\n",
              " 'XC226242-Dusky-chested%20Flycatcher%20B%2011429.mp3',\n",
              " 'XC226248-Dusky-chested%20Flycatcher%20B%2011437.mp3',\n",
              " 'XC226249-Dusky-chested%20Flycatcher%20%2011426.mp3',\n",
              " 'XC226275-Black-throated%20Antbird%20%208170.mp3',\n",
              " 'XC226284-Black-throated%20Antbird%20B%208188.mp3',\n",
              " 'XC226285-Black-throated%20Antbird%20B%208192.mp3',\n",
              " 'XC226286-Black-throated%20Antbird%20B%208193.mp3',\n",
              " 'XC226287-Black-throated%20Antbird%20B%208194.mp3',\n",
              " 'XC226289-Black-throated%20Antbird%20B%208187.mp3',\n",
              " 'XC226291-Black-throated%20Antbird%20%208171.mp3',\n",
              " 'XC226292-Black-throated%20Antbird%20B%208169.mp3',\n",
              " 'XC226299-Black-throated%20Antbird%20B%208189.mp3',\n",
              " 'XC226341-White-bellied%20Antbird%20%208071.mp3',\n",
              " 'XC226361-Gray-bellied%20Antbird%20A%208139.mp3',\n",
              " 'XC226362-Gray-bellied%20Antbird%20A%208137.mp3',\n",
              " 'XC226363-Gray-bellied%20Antbird%20A%208141.mp3',\n",
              " 'XC226364-Gray-bellied%20Antbird%20B%208136.mp3',\n",
              " 'XC226365-Gray-bellied%20Antbird%20B%208138.mp3',\n",
              " 'XC226366-Gray-bellied%20Antbird%20B%208140.mp3',\n",
              " 'XC226442-Thrush-like%20Antpitta%20C%208680.mp3',\n",
              " 'XC226443-Thrush-like%20Antpitta%20C%208681.mp3',\n",
              " 'XC226452-Yellow-throated%20Antwren%20B%207193.mp3',\n",
              " 'XC226453-Yellow-throated%20Antwren%20B%207194.mp3',\n",
              " 'XC226454-Yellow-throated%20Antwren%20B%207195.mp3',\n",
              " 'XC226455-Yellow-throated%20Antwren%20C%207192.mp3',\n",
              " 'XC226456-White-flanked%20Antwren%20A%207324.mp3',\n",
              " 'XC226459-White-flanked%20Antwren%20B%207319.mp3',\n",
              " 'XC226460-White-flanked%20Antwren%20B%207320.mp3',\n",
              " 'XC226461-White-flanked%20Antwren%20B%207321.mp3',\n",
              " 'XC226462-White-flanked%20Antwren%20B%207323.mp3',\n",
              " 'XC226465-White-flanked%20Antwren%20B%207316.mp3',\n",
              " 'XC226466-White-flanked%20Antwren%20B%207317.mp3',\n",
              " 'XC226467-White-flanked%20Antwren%20B%207318.mp3',\n",
              " ...]"
            ]
          },
          "metadata": {},
          "execution_count": 14
        }
      ]
    },
    {
      "cell_type": "code",
      "source": [
        "song_names_xeno[101].split('-')[0]"
      ],
      "metadata": {
        "colab": {
          "base_uri": "https://localhost:8080/",
          "height": 37
        },
        "id": "kNtGVGPZD7xV",
        "outputId": "f0178568-165a-4ad9-c4c5-4d77c34bb29e"
      },
      "execution_count": null,
      "outputs": [
        {
          "output_type": "execute_result",
          "data": {
            "text/plain": [
              "'XC119154'"
            ],
            "application/vnd.google.colaboratory.intrinsic+json": {
              "type": "string"
            }
          },
          "metadata": {},
          "execution_count": 19
        }
      ]
    },
    {
      "cell_type": "code",
      "source": [
        "song_ids = []\n",
        "count = 0\n",
        "for song_name in song_names_xeno:\n",
        "    song_ids.append(song_name.split('-')[0])\n",
        "    count += 1\n",
        "song_ids"
      ],
      "metadata": {
        "colab": {
          "base_uri": "https://localhost:8080/"
        },
        "collapsed": true,
        "id": "YMoEZpD8Dbcy",
        "outputId": "23f7925e-5e31-4cba-88f5-f54d9fbf4810"
      },
      "execution_count": null,
      "outputs": [
        {
          "output_type": "execute_result",
          "data": {
            "text/plain": [
              "['XC113545',\n",
              " 'XC113546',\n",
              " 'XC113547',\n",
              " 'XC113595',\n",
              " 'XC113596',\n",
              " 'XC113598',\n",
              " 'XC113599',\n",
              " 'XC113603',\n",
              " 'XC113604',\n",
              " 'XC113606',\n",
              " 'XC113607',\n",
              " 'XC113629',\n",
              " 'XC113630',\n",
              " 'XC113634',\n",
              " 'XC113797',\n",
              " 'XC115770',\n",
              " 'XC115771',\n",
              " 'XC115772',\n",
              " 'XC115773',\n",
              " 'XC115774',\n",
              " 'XC115775',\n",
              " 'XC115935',\n",
              " 'XC115936',\n",
              " 'XC116693',\n",
              " 'XC117313',\n",
              " 'XC117474',\n",
              " 'XC117969',\n",
              " 'XC117970',\n",
              " 'XC117971',\n",
              " 'XC117972',\n",
              " 'XC117973',\n",
              " 'XC117974',\n",
              " 'XC117975',\n",
              " 'XC117976',\n",
              " 'XC117994',\n",
              " 'XC117995',\n",
              " 'XC117997',\n",
              " 'XC117998',\n",
              " 'XC117999',\n",
              " 'XC118422',\n",
              " 'XC118467',\n",
              " 'XC118468',\n",
              " 'XC118469',\n",
              " 'XC118470',\n",
              " 'XC118475',\n",
              " 'XC118476',\n",
              " 'XC118478',\n",
              " 'XC118905',\n",
              " 'XC118906',\n",
              " 'XC118907',\n",
              " 'XC118908',\n",
              " 'XC118909',\n",
              " 'XC118911',\n",
              " 'XC118912',\n",
              " 'XC118913',\n",
              " 'XC118967',\n",
              " 'XC118969',\n",
              " 'XC118972',\n",
              " 'XC118975',\n",
              " 'XC118978',\n",
              " 'XC119110',\n",
              " 'XC119111',\n",
              " 'XC119112',\n",
              " 'XC119113',\n",
              " 'XC119114',\n",
              " 'XC119115',\n",
              " 'XC119116',\n",
              " 'XC119117',\n",
              " 'XC119118',\n",
              " 'XC119119',\n",
              " 'XC119120',\n",
              " 'XC119121',\n",
              " 'XC119122',\n",
              " 'XC119123',\n",
              " 'XC119124',\n",
              " 'XC119125',\n",
              " 'XC119126',\n",
              " 'XC119127',\n",
              " 'XC119128',\n",
              " 'XC119129',\n",
              " 'XC119130',\n",
              " 'XC119131',\n",
              " 'XC119132',\n",
              " 'XC119133',\n",
              " 'XC119134',\n",
              " 'XC119135',\n",
              " 'XC119136',\n",
              " 'XC119137',\n",
              " 'XC119138',\n",
              " 'XC119139',\n",
              " 'XC119140',\n",
              " 'XC119141',\n",
              " 'XC119142',\n",
              " 'XC119143',\n",
              " 'XC119144',\n",
              " 'XC119145',\n",
              " 'XC119149',\n",
              " 'XC119150',\n",
              " 'XC119151',\n",
              " 'XC119152',\n",
              " 'XC119153',\n",
              " 'XC119154',\n",
              " 'XC119155',\n",
              " 'XC119156',\n",
              " 'XC119158',\n",
              " 'XC119159',\n",
              " 'XC119161',\n",
              " 'XC119162',\n",
              " 'XC119163',\n",
              " 'XC119164',\n",
              " 'XC119212',\n",
              " 'XC119213',\n",
              " 'XC119214',\n",
              " 'XC119215',\n",
              " 'XC119216',\n",
              " 'XC119217',\n",
              " 'XC119218',\n",
              " 'XC119219',\n",
              " 'XC119220',\n",
              " 'XC119221',\n",
              " 'XC119223',\n",
              " 'XC119224',\n",
              " 'XC119225',\n",
              " 'XC119226',\n",
              " 'XC119227',\n",
              " 'XC119228',\n",
              " 'XC119267',\n",
              " 'XC119268',\n",
              " 'XC119269',\n",
              " 'XC119270',\n",
              " 'XC119271',\n",
              " 'XC119272',\n",
              " 'XC119275',\n",
              " 'XC119276',\n",
              " 'XC119277',\n",
              " 'XC119278',\n",
              " 'XC119279',\n",
              " 'XC119280',\n",
              " 'XC119281',\n",
              " 'XC119282',\n",
              " 'XC119283',\n",
              " 'XC119284',\n",
              " 'XC119285',\n",
              " 'XC119286',\n",
              " 'XC119287',\n",
              " 'XC119288',\n",
              " 'XC119289',\n",
              " 'XC119290',\n",
              " 'XC119291',\n",
              " 'XC119292',\n",
              " 'XC119293',\n",
              " 'XC119294',\n",
              " 'XC119295',\n",
              " 'XC119296',\n",
              " 'XC119297',\n",
              " 'XC119298',\n",
              " 'XC119299',\n",
              " 'XC119300',\n",
              " 'XC119301',\n",
              " 'XC119303',\n",
              " 'XC119304',\n",
              " 'XC119305',\n",
              " 'XC119306',\n",
              " 'XC119307',\n",
              " 'XC119308',\n",
              " 'XC119309',\n",
              " 'XC119310',\n",
              " 'XC119311',\n",
              " 'XC119312',\n",
              " 'XC119313',\n",
              " 'XC119314',\n",
              " 'XC119315',\n",
              " 'XC119316',\n",
              " 'XC119317',\n",
              " 'XC119318',\n",
              " 'XC119319',\n",
              " 'XC119320',\n",
              " 'XC119321',\n",
              " 'XC119322',\n",
              " 'XC119323',\n",
              " 'XC119324',\n",
              " 'XC119325',\n",
              " 'XC119326',\n",
              " 'XC119328',\n",
              " 'XC119382',\n",
              " 'XC119383',\n",
              " 'XC119385',\n",
              " 'XC119386',\n",
              " 'XC119387',\n",
              " 'XC119388',\n",
              " 'XC119389',\n",
              " 'XC119390',\n",
              " 'XC119391',\n",
              " 'XC119392',\n",
              " 'XC119393',\n",
              " 'XC119394',\n",
              " 'XC119395',\n",
              " 'XC119396',\n",
              " 'XC119397',\n",
              " 'XC119404',\n",
              " 'XC119405',\n",
              " 'XC119407',\n",
              " 'XC119408',\n",
              " 'XC119409',\n",
              " 'XC119410',\n",
              " 'XC119411',\n",
              " 'XC119412',\n",
              " 'XC119413',\n",
              " 'XC119414',\n",
              " 'XC119415',\n",
              " 'XC119417',\n",
              " 'XC119420',\n",
              " 'XC119421',\n",
              " 'XC119422',\n",
              " 'XC119423',\n",
              " 'XC119424',\n",
              " 'XC119425',\n",
              " 'XC119427',\n",
              " 'XC119428',\n",
              " 'XC119429',\n",
              " 'XC119430',\n",
              " 'XC119431',\n",
              " 'XC119433',\n",
              " 'XC119434',\n",
              " 'XC119436',\n",
              " 'XC119437',\n",
              " 'XC119438',\n",
              " 'XC119439',\n",
              " 'XC119440',\n",
              " 'XC119441',\n",
              " 'XC119442',\n",
              " 'XC119443',\n",
              " 'XC119445',\n",
              " 'XC119588',\n",
              " 'XC119589',\n",
              " 'XC119590',\n",
              " 'XC119595',\n",
              " 'XC119606',\n",
              " 'XC119607',\n",
              " 'XC119608',\n",
              " 'XC119609',\n",
              " 'XC119610',\n",
              " 'XC119611',\n",
              " 'XC119612',\n",
              " 'XC119613',\n",
              " 'XC119614',\n",
              " 'XC119615',\n",
              " 'XC119616',\n",
              " 'XC119617',\n",
              " 'XC119618',\n",
              " 'XC119619',\n",
              " 'XC119620',\n",
              " 'XC119621',\n",
              " 'XC119622',\n",
              " 'XC119623',\n",
              " 'XC119624',\n",
              " 'XC119625',\n",
              " 'XC119626',\n",
              " 'XC120093',\n",
              " 'XC120094',\n",
              " 'XC120095',\n",
              " 'XC120096',\n",
              " 'XC120097',\n",
              " 'XC120098',\n",
              " 'XC120099',\n",
              " 'XC120100',\n",
              " 'XC120101',\n",
              " 'XC120102',\n",
              " 'XC120103',\n",
              " 'XC120105',\n",
              " 'XC120106',\n",
              " 'XC120107',\n",
              " 'XC120318',\n",
              " 'XC120609',\n",
              " 'XC123530',\n",
              " 'XC123543',\n",
              " 'XC123549',\n",
              " 'XC123574',\n",
              " 'XC123575',\n",
              " 'XC123576',\n",
              " 'XC123578',\n",
              " 'XC123579',\n",
              " 'XC123792',\n",
              " 'XC123905',\n",
              " 'XC123916',\n",
              " 'XC123917',\n",
              " 'XC123918',\n",
              " 'XC123919',\n",
              " 'XC124751',\n",
              " 'XC131747',\n",
              " 'XC131755',\n",
              " 'XC131756',\n",
              " 'XC131757',\n",
              " 'XC132119',\n",
              " 'XC132120',\n",
              " 'XC132121',\n",
              " 'XC132162',\n",
              " 'XC132702',\n",
              " 'XC139420',\n",
              " 'XC139426',\n",
              " 'XC139506',\n",
              " 'XC139701',\n",
              " 'XC139984',\n",
              " 'XC139986',\n",
              " 'XC139988',\n",
              " 'XC139989',\n",
              " 'XC139991',\n",
              " 'XC139993',\n",
              " 'XC139994',\n",
              " 'XC139995',\n",
              " 'XC139996',\n",
              " 'XC139997',\n",
              " 'XC141595',\n",
              " 'XC141597',\n",
              " 'XC141771',\n",
              " 'XC141776',\n",
              " 'XC141777',\n",
              " 'XC141778',\n",
              " 'XC141779',\n",
              " 'XC141780',\n",
              " 'XC141781',\n",
              " 'XC141782',\n",
              " 'XC141783',\n",
              " 'XC141784',\n",
              " 'XC142165',\n",
              " 'XC142167',\n",
              " 'XC142168',\n",
              " 'XC142170',\n",
              " 'XC142171',\n",
              " 'XC142172',\n",
              " 'XC142174',\n",
              " 'XC142175',\n",
              " 'XC142177',\n",
              " 'XC142178',\n",
              " 'XC142180',\n",
              " 'XC142278',\n",
              " 'XC142279',\n",
              " 'XC142281',\n",
              " 'XC142903',\n",
              " 'XC144122',\n",
              " 'XC144156',\n",
              " 'XC144160',\n",
              " 'XC144161',\n",
              " 'XC144162',\n",
              " 'XC144163',\n",
              " 'XC144164',\n",
              " 'XC144165',\n",
              " 'XC144166',\n",
              " 'XC144167',\n",
              " 'XC144168',\n",
              " 'XC144169',\n",
              " 'XC144170',\n",
              " 'XC144171',\n",
              " 'XC144172',\n",
              " 'XC144173',\n",
              " 'XC144174',\n",
              " 'XC144175',\n",
              " 'XC144177',\n",
              " 'XC144180',\n",
              " 'XC144181',\n",
              " 'XC144182',\n",
              " 'XC144460',\n",
              " 'XC144465',\n",
              " 'XC144692',\n",
              " 'XC144694',\n",
              " 'XC145548',\n",
              " 'XC145549',\n",
              " 'XC147698',\n",
              " 'XC147700',\n",
              " 'XC147701',\n",
              " 'XC147702',\n",
              " 'XC147703',\n",
              " 'XC147704',\n",
              " 'XC147706',\n",
              " 'XC148412',\n",
              " 'XC148413',\n",
              " 'XC148414',\n",
              " 'XC148415',\n",
              " 'XC148547',\n",
              " 'XC148550',\n",
              " 'XC148606',\n",
              " 'XC148608',\n",
              " 'XC148609',\n",
              " 'XC148613',\n",
              " 'XC152860',\n",
              " 'XC152977',\n",
              " 'XC153097',\n",
              " 'XC153650',\n",
              " 'XC155207',\n",
              " 'XC155214',\n",
              " 'XC155225',\n",
              " 'XC155381',\n",
              " 'XC155382',\n",
              " 'XC162806',\n",
              " 'XC163201',\n",
              " 'XC163202',\n",
              " 'XC163371',\n",
              " 'XC163373',\n",
              " 'XC163402',\n",
              " 'XC163406',\n",
              " 'XC163407',\n",
              " 'XC163563',\n",
              " 'XC163564',\n",
              " 'XC163569',\n",
              " 'XC163570',\n",
              " 'XC163571',\n",
              " 'XC163572',\n",
              " 'XC163573',\n",
              " 'XC163574',\n",
              " 'XC163576',\n",
              " 'XC163577',\n",
              " 'XC163578',\n",
              " 'XC163579',\n",
              " 'XC163580',\n",
              " 'XC163581',\n",
              " 'XC163582',\n",
              " 'XC163583',\n",
              " 'XC163584',\n",
              " 'XC163585',\n",
              " 'XC163586',\n",
              " 'XC163591',\n",
              " 'XC163592',\n",
              " 'XC163593',\n",
              " 'XC163594',\n",
              " 'XC163596',\n",
              " 'XC164092',\n",
              " 'XC170049',\n",
              " 'XC170050',\n",
              " 'XC170051',\n",
              " 'XC170053',\n",
              " 'XC170054',\n",
              " 'XC171043',\n",
              " 'XC171044',\n",
              " 'XC171045',\n",
              " 'XC171046',\n",
              " 'XC171047',\n",
              " 'XC171048',\n",
              " 'XC171054',\n",
              " 'XC171059',\n",
              " 'XC171060',\n",
              " 'XC171091',\n",
              " 'XC171096',\n",
              " 'XC171106',\n",
              " 'XC171110',\n",
              " 'XC171111',\n",
              " 'XC171114',\n",
              " 'XC171117',\n",
              " 'XC171119',\n",
              " 'XC171120',\n",
              " 'XC171775',\n",
              " 'XC171776',\n",
              " 'XC174158',\n",
              " 'XC174671',\n",
              " 'XC175873',\n",
              " 'XC176862',\n",
              " 'XC177154',\n",
              " 'XC179533',\n",
              " 'XC179534',\n",
              " 'XC179535',\n",
              " 'XC179536',\n",
              " 'XC179538',\n",
              " 'XC179539',\n",
              " 'XC179540',\n",
              " 'XC179541',\n",
              " 'XC179542',\n",
              " 'XC179543',\n",
              " 'XC179839',\n",
              " 'XC179840',\n",
              " 'XC180521',\n",
              " 'XC180525',\n",
              " 'XC180526',\n",
              " 'XC180527',\n",
              " 'XC180528',\n",
              " 'XC180529',\n",
              " 'XC180531',\n",
              " 'XC180532',\n",
              " 'XC180533',\n",
              " 'XC180535',\n",
              " 'XC180536',\n",
              " 'XC180537',\n",
              " 'XC180538',\n",
              " 'XC180903',\n",
              " 'XC180904',\n",
              " 'XC180905',\n",
              " 'XC180908',\n",
              " 'XC181547',\n",
              " 'XC181829',\n",
              " 'XC181831',\n",
              " 'XC181834',\n",
              " 'XC182127',\n",
              " 'XC182630',\n",
              " 'XC182753',\n",
              " 'XC183060',\n",
              " 'XC183083',\n",
              " 'XC186184',\n",
              " 'XC188518',\n",
              " 'XC188520',\n",
              " 'XC188523',\n",
              " 'XC188528',\n",
              " 'XC188529',\n",
              " 'XC188530',\n",
              " 'XC188533',\n",
              " 'XC188534',\n",
              " 'XC188535',\n",
              " 'XC188540',\n",
              " 'XC188541',\n",
              " 'XC188547',\n",
              " 'XC188548',\n",
              " 'XC188549',\n",
              " 'XC188551',\n",
              " 'XC188552',\n",
              " 'XC188554',\n",
              " 'XC188612',\n",
              " 'XC188614',\n",
              " 'XC188615',\n",
              " 'XC188622',\n",
              " 'XC188624',\n",
              " 'XC188625',\n",
              " 'XC188626',\n",
              " 'XC188628',\n",
              " 'XC188629',\n",
              " 'XC188632',\n",
              " 'XC188633',\n",
              " 'XC188634',\n",
              " 'XC188635',\n",
              " 'XC188638',\n",
              " 'XC188639',\n",
              " 'XC188641',\n",
              " 'XC188643',\n",
              " 'XC188645',\n",
              " 'XC188646',\n",
              " 'XC188647',\n",
              " 'XC188648',\n",
              " 'XC188649',\n",
              " 'XC188650',\n",
              " 'XC188652',\n",
              " 'XC188654',\n",
              " 'XC188655',\n",
              " 'XC188657',\n",
              " 'XC188659',\n",
              " 'XC188661',\n",
              " 'XC188662',\n",
              " 'XC188663',\n",
              " 'XC188665',\n",
              " 'XC188666',\n",
              " 'XC190599',\n",
              " 'XC190600',\n",
              " 'XC190752',\n",
              " 'XC190753',\n",
              " 'XC193820',\n",
              " 'XC194605',\n",
              " 'XC194935',\n",
              " 'XC195848',\n",
              " 'XC197443',\n",
              " 'XC197478',\n",
              " 'XC200163',\n",
              " 'XC200179',\n",
              " 'XC200188',\n",
              " 'XC200253',\n",
              " 'XC200346',\n",
              " 'XC200374',\n",
              " 'XC201196',\n",
              " 'XC201846',\n",
              " 'XC201863',\n",
              " 'XC201864',\n",
              " 'XC201985',\n",
              " 'XC201987',\n",
              " 'XC201988',\n",
              " 'XC201995',\n",
              " 'XC201996',\n",
              " 'XC201997',\n",
              " 'XC202004',\n",
              " 'XC202197',\n",
              " 'XC202198',\n",
              " 'XC202322',\n",
              " 'XC202323',\n",
              " 'XC202324',\n",
              " 'XC202329',\n",
              " 'XC202336',\n",
              " 'XC202361',\n",
              " 'XC202362',\n",
              " 'XC202412',\n",
              " 'XC202418',\n",
              " 'XC202419',\n",
              " 'XC202472',\n",
              " 'XC202720',\n",
              " 'XC202727',\n",
              " 'XC202731',\n",
              " 'XC202742',\n",
              " 'XC202743',\n",
              " 'XC202910',\n",
              " 'XC202912',\n",
              " 'XC202923',\n",
              " 'XC202925',\n",
              " 'XC202930',\n",
              " 'XC202954',\n",
              " 'XC203218',\n",
              " 'XC203228',\n",
              " 'XC203229',\n",
              " 'XC203239',\n",
              " 'XC204088',\n",
              " 'XC204089',\n",
              " 'XC204091',\n",
              " 'XC204092',\n",
              " 'XC204093',\n",
              " 'XC204094',\n",
              " 'XC204946',\n",
              " 'XC204959',\n",
              " 'XC204960',\n",
              " 'XC204961',\n",
              " 'XC205223',\n",
              " 'XC205635',\n",
              " 'XC205637',\n",
              " 'XC205639',\n",
              " 'XC205644',\n",
              " 'XC205645',\n",
              " 'XC205649',\n",
              " 'XC205656',\n",
              " 'XC205658',\n",
              " 'XC205660',\n",
              " 'XC206717',\n",
              " 'XC206719',\n",
              " 'XC206722',\n",
              " 'XC206724',\n",
              " 'XC206725',\n",
              " 'XC206726',\n",
              " 'XC206727',\n",
              " 'XC206729',\n",
              " 'XC206730',\n",
              " 'XC206731',\n",
              " 'XC206732',\n",
              " 'XC206733',\n",
              " 'XC206734',\n",
              " 'XC206736',\n",
              " 'XC206737',\n",
              " 'XC206738',\n",
              " 'XC206739',\n",
              " 'XC206740',\n",
              " 'XC206741',\n",
              " 'XC206742',\n",
              " 'XC206743',\n",
              " 'XC206745',\n",
              " 'XC206784',\n",
              " 'XC206786',\n",
              " 'XC206787',\n",
              " 'XC206788',\n",
              " 'XC206789',\n",
              " 'XC206790',\n",
              " 'XC206791',\n",
              " 'XC206792',\n",
              " 'XC206793',\n",
              " 'XC206794',\n",
              " 'XC206795',\n",
              " 'XC206796',\n",
              " 'XC206797',\n",
              " 'XC206799',\n",
              " 'XC206800',\n",
              " 'XC206801',\n",
              " 'XC206802',\n",
              " 'XC206803',\n",
              " 'XC206823',\n",
              " 'XC206935',\n",
              " 'XC206936',\n",
              " 'XC206937',\n",
              " 'XC206938',\n",
              " 'XC206939',\n",
              " 'XC206940',\n",
              " 'XC206941',\n",
              " 'XC206943',\n",
              " 'XC206944',\n",
              " 'XC206945',\n",
              " 'XC206946',\n",
              " 'XC206947',\n",
              " 'XC206948',\n",
              " 'XC206949',\n",
              " 'XC206950',\n",
              " 'XC206951',\n",
              " 'XC206953',\n",
              " 'XC206958',\n",
              " 'XC206959',\n",
              " 'XC206960',\n",
              " 'XC206961',\n",
              " 'XC206963',\n",
              " 'XC206964',\n",
              " 'XC206965',\n",
              " 'XC206966',\n",
              " 'XC206967',\n",
              " 'XC206968',\n",
              " 'XC206969',\n",
              " 'XC206970',\n",
              " 'XC206971',\n",
              " 'XC206972',\n",
              " 'XC206973',\n",
              " 'XC207049',\n",
              " 'XC207146',\n",
              " 'XC207160',\n",
              " 'XC209986',\n",
              " 'XC210029',\n",
              " 'XC210034',\n",
              " 'XC210045',\n",
              " 'XC210047',\n",
              " 'XC210057',\n",
              " 'XC210058',\n",
              " 'XC210072',\n",
              " 'XC210951',\n",
              " 'XC210980',\n",
              " 'XC211168',\n",
              " 'XC211182',\n",
              " 'XC211283',\n",
              " 'XC211285',\n",
              " 'XC211286',\n",
              " 'XC211287',\n",
              " 'XC211289',\n",
              " 'XC211290',\n",
              " 'XC211389',\n",
              " 'XC211444',\n",
              " 'XC211445',\n",
              " 'XC211451',\n",
              " 'XC211509',\n",
              " 'XC211519',\n",
              " 'XC211523',\n",
              " 'XC211524',\n",
              " 'XC211903',\n",
              " 'XC212151',\n",
              " 'XC212152',\n",
              " 'XC212339',\n",
              " 'XC212831',\n",
              " 'XC212832',\n",
              " 'XC212845',\n",
              " 'XC212908',\n",
              " 'XC213997',\n",
              " 'XC214635',\n",
              " 'XC214937',\n",
              " 'XC215277',\n",
              " 'XC215508',\n",
              " 'XC215625',\n",
              " 'XC216336',\n",
              " 'XC216722',\n",
              " 'XC216807',\n",
              " 'XC216810',\n",
              " 'XC218306',\n",
              " 'XC218574',\n",
              " 'XC218576',\n",
              " 'XC218889',\n",
              " 'XC218890',\n",
              " 'XC218891',\n",
              " 'XC219011',\n",
              " 'XC219012',\n",
              " 'XC219013',\n",
              " 'XC219074',\n",
              " 'XC219276',\n",
              " 'XC219302',\n",
              " 'XC219303',\n",
              " 'XC219430',\n",
              " 'XC219454',\n",
              " 'XC219455',\n",
              " 'XC219456',\n",
              " 'XC219464',\n",
              " 'XC219764',\n",
              " 'XC219810',\n",
              " 'XC219811',\n",
              " 'XC219815',\n",
              " 'XC219964',\n",
              " 'XC219979',\n",
              " 'XC220126',\n",
              " 'XC220129',\n",
              " 'XC220130',\n",
              " 'XC220153',\n",
              " 'XC220159',\n",
              " 'XC220160',\n",
              " 'XC220162',\n",
              " 'XC220194',\n",
              " 'XC220195',\n",
              " 'XC220198',\n",
              " 'XC220205',\n",
              " 'XC220253',\n",
              " 'XC220321',\n",
              " 'XC220334',\n",
              " 'XC220335',\n",
              " 'XC220374',\n",
              " 'XC220384',\n",
              " 'XC220533',\n",
              " 'XC220658',\n",
              " 'XC220674',\n",
              " 'XC220685',\n",
              " 'XC220700',\n",
              " 'XC220762',\n",
              " 'XC220763',\n",
              " 'XC220764',\n",
              " 'XC220787',\n",
              " 'XC220821',\n",
              " 'XC221059',\n",
              " 'XC221066',\n",
              " 'XC221191',\n",
              " 'XC221203',\n",
              " 'XC221244',\n",
              " 'XC221245',\n",
              " 'XC221320',\n",
              " 'XC221391',\n",
              " 'XC221404',\n",
              " 'XC221473',\n",
              " 'XC221474',\n",
              " 'XC221752',\n",
              " 'XC221753',\n",
              " 'XC221760',\n",
              " 'XC221763',\n",
              " 'XC221779',\n",
              " 'XC221796',\n",
              " 'XC221821',\n",
              " 'XC221894',\n",
              " 'XC221944',\n",
              " 'XC221983',\n",
              " 'XC222084',\n",
              " 'XC222124',\n",
              " 'XC222157',\n",
              " 'XC222201',\n",
              " 'XC222294',\n",
              " 'XC222298',\n",
              " 'XC222299',\n",
              " 'XC222304',\n",
              " 'XC222305',\n",
              " 'XC222383',\n",
              " 'XC222385',\n",
              " 'XC222417',\n",
              " 'XC222575',\n",
              " 'XC222576',\n",
              " 'XC222715',\n",
              " 'XC222859',\n",
              " 'XC222860',\n",
              " 'XC222861',\n",
              " 'XC222863',\n",
              " 'XC222866',\n",
              " 'XC222874',\n",
              " 'XC222879',\n",
              " 'XC222883',\n",
              " 'XC222930',\n",
              " 'XC222931',\n",
              " 'XC222933',\n",
              " 'XC222934',\n",
              " 'XC222985',\n",
              " 'XC223018',\n",
              " 'XC223030',\n",
              " 'XC223123',\n",
              " 'XC223203',\n",
              " 'XC223204',\n",
              " 'XC223213',\n",
              " 'XC223214',\n",
              " 'XC223215',\n",
              " 'XC223271',\n",
              " 'XC223277',\n",
              " 'XC223293',\n",
              " 'XC223294',\n",
              " 'XC223303',\n",
              " 'XC223389',\n",
              " 'XC223514',\n",
              " 'XC223515',\n",
              " 'XC223516',\n",
              " 'XC223517',\n",
              " 'XC223518',\n",
              " 'XC223522',\n",
              " 'XC223523',\n",
              " 'XC223538',\n",
              " 'XC223554',\n",
              " 'XC223555',\n",
              " 'XC223556',\n",
              " 'XC223568',\n",
              " 'XC223669',\n",
              " 'XC223687',\n",
              " 'XC223689',\n",
              " 'XC223690',\n",
              " 'XC223691',\n",
              " 'XC223692',\n",
              " 'XC223808',\n",
              " 'XC223812',\n",
              " 'XC223819',\n",
              " 'XC223932',\n",
              " 'XC224035',\n",
              " 'XC224036',\n",
              " 'XC224037',\n",
              " 'XC224038',\n",
              " 'XC224131',\n",
              " 'XC224132',\n",
              " 'XC224133',\n",
              " 'XC224134',\n",
              " 'XC224135',\n",
              " 'XC224136',\n",
              " 'XC224137',\n",
              " 'XC224222',\n",
              " 'XC224223',\n",
              " 'XC224277',\n",
              " 'XC224336',\n",
              " 'XC224337',\n",
              " 'XC224338',\n",
              " 'XC224339',\n",
              " 'XC224340',\n",
              " 'XC224341',\n",
              " 'XC224342',\n",
              " 'XC224361',\n",
              " 'XC224372',\n",
              " 'XC224375',\n",
              " 'XC224380',\n",
              " 'XC224384',\n",
              " 'XC224386',\n",
              " 'XC224387',\n",
              " 'XC224388',\n",
              " 'XC224391',\n",
              " 'XC224459',\n",
              " 'XC224492',\n",
              " 'XC224497',\n",
              " 'XC224500',\n",
              " 'XC224503',\n",
              " 'XC224506',\n",
              " 'XC224507',\n",
              " 'XC224508',\n",
              " 'XC224509',\n",
              " 'XC224513',\n",
              " 'XC224514',\n",
              " 'XC224515',\n",
              " 'XC224543',\n",
              " 'XC224547',\n",
              " 'XC224549',\n",
              " 'XC224585',\n",
              " 'XC224658',\n",
              " 'XC224659',\n",
              " 'XC224660',\n",
              " 'XC224661',\n",
              " 'XC224662',\n",
              " 'XC224672',\n",
              " 'XC224673',\n",
              " 'XC224675',\n",
              " 'XC224692',\n",
              " 'XC224736',\n",
              " 'XC224780',\n",
              " 'XC224797',\n",
              " 'XC224844',\n",
              " 'XC224845',\n",
              " 'XC224849',\n",
              " 'XC225021',\n",
              " 'XC225079',\n",
              " 'XC225117',\n",
              " 'XC225161',\n",
              " 'XC225190',\n",
              " 'XC225203',\n",
              " 'XC225204',\n",
              " 'XC225205',\n",
              " 'XC225228',\n",
              " 'XC225232',\n",
              " 'XC225233',\n",
              " 'XC225382',\n",
              " 'XC225711',\n",
              " 'XC225718',\n",
              " 'XC225733',\n",
              " 'XC225735',\n",
              " 'XC225736',\n",
              " 'XC225737',\n",
              " 'XC225738',\n",
              " 'XC225739',\n",
              " 'XC225740',\n",
              " 'XC225823',\n",
              " 'XC225824',\n",
              " 'XC225825',\n",
              " 'XC225830',\n",
              " 'XC225831',\n",
              " 'XC225914',\n",
              " 'XC225957',\n",
              " 'XC226093',\n",
              " 'XC226191',\n",
              " 'XC226242',\n",
              " 'XC226248',\n",
              " 'XC226249',\n",
              " 'XC226275',\n",
              " 'XC226284',\n",
              " 'XC226285',\n",
              " 'XC226286',\n",
              " 'XC226287',\n",
              " 'XC226289',\n",
              " 'XC226291',\n",
              " 'XC226292',\n",
              " 'XC226299',\n",
              " 'XC226341',\n",
              " 'XC226361',\n",
              " 'XC226362',\n",
              " 'XC226363',\n",
              " 'XC226364',\n",
              " 'XC226365',\n",
              " 'XC226366',\n",
              " 'XC226442',\n",
              " 'XC226443',\n",
              " 'XC226452',\n",
              " 'XC226453',\n",
              " 'XC226454',\n",
              " 'XC226455',\n",
              " 'XC226456',\n",
              " 'XC226459',\n",
              " 'XC226460',\n",
              " 'XC226461',\n",
              " 'XC226462',\n",
              " 'XC226465',\n",
              " 'XC226466',\n",
              " 'XC226467',\n",
              " ...]"
            ]
          },
          "metadata": {},
          "execution_count": 20
        }
      ]
    },
    {
      "cell_type": "code",
      "source": [
        "prepend = \"\""
      ],
      "metadata": {
        "id": "IGMrcJU1-jY-"
      },
      "execution_count": null,
      "outputs": []
    },
    {
      "cell_type": "code",
      "source": [
        "### Checking if all songs are in df\n",
        "len(list(set(file_names_df) & set(song_names_xeno)))\n",
        "\n",
        "# So only 2751/3882 will have latitude and longitude data..."
      ],
      "metadata": {
        "colab": {
          "base_uri": "https://localhost:8080/"
        },
        "id": "g6i-K6bLAtQ3",
        "outputId": "464b5aa6-23e8-4e3b-fc6b-f10b76f75cef"
      },
      "execution_count": null,
      "outputs": [
        {
          "output_type": "execute_result",
          "data": {
            "text/plain": [
              "2751"
            ]
          },
          "metadata": {},
          "execution_count": 24
        }
      ]
    },
    {
      "cell_type": "code",
      "source": [],
      "metadata": {
        "id": "X86y_8xcDROy"
      },
      "execution_count": null,
      "outputs": []
    }
  ]
}